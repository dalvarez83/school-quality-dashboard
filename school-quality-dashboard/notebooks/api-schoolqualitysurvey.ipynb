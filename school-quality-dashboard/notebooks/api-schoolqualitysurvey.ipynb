{
 "cells": [
  {
   "cell_type": "markdown",
   "id": "1e501484",
   "metadata": {},
   "source": [
    "See developer site:\n",
    "\n",
    "https://dev.socrata.com/foundry/data.cityofnewyork.us/jtpv-nuuc\n",
    "\n",
    "NYC Open Data site on this survey:\n",
    "\n",
    "https://data.cityofnewyork.us/Education/2019-20-School-Quality-Guide-Elementary-Middle-Sch/jtpv-nuuc"
   ]
  },
  {
   "cell_type": "code",
   "execution_count": 1,
   "id": "be46a33f",
   "metadata": {},
   "outputs": [
    {
     "name": "stdout",
     "output_type": "stream",
     "text": [
      "5.1.3\n"
     ]
    },
    {
     "name": "stderr",
     "output_type": "stream",
     "text": [
      "<ipython-input-1-ca8d8a695734>:8: UserWarning: \n",
      "The dash_core_components package is deprecated. Please replace\n",
      "`import dash_core_components as dcc` with `from dash import dcc`\n",
      "  import dash_core_components as dcc\n",
      "<ipython-input-1-ca8d8a695734>:9: UserWarning: \n",
      "The dash_html_components package is deprecated. Please replace\n",
      "`import dash_html_components as html` with `from dash import html`\n",
      "  import dash_html_components as html\n"
     ]
    }
   ],
   "source": [
    "#load libraries\n",
    "import numpy as np\n",
    "import seaborn as sns\n",
    "import matplotlib.pyplot as plt\n",
    "\n",
    "import plotly.express as px\n",
    "import dash\n",
    "import dash_core_components as dcc\n",
    "import dash_html_components as html\n",
    "import nbformat\n",
    "print(nbformat.__version__)"
   ]
  },
  {
   "cell_type": "code",
   "execution_count": 2,
   "id": "1b00aaf5",
   "metadata": {},
   "outputs": [
    {
     "name": "stderr",
     "output_type": "stream",
     "text": [
      "WARNING:root:Requests made without an app_token will be subject to strict throttling limits.\n"
     ]
    }
   ],
   "source": [
    "#!/usr/bin/env python\n",
    "\n",
    "# make sure to install these packages before running:\n",
    "# pip install pandas\n",
    "# pip install sodapy\n",
    "\n",
    "import pandas as pd\n",
    "from sodapy import Socrata\n",
    "\n",
    "# Unauthenticated client only works with public data sets. Note 'None'\n",
    "# in place of application token, and no username or password:\n",
    "client = Socrata(\"data.cityofnewyork.us\", None)\n",
    "\n",
    "# Example authenticated client (needed for non-public datasets):\n",
    "# client = Socrata(data.cityofnewyork.us,\n",
    "#                  MyAppToken,\n",
    "#                  userame=\"user@example.com\",\n",
    "#                  password=\"AFakePassword\")\n",
    "\n",
    "# First 2000 results, returned as JSON from API / converted to Python list of\n",
    "# dictionaries by sodapy.\n",
    "results = client.get(\"jtpv-nuuc\", limit=2000)\n",
    "\n",
    "# Convert to pandas DataFrame\n",
    "results_df = pd.DataFrame.from_records(results)"
   ]
  },
  {
   "cell_type": "code",
   "execution_count": 3,
   "id": "db072fe9",
   "metadata": {},
   "outputs": [
    {
     "data": {
      "text/plain": [
       "(1311, 146)"
      ]
     },
     "execution_count": 3,
     "metadata": {},
     "output_type": "execute_result"
    }
   ],
   "source": [
    "results_df.shape"
   ]
  },
  {
   "cell_type": "code",
   "execution_count": 4,
   "id": "63ddf606",
   "metadata": {},
   "outputs": [
    {
     "data": {
      "text/html": [
       "<div>\n",
       "<style scoped>\n",
       "    .dataframe tbody tr th:only-of-type {\n",
       "        vertical-align: middle;\n",
       "    }\n",
       "\n",
       "    .dataframe tbody tr th {\n",
       "        vertical-align: top;\n",
       "    }\n",
       "\n",
       "    .dataframe thead th {\n",
       "        text-align: right;\n",
       "    }\n",
       "</style>\n",
       "<table border=\"1\" class=\"dataframe\">\n",
       "  <thead>\n",
       "    <tr style=\"text-align: right;\">\n",
       "      <th></th>\n",
       "      <th>dbn</th>\n",
       "      <th>school_name</th>\n",
       "      <th>school_type</th>\n",
       "      <th>enrollment</th>\n",
       "      <th>survey_pp_ri</th>\n",
       "      <th>survey_pp_ct</th>\n",
       "      <th>survey_pp_se</th>\n",
       "      <th>survey_pp_es</th>\n",
       "      <th>survey_pp_sf</th>\n",
       "      <th>survey_pp_tr</th>\n",
       "      <th>...</th>\n",
       "      <th>n_prof_2plus_watn3_mthlevel1</th>\n",
       "      <th>val_prof_2plus_watn3_mthlevel1</th>\n",
       "      <th>n_prof_pct_watn3_elalevel2</th>\n",
       "      <th>val_prof_pct_watn3_elalevel2</th>\n",
       "      <th>n_prof_pct_watn3_elalevel34</th>\n",
       "      <th>val_prof_pct_watn3_elalevel34</th>\n",
       "      <th>n_prof_pct_watn3_mthlevel2</th>\n",
       "      <th>val_prof_pct_watn3_mthlevel2</th>\n",
       "      <th>n_prof_pct_watn3_mthlevel34</th>\n",
       "      <th>val_prof_pct_watn3_mthlevel34</th>\n",
       "    </tr>\n",
       "  </thead>\n",
       "  <tbody>\n",
       "    <tr>\n",
       "      <th>0</th>\n",
       "      <td>01M015</td>\n",
       "      <td>P.S. 015 Roberto Clemente</td>\n",
       "      <td>Elementary</td>\n",
       "      <td>176</td>\n",
       "      <td>0.82</td>\n",
       "      <td>0.91</td>\n",
       "      <td>0.84</td>\n",
       "      <td>0.92</td>\n",
       "      <td>0.97</td>\n",
       "      <td>0.94</td>\n",
       "      <td>...</td>\n",
       "      <td>3</td>\n",
       "      <td>No Data</td>\n",
       "      <td>6</td>\n",
       "      <td>No Data</td>\n",
       "      <td>12</td>\n",
       "      <td>No Data</td>\n",
       "      <td>10</td>\n",
       "      <td>No Data</td>\n",
       "      <td>11</td>\n",
       "      <td>No Data</td>\n",
       "    </tr>\n",
       "    <tr>\n",
       "      <th>1</th>\n",
       "      <td>01M019</td>\n",
       "      <td>P.S. 019 Asher Levy</td>\n",
       "      <td>Elementary</td>\n",
       "      <td>220</td>\n",
       "      <td>0.87</td>\n",
       "      <td>0.91</td>\n",
       "      <td>0.94</td>\n",
       "      <td>0.9</td>\n",
       "      <td>0.96</td>\n",
       "      <td>0.91</td>\n",
       "      <td>...</td>\n",
       "      <td>3</td>\n",
       "      <td>No Data</td>\n",
       "      <td>7</td>\n",
       "      <td>No Data</td>\n",
       "      <td>18</td>\n",
       "      <td>0.778</td>\n",
       "      <td>4</td>\n",
       "      <td>No Data</td>\n",
       "      <td>21</td>\n",
       "      <td>0.667</td>\n",
       "    </tr>\n",
       "    <tr>\n",
       "      <th>2</th>\n",
       "      <td>01M020</td>\n",
       "      <td>P.S. 020 Anna Silver</td>\n",
       "      <td>Elementary</td>\n",
       "      <td>423</td>\n",
       "      <td>0.73</td>\n",
       "      <td>0.88</td>\n",
       "      <td>0.83</td>\n",
       "      <td>0.92</td>\n",
       "      <td>0.96</td>\n",
       "      <td>0.96</td>\n",
       "      <td>...</td>\n",
       "      <td>25</td>\n",
       "      <td>0.2</td>\n",
       "      <td>28</td>\n",
       "      <td>0.214</td>\n",
       "      <td>22</td>\n",
       "      <td>0.591</td>\n",
       "      <td>21</td>\n",
       "      <td>0.238</td>\n",
       "      <td>25</td>\n",
       "      <td>0.92</td>\n",
       "    </tr>\n",
       "    <tr>\n",
       "      <th>3</th>\n",
       "      <td>01M034</td>\n",
       "      <td>P.S. 034 Franklin D. Roosevelt</td>\n",
       "      <td>K-8</td>\n",
       "      <td>279</td>\n",
       "      <td>0.6</td>\n",
       "      <td>0.67</td>\n",
       "      <td>0.66</td>\n",
       "      <td>0.79</td>\n",
       "      <td>0.92</td>\n",
       "      <td>0.88</td>\n",
       "      <td>...</td>\n",
       "      <td>No Data</td>\n",
       "      <td>No Data</td>\n",
       "      <td>No Data</td>\n",
       "      <td>No Data</td>\n",
       "      <td>No Data</td>\n",
       "      <td>No Data</td>\n",
       "      <td>No Data</td>\n",
       "      <td>No Data</td>\n",
       "      <td>No Data</td>\n",
       "      <td>No Data</td>\n",
       "    </tr>\n",
       "    <tr>\n",
       "      <th>4</th>\n",
       "      <td>01M063</td>\n",
       "      <td>The STAR Academy - P.S.63</td>\n",
       "      <td>Elementary</td>\n",
       "      <td>203</td>\n",
       "      <td>0.72</td>\n",
       "      <td>0.87</td>\n",
       "      <td>0.83</td>\n",
       "      <td>0.94</td>\n",
       "      <td>0.97</td>\n",
       "      <td>0.94</td>\n",
       "      <td>...</td>\n",
       "      <td>2</td>\n",
       "      <td>No Data</td>\n",
       "      <td>6</td>\n",
       "      <td>No Data</td>\n",
       "      <td>14</td>\n",
       "      <td>No Data</td>\n",
       "      <td>8</td>\n",
       "      <td>No Data</td>\n",
       "      <td>10</td>\n",
       "      <td>No Data</td>\n",
       "    </tr>\n",
       "  </tbody>\n",
       "</table>\n",
       "<p>5 rows × 146 columns</p>\n",
       "</div>"
      ],
      "text/plain": [
       "      dbn                     school_name school_type enrollment survey_pp_ri  \\\n",
       "0  01M015       P.S. 015 Roberto Clemente  Elementary        176         0.82   \n",
       "1  01M019             P.S. 019 Asher Levy  Elementary        220         0.87   \n",
       "2  01M020            P.S. 020 Anna Silver  Elementary        423         0.73   \n",
       "3  01M034  P.S. 034 Franklin D. Roosevelt         K-8        279          0.6   \n",
       "4  01M063       The STAR Academy - P.S.63  Elementary        203         0.72   \n",
       "\n",
       "  survey_pp_ct survey_pp_se survey_pp_es survey_pp_sf survey_pp_tr  ...  \\\n",
       "0         0.91         0.84         0.92         0.97         0.94  ...   \n",
       "1         0.91         0.94          0.9         0.96         0.91  ...   \n",
       "2         0.88         0.83         0.92         0.96         0.96  ...   \n",
       "3         0.67         0.66         0.79         0.92         0.88  ...   \n",
       "4         0.87         0.83         0.94         0.97         0.94  ...   \n",
       "\n",
       "  n_prof_2plus_watn3_mthlevel1 val_prof_2plus_watn3_mthlevel1  \\\n",
       "0                            3                        No Data   \n",
       "1                            3                        No Data   \n",
       "2                           25                            0.2   \n",
       "3                      No Data                        No Data   \n",
       "4                            2                        No Data   \n",
       "\n",
       "  n_prof_pct_watn3_elalevel2 val_prof_pct_watn3_elalevel2  \\\n",
       "0                          6                      No Data   \n",
       "1                          7                      No Data   \n",
       "2                         28                        0.214   \n",
       "3                    No Data                      No Data   \n",
       "4                          6                      No Data   \n",
       "\n",
       "  n_prof_pct_watn3_elalevel34 val_prof_pct_watn3_elalevel34  \\\n",
       "0                          12                       No Data   \n",
       "1                          18                         0.778   \n",
       "2                          22                         0.591   \n",
       "3                     No Data                       No Data   \n",
       "4                          14                       No Data   \n",
       "\n",
       "  n_prof_pct_watn3_mthlevel2 val_prof_pct_watn3_mthlevel2  \\\n",
       "0                         10                      No Data   \n",
       "1                          4                      No Data   \n",
       "2                         21                        0.238   \n",
       "3                    No Data                      No Data   \n",
       "4                          8                      No Data   \n",
       "\n",
       "  n_prof_pct_watn3_mthlevel34 val_prof_pct_watn3_mthlevel34  \n",
       "0                          11                       No Data  \n",
       "1                          21                         0.667  \n",
       "2                          25                          0.92  \n",
       "3                     No Data                       No Data  \n",
       "4                          10                       No Data  \n",
       "\n",
       "[5 rows x 146 columns]"
      ]
     },
     "execution_count": 4,
     "metadata": {},
     "output_type": "execute_result"
    }
   ],
   "source": [
    "results_df.head()"
   ]
  },
  {
   "cell_type": "code",
   "execution_count": 5,
   "id": "99298cc7",
   "metadata": {},
   "outputs": [
    {
     "data": {
      "text/html": [
       "<div>\n",
       "<style scoped>\n",
       "    .dataframe tbody tr th:only-of-type {\n",
       "        vertical-align: middle;\n",
       "    }\n",
       "\n",
       "    .dataframe tbody tr th {\n",
       "        vertical-align: top;\n",
       "    }\n",
       "\n",
       "    .dataframe thead th {\n",
       "        text-align: right;\n",
       "    }\n",
       "</style>\n",
       "<table border=\"1\" class=\"dataframe\">\n",
       "  <thead>\n",
       "    <tr style=\"text-align: right;\">\n",
       "      <th></th>\n",
       "      <th>dbn</th>\n",
       "      <th>school_name</th>\n",
       "      <th>school_type</th>\n",
       "      <th>enrollment</th>\n",
       "      <th>survey_pp_ri</th>\n",
       "      <th>survey_pp_ct</th>\n",
       "      <th>survey_pp_se</th>\n",
       "      <th>survey_pp_es</th>\n",
       "      <th>survey_pp_sf</th>\n",
       "      <th>survey_pp_tr</th>\n",
       "      <th>...</th>\n",
       "      <th>n_prof_2plus_watn3_mthlevel1</th>\n",
       "      <th>val_prof_2plus_watn3_mthlevel1</th>\n",
       "      <th>n_prof_pct_watn3_elalevel2</th>\n",
       "      <th>val_prof_pct_watn3_elalevel2</th>\n",
       "      <th>n_prof_pct_watn3_elalevel34</th>\n",
       "      <th>val_prof_pct_watn3_elalevel34</th>\n",
       "      <th>n_prof_pct_watn3_mthlevel2</th>\n",
       "      <th>val_prof_pct_watn3_mthlevel2</th>\n",
       "      <th>n_prof_pct_watn3_mthlevel34</th>\n",
       "      <th>val_prof_pct_watn3_mthlevel34</th>\n",
       "    </tr>\n",
       "  </thead>\n",
       "  <tbody>\n",
       "    <tr>\n",
       "      <th>count</th>\n",
       "      <td>1311</td>\n",
       "      <td>1311</td>\n",
       "      <td>1311</td>\n",
       "      <td>1311</td>\n",
       "      <td>1311</td>\n",
       "      <td>1311</td>\n",
       "      <td>1311</td>\n",
       "      <td>1311</td>\n",
       "      <td>1311</td>\n",
       "      <td>1311</td>\n",
       "      <td>...</td>\n",
       "      <td>1311</td>\n",
       "      <td>1311</td>\n",
       "      <td>1311</td>\n",
       "      <td>1311</td>\n",
       "      <td>1311</td>\n",
       "      <td>1311</td>\n",
       "      <td>1311</td>\n",
       "      <td>1311</td>\n",
       "      <td>1311</td>\n",
       "      <td>1311</td>\n",
       "    </tr>\n",
       "    <tr>\n",
       "      <th>unique</th>\n",
       "      <td>1311</td>\n",
       "      <td>1308</td>\n",
       "      <td>3</td>\n",
       "      <td>752</td>\n",
       "      <td>56</td>\n",
       "      <td>53</td>\n",
       "      <td>59</td>\n",
       "      <td>58</td>\n",
       "      <td>28</td>\n",
       "      <td>41</td>\n",
       "      <td>...</td>\n",
       "      <td>62</td>\n",
       "      <td>138</td>\n",
       "      <td>78</td>\n",
       "      <td>167</td>\n",
       "      <td>127</td>\n",
       "      <td>286</td>\n",
       "      <td>62</td>\n",
       "      <td>179</td>\n",
       "      <td>133</td>\n",
       "      <td>305</td>\n",
       "    </tr>\n",
       "    <tr>\n",
       "      <th>top</th>\n",
       "      <td>01M015</td>\n",
       "      <td>P.S. 360</td>\n",
       "      <td>Elementary</td>\n",
       "      <td>247</td>\n",
       "      <td>No Data</td>\n",
       "      <td>No Data</td>\n",
       "      <td>No Data</td>\n",
       "      <td>0.95</td>\n",
       "      <td>0.96</td>\n",
       "      <td>0.92</td>\n",
       "      <td>...</td>\n",
       "      <td>No Data</td>\n",
       "      <td>No Data</td>\n",
       "      <td>No Data</td>\n",
       "      <td>No Data</td>\n",
       "      <td>No Data</td>\n",
       "      <td>No Data</td>\n",
       "      <td>No Data</td>\n",
       "      <td>No Data</td>\n",
       "      <td>No Data</td>\n",
       "      <td>No Data</td>\n",
       "    </tr>\n",
       "    <tr>\n",
       "      <th>freq</th>\n",
       "      <td>1</td>\n",
       "      <td>2</td>\n",
       "      <td>693</td>\n",
       "      <td>7</td>\n",
       "      <td>164</td>\n",
       "      <td>163</td>\n",
       "      <td>164</td>\n",
       "      <td>68</td>\n",
       "      <td>197</td>\n",
       "      <td>90</td>\n",
       "      <td>...</td>\n",
       "      <td>687</td>\n",
       "      <td>1013</td>\n",
       "      <td>664</td>\n",
       "      <td>853</td>\n",
       "      <td>659</td>\n",
       "      <td>750</td>\n",
       "      <td>664</td>\n",
       "      <td>916</td>\n",
       "      <td>658</td>\n",
       "      <td>767</td>\n",
       "    </tr>\n",
       "  </tbody>\n",
       "</table>\n",
       "<p>4 rows × 146 columns</p>\n",
       "</div>"
      ],
      "text/plain": [
       "           dbn school_name school_type enrollment survey_pp_ri survey_pp_ct  \\\n",
       "count     1311        1311        1311       1311         1311         1311   \n",
       "unique    1311        1308           3        752           56           53   \n",
       "top     01M015    P.S. 360  Elementary        247      No Data      No Data   \n",
       "freq         1           2         693          7          164          163   \n",
       "\n",
       "       survey_pp_se survey_pp_es survey_pp_sf survey_pp_tr  ...  \\\n",
       "count          1311         1311         1311         1311  ...   \n",
       "unique           59           58           28           41  ...   \n",
       "top         No Data         0.95         0.96         0.92  ...   \n",
       "freq            164           68          197           90  ...   \n",
       "\n",
       "       n_prof_2plus_watn3_mthlevel1 val_prof_2plus_watn3_mthlevel1  \\\n",
       "count                          1311                           1311   \n",
       "unique                           62                            138   \n",
       "top                         No Data                        No Data   \n",
       "freq                            687                           1013   \n",
       "\n",
       "       n_prof_pct_watn3_elalevel2 val_prof_pct_watn3_elalevel2  \\\n",
       "count                        1311                         1311   \n",
       "unique                         78                          167   \n",
       "top                       No Data                      No Data   \n",
       "freq                          664                          853   \n",
       "\n",
       "       n_prof_pct_watn3_elalevel34 val_prof_pct_watn3_elalevel34  \\\n",
       "count                         1311                          1311   \n",
       "unique                         127                           286   \n",
       "top                        No Data                       No Data   \n",
       "freq                           659                           750   \n",
       "\n",
       "       n_prof_pct_watn3_mthlevel2 val_prof_pct_watn3_mthlevel2  \\\n",
       "count                        1311                         1311   \n",
       "unique                         62                          179   \n",
       "top                       No Data                      No Data   \n",
       "freq                          664                          916   \n",
       "\n",
       "       n_prof_pct_watn3_mthlevel34 val_prof_pct_watn3_mthlevel34  \n",
       "count                         1311                          1311  \n",
       "unique                         133                           305  \n",
       "top                        No Data                       No Data  \n",
       "freq                           658                           767  \n",
       "\n",
       "[4 rows x 146 columns]"
      ]
     },
     "execution_count": 5,
     "metadata": {},
     "output_type": "execute_result"
    }
   ],
   "source": [
    "results_df.describe()"
   ]
  },
  {
   "cell_type": "code",
   "execution_count": 6,
   "id": "b6aa9e22",
   "metadata": {},
   "outputs": [
    {
     "name": "stdout",
     "output_type": "stream",
     "text": [
      "<class 'pandas.core.frame.DataFrame'>\n",
      "RangeIndex: 1311 entries, 0 to 1310\n",
      "Columns: 146 entries, dbn to val_prof_pct_watn3_mthlevel34\n",
      "dtypes: object(146)\n",
      "memory usage: 1.5+ MB\n"
     ]
    }
   ],
   "source": [
    "results_df.info()"
   ]
  },
  {
   "cell_type": "markdown",
   "id": "4ee9ceaa",
   "metadata": {},
   "source": [
    "Helper functions"
   ]
  },
  {
   "cell_type": "code",
   "execution_count": 7,
   "id": "bf764209",
   "metadata": {},
   "outputs": [],
   "source": [
    "def catvardistribution(data,var,x,y,rot):\n",
    "    print(data[var].value_counts(dropna=False))\n",
    "    fig, ax = plt.subplots(figsize=(x,y)) # Set figure size\n",
    "    sns.set(style=\"darkgrid\")\n",
    "    ax = sns.countplot(x=data[var], data=data, palette='Reds')\n",
    "    plt.xticks(rotation=rot)\n",
    "    plt.show()\n",
    "    \n",
    "def boxplot(data,var):\n",
    "    print(data[var].describe())\n",
    "    sns.set(style=\"whitegrid\")\n",
    "    ax = sns.boxplot(x=data[var])\n",
    "    plt.show()"
   ]
  },
  {
   "cell_type": "markdown",
   "id": "c1323a90",
   "metadata": {},
   "source": [
    "### Feature engineering"
   ]
  },
  {
   "cell_type": "markdown",
   "id": "9421f96a",
   "metadata": {},
   "source": [
    "Create district and borough variables"
   ]
  },
  {
   "cell_type": "code",
   "execution_count": 8,
   "id": "01231d2b",
   "metadata": {},
   "outputs": [],
   "source": [
    "results_df['district'] = results_df['dbn'].str[0:2]\n",
    "results_df['borough'] = results_df['dbn'].str[2:3]"
   ]
  },
  {
   "cell_type": "code",
   "execution_count": 9,
   "id": "002ba9d1",
   "metadata": {},
   "outputs": [
    {
     "name": "stdout",
     "output_type": "stream",
     "text": [
      "Count of school districts: 33\n",
      "Count of school districts: 5\n"
     ]
    }
   ],
   "source": [
    "# inspect new variables\n",
    "print(f\"Count of school districts: {len(np.unique(results_df['district']))}\")\n",
    "print(f\"Count of school districts: {len(np.unique(results_df['borough']))}\")"
   ]
  },
  {
   "cell_type": "code",
   "execution_count": 10,
   "id": "bbfa4ef0",
   "metadata": {},
   "outputs": [
    {
     "name": "stdout",
     "output_type": "stream",
     "text": [
      "84    198\n",
      "31     61\n",
      "10     59\n",
      "02     53\n",
      "09     51\n",
      "27     49\n",
      "11     45\n",
      "28     40\n",
      "24     39\n",
      "20     39\n",
      "29     38\n",
      "06     38\n",
      "30     38\n",
      "19     37\n",
      "15     37\n",
      "08     36\n",
      "25     35\n",
      "17     34\n",
      "12     34\n",
      "22     32\n",
      "03     32\n",
      "21     30\n",
      "13     28\n",
      "14     27\n",
      "07     27\n",
      "26     26\n",
      "23     23\n",
      "04     23\n",
      "05     22\n",
      "01     21\n",
      "18     20\n",
      "32     20\n",
      "16     19\n",
      "Name: district, dtype: int64\n"
     ]
    },
    {
     "data": {
      "image/png": "[encoded data removed]",
      "text/plain": [
       "<Figure size 1080x504 with 1 Axes>"
      ]
     },
     "metadata": {
      "needs_background": "light"
     },
     "output_type": "display_data"
    }
   ],
   "source": [
    "catvardistribution(data=results_df,var='district',x=15,y=7,rot=0)"
   ]
  },
  {
   "cell_type": "code",
   "execution_count": 11,
   "id": "63e1f45c",
   "metadata": {},
   "outputs": [
    {
     "name": "stdout",
     "output_type": "stream",
     "text": [
      "K    421\n",
      "X    309\n",
      "Q    284\n",
      "M    233\n",
      "R     64\n",
      "Name: borough, dtype: int64\n"
     ]
    },
    {
     "data": {
      "image/png": "[encoded data removed]",
      "text/plain": [
       "<Figure size 360x360 with 1 Axes>"
      ]
     },
     "metadata": {},
     "output_type": "display_data"
    }
   ],
   "source": [
    "catvardistribution(data=results_df,var='borough',x=5,y=5,rot=0)"
   ]
  },
  {
   "cell_type": "markdown",
   "id": "2adae003",
   "metadata": {},
   "source": [
    "Inspect particular schools of interest"
   ]
  },
  {
   "cell_type": "code",
   "execution_count": 12,
   "id": "2286e62d",
   "metadata": {},
   "outputs": [
    {
     "data": {
      "text/html": [
       "<div>\n",
       "<style scoped>\n",
       "    .dataframe tbody tr th:only-of-type {\n",
       "        vertical-align: middle;\n",
       "    }\n",
       "\n",
       "    .dataframe tbody tr th {\n",
       "        vertical-align: top;\n",
       "    }\n",
       "\n",
       "    .dataframe thead th {\n",
       "        text-align: right;\n",
       "    }\n",
       "</style>\n",
       "<table border=\"1\" class=\"dataframe\">\n",
       "  <thead>\n",
       "    <tr style=\"text-align: right;\">\n",
       "      <th></th>\n",
       "      <th>dbn</th>\n",
       "      <th>school_name</th>\n",
       "      <th>school_type</th>\n",
       "      <th>enrollment</th>\n",
       "      <th>survey_pp_ri</th>\n",
       "      <th>survey_pp_ct</th>\n",
       "      <th>survey_pp_se</th>\n",
       "      <th>survey_pp_es</th>\n",
       "      <th>survey_pp_sf</th>\n",
       "      <th>survey_pp_tr</th>\n",
       "      <th>...</th>\n",
       "      <th>n_prof_pct_watn3_elalevel2</th>\n",
       "      <th>val_prof_pct_watn3_elalevel2</th>\n",
       "      <th>n_prof_pct_watn3_elalevel34</th>\n",
       "      <th>val_prof_pct_watn3_elalevel34</th>\n",
       "      <th>n_prof_pct_watn3_mthlevel2</th>\n",
       "      <th>val_prof_pct_watn3_mthlevel2</th>\n",
       "      <th>n_prof_pct_watn3_mthlevel34</th>\n",
       "      <th>val_prof_pct_watn3_mthlevel34</th>\n",
       "      <th>district</th>\n",
       "      <th>borough</th>\n",
       "    </tr>\n",
       "  </thead>\n",
       "  <tbody>\n",
       "    <tr>\n",
       "      <th>853</th>\n",
       "      <td>26Q159</td>\n",
       "      <td>P.S. 159</td>\n",
       "      <td>Elementary</td>\n",
       "      <td>616</td>\n",
       "      <td>0.84</td>\n",
       "      <td>0.94</td>\n",
       "      <td>0.93</td>\n",
       "      <td>0.94</td>\n",
       "      <td>0.95</td>\n",
       "      <td>0.92</td>\n",
       "      <td>...</td>\n",
       "      <td>13</td>\n",
       "      <td>No Data</td>\n",
       "      <td>89</td>\n",
       "      <td>0.798</td>\n",
       "      <td>14</td>\n",
       "      <td>No Data</td>\n",
       "      <td>87</td>\n",
       "      <td>0.885</td>\n",
       "      <td>26</td>\n",
       "      <td>Q</td>\n",
       "    </tr>\n",
       "    <tr>\n",
       "      <th>927</th>\n",
       "      <td>28Q101</td>\n",
       "      <td>P.S. 101 School in the Gardens</td>\n",
       "      <td>Elementary</td>\n",
       "      <td>662</td>\n",
       "      <td>0.81</td>\n",
       "      <td>0.84</td>\n",
       "      <td>0.88</td>\n",
       "      <td>0.87</td>\n",
       "      <td>0.97</td>\n",
       "      <td>0.88</td>\n",
       "      <td>...</td>\n",
       "      <td>8</td>\n",
       "      <td>No Data</td>\n",
       "      <td>62</td>\n",
       "      <td>0.758</td>\n",
       "      <td>9</td>\n",
       "      <td>No Data</td>\n",
       "      <td>60</td>\n",
       "      <td>0.95</td>\n",
       "      <td>28</td>\n",
       "      <td>Q</td>\n",
       "    </tr>\n",
       "    <tr>\n",
       "      <th>998</th>\n",
       "      <td>30Q069</td>\n",
       "      <td>P.S. 069 Jackson Heights</td>\n",
       "      <td>Elementary</td>\n",
       "      <td>909</td>\n",
       "      <td>0.83</td>\n",
       "      <td>0.94</td>\n",
       "      <td>0.89</td>\n",
       "      <td>0.91</td>\n",
       "      <td>0.96</td>\n",
       "      <td>0.96</td>\n",
       "      <td>...</td>\n",
       "      <td>42</td>\n",
       "      <td>0.167</td>\n",
       "      <td>91</td>\n",
       "      <td>0.769</td>\n",
       "      <td>40</td>\n",
       "      <td>0.45</td>\n",
       "      <td>88</td>\n",
       "      <td>0.898</td>\n",
       "      <td>30</td>\n",
       "      <td>Q</td>\n",
       "    </tr>\n",
       "    <tr>\n",
       "      <th>1016</th>\n",
       "      <td>30Q152</td>\n",
       "      <td>P.S. 152 Gwendoline N. Alleyne School</td>\n",
       "      <td>Elementary</td>\n",
       "      <td>869</td>\n",
       "      <td>0.77</td>\n",
       "      <td>0.83</td>\n",
       "      <td>0.86</td>\n",
       "      <td>0.84</td>\n",
       "      <td>0.95</td>\n",
       "      <td>0.9</td>\n",
       "      <td>...</td>\n",
       "      <td>41</td>\n",
       "      <td>0.317</td>\n",
       "      <td>97</td>\n",
       "      <td>0.722</td>\n",
       "      <td>37</td>\n",
       "      <td>0.351</td>\n",
       "      <td>96</td>\n",
       "      <td>0.906</td>\n",
       "      <td>30</td>\n",
       "      <td>Q</td>\n",
       "    </tr>\n",
       "    <tr>\n",
       "      <th>1020</th>\n",
       "      <td>30Q212</td>\n",
       "      <td>P.S. 212</td>\n",
       "      <td>Elementary</td>\n",
       "      <td>721</td>\n",
       "      <td>0.76</td>\n",
       "      <td>0.94</td>\n",
       "      <td>0.84</td>\n",
       "      <td>0.86</td>\n",
       "      <td>0.96</td>\n",
       "      <td>0.92</td>\n",
       "      <td>...</td>\n",
       "      <td>25</td>\n",
       "      <td>0.2</td>\n",
       "      <td>68</td>\n",
       "      <td>0.618</td>\n",
       "      <td>22</td>\n",
       "      <td>0.273</td>\n",
       "      <td>66</td>\n",
       "      <td>0.788</td>\n",
       "      <td>30</td>\n",
       "      <td>Q</td>\n",
       "    </tr>\n",
       "  </tbody>\n",
       "</table>\n",
       "<p>5 rows × 148 columns</p>\n",
       "</div>"
      ],
      "text/plain": [
       "         dbn                            school_name school_type enrollment  \\\n",
       "853   26Q159                               P.S. 159  Elementary        616   \n",
       "927   28Q101         P.S. 101 School in the Gardens  Elementary        662   \n",
       "998   30Q069               P.S. 069 Jackson Heights  Elementary        909   \n",
       "1016  30Q152  P.S. 152 Gwendoline N. Alleyne School  Elementary        869   \n",
       "1020  30Q212                               P.S. 212  Elementary        721   \n",
       "\n",
       "     survey_pp_ri survey_pp_ct survey_pp_se survey_pp_es survey_pp_sf  \\\n",
       "853          0.84         0.94         0.93         0.94         0.95   \n",
       "927          0.81         0.84         0.88         0.87         0.97   \n",
       "998          0.83         0.94         0.89         0.91         0.96   \n",
       "1016         0.77         0.83         0.86         0.84         0.95   \n",
       "1020         0.76         0.94         0.84         0.86         0.96   \n",
       "\n",
       "     survey_pp_tr  ... n_prof_pct_watn3_elalevel2  \\\n",
       "853          0.92  ...                         13   \n",
       "927          0.88  ...                          8   \n",
       "998          0.96  ...                         42   \n",
       "1016          0.9  ...                         41   \n",
       "1020         0.92  ...                         25   \n",
       "\n",
       "     val_prof_pct_watn3_elalevel2 n_prof_pct_watn3_elalevel34  \\\n",
       "853                       No Data                          89   \n",
       "927                       No Data                          62   \n",
       "998                         0.167                          91   \n",
       "1016                        0.317                          97   \n",
       "1020                          0.2                          68   \n",
       "\n",
       "     val_prof_pct_watn3_elalevel34 n_prof_pct_watn3_mthlevel2  \\\n",
       "853                          0.798                         14   \n",
       "927                          0.758                          9   \n",
       "998                          0.769                         40   \n",
       "1016                         0.722                         37   \n",
       "1020                         0.618                         22   \n",
       "\n",
       "     val_prof_pct_watn3_mthlevel2 n_prof_pct_watn3_mthlevel34  \\\n",
       "853                       No Data                          87   \n",
       "927                       No Data                          60   \n",
       "998                          0.45                          88   \n",
       "1016                        0.351                          96   \n",
       "1020                        0.273                          66   \n",
       "\n",
       "     val_prof_pct_watn3_mthlevel34 district borough  \n",
       "853                          0.885       26       Q  \n",
       "927                           0.95       28       Q  \n",
       "998                          0.898       30       Q  \n",
       "1016                         0.906       30       Q  \n",
       "1020                         0.788       30       Q  \n",
       "\n",
       "[5 rows x 148 columns]"
      ]
     },
     "execution_count": 12,
     "metadata": {},
     "output_type": "execute_result"
    }
   ],
   "source": [
    "select_dbn = ['30Q398','30Q069','30Q212','30Q152','30Q222','30Q228','26Q159','28Q101']\n",
    "select_df = results_df[results_df['dbn'].isin(select_dbn)]\n",
    "select_df"
   ]
  },
  {
   "cell_type": "code",
   "execution_count": 13,
   "id": "1c86b96f",
   "metadata": {},
   "outputs": [],
   "source": [
    "district30elementary = results_df[(results_df['district']=='30') & (results_df['school_type']=='Elementary')]"
   ]
  },
  {
   "cell_type": "code",
   "execution_count": 26,
   "id": "1faf9833",
   "metadata": {},
   "outputs": [
    {
     "data": {
      "text/html": [
       "<div>\n",
       "<style scoped>\n",
       "    .dataframe tbody tr th:only-of-type {\n",
       "        vertical-align: middle;\n",
       "    }\n",
       "\n",
       "    .dataframe tbody tr th {\n",
       "        vertical-align: top;\n",
       "    }\n",
       "\n",
       "    .dataframe thead th {\n",
       "        text-align: right;\n",
       "    }\n",
       "</style>\n",
       "<table border=\"1\" class=\"dataframe\">\n",
       "  <thead>\n",
       "    <tr style=\"text-align: right;\">\n",
       "      <th></th>\n",
       "      <th>qr_1_1</th>\n",
       "      <th>qr_1_2</th>\n",
       "      <th>qr_2_2</th>\n",
       "      <th>qr_3_4</th>\n",
       "      <th>qr_4_2</th>\n",
       "    </tr>\n",
       "  </thead>\n",
       "  <tbody>\n",
       "    <tr>\n",
       "      <th>994</th>\n",
       "      <td>Well Developed</td>\n",
       "      <td>Proficient</td>\n",
       "      <td>Well Developed</td>\n",
       "      <td>Well Developed</td>\n",
       "      <td>Well Developed</td>\n",
       "    </tr>\n",
       "    <tr>\n",
       "      <th>996</th>\n",
       "      <td>Proficient</td>\n",
       "      <td>Proficient</td>\n",
       "      <td>Proficient</td>\n",
       "      <td>Well Developed</td>\n",
       "      <td>Well Developed</td>\n",
       "    </tr>\n",
       "    <tr>\n",
       "      <th>997</th>\n",
       "      <td>Proficient</td>\n",
       "      <td>Proficient</td>\n",
       "      <td>Developing</td>\n",
       "      <td>Proficient</td>\n",
       "      <td>Proficient</td>\n",
       "    </tr>\n",
       "    <tr>\n",
       "      <th>998</th>\n",
       "      <td>Proficient</td>\n",
       "      <td>Proficient</td>\n",
       "      <td>Proficient</td>\n",
       "      <td>Well Developed</td>\n",
       "      <td>Proficient</td>\n",
       "    </tr>\n",
       "    <tr>\n",
       "      <th>999</th>\n",
       "      <td>Well Developed</td>\n",
       "      <td>Well Developed</td>\n",
       "      <td>Proficient</td>\n",
       "      <td>Well Developed</td>\n",
       "      <td>Proficient</td>\n",
       "    </tr>\n",
       "    <tr>\n",
       "      <th>1000</th>\n",
       "      <td>Developing</td>\n",
       "      <td>Developing</td>\n",
       "      <td>Developing</td>\n",
       "      <td>Well Developed</td>\n",
       "      <td>Proficient</td>\n",
       "    </tr>\n",
       "    <tr>\n",
       "      <th>1002</th>\n",
       "      <td>Proficient</td>\n",
       "      <td>Well Developed</td>\n",
       "      <td>Well Developed</td>\n",
       "      <td>Proficient</td>\n",
       "      <td>Proficient</td>\n",
       "    </tr>\n",
       "    <tr>\n",
       "      <th>1003</th>\n",
       "      <td>Proficient</td>\n",
       "      <td>Proficient</td>\n",
       "      <td>Proficient</td>\n",
       "      <td>Well Developed</td>\n",
       "      <td>Proficient</td>\n",
       "    </tr>\n",
       "    <tr>\n",
       "      <th>1004</th>\n",
       "      <td>Proficient</td>\n",
       "      <td>Developing</td>\n",
       "      <td>Proficient</td>\n",
       "      <td>Proficient</td>\n",
       "      <td>Proficient</td>\n",
       "    </tr>\n",
       "    <tr>\n",
       "      <th>1006</th>\n",
       "      <td>Proficient</td>\n",
       "      <td>Proficient</td>\n",
       "      <td>Proficient</td>\n",
       "      <td>Proficient</td>\n",
       "      <td>Developing</td>\n",
       "    </tr>\n",
       "    <tr>\n",
       "      <th>1012</th>\n",
       "      <td>Proficient</td>\n",
       "      <td>Proficient</td>\n",
       "      <td>Developing</td>\n",
       "      <td>Proficient</td>\n",
       "      <td>Proficient</td>\n",
       "    </tr>\n",
       "    <tr>\n",
       "      <th>1013</th>\n",
       "      <td>Well Developed</td>\n",
       "      <td>Proficient</td>\n",
       "      <td>Proficient</td>\n",
       "      <td>Well Developed</td>\n",
       "      <td>Proficient</td>\n",
       "    </tr>\n",
       "    <tr>\n",
       "      <th>1014</th>\n",
       "      <td>Proficient</td>\n",
       "      <td>Proficient</td>\n",
       "      <td>Proficient</td>\n",
       "      <td>Proficient</td>\n",
       "      <td>Proficient</td>\n",
       "    </tr>\n",
       "    <tr>\n",
       "      <th>1015</th>\n",
       "      <td>Proficient</td>\n",
       "      <td>Proficient</td>\n",
       "      <td>Proficient</td>\n",
       "      <td>Well Developed</td>\n",
       "      <td>Proficient</td>\n",
       "    </tr>\n",
       "    <tr>\n",
       "      <th>1016</th>\n",
       "      <td>Proficient</td>\n",
       "      <td>Well Developed</td>\n",
       "      <td>Proficient</td>\n",
       "      <td>Proficient</td>\n",
       "      <td>Well Developed</td>\n",
       "    </tr>\n",
       "    <tr>\n",
       "      <th>1017</th>\n",
       "      <td>Proficient</td>\n",
       "      <td>Proficient</td>\n",
       "      <td>Well Developed</td>\n",
       "      <td>Well Developed</td>\n",
       "      <td>Well Developed</td>\n",
       "    </tr>\n",
       "    <tr>\n",
       "      <th>1018</th>\n",
       "      <td>Proficient</td>\n",
       "      <td>Proficient</td>\n",
       "      <td>Well Developed</td>\n",
       "      <td>Well Developed</td>\n",
       "      <td>Proficient</td>\n",
       "    </tr>\n",
       "    <tr>\n",
       "      <th>1020</th>\n",
       "      <td>Proficient</td>\n",
       "      <td>Proficient</td>\n",
       "      <td>Proficient</td>\n",
       "      <td>Proficient</td>\n",
       "      <td>Well Developed</td>\n",
       "    </tr>\n",
       "    <tr>\n",
       "      <th>1023</th>\n",
       "      <td>Proficient</td>\n",
       "      <td>Well Developed</td>\n",
       "      <td>Well Developed</td>\n",
       "      <td>Well Developed</td>\n",
       "      <td>Well Developed</td>\n",
       "    </tr>\n",
       "    <tr>\n",
       "      <th>1025</th>\n",
       "      <td>Proficient</td>\n",
       "      <td>Proficient</td>\n",
       "      <td>Proficient</td>\n",
       "      <td>Well Developed</td>\n",
       "      <td>Well Developed</td>\n",
       "    </tr>\n",
       "    <tr>\n",
       "      <th>1029</th>\n",
       "      <td>Proficient</td>\n",
       "      <td>Proficient</td>\n",
       "      <td>Proficient</td>\n",
       "      <td>Well Developed</td>\n",
       "      <td>Well Developed</td>\n",
       "    </tr>\n",
       "    <tr>\n",
       "      <th>1030</th>\n",
       "      <td>Proficient</td>\n",
       "      <td>Proficient</td>\n",
       "      <td>Proficient</td>\n",
       "      <td>Well Developed</td>\n",
       "      <td>Well Developed</td>\n",
       "    </tr>\n",
       "  </tbody>\n",
       "</table>\n",
       "</div>"
      ],
      "text/plain": [
       "              qr_1_1          qr_1_2          qr_2_2          qr_3_4  \\\n",
       "994   Well Developed      Proficient  Well Developed  Well Developed   \n",
       "996       Proficient      Proficient      Proficient  Well Developed   \n",
       "997       Proficient      Proficient      Developing      Proficient   \n",
       "998       Proficient      Proficient      Proficient  Well Developed   \n",
       "999   Well Developed  Well Developed      Proficient  Well Developed   \n",
       "1000      Developing      Developing      Developing  Well Developed   \n",
       "1002      Proficient  Well Developed  Well Developed      Proficient   \n",
       "1003      Proficient      Proficient      Proficient  Well Developed   \n",
       "1004      Proficient      Developing      Proficient      Proficient   \n",
       "1006      Proficient      Proficient      Proficient      Proficient   \n",
       "1012      Proficient      Proficient      Developing      Proficient   \n",
       "1013  Well Developed      Proficient      Proficient  Well Developed   \n",
       "1014      Proficient      Proficient      Proficient      Proficient   \n",
       "1015      Proficient      Proficient      Proficient  Well Developed   \n",
       "1016      Proficient  Well Developed      Proficient      Proficient   \n",
       "1017      Proficient      Proficient  Well Developed  Well Developed   \n",
       "1018      Proficient      Proficient  Well Developed  Well Developed   \n",
       "1020      Proficient      Proficient      Proficient      Proficient   \n",
       "1023      Proficient  Well Developed  Well Developed  Well Developed   \n",
       "1025      Proficient      Proficient      Proficient  Well Developed   \n",
       "1029      Proficient      Proficient      Proficient  Well Developed   \n",
       "1030      Proficient      Proficient      Proficient  Well Developed   \n",
       "\n",
       "              qr_4_2  \n",
       "994   Well Developed  \n",
       "996   Well Developed  \n",
       "997       Proficient  \n",
       "998       Proficient  \n",
       "999       Proficient  \n",
       "1000      Proficient  \n",
       "1002      Proficient  \n",
       "1003      Proficient  \n",
       "1004      Proficient  \n",
       "1006      Developing  \n",
       "1012      Proficient  \n",
       "1013      Proficient  \n",
       "1014      Proficient  \n",
       "1015      Proficient  \n",
       "1016  Well Developed  \n",
       "1017  Well Developed  \n",
       "1018      Proficient  \n",
       "1020  Well Developed  \n",
       "1023  Well Developed  \n",
       "1025  Well Developed  \n",
       "1029  Well Developed  \n",
       "1030  Well Developed  "
      ]
     },
     "execution_count": 26,
     "metadata": {},
     "output_type": "execute_result"
    }
   ],
   "source": [
    "district30elementary[['qr_1_1', 'qr_1_2', 'qr_2_2', 'qr_3_4', 'qr_4_2']]"
   ]
  },
  {
   "cell_type": "code",
   "execution_count": 14,
   "id": "4c90008c",
   "metadata": {},
   "outputs": [
    {
     "name": "stderr",
     "output_type": "stream",
     "text": [
      "/Users/daniel.alvarez/anaconda3/lib/python3.8/site-packages/seaborn/matrix.py:301: UserWarning: Attempting to set identical left == right == 0 results in singular transformations; automatically expanding.\n",
      "  ax.set(xlim=(0, self.data.shape[1]), ylim=(0, self.data.shape[0]))\n",
      "/Users/daniel.alvarez/anaconda3/lib/python3.8/site-packages/seaborn/matrix.py:301: UserWarning: Attempting to set identical bottom == top == 0 results in singular transformations; automatically expanding.\n",
      "  ax.set(xlim=(0, self.data.shape[1]), ylim=(0, self.data.shape[0]))\n"
     ]
    },
    {
     "data": {
      "image/png": "[encoded data removed]",
      "text/plain": [
       "<Figure size 1440x864 with 2 Axes>"
      ]
     },
     "metadata": {},
     "output_type": "display_data"
    }
   ],
   "source": [
    "# correlation matrix for survey scores\n",
    "\n",
    "def correlationMatrix(dataframe):\n",
    "    corr = dataframe.iloc[:,4:].corr()\n",
    "    # create a triangular matrix\n",
    "#     mask = np.triu(np.ones_like(dataframe.iloc[:,4:].corr(), dtype=np.bool))\n",
    "    \n",
    "    # plot the heatmap\n",
    "    plt.figure(figsize=(20,12))\n",
    "    heatmap = sns.heatmap(corr,\n",
    "                         xticklabels=corr.columns,\n",
    "                         yticklabels=corr.columns,\n",
    "#                          mask=mask,\n",
    "                         vmin=-1, vmax=1, annot=True, cmap='BrBG')\n",
    "    heatmap.set_title('Correlation Heatmap of Survey Scores', fontdict={'fontsize':12}, pad=20);\n",
    "\n",
    "correlationMatrix(dataframe=district30elementary)"
   ]
  },
  {
   "cell_type": "code",
   "execution_count": 29,
   "id": "f52eedaa",
   "metadata": {},
   "outputs": [
    {
     "data": {
      "application/vnd.plotly.v1+json": {
       "config": {
        "plotlyServerURL": "https://plot.ly"
       },
       "data": [
        {
         "hovertemplate": "<b>%{hovertext}</b><br><br>borough=Q<br>qr_1_1=%{x}<br>qr_1_2=%{y}<extra></extra>",
         "hovertext": [
          "P.S. 002 Alfred Zimberg",
          "P.S. 011 Kathryn Phelan",
          "P.S. 017 Henry David Thoreau",
          "P.S. 069 Jackson Heights",
          "P.S. 070",
          "P.S. 076 William Hallet",
          "P.S. 084 Steinway",
          "P.S. 085 Judge Charles Vallone",
          "P.S. 092 Harry T. Stewart Sr.",
          "P.S. 112 Dutch Kills",
          "P.S. 148 Queens",
          "P.S. 149 Christa McAuliffe",
          "P.S. 150 Queens",
          "P.S. 151 Mary D. Carter",
          "P.S. 152 Gwendoline N. Alleyne School",
          "P.S. 166 Henry Gradstein",
          "P.S. 171 Peter G. Van Alst",
          "P.S. 212",
          "P.S. 234",
          "P.S. 280",
          "East Elmhurst Community School",
          "The Woodside Community School"
         ],
         "legendgroup": "Q",
         "marker": {
          "color": "#636efa",
          "size": 10,
          "symbol": "circle"
         },
         "mode": "markers",
         "name": "Q",
         "orientation": "v",
         "showlegend": true,
         "type": "scatter",
         "x": [
          "Well Developed",
          "Proficient",
          "Proficient",
          "Proficient",
          "Well Developed",
          "Developing",
          "Proficient",
          "Proficient",
          "Proficient",
          "Proficient",
          "Proficient",
          "Well Developed",
          "Proficient",
          "Proficient",
          "Proficient",
          "Proficient",
          "Proficient",
          "Proficient",
          "Proficient",
          "Proficient",
          "Proficient",
          "Proficient"
         ],
         "xaxis": "x",
         "y": [
          "Proficient",
          "Proficient",
          "Proficient",
          "Proficient",
          "Well Developed",
          "Developing",
          "Well Developed",
          "Proficient",
          "Developing",
          "Proficient",
          "Proficient",
          "Proficient",
          "Proficient",
          "Proficient",
          "Well Developed",
          "Proficient",
          "Proficient",
          "Proficient",
          "Well Developed",
          "Proficient",
          "Proficient",
          "Proficient"
         ],
         "yaxis": "y"
        }
       ],
       "layout": {
        "legend": {
         "title": {
          "text": "borough"
         },
         "tracegroupgap": 0
        },
        "margin": {
         "t": 60
        },
        "template": {
         "data": {
          "bar": [
           {
            "error_x": {
             "color": "#2a3f5f"
            },
            "error_y": {
             "color": "#2a3f5f"
            },
            "marker": {
             "line": {
              "color": "#E5ECF6",
              "width": 0.5
             },
             "pattern": {
              "fillmode": "overlay",
              "size": 10,
              "solidity": 0.2
             }
            },
            "type": "bar"
           }
          ],
          "barpolar": [
           {
            "marker": {
             "line": {
              "color": "#E5ECF6",
              "width": 0.5
             },
             "pattern": {
              "fillmode": "overlay",
              "size": 10,
              "solidity": 0.2
             }
            },
            "type": "barpolar"
           }
          ],
          "carpet": [
           {
            "aaxis": {
             "endlinecolor": "#2a3f5f",
             "gridcolor": "white",
             "linecolor": "white",
             "minorgridcolor": "white",
             "startlinecolor": "#2a3f5f"
            },
            "baxis": {
             "endlinecolor": "#2a3f5f",
             "gridcolor": "white",
             "linecolor": "white",
             "minorgridcolor": "white",
             "startlinecolor": "#2a3f5f"
            },
            "type": "carpet"
           }
          ],
          "choropleth": [
           {
            "colorbar": {
             "outlinewidth": 0,
             "ticks": ""
            },
            "type": "choropleth"
           }
          ],
          "contour": [
           {
            "colorbar": {
             "outlinewidth": 0,
             "ticks": ""
            },
            "colorscale": [
             [
              0,
              "#0d0887"
             ],
             [
              0.1111111111111111,
              "#46039f"
             ],
             [
              0.2222222222222222,
              "#7201a8"
             ],
             [
              0.3333333333333333,
              "#9c179e"
             ],
             [
              0.4444444444444444,
              "#bd3786"
             ],
             [
              0.5555555555555556,
              "#d8576b"
             ],
             [
              0.6666666666666666,
              "#ed7953"
             ],
             [
              0.7777777777777778,
              "#fb9f3a"
             ],
             [
              0.8888888888888888,
              "#fdca26"
             ],
             [
              1,
              "#f0f921"
             ]
            ],
            "type": "contour"
           }
          ],
          "contourcarpet": [
           {
            "colorbar": {
             "outlinewidth": 0,
             "ticks": ""
            },
            "type": "contourcarpet"
           }
          ],
          "heatmap": [
           {
            "colorbar": {
             "outlinewidth": 0,
             "ticks": ""
            },
            "colorscale": [
             [
              0,
              "#0d0887"
             ],
             [
              0.1111111111111111,
              "#46039f"
             ],
             [
              0.2222222222222222,
              "#7201a8"
             ],
             [
              0.3333333333333333,
              "#9c179e"
             ],
             [
              0.4444444444444444,
              "#bd3786"
             ],
             [
              0.5555555555555556,
              "#d8576b"
             ],
             [
              0.6666666666666666,
              "#ed7953"
             ],
             [
              0.7777777777777778,
              "#fb9f3a"
             ],
             [
              0.8888888888888888,
              "#fdca26"
             ],
             [
              1,
              "#f0f921"
             ]
            ],
            "type": "heatmap"
           }
          ],
          "heatmapgl": [
           {
            "colorbar": {
             "outlinewidth": 0,
             "ticks": ""
            },
            "colorscale": [
             [
              0,
              "#0d0887"
             ],
             [
              0.1111111111111111,
              "#46039f"
             ],
             [
              0.2222222222222222,
              "#7201a8"
             ],
             [
              0.3333333333333333,
              "#9c179e"
             ],
             [
              0.4444444444444444,
              "#bd3786"
             ],
             [
              0.5555555555555556,
              "#d8576b"
             ],
             [
              0.6666666666666666,
              "#ed7953"
             ],
             [
              0.7777777777777778,
              "#fb9f3a"
             ],
             [
              0.8888888888888888,
              "#fdca26"
             ],
             [
              1,
              "#f0f921"
             ]
            ],
            "type": "heatmapgl"
           }
          ],
          "histogram": [
           {
            "marker": {
             "pattern": {
              "fillmode": "overlay",
              "size": 10,
              "solidity": 0.2
             }
            },
            "type": "histogram"
           }
          ],
          "histogram2d": [
           {
            "colorbar": {
             "outlinewidth": 0,
             "ticks": ""
            },
            "colorscale": [
             [
              0,
              "#0d0887"
             ],
             [
              0.1111111111111111,
              "#46039f"
             ],
             [
              0.2222222222222222,
              "#7201a8"
             ],
             [
              0.3333333333333333,
              "#9c179e"
             ],
             [
              0.4444444444444444,
              "#bd3786"
             ],
             [
              0.5555555555555556,
              "#d8576b"
             ],
             [
              0.6666666666666666,
              "#ed7953"
             ],
             [
              0.7777777777777778,
              "#fb9f3a"
             ],
             [
              0.8888888888888888,
              "#fdca26"
             ],
             [
              1,
              "#f0f921"
             ]
            ],
            "type": "histogram2d"
           }
          ],
          "histogram2dcontour": [
           {
            "colorbar": {
             "outlinewidth": 0,
             "ticks": ""
            },
            "colorscale": [
             [
              0,
              "#0d0887"
             ],
             [
              0.1111111111111111,
              "#46039f"
             ],
             [
              0.2222222222222222,
              "#7201a8"
             ],
             [
              0.3333333333333333,
              "#9c179e"
             ],
             [
              0.4444444444444444,
              "#bd3786"
             ],
             [
              0.5555555555555556,
              "#d8576b"
             ],
             [
              0.6666666666666666,
              "#ed7953"
             ],
             [
              0.7777777777777778,
              "#fb9f3a"
             ],
             [
              0.8888888888888888,
              "#fdca26"
             ],
             [
              1,
              "#f0f921"
             ]
            ],
            "type": "histogram2dcontour"
           }
          ],
          "mesh3d": [
           {
            "colorbar": {
             "outlinewidth": 0,
             "ticks": ""
            },
            "type": "mesh3d"
           }
          ],
          "parcoords": [
           {
            "line": {
             "colorbar": {
              "outlinewidth": 0,
              "ticks": ""
             }
            },
            "type": "parcoords"
           }
          ],
          "pie": [
           {
            "automargin": true,
            "type": "pie"
           }
          ],
          "scatter": [
           {
            "marker": {
             "colorbar": {
              "outlinewidth": 0,
              "ticks": ""
             }
            },
            "type": "scatter"
           }
          ],
          "scatter3d": [
           {
            "line": {
             "colorbar": {
              "outlinewidth": 0,
              "ticks": ""
             }
            },
            "marker": {
             "colorbar": {
              "outlinewidth": 0,
              "ticks": ""
             }
            },
            "type": "scatter3d"
           }
          ],
          "scattercarpet": [
           {
            "marker": {
             "colorbar": {
              "outlinewidth": 0,
              "ticks": ""
             }
            },
            "type": "scattercarpet"
           }
          ],
          "scattergeo": [
           {
            "marker": {
             "colorbar": {
              "outlinewidth": 0,
              "ticks": ""
             }
            },
            "type": "scattergeo"
           }
          ],
          "scattergl": [
           {
            "marker": {
             "colorbar": {
              "outlinewidth": 0,
              "ticks": ""
             }
            },
            "type": "scattergl"
           }
          ],
          "scattermapbox": [
           {
            "marker": {
             "colorbar": {
              "outlinewidth": 0,
              "ticks": ""
             }
            },
            "type": "scattermapbox"
           }
          ],
          "scatterpolar": [
           {
            "marker": {
             "colorbar": {
              "outlinewidth": 0,
              "ticks": ""
             }
            },
            "type": "scatterpolar"
           }
          ],
          "scatterpolargl": [
           {
            "marker": {
             "colorbar": {
              "outlinewidth": 0,
              "ticks": ""
             }
            },
            "type": "scatterpolargl"
           }
          ],
          "scatterternary": [
           {
            "marker": {
             "colorbar": {
              "outlinewidth": 0,
              "ticks": ""
             }
            },
            "type": "scatterternary"
           }
          ],
          "surface": [
           {
            "colorbar": {
             "outlinewidth": 0,
             "ticks": ""
            },
            "colorscale": [
             [
              0,
              "#0d0887"
             ],
             [
              0.1111111111111111,
              "#46039f"
             ],
             [
              0.2222222222222222,
              "#7201a8"
             ],
             [
              0.3333333333333333,
              "#9c179e"
             ],
             [
              0.4444444444444444,
              "#bd3786"
             ],
             [
              0.5555555555555556,
              "#d8576b"
             ],
             [
              0.6666666666666666,
              "#ed7953"
             ],
             [
              0.7777777777777778,
              "#fb9f3a"
             ],
             [
              0.8888888888888888,
              "#fdca26"
             ],
             [
              1,
              "#f0f921"
             ]
            ],
            "type": "surface"
           }
          ],
          "table": [
           {
            "cells": {
             "fill": {
              "color": "#EBF0F8"
             },
             "line": {
              "color": "white"
             }
            },
            "header": {
             "fill": {
              "color": "#C8D4E3"
             },
             "line": {
              "color": "white"
             }
            },
            "type": "table"
           }
          ]
         },
         "layout": {
          "annotationdefaults": {
           "arrowcolor": "#2a3f5f",
           "arrowhead": 0,
           "arrowwidth": 1
          },
          "autotypenumbers": "strict",
          "coloraxis": {
           "colorbar": {
            "outlinewidth": 0,
            "ticks": ""
           }
          },
          "colorscale": {
           "diverging": [
            [
             0,
             "#8e0152"
            ],
            [
             0.1,
             "#c51b7d"
            ],
            [
             0.2,
             "#de77ae"
            ],
            [
             0.3,
             "#f1b6da"
            ],
            [
             0.4,
             "#fde0ef"
            ],
            [
             0.5,
             "#f7f7f7"
            ],
            [
             0.6,
             "#e6f5d0"
            ],
            [
             0.7,
             "#b8e186"
            ],
            [
             0.8,
             "#7fbc41"
            ],
            [
             0.9,
             "#4d9221"
            ],
            [
             1,
             "#276419"
            ]
           ],
           "sequential": [
            [
             0,
             "#0d0887"
            ],
            [
             0.1111111111111111,
             "#46039f"
            ],
            [
             0.2222222222222222,
             "#7201a8"
            ],
            [
             0.3333333333333333,
             "#9c179e"
            ],
            [
             0.4444444444444444,
             "#bd3786"
            ],
            [
             0.5555555555555556,
             "#d8576b"
            ],
            [
             0.6666666666666666,
             "#ed7953"
            ],
            [
             0.7777777777777778,
             "#fb9f3a"
            ],
            [
             0.8888888888888888,
             "#fdca26"
            ],
            [
             1,
             "#f0f921"
            ]
           ],
           "sequentialminus": [
            [
             0,
             "#0d0887"
            ],
            [
             0.1111111111111111,
             "#46039f"
            ],
            [
             0.2222222222222222,
             "#7201a8"
            ],
            [
             0.3333333333333333,
             "#9c179e"
            ],
            [
             0.4444444444444444,
             "#bd3786"
            ],
            [
             0.5555555555555556,
             "#d8576b"
            ],
            [
             0.6666666666666666,
             "#ed7953"
            ],
            [
             0.7777777777777778,
             "#fb9f3a"
            ],
            [
             0.8888888888888888,
             "#fdca26"
            ],
            [
             1,
             "#f0f921"
            ]
           ]
          },
          "colorway": [
           "#636efa",
           "#EF553B",
           "#00cc96",
           "#ab63fa",
           "#FFA15A",
           "#19d3f3",
           "#FF6692",
           "#B6E880",
           "#FF97FF",
           "#FECB52"
          ],
          "font": {
           "color": "#2a3f5f"
          },
          "geo": {
           "bgcolor": "white",
           "lakecolor": "white",
           "landcolor": "#E5ECF6",
           "showlakes": true,
           "showland": true,
           "subunitcolor": "white"
          },
          "hoverlabel": {
           "align": "left"
          },
          "hovermode": "closest",
          "mapbox": {
           "style": "light"
          },
          "paper_bgcolor": "white",
          "plot_bgcolor": "#E5ECF6",
          "polar": {
           "angularaxis": {
            "gridcolor": "white",
            "linecolor": "white",
            "ticks": ""
           },
           "bgcolor": "#E5ECF6",
           "radialaxis": {
            "gridcolor": "white",
            "linecolor": "white",
            "ticks": ""
           }
          },
          "scene": {
           "xaxis": {
            "backgroundcolor": "#E5ECF6",
            "gridcolor": "white",
            "gridwidth": 2,
            "linecolor": "white",
            "showbackground": true,
            "ticks": "",
            "zerolinecolor": "white"
           },
           "yaxis": {
            "backgroundcolor": "#E5ECF6",
            "gridcolor": "white",
            "gridwidth": 2,
            "linecolor": "white",
            "showbackground": true,
            "ticks": "",
            "zerolinecolor": "white"
           },
           "zaxis": {
            "backgroundcolor": "#E5ECF6",
            "gridcolor": "white",
            "gridwidth": 2,
            "linecolor": "white",
            "showbackground": true,
            "ticks": "",
            "zerolinecolor": "white"
           }
          },
          "shapedefaults": {
           "line": {
            "color": "#2a3f5f"
           }
          },
          "ternary": {
           "aaxis": {
            "gridcolor": "white",
            "linecolor": "white",
            "ticks": ""
           },
           "baxis": {
            "gridcolor": "white",
            "linecolor": "white",
            "ticks": ""
           },
           "bgcolor": "#E5ECF6",
           "caxis": {
            "gridcolor": "white",
            "linecolor": "white",
            "ticks": ""
           }
          },
          "title": {
           "x": 0.05
          },
          "xaxis": {
           "automargin": true,
           "gridcolor": "white",
           "linecolor": "white",
           "ticks": "",
           "title": {
            "standoff": 15
           },
           "zerolinecolor": "white",
           "zerolinewidth": 2
          },
          "yaxis": {
           "automargin": true,
           "gridcolor": "white",
           "linecolor": "white",
           "ticks": "",
           "title": {
            "standoff": 15
           },
           "zerolinecolor": "white",
           "zerolinewidth": 2
          }
         }
        },
        "xaxis": {
         "anchor": "y",
         "domain": [
          0,
          1
         ],
         "title": {
          "text": "qr_1_1"
         }
        },
        "yaxis": {
         "anchor": "x",
         "domain": [
          0,
          1
         ],
         "title": {
          "text": "qr_1_2"
         }
        }
       }
      },
      "text/html": [
       "<div>                            <div id=\"6b74234d-9278-43aa-8d3a-a8bbe02e9db6\" class=\"plotly-graph-div\" style=\"height:525px; width:100%;\"></div>            <script type=\"text/javascript\">                require([\"plotly\"], function(Plotly) {                    window.PLOTLYENV=window.PLOTLYENV || {};                                    if (document.getElementById(\"6b74234d-9278-43aa-8d3a-a8bbe02e9db6\")) {                    Plotly.newPlot(                        \"6b74234d-9278-43aa-8d3a-a8bbe02e9db6\",                        [{\"hovertemplate\":\"<b>%{hovertext}</b><br><br>borough=Q<br>qr_1_1=%{x}<br>qr_1_2=%{y}<extra></extra>\",\"hovertext\":[\"P.S. 002 Alfred Zimberg\",\"P.S. 011 Kathryn Phelan\",\"P.S. 017 Henry David Thoreau\",\"P.S. 069 Jackson Heights\",\"P.S. 070\",\"P.S. 076 William Hallet\",\"P.S. 084 Steinway\",\"P.S. 085 Judge Charles Vallone\",\"P.S. 092 Harry T. Stewart Sr.\",\"P.S. 112 Dutch Kills\",\"P.S. 148 Queens\",\"P.S. 149 Christa McAuliffe\",\"P.S. 150 Queens\",\"P.S. 151 Mary D. Carter\",\"P.S. 152 Gwendoline N. Alleyne School\",\"P.S. 166 Henry Gradstein\",\"P.S. 171 Peter G. Van Alst\",\"P.S. 212\",\"P.S. 234\",\"P.S. 280\",\"East Elmhurst Community School\",\"The Woodside Community School\"],\"legendgroup\":\"Q\",\"marker\":{\"color\":\"#636efa\",\"symbol\":\"circle\",\"size\":10},\"mode\":\"markers\",\"name\":\"Q\",\"orientation\":\"v\",\"showlegend\":true,\"x\":[\"Well Developed\",\"Proficient\",\"Proficient\",\"Proficient\",\"Well Developed\",\"Developing\",\"Proficient\",\"Proficient\",\"Proficient\",\"Proficient\",\"Proficient\",\"Well Developed\",\"Proficient\",\"Proficient\",\"Proficient\",\"Proficient\",\"Proficient\",\"Proficient\",\"Proficient\",\"Proficient\",\"Proficient\",\"Proficient\"],\"xaxis\":\"x\",\"y\":[\"Proficient\",\"Proficient\",\"Proficient\",\"Proficient\",\"Well Developed\",\"Developing\",\"Well Developed\",\"Proficient\",\"Developing\",\"Proficient\",\"Proficient\",\"Proficient\",\"Proficient\",\"Proficient\",\"Well Developed\",\"Proficient\",\"Proficient\",\"Proficient\",\"Well Developed\",\"Proficient\",\"Proficient\",\"Proficient\"],\"yaxis\":\"y\",\"type\":\"scatter\"}],                        {\"template\":{\"data\":{\"bar\":[{\"error_x\":{\"color\":\"#2a3f5f\"},\"error_y\":{\"color\":\"#2a3f5f\"},\"marker\":{\"line\":{\"color\":\"#E5ECF6\",\"width\":0.5},\"pattern\":{\"fillmode\":\"overlay\",\"size\":10,\"solidity\":0.2}},\"type\":\"bar\"}],\"barpolar\":[{\"marker\":{\"line\":{\"color\":\"#E5ECF6\",\"width\":0.5},\"pattern\":{\"fillmode\":\"overlay\",\"size\":10,\"solidity\":0.2}},\"type\":\"barpolar\"}],\"carpet\":[{\"aaxis\":{\"endlinecolor\":\"#2a3f5f\",\"gridcolor\":\"white\",\"linecolor\":\"white\",\"minorgridcolor\":\"white\",\"startlinecolor\":\"#2a3f5f\"},\"baxis\":{\"endlinecolor\":\"#2a3f5f\",\"gridcolor\":\"white\",\"linecolor\":\"white\",\"minorgridcolor\":\"white\",\"startlinecolor\":\"#2a3f5f\"},\"type\":\"carpet\"}],\"choropleth\":[{\"colorbar\":{\"outlinewidth\":0,\"ticks\":\"\"},\"type\":\"choropleth\"}],\"contour\":[{\"colorbar\":{\"outlinewidth\":0,\"ticks\":\"\"},\"colorscale\":[[0.0,\"#0d0887\"],[0.1111111111111111,\"#46039f\"],[0.2222222222222222,\"#7201a8\"],[0.3333333333333333,\"#9c179e\"],[0.4444444444444444,\"#bd3786\"],[0.5555555555555556,\"#d8576b\"],[0.6666666666666666,\"#ed7953\"],[0.7777777777777778,\"#fb9f3a\"],[0.8888888888888888,\"#fdca26\"],[1.0,\"#f0f921\"]],\"type\":\"contour\"}],\"contourcarpet\":[{\"colorbar\":{\"outlinewidth\":0,\"ticks\":\"\"},\"type\":\"contourcarpet\"}],\"heatmap\":[{\"colorbar\":{\"outlinewidth\":0,\"ticks\":\"\"},\"colorscale\":[[0.0,\"#0d0887\"],[0.1111111111111111,\"#46039f\"],[0.2222222222222222,\"#7201a8\"],[0.3333333333333333,\"#9c179e\"],[0.4444444444444444,\"#bd3786\"],[0.5555555555555556,\"#d8576b\"],[0.6666666666666666,\"#ed7953\"],[0.7777777777777778,\"#fb9f3a\"],[0.8888888888888888,\"#fdca26\"],[1.0,\"#f0f921\"]],\"type\":\"heatmap\"}],\"heatmapgl\":[{\"colorbar\":{\"outlinewidth\":0,\"ticks\":\"\"},\"colorscale\":[[0.0,\"#0d0887\"],[0.1111111111111111,\"#46039f\"],[0.2222222222222222,\"#7201a8\"],[0.3333333333333333,\"#9c179e\"],[0.4444444444444444,\"#bd3786\"],[0.5555555555555556,\"#d8576b\"],[0.6666666666666666,\"#ed7953\"],[0.7777777777777778,\"#fb9f3a\"],[0.8888888888888888,\"#fdca26\"],[1.0,\"#f0f921\"]],\"type\":\"heatmapgl\"}],\"histogram\":[{\"marker\":{\"pattern\":{\"fillmode\":\"overlay\",\"size\":10,\"solidity\":0.2}},\"type\":\"histogram\"}],\"histogram2d\":[{\"colorbar\":{\"outlinewidth\":0,\"ticks\":\"\"},\"colorscale\":[[0.0,\"#0d0887\"],[0.1111111111111111,\"#46039f\"],[0.2222222222222222,\"#7201a8\"],[0.3333333333333333,\"#9c179e\"],[0.4444444444444444,\"#bd3786\"],[0.5555555555555556,\"#d8576b\"],[0.6666666666666666,\"#ed7953\"],[0.7777777777777778,\"#fb9f3a\"],[0.8888888888888888,\"#fdca26\"],[1.0,\"#f0f921\"]],\"type\":\"histogram2d\"}],\"histogram2dcontour\":[{\"colorbar\":{\"outlinewidth\":0,\"ticks\":\"\"},\"colorscale\":[[0.0,\"#0d0887\"],[0.1111111111111111,\"#46039f\"],[0.2222222222222222,\"#7201a8\"],[0.3333333333333333,\"#9c179e\"],[0.4444444444444444,\"#bd3786\"],[0.5555555555555556,\"#d8576b\"],[0.6666666666666666,\"#ed7953\"],[0.7777777777777778,\"#fb9f3a\"],[0.8888888888888888,\"#fdca26\"],[1.0,\"#f0f921\"]],\"type\":\"histogram2dcontour\"}],\"mesh3d\":[{\"colorbar\":{\"outlinewidth\":0,\"ticks\":\"\"},\"type\":\"mesh3d\"}],\"parcoords\":[{\"line\":{\"colorbar\":{\"outlinewidth\":0,\"ticks\":\"\"}},\"type\":\"parcoords\"}],\"pie\":[{\"automargin\":true,\"type\":\"pie\"}],\"scatter\":[{\"marker\":{\"colorbar\":{\"outlinewidth\":0,\"ticks\":\"\"}},\"type\":\"scatter\"}],\"scatter3d\":[{\"line\":{\"colorbar\":{\"outlinewidth\":0,\"ticks\":\"\"}},\"marker\":{\"colorbar\":{\"outlinewidth\":0,\"ticks\":\"\"}},\"type\":\"scatter3d\"}],\"scattercarpet\":[{\"marker\":{\"colorbar\":{\"outlinewidth\":0,\"ticks\":\"\"}},\"type\":\"scattercarpet\"}],\"scattergeo\":[{\"marker\":{\"colorbar\":{\"outlinewidth\":0,\"ticks\":\"\"}},\"type\":\"scattergeo\"}],\"scattergl\":[{\"marker\":{\"colorbar\":{\"outlinewidth\":0,\"ticks\":\"\"}},\"type\":\"scattergl\"}],\"scattermapbox\":[{\"marker\":{\"colorbar\":{\"outlinewidth\":0,\"ticks\":\"\"}},\"type\":\"scattermapbox\"}],\"scatterpolar\":[{\"marker\":{\"colorbar\":{\"outlinewidth\":0,\"ticks\":\"\"}},\"type\":\"scatterpolar\"}],\"scatterpolargl\":[{\"marker\":{\"colorbar\":{\"outlinewidth\":0,\"ticks\":\"\"}},\"type\":\"scatterpolargl\"}],\"scatterternary\":[{\"marker\":{\"colorbar\":{\"outlinewidth\":0,\"ticks\":\"\"}},\"type\":\"scatterternary\"}],\"surface\":[{\"colorbar\":{\"outlinewidth\":0,\"ticks\":\"\"},\"colorscale\":[[0.0,\"#0d0887\"],[0.1111111111111111,\"#46039f\"],[0.2222222222222222,\"#7201a8\"],[0.3333333333333333,\"#9c179e\"],[0.4444444444444444,\"#bd3786\"],[0.5555555555555556,\"#d8576b\"],[0.6666666666666666,\"#ed7953\"],[0.7777777777777778,\"#fb9f3a\"],[0.8888888888888888,\"#fdca26\"],[1.0,\"#f0f921\"]],\"type\":\"surface\"}],\"table\":[{\"cells\":{\"fill\":{\"color\":\"#EBF0F8\"},\"line\":{\"color\":\"white\"}},\"header\":{\"fill\":{\"color\":\"#C8D4E3\"},\"line\":{\"color\":\"white\"}},\"type\":\"table\"}]},\"layout\":{\"annotationdefaults\":{\"arrowcolor\":\"#2a3f5f\",\"arrowhead\":0,\"arrowwidth\":1},\"autotypenumbers\":\"strict\",\"coloraxis\":{\"colorbar\":{\"outlinewidth\":0,\"ticks\":\"\"}},\"colorscale\":{\"diverging\":[[0,\"#8e0152\"],[0.1,\"#c51b7d\"],[0.2,\"#de77ae\"],[0.3,\"#f1b6da\"],[0.4,\"#fde0ef\"],[0.5,\"#f7f7f7\"],[0.6,\"#e6f5d0\"],[0.7,\"#b8e186\"],[0.8,\"#7fbc41\"],[0.9,\"#4d9221\"],[1,\"#276419\"]],\"sequential\":[[0.0,\"#0d0887\"],[0.1111111111111111,\"#46039f\"],[0.2222222222222222,\"#7201a8\"],[0.3333333333333333,\"#9c179e\"],[0.4444444444444444,\"#bd3786\"],[0.5555555555555556,\"#d8576b\"],[0.6666666666666666,\"#ed7953\"],[0.7777777777777778,\"#fb9f3a\"],[0.8888888888888888,\"#fdca26\"],[1.0,\"#f0f921\"]],\"sequentialminus\":[[0.0,\"#0d0887\"],[0.1111111111111111,\"#46039f\"],[0.2222222222222222,\"#7201a8\"],[0.3333333333333333,\"#9c179e\"],[0.4444444444444444,\"#bd3786\"],[0.5555555555555556,\"#d8576b\"],[0.6666666666666666,\"#ed7953\"],[0.7777777777777778,\"#fb9f3a\"],[0.8888888888888888,\"#fdca26\"],[1.0,\"#f0f921\"]]},\"colorway\":[\"#636efa\",\"#EF553B\",\"#00cc96\",\"#ab63fa\",\"#FFA15A\",\"#19d3f3\",\"#FF6692\",\"#B6E880\",\"#FF97FF\",\"#FECB52\"],\"font\":{\"color\":\"#2a3f5f\"},\"geo\":{\"bgcolor\":\"white\",\"lakecolor\":\"white\",\"landcolor\":\"#E5ECF6\",\"showlakes\":true,\"showland\":true,\"subunitcolor\":\"white\"},\"hoverlabel\":{\"align\":\"left\"},\"hovermode\":\"closest\",\"mapbox\":{\"style\":\"light\"},\"paper_bgcolor\":\"white\",\"plot_bgcolor\":\"#E5ECF6\",\"polar\":{\"angularaxis\":{\"gridcolor\":\"white\",\"linecolor\":\"white\",\"ticks\":\"\"},\"bgcolor\":\"#E5ECF6\",\"radialaxis\":{\"gridcolor\":\"white\",\"linecolor\":\"white\",\"ticks\":\"\"}},\"scene\":{\"xaxis\":{\"backgroundcolor\":\"#E5ECF6\",\"gridcolor\":\"white\",\"gridwidth\":2,\"linecolor\":\"white\",\"showbackground\":true,\"ticks\":\"\",\"zerolinecolor\":\"white\"},\"yaxis\":{\"backgroundcolor\":\"#E5ECF6\",\"gridcolor\":\"white\",\"gridwidth\":2,\"linecolor\":\"white\",\"showbackground\":true,\"ticks\":\"\",\"zerolinecolor\":\"white\"},\"zaxis\":{\"backgroundcolor\":\"#E5ECF6\",\"gridcolor\":\"white\",\"gridwidth\":2,\"linecolor\":\"white\",\"showbackground\":true,\"ticks\":\"\",\"zerolinecolor\":\"white\"}},\"shapedefaults\":{\"line\":{\"color\":\"#2a3f5f\"}},\"ternary\":{\"aaxis\":{\"gridcolor\":\"white\",\"linecolor\":\"white\",\"ticks\":\"\"},\"baxis\":{\"gridcolor\":\"white\",\"linecolor\":\"white\",\"ticks\":\"\"},\"bgcolor\":\"#E5ECF6\",\"caxis\":{\"gridcolor\":\"white\",\"linecolor\":\"white\",\"ticks\":\"\"}},\"title\":{\"x\":0.05},\"xaxis\":{\"automargin\":true,\"gridcolor\":\"white\",\"linecolor\":\"white\",\"ticks\":\"\",\"title\":{\"standoff\":15},\"zerolinecolor\":\"white\",\"zerolinewidth\":2},\"yaxis\":{\"automargin\":true,\"gridcolor\":\"white\",\"linecolor\":\"white\",\"ticks\":\"\",\"title\":{\"standoff\":15},\"zerolinecolor\":\"white\",\"zerolinewidth\":2}}},\"xaxis\":{\"anchor\":\"y\",\"domain\":[0.0,1.0],\"title\":{\"text\":\"qr_1_1\"}},\"yaxis\":{\"anchor\":\"x\",\"domain\":[0.0,1.0],\"title\":{\"text\":\"qr_1_2\"}},\"legend\":{\"title\":{\"text\":\"borough\"},\"tracegroupgap\":0},\"margin\":{\"t\":60}},                        {\"responsive\": true}                    ).then(function(){\n",
       "                            \n",
       "var gd = document.getElementById('6b74234d-9278-43aa-8d3a-a8bbe02e9db6');\n",
       "var x = new MutationObserver(function (mutations, observer) {{\n",
       "        var display = window.getComputedStyle(gd).display;\n",
       "        if (!display || display === 'none') {{\n",
       "            console.log([gd, 'removed!']);\n",
       "            Plotly.purge(gd);\n",
       "            observer.disconnect();\n",
       "        }}\n",
       "}});\n",
       "\n",
       "// Listen for the removal of the full notebook cells\n",
       "var notebookContainer = gd.closest('#notebook-container');\n",
       "if (notebookContainer) {{\n",
       "    x.observe(notebookContainer, {childList: true});\n",
       "}}\n",
       "\n",
       "// Listen for the clearing of the current output cell\n",
       "var outputEl = gd.closest('.output');\n",
       "if (outputEl) {{\n",
       "    x.observe(outputEl, {childList: true});\n",
       "}}\n",
       "\n",
       "                        })                };                });            </script>        </div>"
      ]
     },
     "metadata": {},
     "output_type": "display_data"
    }
   ],
   "source": [
    "fig = px.scatter(district30elementary, x=\"qr_1_1\", y=\"qr_1_2\", #size='enrollment',\n",
    "             color=\"borough\", hover_name=\"school_name\")\n",
    "fig.update_traces(marker_size=10)"
   ]
  },
  {
   "cell_type": "code",
   "execution_count": 33,
   "id": "58e55b0c",
   "metadata": {},
   "outputs": [
    {
     "data": {
      "text/plain": [
       "Index(['n_prof_pct_watn5_elalevel34', 'val_prof_pct_watn5_elalevel34',\n",
       "       'n_prof_pct_watn5_mthlevel2', 'val_prof_pct_watn5_mthlevel2',\n",
       "       'n_prof_pct_watn5_mthlevel34', 'val_prof_pct_watn5_mthlevel34',\n",
       "       'n_prof_2plus_watn3_elalevel1', 'val_prof_2plus_watn3_elalevel1',\n",
       "       'n_prof_2plus_watn3_mthlevel1', 'val_prof_2plus_watn3_mthlevel1',\n",
       "       'n_prof_pct_watn3_elalevel2', 'val_prof_pct_watn3_elalevel2',\n",
       "       'n_prof_pct_watn3_elalevel34', 'val_prof_pct_watn3_elalevel34',\n",
       "       'n_prof_pct_watn3_mthlevel2', 'val_prof_pct_watn3_mthlevel2',\n",
       "       'n_prof_pct_watn3_mthlevel34', 'val_prof_pct_watn3_mthlevel34',\n",
       "       'district', 'borough'],\n",
       "      dtype='object')"
      ]
     },
     "execution_count": 33,
     "metadata": {},
     "output_type": "execute_result"
    }
   ],
   "source": [
    "# results_df['principal experience']\n",
    "results_df.columns[-20:]"
   ]
  },
  {
   "cell_type": "code",
   "execution_count": 34,
   "id": "97623417",
   "metadata": {},
   "outputs": [
    {
     "data": {
      "application/vnd.plotly.v1+json": {
       "config": {
        "plotlyServerURL": "https://plot.ly"
       },
       "data": [
        {
         "hovertemplate": "<b>%{hovertext}</b><br><br>borough=Q<br>val_prof_pct_watn3_mthlevel2=%{x}<br>val_prof_pct_watn3_mthlevel34=%{y}<extra></extra>",
         "hovertext": [
          "P.S. 002 Alfred Zimberg",
          "P.S. 011 Kathryn Phelan",
          "P.S. 017 Henry David Thoreau",
          "P.S. 069 Jackson Heights",
          "P.S. 070",
          "P.S. 076 William Hallet",
          "P.S. 084 Steinway",
          "P.S. 085 Judge Charles Vallone",
          "P.S. 092 Harry T. Stewart Sr.",
          "P.S. 112 Dutch Kills",
          "P.S. 148 Queens",
          "P.S. 149 Christa McAuliffe",
          "P.S. 150 Queens",
          "P.S. 151 Mary D. Carter",
          "P.S. 152 Gwendoline N. Alleyne School",
          "P.S. 166 Henry Gradstein",
          "P.S. 171 Peter G. Van Alst",
          "P.S. 212",
          "P.S. 234",
          "P.S. 280",
          "East Elmhurst Community School",
          "The Woodside Community School"
         ],
         "legendgroup": "Q",
         "marker": {
          "color": "#636efa",
          "size": 10,
          "symbol": "circle"
         },
         "mode": "markers",
         "name": "Q",
         "orientation": "v",
         "showlegend": true,
         "type": "scatter",
         "x": [
          "0.208",
          "0.171",
          "0.208",
          "0.45",
          "0.25",
          "0.042",
          "No Data",
          "0.056",
          "0.179",
          "No Data",
          "0.167",
          "0.241",
          "0.333",
          "No Data",
          "0.351",
          "0.342",
          "0",
          "0.273",
          "0.619",
          "0.286",
          "No Data",
          "No Data"
         ],
         "xaxis": "x",
         "y": [
          "0.896",
          "0.72",
          "0.735",
          "0.898",
          "0.676",
          "0.667",
          "0.783",
          "0.851",
          "0.763",
          "0.488",
          "0.571",
          "0.697",
          "0.957",
          "0.762",
          "0.906",
          "0.914",
          "0.357",
          "0.788",
          "0.931",
          "0.717",
          "0.613",
          "No Data"
         ],
         "yaxis": "y"
        }
       ],
       "layout": {
        "legend": {
         "title": {
          "text": "borough"
         },
         "tracegroupgap": 0
        },
        "margin": {
         "t": 60
        },
        "template": {
         "data": {
          "bar": [
           {
            "error_x": {
             "color": "#2a3f5f"
            },
            "error_y": {
             "color": "#2a3f5f"
            },
            "marker": {
             "line": {
              "color": "#E5ECF6",
              "width": 0.5
             },
             "pattern": {
              "fillmode": "overlay",
              "size": 10,
              "solidity": 0.2
             }
            },
            "type": "bar"
           }
          ],
          "barpolar": [
           {
            "marker": {
             "line": {
              "color": "#E5ECF6",
              "width": 0.5
             },
             "pattern": {
              "fillmode": "overlay",
              "size": 10,
              "solidity": 0.2
             }
            },
            "type": "barpolar"
           }
          ],
          "carpet": [
           {
            "aaxis": {
             "endlinecolor": "#2a3f5f",
             "gridcolor": "white",
             "linecolor": "white",
             "minorgridcolor": "white",
             "startlinecolor": "#2a3f5f"
            },
            "baxis": {
             "endlinecolor": "#2a3f5f",
             "gridcolor": "white",
             "linecolor": "white",
             "minorgridcolor": "white",
             "startlinecolor": "#2a3f5f"
            },
            "type": "carpet"
           }
          ],
          "choropleth": [
           {
            "colorbar": {
             "outlinewidth": 0,
             "ticks": ""
            },
            "type": "choropleth"
           }
          ],
          "contour": [
           {
            "colorbar": {
             "outlinewidth": 0,
             "ticks": ""
            },
            "colorscale": [
             [
              0,
              "#0d0887"
             ],
             [
              0.1111111111111111,
              "#46039f"
             ],
             [
              0.2222222222222222,
              "#7201a8"
             ],
             [
              0.3333333333333333,
              "#9c179e"
             ],
             [
              0.4444444444444444,
              "#bd3786"
             ],
             [
              0.5555555555555556,
              "#d8576b"
             ],
             [
              0.6666666666666666,
              "#ed7953"
             ],
             [
              0.7777777777777778,
              "#fb9f3a"
             ],
             [
              0.8888888888888888,
              "#fdca26"
             ],
             [
              1,
              "#f0f921"
             ]
            ],
            "type": "contour"
           }
          ],
          "contourcarpet": [
           {
            "colorbar": {
             "outlinewidth": 0,
             "ticks": ""
            },
            "type": "contourcarpet"
           }
          ],
          "heatmap": [
           {
            "colorbar": {
             "outlinewidth": 0,
             "ticks": ""
            },
            "colorscale": [
             [
              0,
              "#0d0887"
             ],
             [
              0.1111111111111111,
              "#46039f"
             ],
             [
              0.2222222222222222,
              "#7201a8"
             ],
             [
              0.3333333333333333,
              "#9c179e"
             ],
             [
              0.4444444444444444,
              "#bd3786"
             ],
             [
              0.5555555555555556,
              "#d8576b"
             ],
             [
              0.6666666666666666,
              "#ed7953"
             ],
             [
              0.7777777777777778,
              "#fb9f3a"
             ],
             [
              0.8888888888888888,
              "#fdca26"
             ],
             [
              1,
              "#f0f921"
             ]
            ],
            "type": "heatmap"
           }
          ],
          "heatmapgl": [
           {
            "colorbar": {
             "outlinewidth": 0,
             "ticks": ""
            },
            "colorscale": [
             [
              0,
              "#0d0887"
             ],
             [
              0.1111111111111111,
              "#46039f"
             ],
             [
              0.2222222222222222,
              "#7201a8"
             ],
             [
              0.3333333333333333,
              "#9c179e"
             ],
             [
              0.4444444444444444,
              "#bd3786"
             ],
             [
              0.5555555555555556,
              "#d8576b"
             ],
             [
              0.6666666666666666,
              "#ed7953"
             ],
             [
              0.7777777777777778,
              "#fb9f3a"
             ],
             [
              0.8888888888888888,
              "#fdca26"
             ],
             [
              1,
              "#f0f921"
             ]
            ],
            "type": "heatmapgl"
           }
          ],
          "histogram": [
           {
            "marker": {
             "pattern": {
              "fillmode": "overlay",
              "size": 10,
              "solidity": 0.2
             }
            },
            "type": "histogram"
           }
          ],
          "histogram2d": [
           {
            "colorbar": {
             "outlinewidth": 0,
             "ticks": ""
            },
            "colorscale": [
             [
              0,
              "#0d0887"
             ],
             [
              0.1111111111111111,
              "#46039f"
             ],
             [
              0.2222222222222222,
              "#7201a8"
             ],
             [
              0.3333333333333333,
              "#9c179e"
             ],
             [
              0.4444444444444444,
              "#bd3786"
             ],
             [
              0.5555555555555556,
              "#d8576b"
             ],
             [
              0.6666666666666666,
              "#ed7953"
             ],
             [
              0.7777777777777778,
              "#fb9f3a"
             ],
             [
              0.8888888888888888,
              "#fdca26"
             ],
             [
              1,
              "#f0f921"
             ]
            ],
            "type": "histogram2d"
           }
          ],
          "histogram2dcontour": [
           {
            "colorbar": {
             "outlinewidth": 0,
             "ticks": ""
            },
            "colorscale": [
             [
              0,
              "#0d0887"
             ],
             [
              0.1111111111111111,
              "#46039f"
             ],
             [
              0.2222222222222222,
              "#7201a8"
             ],
             [
              0.3333333333333333,
              "#9c179e"
             ],
             [
              0.4444444444444444,
              "#bd3786"
             ],
             [
              0.5555555555555556,
              "#d8576b"
             ],
             [
              0.6666666666666666,
              "#ed7953"
             ],
             [
              0.7777777777777778,
              "#fb9f3a"
             ],
             [
              0.8888888888888888,
              "#fdca26"
             ],
             [
              1,
              "#f0f921"
             ]
            ],
            "type": "histogram2dcontour"
           }
          ],
          "mesh3d": [
           {
            "colorbar": {
             "outlinewidth": 0,
             "ticks": ""
            },
            "type": "mesh3d"
           }
          ],
          "parcoords": [
           {
            "line": {
             "colorbar": {
              "outlinewidth": 0,
              "ticks": ""
             }
            },
            "type": "parcoords"
           }
          ],
          "pie": [
           {
            "automargin": true,
            "type": "pie"
           }
          ],
          "scatter": [
           {
            "marker": {
             "colorbar": {
              "outlinewidth": 0,
              "ticks": ""
             }
            },
            "type": "scatter"
           }
          ],
          "scatter3d": [
           {
            "line": {
             "colorbar": {
              "outlinewidth": 0,
              "ticks": ""
             }
            },
            "marker": {
             "colorbar": {
              "outlinewidth": 0,
              "ticks": ""
             }
            },
            "type": "scatter3d"
           }
          ],
          "scattercarpet": [
           {
            "marker": {
             "colorbar": {
              "outlinewidth": 0,
              "ticks": ""
             }
            },
            "type": "scattercarpet"
           }
          ],
          "scattergeo": [
           {
            "marker": {
             "colorbar": {
              "outlinewidth": 0,
              "ticks": ""
             }
            },
            "type": "scattergeo"
           }
          ],
          "scattergl": [
           {
            "marker": {
             "colorbar": {
              "outlinewidth": 0,
              "ticks": ""
             }
            },
            "type": "scattergl"
           }
          ],
          "scattermapbox": [
           {
            "marker": {
             "colorbar": {
              "outlinewidth": 0,
              "ticks": ""
             }
            },
            "type": "scattermapbox"
           }
          ],
          "scatterpolar": [
           {
            "marker": {
             "colorbar": {
              "outlinewidth": 0,
              "ticks": ""
             }
            },
            "type": "scatterpolar"
           }
          ],
          "scatterpolargl": [
           {
            "marker": {
             "colorbar": {
              "outlinewidth": 0,
              "ticks": ""
             }
            },
            "type": "scatterpolargl"
           }
          ],
          "scatterternary": [
           {
            "marker": {
             "colorbar": {
              "outlinewidth": 0,
              "ticks": ""
             }
            },
            "type": "scatterternary"
           }
          ],
          "surface": [
           {
            "colorbar": {
             "outlinewidth": 0,
             "ticks": ""
            },
            "colorscale": [
             [
              0,
              "#0d0887"
             ],
             [
              0.1111111111111111,
              "#46039f"
             ],
             [
              0.2222222222222222,
              "#7201a8"
             ],
             [
              0.3333333333333333,
              "#9c179e"
             ],
             [
              0.4444444444444444,
              "#bd3786"
             ],
             [
              0.5555555555555556,
              "#d8576b"
             ],
             [
              0.6666666666666666,
              "#ed7953"
             ],
             [
              0.7777777777777778,
              "#fb9f3a"
             ],
             [
              0.8888888888888888,
              "#fdca26"
             ],
             [
              1,
              "#f0f921"
             ]
            ],
            "type": "surface"
           }
          ],
          "table": [
           {
            "cells": {
             "fill": {
              "color": "#EBF0F8"
             },
             "line": {
              "color": "white"
             }
            },
            "header": {
             "fill": {
              "color": "#C8D4E3"
             },
             "line": {
              "color": "white"
             }
            },
            "type": "table"
           }
          ]
         },
         "layout": {
          "annotationdefaults": {
           "arrowcolor": "#2a3f5f",
           "arrowhead": 0,
           "arrowwidth": 1
          },
          "autotypenumbers": "strict",
          "coloraxis": {
           "colorbar": {
            "outlinewidth": 0,
            "ticks": ""
           }
          },
          "colorscale": {
           "diverging": [
            [
             0,
             "#8e0152"
            ],
            [
             0.1,
             "#c51b7d"
            ],
            [
             0.2,
             "#de77ae"
            ],
            [
             0.3,
             "#f1b6da"
            ],
            [
             0.4,
             "#fde0ef"
            ],
            [
             0.5,
             "#f7f7f7"
            ],
            [
             0.6,
             "#e6f5d0"
            ],
            [
             0.7,
             "#b8e186"
            ],
            [
             0.8,
             "#7fbc41"
            ],
            [
             0.9,
             "#4d9221"
            ],
            [
             1,
             "#276419"
            ]
           ],
           "sequential": [
            [
             0,
             "#0d0887"
            ],
            [
             0.1111111111111111,
             "#46039f"
            ],
            [
             0.2222222222222222,
             "#7201a8"
            ],
            [
             0.3333333333333333,
             "#9c179e"
            ],
            [
             0.4444444444444444,
             "#bd3786"
            ],
            [
             0.5555555555555556,
             "#d8576b"
            ],
            [
             0.6666666666666666,
             "#ed7953"
            ],
            [
             0.7777777777777778,
             "#fb9f3a"
            ],
            [
             0.8888888888888888,
             "#fdca26"
            ],
            [
             1,
             "#f0f921"
            ]
           ],
           "sequentialminus": [
            [
             0,
             "#0d0887"
            ],
            [
             0.1111111111111111,
             "#46039f"
            ],
            [
             0.2222222222222222,
             "#7201a8"
            ],
            [
             0.3333333333333333,
             "#9c179e"
            ],
            [
             0.4444444444444444,
             "#bd3786"
            ],
            [
             0.5555555555555556,
             "#d8576b"
            ],
            [
             0.6666666666666666,
             "#ed7953"
            ],
            [
             0.7777777777777778,
             "#fb9f3a"
            ],
            [
             0.8888888888888888,
             "#fdca26"
            ],
            [
             1,
             "#f0f921"
            ]
           ]
          },
          "colorway": [
           "#636efa",
           "#EF553B",
           "#00cc96",
           "#ab63fa",
           "#FFA15A",
           "#19d3f3",
           "#FF6692",
           "#B6E880",
           "#FF97FF",
           "#FECB52"
          ],
          "font": {
           "color": "#2a3f5f"
          },
          "geo": {
           "bgcolor": "white",
           "lakecolor": "white",
           "landcolor": "#E5ECF6",
           "showlakes": true,
           "showland": true,
           "subunitcolor": "white"
          },
          "hoverlabel": {
           "align": "left"
          },
          "hovermode": "closest",
          "mapbox": {
           "style": "light"
          },
          "paper_bgcolor": "white",
          "plot_bgcolor": "#E5ECF6",
          "polar": {
           "angularaxis": {
            "gridcolor": "white",
            "linecolor": "white",
            "ticks": ""
           },
           "bgcolor": "#E5ECF6",
           "radialaxis": {
            "gridcolor": "white",
            "linecolor": "white",
            "ticks": ""
           }
          },
          "scene": {
           "xaxis": {
            "backgroundcolor": "#E5ECF6",
            "gridcolor": "white",
            "gridwidth": 2,
            "linecolor": "white",
            "showbackground": true,
            "ticks": "",
            "zerolinecolor": "white"
           },
           "yaxis": {
            "backgroundcolor": "#E5ECF6",
            "gridcolor": "white",
            "gridwidth": 2,
            "linecolor": "white",
            "showbackground": true,
            "ticks": "",
            "zerolinecolor": "white"
           },
           "zaxis": {
            "backgroundcolor": "#E5ECF6",
            "gridcolor": "white",
            "gridwidth": 2,
            "linecolor": "white",
            "showbackground": true,
            "ticks": "",
            "zerolinecolor": "white"
           }
          },
          "shapedefaults": {
           "line": {
            "color": "#2a3f5f"
           }
          },
          "ternary": {
           "aaxis": {
            "gridcolor": "white",
            "linecolor": "white",
            "ticks": ""
           },
           "baxis": {
            "gridcolor": "white",
            "linecolor": "white",
            "ticks": ""
           },
           "bgcolor": "#E5ECF6",
           "caxis": {
            "gridcolor": "white",
            "linecolor": "white",
            "ticks": ""
           }
          },
          "title": {
           "x": 0.05
          },
          "xaxis": {
           "automargin": true,
           "gridcolor": "white",
           "linecolor": "white",
           "ticks": "",
           "title": {
            "standoff": 15
           },
           "zerolinecolor": "white",
           "zerolinewidth": 2
          },
          "yaxis": {
           "automargin": true,
           "gridcolor": "white",
           "linecolor": "white",
           "ticks": "",
           "title": {
            "standoff": 15
           },
           "zerolinecolor": "white",
           "zerolinewidth": 2
          }
         }
        },
        "xaxis": {
         "anchor": "y",
         "domain": [
          0,
          1
         ],
         "title": {
          "text": "val_prof_pct_watn3_mthlevel2"
         }
        },
        "yaxis": {
         "anchor": "x",
         "domain": [
          0,
          1
         ],
         "title": {
          "text": "val_prof_pct_watn3_mthlevel34"
         }
        }
       }
      },
      "text/html": [
       "<div>                            <div id=\"39808be7-b204-4002-84fe-d96fa4a2c058\" class=\"plotly-graph-div\" style=\"height:525px; width:100%;\"></div>            <script type=\"text/javascript\">                require([\"plotly\"], function(Plotly) {                    window.PLOTLYENV=window.PLOTLYENV || {};                                    if (document.getElementById(\"39808be7-b204-4002-84fe-d96fa4a2c058\")) {                    Plotly.newPlot(                        \"39808be7-b204-4002-84fe-d96fa4a2c058\",                        [{\"hovertemplate\":\"<b>%{hovertext}</b><br><br>borough=Q<br>val_prof_pct_watn3_mthlevel2=%{x}<br>val_prof_pct_watn3_mthlevel34=%{y}<extra></extra>\",\"hovertext\":[\"P.S. 002 Alfred Zimberg\",\"P.S. 011 Kathryn Phelan\",\"P.S. 017 Henry David Thoreau\",\"P.S. 069 Jackson Heights\",\"P.S. 070\",\"P.S. 076 William Hallet\",\"P.S. 084 Steinway\",\"P.S. 085 Judge Charles Vallone\",\"P.S. 092 Harry T. Stewart Sr.\",\"P.S. 112 Dutch Kills\",\"P.S. 148 Queens\",\"P.S. 149 Christa McAuliffe\",\"P.S. 150 Queens\",\"P.S. 151 Mary D. Carter\",\"P.S. 152 Gwendoline N. Alleyne School\",\"P.S. 166 Henry Gradstein\",\"P.S. 171 Peter G. Van Alst\",\"P.S. 212\",\"P.S. 234\",\"P.S. 280\",\"East Elmhurst Community School\",\"The Woodside Community School\"],\"legendgroup\":\"Q\",\"marker\":{\"color\":\"#636efa\",\"symbol\":\"circle\",\"size\":10},\"mode\":\"markers\",\"name\":\"Q\",\"orientation\":\"v\",\"showlegend\":true,\"x\":[\"0.208\",\"0.171\",\"0.208\",\"0.45\",\"0.25\",\"0.042\",\"No Data\",\"0.056\",\"0.179\",\"No Data\",\"0.167\",\"0.241\",\"0.333\",\"No Data\",\"0.351\",\"0.342\",\"0\",\"0.273\",\"0.619\",\"0.286\",\"No Data\",\"No Data\"],\"xaxis\":\"x\",\"y\":[\"0.896\",\"0.72\",\"0.735\",\"0.898\",\"0.676\",\"0.667\",\"0.783\",\"0.851\",\"0.763\",\"0.488\",\"0.571\",\"0.697\",\"0.957\",\"0.762\",\"0.906\",\"0.914\",\"0.357\",\"0.788\",\"0.931\",\"0.717\",\"0.613\",\"No Data\"],\"yaxis\":\"y\",\"type\":\"scatter\"}],                        {\"template\":{\"data\":{\"bar\":[{\"error_x\":{\"color\":\"#2a3f5f\"},\"error_y\":{\"color\":\"#2a3f5f\"},\"marker\":{\"line\":{\"color\":\"#E5ECF6\",\"width\":0.5},\"pattern\":{\"fillmode\":\"overlay\",\"size\":10,\"solidity\":0.2}},\"type\":\"bar\"}],\"barpolar\":[{\"marker\":{\"line\":{\"color\":\"#E5ECF6\",\"width\":0.5},\"pattern\":{\"fillmode\":\"overlay\",\"size\":10,\"solidity\":0.2}},\"type\":\"barpolar\"}],\"carpet\":[{\"aaxis\":{\"endlinecolor\":\"#2a3f5f\",\"gridcolor\":\"white\",\"linecolor\":\"white\",\"minorgridcolor\":\"white\",\"startlinecolor\":\"#2a3f5f\"},\"baxis\":{\"endlinecolor\":\"#2a3f5f\",\"gridcolor\":\"white\",\"linecolor\":\"white\",\"minorgridcolor\":\"white\",\"startlinecolor\":\"#2a3f5f\"},\"type\":\"carpet\"}],\"choropleth\":[{\"colorbar\":{\"outlinewidth\":0,\"ticks\":\"\"},\"type\":\"choropleth\"}],\"contour\":[{\"colorbar\":{\"outlinewidth\":0,\"ticks\":\"\"},\"colorscale\":[[0.0,\"#0d0887\"],[0.1111111111111111,\"#46039f\"],[0.2222222222222222,\"#7201a8\"],[0.3333333333333333,\"#9c179e\"],[0.4444444444444444,\"#bd3786\"],[0.5555555555555556,\"#d8576b\"],[0.6666666666666666,\"#ed7953\"],[0.7777777777777778,\"#fb9f3a\"],[0.8888888888888888,\"#fdca26\"],[1.0,\"#f0f921\"]],\"type\":\"contour\"}],\"contourcarpet\":[{\"colorbar\":{\"outlinewidth\":0,\"ticks\":\"\"},\"type\":\"contourcarpet\"}],\"heatmap\":[{\"colorbar\":{\"outlinewidth\":0,\"ticks\":\"\"},\"colorscale\":[[0.0,\"#0d0887\"],[0.1111111111111111,\"#46039f\"],[0.2222222222222222,\"#7201a8\"],[0.3333333333333333,\"#9c179e\"],[0.4444444444444444,\"#bd3786\"],[0.5555555555555556,\"#d8576b\"],[0.6666666666666666,\"#ed7953\"],[0.7777777777777778,\"#fb9f3a\"],[0.8888888888888888,\"#fdca26\"],[1.0,\"#f0f921\"]],\"type\":\"heatmap\"}],\"heatmapgl\":[{\"colorbar\":{\"outlinewidth\":0,\"ticks\":\"\"},\"colorscale\":[[0.0,\"#0d0887\"],[0.1111111111111111,\"#46039f\"],[0.2222222222222222,\"#7201a8\"],[0.3333333333333333,\"#9c179e\"],[0.4444444444444444,\"#bd3786\"],[0.5555555555555556,\"#d8576b\"],[0.6666666666666666,\"#ed7953\"],[0.7777777777777778,\"#fb9f3a\"],[0.8888888888888888,\"#fdca26\"],[1.0,\"#f0f921\"]],\"type\":\"heatmapgl\"}],\"histogram\":[{\"marker\":{\"pattern\":{\"fillmode\":\"overlay\",\"size\":10,\"solidity\":0.2}},\"type\":\"histogram\"}],\"histogram2d\":[{\"colorbar\":{\"outlinewidth\":0,\"ticks\":\"\"},\"colorscale\":[[0.0,\"#0d0887\"],[0.1111111111111111,\"#46039f\"],[0.2222222222222222,\"#7201a8\"],[0.3333333333333333,\"#9c179e\"],[0.4444444444444444,\"#bd3786\"],[0.5555555555555556,\"#d8576b\"],[0.6666666666666666,\"#ed7953\"],[0.7777777777777778,\"#fb9f3a\"],[0.8888888888888888,\"#fdca26\"],[1.0,\"#f0f921\"]],\"type\":\"histogram2d\"}],\"histogram2dcontour\":[{\"colorbar\":{\"outlinewidth\":0,\"ticks\":\"\"},\"colorscale\":[[0.0,\"#0d0887\"],[0.1111111111111111,\"#46039f\"],[0.2222222222222222,\"#7201a8\"],[0.3333333333333333,\"#9c179e\"],[0.4444444444444444,\"#bd3786\"],[0.5555555555555556,\"#d8576b\"],[0.6666666666666666,\"#ed7953\"],[0.7777777777777778,\"#fb9f3a\"],[0.8888888888888888,\"#fdca26\"],[1.0,\"#f0f921\"]],\"type\":\"histogram2dcontour\"}],\"mesh3d\":[{\"colorbar\":{\"outlinewidth\":0,\"ticks\":\"\"},\"type\":\"mesh3d\"}],\"parcoords\":[{\"line\":{\"colorbar\":{\"outlinewidth\":0,\"ticks\":\"\"}},\"type\":\"parcoords\"}],\"pie\":[{\"automargin\":true,\"type\":\"pie\"}],\"scatter\":[{\"marker\":{\"colorbar\":{\"outlinewidth\":0,\"ticks\":\"\"}},\"type\":\"scatter\"}],\"scatter3d\":[{\"line\":{\"colorbar\":{\"outlinewidth\":0,\"ticks\":\"\"}},\"marker\":{\"colorbar\":{\"outlinewidth\":0,\"ticks\":\"\"}},\"type\":\"scatter3d\"}],\"scattercarpet\":[{\"marker\":{\"colorbar\":{\"outlinewidth\":0,\"ticks\":\"\"}},\"type\":\"scattercarpet\"}],\"scattergeo\":[{\"marker\":{\"colorbar\":{\"outlinewidth\":0,\"ticks\":\"\"}},\"type\":\"scattergeo\"}],\"scattergl\":[{\"marker\":{\"colorbar\":{\"outlinewidth\":0,\"ticks\":\"\"}},\"type\":\"scattergl\"}],\"scattermapbox\":[{\"marker\":{\"colorbar\":{\"outlinewidth\":0,\"ticks\":\"\"}},\"type\":\"scattermapbox\"}],\"scatterpolar\":[{\"marker\":{\"colorbar\":{\"outlinewidth\":0,\"ticks\":\"\"}},\"type\":\"scatterpolar\"}],\"scatterpolargl\":[{\"marker\":{\"colorbar\":{\"outlinewidth\":0,\"ticks\":\"\"}},\"type\":\"scatterpolargl\"}],\"scatterternary\":[{\"marker\":{\"colorbar\":{\"outlinewidth\":0,\"ticks\":\"\"}},\"type\":\"scatterternary\"}],\"surface\":[{\"colorbar\":{\"outlinewidth\":0,\"ticks\":\"\"},\"colorscale\":[[0.0,\"#0d0887\"],[0.1111111111111111,\"#46039f\"],[0.2222222222222222,\"#7201a8\"],[0.3333333333333333,\"#9c179e\"],[0.4444444444444444,\"#bd3786\"],[0.5555555555555556,\"#d8576b\"],[0.6666666666666666,\"#ed7953\"],[0.7777777777777778,\"#fb9f3a\"],[0.8888888888888888,\"#fdca26\"],[1.0,\"#f0f921\"]],\"type\":\"surface\"}],\"table\":[{\"cells\":{\"fill\":{\"color\":\"#EBF0F8\"},\"line\":{\"color\":\"white\"}},\"header\":{\"fill\":{\"color\":\"#C8D4E3\"},\"line\":{\"color\":\"white\"}},\"type\":\"table\"}]},\"layout\":{\"annotationdefaults\":{\"arrowcolor\":\"#2a3f5f\",\"arrowhead\":0,\"arrowwidth\":1},\"autotypenumbers\":\"strict\",\"coloraxis\":{\"colorbar\":{\"outlinewidth\":0,\"ticks\":\"\"}},\"colorscale\":{\"diverging\":[[0,\"#8e0152\"],[0.1,\"#c51b7d\"],[0.2,\"#de77ae\"],[0.3,\"#f1b6da\"],[0.4,\"#fde0ef\"],[0.5,\"#f7f7f7\"],[0.6,\"#e6f5d0\"],[0.7,\"#b8e186\"],[0.8,\"#7fbc41\"],[0.9,\"#4d9221\"],[1,\"#276419\"]],\"sequential\":[[0.0,\"#0d0887\"],[0.1111111111111111,\"#46039f\"],[0.2222222222222222,\"#7201a8\"],[0.3333333333333333,\"#9c179e\"],[0.4444444444444444,\"#bd3786\"],[0.5555555555555556,\"#d8576b\"],[0.6666666666666666,\"#ed7953\"],[0.7777777777777778,\"#fb9f3a\"],[0.8888888888888888,\"#fdca26\"],[1.0,\"#f0f921\"]],\"sequentialminus\":[[0.0,\"#0d0887\"],[0.1111111111111111,\"#46039f\"],[0.2222222222222222,\"#7201a8\"],[0.3333333333333333,\"#9c179e\"],[0.4444444444444444,\"#bd3786\"],[0.5555555555555556,\"#d8576b\"],[0.6666666666666666,\"#ed7953\"],[0.7777777777777778,\"#fb9f3a\"],[0.8888888888888888,\"#fdca26\"],[1.0,\"#f0f921\"]]},\"colorway\":[\"#636efa\",\"#EF553B\",\"#00cc96\",\"#ab63fa\",\"#FFA15A\",\"#19d3f3\",\"#FF6692\",\"#B6E880\",\"#FF97FF\",\"#FECB52\"],\"font\":{\"color\":\"#2a3f5f\"},\"geo\":{\"bgcolor\":\"white\",\"lakecolor\":\"white\",\"landcolor\":\"#E5ECF6\",\"showlakes\":true,\"showland\":true,\"subunitcolor\":\"white\"},\"hoverlabel\":{\"align\":\"left\"},\"hovermode\":\"closest\",\"mapbox\":{\"style\":\"light\"},\"paper_bgcolor\":\"white\",\"plot_bgcolor\":\"#E5ECF6\",\"polar\":{\"angularaxis\":{\"gridcolor\":\"white\",\"linecolor\":\"white\",\"ticks\":\"\"},\"bgcolor\":\"#E5ECF6\",\"radialaxis\":{\"gridcolor\":\"white\",\"linecolor\":\"white\",\"ticks\":\"\"}},\"scene\":{\"xaxis\":{\"backgroundcolor\":\"#E5ECF6\",\"gridcolor\":\"white\",\"gridwidth\":2,\"linecolor\":\"white\",\"showbackground\":true,\"ticks\":\"\",\"zerolinecolor\":\"white\"},\"yaxis\":{\"backgroundcolor\":\"#E5ECF6\",\"gridcolor\":\"white\",\"gridwidth\":2,\"linecolor\":\"white\",\"showbackground\":true,\"ticks\":\"\",\"zerolinecolor\":\"white\"},\"zaxis\":{\"backgroundcolor\":\"#E5ECF6\",\"gridcolor\":\"white\",\"gridwidth\":2,\"linecolor\":\"white\",\"showbackground\":true,\"ticks\":\"\",\"zerolinecolor\":\"white\"}},\"shapedefaults\":{\"line\":{\"color\":\"#2a3f5f\"}},\"ternary\":{\"aaxis\":{\"gridcolor\":\"white\",\"linecolor\":\"white\",\"ticks\":\"\"},\"baxis\":{\"gridcolor\":\"white\",\"linecolor\":\"white\",\"ticks\":\"\"},\"bgcolor\":\"#E5ECF6\",\"caxis\":{\"gridcolor\":\"white\",\"linecolor\":\"white\",\"ticks\":\"\"}},\"title\":{\"x\":0.05},\"xaxis\":{\"automargin\":true,\"gridcolor\":\"white\",\"linecolor\":\"white\",\"ticks\":\"\",\"title\":{\"standoff\":15},\"zerolinecolor\":\"white\",\"zerolinewidth\":2},\"yaxis\":{\"automargin\":true,\"gridcolor\":\"white\",\"linecolor\":\"white\",\"ticks\":\"\",\"title\":{\"standoff\":15},\"zerolinecolor\":\"white\",\"zerolinewidth\":2}}},\"xaxis\":{\"anchor\":\"y\",\"domain\":[0.0,1.0],\"title\":{\"text\":\"val_prof_pct_watn3_mthlevel2\"}},\"yaxis\":{\"anchor\":\"x\",\"domain\":[0.0,1.0],\"title\":{\"text\":\"val_prof_pct_watn3_mthlevel34\"}},\"legend\":{\"title\":{\"text\":\"borough\"},\"tracegroupgap\":0},\"margin\":{\"t\":60}},                        {\"responsive\": true}                    ).then(function(){\n",
       "                            \n",
       "var gd = document.getElementById('39808be7-b204-4002-84fe-d96fa4a2c058');\n",
       "var x = new MutationObserver(function (mutations, observer) {{\n",
       "        var display = window.getComputedStyle(gd).display;\n",
       "        if (!display || display === 'none') {{\n",
       "            console.log([gd, 'removed!']);\n",
       "            Plotly.purge(gd);\n",
       "            observer.disconnect();\n",
       "        }}\n",
       "}});\n",
       "\n",
       "// Listen for the removal of the full notebook cells\n",
       "var notebookContainer = gd.closest('#notebook-container');\n",
       "if (notebookContainer) {{\n",
       "    x.observe(notebookContainer, {childList: true});\n",
       "}}\n",
       "\n",
       "// Listen for the clearing of the current output cell\n",
       "var outputEl = gd.closest('.output');\n",
       "if (outputEl) {{\n",
       "    x.observe(outputEl, {childList: true});\n",
       "}}\n",
       "\n",
       "                        })                };                });            </script>        </div>"
      ]
     },
     "metadata": {},
     "output_type": "display_data"
    }
   ],
   "source": [
    "fig = px.scatter(district30elementary, x=\"val_prof_pct_watn3_mthlevel2\", y=\"val_prof_pct_watn3_mthlevel34\", #size='enrollment',\n",
    "             color=\"borough\", hover_name=\"school_name\")\n",
    "fig.update_traces(marker_size=10)"
   ]
  },
  {
   "cell_type": "code",
   "execution_count": 20,
   "id": "1dc0a7fc",
   "metadata": {},
   "outputs": [
    {
     "ename": "TypeError",
     "evalue": "unsupported operand type(s) for /: 'str' and 'int'",
     "output_type": "error",
     "traceback": [
      "\u001b[0;31m---------------------------------------------------------------------------\u001b[0m",
      "\u001b[0;31mTypeError\u001b[0m                                 Traceback (most recent call last)",
      "\u001b[0;32m<ipython-input-20-ecf9f7ec517f>\u001b[0m in \u001b[0;36m<module>\u001b[0;34m\u001b[0m\n\u001b[1;32m      4\u001b[0m \u001b[0;31m# see https://plotly.com/python/px-arguments/ for more options\u001b[0m\u001b[0;34m\u001b[0m\u001b[0;34m\u001b[0m\u001b[0;34m\u001b[0m\u001b[0m\n\u001b[1;32m      5\u001b[0m \u001b[0;34m\u001b[0m\u001b[0m\n\u001b[0;32m----> 6\u001b[0;31m fig = px.scatter(results_df, x=\"qr_1_1\", y=\"qr_1_2\", size='enrollment',\n\u001b[0m\u001b[1;32m      7\u001b[0m              color=\"borough\", hover_name=\"school_name\")\n\u001b[1;32m      8\u001b[0m \u001b[0;34m\u001b[0m\u001b[0m\n",
      "\u001b[0;32m~/anaconda3/lib/python3.8/site-packages/plotly/express/_chart_types.py\u001b[0m in \u001b[0;36mscatter\u001b[0;34m(data_frame, x, y, color, symbol, size, hover_name, hover_data, custom_data, text, facet_row, facet_col, facet_col_wrap, facet_row_spacing, facet_col_spacing, error_x, error_x_minus, error_y, error_y_minus, animation_frame, animation_group, category_orders, labels, orientation, color_discrete_sequence, color_discrete_map, color_continuous_scale, range_color, color_continuous_midpoint, symbol_sequence, symbol_map, opacity, size_max, marginal_x, marginal_y, trendline, trendline_options, trendline_color_override, trendline_scope, log_x, log_y, range_x, range_y, render_mode, title, template, width, height)\u001b[0m\n\u001b[1;32m     64\u001b[0m     \u001b[0mmark\u001b[0m \u001b[0;32min\u001b[0m \u001b[0;36m2\u001b[0m\u001b[0mD\u001b[0m \u001b[0mspace\u001b[0m\u001b[0;34m.\u001b[0m\u001b[0;34m\u001b[0m\u001b[0;34m\u001b[0m\u001b[0m\n\u001b[1;32m     65\u001b[0m     \"\"\"\n\u001b[0;32m---> 66\u001b[0;31m     \u001b[0;32mreturn\u001b[0m \u001b[0mmake_figure\u001b[0m\u001b[0;34m(\u001b[0m\u001b[0margs\u001b[0m\u001b[0;34m=\u001b[0m\u001b[0mlocals\u001b[0m\u001b[0;34m(\u001b[0m\u001b[0;34m)\u001b[0m\u001b[0;34m,\u001b[0m \u001b[0mconstructor\u001b[0m\u001b[0;34m=\u001b[0m\u001b[0mgo\u001b[0m\u001b[0;34m.\u001b[0m\u001b[0mScatter\u001b[0m\u001b[0;34m)\u001b[0m\u001b[0;34m\u001b[0m\u001b[0;34m\u001b[0m\u001b[0m\n\u001b[0m\u001b[1;32m     67\u001b[0m \u001b[0;34m\u001b[0m\u001b[0m\n\u001b[1;32m     68\u001b[0m \u001b[0;34m\u001b[0m\u001b[0m\n",
      "\u001b[0;32m~/anaconda3/lib/python3.8/site-packages/plotly/express/_core.py\u001b[0m in \u001b[0;36mmake_figure\u001b[0;34m(args, constructor, trace_patch, layout_patch)\u001b[0m\n\u001b[1;32m   1950\u001b[0m         \u001b[0margs\u001b[0m \u001b[0;34m=\u001b[0m \u001b[0mprocess_dataframe_timeline\u001b[0m\u001b[0;34m(\u001b[0m\u001b[0margs\u001b[0m\u001b[0;34m)\u001b[0m\u001b[0;34m\u001b[0m\u001b[0;34m\u001b[0m\u001b[0m\n\u001b[1;32m   1951\u001b[0m \u001b[0;34m\u001b[0m\u001b[0m\n\u001b[0;32m-> 1952\u001b[0;31m     trace_specs, grouped_mappings, sizeref, show_colorbar = infer_config(\n\u001b[0m\u001b[1;32m   1953\u001b[0m         \u001b[0margs\u001b[0m\u001b[0;34m,\u001b[0m \u001b[0mconstructor\u001b[0m\u001b[0;34m,\u001b[0m \u001b[0mtrace_patch\u001b[0m\u001b[0;34m,\u001b[0m \u001b[0mlayout_patch\u001b[0m\u001b[0;34m\u001b[0m\u001b[0;34m\u001b[0m\u001b[0m\n\u001b[1;32m   1954\u001b[0m     )\n",
      "\u001b[0;32m~/anaconda3/lib/python3.8/site-packages/plotly/express/_core.py\u001b[0m in \u001b[0;36minfer_config\u001b[0;34m(args, constructor, trace_patch, layout_patch)\u001b[0m\n\u001b[1;32m   1694\u001b[0m     \u001b[0msizeref\u001b[0m \u001b[0;34m=\u001b[0m \u001b[0;36m0\u001b[0m\u001b[0;34m\u001b[0m\u001b[0;34m\u001b[0m\u001b[0m\n\u001b[1;32m   1695\u001b[0m     \u001b[0;32mif\u001b[0m \u001b[0;34m\"size\"\u001b[0m \u001b[0;32min\u001b[0m \u001b[0margs\u001b[0m \u001b[0;32mand\u001b[0m \u001b[0margs\u001b[0m\u001b[0;34m[\u001b[0m\u001b[0;34m\"size\"\u001b[0m\u001b[0;34m]\u001b[0m\u001b[0;34m:\u001b[0m\u001b[0;34m\u001b[0m\u001b[0;34m\u001b[0m\u001b[0m\n\u001b[0;32m-> 1696\u001b[0;31m         \u001b[0msizeref\u001b[0m \u001b[0;34m=\u001b[0m \u001b[0margs\u001b[0m\u001b[0;34m[\u001b[0m\u001b[0;34m\"data_frame\"\u001b[0m\u001b[0;34m]\u001b[0m\u001b[0;34m[\u001b[0m\u001b[0margs\u001b[0m\u001b[0;34m[\u001b[0m\u001b[0;34m\"size\"\u001b[0m\u001b[0;34m]\u001b[0m\u001b[0;34m]\u001b[0m\u001b[0;34m.\u001b[0m\u001b[0mmax\u001b[0m\u001b[0;34m(\u001b[0m\u001b[0;34m)\u001b[0m \u001b[0;34m/\u001b[0m \u001b[0margs\u001b[0m\u001b[0;34m[\u001b[0m\u001b[0;34m\"size_max\"\u001b[0m\u001b[0;34m]\u001b[0m \u001b[0;34m**\u001b[0m \u001b[0;36m2\u001b[0m\u001b[0;34m\u001b[0m\u001b[0;34m\u001b[0m\u001b[0m\n\u001b[0m\u001b[1;32m   1697\u001b[0m \u001b[0;34m\u001b[0m\u001b[0m\n\u001b[1;32m   1698\u001b[0m     \u001b[0;31m# Compute color attributes and grouping attributes\u001b[0m\u001b[0;34m\u001b[0m\u001b[0;34m\u001b[0m\u001b[0;34m\u001b[0m\u001b[0m\n",
      "\u001b[0;31mTypeError\u001b[0m: unsupported operand type(s) for /: 'str' and 'int'"
     ]
    }
   ],
   "source": [
    "app = dash.Dash(__name__)\n",
    "\n",
    "# assume you have a \"long-form\" data frame\n",
    "# see https://plotly.com/python/px-arguments/ for more options\n",
    "\n",
    "fig = px.scatter(results_df, x=\"qr_1_1\", y=\"qr_1_2\", size='enrollment',\n",
    "             color=\"borough\", hover_name=\"school_name\")\n",
    "\n",
    "fig.update_traces(marker_size=10)\n",
    "\n",
    "fig.show()\n",
    "\n",
    "\n",
    "app.layout = html.Div(children=[\n",
    "    dcc.Graph(\n",
    "        id='interesting and challening verses effectiveness of instruction',\n",
    "        figure=fig\n",
    "    )\n",
    "])\n",
    "\n",
    "if __name__ == '__main__':\n",
    "    app.run_server(debug=True)"
   ]
  },
  {
   "cell_type": "code",
   "execution_count": null,
   "id": "21fa6284",
   "metadata": {},
   "outputs": [],
   "source": []
  }
 ],
 "metadata": {
  "kernelspec": {
   "display_name": "Python 3",
   "language": "python",
   "name": "python3"
  },
  "language_info": {
   "codemirror_mode": {
    "name": "ipython",
    "version": 3
   },
   "file_extension": ".py",
   "mimetype": "text/x-python",
   "name": "python",
   "nbconvert_exporter": "python",
   "pygments_lexer": "ipython3",
   "version": "3.8.8"
  }
 },
 "nbformat": 4,
 "nbformat_minor": 5
}
