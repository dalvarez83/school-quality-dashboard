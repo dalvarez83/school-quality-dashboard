{
 "cells": [
  {
   "cell_type": "markdown",
   "id": "10146f76",
   "metadata": {},
   "source": [
    "### Installations"
   ]
  },
  {
   "cell_type": "code",
   "execution_count": 2,
   "id": "79bf83c1",
   "metadata": {},
   "outputs": [],
   "source": [
    "import dash\n",
    "from dash.dependencies import Input, Output, State\n",
    "# import dash_core_components as dcc\n",
    "from dash import dcc\n",
    "import dash_html_components as html\n",
    "import dash_table_experiments as dt\n",
    "import plotly\n",
    "import flask\n",
    "import pandas as pd\n",
    "import numpy as np\n",
    "app = dash.Dash()\n"
   ]
  },
  {
   "cell_type": "code",
   "execution_count": 3,
   "id": "3e8461f3",
   "metadata": {},
   "outputs": [
    {
     "name": "stderr",
     "output_type": "stream",
     "text": [
      "/Users/daniel.alvarez/anaconda3/lib/python3.8/site-packages/openpyxl/worksheet/_reader.py:312: UserWarning: Unknown extension is not supported and will be removed\n",
      "  warn(msg)\n"
     ]
    }
   ],
   "source": [
    "select_schools_survey = \"select_school_surveys.xlsx\"\n",
    "select_schools_survey = pd.read_excel(select_schools_survey)"
   ]
  },
  {
   "cell_type": "code",
   "execution_count": null,
   "id": "43ff9658",
   "metadata": {},
   "outputs": [],
   "source": []
  }
 ],
 "metadata": {
  "kernelspec": {
   "display_name": "Python 3",
   "language": "python",
   "name": "python3"
  },
  "language_info": {
   "codemirror_mode": {
    "name": "ipython",
    "version": 3
   },
   "file_extension": ".py",
   "mimetype": "text/x-python",
   "name": "python",
   "nbconvert_exporter": "python",
   "pygments_lexer": "ipython3",
   "version": "3.8.8"
  }
 },
 "nbformat": 4,
 "nbformat_minor": 5
}
