{
 "cells": [
  {
   "cell_type": "markdown",
   "id": "1e501484",
   "metadata": {},
   "source": [
    "See developer site:\n",
    "\n",
    "https://dev.socrata.com/foundry/data.cityofnewyork.us/jtpv-nuuc\n",
    "\n",
    "NYC Open Data site on this survey:\n",
    "\n",
    "https://data.cityofnewyork.us/Education/2019-20-School-Quality-Guide-Elementary-Middle-Sch/jtpv-nuuc"
   ]
  },
  {
   "cell_type": "code",
   "execution_count": 1,
   "id": "b27f47d4",
   "metadata": {},
   "outputs": [],
   "source": [
    "#!pip install sodapy"
   ]
  },
  {
   "cell_type": "code",
   "execution_count": 2,
   "id": "1af7aae2",
   "metadata": {},
   "outputs": [],
   "source": [
    "#pip install dash"
   ]
  },
  {
   "cell_type": "code",
   "execution_count": 3,
   "id": "be46a33f",
   "metadata": {},
   "outputs": [],
   "source": [
    "#load libraries\n",
    "import numpy as np\n",
    "import pandas as pd\n",
    "import seaborn as sns\n",
    "import matplotlib.pyplot as plt\n",
    "\n",
    "import plotly.express as px\n",
    "import dash\n",
    "from dash import dcc\n",
    "from dash import html\n",
    "import nbformat\n",
    "from sodapy import Socrata\n",
    "\n",
    "# collaborative filtering libraries\n",
    "from sklearn.decomposition import TruncatedSVD\n",
    "\n",
    "# imputation libraries\n",
    "from sklearn.impute import SimpleImputer, KNNImputer\n",
    "\n",
    "# standardize variables\n",
    "from sklearn.preprocessing import StandardScaler, MinMaxScaler \n",
    "\n",
    "# ignore warnings\n",
    "import warnings\n",
    "warnings.filterwarnings('ignore')"
   ]
  },
  {
   "cell_type": "code",
   "execution_count": 4,
   "id": "27b0e67f",
   "metadata": {},
   "outputs": [
    {
     "name": "stdout",
     "output_type": "stream",
     "text": [
      "pandas version: 1.3.4\n",
      "numpy version: 1.22.2\n",
      "seaborn version: 0.11.1\n",
      "dash version: 2.0.0\n",
      "nbformat version: 5.1.3\n"
     ]
    }
   ],
   "source": [
    "# check versions\n",
    "print(f'pandas version: {pd.__version__}')\n",
    "print(f'numpy version: {np.__version__}')\n",
    "print(f'seaborn version: {sns.__version__}')\n",
    "print(f'dash version: {dash.__version__}')\n",
    "print(f'nbformat version: {nbformat.__version__}')"
   ]
  },
  {
   "cell_type": "code",
   "execution_count": 5,
   "id": "4b4cfaf0",
   "metadata": {},
   "outputs": [],
   "source": [
    "# set seed to determine random number generator \n",
    "seed = 999"
   ]
  },
  {
   "cell_type": "markdown",
   "id": "e5df2e5a",
   "metadata": {},
   "source": [
    "Extract the data using the Socrata Developer API"
   ]
  },
  {
   "cell_type": "code",
   "execution_count": 6,
   "id": "1b00aaf5",
   "metadata": {},
   "outputs": [
    {
     "name": "stderr",
     "output_type": "stream",
     "text": [
      "WARNING:root:Requests made without an app_token will be subject to strict throttling limits.\n"
     ]
    }
   ],
   "source": [
    "#!/usr/bin/env python\n",
    "\n",
    "# make sure to install these packages before running:\n",
    "# pip install pandas\n",
    "# pip install sodapy\n",
    "# Unauthenticated client only works with public data sets. Note 'None'\n",
    "# in place of application token, and no username or password:\n",
    "client = Socrata(\"data.cityofnewyork.us\", None)\n",
    "\n",
    "results = client.get(\"jtpv-nuuc\", limit=2000)\n",
    "\n",
    "# Convert to pandas DataFrame\n",
    "df = pd.DataFrame.from_records(results)"
   ]
  },
  {
   "cell_type": "code",
   "execution_count": 7,
   "id": "db072fe9",
   "metadata": {},
   "outputs": [
    {
     "data": {
      "text/plain": [
       "(1311, 146)"
      ]
     },
     "execution_count": 7,
     "metadata": {},
     "output_type": "execute_result"
    }
   ],
   "source": [
    "df.shape"
   ]
  },
  {
   "cell_type": "code",
   "execution_count": 8,
   "id": "63ddf606",
   "metadata": {},
   "outputs": [
    {
     "data": {
      "text/html": [
       "<div>\n",
       "<style scoped>\n",
       "    .dataframe tbody tr th:only-of-type {\n",
       "        vertical-align: middle;\n",
       "    }\n",
       "\n",
       "    .dataframe tbody tr th {\n",
       "        vertical-align: top;\n",
       "    }\n",
       "\n",
       "    .dataframe thead th {\n",
       "        text-align: right;\n",
       "    }\n",
       "</style>\n",
       "<table border=\"1\" class=\"dataframe\">\n",
       "  <thead>\n",
       "    <tr style=\"text-align: right;\">\n",
       "      <th></th>\n",
       "      <th>dbn</th>\n",
       "      <th>school_name</th>\n",
       "      <th>school_type</th>\n",
       "      <th>enrollment</th>\n",
       "      <th>survey_pp_ri</th>\n",
       "      <th>survey_pp_ct</th>\n",
       "      <th>survey_pp_se</th>\n",
       "      <th>survey_pp_es</th>\n",
       "      <th>survey_pp_sf</th>\n",
       "      <th>survey_pp_tr</th>\n",
       "      <th>...</th>\n",
       "      <th>n_prof_2plus_watn3_mthlevel1</th>\n",
       "      <th>val_prof_2plus_watn3_mthlevel1</th>\n",
       "      <th>n_prof_pct_watn3_elalevel2</th>\n",
       "      <th>val_prof_pct_watn3_elalevel2</th>\n",
       "      <th>n_prof_pct_watn3_elalevel34</th>\n",
       "      <th>val_prof_pct_watn3_elalevel34</th>\n",
       "      <th>n_prof_pct_watn3_mthlevel2</th>\n",
       "      <th>val_prof_pct_watn3_mthlevel2</th>\n",
       "      <th>n_prof_pct_watn3_mthlevel34</th>\n",
       "      <th>val_prof_pct_watn3_mthlevel34</th>\n",
       "    </tr>\n",
       "  </thead>\n",
       "  <tbody>\n",
       "    <tr>\n",
       "      <th>0</th>\n",
       "      <td>01M015</td>\n",
       "      <td>P.S. 015 Roberto Clemente</td>\n",
       "      <td>Elementary</td>\n",
       "      <td>176</td>\n",
       "      <td>0.82</td>\n",
       "      <td>0.91</td>\n",
       "      <td>0.84</td>\n",
       "      <td>0.92</td>\n",
       "      <td>0.97</td>\n",
       "      <td>0.94</td>\n",
       "      <td>...</td>\n",
       "      <td>3</td>\n",
       "      <td>No Data</td>\n",
       "      <td>6</td>\n",
       "      <td>No Data</td>\n",
       "      <td>12</td>\n",
       "      <td>No Data</td>\n",
       "      <td>10</td>\n",
       "      <td>No Data</td>\n",
       "      <td>11</td>\n",
       "      <td>No Data</td>\n",
       "    </tr>\n",
       "    <tr>\n",
       "      <th>1</th>\n",
       "      <td>01M019</td>\n",
       "      <td>P.S. 019 Asher Levy</td>\n",
       "      <td>Elementary</td>\n",
       "      <td>220</td>\n",
       "      <td>0.87</td>\n",
       "      <td>0.91</td>\n",
       "      <td>0.94</td>\n",
       "      <td>0.9</td>\n",
       "      <td>0.96</td>\n",
       "      <td>0.91</td>\n",
       "      <td>...</td>\n",
       "      <td>3</td>\n",
       "      <td>No Data</td>\n",
       "      <td>7</td>\n",
       "      <td>No Data</td>\n",
       "      <td>18</td>\n",
       "      <td>0.778</td>\n",
       "      <td>4</td>\n",
       "      <td>No Data</td>\n",
       "      <td>21</td>\n",
       "      <td>0.667</td>\n",
       "    </tr>\n",
       "    <tr>\n",
       "      <th>2</th>\n",
       "      <td>01M020</td>\n",
       "      <td>P.S. 020 Anna Silver</td>\n",
       "      <td>Elementary</td>\n",
       "      <td>423</td>\n",
       "      <td>0.73</td>\n",
       "      <td>0.88</td>\n",
       "      <td>0.83</td>\n",
       "      <td>0.92</td>\n",
       "      <td>0.96</td>\n",
       "      <td>0.96</td>\n",
       "      <td>...</td>\n",
       "      <td>25</td>\n",
       "      <td>0.2</td>\n",
       "      <td>28</td>\n",
       "      <td>0.214</td>\n",
       "      <td>22</td>\n",
       "      <td>0.591</td>\n",
       "      <td>21</td>\n",
       "      <td>0.238</td>\n",
       "      <td>25</td>\n",
       "      <td>0.92</td>\n",
       "    </tr>\n",
       "    <tr>\n",
       "      <th>3</th>\n",
       "      <td>01M034</td>\n",
       "      <td>P.S. 034 Franklin D. Roosevelt</td>\n",
       "      <td>K-8</td>\n",
       "      <td>279</td>\n",
       "      <td>0.6</td>\n",
       "      <td>0.67</td>\n",
       "      <td>0.66</td>\n",
       "      <td>0.79</td>\n",
       "      <td>0.92</td>\n",
       "      <td>0.88</td>\n",
       "      <td>...</td>\n",
       "      <td>No Data</td>\n",
       "      <td>No Data</td>\n",
       "      <td>No Data</td>\n",
       "      <td>No Data</td>\n",
       "      <td>No Data</td>\n",
       "      <td>No Data</td>\n",
       "      <td>No Data</td>\n",
       "      <td>No Data</td>\n",
       "      <td>No Data</td>\n",
       "      <td>No Data</td>\n",
       "    </tr>\n",
       "    <tr>\n",
       "      <th>4</th>\n",
       "      <td>01M063</td>\n",
       "      <td>The STAR Academy - P.S.63</td>\n",
       "      <td>Elementary</td>\n",
       "      <td>203</td>\n",
       "      <td>0.72</td>\n",
       "      <td>0.87</td>\n",
       "      <td>0.83</td>\n",
       "      <td>0.94</td>\n",
       "      <td>0.97</td>\n",
       "      <td>0.94</td>\n",
       "      <td>...</td>\n",
       "      <td>2</td>\n",
       "      <td>No Data</td>\n",
       "      <td>6</td>\n",
       "      <td>No Data</td>\n",
       "      <td>14</td>\n",
       "      <td>No Data</td>\n",
       "      <td>8</td>\n",
       "      <td>No Data</td>\n",
       "      <td>10</td>\n",
       "      <td>No Data</td>\n",
       "    </tr>\n",
       "  </tbody>\n",
       "</table>\n",
       "<p>5 rows × 146 columns</p>\n",
       "</div>"
      ],
      "text/plain": [
       "      dbn                     school_name school_type enrollment survey_pp_ri  \\\n",
       "0  01M015       P.S. 015 Roberto Clemente  Elementary        176         0.82   \n",
       "1  01M019             P.S. 019 Asher Levy  Elementary        220         0.87   \n",
       "2  01M020            P.S. 020 Anna Silver  Elementary        423         0.73   \n",
       "3  01M034  P.S. 034 Franklin D. Roosevelt         K-8        279          0.6   \n",
       "4  01M063       The STAR Academy - P.S.63  Elementary        203         0.72   \n",
       "\n",
       "  survey_pp_ct survey_pp_se survey_pp_es survey_pp_sf survey_pp_tr  ...  \\\n",
       "0         0.91         0.84         0.92         0.97         0.94  ...   \n",
       "1         0.91         0.94          0.9         0.96         0.91  ...   \n",
       "2         0.88         0.83         0.92         0.96         0.96  ...   \n",
       "3         0.67         0.66         0.79         0.92         0.88  ...   \n",
       "4         0.87         0.83         0.94         0.97         0.94  ...   \n",
       "\n",
       "  n_prof_2plus_watn3_mthlevel1 val_prof_2plus_watn3_mthlevel1  \\\n",
       "0                            3                        No Data   \n",
       "1                            3                        No Data   \n",
       "2                           25                            0.2   \n",
       "3                      No Data                        No Data   \n",
       "4                            2                        No Data   \n",
       "\n",
       "  n_prof_pct_watn3_elalevel2 val_prof_pct_watn3_elalevel2  \\\n",
       "0                          6                      No Data   \n",
       "1                          7                      No Data   \n",
       "2                         28                        0.214   \n",
       "3                    No Data                      No Data   \n",
       "4                          6                      No Data   \n",
       "\n",
       "  n_prof_pct_watn3_elalevel34 val_prof_pct_watn3_elalevel34  \\\n",
       "0                          12                       No Data   \n",
       "1                          18                         0.778   \n",
       "2                          22                         0.591   \n",
       "3                     No Data                       No Data   \n",
       "4                          14                       No Data   \n",
       "\n",
       "  n_prof_pct_watn3_mthlevel2 val_prof_pct_watn3_mthlevel2  \\\n",
       "0                         10                      No Data   \n",
       "1                          4                      No Data   \n",
       "2                         21                        0.238   \n",
       "3                    No Data                      No Data   \n",
       "4                          8                      No Data   \n",
       "\n",
       "  n_prof_pct_watn3_mthlevel34 val_prof_pct_watn3_mthlevel34  \n",
       "0                          11                       No Data  \n",
       "1                          21                         0.667  \n",
       "2                          25                          0.92  \n",
       "3                     No Data                       No Data  \n",
       "4                          10                       No Data  \n",
       "\n",
       "[5 rows x 146 columns]"
      ]
     },
     "execution_count": 8,
     "metadata": {},
     "output_type": "execute_result"
    }
   ],
   "source": [
    "df.head()"
   ]
  },
  {
   "cell_type": "code",
   "execution_count": 9,
   "id": "99298cc7",
   "metadata": {},
   "outputs": [
    {
     "data": {
      "text/html": [
       "<div>\n",
       "<style scoped>\n",
       "    .dataframe tbody tr th:only-of-type {\n",
       "        vertical-align: middle;\n",
       "    }\n",
       "\n",
       "    .dataframe tbody tr th {\n",
       "        vertical-align: top;\n",
       "    }\n",
       "\n",
       "    .dataframe thead th {\n",
       "        text-align: right;\n",
       "    }\n",
       "</style>\n",
       "<table border=\"1\" class=\"dataframe\">\n",
       "  <thead>\n",
       "    <tr style=\"text-align: right;\">\n",
       "      <th></th>\n",
       "      <th>dbn</th>\n",
       "      <th>school_name</th>\n",
       "      <th>school_type</th>\n",
       "      <th>enrollment</th>\n",
       "      <th>survey_pp_ri</th>\n",
       "      <th>survey_pp_ct</th>\n",
       "      <th>survey_pp_se</th>\n",
       "      <th>survey_pp_es</th>\n",
       "      <th>survey_pp_sf</th>\n",
       "      <th>survey_pp_tr</th>\n",
       "      <th>...</th>\n",
       "      <th>n_prof_2plus_watn3_mthlevel1</th>\n",
       "      <th>val_prof_2plus_watn3_mthlevel1</th>\n",
       "      <th>n_prof_pct_watn3_elalevel2</th>\n",
       "      <th>val_prof_pct_watn3_elalevel2</th>\n",
       "      <th>n_prof_pct_watn3_elalevel34</th>\n",
       "      <th>val_prof_pct_watn3_elalevel34</th>\n",
       "      <th>n_prof_pct_watn3_mthlevel2</th>\n",
       "      <th>val_prof_pct_watn3_mthlevel2</th>\n",
       "      <th>n_prof_pct_watn3_mthlevel34</th>\n",
       "      <th>val_prof_pct_watn3_mthlevel34</th>\n",
       "    </tr>\n",
       "  </thead>\n",
       "  <tbody>\n",
       "    <tr>\n",
       "      <th>count</th>\n",
       "      <td>1311</td>\n",
       "      <td>1311</td>\n",
       "      <td>1311</td>\n",
       "      <td>1311</td>\n",
       "      <td>1311</td>\n",
       "      <td>1311</td>\n",
       "      <td>1311</td>\n",
       "      <td>1311</td>\n",
       "      <td>1311</td>\n",
       "      <td>1311</td>\n",
       "      <td>...</td>\n",
       "      <td>1311</td>\n",
       "      <td>1311</td>\n",
       "      <td>1311</td>\n",
       "      <td>1311</td>\n",
       "      <td>1311</td>\n",
       "      <td>1311</td>\n",
       "      <td>1311</td>\n",
       "      <td>1311</td>\n",
       "      <td>1311</td>\n",
       "      <td>1311</td>\n",
       "    </tr>\n",
       "    <tr>\n",
       "      <th>unique</th>\n",
       "      <td>1311</td>\n",
       "      <td>1308</td>\n",
       "      <td>3</td>\n",
       "      <td>752</td>\n",
       "      <td>56</td>\n",
       "      <td>53</td>\n",
       "      <td>59</td>\n",
       "      <td>58</td>\n",
       "      <td>28</td>\n",
       "      <td>41</td>\n",
       "      <td>...</td>\n",
       "      <td>62</td>\n",
       "      <td>138</td>\n",
       "      <td>78</td>\n",
       "      <td>167</td>\n",
       "      <td>127</td>\n",
       "      <td>286</td>\n",
       "      <td>62</td>\n",
       "      <td>179</td>\n",
       "      <td>133</td>\n",
       "      <td>305</td>\n",
       "    </tr>\n",
       "    <tr>\n",
       "      <th>top</th>\n",
       "      <td>01M015</td>\n",
       "      <td>P.S. 360</td>\n",
       "      <td>Elementary</td>\n",
       "      <td>247</td>\n",
       "      <td>No Data</td>\n",
       "      <td>No Data</td>\n",
       "      <td>No Data</td>\n",
       "      <td>0.95</td>\n",
       "      <td>0.96</td>\n",
       "      <td>0.92</td>\n",
       "      <td>...</td>\n",
       "      <td>No Data</td>\n",
       "      <td>No Data</td>\n",
       "      <td>No Data</td>\n",
       "      <td>No Data</td>\n",
       "      <td>No Data</td>\n",
       "      <td>No Data</td>\n",
       "      <td>No Data</td>\n",
       "      <td>No Data</td>\n",
       "      <td>No Data</td>\n",
       "      <td>No Data</td>\n",
       "    </tr>\n",
       "    <tr>\n",
       "      <th>freq</th>\n",
       "      <td>1</td>\n",
       "      <td>2</td>\n",
       "      <td>693</td>\n",
       "      <td>7</td>\n",
       "      <td>164</td>\n",
       "      <td>163</td>\n",
       "      <td>164</td>\n",
       "      <td>68</td>\n",
       "      <td>197</td>\n",
       "      <td>90</td>\n",
       "      <td>...</td>\n",
       "      <td>687</td>\n",
       "      <td>1013</td>\n",
       "      <td>664</td>\n",
       "      <td>853</td>\n",
       "      <td>659</td>\n",
       "      <td>750</td>\n",
       "      <td>664</td>\n",
       "      <td>916</td>\n",
       "      <td>658</td>\n",
       "      <td>767</td>\n",
       "    </tr>\n",
       "  </tbody>\n",
       "</table>\n",
       "<p>4 rows × 146 columns</p>\n",
       "</div>"
      ],
      "text/plain": [
       "           dbn school_name school_type enrollment survey_pp_ri survey_pp_ct  \\\n",
       "count     1311        1311        1311       1311         1311         1311   \n",
       "unique    1311        1308           3        752           56           53   \n",
       "top     01M015    P.S. 360  Elementary        247      No Data      No Data   \n",
       "freq         1           2         693          7          164          163   \n",
       "\n",
       "       survey_pp_se survey_pp_es survey_pp_sf survey_pp_tr  ...  \\\n",
       "count          1311         1311         1311         1311  ...   \n",
       "unique           59           58           28           41  ...   \n",
       "top         No Data         0.95         0.96         0.92  ...   \n",
       "freq            164           68          197           90  ...   \n",
       "\n",
       "       n_prof_2plus_watn3_mthlevel1 val_prof_2plus_watn3_mthlevel1  \\\n",
       "count                          1311                           1311   \n",
       "unique                           62                            138   \n",
       "top                         No Data                        No Data   \n",
       "freq                            687                           1013   \n",
       "\n",
       "       n_prof_pct_watn3_elalevel2 val_prof_pct_watn3_elalevel2  \\\n",
       "count                        1311                         1311   \n",
       "unique                         78                          167   \n",
       "top                       No Data                      No Data   \n",
       "freq                          664                          853   \n",
       "\n",
       "       n_prof_pct_watn3_elalevel34 val_prof_pct_watn3_elalevel34  \\\n",
       "count                         1311                          1311   \n",
       "unique                         127                           286   \n",
       "top                        No Data                       No Data   \n",
       "freq                           659                           750   \n",
       "\n",
       "       n_prof_pct_watn3_mthlevel2 val_prof_pct_watn3_mthlevel2  \\\n",
       "count                        1311                         1311   \n",
       "unique                         62                          179   \n",
       "top                       No Data                      No Data   \n",
       "freq                          664                          916   \n",
       "\n",
       "       n_prof_pct_watn3_mthlevel34 val_prof_pct_watn3_mthlevel34  \n",
       "count                         1311                          1311  \n",
       "unique                         133                           305  \n",
       "top                        No Data                       No Data  \n",
       "freq                           658                           767  \n",
       "\n",
       "[4 rows x 146 columns]"
      ]
     },
     "execution_count": 9,
     "metadata": {},
     "output_type": "execute_result"
    }
   ],
   "source": [
    "df.describe()"
   ]
  },
  {
   "cell_type": "code",
   "execution_count": 10,
   "id": "b6aa9e22",
   "metadata": {},
   "outputs": [
    {
     "name": "stdout",
     "output_type": "stream",
     "text": [
      "<class 'pandas.core.frame.DataFrame'>\n",
      "RangeIndex: 1311 entries, 0 to 1310\n",
      "Columns: 146 entries, dbn to val_prof_pct_watn3_mthlevel34\n",
      "dtypes: object(146)\n",
      "memory usage: 1.5+ MB\n"
     ]
    }
   ],
   "source": [
    "df.info()"
   ]
  },
  {
   "cell_type": "markdown",
   "id": "4ee9ceaa",
   "metadata": {},
   "source": [
    "#### Helper functions"
   ]
  },
  {
   "cell_type": "code",
   "execution_count": 11,
   "id": "bf764209",
   "metadata": {},
   "outputs": [],
   "source": [
    "def catvardistribution(data,var,x,y,rot):\n",
    "    print(data[var].value_counts(dropna=False))\n",
    "    fig, ax = plt.subplots(figsize=(x,y)) # Set figure size\n",
    "    sns.set(style=\"darkgrid\")\n",
    "    ax = sns.countplot(x=data[var], data=data, palette='Reds')\n",
    "    plt.xticks(rotation=rot)\n",
    "    plt.show()\n",
    "    \n",
    "def boxplot(data,var):\n",
    "    print(data[var].describe())\n",
    "    sns.set(style=\"whitegrid\")\n",
    "    ax = sns.boxplot(x=data[var])\n",
    "    plt.show()"
   ]
  },
  {
   "cell_type": "markdown",
   "id": "c1323a90",
   "metadata": {},
   "source": [
    "### Feature engineering"
   ]
  },
  {
   "cell_type": "markdown",
   "id": "9421f96a",
   "metadata": {},
   "source": [
    "Create district and borough variables"
   ]
  },
  {
   "cell_type": "code",
   "execution_count": 12,
   "id": "01231d2b",
   "metadata": {},
   "outputs": [],
   "source": [
    "df['district'] = df['dbn'].str[0:2]\n",
    "df['borough'] = df['dbn'].str[2:3]"
   ]
  },
  {
   "cell_type": "code",
   "execution_count": 13,
   "id": "002ba9d1",
   "metadata": {},
   "outputs": [
    {
     "name": "stdout",
     "output_type": "stream",
     "text": [
      "Count of school districts: 33\n",
      "Count of school boroughs: 5\n"
     ]
    }
   ],
   "source": [
    "# inspect new variables\n",
    "print(f\"Count of school districts: {len(np.unique(df['district']))}\")\n",
    "print(f\"Count of school boroughs: {len(np.unique(df['borough']))}\")"
   ]
  },
  {
   "cell_type": "code",
   "execution_count": 14,
   "id": "bbfa4ef0",
   "metadata": {},
   "outputs": [
    {
     "name": "stdout",
     "output_type": "stream",
     "text": [
      "84    198\n",
      "31     61\n",
      "10     59\n",
      "02     53\n",
      "09     51\n",
      "27     49\n",
      "11     45\n",
      "28     40\n",
      "24     39\n",
      "20     39\n",
      "29     38\n",
      "06     38\n",
      "30     38\n",
      "19     37\n",
      "15     37\n",
      "08     36\n",
      "25     35\n",
      "17     34\n",
      "12     34\n",
      "22     32\n",
      "03     32\n",
      "21     30\n",
      "13     28\n",
      "14     27\n",
      "07     27\n",
      "26     26\n",
      "23     23\n",
      "04     23\n",
      "05     22\n",
      "01     21\n",
      "18     20\n",
      "32     20\n",
      "16     19\n",
      "Name: district, dtype: int64\n"
     ]
    },
    {
     "data": {
      "image/png": "[encoded data removed]",
      "text/plain": [
       "<Figure size 1080x504 with 1 Axes>"
      ]
     },
     "metadata": {
      "needs_background": "light"
     },
     "output_type": "display_data"
    }
   ],
   "source": [
    "catvardistribution(data=df,var='district',x=15,y=7,rot=0)"
   ]
  },
  {
   "cell_type": "code",
   "execution_count": 15,
   "id": "63e1f45c",
   "metadata": {},
   "outputs": [
    {
     "name": "stdout",
     "output_type": "stream",
     "text": [
      "K    421\n",
      "X    309\n",
      "Q    284\n",
      "M    233\n",
      "R     64\n",
      "Name: borough, dtype: int64\n"
     ]
    },
    {
     "data": {
      "image/png": "[encoded data removed]",
      "text/plain": [
       "<Figure size 360x360 with 1 Axes>"
      ]
     },
     "metadata": {},
     "output_type": "display_data"
    }
   ],
   "source": [
    "catvardistribution(data=df,var='borough',x=5,y=5,rot=0)"
   ]
  },
  {
   "cell_type": "markdown",
   "id": "942cc02a",
   "metadata": {},
   "source": [
    "Group fields together - USE data dictionary as information source"
   ]
  },
  {
   "cell_type": "code",
   "execution_count": 16,
   "id": "34c2d224",
   "metadata": {},
   "outputs": [],
   "source": [
    "# identification-related variables\n",
    "ids = ['dbn','school_name','school_type','district','borough']\n",
    "\n",
    "# surveys - percent positive\n",
    "survey_proportions = ['survey_pp_ri', 'survey_pp_ct','survey_pp_se', 'survey_pp_es', 'survey_pp_sf', 'survey_pp_tr']\n",
    "\n",
    "# survey response rate\n",
    "survey_response_rate = ['rr_s', 'rr_t', 'rr_p']\n",
    "\n",
    "# quality review - qualitative responses\n",
    "quality_review = ['qr_1_1', 'qr_1_2', 'qr_2_2', 'qr_3_4', 'qr_4_2', 'qr_1_4', 'qr_1_3', 'qr_3_1', 'qr_4_1', 'qr_5_1']\n",
    "\n",
    "# ratings on academic criteria\n",
    "academic_ratings = ['rating_ela_grade_5_pct_rs', 'rating_mth_grade_5_pct_rs']\n",
    "\n",
    "# student body and teacher demographic proportions\n",
    "demographics = ['gender_female_pct', 'gender_male_pct','ethnicity_asian_pct','ethnicity_black_pct', \n",
    "                'ethnicity_hispanic_pct','ethnicity_amerindian_pct','ethnicity_pacific_pct', 'ethnicity_white_pct', \n",
    "                'teacher_ethnicity_asian_pct','teacher_ethnicity_black_pct', 'teacher_ethnicity_hispanic',\n",
    "                'teacher_ethnicity_amerindian', 'teacher_ethnicity_pacific','teacher_ethnicity_white_pct',\n",
    "                'near_pct_asian','near_pct_black', 'near_pct_hispanic', 'near_pct_amerindian',\n",
    "                'near_pct_pacific', 'near_pct_white','ethnicity_asian_pct_dist',\n",
    "                'ethnicity_black_pct_dist', 'ethnicity_hispanic_pct_dist',\n",
    "                'ethnicity_amerindian_pct_1', 'ethnicity_pacific_pct_dist','ethnicity_white_pct_dist']\n",
    "\n",
    "# socio-economic proportions\n",
    "socioeconomics = ['ell', 'iep', 'cap_sc_pct','eni_pct_k8', 'temp_housing_pct','hra_elig_pct'] \n",
    "\n",
    "# least restrictive environment\n",
    "restrictive_environment = ['n_lre_all', 'val_lre_all']\n",
    "\n",
    "# principal or teacher experience\n",
    "experience = ['principal_experience', 'teach_3_more_exp']\n",
    "\n",
    "# student and teacher attendance \n",
    "attendance = ['val_attendance_k8_all', 'val_chronic_absent_ems_all','teacher_attendance','n_chronic_absent_ems_all',\n",
    "             'n_attendance_k8_all', 'n_chronic_absent_ems_allea','n_chronic_absent_ems_alleb', \n",
    "              'val_chronic_absent_ems_alleb','n_chronic_absent_ems_alleh', 'val_chronic_absent_ems_alleh',\n",
    "              'n_chronic_absent_ems_allei','n_chronic_absent_ems_allem', 'val_chronic_absent_ems_allem',\n",
    "             'n_chronic_absent_ems_allep', 'val_chronic_absent_ems_allep','n_chronic_absent_ems_allew',\n",
    "             'val_chronic_absent_ems_allew', 'n_chronic_absent_ems_allgf','val_chronic_absent_ems_allgf', \n",
    "              'n_chronic_absent_ems_allgm','val_chronic_absent_ems_allgm','val_chronic_absent_ems_allea',\n",
    "             'val_chronic_absent_ems_allei']\n",
    "\n",
    "# credits towards ninth grade (high school)\n",
    "highschoolcredits = ['n_hs_9gr_credits_all', 'val_hs_9gr_credits_all',\n",
    "                     'n_pct_accelerated_all', 'val_pct_accelerated_all']\n",
    "\n",
    "# course pass rate across subjects\n",
    "coursepassrate = ['n_pct_core_ela_all', 'val_pct_core_ela_all', 'n_pct_core_mth_all',\n",
    "                  'val_pct_core_mth_all', 'n_pct_core_sci_all', 'val_pct_core_sci_all',\n",
    "                  'n_pct_core_soc_all', 'val_pct_core_soc_all', 'n_ele_core_all','val_ele_core_all',\n",
    "                 'n_pct_accel_p_lote_all','val_pct_accel_p_lote_all']\n",
    "\n",
    "# interactions\n",
    "interactions = ['n_interaction_k8_all','val_interaction_k8_all']\n",
    "\n",
    "# eighth grade metrics\n",
    "eighth_grade_metrics = ['n_pct_accel_lote_all',\n",
    "       'val_pct_accel_lote_all', 'n_pct_accel_mth_all', 'n_pct_accel_p_all',\n",
    "       'val_pct_accel_p_all','n_pct_accel_p_mth_all', 'n_pct_accel_p_sci_all',\n",
    "       'val_pct_accel_p_sci_all', 'n_pct_accel_sci_all','val_pct_accel_sci_all', 'n_pct_accel_try_all', \n",
    "       'val_pct_accel_try_all','n_pct_accel_try_lote_all', 'val_pct_accel_try_lote_all',\n",
    "       'n_pct_accel_try_mth_all','n_pct_accel_try_sci_all', 'val_pct_accel_try_sci_all']\n",
    "\n",
    "# fifth grade metrics\n",
    "fifth_grade_metrics = ['n_prof_2plus_watn5_elalevel1', 'val_prof_2plus_watn5_elalevel1',\n",
    "                       'n_prof_2plus_watn5_mthlevel1', 'val_prof_2plus_watn5_mthlevel1',\n",
    "                       'n_prof_pct_watn5_elalevel2', 'val_prof_pct_watn5_elalevel2',\n",
    "                       'n_prof_pct_watn5_elalevel34', 'val_prof_pct_watn5_elalevel34',\n",
    "                       'n_prof_pct_watn5_mthlevel2', 'val_prof_pct_watn5_mthlevel2',\n",
    "                       'n_prof_pct_watn5_mthlevel34', 'val_prof_pct_watn5_mthlevel34']\n",
    "\n",
    "# third grade metrics\n",
    "third_grade_metrics = ['n_prof_pct_watn3_elalevel34', 'val_prof_pct_watn3_elalevel34',\n",
    "                   'n_prof_pct_watn3_mthlevel2', 'val_prof_pct_watn3_mthlevel2',\n",
    "                   'n_prof_pct_watn3_mthlevel34', 'val_prof_pct_watn3_mthlevel34',\n",
    "                      'n_prof_2plus_watn3_elalevel1','val_prof_2plus_watn3_elalevel1',\n",
    "                       'n_prof_2plus_watn3_mthlevel1','val_prof_2plus_watn3_mthlevel1',\n",
    "                       'n_prof_pct_watn3_elalevel2','val_prof_pct_watn3_elalevel2']\n",
    "\n",
    "# other indicators\n",
    "other = ['enrollment','dates_of_review','median_distance','principal']"
   ]
  },
  {
   "cell_type": "code",
   "execution_count": 17,
   "id": "63d9b810",
   "metadata": {},
   "outputs": [],
   "source": [
    "feature_dict = {'ids':ids, 'survey_proportions':survey_proportions, \n",
    "                'survey_response_rate':survey_response_rate,'quality_review':quality_review,\n",
    "                'academic_ratings':academic_ratings, 'demographics':demographics,\n",
    "               'socioeconomics':socioeconomics, 'restrictive_environment': restrictive_environment,\n",
    "                'experience': experience, 'attendance': attendance, 'highschoolcredits':highschoolcredits,\n",
    "                'coursepassrate': coursepassrate, 'interactions': interactions,\n",
    "                'eighth_grade_metrics':eighth_grade_metrics, 'fifth_grade_metrics':fifth_grade_metrics,\n",
    "               'third_grade_metrics':third_grade_metrics,\n",
    "               'other':other}"
   ]
  },
  {
   "cell_type": "code",
   "execution_count": 18,
   "id": "2fc33e6a",
   "metadata": {},
   "outputs": [],
   "source": [
    "def createdummies_fewvalues(variable, df):\n",
    "    ''' Create dummies from variables with few values or low cardinality '''\n",
    "    \n",
    "    #Create dummy variables from the report status variable\n",
    "    dummies = pd.get_dummies(df[variable])\n",
    "    \n",
    "    # include in dummies in dataset\n",
    "    for col in dummies:\n",
    "        df[f\"{variable}_{col}\"] = dummies[col]"
   ]
  },
  {
   "cell_type": "code",
   "execution_count": 19,
   "id": "74d9c753",
   "metadata": {},
   "outputs": [],
   "source": [
    "def clean_names(df, column):\n",
    "    ''' clean columns with strings and format mismatches'''\n",
    "    df[column] = df[column].str.replace(r'N/A', '%') # remove spaces\n",
    "    df[column] = df[column].str.rstrip('%')\n",
    "    df[column] = df[column].replace(r'^\\s*$', np.nan, regex=True)\n",
    "    df[column] = df[column].astype('float')/100\n"
   ]
  },
  {
   "cell_type": "code",
   "execution_count": 20,
   "id": "77a9d6e2",
   "metadata": {},
   "outputs": [],
   "source": [
    "for var in feature_dict['ids'][2:]:\n",
    "    createdummies_fewvalues(variable=var, df=df)\n",
    "    \n",
    "for var in feature_dict['other'][:1]:\n",
    "    df[var] = pd.to_numeric(df[var], errors='coerce')\n",
    "\n",
    "# type cast variables to float\n",
    "for var in feature_dict['survey_proportions']:\n",
    "    df[var] = pd.to_numeric(df[var], errors='coerce')\n",
    "\n",
    "for var in feature_dict['survey_response_rate']:\n",
    "    clean_names(df=df, column=var)\n",
    "\n",
    "for var in feature_dict['quality_review']:\n",
    "    createdummies_fewvalues(variable=var, df=df) \n",
    "\n",
    "for var in feature_dict['academic_ratings']:\n",
    "    df[var] = pd.to_numeric(df[var], errors='coerce')\n",
    "\n",
    "for var in feature_dict['demographics']:\n",
    "    df[var] = pd.to_numeric(df[var], errors='coerce')\n",
    "    \n",
    "for var in feature_dict['socioeconomics']:\n",
    "    df[var] = pd.to_numeric(df[var], errors='coerce')\n",
    "\n",
    "for var in feature_dict['restrictive_environment']:\n",
    "    df[var] = pd.to_numeric(df[var], errors='coerce')\n",
    "    \n",
    "for var in feature_dict['experience']:\n",
    "    df[var] = pd.to_numeric(df[var], errors='coerce')\n",
    "    \n",
    "for var in feature_dict['attendance']:\n",
    "    df[var] = pd.to_numeric(df[var], errors='coerce')\n",
    "    \n",
    "for var in feature_dict['highschoolcredits']:\n",
    "    df[var] = pd.to_numeric(df[var], errors='coerce')\n",
    "    \n",
    "for var in feature_dict['coursepassrate']:\n",
    "    df[var] = pd.to_numeric(df[var], errors='coerce')\n",
    "    \n",
    "for var in feature_dict['interactions']:\n",
    "    df[var] = pd.to_numeric(df[var], errors='coerce')\n",
    "    \n",
    "for var in feature_dict['eighth_grade_metrics']:\n",
    "    df[var] = pd.to_numeric(df[var], errors='coerce')\n",
    "    \n",
    "for var in feature_dict['fifth_grade_metrics']:\n",
    "    df[var] = pd.to_numeric(df[var], errors='coerce')\n",
    "\n",
    "for var in feature_dict['third_grade_metrics']:\n",
    "    df[var] = pd.to_numeric(df[var], errors='coerce')\n",
    "    "
   ]
  },
  {
   "cell_type": "code",
   "execution_count": 21,
   "id": "a3d9227b",
   "metadata": {},
   "outputs": [],
   "source": [
    "# clean column names\n",
    "df.columns = df.columns.str.replace('\\s+', '_').str.lower() #lower case and remove spaces\n",
    "df.columns = df.columns.str.replace('[(,),#,@,&]','')"
   ]
  },
  {
   "cell_type": "code",
   "execution_count": 22,
   "id": "403bf30a",
   "metadata": {},
   "outputs": [],
   "source": [
    "# remove variables for analysis\n",
    "X_remove = feature_dict['quality_review'] + feature_dict['ids'][2:] + feature_dict['other'][1:]\n",
    "results_df = df.drop(list(X_remove), axis=1)"
   ]
  },
  {
   "cell_type": "code",
   "execution_count": 23,
   "id": "1b1f5d96",
   "metadata": {},
   "outputs": [],
   "source": [
    "# set the index\n",
    "df = df.set_index(results_df['dbn'])\n",
    "results_df = results_df.set_index(results_df['dbn'])"
   ]
  },
  {
   "cell_type": "code",
   "execution_count": 24,
   "id": "d960f31c",
   "metadata": {},
   "outputs": [
    {
     "name": "stdout",
     "output_type": "stream",
     "text": [
      "<class 'pandas.core.frame.DataFrame'>\n",
      "Index: 1311 entries, 01M015 to 84X730\n",
      "Columns: 215 entries, dbn to qr_5_1_well_developed\n",
      "dtypes: float64(129), int64(1), object(2), uint8(83)\n",
      "memory usage: 1.4+ MB\n"
     ]
    }
   ],
   "source": [
    "results_df.info()"
   ]
  },
  {
   "cell_type": "code",
   "execution_count": 25,
   "id": "d91e2b04",
   "metadata": {},
   "outputs": [
    {
     "data": {
      "text/plain": [
       "['dbn', 'school_name']"
      ]
     },
     "execution_count": 25,
     "metadata": {},
     "output_type": "execute_result"
    }
   ],
   "source": [
    "results_df.select_dtypes(include=['object']).columns.to_list()"
   ]
  },
  {
   "cell_type": "markdown",
   "id": "46579f9b",
   "metadata": {},
   "source": [
    "### Basic Exploratory Analysis"
   ]
  },
  {
   "cell_type": "code",
   "execution_count": 26,
   "id": "43eebbbb",
   "metadata": {},
   "outputs": [
    {
     "data": {
      "text/html": [
       "<div>\n",
       "<style scoped>\n",
       "    .dataframe tbody tr th:only-of-type {\n",
       "        vertical-align: middle;\n",
       "    }\n",
       "\n",
       "    .dataframe tbody tr th {\n",
       "        vertical-align: top;\n",
       "    }\n",
       "\n",
       "    .dataframe thead th {\n",
       "        text-align: right;\n",
       "    }\n",
       "</style>\n",
       "<table border=\"1\" class=\"dataframe\">\n",
       "  <thead>\n",
       "    <tr style=\"text-align: right;\">\n",
       "      <th></th>\n",
       "      <th>dbn</th>\n",
       "      <th>school_name</th>\n",
       "      <th>enrollment</th>\n",
       "      <th>survey_pp_ri</th>\n",
       "      <th>survey_pp_ct</th>\n",
       "      <th>survey_pp_se</th>\n",
       "      <th>survey_pp_es</th>\n",
       "      <th>survey_pp_sf</th>\n",
       "      <th>survey_pp_tr</th>\n",
       "      <th>rating_ela_grade_5_pct_rs</th>\n",
       "      <th>...</th>\n",
       "      <th>qr_3_1_well_developed</th>\n",
       "      <th>qr_4_1_developing</th>\n",
       "      <th>qr_4_1_no_data</th>\n",
       "      <th>qr_4_1_proficient</th>\n",
       "      <th>qr_4_1_well_developed</th>\n",
       "      <th>qr_5_1_developing</th>\n",
       "      <th>qr_5_1_no_data</th>\n",
       "      <th>qr_5_1_proficient</th>\n",
       "      <th>qr_5_1_under_developed</th>\n",
       "      <th>qr_5_1_well_developed</th>\n",
       "    </tr>\n",
       "    <tr>\n",
       "      <th>dbn</th>\n",
       "      <th></th>\n",
       "      <th></th>\n",
       "      <th></th>\n",
       "      <th></th>\n",
       "      <th></th>\n",
       "      <th></th>\n",
       "      <th></th>\n",
       "      <th></th>\n",
       "      <th></th>\n",
       "      <th></th>\n",
       "      <th></th>\n",
       "      <th></th>\n",
       "      <th></th>\n",
       "      <th></th>\n",
       "      <th></th>\n",
       "      <th></th>\n",
       "      <th></th>\n",
       "      <th></th>\n",
       "      <th></th>\n",
       "      <th></th>\n",
       "      <th></th>\n",
       "    </tr>\n",
       "  </thead>\n",
       "  <tbody>\n",
       "    <tr>\n",
       "      <th>01M015</th>\n",
       "      <td>01M015</td>\n",
       "      <td>P.S. 015 Roberto Clemente</td>\n",
       "      <td>176</td>\n",
       "      <td>0.82</td>\n",
       "      <td>0.91</td>\n",
       "      <td>0.84</td>\n",
       "      <td>0.92</td>\n",
       "      <td>0.97</td>\n",
       "      <td>0.94</td>\n",
       "      <td>NaN</td>\n",
       "      <td>...</td>\n",
       "      <td>0</td>\n",
       "      <td>0</td>\n",
       "      <td>0</td>\n",
       "      <td>0</td>\n",
       "      <td>1</td>\n",
       "      <td>0</td>\n",
       "      <td>0</td>\n",
       "      <td>1</td>\n",
       "      <td>0</td>\n",
       "      <td>0</td>\n",
       "    </tr>\n",
       "    <tr>\n",
       "      <th>01M019</th>\n",
       "      <td>01M019</td>\n",
       "      <td>P.S. 019 Asher Levy</td>\n",
       "      <td>220</td>\n",
       "      <td>0.87</td>\n",
       "      <td>0.91</td>\n",
       "      <td>0.94</td>\n",
       "      <td>0.90</td>\n",
       "      <td>0.96</td>\n",
       "      <td>0.91</td>\n",
       "      <td>NaN</td>\n",
       "      <td>...</td>\n",
       "      <td>1</td>\n",
       "      <td>0</td>\n",
       "      <td>0</td>\n",
       "      <td>0</td>\n",
       "      <td>1</td>\n",
       "      <td>0</td>\n",
       "      <td>0</td>\n",
       "      <td>0</td>\n",
       "      <td>0</td>\n",
       "      <td>1</td>\n",
       "    </tr>\n",
       "    <tr>\n",
       "      <th>01M020</th>\n",
       "      <td>01M020</td>\n",
       "      <td>P.S. 020 Anna Silver</td>\n",
       "      <td>423</td>\n",
       "      <td>0.73</td>\n",
       "      <td>0.88</td>\n",
       "      <td>0.83</td>\n",
       "      <td>0.92</td>\n",
       "      <td>0.96</td>\n",
       "      <td>0.96</td>\n",
       "      <td>NaN</td>\n",
       "      <td>...</td>\n",
       "      <td>0</td>\n",
       "      <td>0</td>\n",
       "      <td>0</td>\n",
       "      <td>1</td>\n",
       "      <td>0</td>\n",
       "      <td>1</td>\n",
       "      <td>0</td>\n",
       "      <td>0</td>\n",
       "      <td>0</td>\n",
       "      <td>0</td>\n",
       "    </tr>\n",
       "    <tr>\n",
       "      <th>01M034</th>\n",
       "      <td>01M034</td>\n",
       "      <td>P.S. 034 Franklin D. Roosevelt</td>\n",
       "      <td>279</td>\n",
       "      <td>0.60</td>\n",
       "      <td>0.67</td>\n",
       "      <td>0.66</td>\n",
       "      <td>0.79</td>\n",
       "      <td>0.92</td>\n",
       "      <td>0.88</td>\n",
       "      <td>NaN</td>\n",
       "      <td>...</td>\n",
       "      <td>0</td>\n",
       "      <td>0</td>\n",
       "      <td>0</td>\n",
       "      <td>1</td>\n",
       "      <td>0</td>\n",
       "      <td>1</td>\n",
       "      <td>0</td>\n",
       "      <td>0</td>\n",
       "      <td>0</td>\n",
       "      <td>0</td>\n",
       "    </tr>\n",
       "    <tr>\n",
       "      <th>01M063</th>\n",
       "      <td>01M063</td>\n",
       "      <td>The STAR Academy - P.S.63</td>\n",
       "      <td>203</td>\n",
       "      <td>0.72</td>\n",
       "      <td>0.87</td>\n",
       "      <td>0.83</td>\n",
       "      <td>0.94</td>\n",
       "      <td>0.97</td>\n",
       "      <td>0.94</td>\n",
       "      <td>NaN</td>\n",
       "      <td>...</td>\n",
       "      <td>0</td>\n",
       "      <td>0</td>\n",
       "      <td>0</td>\n",
       "      <td>0</td>\n",
       "      <td>1</td>\n",
       "      <td>0</td>\n",
       "      <td>0</td>\n",
       "      <td>1</td>\n",
       "      <td>0</td>\n",
       "      <td>0</td>\n",
       "    </tr>\n",
       "    <tr>\n",
       "      <th>01M064</th>\n",
       "      <td>01M064</td>\n",
       "      <td>P.S. 064 Robert Simon</td>\n",
       "      <td>202</td>\n",
       "      <td>0.90</td>\n",
       "      <td>0.97</td>\n",
       "      <td>0.90</td>\n",
       "      <td>0.97</td>\n",
       "      <td>0.98</td>\n",
       "      <td>0.97</td>\n",
       "      <td>NaN</td>\n",
       "      <td>...</td>\n",
       "      <td>0</td>\n",
       "      <td>0</td>\n",
       "      <td>0</td>\n",
       "      <td>0</td>\n",
       "      <td>1</td>\n",
       "      <td>0</td>\n",
       "      <td>0</td>\n",
       "      <td>1</td>\n",
       "      <td>0</td>\n",
       "      <td>0</td>\n",
       "    </tr>\n",
       "    <tr>\n",
       "      <th>01M110</th>\n",
       "      <td>01M110</td>\n",
       "      <td>P.S. 110 Florence Nightingale</td>\n",
       "      <td>361</td>\n",
       "      <td>0.61</td>\n",
       "      <td>0.79</td>\n",
       "      <td>0.65</td>\n",
       "      <td>0.83</td>\n",
       "      <td>0.95</td>\n",
       "      <td>0.87</td>\n",
       "      <td>NaN</td>\n",
       "      <td>...</td>\n",
       "      <td>0</td>\n",
       "      <td>0</td>\n",
       "      <td>0</td>\n",
       "      <td>1</td>\n",
       "      <td>0</td>\n",
       "      <td>1</td>\n",
       "      <td>0</td>\n",
       "      <td>0</td>\n",
       "      <td>0</td>\n",
       "      <td>0</td>\n",
       "    </tr>\n",
       "    <tr>\n",
       "      <th>01M134</th>\n",
       "      <td>01M134</td>\n",
       "      <td>P.S. 134 Henrietta Szold</td>\n",
       "      <td>235</td>\n",
       "      <td>0.63</td>\n",
       "      <td>0.76</td>\n",
       "      <td>0.69</td>\n",
       "      <td>0.84</td>\n",
       "      <td>0.95</td>\n",
       "      <td>0.90</td>\n",
       "      <td>NaN</td>\n",
       "      <td>...</td>\n",
       "      <td>0</td>\n",
       "      <td>0</td>\n",
       "      <td>0</td>\n",
       "      <td>1</td>\n",
       "      <td>0</td>\n",
       "      <td>0</td>\n",
       "      <td>0</td>\n",
       "      <td>1</td>\n",
       "      <td>0</td>\n",
       "      <td>0</td>\n",
       "    </tr>\n",
       "    <tr>\n",
       "      <th>01M140</th>\n",
       "      <td>01M140</td>\n",
       "      <td>P.S. 140 Nathan Straus</td>\n",
       "      <td>364</td>\n",
       "      <td>0.75</td>\n",
       "      <td>0.85</td>\n",
       "      <td>0.67</td>\n",
       "      <td>0.89</td>\n",
       "      <td>0.90</td>\n",
       "      <td>0.87</td>\n",
       "      <td>NaN</td>\n",
       "      <td>...</td>\n",
       "      <td>0</td>\n",
       "      <td>0</td>\n",
       "      <td>0</td>\n",
       "      <td>1</td>\n",
       "      <td>0</td>\n",
       "      <td>0</td>\n",
       "      <td>0</td>\n",
       "      <td>0</td>\n",
       "      <td>0</td>\n",
       "      <td>1</td>\n",
       "    </tr>\n",
       "    <tr>\n",
       "      <th>01M142</th>\n",
       "      <td>01M142</td>\n",
       "      <td>P.S. 142 Amalia Castro</td>\n",
       "      <td>278</td>\n",
       "      <td>0.84</td>\n",
       "      <td>0.85</td>\n",
       "      <td>0.87</td>\n",
       "      <td>0.89</td>\n",
       "      <td>0.99</td>\n",
       "      <td>0.91</td>\n",
       "      <td>NaN</td>\n",
       "      <td>...</td>\n",
       "      <td>0</td>\n",
       "      <td>0</td>\n",
       "      <td>0</td>\n",
       "      <td>0</td>\n",
       "      <td>1</td>\n",
       "      <td>0</td>\n",
       "      <td>0</td>\n",
       "      <td>1</td>\n",
       "      <td>0</td>\n",
       "      <td>0</td>\n",
       "    </tr>\n",
       "  </tbody>\n",
       "</table>\n",
       "<p>10 rows × 215 columns</p>\n",
       "</div>"
      ],
      "text/plain": [
       "           dbn                     school_name  enrollment  survey_pp_ri  \\\n",
       "dbn                                                                        \n",
       "01M015  01M015       P.S. 015 Roberto Clemente         176          0.82   \n",
       "01M019  01M019             P.S. 019 Asher Levy         220          0.87   \n",
       "01M020  01M020            P.S. 020 Anna Silver         423          0.73   \n",
       "01M034  01M034  P.S. 034 Franklin D. Roosevelt         279          0.60   \n",
       "01M063  01M063       The STAR Academy - P.S.63         203          0.72   \n",
       "01M064  01M064           P.S. 064 Robert Simon         202          0.90   \n",
       "01M110  01M110   P.S. 110 Florence Nightingale         361          0.61   \n",
       "01M134  01M134        P.S. 134 Henrietta Szold         235          0.63   \n",
       "01M140  01M140          P.S. 140 Nathan Straus         364          0.75   \n",
       "01M142  01M142          P.S. 142 Amalia Castro         278          0.84   \n",
       "\n",
       "        survey_pp_ct  survey_pp_se  survey_pp_es  survey_pp_sf  survey_pp_tr  \\\n",
       "dbn                                                                            \n",
       "01M015          0.91          0.84          0.92          0.97          0.94   \n",
       "01M019          0.91          0.94          0.90          0.96          0.91   \n",
       "01M020          0.88          0.83          0.92          0.96          0.96   \n",
       "01M034          0.67          0.66          0.79          0.92          0.88   \n",
       "01M063          0.87          0.83          0.94          0.97          0.94   \n",
       "01M064          0.97          0.90          0.97          0.98          0.97   \n",
       "01M110          0.79          0.65          0.83          0.95          0.87   \n",
       "01M134          0.76          0.69          0.84          0.95          0.90   \n",
       "01M140          0.85          0.67          0.89          0.90          0.87   \n",
       "01M142          0.85          0.87          0.89          0.99          0.91   \n",
       "\n",
       "        rating_ela_grade_5_pct_rs  ...  qr_3_1_well_developed  \\\n",
       "dbn                                ...                          \n",
       "01M015                        NaN  ...                      0   \n",
       "01M019                        NaN  ...                      1   \n",
       "01M020                        NaN  ...                      0   \n",
       "01M034                        NaN  ...                      0   \n",
       "01M063                        NaN  ...                      0   \n",
       "01M064                        NaN  ...                      0   \n",
       "01M110                        NaN  ...                      0   \n",
       "01M134                        NaN  ...                      0   \n",
       "01M140                        NaN  ...                      0   \n",
       "01M142                        NaN  ...                      0   \n",
       "\n",
       "        qr_4_1_developing  qr_4_1_no_data  qr_4_1_proficient  \\\n",
       "dbn                                                            \n",
       "01M015                  0               0                  0   \n",
       "01M019                  0               0                  0   \n",
       "01M020                  0               0                  1   \n",
       "01M034                  0               0                  1   \n",
       "01M063                  0               0                  0   \n",
       "01M064                  0               0                  0   \n",
       "01M110                  0               0                  1   \n",
       "01M134                  0               0                  1   \n",
       "01M140                  0               0                  1   \n",
       "01M142                  0               0                  0   \n",
       "\n",
       "        qr_4_1_well_developed  qr_5_1_developing  qr_5_1_no_data  \\\n",
       "dbn                                                                \n",
       "01M015                      1                  0               0   \n",
       "01M019                      1                  0               0   \n",
       "01M020                      0                  1               0   \n",
       "01M034                      0                  1               0   \n",
       "01M063                      1                  0               0   \n",
       "01M064                      1                  0               0   \n",
       "01M110                      0                  1               0   \n",
       "01M134                      0                  0               0   \n",
       "01M140                      0                  0               0   \n",
       "01M142                      1                  0               0   \n",
       "\n",
       "        qr_5_1_proficient  qr_5_1_under_developed  qr_5_1_well_developed  \n",
       "dbn                                                                       \n",
       "01M015                  1                       0                      0  \n",
       "01M019                  0                       0                      1  \n",
       "01M020                  0                       0                      0  \n",
       "01M034                  0                       0                      0  \n",
       "01M063                  1                       0                      0  \n",
       "01M064                  1                       0                      0  \n",
       "01M110                  0                       0                      0  \n",
       "01M134                  1                       0                      0  \n",
       "01M140                  0                       0                      1  \n",
       "01M142                  1                       0                      0  \n",
       "\n",
       "[10 rows x 215 columns]"
      ]
     },
     "execution_count": 26,
     "metadata": {},
     "output_type": "execute_result"
    }
   ],
   "source": [
    "results_df.head(10)"
   ]
  },
  {
   "cell_type": "markdown",
   "id": "2adae003",
   "metadata": {},
   "source": [
    "Inspect particular schools of interest"
   ]
  },
  {
   "cell_type": "code",
   "execution_count": 27,
   "id": "2286e62d",
   "metadata": {},
   "outputs": [
    {
     "data": {
      "text/html": [
       "<div>\n",
       "<style scoped>\n",
       "    .dataframe tbody tr th:only-of-type {\n",
       "        vertical-align: middle;\n",
       "    }\n",
       "\n",
       "    .dataframe tbody tr th {\n",
       "        vertical-align: top;\n",
       "    }\n",
       "\n",
       "    .dataframe thead th {\n",
       "        text-align: right;\n",
       "    }\n",
       "</style>\n",
       "<table border=\"1\" class=\"dataframe\">\n",
       "  <thead>\n",
       "    <tr style=\"text-align: right;\">\n",
       "      <th></th>\n",
       "      <th>dbn</th>\n",
       "      <th>school_name</th>\n",
       "      <th>enrollment</th>\n",
       "      <th>survey_pp_ri</th>\n",
       "      <th>survey_pp_ct</th>\n",
       "      <th>survey_pp_se</th>\n",
       "      <th>survey_pp_es</th>\n",
       "      <th>survey_pp_sf</th>\n",
       "      <th>survey_pp_tr</th>\n",
       "      <th>rating_ela_grade_5_pct_rs</th>\n",
       "      <th>...</th>\n",
       "      <th>qr_3_1_well_developed</th>\n",
       "      <th>qr_4_1_developing</th>\n",
       "      <th>qr_4_1_no_data</th>\n",
       "      <th>qr_4_1_proficient</th>\n",
       "      <th>qr_4_1_well_developed</th>\n",
       "      <th>qr_5_1_developing</th>\n",
       "      <th>qr_5_1_no_data</th>\n",
       "      <th>qr_5_1_proficient</th>\n",
       "      <th>qr_5_1_under_developed</th>\n",
       "      <th>qr_5_1_well_developed</th>\n",
       "    </tr>\n",
       "    <tr>\n",
       "      <th>dbn</th>\n",
       "      <th></th>\n",
       "      <th></th>\n",
       "      <th></th>\n",
       "      <th></th>\n",
       "      <th></th>\n",
       "      <th></th>\n",
       "      <th></th>\n",
       "      <th></th>\n",
       "      <th></th>\n",
       "      <th></th>\n",
       "      <th></th>\n",
       "      <th></th>\n",
       "      <th></th>\n",
       "      <th></th>\n",
       "      <th></th>\n",
       "      <th></th>\n",
       "      <th></th>\n",
       "      <th></th>\n",
       "      <th></th>\n",
       "      <th></th>\n",
       "      <th></th>\n",
       "    </tr>\n",
       "  </thead>\n",
       "  <tbody>\n",
       "    <tr>\n",
       "      <th>26Q159</th>\n",
       "      <td>26Q159</td>\n",
       "      <td>P.S. 159</td>\n",
       "      <td>616</td>\n",
       "      <td>0.84</td>\n",
       "      <td>0.94</td>\n",
       "      <td>0.93</td>\n",
       "      <td>0.94</td>\n",
       "      <td>0.95</td>\n",
       "      <td>0.92</td>\n",
       "      <td>NaN</td>\n",
       "      <td>...</td>\n",
       "      <td>1</td>\n",
       "      <td>0</td>\n",
       "      <td>0</td>\n",
       "      <td>0</td>\n",
       "      <td>1</td>\n",
       "      <td>0</td>\n",
       "      <td>0</td>\n",
       "      <td>0</td>\n",
       "      <td>0</td>\n",
       "      <td>1</td>\n",
       "    </tr>\n",
       "    <tr>\n",
       "      <th>28Q101</th>\n",
       "      <td>28Q101</td>\n",
       "      <td>P.S. 101 School in the Gardens</td>\n",
       "      <td>662</td>\n",
       "      <td>0.81</td>\n",
       "      <td>0.84</td>\n",
       "      <td>0.88</td>\n",
       "      <td>0.87</td>\n",
       "      <td>0.97</td>\n",
       "      <td>0.88</td>\n",
       "      <td>NaN</td>\n",
       "      <td>...</td>\n",
       "      <td>1</td>\n",
       "      <td>0</td>\n",
       "      <td>0</td>\n",
       "      <td>0</td>\n",
       "      <td>1</td>\n",
       "      <td>0</td>\n",
       "      <td>0</td>\n",
       "      <td>0</td>\n",
       "      <td>0</td>\n",
       "      <td>1</td>\n",
       "    </tr>\n",
       "    <tr>\n",
       "      <th>30Q069</th>\n",
       "      <td>30Q069</td>\n",
       "      <td>P.S. 069 Jackson Heights</td>\n",
       "      <td>909</td>\n",
       "      <td>0.83</td>\n",
       "      <td>0.94</td>\n",
       "      <td>0.89</td>\n",
       "      <td>0.91</td>\n",
       "      <td>0.96</td>\n",
       "      <td>0.96</td>\n",
       "      <td>NaN</td>\n",
       "      <td>...</td>\n",
       "      <td>0</td>\n",
       "      <td>0</td>\n",
       "      <td>0</td>\n",
       "      <td>1</td>\n",
       "      <td>0</td>\n",
       "      <td>0</td>\n",
       "      <td>0</td>\n",
       "      <td>1</td>\n",
       "      <td>0</td>\n",
       "      <td>0</td>\n",
       "    </tr>\n",
       "    <tr>\n",
       "      <th>30Q152</th>\n",
       "      <td>30Q152</td>\n",
       "      <td>P.S. 152 Gwendoline N. Alleyne School</td>\n",
       "      <td>869</td>\n",
       "      <td>0.77</td>\n",
       "      <td>0.83</td>\n",
       "      <td>0.86</td>\n",
       "      <td>0.84</td>\n",
       "      <td>0.95</td>\n",
       "      <td>0.90</td>\n",
       "      <td>NaN</td>\n",
       "      <td>...</td>\n",
       "      <td>0</td>\n",
       "      <td>0</td>\n",
       "      <td>0</td>\n",
       "      <td>0</td>\n",
       "      <td>1</td>\n",
       "      <td>0</td>\n",
       "      <td>0</td>\n",
       "      <td>1</td>\n",
       "      <td>0</td>\n",
       "      <td>0</td>\n",
       "    </tr>\n",
       "    <tr>\n",
       "      <th>30Q212</th>\n",
       "      <td>30Q212</td>\n",
       "      <td>P.S. 212</td>\n",
       "      <td>721</td>\n",
       "      <td>0.76</td>\n",
       "      <td>0.94</td>\n",
       "      <td>0.84</td>\n",
       "      <td>0.86</td>\n",
       "      <td>0.96</td>\n",
       "      <td>0.92</td>\n",
       "      <td>NaN</td>\n",
       "      <td>...</td>\n",
       "      <td>0</td>\n",
       "      <td>0</td>\n",
       "      <td>0</td>\n",
       "      <td>1</td>\n",
       "      <td>0</td>\n",
       "      <td>0</td>\n",
       "      <td>0</td>\n",
       "      <td>1</td>\n",
       "      <td>0</td>\n",
       "      <td>0</td>\n",
       "    </tr>\n",
       "  </tbody>\n",
       "</table>\n",
       "<p>5 rows × 215 columns</p>\n",
       "</div>"
      ],
      "text/plain": [
       "           dbn                            school_name  enrollment  \\\n",
       "dbn                                                                 \n",
       "26Q159  26Q159                               P.S. 159         616   \n",
       "28Q101  28Q101         P.S. 101 School in the Gardens         662   \n",
       "30Q069  30Q069               P.S. 069 Jackson Heights         909   \n",
       "30Q152  30Q152  P.S. 152 Gwendoline N. Alleyne School         869   \n",
       "30Q212  30Q212                               P.S. 212         721   \n",
       "\n",
       "        survey_pp_ri  survey_pp_ct  survey_pp_se  survey_pp_es  survey_pp_sf  \\\n",
       "dbn                                                                            \n",
       "26Q159          0.84          0.94          0.93          0.94          0.95   \n",
       "28Q101          0.81          0.84          0.88          0.87          0.97   \n",
       "30Q069          0.83          0.94          0.89          0.91          0.96   \n",
       "30Q152          0.77          0.83          0.86          0.84          0.95   \n",
       "30Q212          0.76          0.94          0.84          0.86          0.96   \n",
       "\n",
       "        survey_pp_tr  rating_ela_grade_5_pct_rs  ...  qr_3_1_well_developed  \\\n",
       "dbn                                              ...                          \n",
       "26Q159          0.92                        NaN  ...                      1   \n",
       "28Q101          0.88                        NaN  ...                      1   \n",
       "30Q069          0.96                        NaN  ...                      0   \n",
       "30Q152          0.90                        NaN  ...                      0   \n",
       "30Q212          0.92                        NaN  ...                      0   \n",
       "\n",
       "        qr_4_1_developing  qr_4_1_no_data  qr_4_1_proficient  \\\n",
       "dbn                                                            \n",
       "26Q159                  0               0                  0   \n",
       "28Q101                  0               0                  0   \n",
       "30Q069                  0               0                  1   \n",
       "30Q152                  0               0                  0   \n",
       "30Q212                  0               0                  1   \n",
       "\n",
       "        qr_4_1_well_developed  qr_5_1_developing  qr_5_1_no_data  \\\n",
       "dbn                                                                \n",
       "26Q159                      1                  0               0   \n",
       "28Q101                      1                  0               0   \n",
       "30Q069                      0                  0               0   \n",
       "30Q152                      1                  0               0   \n",
       "30Q212                      0                  0               0   \n",
       "\n",
       "        qr_5_1_proficient  qr_5_1_under_developed  qr_5_1_well_developed  \n",
       "dbn                                                                       \n",
       "26Q159                  0                       0                      1  \n",
       "28Q101                  0                       0                      1  \n",
       "30Q069                  1                       0                      0  \n",
       "30Q152                  1                       0                      0  \n",
       "30Q212                  1                       0                      0  \n",
       "\n",
       "[5 rows x 215 columns]"
      ]
     },
     "execution_count": 27,
     "metadata": {},
     "output_type": "execute_result"
    }
   ],
   "source": [
    "select_dbn = ['30Q398','30Q069','30Q212','30Q152','30Q222','30Q228','26Q159','28Q101']\n",
    "select_df = results_df[results_df['dbn'].isin(select_dbn)]\n",
    "select_df"
   ]
  },
  {
   "cell_type": "code",
   "execution_count": 28,
   "id": "1c86b96f",
   "metadata": {},
   "outputs": [],
   "source": [
    "district30elementary = results_df[(results_df['district_30']==1) & (results_df['school_type_elementary']==1)]"
   ]
  },
  {
   "cell_type": "markdown",
   "id": "f5d8bc91",
   "metadata": {},
   "source": [
    "QR_1_1: Quality Review - How interesting and challenging is the curriculum?"
   ]
  },
  {
   "cell_type": "code",
   "execution_count": 29,
   "id": "1faf9833",
   "metadata": {},
   "outputs": [
    {
     "data": {
      "text/html": [
       "<div>\n",
       "<style scoped>\n",
       "    .dataframe tbody tr th:only-of-type {\n",
       "        vertical-align: middle;\n",
       "    }\n",
       "\n",
       "    .dataframe tbody tr th {\n",
       "        vertical-align: top;\n",
       "    }\n",
       "\n",
       "    .dataframe thead th {\n",
       "        text-align: right;\n",
       "    }\n",
       "</style>\n",
       "<table border=\"1\" class=\"dataframe\">\n",
       "  <thead>\n",
       "    <tr style=\"text-align: right;\">\n",
       "      <th></th>\n",
       "      <th>school_name</th>\n",
       "      <th>qr_1_1_proficient</th>\n",
       "      <th>qr_1_1_well_developed</th>\n",
       "      <th>qr_1_1_no_data</th>\n",
       "      <th>qr_1_1_developing</th>\n",
       "    </tr>\n",
       "    <tr>\n",
       "      <th>dbn</th>\n",
       "      <th></th>\n",
       "      <th></th>\n",
       "      <th></th>\n",
       "      <th></th>\n",
       "      <th></th>\n",
       "    </tr>\n",
       "  </thead>\n",
       "  <tbody>\n",
       "    <tr>\n",
       "      <th>30Q002</th>\n",
       "      <td>P.S. 002 Alfred Zimberg</td>\n",
       "      <td>0</td>\n",
       "      <td>1</td>\n",
       "      <td>0</td>\n",
       "      <td>0</td>\n",
       "    </tr>\n",
       "    <tr>\n",
       "      <th>30Q011</th>\n",
       "      <td>P.S. 011 Kathryn Phelan</td>\n",
       "      <td>1</td>\n",
       "      <td>0</td>\n",
       "      <td>0</td>\n",
       "      <td>0</td>\n",
       "    </tr>\n",
       "    <tr>\n",
       "      <th>30Q017</th>\n",
       "      <td>P.S. 017 Henry David Thoreau</td>\n",
       "      <td>1</td>\n",
       "      <td>0</td>\n",
       "      <td>0</td>\n",
       "      <td>0</td>\n",
       "    </tr>\n",
       "    <tr>\n",
       "      <th>30Q069</th>\n",
       "      <td>P.S. 069 Jackson Heights</td>\n",
       "      <td>1</td>\n",
       "      <td>0</td>\n",
       "      <td>0</td>\n",
       "      <td>0</td>\n",
       "    </tr>\n",
       "    <tr>\n",
       "      <th>30Q070</th>\n",
       "      <td>P.S. 070</td>\n",
       "      <td>0</td>\n",
       "      <td>1</td>\n",
       "      <td>0</td>\n",
       "      <td>0</td>\n",
       "    </tr>\n",
       "    <tr>\n",
       "      <th>30Q076</th>\n",
       "      <td>P.S. 076 William Hallet</td>\n",
       "      <td>0</td>\n",
       "      <td>0</td>\n",
       "      <td>0</td>\n",
       "      <td>1</td>\n",
       "    </tr>\n",
       "    <tr>\n",
       "      <th>30Q084</th>\n",
       "      <td>P.S. 084 Steinway</td>\n",
       "      <td>1</td>\n",
       "      <td>0</td>\n",
       "      <td>0</td>\n",
       "      <td>0</td>\n",
       "    </tr>\n",
       "    <tr>\n",
       "      <th>30Q085</th>\n",
       "      <td>P.S. 085 Judge Charles Vallone</td>\n",
       "      <td>1</td>\n",
       "      <td>0</td>\n",
       "      <td>0</td>\n",
       "      <td>0</td>\n",
       "    </tr>\n",
       "    <tr>\n",
       "      <th>30Q092</th>\n",
       "      <td>P.S. 092 Harry T. Stewart Sr.</td>\n",
       "      <td>1</td>\n",
       "      <td>0</td>\n",
       "      <td>0</td>\n",
       "      <td>0</td>\n",
       "    </tr>\n",
       "    <tr>\n",
       "      <th>30Q112</th>\n",
       "      <td>P.S. 112 Dutch Kills</td>\n",
       "      <td>1</td>\n",
       "      <td>0</td>\n",
       "      <td>0</td>\n",
       "      <td>0</td>\n",
       "    </tr>\n",
       "    <tr>\n",
       "      <th>30Q148</th>\n",
       "      <td>P.S. 148 Queens</td>\n",
       "      <td>1</td>\n",
       "      <td>0</td>\n",
       "      <td>0</td>\n",
       "      <td>0</td>\n",
       "    </tr>\n",
       "    <tr>\n",
       "      <th>30Q149</th>\n",
       "      <td>P.S. 149 Christa McAuliffe</td>\n",
       "      <td>0</td>\n",
       "      <td>1</td>\n",
       "      <td>0</td>\n",
       "      <td>0</td>\n",
       "    </tr>\n",
       "    <tr>\n",
       "      <th>30Q150</th>\n",
       "      <td>P.S. 150 Queens</td>\n",
       "      <td>1</td>\n",
       "      <td>0</td>\n",
       "      <td>0</td>\n",
       "      <td>0</td>\n",
       "    </tr>\n",
       "    <tr>\n",
       "      <th>30Q151</th>\n",
       "      <td>P.S. 151 Mary D. Carter</td>\n",
       "      <td>1</td>\n",
       "      <td>0</td>\n",
       "      <td>0</td>\n",
       "      <td>0</td>\n",
       "    </tr>\n",
       "    <tr>\n",
       "      <th>30Q152</th>\n",
       "      <td>P.S. 152 Gwendoline N. Alleyne School</td>\n",
       "      <td>1</td>\n",
       "      <td>0</td>\n",
       "      <td>0</td>\n",
       "      <td>0</td>\n",
       "    </tr>\n",
       "    <tr>\n",
       "      <th>30Q166</th>\n",
       "      <td>P.S. 166 Henry Gradstein</td>\n",
       "      <td>1</td>\n",
       "      <td>0</td>\n",
       "      <td>0</td>\n",
       "      <td>0</td>\n",
       "    </tr>\n",
       "    <tr>\n",
       "      <th>30Q171</th>\n",
       "      <td>P.S. 171 Peter G. Van Alst</td>\n",
       "      <td>1</td>\n",
       "      <td>0</td>\n",
       "      <td>0</td>\n",
       "      <td>0</td>\n",
       "    </tr>\n",
       "    <tr>\n",
       "      <th>30Q212</th>\n",
       "      <td>P.S. 212</td>\n",
       "      <td>1</td>\n",
       "      <td>0</td>\n",
       "      <td>0</td>\n",
       "      <td>0</td>\n",
       "    </tr>\n",
       "    <tr>\n",
       "      <th>30Q234</th>\n",
       "      <td>P.S. 234</td>\n",
       "      <td>1</td>\n",
       "      <td>0</td>\n",
       "      <td>0</td>\n",
       "      <td>0</td>\n",
       "    </tr>\n",
       "    <tr>\n",
       "      <th>30Q280</th>\n",
       "      <td>P.S. 280</td>\n",
       "      <td>1</td>\n",
       "      <td>0</td>\n",
       "      <td>0</td>\n",
       "      <td>0</td>\n",
       "    </tr>\n",
       "    <tr>\n",
       "      <th>30Q329</th>\n",
       "      <td>East Elmhurst Community School</td>\n",
       "      <td>1</td>\n",
       "      <td>0</td>\n",
       "      <td>0</td>\n",
       "      <td>0</td>\n",
       "    </tr>\n",
       "    <tr>\n",
       "      <th>30Q361</th>\n",
       "      <td>The Woodside Community School</td>\n",
       "      <td>1</td>\n",
       "      <td>0</td>\n",
       "      <td>0</td>\n",
       "      <td>0</td>\n",
       "    </tr>\n",
       "  </tbody>\n",
       "</table>\n",
       "</div>"
      ],
      "text/plain": [
       "                                  school_name  qr_1_1_proficient  \\\n",
       "dbn                                                                \n",
       "30Q002                P.S. 002 Alfred Zimberg                  0   \n",
       "30Q011                P.S. 011 Kathryn Phelan                  1   \n",
       "30Q017           P.S. 017 Henry David Thoreau                  1   \n",
       "30Q069               P.S. 069 Jackson Heights                  1   \n",
       "30Q070                               P.S. 070                  0   \n",
       "30Q076                P.S. 076 William Hallet                  0   \n",
       "30Q084                      P.S. 084 Steinway                  1   \n",
       "30Q085         P.S. 085 Judge Charles Vallone                  1   \n",
       "30Q092          P.S. 092 Harry T. Stewart Sr.                  1   \n",
       "30Q112                   P.S. 112 Dutch Kills                  1   \n",
       "30Q148                        P.S. 148 Queens                  1   \n",
       "30Q149             P.S. 149 Christa McAuliffe                  0   \n",
       "30Q150                        P.S. 150 Queens                  1   \n",
       "30Q151                P.S. 151 Mary D. Carter                  1   \n",
       "30Q152  P.S. 152 Gwendoline N. Alleyne School                  1   \n",
       "30Q166               P.S. 166 Henry Gradstein                  1   \n",
       "30Q171             P.S. 171 Peter G. Van Alst                  1   \n",
       "30Q212                               P.S. 212                  1   \n",
       "30Q234                               P.S. 234                  1   \n",
       "30Q280                               P.S. 280                  1   \n",
       "30Q329         East Elmhurst Community School                  1   \n",
       "30Q361          The Woodside Community School                  1   \n",
       "\n",
       "        qr_1_1_well_developed  qr_1_1_no_data  qr_1_1_developing  \n",
       "dbn                                                               \n",
       "30Q002                      1               0                  0  \n",
       "30Q011                      0               0                  0  \n",
       "30Q017                      0               0                  0  \n",
       "30Q069                      0               0                  0  \n",
       "30Q070                      1               0                  0  \n",
       "30Q076                      0               0                  1  \n",
       "30Q084                      0               0                  0  \n",
       "30Q085                      0               0                  0  \n",
       "30Q092                      0               0                  0  \n",
       "30Q112                      0               0                  0  \n",
       "30Q148                      0               0                  0  \n",
       "30Q149                      1               0                  0  \n",
       "30Q150                      0               0                  0  \n",
       "30Q151                      0               0                  0  \n",
       "30Q152                      0               0                  0  \n",
       "30Q166                      0               0                  0  \n",
       "30Q171                      0               0                  0  \n",
       "30Q212                      0               0                  0  \n",
       "30Q234                      0               0                  0  \n",
       "30Q280                      0               0                  0  \n",
       "30Q329                      0               0                  0  \n",
       "30Q361                      0               0                  0  "
      ]
     },
     "execution_count": 29,
     "metadata": {},
     "output_type": "execute_result"
    }
   ],
   "source": [
    "### QR_1_1: Quality Review - How interesting and challenging is the curriculum?\n",
    "district30elementary[['school_name','qr_1_1_proficient', 'qr_1_1_well_developed', 'qr_1_1_no_data','qr_1_1_developing']]"
   ]
  },
  {
   "cell_type": "code",
   "execution_count": 30,
   "id": "93cb0333",
   "metadata": {},
   "outputs": [
    {
     "name": "stdout",
     "output_type": "stream",
     "text": [
      "Proficient        625\n",
      "Well Developed    389\n",
      "No Data           201\n",
      "Developing         96\n",
      "Name: qr_1_1, dtype: int64\n"
     ]
    },
    {
     "data": {
      "image/png": "[encoded data removed]",
      "text/plain": [
       "<Figure size 360x360 with 1 Axes>"
      ]
     },
     "metadata": {},
     "output_type": "display_data"
    }
   ],
   "source": [
    "### QR_1_1: Quality Review - How interesting and challenging is the curriculum?\n",
    "# All data\n",
    "catvardistribution(data=df, var=\"qr_1_1\",\n",
    "                   x=5, y=5, rot=0)"
   ]
  },
  {
   "cell_type": "code",
   "execution_count": 31,
   "id": "40eb0e07",
   "metadata": {},
   "outputs": [
    {
     "name": "stdout",
     "output_type": "stream",
     "text": [
      "Proficient        28\n",
      "Well Developed     9\n",
      "Developing         1\n",
      "Name: qr_1_1, dtype: int64\n"
     ]
    },
    {
     "data": {
      "image/png": "[encoded data removed]",
      "text/plain": [
       "<Figure size 360x360 with 1 Axes>"
      ]
     },
     "metadata": {},
     "output_type": "display_data"
    }
   ],
   "source": [
    "# District 30 schools only\n",
    "catvardistribution(data=df[df['district']=='30'], var=\"qr_1_1\",\n",
    "                   x=5, y=5, rot=0)"
   ]
  },
  {
   "cell_type": "markdown",
   "id": "d8e31f49",
   "metadata": {},
   "source": [
    "QR_1_2: Quality Review - How effective is the teaching and learning?"
   ]
  },
  {
   "cell_type": "code",
   "execution_count": 32,
   "id": "fa8551ce",
   "metadata": {},
   "outputs": [
    {
     "name": "stdout",
     "output_type": "stream",
     "text": [
      "Proficient        697\n",
      "Developing        234\n",
      "No Data           201\n",
      "Well Developed    179\n",
      "Name: qr_1_2, dtype: int64\n"
     ]
    },
    {
     "data": {
      "image/png": "[encoded data removed]",
      "text/plain": [
       "<Figure size 360x360 with 1 Axes>"
      ]
     },
     "metadata": {},
     "output_type": "display_data"
    }
   ],
   "source": [
    "#### QR_1_2: Quality Review - How effective is the teaching and learning?\n",
    "# All data\n",
    "catvardistribution(data=df, var=\"qr_1_2\",\n",
    "                   x=5, y=5, rot=0)"
   ]
  },
  {
   "cell_type": "code",
   "execution_count": 33,
   "id": "580b72ae",
   "metadata": {},
   "outputs": [
    {
     "name": "stdout",
     "output_type": "stream",
     "text": [
      "Proficient        26\n",
      "Well Developed     9\n",
      "Developing         3\n",
      "Name: qr_1_2, dtype: int64\n"
     ]
    },
    {
     "data": {
      "image/png": "[encoded data removed]",
      "text/plain": [
       "<Figure size 360x360 with 1 Axes>"
      ]
     },
     "metadata": {},
     "output_type": "display_data"
    }
   ],
   "source": [
    "# District 30 schools only\n",
    "catvardistribution(data=df[df['district']=='30'], var=\"qr_1_2\",\n",
    "                   x=5, y=5, rot=0)"
   ]
  },
  {
   "cell_type": "code",
   "execution_count": 309,
   "id": "e55f3644",
   "metadata": {},
   "outputs": [
    {
     "data": {
      "text/html": [
       "<div>\n",
       "<style scoped>\n",
       "    .dataframe tbody tr th:only-of-type {\n",
       "        vertical-align: middle;\n",
       "    }\n",
       "\n",
       "    .dataframe tbody tr th {\n",
       "        vertical-align: top;\n",
       "    }\n",
       "\n",
       "    .dataframe thead th {\n",
       "        text-align: right;\n",
       "    }\n",
       "</style>\n",
       "<table border=\"1\" class=\"dataframe\">\n",
       "  <thead>\n",
       "    <tr style=\"text-align: right;\">\n",
       "      <th></th>\n",
       "      <th>school_name</th>\n",
       "      <th>qr_1_2_proficient</th>\n",
       "      <th>qr_1_2_well_developed</th>\n",
       "      <th>qr_1_2_no_data</th>\n",
       "      <th>qr_1_2_developing</th>\n",
       "    </tr>\n",
       "    <tr>\n",
       "      <th>dbn</th>\n",
       "      <th></th>\n",
       "      <th></th>\n",
       "      <th></th>\n",
       "      <th></th>\n",
       "      <th></th>\n",
       "    </tr>\n",
       "  </thead>\n",
       "  <tbody>\n",
       "    <tr>\n",
       "      <th>30Q002</th>\n",
       "      <td>P.S. 002 Alfred Zimberg</td>\n",
       "      <td>1</td>\n",
       "      <td>0</td>\n",
       "      <td>0</td>\n",
       "      <td>0</td>\n",
       "    </tr>\n",
       "    <tr>\n",
       "      <th>30Q011</th>\n",
       "      <td>P.S. 011 Kathryn Phelan</td>\n",
       "      <td>1</td>\n",
       "      <td>0</td>\n",
       "      <td>0</td>\n",
       "      <td>0</td>\n",
       "    </tr>\n",
       "    <tr>\n",
       "      <th>30Q017</th>\n",
       "      <td>P.S. 017 Henry David Thoreau</td>\n",
       "      <td>1</td>\n",
       "      <td>0</td>\n",
       "      <td>0</td>\n",
       "      <td>0</td>\n",
       "    </tr>\n",
       "    <tr>\n",
       "      <th>30Q069</th>\n",
       "      <td>P.S. 069 Jackson Heights</td>\n",
       "      <td>1</td>\n",
       "      <td>0</td>\n",
       "      <td>0</td>\n",
       "      <td>0</td>\n",
       "    </tr>\n",
       "    <tr>\n",
       "      <th>30Q070</th>\n",
       "      <td>P.S. 070</td>\n",
       "      <td>0</td>\n",
       "      <td>1</td>\n",
       "      <td>0</td>\n",
       "      <td>0</td>\n",
       "    </tr>\n",
       "    <tr>\n",
       "      <th>30Q076</th>\n",
       "      <td>P.S. 076 William Hallet</td>\n",
       "      <td>0</td>\n",
       "      <td>0</td>\n",
       "      <td>0</td>\n",
       "      <td>1</td>\n",
       "    </tr>\n",
       "    <tr>\n",
       "      <th>30Q084</th>\n",
       "      <td>P.S. 084 Steinway</td>\n",
       "      <td>0</td>\n",
       "      <td>1</td>\n",
       "      <td>0</td>\n",
       "      <td>0</td>\n",
       "    </tr>\n",
       "    <tr>\n",
       "      <th>30Q085</th>\n",
       "      <td>P.S. 085 Judge Charles Vallone</td>\n",
       "      <td>1</td>\n",
       "      <td>0</td>\n",
       "      <td>0</td>\n",
       "      <td>0</td>\n",
       "    </tr>\n",
       "    <tr>\n",
       "      <th>30Q092</th>\n",
       "      <td>P.S. 092 Harry T. Stewart Sr.</td>\n",
       "      <td>0</td>\n",
       "      <td>0</td>\n",
       "      <td>0</td>\n",
       "      <td>1</td>\n",
       "    </tr>\n",
       "    <tr>\n",
       "      <th>30Q112</th>\n",
       "      <td>P.S. 112 Dutch Kills</td>\n",
       "      <td>1</td>\n",
       "      <td>0</td>\n",
       "      <td>0</td>\n",
       "      <td>0</td>\n",
       "    </tr>\n",
       "    <tr>\n",
       "      <th>30Q148</th>\n",
       "      <td>P.S. 148 Queens</td>\n",
       "      <td>1</td>\n",
       "      <td>0</td>\n",
       "      <td>0</td>\n",
       "      <td>0</td>\n",
       "    </tr>\n",
       "    <tr>\n",
       "      <th>30Q149</th>\n",
       "      <td>P.S. 149 Christa McAuliffe</td>\n",
       "      <td>1</td>\n",
       "      <td>0</td>\n",
       "      <td>0</td>\n",
       "      <td>0</td>\n",
       "    </tr>\n",
       "    <tr>\n",
       "      <th>30Q150</th>\n",
       "      <td>P.S. 150 Queens</td>\n",
       "      <td>1</td>\n",
       "      <td>0</td>\n",
       "      <td>0</td>\n",
       "      <td>0</td>\n",
       "    </tr>\n",
       "    <tr>\n",
       "      <th>30Q151</th>\n",
       "      <td>P.S. 151 Mary D. Carter</td>\n",
       "      <td>1</td>\n",
       "      <td>0</td>\n",
       "      <td>0</td>\n",
       "      <td>0</td>\n",
       "    </tr>\n",
       "    <tr>\n",
       "      <th>30Q152</th>\n",
       "      <td>P.S. 152 Gwendoline N. Alleyne School</td>\n",
       "      <td>0</td>\n",
       "      <td>1</td>\n",
       "      <td>0</td>\n",
       "      <td>0</td>\n",
       "    </tr>\n",
       "    <tr>\n",
       "      <th>30Q166</th>\n",
       "      <td>P.S. 166 Henry Gradstein</td>\n",
       "      <td>1</td>\n",
       "      <td>0</td>\n",
       "      <td>0</td>\n",
       "      <td>0</td>\n",
       "    </tr>\n",
       "    <tr>\n",
       "      <th>30Q171</th>\n",
       "      <td>P.S. 171 Peter G. Van Alst</td>\n",
       "      <td>1</td>\n",
       "      <td>0</td>\n",
       "      <td>0</td>\n",
       "      <td>0</td>\n",
       "    </tr>\n",
       "    <tr>\n",
       "      <th>30Q212</th>\n",
       "      <td>P.S. 212</td>\n",
       "      <td>1</td>\n",
       "      <td>0</td>\n",
       "      <td>0</td>\n",
       "      <td>0</td>\n",
       "    </tr>\n",
       "    <tr>\n",
       "      <th>30Q234</th>\n",
       "      <td>P.S. 234</td>\n",
       "      <td>0</td>\n",
       "      <td>1</td>\n",
       "      <td>0</td>\n",
       "      <td>0</td>\n",
       "    </tr>\n",
       "    <tr>\n",
       "      <th>30Q280</th>\n",
       "      <td>P.S. 280</td>\n",
       "      <td>1</td>\n",
       "      <td>0</td>\n",
       "      <td>0</td>\n",
       "      <td>0</td>\n",
       "    </tr>\n",
       "    <tr>\n",
       "      <th>30Q329</th>\n",
       "      <td>East Elmhurst Community School</td>\n",
       "      <td>1</td>\n",
       "      <td>0</td>\n",
       "      <td>0</td>\n",
       "      <td>0</td>\n",
       "    </tr>\n",
       "    <tr>\n",
       "      <th>30Q361</th>\n",
       "      <td>The Woodside Community School</td>\n",
       "      <td>1</td>\n",
       "      <td>0</td>\n",
       "      <td>0</td>\n",
       "      <td>0</td>\n",
       "    </tr>\n",
       "  </tbody>\n",
       "</table>\n",
       "</div>"
      ],
      "text/plain": [
       "                                  school_name  qr_1_2_proficient  \\\n",
       "dbn                                                                \n",
       "30Q002                P.S. 002 Alfred Zimberg                  1   \n",
       "30Q011                P.S. 011 Kathryn Phelan                  1   \n",
       "30Q017           P.S. 017 Henry David Thoreau                  1   \n",
       "30Q069               P.S. 069 Jackson Heights                  1   \n",
       "30Q070                               P.S. 070                  0   \n",
       "30Q076                P.S. 076 William Hallet                  0   \n",
       "30Q084                      P.S. 084 Steinway                  0   \n",
       "30Q085         P.S. 085 Judge Charles Vallone                  1   \n",
       "30Q092          P.S. 092 Harry T. Stewart Sr.                  0   \n",
       "30Q112                   P.S. 112 Dutch Kills                  1   \n",
       "30Q148                        P.S. 148 Queens                  1   \n",
       "30Q149             P.S. 149 Christa McAuliffe                  1   \n",
       "30Q150                        P.S. 150 Queens                  1   \n",
       "30Q151                P.S. 151 Mary D. Carter                  1   \n",
       "30Q152  P.S. 152 Gwendoline N. Alleyne School                  0   \n",
       "30Q166               P.S. 166 Henry Gradstein                  1   \n",
       "30Q171             P.S. 171 Peter G. Van Alst                  1   \n",
       "30Q212                               P.S. 212                  1   \n",
       "30Q234                               P.S. 234                  0   \n",
       "30Q280                               P.S. 280                  1   \n",
       "30Q329         East Elmhurst Community School                  1   \n",
       "30Q361          The Woodside Community School                  1   \n",
       "\n",
       "        qr_1_2_well_developed  qr_1_2_no_data  qr_1_2_developing  \n",
       "dbn                                                               \n",
       "30Q002                      0               0                  0  \n",
       "30Q011                      0               0                  0  \n",
       "30Q017                      0               0                  0  \n",
       "30Q069                      0               0                  0  \n",
       "30Q070                      1               0                  0  \n",
       "30Q076                      0               0                  1  \n",
       "30Q084                      1               0                  0  \n",
       "30Q085                      0               0                  0  \n",
       "30Q092                      0               0                  1  \n",
       "30Q112                      0               0                  0  \n",
       "30Q148                      0               0                  0  \n",
       "30Q149                      0               0                  0  \n",
       "30Q150                      0               0                  0  \n",
       "30Q151                      0               0                  0  \n",
       "30Q152                      1               0                  0  \n",
       "30Q166                      0               0                  0  \n",
       "30Q171                      0               0                  0  \n",
       "30Q212                      0               0                  0  \n",
       "30Q234                      1               0                  0  \n",
       "30Q280                      0               0                  0  \n",
       "30Q329                      0               0                  0  \n",
       "30Q361                      0               0                  0  "
      ]
     },
     "execution_count": 309,
     "metadata": {},
     "output_type": "execute_result"
    }
   ],
   "source": [
    "district30elementary[['school_name','qr_1_2_proficient', 'qr_1_2_well_developed', 'qr_1_2_no_data','qr_1_2_developing']]"
   ]
  },
  {
   "cell_type": "code",
   "execution_count": 35,
   "id": "4c90008c",
   "metadata": {},
   "outputs": [],
   "source": [
    "# correlation matrix for survey scores\n",
    "\n",
    "def correlationMatrix(dataframe):\n",
    "    corr = dataframe.iloc[:,1100:].corr()\n",
    "    # create a triangular matrix\n",
    "#     mask = np.triu(np.ones_like(dataframe.iloc[:,4:].corr(), dtype=np.bool))\n",
    "    \n",
    "    # plot the heatmap\n",
    "    plt.figure(figsize=(50,20))\n",
    "    heatmap = sns.heatmap(corr,\n",
    "                         xticklabels=corr.columns,\n",
    "                         yticklabels=corr.columns,\n",
    "#                          mask=mask,\n",
    "                         vmin=-1, vmax=1, annot=True, cmap='BrBG')\n",
    "    heatmap.set_title('Correlation Heatmap of Survey Scores', fontdict={'fontsize':12}, pad=20);\n",
    "\n",
    "# correlationMatrix(dataframe=district30elementary)"
   ]
  },
  {
   "cell_type": "markdown",
   "id": "789c2df9",
   "metadata": {},
   "source": [
    "### Typical data analysis"
   ]
  },
  {
   "cell_type": "markdown",
   "id": "e99c4f25",
   "metadata": {},
   "source": [
    "#### Academic progression metrics comparison"
   ]
  },
  {
   "cell_type": "markdown",
   "id": "08537c60",
   "metadata": {},
   "source": [
    "Plot: Percentage of Students at Level 3 or 4 in 5th Grade (Out of Students at Level 3 or 4 in 3rd Grade) vs. Percentage of Students at Level 3 or 4 in 5th Grade (Out of Students at Level 2 in 3rd Grade), in `English Language Arts` "
   ]
  },
  {
   "cell_type": "code",
   "execution_count": 328,
   "id": "f52eedaa",
   "metadata": {},
   "outputs": [
    {
     "data": {
      "application/vnd.plotly.v1+json": {
       "config": {
        "plotlyServerURL": "https://plot.ly"
       },
       "data": [
        {
         "hovertemplate": "<b>%{hovertext}</b><br><br>school_name=P.S. 002 Alfred Zimberg<br>val_prof_pct_watn3_elalevel2=%{x}<br>val_prof_pct_watn3_elalevel34=%{y}<br>enrollment=%{marker.size}<extra></extra>",
         "hovertext": [
          "P.S. 002 Alfred Zimberg"
         ],
         "legendgroup": "P.S. 002 Alfred Zimberg",
         "marker": {
          "color": "#636efa",
          "size": [
           533
          ],
          "sizemode": "area",
          "sizeref": 2.4125,
          "symbol": "circle"
         },
         "mode": "markers",
         "name": "P.S. 002 Alfred Zimberg",
         "orientation": "v",
         "showlegend": true,
         "type": "scatter",
         "x": [
          0.345
         ],
         "xaxis": "x",
         "y": [
          0.766
         ],
         "yaxis": "y"
        },
        {
         "hovertemplate": "<b>%{hovertext}</b><br><br>school_name=P.S. 011 Kathryn Phelan<br>val_prof_pct_watn3_elalevel2=%{x}<br>val_prof_pct_watn3_elalevel34=%{y}<br>enrollment=%{marker.size}<extra></extra>",
         "hovertext": [
          "P.S. 011 Kathryn Phelan"
         ],
         "legendgroup": "P.S. 011 Kathryn Phelan",
         "marker": {
          "color": "#EF553B",
          "size": [
           906
          ],
          "sizemode": "area",
          "sizeref": 2.4125,
          "symbol": "circle"
         },
         "mode": "markers",
         "name": "P.S. 011 Kathryn Phelan",
         "orientation": "v",
         "showlegend": true,
         "type": "scatter",
         "x": [
          0.267
         ],
         "xaxis": "x",
         "y": [
          0.662
         ],
         "yaxis": "y"
        },
        {
         "hovertemplate": "<b>%{hovertext}</b><br><br>school_name=P.S. 017 Henry David Thoreau<br>val_prof_pct_watn3_elalevel2=%{x}<br>val_prof_pct_watn3_elalevel34=%{y}<br>enrollment=%{marker.size}<extra></extra>",
         "hovertext": [
          "P.S. 017 Henry David Thoreau"
         ],
         "legendgroup": "P.S. 017 Henry David Thoreau",
         "marker": {
          "color": "#00cc96",
          "size": [
           537
          ],
          "sizemode": "area",
          "sizeref": 2.4125,
          "symbol": "circle"
         },
         "mode": "markers",
         "name": "P.S. 017 Henry David Thoreau",
         "orientation": "v",
         "showlegend": true,
         "type": "scatter",
         "x": [
          0.094
         ],
         "xaxis": "x",
         "y": [
          0.655
         ],
         "yaxis": "y"
        },
        {
         "hovertemplate": "<b>%{hovertext}</b><br><br>school_name=P.S. 069 Jackson Heights<br>val_prof_pct_watn3_elalevel2=%{x}<br>val_prof_pct_watn3_elalevel34=%{y}<br>enrollment=%{marker.size}<extra></extra>",
         "hovertext": [
          "P.S. 069 Jackson Heights"
         ],
         "legendgroup": "P.S. 069 Jackson Heights",
         "marker": {
          "color": "#ab63fa",
          "size": [
           909
          ],
          "sizemode": "area",
          "sizeref": 2.4125,
          "symbol": "circle"
         },
         "mode": "markers",
         "name": "P.S. 069 Jackson Heights",
         "orientation": "v",
         "showlegend": true,
         "type": "scatter",
         "x": [
          0.167
         ],
         "xaxis": "x",
         "y": [
          0.769
         ],
         "yaxis": "y"
        },
        {
         "hovertemplate": "<b>%{hovertext}</b><br><br>school_name=P.S. 070<br>val_prof_pct_watn3_elalevel2=%{x}<br>val_prof_pct_watn3_elalevel34=%{y}<br>enrollment=%{marker.size}<extra></extra>",
         "hovertext": [
          "P.S. 070"
         ],
         "legendgroup": "P.S. 070",
         "marker": {
          "color": "#FFA15A",
          "size": [
           728
          ],
          "sizemode": "area",
          "sizeref": 2.4125,
          "symbol": "circle"
         },
         "mode": "markers",
         "name": "P.S. 070",
         "orientation": "v",
         "showlegend": true,
         "type": "scatter",
         "x": [
          0.114
         ],
         "xaxis": "x",
         "y": [
          0.667
         ],
         "yaxis": "y"
        },
        {
         "hovertemplate": "<b>%{hovertext}</b><br><br>school_name=P.S. 076 William Hallet<br>val_prof_pct_watn3_elalevel2=%{x}<br>val_prof_pct_watn3_elalevel34=%{y}<br>enrollment=%{marker.size}<extra></extra>",
         "hovertext": [
          "P.S. 076 William Hallet"
         ],
         "legendgroup": "P.S. 076 William Hallet",
         "marker": {
          "color": "#19d3f3",
          "size": [
           385
          ],
          "sizemode": "area",
          "sizeref": 2.4125,
          "symbol": "circle"
         },
         "mode": "markers",
         "name": "P.S. 076 William Hallet",
         "orientation": "v",
         "showlegend": true,
         "type": "scatter",
         "x": [
          0.111
         ],
         "xaxis": "x",
         "y": [
          0.545
         ],
         "yaxis": "y"
        },
        {
         "hovertemplate": "<b>%{hovertext}</b><br><br>school_name=P.S. 084 Steinway<br>val_prof_pct_watn3_elalevel2=%{x}<br>val_prof_pct_watn3_elalevel34=%{y}<br>enrollment=%{marker.size}<extra></extra>",
         "hovertext": [
          "P.S. 084 Steinway"
         ],
         "legendgroup": "P.S. 084 Steinway",
         "marker": {
          "color": "#FF6692",
          "size": [
           228
          ],
          "sizemode": "area",
          "sizeref": 2.4125,
          "symbol": "circle"
         },
         "mode": "markers",
         "name": "P.S. 084 Steinway",
         "orientation": "v",
         "showlegend": true,
         "type": "scatter",
         "x": [
          null
         ],
         "xaxis": "x",
         "y": [
          0.818
         ],
         "yaxis": "y"
        },
        {
         "hovertemplate": "<b>%{hovertext}</b><br><br>school_name=P.S. 085 Judge Charles Vallone<br>val_prof_pct_watn3_elalevel2=%{x}<br>val_prof_pct_watn3_elalevel34=%{y}<br>enrollment=%{marker.size}<extra></extra>",
         "hovertext": [
          "P.S. 085 Judge Charles Vallone"
         ],
         "legendgroup": "P.S. 085 Judge Charles Vallone",
         "marker": {
          "color": "#B6E880",
          "size": [
           590
          ],
          "sizemode": "area",
          "sizeref": 2.4125,
          "symbol": "circle"
         },
         "mode": "markers",
         "name": "P.S. 085 Judge Charles Vallone",
         "orientation": "v",
         "showlegend": true,
         "type": "scatter",
         "x": [
          0.158
         ],
         "xaxis": "x",
         "y": [
          0.735
         ],
         "yaxis": "y"
        },
        {
         "hovertemplate": "<b>%{hovertext}</b><br><br>school_name=P.S. 092 Harry T. Stewart Sr.<br>val_prof_pct_watn3_elalevel2=%{x}<br>val_prof_pct_watn3_elalevel34=%{y}<br>enrollment=%{marker.size}<extra></extra>",
         "hovertext": [
          "P.S. 092 Harry T. Stewart Sr."
         ],
         "legendgroup": "P.S. 092 Harry T. Stewart Sr.",
         "marker": {
          "color": "#FF97FF",
          "size": [
           811
          ],
          "sizemode": "area",
          "sizeref": 2.4125,
          "symbol": "circle"
         },
         "mode": "markers",
         "name": "P.S. 092 Harry T. Stewart Sr.",
         "orientation": "v",
         "showlegend": true,
         "type": "scatter",
         "x": [
          0.111
         ],
         "xaxis": "x",
         "y": [
          0.744
         ],
         "yaxis": "y"
        },
        {
         "hovertemplate": "<b>%{hovertext}</b><br><br>school_name=P.S. 112 Dutch Kills<br>val_prof_pct_watn3_elalevel2=%{x}<br>val_prof_pct_watn3_elalevel34=%{y}<br>enrollment=%{marker.size}<extra></extra>",
         "hovertext": [
          "P.S. 112 Dutch Kills"
         ],
         "legendgroup": "P.S. 112 Dutch Kills",
         "marker": {
          "color": "#FECB52",
          "size": [
           366
          ],
          "sizemode": "area",
          "sizeref": 2.4125,
          "symbol": "circle"
         },
         "mode": "markers",
         "name": "P.S. 112 Dutch Kills",
         "orientation": "v",
         "showlegend": true,
         "type": "scatter",
         "x": [
          0.133
         ],
         "xaxis": "x",
         "y": [
          0.545
         ],
         "yaxis": "y"
        },
        {
         "hovertemplate": "<b>%{hovertext}</b><br><br>school_name=P.S. 148 Queens<br>val_prof_pct_watn3_elalevel2=%{x}<br>val_prof_pct_watn3_elalevel34=%{y}<br>enrollment=%{marker.size}<extra></extra>",
         "hovertext": [
          "P.S. 148 Queens"
         ],
         "legendgroup": "P.S. 148 Queens",
         "marker": {
          "color": "#636efa",
          "size": [
           700
          ],
          "sizemode": "area",
          "sizeref": 2.4125,
          "symbol": "circle"
         },
         "mode": "markers",
         "name": "P.S. 148 Queens",
         "orientation": "v",
         "showlegend": true,
         "type": "scatter",
         "x": [
          0.182
         ],
         "xaxis": "x",
         "y": [
          0.605
         ],
         "yaxis": "y"
        },
        {
         "hovertemplate": "<b>%{hovertext}</b><br><br>school_name=P.S. 149 Christa McAuliffe<br>val_prof_pct_watn3_elalevel2=%{x}<br>val_prof_pct_watn3_elalevel34=%{y}<br>enrollment=%{marker.size}<extra></extra>",
         "hovertext": [
          "P.S. 149 Christa McAuliffe"
         ],
         "legendgroup": "P.S. 149 Christa McAuliffe",
         "marker": {
          "color": "#EF553B",
          "size": [
           940
          ],
          "sizemode": "area",
          "sizeref": 2.4125,
          "symbol": "circle"
         },
         "mode": "markers",
         "name": "P.S. 149 Christa McAuliffe",
         "orientation": "v",
         "showlegend": true,
         "type": "scatter",
         "x": [
          0.045
         ],
         "xaxis": "x",
         "y": [
          0.536
         ],
         "yaxis": "y"
        },
        {
         "hovertemplate": "<b>%{hovertext}</b><br><br>school_name=P.S. 150 Queens<br>val_prof_pct_watn3_elalevel2=%{x}<br>val_prof_pct_watn3_elalevel34=%{y}<br>enrollment=%{marker.size}<extra></extra>",
         "hovertext": [
          "P.S. 150 Queens"
         ],
         "legendgroup": "P.S. 150 Queens",
         "marker": {
          "color": "#00cc96",
          "size": [
           965
          ],
          "sizemode": "area",
          "sizeref": 2.4125,
          "symbol": "circle"
         },
         "mode": "markers",
         "name": "P.S. 150 Queens",
         "orientation": "v",
         "showlegend": true,
         "type": "scatter",
         "x": [
          0.208
         ],
         "xaxis": "x",
         "y": [
          0.798
         ],
         "yaxis": "y"
        },
        {
         "hovertemplate": "<b>%{hovertext}</b><br><br>school_name=P.S. 151 Mary D. Carter<br>val_prof_pct_watn3_elalevel2=%{x}<br>val_prof_pct_watn3_elalevel34=%{y}<br>enrollment=%{marker.size}<extra></extra>",
         "hovertext": [
          "P.S. 151 Mary D. Carter"
         ],
         "legendgroup": "P.S. 151 Mary D. Carter",
         "marker": {
          "color": "#ab63fa",
          "size": [
           293
          ],
          "sizemode": "area",
          "sizeref": 2.4125,
          "symbol": "circle"
         },
         "mode": "markers",
         "name": "P.S. 151 Mary D. Carter",
         "orientation": "v",
         "showlegend": true,
         "type": "scatter",
         "x": [
          0.056
         ],
         "xaxis": "x",
         "y": [
          0.583
         ],
         "yaxis": "y"
        },
        {
         "hovertemplate": "<b>%{hovertext}</b><br><br>school_name=P.S. 152 Gwendoline N. Alleyne School<br>val_prof_pct_watn3_elalevel2=%{x}<br>val_prof_pct_watn3_elalevel34=%{y}<br>enrollment=%{marker.size}<extra></extra>",
         "hovertext": [
          "P.S. 152 Gwendoline N. Alleyne School"
         ],
         "legendgroup": "P.S. 152 Gwendoline N. Alleyne School",
         "marker": {
          "color": "#FFA15A",
          "size": [
           869
          ],
          "sizemode": "area",
          "sizeref": 2.4125,
          "symbol": "circle"
         },
         "mode": "markers",
         "name": "P.S. 152 Gwendoline N. Alleyne School",
         "orientation": "v",
         "showlegend": true,
         "type": "scatter",
         "x": [
          0.317
         ],
         "xaxis": "x",
         "y": [
          0.722
         ],
         "yaxis": "y"
        },
        {
         "hovertemplate": "<b>%{hovertext}</b><br><br>school_name=P.S. 166 Henry Gradstein<br>val_prof_pct_watn3_elalevel2=%{x}<br>val_prof_pct_watn3_elalevel34=%{y}<br>enrollment=%{marker.size}<extra></extra>",
         "hovertext": [
          "P.S. 166 Henry Gradstein"
         ],
         "legendgroup": "P.S. 166 Henry Gradstein",
         "marker": {
          "color": "#19d3f3",
          "size": [
           914
          ],
          "sizemode": "area",
          "sizeref": 2.4125,
          "symbol": "circle"
         },
         "mode": "markers",
         "name": "P.S. 166 Henry Gradstein",
         "orientation": "v",
         "showlegend": true,
         "type": "scatter",
         "x": [
          0.094
         ],
         "xaxis": "x",
         "y": [
          0.727
         ],
         "yaxis": "y"
        },
        {
         "hovertemplate": "<b>%{hovertext}</b><br><br>school_name=P.S. 171 Peter G. Van Alst<br>val_prof_pct_watn3_elalevel2=%{x}<br>val_prof_pct_watn3_elalevel34=%{y}<br>enrollment=%{marker.size}<extra></extra>",
         "hovertext": [
          "P.S. 171 Peter G. Van Alst"
         ],
         "legendgroup": "P.S. 171 Peter G. Van Alst",
         "marker": {
          "color": "#FF6692",
          "size": [
           382
          ],
          "sizemode": "area",
          "sizeref": 2.4125,
          "symbol": "circle"
         },
         "mode": "markers",
         "name": "P.S. 171 Peter G. Van Alst",
         "orientation": "v",
         "showlegend": true,
         "type": "scatter",
         "x": [
          0.074
         ],
         "xaxis": "x",
         "y": [
          0.6
         ],
         "yaxis": "y"
        },
        {
         "hovertemplate": "<b>%{hovertext}</b><br><br>school_name=P.S. 212<br>val_prof_pct_watn3_elalevel2=%{x}<br>val_prof_pct_watn3_elalevel34=%{y}<br>enrollment=%{marker.size}<extra></extra>",
         "hovertext": [
          "P.S. 212"
         ],
         "legendgroup": "P.S. 212",
         "marker": {
          "color": "#B6E880",
          "size": [
           721
          ],
          "sizemode": "area",
          "sizeref": 2.4125,
          "symbol": "circle"
         },
         "mode": "markers",
         "name": "P.S. 212",
         "orientation": "v",
         "showlegend": true,
         "type": "scatter",
         "x": [
          0.2
         ],
         "xaxis": "x",
         "y": [
          0.618
         ],
         "yaxis": "y"
        },
        {
         "hovertemplate": "<b>%{hovertext}</b><br><br>school_name=P.S. 234<br>val_prof_pct_watn3_elalevel2=%{x}<br>val_prof_pct_watn3_elalevel34=%{y}<br>enrollment=%{marker.size}<extra></extra>",
         "hovertext": [
          "P.S. 234"
         ],
         "legendgroup": "P.S. 234",
         "marker": {
          "color": "#FF97FF",
          "size": [
           420
          ],
          "sizemode": "area",
          "sizeref": 2.4125,
          "symbol": "circle"
         },
         "mode": "markers",
         "name": "P.S. 234",
         "orientation": "v",
         "showlegend": true,
         "type": "scatter",
         "x": [
          0.4
         ],
         "xaxis": "x",
         "y": [
          0.909
         ],
         "yaxis": "y"
        },
        {
         "hovertemplate": "<b>%{hovertext}</b><br><br>school_name=P.S. 280<br>val_prof_pct_watn3_elalevel2=%{x}<br>val_prof_pct_watn3_elalevel34=%{y}<br>enrollment=%{marker.size}<extra></extra>",
         "hovertext": [
          "P.S. 280"
         ],
         "legendgroup": "P.S. 280",
         "marker": {
          "color": "#FECB52",
          "size": [
           575
          ],
          "sizemode": "area",
          "sizeref": 2.4125,
          "symbol": "circle"
         },
         "mode": "markers",
         "name": "P.S. 280",
         "orientation": "v",
         "showlegend": true,
         "type": "scatter",
         "x": [
          0.158
         ],
         "xaxis": "x",
         "y": [
          0.571
         ],
         "yaxis": "y"
        },
        {
         "hovertemplate": "<b>%{hovertext}</b><br><br>school_name=East Elmhurst Community School<br>val_prof_pct_watn3_elalevel2=%{x}<br>val_prof_pct_watn3_elalevel34=%{y}<br>enrollment=%{marker.size}<extra></extra>",
         "hovertext": [
          "East Elmhurst Community School"
         ],
         "legendgroup": "East Elmhurst Community School",
         "marker": {
          "color": "#636efa",
          "size": [
           448
          ],
          "sizemode": "area",
          "sizeref": 2.4125,
          "symbol": "circle"
         },
         "mode": "markers",
         "name": "East Elmhurst Community School",
         "orientation": "v",
         "showlegend": true,
         "type": "scatter",
         "x": [
          null
         ],
         "xaxis": "x",
         "y": [
          0.556
         ],
         "yaxis": "y"
        },
        {
         "hovertemplate": "<b>%{hovertext}</b><br><br>school_name=The Woodside Community School<br>val_prof_pct_watn3_elalevel2=%{x}<br>val_prof_pct_watn3_elalevel34=%{y}<br>enrollment=%{marker.size}<extra></extra>",
         "hovertext": [
          "The Woodside Community School"
         ],
         "legendgroup": "The Woodside Community School",
         "marker": {
          "color": "#EF553B",
          "size": [
           366
          ],
          "sizemode": "area",
          "sizeref": 2.4125,
          "symbol": "circle"
         },
         "mode": "markers",
         "name": "The Woodside Community School",
         "orientation": "v",
         "showlegend": true,
         "type": "scatter",
         "x": [
          null
         ],
         "xaxis": "x",
         "y": [
          null
         ],
         "yaxis": "y"
        }
       ],
       "layout": {
        "legend": {
         "itemsizing": "constant",
         "title": {
          "text": "school_name"
         },
         "tracegroupgap": 0
        },
        "margin": {
         "t": 60
        },
        "template": {
         "data": {
          "bar": [
           {
            "error_x": {
             "color": "#2a3f5f"
            },
            "error_y": {
             "color": "#2a3f5f"
            },
            "marker": {
             "line": {
              "color": "#E5ECF6",
              "width": 0.5
             },
             "pattern": {
              "fillmode": "overlay",
              "size": 10,
              "solidity": 0.2
             }
            },
            "type": "bar"
           }
          ],
          "barpolar": [
           {
            "marker": {
             "line": {
              "color": "#E5ECF6",
              "width": 0.5
             },
             "pattern": {
              "fillmode": "overlay",
              "size": 10,
              "solidity": 0.2
             }
            },
            "type": "barpolar"
           }
          ],
          "carpet": [
           {
            "aaxis": {
             "endlinecolor": "#2a3f5f",
             "gridcolor": "white",
             "linecolor": "white",
             "minorgridcolor": "white",
             "startlinecolor": "#2a3f5f"
            },
            "baxis": {
             "endlinecolor": "#2a3f5f",
             "gridcolor": "white",
             "linecolor": "white",
             "minorgridcolor": "white",
             "startlinecolor": "#2a3f5f"
            },
            "type": "carpet"
           }
          ],
          "choropleth": [
           {
            "colorbar": {
             "outlinewidth": 0,
             "ticks": ""
            },
            "type": "choropleth"
           }
          ],
          "contour": [
           {
            "colorbar": {
             "outlinewidth": 0,
             "ticks": ""
            },
            "colorscale": [
             [
              0,
              "#0d0887"
             ],
             [
              0.1111111111111111,
              "#46039f"
             ],
             [
              0.2222222222222222,
              "#7201a8"
             ],
             [
              0.3333333333333333,
              "#9c179e"
             ],
             [
              0.4444444444444444,
              "#bd3786"
             ],
             [
              0.5555555555555556,
              "#d8576b"
             ],
             [
              0.6666666666666666,
              "#ed7953"
             ],
             [
              0.7777777777777778,
              "#fb9f3a"
             ],
             [
              0.8888888888888888,
              "#fdca26"
             ],
             [
              1,
              "#f0f921"
             ]
            ],
            "type": "contour"
           }
          ],
          "contourcarpet": [
           {
            "colorbar": {
             "outlinewidth": 0,
             "ticks": ""
            },
            "type": "contourcarpet"
           }
          ],
          "heatmap": [
           {
            "colorbar": {
             "outlinewidth": 0,
             "ticks": ""
            },
            "colorscale": [
             [
              0,
              "#0d0887"
             ],
             [
              0.1111111111111111,
              "#46039f"
             ],
             [
              0.2222222222222222,
              "#7201a8"
             ],
             [
              0.3333333333333333,
              "#9c179e"
             ],
             [
              0.4444444444444444,
              "#bd3786"
             ],
             [
              0.5555555555555556,
              "#d8576b"
             ],
             [
              0.6666666666666666,
              "#ed7953"
             ],
             [
              0.7777777777777778,
              "#fb9f3a"
             ],
             [
              0.8888888888888888,
              "#fdca26"
             ],
             [
              1,
              "#f0f921"
             ]
            ],
            "type": "heatmap"
           }
          ],
          "heatmapgl": [
           {
            "colorbar": {
             "outlinewidth": 0,
             "ticks": ""
            },
            "colorscale": [
             [
              0,
              "#0d0887"
             ],
             [
              0.1111111111111111,
              "#46039f"
             ],
             [
              0.2222222222222222,
              "#7201a8"
             ],
             [
              0.3333333333333333,
              "#9c179e"
             ],
             [
              0.4444444444444444,
              "#bd3786"
             ],
             [
              0.5555555555555556,
              "#d8576b"
             ],
             [
              0.6666666666666666,
              "#ed7953"
             ],
             [
              0.7777777777777778,
              "#fb9f3a"
             ],
             [
              0.8888888888888888,
              "#fdca26"
             ],
             [
              1,
              "#f0f921"
             ]
            ],
            "type": "heatmapgl"
           }
          ],
          "histogram": [
           {
            "marker": {
             "pattern": {
              "fillmode": "overlay",
              "size": 10,
              "solidity": 0.2
             }
            },
            "type": "histogram"
           }
          ],
          "histogram2d": [
           {
            "colorbar": {
             "outlinewidth": 0,
             "ticks": ""
            },
            "colorscale": [
             [
              0,
              "#0d0887"
             ],
             [
              0.1111111111111111,
              "#46039f"
             ],
             [
              0.2222222222222222,
              "#7201a8"
             ],
             [
              0.3333333333333333,
              "#9c179e"
             ],
             [
              0.4444444444444444,
              "#bd3786"
             ],
             [
              0.5555555555555556,
              "#d8576b"
             ],
             [
              0.6666666666666666,
              "#ed7953"
             ],
             [
              0.7777777777777778,
              "#fb9f3a"
             ],
             [
              0.8888888888888888,
              "#fdca26"
             ],
             [
              1,
              "#f0f921"
             ]
            ],
            "type": "histogram2d"
           }
          ],
          "histogram2dcontour": [
           {
            "colorbar": {
             "outlinewidth": 0,
             "ticks": ""
            },
            "colorscale": [
             [
              0,
              "#0d0887"
             ],
             [
              0.1111111111111111,
              "#46039f"
             ],
             [
              0.2222222222222222,
              "#7201a8"
             ],
             [
              0.3333333333333333,
              "#9c179e"
             ],
             [
              0.4444444444444444,
              "#bd3786"
             ],
             [
              0.5555555555555556,
              "#d8576b"
             ],
             [
              0.6666666666666666,
              "#ed7953"
             ],
             [
              0.7777777777777778,
              "#fb9f3a"
             ],
             [
              0.8888888888888888,
              "#fdca26"
             ],
             [
              1,
              "#f0f921"
             ]
            ],
            "type": "histogram2dcontour"
           }
          ],
          "mesh3d": [
           {
            "colorbar": {
             "outlinewidth": 0,
             "ticks": ""
            },
            "type": "mesh3d"
           }
          ],
          "parcoords": [
           {
            "line": {
             "colorbar": {
              "outlinewidth": 0,
              "ticks": ""
             }
            },
            "type": "parcoords"
           }
          ],
          "pie": [
           {
            "automargin": true,
            "type": "pie"
           }
          ],
          "scatter": [
           {
            "marker": {
             "colorbar": {
              "outlinewidth": 0,
              "ticks": ""
             }
            },
            "type": "scatter"
           }
          ],
          "scatter3d": [
           {
            "line": {
             "colorbar": {
              "outlinewidth": 0,
              "ticks": ""
             }
            },
            "marker": {
             "colorbar": {
              "outlinewidth": 0,
              "ticks": ""
             }
            },
            "type": "scatter3d"
           }
          ],
          "scattercarpet": [
           {
            "marker": {
             "colorbar": {
              "outlinewidth": 0,
              "ticks": ""
             }
            },
            "type": "scattercarpet"
           }
          ],
          "scattergeo": [
           {
            "marker": {
             "colorbar": {
              "outlinewidth": 0,
              "ticks": ""
             }
            },
            "type": "scattergeo"
           }
          ],
          "scattergl": [
           {
            "marker": {
             "colorbar": {
              "outlinewidth": 0,
              "ticks": ""
             }
            },
            "type": "scattergl"
           }
          ],
          "scattermapbox": [
           {
            "marker": {
             "colorbar": {
              "outlinewidth": 0,
              "ticks": ""
             }
            },
            "type": "scattermapbox"
           }
          ],
          "scatterpolar": [
           {
            "marker": {
             "colorbar": {
              "outlinewidth": 0,
              "ticks": ""
             }
            },
            "type": "scatterpolar"
           }
          ],
          "scatterpolargl": [
           {
            "marker": {
             "colorbar": {
              "outlinewidth": 0,
              "ticks": ""
             }
            },
            "type": "scatterpolargl"
           }
          ],
          "scatterternary": [
           {
            "marker": {
             "colorbar": {
              "outlinewidth": 0,
              "ticks": ""
             }
            },
            "type": "scatterternary"
           }
          ],
          "surface": [
           {
            "colorbar": {
             "outlinewidth": 0,
             "ticks": ""
            },
            "colorscale": [
             [
              0,
              "#0d0887"
             ],
             [
              0.1111111111111111,
              "#46039f"
             ],
             [
              0.2222222222222222,
              "#7201a8"
             ],
             [
              0.3333333333333333,
              "#9c179e"
             ],
             [
              0.4444444444444444,
              "#bd3786"
             ],
             [
              0.5555555555555556,
              "#d8576b"
             ],
             [
              0.6666666666666666,
              "#ed7953"
             ],
             [
              0.7777777777777778,
              "#fb9f3a"
             ],
             [
              0.8888888888888888,
              "#fdca26"
             ],
             [
              1,
              "#f0f921"
             ]
            ],
            "type": "surface"
           }
          ],
          "table": [
           {
            "cells": {
             "fill": {
              "color": "#EBF0F8"
             },
             "line": {
              "color": "white"
             }
            },
            "header": {
             "fill": {
              "color": "#C8D4E3"
             },
             "line": {
              "color": "white"
             }
            },
            "type": "table"
           }
          ]
         },
         "layout": {
          "annotationdefaults": {
           "arrowcolor": "#2a3f5f",
           "arrowhead": 0,
           "arrowwidth": 1
          },
          "autotypenumbers": "strict",
          "coloraxis": {
           "colorbar": {
            "outlinewidth": 0,
            "ticks": ""
           }
          },
          "colorscale": {
           "diverging": [
            [
             0,
             "#8e0152"
            ],
            [
             0.1,
             "#c51b7d"
            ],
            [
             0.2,
             "#de77ae"
            ],
            [
             0.3,
             "#f1b6da"
            ],
            [
             0.4,
             "#fde0ef"
            ],
            [
             0.5,
             "#f7f7f7"
            ],
            [
             0.6,
             "#e6f5d0"
            ],
            [
             0.7,
             "#b8e186"
            ],
            [
             0.8,
             "#7fbc41"
            ],
            [
             0.9,
             "#4d9221"
            ],
            [
             1,
             "#276419"
            ]
           ],
           "sequential": [
            [
             0,
             "#0d0887"
            ],
            [
             0.1111111111111111,
             "#46039f"
            ],
            [
             0.2222222222222222,
             "#7201a8"
            ],
            [
             0.3333333333333333,
             "#9c179e"
            ],
            [
             0.4444444444444444,
             "#bd3786"
            ],
            [
             0.5555555555555556,
             "#d8576b"
            ],
            [
             0.6666666666666666,
             "#ed7953"
            ],
            [
             0.7777777777777778,
             "#fb9f3a"
            ],
            [
             0.8888888888888888,
             "#fdca26"
            ],
            [
             1,
             "#f0f921"
            ]
           ],
           "sequentialminus": [
            [
             0,
             "#0d0887"
            ],
            [
             0.1111111111111111,
             "#46039f"
            ],
            [
             0.2222222222222222,
             "#7201a8"
            ],
            [
             0.3333333333333333,
             "#9c179e"
            ],
            [
             0.4444444444444444,
             "#bd3786"
            ],
            [
             0.5555555555555556,
             "#d8576b"
            ],
            [
             0.6666666666666666,
             "#ed7953"
            ],
            [
             0.7777777777777778,
             "#fb9f3a"
            ],
            [
             0.8888888888888888,
             "#fdca26"
            ],
            [
             1,
             "#f0f921"
            ]
           ]
          },
          "colorway": [
           "#636efa",
           "#EF553B",
           "#00cc96",
           "#ab63fa",
           "#FFA15A",
           "#19d3f3",
           "#FF6692",
           "#B6E880",
           "#FF97FF",
           "#FECB52"
          ],
          "font": {
           "color": "#2a3f5f"
          },
          "geo": {
           "bgcolor": "white",
           "lakecolor": "white",
           "landcolor": "#E5ECF6",
           "showlakes": true,
           "showland": true,
           "subunitcolor": "white"
          },
          "hoverlabel": {
           "align": "left"
          },
          "hovermode": "closest",
          "mapbox": {
           "style": "light"
          },
          "paper_bgcolor": "white",
          "plot_bgcolor": "#E5ECF6",
          "polar": {
           "angularaxis": {
            "gridcolor": "white",
            "linecolor": "white",
            "ticks": ""
           },
           "bgcolor": "#E5ECF6",
           "radialaxis": {
            "gridcolor": "white",
            "linecolor": "white",
            "ticks": ""
           }
          },
          "scene": {
           "xaxis": {
            "backgroundcolor": "#E5ECF6",
            "gridcolor": "white",
            "gridwidth": 2,
            "linecolor": "white",
            "showbackground": true,
            "ticks": "",
            "zerolinecolor": "white"
           },
           "yaxis": {
            "backgroundcolor": "#E5ECF6",
            "gridcolor": "white",
            "gridwidth": 2,
            "linecolor": "white",
            "showbackground": true,
            "ticks": "",
            "zerolinecolor": "white"
           },
           "zaxis": {
            "backgroundcolor": "#E5ECF6",
            "gridcolor": "white",
            "gridwidth": 2,
            "linecolor": "white",
            "showbackground": true,
            "ticks": "",
            "zerolinecolor": "white"
           }
          },
          "shapedefaults": {
           "line": {
            "color": "#2a3f5f"
           }
          },
          "ternary": {
           "aaxis": {
            "gridcolor": "white",
            "linecolor": "white",
            "ticks": ""
           },
           "baxis": {
            "gridcolor": "white",
            "linecolor": "white",
            "ticks": ""
           },
           "bgcolor": "#E5ECF6",
           "caxis": {
            "gridcolor": "white",
            "linecolor": "white",
            "ticks": ""
           }
          },
          "title": {
           "x": 0.05
          },
          "xaxis": {
           "automargin": true,
           "gridcolor": "white",
           "linecolor": "white",
           "ticks": "",
           "title": {
            "standoff": 15
           },
           "zerolinecolor": "white",
           "zerolinewidth": 2
          },
          "yaxis": {
           "automargin": true,
           "gridcolor": "white",
           "linecolor": "white",
           "ticks": "",
           "title": {
            "standoff": 15
           },
           "zerolinecolor": "white",
           "zerolinewidth": 2
          }
         }
        },
        "xaxis": {
         "anchor": "y",
         "domain": [
          0,
          1
         ],
         "title": {
          "text": "val_prof_pct_watn3_elalevel2"
         }
        },
        "yaxis": {
         "anchor": "x",
         "domain": [
          0,
          1
         ],
         "title": {
          "text": "val_prof_pct_watn3_elalevel34"
         }
        }
       }
      },
      "text/html": [
       "<div>                            <div id=\"e20475d8-1855-4ac4-8c3c-c42c7cee735a\" class=\"plotly-graph-div\" style=\"height:525px; width:100%;\"></div>            <script type=\"text/javascript\">                require([\"plotly\"], function(Plotly) {                    window.PLOTLYENV=window.PLOTLYENV || {};                                    if (document.getElementById(\"e20475d8-1855-4ac4-8c3c-c42c7cee735a\")) {                    Plotly.newPlot(                        \"e20475d8-1855-4ac4-8c3c-c42c7cee735a\",                        [{\"hovertemplate\":\"<b>%{hovertext}</b><br><br>school_name=P.S. 002 Alfred Zimberg<br>val_prof_pct_watn3_elalevel2=%{x}<br>val_prof_pct_watn3_elalevel34=%{y}<br>enrollment=%{marker.size}<extra></extra>\",\"hovertext\":[\"P.S. 002 Alfred Zimberg\"],\"legendgroup\":\"P.S. 002 Alfred Zimberg\",\"marker\":{\"color\":\"#636efa\",\"size\":[533],\"sizemode\":\"area\",\"sizeref\":2.4125,\"symbol\":\"circle\"},\"mode\":\"markers\",\"name\":\"P.S. 002 Alfred Zimberg\",\"orientation\":\"v\",\"showlegend\":true,\"x\":[0.345],\"xaxis\":\"x\",\"y\":[0.766],\"yaxis\":\"y\",\"type\":\"scatter\"},{\"hovertemplate\":\"<b>%{hovertext}</b><br><br>school_name=P.S. 011 Kathryn Phelan<br>val_prof_pct_watn3_elalevel2=%{x}<br>val_prof_pct_watn3_elalevel34=%{y}<br>enrollment=%{marker.size}<extra></extra>\",\"hovertext\":[\"P.S. 011 Kathryn Phelan\"],\"legendgroup\":\"P.S. 011 Kathryn Phelan\",\"marker\":{\"color\":\"#EF553B\",\"size\":[906],\"sizemode\":\"area\",\"sizeref\":2.4125,\"symbol\":\"circle\"},\"mode\":\"markers\",\"name\":\"P.S. 011 Kathryn Phelan\",\"orientation\":\"v\",\"showlegend\":true,\"x\":[0.267],\"xaxis\":\"x\",\"y\":[0.662],\"yaxis\":\"y\",\"type\":\"scatter\"},{\"hovertemplate\":\"<b>%{hovertext}</b><br><br>school_name=P.S. 017 Henry David Thoreau<br>val_prof_pct_watn3_elalevel2=%{x}<br>val_prof_pct_watn3_elalevel34=%{y}<br>enrollment=%{marker.size}<extra></extra>\",\"hovertext\":[\"P.S. 017 Henry David Thoreau\"],\"legendgroup\":\"P.S. 017 Henry David Thoreau\",\"marker\":{\"color\":\"#00cc96\",\"size\":[537],\"sizemode\":\"area\",\"sizeref\":2.4125,\"symbol\":\"circle\"},\"mode\":\"markers\",\"name\":\"P.S. 017 Henry David Thoreau\",\"orientation\":\"v\",\"showlegend\":true,\"x\":[0.094],\"xaxis\":\"x\",\"y\":[0.655],\"yaxis\":\"y\",\"type\":\"scatter\"},{\"hovertemplate\":\"<b>%{hovertext}</b><br><br>school_name=P.S. 069 Jackson Heights<br>val_prof_pct_watn3_elalevel2=%{x}<br>val_prof_pct_watn3_elalevel34=%{y}<br>enrollment=%{marker.size}<extra></extra>\",\"hovertext\":[\"P.S. 069 Jackson Heights\"],\"legendgroup\":\"P.S. 069 Jackson Heights\",\"marker\":{\"color\":\"#ab63fa\",\"size\":[909],\"sizemode\":\"area\",\"sizeref\":2.4125,\"symbol\":\"circle\"},\"mode\":\"markers\",\"name\":\"P.S. 069 Jackson Heights\",\"orientation\":\"v\",\"showlegend\":true,\"x\":[0.167],\"xaxis\":\"x\",\"y\":[0.769],\"yaxis\":\"y\",\"type\":\"scatter\"},{\"hovertemplate\":\"<b>%{hovertext}</b><br><br>school_name=P.S. 070<br>val_prof_pct_watn3_elalevel2=%{x}<br>val_prof_pct_watn3_elalevel34=%{y}<br>enrollment=%{marker.size}<extra></extra>\",\"hovertext\":[\"P.S. 070\"],\"legendgroup\":\"P.S. 070\",\"marker\":{\"color\":\"#FFA15A\",\"size\":[728],\"sizemode\":\"area\",\"sizeref\":2.4125,\"symbol\":\"circle\"},\"mode\":\"markers\",\"name\":\"P.S. 070\",\"orientation\":\"v\",\"showlegend\":true,\"x\":[0.114],\"xaxis\":\"x\",\"y\":[0.667],\"yaxis\":\"y\",\"type\":\"scatter\"},{\"hovertemplate\":\"<b>%{hovertext}</b><br><br>school_name=P.S. 076 William Hallet<br>val_prof_pct_watn3_elalevel2=%{x}<br>val_prof_pct_watn3_elalevel34=%{y}<br>enrollment=%{marker.size}<extra></extra>\",\"hovertext\":[\"P.S. 076 William Hallet\"],\"legendgroup\":\"P.S. 076 William Hallet\",\"marker\":{\"color\":\"#19d3f3\",\"size\":[385],\"sizemode\":\"area\",\"sizeref\":2.4125,\"symbol\":\"circle\"},\"mode\":\"markers\",\"name\":\"P.S. 076 William Hallet\",\"orientation\":\"v\",\"showlegend\":true,\"x\":[0.111],\"xaxis\":\"x\",\"y\":[0.545],\"yaxis\":\"y\",\"type\":\"scatter\"},{\"hovertemplate\":\"<b>%{hovertext}</b><br><br>school_name=P.S. 084 Steinway<br>val_prof_pct_watn3_elalevel2=%{x}<br>val_prof_pct_watn3_elalevel34=%{y}<br>enrollment=%{marker.size}<extra></extra>\",\"hovertext\":[\"P.S. 084 Steinway\"],\"legendgroup\":\"P.S. 084 Steinway\",\"marker\":{\"color\":\"#FF6692\",\"size\":[228],\"sizemode\":\"area\",\"sizeref\":2.4125,\"symbol\":\"circle\"},\"mode\":\"markers\",\"name\":\"P.S. 084 Steinway\",\"orientation\":\"v\",\"showlegend\":true,\"x\":[null],\"xaxis\":\"x\",\"y\":[0.818],\"yaxis\":\"y\",\"type\":\"scatter\"},{\"hovertemplate\":\"<b>%{hovertext}</b><br><br>school_name=P.S. 085 Judge Charles Vallone<br>val_prof_pct_watn3_elalevel2=%{x}<br>val_prof_pct_watn3_elalevel34=%{y}<br>enrollment=%{marker.size}<extra></extra>\",\"hovertext\":[\"P.S. 085 Judge Charles Vallone\"],\"legendgroup\":\"P.S. 085 Judge Charles Vallone\",\"marker\":{\"color\":\"#B6E880\",\"size\":[590],\"sizemode\":\"area\",\"sizeref\":2.4125,\"symbol\":\"circle\"},\"mode\":\"markers\",\"name\":\"P.S. 085 Judge Charles Vallone\",\"orientation\":\"v\",\"showlegend\":true,\"x\":[0.158],\"xaxis\":\"x\",\"y\":[0.735],\"yaxis\":\"y\",\"type\":\"scatter\"},{\"hovertemplate\":\"<b>%{hovertext}</b><br><br>school_name=P.S. 092 Harry T. Stewart Sr.<br>val_prof_pct_watn3_elalevel2=%{x}<br>val_prof_pct_watn3_elalevel34=%{y}<br>enrollment=%{marker.size}<extra></extra>\",\"hovertext\":[\"P.S. 092 Harry T. Stewart Sr.\"],\"legendgroup\":\"P.S. 092 Harry T. Stewart Sr.\",\"marker\":{\"color\":\"#FF97FF\",\"size\":[811],\"sizemode\":\"area\",\"sizeref\":2.4125,\"symbol\":\"circle\"},\"mode\":\"markers\",\"name\":\"P.S. 092 Harry T. Stewart Sr.\",\"orientation\":\"v\",\"showlegend\":true,\"x\":[0.111],\"xaxis\":\"x\",\"y\":[0.744],\"yaxis\":\"y\",\"type\":\"scatter\"},{\"hovertemplate\":\"<b>%{hovertext}</b><br><br>school_name=P.S. 112 Dutch Kills<br>val_prof_pct_watn3_elalevel2=%{x}<br>val_prof_pct_watn3_elalevel34=%{y}<br>enrollment=%{marker.size}<extra></extra>\",\"hovertext\":[\"P.S. 112 Dutch Kills\"],\"legendgroup\":\"P.S. 112 Dutch Kills\",\"marker\":{\"color\":\"#FECB52\",\"size\":[366],\"sizemode\":\"area\",\"sizeref\":2.4125,\"symbol\":\"circle\"},\"mode\":\"markers\",\"name\":\"P.S. 112 Dutch Kills\",\"orientation\":\"v\",\"showlegend\":true,\"x\":[0.133],\"xaxis\":\"x\",\"y\":[0.545],\"yaxis\":\"y\",\"type\":\"scatter\"},{\"hovertemplate\":\"<b>%{hovertext}</b><br><br>school_name=P.S. 148 Queens<br>val_prof_pct_watn3_elalevel2=%{x}<br>val_prof_pct_watn3_elalevel34=%{y}<br>enrollment=%{marker.size}<extra></extra>\",\"hovertext\":[\"P.S. 148 Queens\"],\"legendgroup\":\"P.S. 148 Queens\",\"marker\":{\"color\":\"#636efa\",\"size\":[700],\"sizemode\":\"area\",\"sizeref\":2.4125,\"symbol\":\"circle\"},\"mode\":\"markers\",\"name\":\"P.S. 148 Queens\",\"orientation\":\"v\",\"showlegend\":true,\"x\":[0.182],\"xaxis\":\"x\",\"y\":[0.605],\"yaxis\":\"y\",\"type\":\"scatter\"},{\"hovertemplate\":\"<b>%{hovertext}</b><br><br>school_name=P.S. 149 Christa McAuliffe<br>val_prof_pct_watn3_elalevel2=%{x}<br>val_prof_pct_watn3_elalevel34=%{y}<br>enrollment=%{marker.size}<extra></extra>\",\"hovertext\":[\"P.S. 149 Christa McAuliffe\"],\"legendgroup\":\"P.S. 149 Christa McAuliffe\",\"marker\":{\"color\":\"#EF553B\",\"size\":[940],\"sizemode\":\"area\",\"sizeref\":2.4125,\"symbol\":\"circle\"},\"mode\":\"markers\",\"name\":\"P.S. 149 Christa McAuliffe\",\"orientation\":\"v\",\"showlegend\":true,\"x\":[0.045],\"xaxis\":\"x\",\"y\":[0.536],\"yaxis\":\"y\",\"type\":\"scatter\"},{\"hovertemplate\":\"<b>%{hovertext}</b><br><br>school_name=P.S. 150 Queens<br>val_prof_pct_watn3_elalevel2=%{x}<br>val_prof_pct_watn3_elalevel34=%{y}<br>enrollment=%{marker.size}<extra></extra>\",\"hovertext\":[\"P.S. 150 Queens\"],\"legendgroup\":\"P.S. 150 Queens\",\"marker\":{\"color\":\"#00cc96\",\"size\":[965],\"sizemode\":\"area\",\"sizeref\":2.4125,\"symbol\":\"circle\"},\"mode\":\"markers\",\"name\":\"P.S. 150 Queens\",\"orientation\":\"v\",\"showlegend\":true,\"x\":[0.208],\"xaxis\":\"x\",\"y\":[0.798],\"yaxis\":\"y\",\"type\":\"scatter\"},{\"hovertemplate\":\"<b>%{hovertext}</b><br><br>school_name=P.S. 151 Mary D. Carter<br>val_prof_pct_watn3_elalevel2=%{x}<br>val_prof_pct_watn3_elalevel34=%{y}<br>enrollment=%{marker.size}<extra></extra>\",\"hovertext\":[\"P.S. 151 Mary D. Carter\"],\"legendgroup\":\"P.S. 151 Mary D. Carter\",\"marker\":{\"color\":\"#ab63fa\",\"size\":[293],\"sizemode\":\"area\",\"sizeref\":2.4125,\"symbol\":\"circle\"},\"mode\":\"markers\",\"name\":\"P.S. 151 Mary D. Carter\",\"orientation\":\"v\",\"showlegend\":true,\"x\":[0.056],\"xaxis\":\"x\",\"y\":[0.583],\"yaxis\":\"y\",\"type\":\"scatter\"},{\"hovertemplate\":\"<b>%{hovertext}</b><br><br>school_name=P.S. 152 Gwendoline N. Alleyne School<br>val_prof_pct_watn3_elalevel2=%{x}<br>val_prof_pct_watn3_elalevel34=%{y}<br>enrollment=%{marker.size}<extra></extra>\",\"hovertext\":[\"P.S. 152 Gwendoline N. Alleyne School\"],\"legendgroup\":\"P.S. 152 Gwendoline N. Alleyne School\",\"marker\":{\"color\":\"#FFA15A\",\"size\":[869],\"sizemode\":\"area\",\"sizeref\":2.4125,\"symbol\":\"circle\"},\"mode\":\"markers\",\"name\":\"P.S. 152 Gwendoline N. Alleyne School\",\"orientation\":\"v\",\"showlegend\":true,\"x\":[0.317],\"xaxis\":\"x\",\"y\":[0.722],\"yaxis\":\"y\",\"type\":\"scatter\"},{\"hovertemplate\":\"<b>%{hovertext}</b><br><br>school_name=P.S. 166 Henry Gradstein<br>val_prof_pct_watn3_elalevel2=%{x}<br>val_prof_pct_watn3_elalevel34=%{y}<br>enrollment=%{marker.size}<extra></extra>\",\"hovertext\":[\"P.S. 166 Henry Gradstein\"],\"legendgroup\":\"P.S. 166 Henry Gradstein\",\"marker\":{\"color\":\"#19d3f3\",\"size\":[914],\"sizemode\":\"area\",\"sizeref\":2.4125,\"symbol\":\"circle\"},\"mode\":\"markers\",\"name\":\"P.S. 166 Henry Gradstein\",\"orientation\":\"v\",\"showlegend\":true,\"x\":[0.094],\"xaxis\":\"x\",\"y\":[0.727],\"yaxis\":\"y\",\"type\":\"scatter\"},{\"hovertemplate\":\"<b>%{hovertext}</b><br><br>school_name=P.S. 171 Peter G. Van Alst<br>val_prof_pct_watn3_elalevel2=%{x}<br>val_prof_pct_watn3_elalevel34=%{y}<br>enrollment=%{marker.size}<extra></extra>\",\"hovertext\":[\"P.S. 171 Peter G. Van Alst\"],\"legendgroup\":\"P.S. 171 Peter G. Van Alst\",\"marker\":{\"color\":\"#FF6692\",\"size\":[382],\"sizemode\":\"area\",\"sizeref\":2.4125,\"symbol\":\"circle\"},\"mode\":\"markers\",\"name\":\"P.S. 171 Peter G. Van Alst\",\"orientation\":\"v\",\"showlegend\":true,\"x\":[0.074],\"xaxis\":\"x\",\"y\":[0.6],\"yaxis\":\"y\",\"type\":\"scatter\"},{\"hovertemplate\":\"<b>%{hovertext}</b><br><br>school_name=P.S. 212<br>val_prof_pct_watn3_elalevel2=%{x}<br>val_prof_pct_watn3_elalevel34=%{y}<br>enrollment=%{marker.size}<extra></extra>\",\"hovertext\":[\"P.S. 212\"],\"legendgroup\":\"P.S. 212\",\"marker\":{\"color\":\"#B6E880\",\"size\":[721],\"sizemode\":\"area\",\"sizeref\":2.4125,\"symbol\":\"circle\"},\"mode\":\"markers\",\"name\":\"P.S. 212\",\"orientation\":\"v\",\"showlegend\":true,\"x\":[0.2],\"xaxis\":\"x\",\"y\":[0.618],\"yaxis\":\"y\",\"type\":\"scatter\"},{\"hovertemplate\":\"<b>%{hovertext}</b><br><br>school_name=P.S. 234<br>val_prof_pct_watn3_elalevel2=%{x}<br>val_prof_pct_watn3_elalevel34=%{y}<br>enrollment=%{marker.size}<extra></extra>\",\"hovertext\":[\"P.S. 234\"],\"legendgroup\":\"P.S. 234\",\"marker\":{\"color\":\"#FF97FF\",\"size\":[420],\"sizemode\":\"area\",\"sizeref\":2.4125,\"symbol\":\"circle\"},\"mode\":\"markers\",\"name\":\"P.S. 234\",\"orientation\":\"v\",\"showlegend\":true,\"x\":[0.4],\"xaxis\":\"x\",\"y\":[0.909],\"yaxis\":\"y\",\"type\":\"scatter\"},{\"hovertemplate\":\"<b>%{hovertext}</b><br><br>school_name=P.S. 280<br>val_prof_pct_watn3_elalevel2=%{x}<br>val_prof_pct_watn3_elalevel34=%{y}<br>enrollment=%{marker.size}<extra></extra>\",\"hovertext\":[\"P.S. 280\"],\"legendgroup\":\"P.S. 280\",\"marker\":{\"color\":\"#FECB52\",\"size\":[575],\"sizemode\":\"area\",\"sizeref\":2.4125,\"symbol\":\"circle\"},\"mode\":\"markers\",\"name\":\"P.S. 280\",\"orientation\":\"v\",\"showlegend\":true,\"x\":[0.158],\"xaxis\":\"x\",\"y\":[0.571],\"yaxis\":\"y\",\"type\":\"scatter\"},{\"hovertemplate\":\"<b>%{hovertext}</b><br><br>school_name=East Elmhurst Community School<br>val_prof_pct_watn3_elalevel2=%{x}<br>val_prof_pct_watn3_elalevel34=%{y}<br>enrollment=%{marker.size}<extra></extra>\",\"hovertext\":[\"East Elmhurst Community School\"],\"legendgroup\":\"East Elmhurst Community School\",\"marker\":{\"color\":\"#636efa\",\"size\":[448],\"sizemode\":\"area\",\"sizeref\":2.4125,\"symbol\":\"circle\"},\"mode\":\"markers\",\"name\":\"East Elmhurst Community School\",\"orientation\":\"v\",\"showlegend\":true,\"x\":[null],\"xaxis\":\"x\",\"y\":[0.556],\"yaxis\":\"y\",\"type\":\"scatter\"},{\"hovertemplate\":\"<b>%{hovertext}</b><br><br>school_name=The Woodside Community School<br>val_prof_pct_watn3_elalevel2=%{x}<br>val_prof_pct_watn3_elalevel34=%{y}<br>enrollment=%{marker.size}<extra></extra>\",\"hovertext\":[\"The Woodside Community School\"],\"legendgroup\":\"The Woodside Community School\",\"marker\":{\"color\":\"#EF553B\",\"size\":[366],\"sizemode\":\"area\",\"sizeref\":2.4125,\"symbol\":\"circle\"},\"mode\":\"markers\",\"name\":\"The Woodside Community School\",\"orientation\":\"v\",\"showlegend\":true,\"x\":[null],\"xaxis\":\"x\",\"y\":[null],\"yaxis\":\"y\",\"type\":\"scatter\"}],                        {\"template\":{\"data\":{\"bar\":[{\"error_x\":{\"color\":\"#2a3f5f\"},\"error_y\":{\"color\":\"#2a3f5f\"},\"marker\":{\"line\":{\"color\":\"#E5ECF6\",\"width\":0.5},\"pattern\":{\"fillmode\":\"overlay\",\"size\":10,\"solidity\":0.2}},\"type\":\"bar\"}],\"barpolar\":[{\"marker\":{\"line\":{\"color\":\"#E5ECF6\",\"width\":0.5},\"pattern\":{\"fillmode\":\"overlay\",\"size\":10,\"solidity\":0.2}},\"type\":\"barpolar\"}],\"carpet\":[{\"aaxis\":{\"endlinecolor\":\"#2a3f5f\",\"gridcolor\":\"white\",\"linecolor\":\"white\",\"minorgridcolor\":\"white\",\"startlinecolor\":\"#2a3f5f\"},\"baxis\":{\"endlinecolor\":\"#2a3f5f\",\"gridcolor\":\"white\",\"linecolor\":\"white\",\"minorgridcolor\":\"white\",\"startlinecolor\":\"#2a3f5f\"},\"type\":\"carpet\"}],\"choropleth\":[{\"colorbar\":{\"outlinewidth\":0,\"ticks\":\"\"},\"type\":\"choropleth\"}],\"contour\":[{\"colorbar\":{\"outlinewidth\":0,\"ticks\":\"\"},\"colorscale\":[[0.0,\"#0d0887\"],[0.1111111111111111,\"#46039f\"],[0.2222222222222222,\"#7201a8\"],[0.3333333333333333,\"#9c179e\"],[0.4444444444444444,\"#bd3786\"],[0.5555555555555556,\"#d8576b\"],[0.6666666666666666,\"#ed7953\"],[0.7777777777777778,\"#fb9f3a\"],[0.8888888888888888,\"#fdca26\"],[1.0,\"#f0f921\"]],\"type\":\"contour\"}],\"contourcarpet\":[{\"colorbar\":{\"outlinewidth\":0,\"ticks\":\"\"},\"type\":\"contourcarpet\"}],\"heatmap\":[{\"colorbar\":{\"outlinewidth\":0,\"ticks\":\"\"},\"colorscale\":[[0.0,\"#0d0887\"],[0.1111111111111111,\"#46039f\"],[0.2222222222222222,\"#7201a8\"],[0.3333333333333333,\"#9c179e\"],[0.4444444444444444,\"#bd3786\"],[0.5555555555555556,\"#d8576b\"],[0.6666666666666666,\"#ed7953\"],[0.7777777777777778,\"#fb9f3a\"],[0.8888888888888888,\"#fdca26\"],[1.0,\"#f0f921\"]],\"type\":\"heatmap\"}],\"heatmapgl\":[{\"colorbar\":{\"outlinewidth\":0,\"ticks\":\"\"},\"colorscale\":[[0.0,\"#0d0887\"],[0.1111111111111111,\"#46039f\"],[0.2222222222222222,\"#7201a8\"],[0.3333333333333333,\"#9c179e\"],[0.4444444444444444,\"#bd3786\"],[0.5555555555555556,\"#d8576b\"],[0.6666666666666666,\"#ed7953\"],[0.7777777777777778,\"#fb9f3a\"],[0.8888888888888888,\"#fdca26\"],[1.0,\"#f0f921\"]],\"type\":\"heatmapgl\"}],\"histogram\":[{\"marker\":{\"pattern\":{\"fillmode\":\"overlay\",\"size\":10,\"solidity\":0.2}},\"type\":\"histogram\"}],\"histogram2d\":[{\"colorbar\":{\"outlinewidth\":0,\"ticks\":\"\"},\"colorscale\":[[0.0,\"#0d0887\"],[0.1111111111111111,\"#46039f\"],[0.2222222222222222,\"#7201a8\"],[0.3333333333333333,\"#9c179e\"],[0.4444444444444444,\"#bd3786\"],[0.5555555555555556,\"#d8576b\"],[0.6666666666666666,\"#ed7953\"],[0.7777777777777778,\"#fb9f3a\"],[0.8888888888888888,\"#fdca26\"],[1.0,\"#f0f921\"]],\"type\":\"histogram2d\"}],\"histogram2dcontour\":[{\"colorbar\":{\"outlinewidth\":0,\"ticks\":\"\"},\"colorscale\":[[0.0,\"#0d0887\"],[0.1111111111111111,\"#46039f\"],[0.2222222222222222,\"#7201a8\"],[0.3333333333333333,\"#9c179e\"],[0.4444444444444444,\"#bd3786\"],[0.5555555555555556,\"#d8576b\"],[0.6666666666666666,\"#ed7953\"],[0.7777777777777778,\"#fb9f3a\"],[0.8888888888888888,\"#fdca26\"],[1.0,\"#f0f921\"]],\"type\":\"histogram2dcontour\"}],\"mesh3d\":[{\"colorbar\":{\"outlinewidth\":0,\"ticks\":\"\"},\"type\":\"mesh3d\"}],\"parcoords\":[{\"line\":{\"colorbar\":{\"outlinewidth\":0,\"ticks\":\"\"}},\"type\":\"parcoords\"}],\"pie\":[{\"automargin\":true,\"type\":\"pie\"}],\"scatter\":[{\"marker\":{\"colorbar\":{\"outlinewidth\":0,\"ticks\":\"\"}},\"type\":\"scatter\"}],\"scatter3d\":[{\"line\":{\"colorbar\":{\"outlinewidth\":0,\"ticks\":\"\"}},\"marker\":{\"colorbar\":{\"outlinewidth\":0,\"ticks\":\"\"}},\"type\":\"scatter3d\"}],\"scattercarpet\":[{\"marker\":{\"colorbar\":{\"outlinewidth\":0,\"ticks\":\"\"}},\"type\":\"scattercarpet\"}],\"scattergeo\":[{\"marker\":{\"colorbar\":{\"outlinewidth\":0,\"ticks\":\"\"}},\"type\":\"scattergeo\"}],\"scattergl\":[{\"marker\":{\"colorbar\":{\"outlinewidth\":0,\"ticks\":\"\"}},\"type\":\"scattergl\"}],\"scattermapbox\":[{\"marker\":{\"colorbar\":{\"outlinewidth\":0,\"ticks\":\"\"}},\"type\":\"scattermapbox\"}],\"scatterpolar\":[{\"marker\":{\"colorbar\":{\"outlinewidth\":0,\"ticks\":\"\"}},\"type\":\"scatterpolar\"}],\"scatterpolargl\":[{\"marker\":{\"colorbar\":{\"outlinewidth\":0,\"ticks\":\"\"}},\"type\":\"scatterpolargl\"}],\"scatterternary\":[{\"marker\":{\"colorbar\":{\"outlinewidth\":0,\"ticks\":\"\"}},\"type\":\"scatterternary\"}],\"surface\":[{\"colorbar\":{\"outlinewidth\":0,\"ticks\":\"\"},\"colorscale\":[[0.0,\"#0d0887\"],[0.1111111111111111,\"#46039f\"],[0.2222222222222222,\"#7201a8\"],[0.3333333333333333,\"#9c179e\"],[0.4444444444444444,\"#bd3786\"],[0.5555555555555556,\"#d8576b\"],[0.6666666666666666,\"#ed7953\"],[0.7777777777777778,\"#fb9f3a\"],[0.8888888888888888,\"#fdca26\"],[1.0,\"#f0f921\"]],\"type\":\"surface\"}],\"table\":[{\"cells\":{\"fill\":{\"color\":\"#EBF0F8\"},\"line\":{\"color\":\"white\"}},\"header\":{\"fill\":{\"color\":\"#C8D4E3\"},\"line\":{\"color\":\"white\"}},\"type\":\"table\"}]},\"layout\":{\"annotationdefaults\":{\"arrowcolor\":\"#2a3f5f\",\"arrowhead\":0,\"arrowwidth\":1},\"autotypenumbers\":\"strict\",\"coloraxis\":{\"colorbar\":{\"outlinewidth\":0,\"ticks\":\"\"}},\"colorscale\":{\"diverging\":[[0,\"#8e0152\"],[0.1,\"#c51b7d\"],[0.2,\"#de77ae\"],[0.3,\"#f1b6da\"],[0.4,\"#fde0ef\"],[0.5,\"#f7f7f7\"],[0.6,\"#e6f5d0\"],[0.7,\"#b8e186\"],[0.8,\"#7fbc41\"],[0.9,\"#4d9221\"],[1,\"#276419\"]],\"sequential\":[[0.0,\"#0d0887\"],[0.1111111111111111,\"#46039f\"],[0.2222222222222222,\"#7201a8\"],[0.3333333333333333,\"#9c179e\"],[0.4444444444444444,\"#bd3786\"],[0.5555555555555556,\"#d8576b\"],[0.6666666666666666,\"#ed7953\"],[0.7777777777777778,\"#fb9f3a\"],[0.8888888888888888,\"#fdca26\"],[1.0,\"#f0f921\"]],\"sequentialminus\":[[0.0,\"#0d0887\"],[0.1111111111111111,\"#46039f\"],[0.2222222222222222,\"#7201a8\"],[0.3333333333333333,\"#9c179e\"],[0.4444444444444444,\"#bd3786\"],[0.5555555555555556,\"#d8576b\"],[0.6666666666666666,\"#ed7953\"],[0.7777777777777778,\"#fb9f3a\"],[0.8888888888888888,\"#fdca26\"],[1.0,\"#f0f921\"]]},\"colorway\":[\"#636efa\",\"#EF553B\",\"#00cc96\",\"#ab63fa\",\"#FFA15A\",\"#19d3f3\",\"#FF6692\",\"#B6E880\",\"#FF97FF\",\"#FECB52\"],\"font\":{\"color\":\"#2a3f5f\"},\"geo\":{\"bgcolor\":\"white\",\"lakecolor\":\"white\",\"landcolor\":\"#E5ECF6\",\"showlakes\":true,\"showland\":true,\"subunitcolor\":\"white\"},\"hoverlabel\":{\"align\":\"left\"},\"hovermode\":\"closest\",\"mapbox\":{\"style\":\"light\"},\"paper_bgcolor\":\"white\",\"plot_bgcolor\":\"#E5ECF6\",\"polar\":{\"angularaxis\":{\"gridcolor\":\"white\",\"linecolor\":\"white\",\"ticks\":\"\"},\"bgcolor\":\"#E5ECF6\",\"radialaxis\":{\"gridcolor\":\"white\",\"linecolor\":\"white\",\"ticks\":\"\"}},\"scene\":{\"xaxis\":{\"backgroundcolor\":\"#E5ECF6\",\"gridcolor\":\"white\",\"gridwidth\":2,\"linecolor\":\"white\",\"showbackground\":true,\"ticks\":\"\",\"zerolinecolor\":\"white\"},\"yaxis\":{\"backgroundcolor\":\"#E5ECF6\",\"gridcolor\":\"white\",\"gridwidth\":2,\"linecolor\":\"white\",\"showbackground\":true,\"ticks\":\"\",\"zerolinecolor\":\"white\"},\"zaxis\":{\"backgroundcolor\":\"#E5ECF6\",\"gridcolor\":\"white\",\"gridwidth\":2,\"linecolor\":\"white\",\"showbackground\":true,\"ticks\":\"\",\"zerolinecolor\":\"white\"}},\"shapedefaults\":{\"line\":{\"color\":\"#2a3f5f\"}},\"ternary\":{\"aaxis\":{\"gridcolor\":\"white\",\"linecolor\":\"white\",\"ticks\":\"\"},\"baxis\":{\"gridcolor\":\"white\",\"linecolor\":\"white\",\"ticks\":\"\"},\"bgcolor\":\"#E5ECF6\",\"caxis\":{\"gridcolor\":\"white\",\"linecolor\":\"white\",\"ticks\":\"\"}},\"title\":{\"x\":0.05},\"xaxis\":{\"automargin\":true,\"gridcolor\":\"white\",\"linecolor\":\"white\",\"ticks\":\"\",\"title\":{\"standoff\":15},\"zerolinecolor\":\"white\",\"zerolinewidth\":2},\"yaxis\":{\"automargin\":true,\"gridcolor\":\"white\",\"linecolor\":\"white\",\"ticks\":\"\",\"title\":{\"standoff\":15},\"zerolinecolor\":\"white\",\"zerolinewidth\":2}}},\"xaxis\":{\"anchor\":\"y\",\"domain\":[0.0,1.0],\"title\":{\"text\":\"val_prof_pct_watn3_elalevel2\"}},\"yaxis\":{\"anchor\":\"x\",\"domain\":[0.0,1.0],\"title\":{\"text\":\"val_prof_pct_watn3_elalevel34\"}},\"legend\":{\"title\":{\"text\":\"school_name\"},\"tracegroupgap\":0,\"itemsizing\":\"constant\"},\"margin\":{\"t\":60}},                        {\"responsive\": true}                    ).then(function(){\n",
       "                            \n",
       "var gd = document.getElementById('e20475d8-1855-4ac4-8c3c-c42c7cee735a');\n",
       "var x = new MutationObserver(function (mutations, observer) {{\n",
       "        var display = window.getComputedStyle(gd).display;\n",
       "        if (!display || display === 'none') {{\n",
       "            console.log([gd, 'removed!']);\n",
       "            Plotly.purge(gd);\n",
       "            observer.disconnect();\n",
       "        }}\n",
       "}});\n",
       "\n",
       "// Listen for the removal of the full notebook cells\n",
       "var notebookContainer = gd.closest('#notebook-container');\n",
       "if (notebookContainer) {{\n",
       "    x.observe(notebookContainer, {childList: true});\n",
       "}}\n",
       "\n",
       "// Listen for the clearing of the current output cell\n",
       "var outputEl = gd.closest('.output');\n",
       "if (outputEl) {{\n",
       "    x.observe(outputEl, {childList: true});\n",
       "}}\n",
       "\n",
       "                        })                };                });            </script>        </div>"
      ]
     },
     "metadata": {},
     "output_type": "display_data"
    }
   ],
   "source": [
    "fig = px.scatter(district30elementary, x=\"val_prof_pct_watn3_elalevel2\", y=\"val_prof_pct_watn3_elalevel34\", size='enrollment',\n",
    "             color=\"school_name\", hover_name=\"school_name\")\n",
    "fig.show()"
   ]
  },
  {
   "cell_type": "markdown",
   "id": "ba24d41a",
   "metadata": {},
   "source": [
    "Percentage of Students at Level 3 or 4 in 5th Grade (Out of Students at Level 3 or 4 in 3rd Grade) vs. Percentage of Students at Level 3 or 4 in 5th Grade (Out of Students at Level 2 in 3rd Grade), in `Math` "
   ]
  },
  {
   "cell_type": "code",
   "execution_count": 327,
   "id": "97623417",
   "metadata": {},
   "outputs": [
    {
     "data": {
      "application/vnd.plotly.v1+json": {
       "config": {
        "plotlyServerURL": "https://plot.ly"
       },
       "data": [
        {
         "hovertemplate": "<b>%{hovertext}</b><br><br>school_name=P.S. 002 Alfred Zimberg<br>val_prof_pct_watn3_mthlevel2=%{x}<br>val_prof_pct_watn3_mthlevel34=%{y}<br>enrollment=%{marker.size}<extra></extra>",
         "hovertext": [
          "P.S. 002 Alfred Zimberg"
         ],
         "legendgroup": "P.S. 002 Alfred Zimberg",
         "marker": {
          "color": "#636efa",
          "size": [
           533
          ],
          "sizemode": "area",
          "sizeref": 2.4125,
          "symbol": "circle"
         },
         "mode": "markers",
         "name": "P.S. 002 Alfred Zimberg",
         "orientation": "v",
         "showlegend": true,
         "type": "scatter",
         "x": [
          0.208
         ],
         "xaxis": "x",
         "y": [
          0.896
         ],
         "yaxis": "y"
        },
        {
         "hovertemplate": "<b>%{hovertext}</b><br><br>school_name=P.S. 011 Kathryn Phelan<br>val_prof_pct_watn3_mthlevel2=%{x}<br>val_prof_pct_watn3_mthlevel34=%{y}<br>enrollment=%{marker.size}<extra></extra>",
         "hovertext": [
          "P.S. 011 Kathryn Phelan"
         ],
         "legendgroup": "P.S. 011 Kathryn Phelan",
         "marker": {
          "color": "#EF553B",
          "size": [
           906
          ],
          "sizemode": "area",
          "sizeref": 2.4125,
          "symbol": "circle"
         },
         "mode": "markers",
         "name": "P.S. 011 Kathryn Phelan",
         "orientation": "v",
         "showlegend": true,
         "type": "scatter",
         "x": [
          0.171
         ],
         "xaxis": "x",
         "y": [
          0.72
         ],
         "yaxis": "y"
        },
        {
         "hovertemplate": "<b>%{hovertext}</b><br><br>school_name=P.S. 017 Henry David Thoreau<br>val_prof_pct_watn3_mthlevel2=%{x}<br>val_prof_pct_watn3_mthlevel34=%{y}<br>enrollment=%{marker.size}<extra></extra>",
         "hovertext": [
          "P.S. 017 Henry David Thoreau"
         ],
         "legendgroup": "P.S. 017 Henry David Thoreau",
         "marker": {
          "color": "#00cc96",
          "size": [
           537
          ],
          "sizemode": "area",
          "sizeref": 2.4125,
          "symbol": "circle"
         },
         "mode": "markers",
         "name": "P.S. 017 Henry David Thoreau",
         "orientation": "v",
         "showlegend": true,
         "type": "scatter",
         "x": [
          0.208
         ],
         "xaxis": "x",
         "y": [
          0.735
         ],
         "yaxis": "y"
        },
        {
         "hovertemplate": "<b>%{hovertext}</b><br><br>school_name=P.S. 069 Jackson Heights<br>val_prof_pct_watn3_mthlevel2=%{x}<br>val_prof_pct_watn3_mthlevel34=%{y}<br>enrollment=%{marker.size}<extra></extra>",
         "hovertext": [
          "P.S. 069 Jackson Heights"
         ],
         "legendgroup": "P.S. 069 Jackson Heights",
         "marker": {
          "color": "#ab63fa",
          "size": [
           909
          ],
          "sizemode": "area",
          "sizeref": 2.4125,
          "symbol": "circle"
         },
         "mode": "markers",
         "name": "P.S. 069 Jackson Heights",
         "orientation": "v",
         "showlegend": true,
         "type": "scatter",
         "x": [
          0.45
         ],
         "xaxis": "x",
         "y": [
          0.898
         ],
         "yaxis": "y"
        },
        {
         "hovertemplate": "<b>%{hovertext}</b><br><br>school_name=P.S. 070<br>val_prof_pct_watn3_mthlevel2=%{x}<br>val_prof_pct_watn3_mthlevel34=%{y}<br>enrollment=%{marker.size}<extra></extra>",
         "hovertext": [
          "P.S. 070"
         ],
         "legendgroup": "P.S. 070",
         "marker": {
          "color": "#FFA15A",
          "size": [
           728
          ],
          "sizemode": "area",
          "sizeref": 2.4125,
          "symbol": "circle"
         },
         "mode": "markers",
         "name": "P.S. 070",
         "orientation": "v",
         "showlegend": true,
         "type": "scatter",
         "x": [
          0.25
         ],
         "xaxis": "x",
         "y": [
          0.676
         ],
         "yaxis": "y"
        },
        {
         "hovertemplate": "<b>%{hovertext}</b><br><br>school_name=P.S. 076 William Hallet<br>val_prof_pct_watn3_mthlevel2=%{x}<br>val_prof_pct_watn3_mthlevel34=%{y}<br>enrollment=%{marker.size}<extra></extra>",
         "hovertext": [
          "P.S. 076 William Hallet"
         ],
         "legendgroup": "P.S. 076 William Hallet",
         "marker": {
          "color": "#19d3f3",
          "size": [
           385
          ],
          "sizemode": "area",
          "sizeref": 2.4125,
          "symbol": "circle"
         },
         "mode": "markers",
         "name": "P.S. 076 William Hallet",
         "orientation": "v",
         "showlegend": true,
         "type": "scatter",
         "x": [
          0.042
         ],
         "xaxis": "x",
         "y": [
          0.667
         ],
         "yaxis": "y"
        },
        {
         "hovertemplate": "<b>%{hovertext}</b><br><br>school_name=P.S. 084 Steinway<br>val_prof_pct_watn3_mthlevel2=%{x}<br>val_prof_pct_watn3_mthlevel34=%{y}<br>enrollment=%{marker.size}<extra></extra>",
         "hovertext": [
          "P.S. 084 Steinway"
         ],
         "legendgroup": "P.S. 084 Steinway",
         "marker": {
          "color": "#FF6692",
          "size": [
           228
          ],
          "sizemode": "area",
          "sizeref": 2.4125,
          "symbol": "circle"
         },
         "mode": "markers",
         "name": "P.S. 084 Steinway",
         "orientation": "v",
         "showlegend": true,
         "type": "scatter",
         "x": [
          null
         ],
         "xaxis": "x",
         "y": [
          0.783
         ],
         "yaxis": "y"
        },
        {
         "hovertemplate": "<b>%{hovertext}</b><br><br>school_name=P.S. 085 Judge Charles Vallone<br>val_prof_pct_watn3_mthlevel2=%{x}<br>val_prof_pct_watn3_mthlevel34=%{y}<br>enrollment=%{marker.size}<extra></extra>",
         "hovertext": [
          "P.S. 085 Judge Charles Vallone"
         ],
         "legendgroup": "P.S. 085 Judge Charles Vallone",
         "marker": {
          "color": "#B6E880",
          "size": [
           590
          ],
          "sizemode": "area",
          "sizeref": 2.4125,
          "symbol": "circle"
         },
         "mode": "markers",
         "name": "P.S. 085 Judge Charles Vallone",
         "orientation": "v",
         "showlegend": true,
         "type": "scatter",
         "x": [
          0.056
         ],
         "xaxis": "x",
         "y": [
          0.851
         ],
         "yaxis": "y"
        },
        {
         "hovertemplate": "<b>%{hovertext}</b><br><br>school_name=P.S. 092 Harry T. Stewart Sr.<br>val_prof_pct_watn3_mthlevel2=%{x}<br>val_prof_pct_watn3_mthlevel34=%{y}<br>enrollment=%{marker.size}<extra></extra>",
         "hovertext": [
          "P.S. 092 Harry T. Stewart Sr."
         ],
         "legendgroup": "P.S. 092 Harry T. Stewart Sr.",
         "marker": {
          "color": "#FF97FF",
          "size": [
           811
          ],
          "sizemode": "area",
          "sizeref": 2.4125,
          "symbol": "circle"
         },
         "mode": "markers",
         "name": "P.S. 092 Harry T. Stewart Sr.",
         "orientation": "v",
         "showlegend": true,
         "type": "scatter",
         "x": [
          0.179
         ],
         "xaxis": "x",
         "y": [
          0.763
         ],
         "yaxis": "y"
        },
        {
         "hovertemplate": "<b>%{hovertext}</b><br><br>school_name=P.S. 112 Dutch Kills<br>val_prof_pct_watn3_mthlevel2=%{x}<br>val_prof_pct_watn3_mthlevel34=%{y}<br>enrollment=%{marker.size}<extra></extra>",
         "hovertext": [
          "P.S. 112 Dutch Kills"
         ],
         "legendgroup": "P.S. 112 Dutch Kills",
         "marker": {
          "color": "#FECB52",
          "size": [
           366
          ],
          "sizemode": "area",
          "sizeref": 2.4125,
          "symbol": "circle"
         },
         "mode": "markers",
         "name": "P.S. 112 Dutch Kills",
         "orientation": "v",
         "showlegend": true,
         "type": "scatter",
         "x": [
          null
         ],
         "xaxis": "x",
         "y": [
          0.488
         ],
         "yaxis": "y"
        },
        {
         "hovertemplate": "<b>%{hovertext}</b><br><br>school_name=P.S. 148 Queens<br>val_prof_pct_watn3_mthlevel2=%{x}<br>val_prof_pct_watn3_mthlevel34=%{y}<br>enrollment=%{marker.size}<extra></extra>",
         "hovertext": [
          "P.S. 148 Queens"
         ],
         "legendgroup": "P.S. 148 Queens",
         "marker": {
          "color": "#636efa",
          "size": [
           700
          ],
          "sizemode": "area",
          "sizeref": 2.4125,
          "symbol": "circle"
         },
         "mode": "markers",
         "name": "P.S. 148 Queens",
         "orientation": "v",
         "showlegend": true,
         "type": "scatter",
         "x": [
          0.167
         ],
         "xaxis": "x",
         "y": [
          0.571
         ],
         "yaxis": "y"
        },
        {
         "hovertemplate": "<b>%{hovertext}</b><br><br>school_name=P.S. 149 Christa McAuliffe<br>val_prof_pct_watn3_mthlevel2=%{x}<br>val_prof_pct_watn3_mthlevel34=%{y}<br>enrollment=%{marker.size}<extra></extra>",
         "hovertext": [
          "P.S. 149 Christa McAuliffe"
         ],
         "legendgroup": "P.S. 149 Christa McAuliffe",
         "marker": {
          "color": "#EF553B",
          "size": [
           940
          ],
          "sizemode": "area",
          "sizeref": 2.4125,
          "symbol": "circle"
         },
         "mode": "markers",
         "name": "P.S. 149 Christa McAuliffe",
         "orientation": "v",
         "showlegend": true,
         "type": "scatter",
         "x": [
          0.241
         ],
         "xaxis": "x",
         "y": [
          0.697
         ],
         "yaxis": "y"
        },
        {
         "hovertemplate": "<b>%{hovertext}</b><br><br>school_name=P.S. 150 Queens<br>val_prof_pct_watn3_mthlevel2=%{x}<br>val_prof_pct_watn3_mthlevel34=%{y}<br>enrollment=%{marker.size}<extra></extra>",
         "hovertext": [
          "P.S. 150 Queens"
         ],
         "legendgroup": "P.S. 150 Queens",
         "marker": {
          "color": "#00cc96",
          "size": [
           965
          ],
          "sizemode": "area",
          "sizeref": 2.4125,
          "symbol": "circle"
         },
         "mode": "markers",
         "name": "P.S. 150 Queens",
         "orientation": "v",
         "showlegend": true,
         "type": "scatter",
         "x": [
          0.333
         ],
         "xaxis": "x",
         "y": [
          0.957
         ],
         "yaxis": "y"
        },
        {
         "hovertemplate": "<b>%{hovertext}</b><br><br>school_name=P.S. 151 Mary D. Carter<br>val_prof_pct_watn3_mthlevel2=%{x}<br>val_prof_pct_watn3_mthlevel34=%{y}<br>enrollment=%{marker.size}<extra></extra>",
         "hovertext": [
          "P.S. 151 Mary D. Carter"
         ],
         "legendgroup": "P.S. 151 Mary D. Carter",
         "marker": {
          "color": "#ab63fa",
          "size": [
           293
          ],
          "sizemode": "area",
          "sizeref": 2.4125,
          "symbol": "circle"
         },
         "mode": "markers",
         "name": "P.S. 151 Mary D. Carter",
         "orientation": "v",
         "showlegend": true,
         "type": "scatter",
         "x": [
          null
         ],
         "xaxis": "x",
         "y": [
          0.762
         ],
         "yaxis": "y"
        },
        {
         "hovertemplate": "<b>%{hovertext}</b><br><br>school_name=P.S. 152 Gwendoline N. Alleyne School<br>val_prof_pct_watn3_mthlevel2=%{x}<br>val_prof_pct_watn3_mthlevel34=%{y}<br>enrollment=%{marker.size}<extra></extra>",
         "hovertext": [
          "P.S. 152 Gwendoline N. Alleyne School"
         ],
         "legendgroup": "P.S. 152 Gwendoline N. Alleyne School",
         "marker": {
          "color": "#FFA15A",
          "size": [
           869
          ],
          "sizemode": "area",
          "sizeref": 2.4125,
          "symbol": "circle"
         },
         "mode": "markers",
         "name": "P.S. 152 Gwendoline N. Alleyne School",
         "orientation": "v",
         "showlegend": true,
         "type": "scatter",
         "x": [
          0.351
         ],
         "xaxis": "x",
         "y": [
          0.906
         ],
         "yaxis": "y"
        },
        {
         "hovertemplate": "<b>%{hovertext}</b><br><br>school_name=P.S. 166 Henry Gradstein<br>val_prof_pct_watn3_mthlevel2=%{x}<br>val_prof_pct_watn3_mthlevel34=%{y}<br>enrollment=%{marker.size}<extra></extra>",
         "hovertext": [
          "P.S. 166 Henry Gradstein"
         ],
         "legendgroup": "P.S. 166 Henry Gradstein",
         "marker": {
          "color": "#19d3f3",
          "size": [
           914
          ],
          "sizemode": "area",
          "sizeref": 2.4125,
          "symbol": "circle"
         },
         "mode": "markers",
         "name": "P.S. 166 Henry Gradstein",
         "orientation": "v",
         "showlegend": true,
         "type": "scatter",
         "x": [
          0.342
         ],
         "xaxis": "x",
         "y": [
          0.914
         ],
         "yaxis": "y"
        },
        {
         "hovertemplate": "<b>%{hovertext}</b><br><br>school_name=P.S. 171 Peter G. Van Alst<br>val_prof_pct_watn3_mthlevel2=%{x}<br>val_prof_pct_watn3_mthlevel34=%{y}<br>enrollment=%{marker.size}<extra></extra>",
         "hovertext": [
          "P.S. 171 Peter G. Van Alst"
         ],
         "legendgroup": "P.S. 171 Peter G. Van Alst",
         "marker": {
          "color": "#FF6692",
          "size": [
           382
          ],
          "sizemode": "area",
          "sizeref": 2.4125,
          "symbol": "circle"
         },
         "mode": "markers",
         "name": "P.S. 171 Peter G. Van Alst",
         "orientation": "v",
         "showlegend": true,
         "type": "scatter",
         "x": [
          0
         ],
         "xaxis": "x",
         "y": [
          0.357
         ],
         "yaxis": "y"
        },
        {
         "hovertemplate": "<b>%{hovertext}</b><br><br>school_name=P.S. 212<br>val_prof_pct_watn3_mthlevel2=%{x}<br>val_prof_pct_watn3_mthlevel34=%{y}<br>enrollment=%{marker.size}<extra></extra>",
         "hovertext": [
          "P.S. 212"
         ],
         "legendgroup": "P.S. 212",
         "marker": {
          "color": "#B6E880",
          "size": [
           721
          ],
          "sizemode": "area",
          "sizeref": 2.4125,
          "symbol": "circle"
         },
         "mode": "markers",
         "name": "P.S. 212",
         "orientation": "v",
         "showlegend": true,
         "type": "scatter",
         "x": [
          0.273
         ],
         "xaxis": "x",
         "y": [
          0.788
         ],
         "yaxis": "y"
        },
        {
         "hovertemplate": "<b>%{hovertext}</b><br><br>school_name=P.S. 234<br>val_prof_pct_watn3_mthlevel2=%{x}<br>val_prof_pct_watn3_mthlevel34=%{y}<br>enrollment=%{marker.size}<extra></extra>",
         "hovertext": [
          "P.S. 234"
         ],
         "legendgroup": "P.S. 234",
         "marker": {
          "color": "#FF97FF",
          "size": [
           420
          ],
          "sizemode": "area",
          "sizeref": 2.4125,
          "symbol": "circle"
         },
         "mode": "markers",
         "name": "P.S. 234",
         "orientation": "v",
         "showlegend": true,
         "type": "scatter",
         "x": [
          0.619
         ],
         "xaxis": "x",
         "y": [
          0.931
         ],
         "yaxis": "y"
        },
        {
         "hovertemplate": "<b>%{hovertext}</b><br><br>school_name=P.S. 280<br>val_prof_pct_watn3_mthlevel2=%{x}<br>val_prof_pct_watn3_mthlevel34=%{y}<br>enrollment=%{marker.size}<extra></extra>",
         "hovertext": [
          "P.S. 280"
         ],
         "legendgroup": "P.S. 280",
         "marker": {
          "color": "#FECB52",
          "size": [
           575
          ],
          "sizemode": "area",
          "sizeref": 2.4125,
          "symbol": "circle"
         },
         "mode": "markers",
         "name": "P.S. 280",
         "orientation": "v",
         "showlegend": true,
         "type": "scatter",
         "x": [
          0.286
         ],
         "xaxis": "x",
         "y": [
          0.717
         ],
         "yaxis": "y"
        },
        {
         "hovertemplate": "<b>%{hovertext}</b><br><br>school_name=East Elmhurst Community School<br>val_prof_pct_watn3_mthlevel2=%{x}<br>val_prof_pct_watn3_mthlevel34=%{y}<br>enrollment=%{marker.size}<extra></extra>",
         "hovertext": [
          "East Elmhurst Community School"
         ],
         "legendgroup": "East Elmhurst Community School",
         "marker": {
          "color": "#636efa",
          "size": [
           448
          ],
          "sizemode": "area",
          "sizeref": 2.4125,
          "symbol": "circle"
         },
         "mode": "markers",
         "name": "East Elmhurst Community School",
         "orientation": "v",
         "showlegend": true,
         "type": "scatter",
         "x": [
          null
         ],
         "xaxis": "x",
         "y": [
          0.613
         ],
         "yaxis": "y"
        },
        {
         "hovertemplate": "<b>%{hovertext}</b><br><br>school_name=The Woodside Community School<br>val_prof_pct_watn3_mthlevel2=%{x}<br>val_prof_pct_watn3_mthlevel34=%{y}<br>enrollment=%{marker.size}<extra></extra>",
         "hovertext": [
          "The Woodside Community School"
         ],
         "legendgroup": "The Woodside Community School",
         "marker": {
          "color": "#EF553B",
          "size": [
           366
          ],
          "sizemode": "area",
          "sizeref": 2.4125,
          "symbol": "circle"
         },
         "mode": "markers",
         "name": "The Woodside Community School",
         "orientation": "v",
         "showlegend": true,
         "type": "scatter",
         "x": [
          null
         ],
         "xaxis": "x",
         "y": [
          null
         ],
         "yaxis": "y"
        }
       ],
       "layout": {
        "legend": {
         "itemsizing": "constant",
         "title": {
          "text": "school_name"
         },
         "tracegroupgap": 0
        },
        "margin": {
         "t": 60
        },
        "template": {
         "data": {
          "bar": [
           {
            "error_x": {
             "color": "#2a3f5f"
            },
            "error_y": {
             "color": "#2a3f5f"
            },
            "marker": {
             "line": {
              "color": "#E5ECF6",
              "width": 0.5
             },
             "pattern": {
              "fillmode": "overlay",
              "size": 10,
              "solidity": 0.2
             }
            },
            "type": "bar"
           }
          ],
          "barpolar": [
           {
            "marker": {
             "line": {
              "color": "#E5ECF6",
              "width": 0.5
             },
             "pattern": {
              "fillmode": "overlay",
              "size": 10,
              "solidity": 0.2
             }
            },
            "type": "barpolar"
           }
          ],
          "carpet": [
           {
            "aaxis": {
             "endlinecolor": "#2a3f5f",
             "gridcolor": "white",
             "linecolor": "white",
             "minorgridcolor": "white",
             "startlinecolor": "#2a3f5f"
            },
            "baxis": {
             "endlinecolor": "#2a3f5f",
             "gridcolor": "white",
             "linecolor": "white",
             "minorgridcolor": "white",
             "startlinecolor": "#2a3f5f"
            },
            "type": "carpet"
           }
          ],
          "choropleth": [
           {
            "colorbar": {
             "outlinewidth": 0,
             "ticks": ""
            },
            "type": "choropleth"
           }
          ],
          "contour": [
           {
            "colorbar": {
             "outlinewidth": 0,
             "ticks": ""
            },
            "colorscale": [
             [
              0,
              "#0d0887"
             ],
             [
              0.1111111111111111,
              "#46039f"
             ],
             [
              0.2222222222222222,
              "#7201a8"
             ],
             [
              0.3333333333333333,
              "#9c179e"
             ],
             [
              0.4444444444444444,
              "#bd3786"
             ],
             [
              0.5555555555555556,
              "#d8576b"
             ],
             [
              0.6666666666666666,
              "#ed7953"
             ],
             [
              0.7777777777777778,
              "#fb9f3a"
             ],
             [
              0.8888888888888888,
              "#fdca26"
             ],
             [
              1,
              "#f0f921"
             ]
            ],
            "type": "contour"
           }
          ],
          "contourcarpet": [
           {
            "colorbar": {
             "outlinewidth": 0,
             "ticks": ""
            },
            "type": "contourcarpet"
           }
          ],
          "heatmap": [
           {
            "colorbar": {
             "outlinewidth": 0,
             "ticks": ""
            },
            "colorscale": [
             [
              0,
              "#0d0887"
             ],
             [
              0.1111111111111111,
              "#46039f"
             ],
             [
              0.2222222222222222,
              "#7201a8"
             ],
             [
              0.3333333333333333,
              "#9c179e"
             ],
             [
              0.4444444444444444,
              "#bd3786"
             ],
             [
              0.5555555555555556,
              "#d8576b"
             ],
             [
              0.6666666666666666,
              "#ed7953"
             ],
             [
              0.7777777777777778,
              "#fb9f3a"
             ],
             [
              0.8888888888888888,
              "#fdca26"
             ],
             [
              1,
              "#f0f921"
             ]
            ],
            "type": "heatmap"
           }
          ],
          "heatmapgl": [
           {
            "colorbar": {
             "outlinewidth": 0,
             "ticks": ""
            },
            "colorscale": [
             [
              0,
              "#0d0887"
             ],
             [
              0.1111111111111111,
              "#46039f"
             ],
             [
              0.2222222222222222,
              "#7201a8"
             ],
             [
              0.3333333333333333,
              "#9c179e"
             ],
             [
              0.4444444444444444,
              "#bd3786"
             ],
             [
              0.5555555555555556,
              "#d8576b"
             ],
             [
              0.6666666666666666,
              "#ed7953"
             ],
             [
              0.7777777777777778,
              "#fb9f3a"
             ],
             [
              0.8888888888888888,
              "#fdca26"
             ],
             [
              1,
              "#f0f921"
             ]
            ],
            "type": "heatmapgl"
           }
          ],
          "histogram": [
           {
            "marker": {
             "pattern": {
              "fillmode": "overlay",
              "size": 10,
              "solidity": 0.2
             }
            },
            "type": "histogram"
           }
          ],
          "histogram2d": [
           {
            "colorbar": {
             "outlinewidth": 0,
             "ticks": ""
            },
            "colorscale": [
             [
              0,
              "#0d0887"
             ],
             [
              0.1111111111111111,
              "#46039f"
             ],
             [
              0.2222222222222222,
              "#7201a8"
             ],
             [
              0.3333333333333333,
              "#9c179e"
             ],
             [
              0.4444444444444444,
              "#bd3786"
             ],
             [
              0.5555555555555556,
              "#d8576b"
             ],
             [
              0.6666666666666666,
              "#ed7953"
             ],
             [
              0.7777777777777778,
              "#fb9f3a"
             ],
             [
              0.8888888888888888,
              "#fdca26"
             ],
             [
              1,
              "#f0f921"
             ]
            ],
            "type": "histogram2d"
           }
          ],
          "histogram2dcontour": [
           {
            "colorbar": {
             "outlinewidth": 0,
             "ticks": ""
            },
            "colorscale": [
             [
              0,
              "#0d0887"
             ],
             [
              0.1111111111111111,
              "#46039f"
             ],
             [
              0.2222222222222222,
              "#7201a8"
             ],
             [
              0.3333333333333333,
              "#9c179e"
             ],
             [
              0.4444444444444444,
              "#bd3786"
             ],
             [
              0.5555555555555556,
              "#d8576b"
             ],
             [
              0.6666666666666666,
              "#ed7953"
             ],
             [
              0.7777777777777778,
              "#fb9f3a"
             ],
             [
              0.8888888888888888,
              "#fdca26"
             ],
             [
              1,
              "#f0f921"
             ]
            ],
            "type": "histogram2dcontour"
           }
          ],
          "mesh3d": [
           {
            "colorbar": {
             "outlinewidth": 0,
             "ticks": ""
            },
            "type": "mesh3d"
           }
          ],
          "parcoords": [
           {
            "line": {
             "colorbar": {
              "outlinewidth": 0,
              "ticks": ""
             }
            },
            "type": "parcoords"
           }
          ],
          "pie": [
           {
            "automargin": true,
            "type": "pie"
           }
          ],
          "scatter": [
           {
            "marker": {
             "colorbar": {
              "outlinewidth": 0,
              "ticks": ""
             }
            },
            "type": "scatter"
           }
          ],
          "scatter3d": [
           {
            "line": {
             "colorbar": {
              "outlinewidth": 0,
              "ticks": ""
             }
            },
            "marker": {
             "colorbar": {
              "outlinewidth": 0,
              "ticks": ""
             }
            },
            "type": "scatter3d"
           }
          ],
          "scattercarpet": [
           {
            "marker": {
             "colorbar": {
              "outlinewidth": 0,
              "ticks": ""
             }
            },
            "type": "scattercarpet"
           }
          ],
          "scattergeo": [
           {
            "marker": {
             "colorbar": {
              "outlinewidth": 0,
              "ticks": ""
             }
            },
            "type": "scattergeo"
           }
          ],
          "scattergl": [
           {
            "marker": {
             "colorbar": {
              "outlinewidth": 0,
              "ticks": ""
             }
            },
            "type": "scattergl"
           }
          ],
          "scattermapbox": [
           {
            "marker": {
             "colorbar": {
              "outlinewidth": 0,
              "ticks": ""
             }
            },
            "type": "scattermapbox"
           }
          ],
          "scatterpolar": [
           {
            "marker": {
             "colorbar": {
              "outlinewidth": 0,
              "ticks": ""
             }
            },
            "type": "scatterpolar"
           }
          ],
          "scatterpolargl": [
           {
            "marker": {
             "colorbar": {
              "outlinewidth": 0,
              "ticks": ""
             }
            },
            "type": "scatterpolargl"
           }
          ],
          "scatterternary": [
           {
            "marker": {
             "colorbar": {
              "outlinewidth": 0,
              "ticks": ""
             }
            },
            "type": "scatterternary"
           }
          ],
          "surface": [
           {
            "colorbar": {
             "outlinewidth": 0,
             "ticks": ""
            },
            "colorscale": [
             [
              0,
              "#0d0887"
             ],
             [
              0.1111111111111111,
              "#46039f"
             ],
             [
              0.2222222222222222,
              "#7201a8"
             ],
             [
              0.3333333333333333,
              "#9c179e"
             ],
             [
              0.4444444444444444,
              "#bd3786"
             ],
             [
              0.5555555555555556,
              "#d8576b"
             ],
             [
              0.6666666666666666,
              "#ed7953"
             ],
             [
              0.7777777777777778,
              "#fb9f3a"
             ],
             [
              0.8888888888888888,
              "#fdca26"
             ],
             [
              1,
              "#f0f921"
             ]
            ],
            "type": "surface"
           }
          ],
          "table": [
           {
            "cells": {
             "fill": {
              "color": "#EBF0F8"
             },
             "line": {
              "color": "white"
             }
            },
            "header": {
             "fill": {
              "color": "#C8D4E3"
             },
             "line": {
              "color": "white"
             }
            },
            "type": "table"
           }
          ]
         },
         "layout": {
          "annotationdefaults": {
           "arrowcolor": "#2a3f5f",
           "arrowhead": 0,
           "arrowwidth": 1
          },
          "autotypenumbers": "strict",
          "coloraxis": {
           "colorbar": {
            "outlinewidth": 0,
            "ticks": ""
           }
          },
          "colorscale": {
           "diverging": [
            [
             0,
             "#8e0152"
            ],
            [
             0.1,
             "#c51b7d"
            ],
            [
             0.2,
             "#de77ae"
            ],
            [
             0.3,
             "#f1b6da"
            ],
            [
             0.4,
             "#fde0ef"
            ],
            [
             0.5,
             "#f7f7f7"
            ],
            [
             0.6,
             "#e6f5d0"
            ],
            [
             0.7,
             "#b8e186"
            ],
            [
             0.8,
             "#7fbc41"
            ],
            [
             0.9,
             "#4d9221"
            ],
            [
             1,
             "#276419"
            ]
           ],
           "sequential": [
            [
             0,
             "#0d0887"
            ],
            [
             0.1111111111111111,
             "#46039f"
            ],
            [
             0.2222222222222222,
             "#7201a8"
            ],
            [
             0.3333333333333333,
             "#9c179e"
            ],
            [
             0.4444444444444444,
             "#bd3786"
            ],
            [
             0.5555555555555556,
             "#d8576b"
            ],
            [
             0.6666666666666666,
             "#ed7953"
            ],
            [
             0.7777777777777778,
             "#fb9f3a"
            ],
            [
             0.8888888888888888,
             "#fdca26"
            ],
            [
             1,
             "#f0f921"
            ]
           ],
           "sequentialminus": [
            [
             0,
             "#0d0887"
            ],
            [
             0.1111111111111111,
             "#46039f"
            ],
            [
             0.2222222222222222,
             "#7201a8"
            ],
            [
             0.3333333333333333,
             "#9c179e"
            ],
            [
             0.4444444444444444,
             "#bd3786"
            ],
            [
             0.5555555555555556,
             "#d8576b"
            ],
            [
             0.6666666666666666,
             "#ed7953"
            ],
            [
             0.7777777777777778,
             "#fb9f3a"
            ],
            [
             0.8888888888888888,
             "#fdca26"
            ],
            [
             1,
             "#f0f921"
            ]
           ]
          },
          "colorway": [
           "#636efa",
           "#EF553B",
           "#00cc96",
           "#ab63fa",
           "#FFA15A",
           "#19d3f3",
           "#FF6692",
           "#B6E880",
           "#FF97FF",
           "#FECB52"
          ],
          "font": {
           "color": "#2a3f5f"
          },
          "geo": {
           "bgcolor": "white",
           "lakecolor": "white",
           "landcolor": "#E5ECF6",
           "showlakes": true,
           "showland": true,
           "subunitcolor": "white"
          },
          "hoverlabel": {
           "align": "left"
          },
          "hovermode": "closest",
          "mapbox": {
           "style": "light"
          },
          "paper_bgcolor": "white",
          "plot_bgcolor": "#E5ECF6",
          "polar": {
           "angularaxis": {
            "gridcolor": "white",
            "linecolor": "white",
            "ticks": ""
           },
           "bgcolor": "#E5ECF6",
           "radialaxis": {
            "gridcolor": "white",
            "linecolor": "white",
            "ticks": ""
           }
          },
          "scene": {
           "xaxis": {
            "backgroundcolor": "#E5ECF6",
            "gridcolor": "white",
            "gridwidth": 2,
            "linecolor": "white",
            "showbackground": true,
            "ticks": "",
            "zerolinecolor": "white"
           },
           "yaxis": {
            "backgroundcolor": "#E5ECF6",
            "gridcolor": "white",
            "gridwidth": 2,
            "linecolor": "white",
            "showbackground": true,
            "ticks": "",
            "zerolinecolor": "white"
           },
           "zaxis": {
            "backgroundcolor": "#E5ECF6",
            "gridcolor": "white",
            "gridwidth": 2,
            "linecolor": "white",
            "showbackground": true,
            "ticks": "",
            "zerolinecolor": "white"
           }
          },
          "shapedefaults": {
           "line": {
            "color": "#2a3f5f"
           }
          },
          "ternary": {
           "aaxis": {
            "gridcolor": "white",
            "linecolor": "white",
            "ticks": ""
           },
           "baxis": {
            "gridcolor": "white",
            "linecolor": "white",
            "ticks": ""
           },
           "bgcolor": "#E5ECF6",
           "caxis": {
            "gridcolor": "white",
            "linecolor": "white",
            "ticks": ""
           }
          },
          "title": {
           "x": 0.05
          },
          "xaxis": {
           "automargin": true,
           "gridcolor": "white",
           "linecolor": "white",
           "ticks": "",
           "title": {
            "standoff": 15
           },
           "zerolinecolor": "white",
           "zerolinewidth": 2
          },
          "yaxis": {
           "automargin": true,
           "gridcolor": "white",
           "linecolor": "white",
           "ticks": "",
           "title": {
            "standoff": 15
           },
           "zerolinecolor": "white",
           "zerolinewidth": 2
          }
         }
        },
        "xaxis": {
         "anchor": "y",
         "domain": [
          0,
          1
         ],
         "title": {
          "text": "val_prof_pct_watn3_mthlevel2"
         }
        },
        "yaxis": {
         "anchor": "x",
         "domain": [
          0,
          1
         ],
         "title": {
          "text": "val_prof_pct_watn3_mthlevel34"
         }
        }
       }
      },
      "text/html": [
       "<div>                            <div id=\"4fa918e1-325e-4454-bb3d-d0b1dc579b7d\" class=\"plotly-graph-div\" style=\"height:525px; width:100%;\"></div>            <script type=\"text/javascript\">                require([\"plotly\"], function(Plotly) {                    window.PLOTLYENV=window.PLOTLYENV || {};                                    if (document.getElementById(\"4fa918e1-325e-4454-bb3d-d0b1dc579b7d\")) {                    Plotly.newPlot(                        \"4fa918e1-325e-4454-bb3d-d0b1dc579b7d\",                        [{\"hovertemplate\":\"<b>%{hovertext}</b><br><br>school_name=P.S. 002 Alfred Zimberg<br>val_prof_pct_watn3_mthlevel2=%{x}<br>val_prof_pct_watn3_mthlevel34=%{y}<br>enrollment=%{marker.size}<extra></extra>\",\"hovertext\":[\"P.S. 002 Alfred Zimberg\"],\"legendgroup\":\"P.S. 002 Alfred Zimberg\",\"marker\":{\"color\":\"#636efa\",\"size\":[533],\"sizemode\":\"area\",\"sizeref\":2.4125,\"symbol\":\"circle\"},\"mode\":\"markers\",\"name\":\"P.S. 002 Alfred Zimberg\",\"orientation\":\"v\",\"showlegend\":true,\"x\":[0.208],\"xaxis\":\"x\",\"y\":[0.896],\"yaxis\":\"y\",\"type\":\"scatter\"},{\"hovertemplate\":\"<b>%{hovertext}</b><br><br>school_name=P.S. 011 Kathryn Phelan<br>val_prof_pct_watn3_mthlevel2=%{x}<br>val_prof_pct_watn3_mthlevel34=%{y}<br>enrollment=%{marker.size}<extra></extra>\",\"hovertext\":[\"P.S. 011 Kathryn Phelan\"],\"legendgroup\":\"P.S. 011 Kathryn Phelan\",\"marker\":{\"color\":\"#EF553B\",\"size\":[906],\"sizemode\":\"area\",\"sizeref\":2.4125,\"symbol\":\"circle\"},\"mode\":\"markers\",\"name\":\"P.S. 011 Kathryn Phelan\",\"orientation\":\"v\",\"showlegend\":true,\"x\":[0.171],\"xaxis\":\"x\",\"y\":[0.72],\"yaxis\":\"y\",\"type\":\"scatter\"},{\"hovertemplate\":\"<b>%{hovertext}</b><br><br>school_name=P.S. 017 Henry David Thoreau<br>val_prof_pct_watn3_mthlevel2=%{x}<br>val_prof_pct_watn3_mthlevel34=%{y}<br>enrollment=%{marker.size}<extra></extra>\",\"hovertext\":[\"P.S. 017 Henry David Thoreau\"],\"legendgroup\":\"P.S. 017 Henry David Thoreau\",\"marker\":{\"color\":\"#00cc96\",\"size\":[537],\"sizemode\":\"area\",\"sizeref\":2.4125,\"symbol\":\"circle\"},\"mode\":\"markers\",\"name\":\"P.S. 017 Henry David Thoreau\",\"orientation\":\"v\",\"showlegend\":true,\"x\":[0.208],\"xaxis\":\"x\",\"y\":[0.735],\"yaxis\":\"y\",\"type\":\"scatter\"},{\"hovertemplate\":\"<b>%{hovertext}</b><br><br>school_name=P.S. 069 Jackson Heights<br>val_prof_pct_watn3_mthlevel2=%{x}<br>val_prof_pct_watn3_mthlevel34=%{y}<br>enrollment=%{marker.size}<extra></extra>\",\"hovertext\":[\"P.S. 069 Jackson Heights\"],\"legendgroup\":\"P.S. 069 Jackson Heights\",\"marker\":{\"color\":\"#ab63fa\",\"size\":[909],\"sizemode\":\"area\",\"sizeref\":2.4125,\"symbol\":\"circle\"},\"mode\":\"markers\",\"name\":\"P.S. 069 Jackson Heights\",\"orientation\":\"v\",\"showlegend\":true,\"x\":[0.45],\"xaxis\":\"x\",\"y\":[0.898],\"yaxis\":\"y\",\"type\":\"scatter\"},{\"hovertemplate\":\"<b>%{hovertext}</b><br><br>school_name=P.S. 070<br>val_prof_pct_watn3_mthlevel2=%{x}<br>val_prof_pct_watn3_mthlevel34=%{y}<br>enrollment=%{marker.size}<extra></extra>\",\"hovertext\":[\"P.S. 070\"],\"legendgroup\":\"P.S. 070\",\"marker\":{\"color\":\"#FFA15A\",\"size\":[728],\"sizemode\":\"area\",\"sizeref\":2.4125,\"symbol\":\"circle\"},\"mode\":\"markers\",\"name\":\"P.S. 070\",\"orientation\":\"v\",\"showlegend\":true,\"x\":[0.25],\"xaxis\":\"x\",\"y\":[0.676],\"yaxis\":\"y\",\"type\":\"scatter\"},{\"hovertemplate\":\"<b>%{hovertext}</b><br><br>school_name=P.S. 076 William Hallet<br>val_prof_pct_watn3_mthlevel2=%{x}<br>val_prof_pct_watn3_mthlevel34=%{y}<br>enrollment=%{marker.size}<extra></extra>\",\"hovertext\":[\"P.S. 076 William Hallet\"],\"legendgroup\":\"P.S. 076 William Hallet\",\"marker\":{\"color\":\"#19d3f3\",\"size\":[385],\"sizemode\":\"area\",\"sizeref\":2.4125,\"symbol\":\"circle\"},\"mode\":\"markers\",\"name\":\"P.S. 076 William Hallet\",\"orientation\":\"v\",\"showlegend\":true,\"x\":[0.042],\"xaxis\":\"x\",\"y\":[0.667],\"yaxis\":\"y\",\"type\":\"scatter\"},{\"hovertemplate\":\"<b>%{hovertext}</b><br><br>school_name=P.S. 084 Steinway<br>val_prof_pct_watn3_mthlevel2=%{x}<br>val_prof_pct_watn3_mthlevel34=%{y}<br>enrollment=%{marker.size}<extra></extra>\",\"hovertext\":[\"P.S. 084 Steinway\"],\"legendgroup\":\"P.S. 084 Steinway\",\"marker\":{\"color\":\"#FF6692\",\"size\":[228],\"sizemode\":\"area\",\"sizeref\":2.4125,\"symbol\":\"circle\"},\"mode\":\"markers\",\"name\":\"P.S. 084 Steinway\",\"orientation\":\"v\",\"showlegend\":true,\"x\":[null],\"xaxis\":\"x\",\"y\":[0.783],\"yaxis\":\"y\",\"type\":\"scatter\"},{\"hovertemplate\":\"<b>%{hovertext}</b><br><br>school_name=P.S. 085 Judge Charles Vallone<br>val_prof_pct_watn3_mthlevel2=%{x}<br>val_prof_pct_watn3_mthlevel34=%{y}<br>enrollment=%{marker.size}<extra></extra>\",\"hovertext\":[\"P.S. 085 Judge Charles Vallone\"],\"legendgroup\":\"P.S. 085 Judge Charles Vallone\",\"marker\":{\"color\":\"#B6E880\",\"size\":[590],\"sizemode\":\"area\",\"sizeref\":2.4125,\"symbol\":\"circle\"},\"mode\":\"markers\",\"name\":\"P.S. 085 Judge Charles Vallone\",\"orientation\":\"v\",\"showlegend\":true,\"x\":[0.056],\"xaxis\":\"x\",\"y\":[0.851],\"yaxis\":\"y\",\"type\":\"scatter\"},{\"hovertemplate\":\"<b>%{hovertext}</b><br><br>school_name=P.S. 092 Harry T. Stewart Sr.<br>val_prof_pct_watn3_mthlevel2=%{x}<br>val_prof_pct_watn3_mthlevel34=%{y}<br>enrollment=%{marker.size}<extra></extra>\",\"hovertext\":[\"P.S. 092 Harry T. Stewart Sr.\"],\"legendgroup\":\"P.S. 092 Harry T. Stewart Sr.\",\"marker\":{\"color\":\"#FF97FF\",\"size\":[811],\"sizemode\":\"area\",\"sizeref\":2.4125,\"symbol\":\"circle\"},\"mode\":\"markers\",\"name\":\"P.S. 092 Harry T. Stewart Sr.\",\"orientation\":\"v\",\"showlegend\":true,\"x\":[0.179],\"xaxis\":\"x\",\"y\":[0.763],\"yaxis\":\"y\",\"type\":\"scatter\"},{\"hovertemplate\":\"<b>%{hovertext}</b><br><br>school_name=P.S. 112 Dutch Kills<br>val_prof_pct_watn3_mthlevel2=%{x}<br>val_prof_pct_watn3_mthlevel34=%{y}<br>enrollment=%{marker.size}<extra></extra>\",\"hovertext\":[\"P.S. 112 Dutch Kills\"],\"legendgroup\":\"P.S. 112 Dutch Kills\",\"marker\":{\"color\":\"#FECB52\",\"size\":[366],\"sizemode\":\"area\",\"sizeref\":2.4125,\"symbol\":\"circle\"},\"mode\":\"markers\",\"name\":\"P.S. 112 Dutch Kills\",\"orientation\":\"v\",\"showlegend\":true,\"x\":[null],\"xaxis\":\"x\",\"y\":[0.488],\"yaxis\":\"y\",\"type\":\"scatter\"},{\"hovertemplate\":\"<b>%{hovertext}</b><br><br>school_name=P.S. 148 Queens<br>val_prof_pct_watn3_mthlevel2=%{x}<br>val_prof_pct_watn3_mthlevel34=%{y}<br>enrollment=%{marker.size}<extra></extra>\",\"hovertext\":[\"P.S. 148 Queens\"],\"legendgroup\":\"P.S. 148 Queens\",\"marker\":{\"color\":\"#636efa\",\"size\":[700],\"sizemode\":\"area\",\"sizeref\":2.4125,\"symbol\":\"circle\"},\"mode\":\"markers\",\"name\":\"P.S. 148 Queens\",\"orientation\":\"v\",\"showlegend\":true,\"x\":[0.167],\"xaxis\":\"x\",\"y\":[0.571],\"yaxis\":\"y\",\"type\":\"scatter\"},{\"hovertemplate\":\"<b>%{hovertext}</b><br><br>school_name=P.S. 149 Christa McAuliffe<br>val_prof_pct_watn3_mthlevel2=%{x}<br>val_prof_pct_watn3_mthlevel34=%{y}<br>enrollment=%{marker.size}<extra></extra>\",\"hovertext\":[\"P.S. 149 Christa McAuliffe\"],\"legendgroup\":\"P.S. 149 Christa McAuliffe\",\"marker\":{\"color\":\"#EF553B\",\"size\":[940],\"sizemode\":\"area\",\"sizeref\":2.4125,\"symbol\":\"circle\"},\"mode\":\"markers\",\"name\":\"P.S. 149 Christa McAuliffe\",\"orientation\":\"v\",\"showlegend\":true,\"x\":[0.241],\"xaxis\":\"x\",\"y\":[0.697],\"yaxis\":\"y\",\"type\":\"scatter\"},{\"hovertemplate\":\"<b>%{hovertext}</b><br><br>school_name=P.S. 150 Queens<br>val_prof_pct_watn3_mthlevel2=%{x}<br>val_prof_pct_watn3_mthlevel34=%{y}<br>enrollment=%{marker.size}<extra></extra>\",\"hovertext\":[\"P.S. 150 Queens\"],\"legendgroup\":\"P.S. 150 Queens\",\"marker\":{\"color\":\"#00cc96\",\"size\":[965],\"sizemode\":\"area\",\"sizeref\":2.4125,\"symbol\":\"circle\"},\"mode\":\"markers\",\"name\":\"P.S. 150 Queens\",\"orientation\":\"v\",\"showlegend\":true,\"x\":[0.333],\"xaxis\":\"x\",\"y\":[0.957],\"yaxis\":\"y\",\"type\":\"scatter\"},{\"hovertemplate\":\"<b>%{hovertext}</b><br><br>school_name=P.S. 151 Mary D. Carter<br>val_prof_pct_watn3_mthlevel2=%{x}<br>val_prof_pct_watn3_mthlevel34=%{y}<br>enrollment=%{marker.size}<extra></extra>\",\"hovertext\":[\"P.S. 151 Mary D. Carter\"],\"legendgroup\":\"P.S. 151 Mary D. Carter\",\"marker\":{\"color\":\"#ab63fa\",\"size\":[293],\"sizemode\":\"area\",\"sizeref\":2.4125,\"symbol\":\"circle\"},\"mode\":\"markers\",\"name\":\"P.S. 151 Mary D. Carter\",\"orientation\":\"v\",\"showlegend\":true,\"x\":[null],\"xaxis\":\"x\",\"y\":[0.762],\"yaxis\":\"y\",\"type\":\"scatter\"},{\"hovertemplate\":\"<b>%{hovertext}</b><br><br>school_name=P.S. 152 Gwendoline N. Alleyne School<br>val_prof_pct_watn3_mthlevel2=%{x}<br>val_prof_pct_watn3_mthlevel34=%{y}<br>enrollment=%{marker.size}<extra></extra>\",\"hovertext\":[\"P.S. 152 Gwendoline N. Alleyne School\"],\"legendgroup\":\"P.S. 152 Gwendoline N. Alleyne School\",\"marker\":{\"color\":\"#FFA15A\",\"size\":[869],\"sizemode\":\"area\",\"sizeref\":2.4125,\"symbol\":\"circle\"},\"mode\":\"markers\",\"name\":\"P.S. 152 Gwendoline N. Alleyne School\",\"orientation\":\"v\",\"showlegend\":true,\"x\":[0.351],\"xaxis\":\"x\",\"y\":[0.906],\"yaxis\":\"y\",\"type\":\"scatter\"},{\"hovertemplate\":\"<b>%{hovertext}</b><br><br>school_name=P.S. 166 Henry Gradstein<br>val_prof_pct_watn3_mthlevel2=%{x}<br>val_prof_pct_watn3_mthlevel34=%{y}<br>enrollment=%{marker.size}<extra></extra>\",\"hovertext\":[\"P.S. 166 Henry Gradstein\"],\"legendgroup\":\"P.S. 166 Henry Gradstein\",\"marker\":{\"color\":\"#19d3f3\",\"size\":[914],\"sizemode\":\"area\",\"sizeref\":2.4125,\"symbol\":\"circle\"},\"mode\":\"markers\",\"name\":\"P.S. 166 Henry Gradstein\",\"orientation\":\"v\",\"showlegend\":true,\"x\":[0.342],\"xaxis\":\"x\",\"y\":[0.914],\"yaxis\":\"y\",\"type\":\"scatter\"},{\"hovertemplate\":\"<b>%{hovertext}</b><br><br>school_name=P.S. 171 Peter G. Van Alst<br>val_prof_pct_watn3_mthlevel2=%{x}<br>val_prof_pct_watn3_mthlevel34=%{y}<br>enrollment=%{marker.size}<extra></extra>\",\"hovertext\":[\"P.S. 171 Peter G. Van Alst\"],\"legendgroup\":\"P.S. 171 Peter G. Van Alst\",\"marker\":{\"color\":\"#FF6692\",\"size\":[382],\"sizemode\":\"area\",\"sizeref\":2.4125,\"symbol\":\"circle\"},\"mode\":\"markers\",\"name\":\"P.S. 171 Peter G. Van Alst\",\"orientation\":\"v\",\"showlegend\":true,\"x\":[0.0],\"xaxis\":\"x\",\"y\":[0.357],\"yaxis\":\"y\",\"type\":\"scatter\"},{\"hovertemplate\":\"<b>%{hovertext}</b><br><br>school_name=P.S. 212<br>val_prof_pct_watn3_mthlevel2=%{x}<br>val_prof_pct_watn3_mthlevel34=%{y}<br>enrollment=%{marker.size}<extra></extra>\",\"hovertext\":[\"P.S. 212\"],\"legendgroup\":\"P.S. 212\",\"marker\":{\"color\":\"#B6E880\",\"size\":[721],\"sizemode\":\"area\",\"sizeref\":2.4125,\"symbol\":\"circle\"},\"mode\":\"markers\",\"name\":\"P.S. 212\",\"orientation\":\"v\",\"showlegend\":true,\"x\":[0.273],\"xaxis\":\"x\",\"y\":[0.788],\"yaxis\":\"y\",\"type\":\"scatter\"},{\"hovertemplate\":\"<b>%{hovertext}</b><br><br>school_name=P.S. 234<br>val_prof_pct_watn3_mthlevel2=%{x}<br>val_prof_pct_watn3_mthlevel34=%{y}<br>enrollment=%{marker.size}<extra></extra>\",\"hovertext\":[\"P.S. 234\"],\"legendgroup\":\"P.S. 234\",\"marker\":{\"color\":\"#FF97FF\",\"size\":[420],\"sizemode\":\"area\",\"sizeref\":2.4125,\"symbol\":\"circle\"},\"mode\":\"markers\",\"name\":\"P.S. 234\",\"orientation\":\"v\",\"showlegend\":true,\"x\":[0.619],\"xaxis\":\"x\",\"y\":[0.931],\"yaxis\":\"y\",\"type\":\"scatter\"},{\"hovertemplate\":\"<b>%{hovertext}</b><br><br>school_name=P.S. 280<br>val_prof_pct_watn3_mthlevel2=%{x}<br>val_prof_pct_watn3_mthlevel34=%{y}<br>enrollment=%{marker.size}<extra></extra>\",\"hovertext\":[\"P.S. 280\"],\"legendgroup\":\"P.S. 280\",\"marker\":{\"color\":\"#FECB52\",\"size\":[575],\"sizemode\":\"area\",\"sizeref\":2.4125,\"symbol\":\"circle\"},\"mode\":\"markers\",\"name\":\"P.S. 280\",\"orientation\":\"v\",\"showlegend\":true,\"x\":[0.286],\"xaxis\":\"x\",\"y\":[0.717],\"yaxis\":\"y\",\"type\":\"scatter\"},{\"hovertemplate\":\"<b>%{hovertext}</b><br><br>school_name=East Elmhurst Community School<br>val_prof_pct_watn3_mthlevel2=%{x}<br>val_prof_pct_watn3_mthlevel34=%{y}<br>enrollment=%{marker.size}<extra></extra>\",\"hovertext\":[\"East Elmhurst Community School\"],\"legendgroup\":\"East Elmhurst Community School\",\"marker\":{\"color\":\"#636efa\",\"size\":[448],\"sizemode\":\"area\",\"sizeref\":2.4125,\"symbol\":\"circle\"},\"mode\":\"markers\",\"name\":\"East Elmhurst Community School\",\"orientation\":\"v\",\"showlegend\":true,\"x\":[null],\"xaxis\":\"x\",\"y\":[0.613],\"yaxis\":\"y\",\"type\":\"scatter\"},{\"hovertemplate\":\"<b>%{hovertext}</b><br><br>school_name=The Woodside Community School<br>val_prof_pct_watn3_mthlevel2=%{x}<br>val_prof_pct_watn3_mthlevel34=%{y}<br>enrollment=%{marker.size}<extra></extra>\",\"hovertext\":[\"The Woodside Community School\"],\"legendgroup\":\"The Woodside Community School\",\"marker\":{\"color\":\"#EF553B\",\"size\":[366],\"sizemode\":\"area\",\"sizeref\":2.4125,\"symbol\":\"circle\"},\"mode\":\"markers\",\"name\":\"The Woodside Community School\",\"orientation\":\"v\",\"showlegend\":true,\"x\":[null],\"xaxis\":\"x\",\"y\":[null],\"yaxis\":\"y\",\"type\":\"scatter\"}],                        {\"template\":{\"data\":{\"bar\":[{\"error_x\":{\"color\":\"#2a3f5f\"},\"error_y\":{\"color\":\"#2a3f5f\"},\"marker\":{\"line\":{\"color\":\"#E5ECF6\",\"width\":0.5},\"pattern\":{\"fillmode\":\"overlay\",\"size\":10,\"solidity\":0.2}},\"type\":\"bar\"}],\"barpolar\":[{\"marker\":{\"line\":{\"color\":\"#E5ECF6\",\"width\":0.5},\"pattern\":{\"fillmode\":\"overlay\",\"size\":10,\"solidity\":0.2}},\"type\":\"barpolar\"}],\"carpet\":[{\"aaxis\":{\"endlinecolor\":\"#2a3f5f\",\"gridcolor\":\"white\",\"linecolor\":\"white\",\"minorgridcolor\":\"white\",\"startlinecolor\":\"#2a3f5f\"},\"baxis\":{\"endlinecolor\":\"#2a3f5f\",\"gridcolor\":\"white\",\"linecolor\":\"white\",\"minorgridcolor\":\"white\",\"startlinecolor\":\"#2a3f5f\"},\"type\":\"carpet\"}],\"choropleth\":[{\"colorbar\":{\"outlinewidth\":0,\"ticks\":\"\"},\"type\":\"choropleth\"}],\"contour\":[{\"colorbar\":{\"outlinewidth\":0,\"ticks\":\"\"},\"colorscale\":[[0.0,\"#0d0887\"],[0.1111111111111111,\"#46039f\"],[0.2222222222222222,\"#7201a8\"],[0.3333333333333333,\"#9c179e\"],[0.4444444444444444,\"#bd3786\"],[0.5555555555555556,\"#d8576b\"],[0.6666666666666666,\"#ed7953\"],[0.7777777777777778,\"#fb9f3a\"],[0.8888888888888888,\"#fdca26\"],[1.0,\"#f0f921\"]],\"type\":\"contour\"}],\"contourcarpet\":[{\"colorbar\":{\"outlinewidth\":0,\"ticks\":\"\"},\"type\":\"contourcarpet\"}],\"heatmap\":[{\"colorbar\":{\"outlinewidth\":0,\"ticks\":\"\"},\"colorscale\":[[0.0,\"#0d0887\"],[0.1111111111111111,\"#46039f\"],[0.2222222222222222,\"#7201a8\"],[0.3333333333333333,\"#9c179e\"],[0.4444444444444444,\"#bd3786\"],[0.5555555555555556,\"#d8576b\"],[0.6666666666666666,\"#ed7953\"],[0.7777777777777778,\"#fb9f3a\"],[0.8888888888888888,\"#fdca26\"],[1.0,\"#f0f921\"]],\"type\":\"heatmap\"}],\"heatmapgl\":[{\"colorbar\":{\"outlinewidth\":0,\"ticks\":\"\"},\"colorscale\":[[0.0,\"#0d0887\"],[0.1111111111111111,\"#46039f\"],[0.2222222222222222,\"#7201a8\"],[0.3333333333333333,\"#9c179e\"],[0.4444444444444444,\"#bd3786\"],[0.5555555555555556,\"#d8576b\"],[0.6666666666666666,\"#ed7953\"],[0.7777777777777778,\"#fb9f3a\"],[0.8888888888888888,\"#fdca26\"],[1.0,\"#f0f921\"]],\"type\":\"heatmapgl\"}],\"histogram\":[{\"marker\":{\"pattern\":{\"fillmode\":\"overlay\",\"size\":10,\"solidity\":0.2}},\"type\":\"histogram\"}],\"histogram2d\":[{\"colorbar\":{\"outlinewidth\":0,\"ticks\":\"\"},\"colorscale\":[[0.0,\"#0d0887\"],[0.1111111111111111,\"#46039f\"],[0.2222222222222222,\"#7201a8\"],[0.3333333333333333,\"#9c179e\"],[0.4444444444444444,\"#bd3786\"],[0.5555555555555556,\"#d8576b\"],[0.6666666666666666,\"#ed7953\"],[0.7777777777777778,\"#fb9f3a\"],[0.8888888888888888,\"#fdca26\"],[1.0,\"#f0f921\"]],\"type\":\"histogram2d\"}],\"histogram2dcontour\":[{\"colorbar\":{\"outlinewidth\":0,\"ticks\":\"\"},\"colorscale\":[[0.0,\"#0d0887\"],[0.1111111111111111,\"#46039f\"],[0.2222222222222222,\"#7201a8\"],[0.3333333333333333,\"#9c179e\"],[0.4444444444444444,\"#bd3786\"],[0.5555555555555556,\"#d8576b\"],[0.6666666666666666,\"#ed7953\"],[0.7777777777777778,\"#fb9f3a\"],[0.8888888888888888,\"#fdca26\"],[1.0,\"#f0f921\"]],\"type\":\"histogram2dcontour\"}],\"mesh3d\":[{\"colorbar\":{\"outlinewidth\":0,\"ticks\":\"\"},\"type\":\"mesh3d\"}],\"parcoords\":[{\"line\":{\"colorbar\":{\"outlinewidth\":0,\"ticks\":\"\"}},\"type\":\"parcoords\"}],\"pie\":[{\"automargin\":true,\"type\":\"pie\"}],\"scatter\":[{\"marker\":{\"colorbar\":{\"outlinewidth\":0,\"ticks\":\"\"}},\"type\":\"scatter\"}],\"scatter3d\":[{\"line\":{\"colorbar\":{\"outlinewidth\":0,\"ticks\":\"\"}},\"marker\":{\"colorbar\":{\"outlinewidth\":0,\"ticks\":\"\"}},\"type\":\"scatter3d\"}],\"scattercarpet\":[{\"marker\":{\"colorbar\":{\"outlinewidth\":0,\"ticks\":\"\"}},\"type\":\"scattercarpet\"}],\"scattergeo\":[{\"marker\":{\"colorbar\":{\"outlinewidth\":0,\"ticks\":\"\"}},\"type\":\"scattergeo\"}],\"scattergl\":[{\"marker\":{\"colorbar\":{\"outlinewidth\":0,\"ticks\":\"\"}},\"type\":\"scattergl\"}],\"scattermapbox\":[{\"marker\":{\"colorbar\":{\"outlinewidth\":0,\"ticks\":\"\"}},\"type\":\"scattermapbox\"}],\"scatterpolar\":[{\"marker\":{\"colorbar\":{\"outlinewidth\":0,\"ticks\":\"\"}},\"type\":\"scatterpolar\"}],\"scatterpolargl\":[{\"marker\":{\"colorbar\":{\"outlinewidth\":0,\"ticks\":\"\"}},\"type\":\"scatterpolargl\"}],\"scatterternary\":[{\"marker\":{\"colorbar\":{\"outlinewidth\":0,\"ticks\":\"\"}},\"type\":\"scatterternary\"}],\"surface\":[{\"colorbar\":{\"outlinewidth\":0,\"ticks\":\"\"},\"colorscale\":[[0.0,\"#0d0887\"],[0.1111111111111111,\"#46039f\"],[0.2222222222222222,\"#7201a8\"],[0.3333333333333333,\"#9c179e\"],[0.4444444444444444,\"#bd3786\"],[0.5555555555555556,\"#d8576b\"],[0.6666666666666666,\"#ed7953\"],[0.7777777777777778,\"#fb9f3a\"],[0.8888888888888888,\"#fdca26\"],[1.0,\"#f0f921\"]],\"type\":\"surface\"}],\"table\":[{\"cells\":{\"fill\":{\"color\":\"#EBF0F8\"},\"line\":{\"color\":\"white\"}},\"header\":{\"fill\":{\"color\":\"#C8D4E3\"},\"line\":{\"color\":\"white\"}},\"type\":\"table\"}]},\"layout\":{\"annotationdefaults\":{\"arrowcolor\":\"#2a3f5f\",\"arrowhead\":0,\"arrowwidth\":1},\"autotypenumbers\":\"strict\",\"coloraxis\":{\"colorbar\":{\"outlinewidth\":0,\"ticks\":\"\"}},\"colorscale\":{\"diverging\":[[0,\"#8e0152\"],[0.1,\"#c51b7d\"],[0.2,\"#de77ae\"],[0.3,\"#f1b6da\"],[0.4,\"#fde0ef\"],[0.5,\"#f7f7f7\"],[0.6,\"#e6f5d0\"],[0.7,\"#b8e186\"],[0.8,\"#7fbc41\"],[0.9,\"#4d9221\"],[1,\"#276419\"]],\"sequential\":[[0.0,\"#0d0887\"],[0.1111111111111111,\"#46039f\"],[0.2222222222222222,\"#7201a8\"],[0.3333333333333333,\"#9c179e\"],[0.4444444444444444,\"#bd3786\"],[0.5555555555555556,\"#d8576b\"],[0.6666666666666666,\"#ed7953\"],[0.7777777777777778,\"#fb9f3a\"],[0.8888888888888888,\"#fdca26\"],[1.0,\"#f0f921\"]],\"sequentialminus\":[[0.0,\"#0d0887\"],[0.1111111111111111,\"#46039f\"],[0.2222222222222222,\"#7201a8\"],[0.3333333333333333,\"#9c179e\"],[0.4444444444444444,\"#bd3786\"],[0.5555555555555556,\"#d8576b\"],[0.6666666666666666,\"#ed7953\"],[0.7777777777777778,\"#fb9f3a\"],[0.8888888888888888,\"#fdca26\"],[1.0,\"#f0f921\"]]},\"colorway\":[\"#636efa\",\"#EF553B\",\"#00cc96\",\"#ab63fa\",\"#FFA15A\",\"#19d3f3\",\"#FF6692\",\"#B6E880\",\"#FF97FF\",\"#FECB52\"],\"font\":{\"color\":\"#2a3f5f\"},\"geo\":{\"bgcolor\":\"white\",\"lakecolor\":\"white\",\"landcolor\":\"#E5ECF6\",\"showlakes\":true,\"showland\":true,\"subunitcolor\":\"white\"},\"hoverlabel\":{\"align\":\"left\"},\"hovermode\":\"closest\",\"mapbox\":{\"style\":\"light\"},\"paper_bgcolor\":\"white\",\"plot_bgcolor\":\"#E5ECF6\",\"polar\":{\"angularaxis\":{\"gridcolor\":\"white\",\"linecolor\":\"white\",\"ticks\":\"\"},\"bgcolor\":\"#E5ECF6\",\"radialaxis\":{\"gridcolor\":\"white\",\"linecolor\":\"white\",\"ticks\":\"\"}},\"scene\":{\"xaxis\":{\"backgroundcolor\":\"#E5ECF6\",\"gridcolor\":\"white\",\"gridwidth\":2,\"linecolor\":\"white\",\"showbackground\":true,\"ticks\":\"\",\"zerolinecolor\":\"white\"},\"yaxis\":{\"backgroundcolor\":\"#E5ECF6\",\"gridcolor\":\"white\",\"gridwidth\":2,\"linecolor\":\"white\",\"showbackground\":true,\"ticks\":\"\",\"zerolinecolor\":\"white\"},\"zaxis\":{\"backgroundcolor\":\"#E5ECF6\",\"gridcolor\":\"white\",\"gridwidth\":2,\"linecolor\":\"white\",\"showbackground\":true,\"ticks\":\"\",\"zerolinecolor\":\"white\"}},\"shapedefaults\":{\"line\":{\"color\":\"#2a3f5f\"}},\"ternary\":{\"aaxis\":{\"gridcolor\":\"white\",\"linecolor\":\"white\",\"ticks\":\"\"},\"baxis\":{\"gridcolor\":\"white\",\"linecolor\":\"white\",\"ticks\":\"\"},\"bgcolor\":\"#E5ECF6\",\"caxis\":{\"gridcolor\":\"white\",\"linecolor\":\"white\",\"ticks\":\"\"}},\"title\":{\"x\":0.05},\"xaxis\":{\"automargin\":true,\"gridcolor\":\"white\",\"linecolor\":\"white\",\"ticks\":\"\",\"title\":{\"standoff\":15},\"zerolinecolor\":\"white\",\"zerolinewidth\":2},\"yaxis\":{\"automargin\":true,\"gridcolor\":\"white\",\"linecolor\":\"white\",\"ticks\":\"\",\"title\":{\"standoff\":15},\"zerolinecolor\":\"white\",\"zerolinewidth\":2}}},\"xaxis\":{\"anchor\":\"y\",\"domain\":[0.0,1.0],\"title\":{\"text\":\"val_prof_pct_watn3_mthlevel2\"}},\"yaxis\":{\"anchor\":\"x\",\"domain\":[0.0,1.0],\"title\":{\"text\":\"val_prof_pct_watn3_mthlevel34\"}},\"legend\":{\"title\":{\"text\":\"school_name\"},\"tracegroupgap\":0,\"itemsizing\":\"constant\"},\"margin\":{\"t\":60}},                        {\"responsive\": true}                    ).then(function(){\n",
       "                            \n",
       "var gd = document.getElementById('4fa918e1-325e-4454-bb3d-d0b1dc579b7d');\n",
       "var x = new MutationObserver(function (mutations, observer) {{\n",
       "        var display = window.getComputedStyle(gd).display;\n",
       "        if (!display || display === 'none') {{\n",
       "            console.log([gd, 'removed!']);\n",
       "            Plotly.purge(gd);\n",
       "            observer.disconnect();\n",
       "        }}\n",
       "}});\n",
       "\n",
       "// Listen for the removal of the full notebook cells\n",
       "var notebookContainer = gd.closest('#notebook-container');\n",
       "if (notebookContainer) {{\n",
       "    x.observe(notebookContainer, {childList: true});\n",
       "}}\n",
       "\n",
       "// Listen for the clearing of the current output cell\n",
       "var outputEl = gd.closest('.output');\n",
       "if (outputEl) {{\n",
       "    x.observe(outputEl, {childList: true});\n",
       "}}\n",
       "\n",
       "                        })                };                });            </script>        </div>"
      ]
     },
     "metadata": {},
     "output_type": "display_data"
    }
   ],
   "source": [
    "fig = px.scatter(district30elementary, x=\"val_prof_pct_watn3_mthlevel2\", y=\"val_prof_pct_watn3_mthlevel34\", size='enrollment',\n",
    "             color=\"school_name\", hover_name=\"school_name\")\n",
    "fig.show()"
   ]
  },
  {
   "cell_type": "markdown",
   "id": "864612bf",
   "metadata": {},
   "source": [
    "Trust (Percent Positive) vs. Effective School Leadership (Percent Positive) "
   ]
  },
  {
   "cell_type": "code",
   "execution_count": 326,
   "id": "603e8708",
   "metadata": {},
   "outputs": [
    {
     "data": {
      "application/vnd.plotly.v1+json": {
       "config": {
        "plotlyServerURL": "https://plot.ly"
       },
       "data": [
        {
         "hovertemplate": "<b>%{hovertext}</b><br><br>school_name=P.S. 002 Alfred Zimberg<br>survey_pp_tr=%{x}<br>survey_pp_es=%{y}<br>enrollment=%{marker.size}<extra></extra>",
         "hovertext": [
          "P.S. 002 Alfred Zimberg"
         ],
         "legendgroup": "P.S. 002 Alfred Zimberg",
         "marker": {
          "color": "#636efa",
          "size": [
           533
          ],
          "sizemode": "area",
          "sizeref": 2.4125,
          "symbol": "circle"
         },
         "mode": "markers",
         "name": "P.S. 002 Alfred Zimberg",
         "orientation": "v",
         "showlegend": true,
         "type": "scatter",
         "x": [
          0.9
         ],
         "xaxis": "x",
         "y": [
          0.89
         ],
         "yaxis": "y"
        },
        {
         "hovertemplate": "<b>%{hovertext}</b><br><br>school_name=P.S. 011 Kathryn Phelan<br>survey_pp_tr=%{x}<br>survey_pp_es=%{y}<br>enrollment=%{marker.size}<extra></extra>",
         "hovertext": [
          "P.S. 011 Kathryn Phelan"
         ],
         "legendgroup": "P.S. 011 Kathryn Phelan",
         "marker": {
          "color": "#EF553B",
          "size": [
           906
          ],
          "sizemode": "area",
          "sizeref": 2.4125,
          "symbol": "circle"
         },
         "mode": "markers",
         "name": "P.S. 011 Kathryn Phelan",
         "orientation": "v",
         "showlegend": true,
         "type": "scatter",
         "x": [
          0.93
         ],
         "xaxis": "x",
         "y": [
          0.84
         ],
         "yaxis": "y"
        },
        {
         "hovertemplate": "<b>%{hovertext}</b><br><br>school_name=P.S. 017 Henry David Thoreau<br>survey_pp_tr=%{x}<br>survey_pp_es=%{y}<br>enrollment=%{marker.size}<extra></extra>",
         "hovertext": [
          "P.S. 017 Henry David Thoreau"
         ],
         "legendgroup": "P.S. 017 Henry David Thoreau",
         "marker": {
          "color": "#00cc96",
          "size": [
           537
          ],
          "sizemode": "area",
          "sizeref": 2.4125,
          "symbol": "circle"
         },
         "mode": "markers",
         "name": "P.S. 017 Henry David Thoreau",
         "orientation": "v",
         "showlegend": true,
         "type": "scatter",
         "x": [
          0.94
         ],
         "xaxis": "x",
         "y": [
          0.87
         ],
         "yaxis": "y"
        },
        {
         "hovertemplate": "<b>%{hovertext}</b><br><br>school_name=P.S. 069 Jackson Heights<br>survey_pp_tr=%{x}<br>survey_pp_es=%{y}<br>enrollment=%{marker.size}<extra></extra>",
         "hovertext": [
          "P.S. 069 Jackson Heights"
         ],
         "legendgroup": "P.S. 069 Jackson Heights",
         "marker": {
          "color": "#ab63fa",
          "size": [
           909
          ],
          "sizemode": "area",
          "sizeref": 2.4125,
          "symbol": "circle"
         },
         "mode": "markers",
         "name": "P.S. 069 Jackson Heights",
         "orientation": "v",
         "showlegend": true,
         "type": "scatter",
         "x": [
          0.96
         ],
         "xaxis": "x",
         "y": [
          0.91
         ],
         "yaxis": "y"
        },
        {
         "hovertemplate": "<b>%{hovertext}</b><br><br>school_name=P.S. 070<br>survey_pp_tr=%{x}<br>survey_pp_es=%{y}<br>enrollment=%{marker.size}<extra></extra>",
         "hovertext": [
          "P.S. 070"
         ],
         "legendgroup": "P.S. 070",
         "marker": {
          "color": "#FFA15A",
          "size": [
           728
          ],
          "sizemode": "area",
          "sizeref": 2.4125,
          "symbol": "circle"
         },
         "mode": "markers",
         "name": "P.S. 070",
         "orientation": "v",
         "showlegend": true,
         "type": "scatter",
         "x": [
          0.96
         ],
         "xaxis": "x",
         "y": [
          0.93
         ],
         "yaxis": "y"
        },
        {
         "hovertemplate": "<b>%{hovertext}</b><br><br>school_name=P.S. 076 William Hallet<br>survey_pp_tr=%{x}<br>survey_pp_es=%{y}<br>enrollment=%{marker.size}<extra></extra>",
         "hovertext": [
          "P.S. 076 William Hallet"
         ],
         "legendgroup": "P.S. 076 William Hallet",
         "marker": {
          "color": "#19d3f3",
          "size": [
           385
          ],
          "sizemode": "area",
          "sizeref": 2.4125,
          "symbol": "circle"
         },
         "mode": "markers",
         "name": "P.S. 076 William Hallet",
         "orientation": "v",
         "showlegend": true,
         "type": "scatter",
         "x": [
          0.94
         ],
         "xaxis": "x",
         "y": [
          0.87
         ],
         "yaxis": "y"
        },
        {
         "hovertemplate": "<b>%{hovertext}</b><br><br>school_name=P.S. 084 Steinway<br>survey_pp_tr=%{x}<br>survey_pp_es=%{y}<br>enrollment=%{marker.size}<extra></extra>",
         "hovertext": [
          "P.S. 084 Steinway"
         ],
         "legendgroup": "P.S. 084 Steinway",
         "marker": {
          "color": "#FF6692",
          "size": [
           228
          ],
          "sizemode": "area",
          "sizeref": 2.4125,
          "symbol": "circle"
         },
         "mode": "markers",
         "name": "P.S. 084 Steinway",
         "orientation": "v",
         "showlegend": true,
         "type": "scatter",
         "x": [
          0.93
         ],
         "xaxis": "x",
         "y": [
          0.93
         ],
         "yaxis": "y"
        },
        {
         "hovertemplate": "<b>%{hovertext}</b><br><br>school_name=P.S. 085 Judge Charles Vallone<br>survey_pp_tr=%{x}<br>survey_pp_es=%{y}<br>enrollment=%{marker.size}<extra></extra>",
         "hovertext": [
          "P.S. 085 Judge Charles Vallone"
         ],
         "legendgroup": "P.S. 085 Judge Charles Vallone",
         "marker": {
          "color": "#B6E880",
          "size": [
           590
          ],
          "sizemode": "area",
          "sizeref": 2.4125,
          "symbol": "circle"
         },
         "mode": "markers",
         "name": "P.S. 085 Judge Charles Vallone",
         "orientation": "v",
         "showlegend": true,
         "type": "scatter",
         "x": [
          0.8
         ],
         "xaxis": "x",
         "y": [
          0.72
         ],
         "yaxis": "y"
        },
        {
         "hovertemplate": "<b>%{hovertext}</b><br><br>school_name=P.S. 092 Harry T. Stewart Sr.<br>survey_pp_tr=%{x}<br>survey_pp_es=%{y}<br>enrollment=%{marker.size}<extra></extra>",
         "hovertext": [
          "P.S. 092 Harry T. Stewart Sr."
         ],
         "legendgroup": "P.S. 092 Harry T. Stewart Sr.",
         "marker": {
          "color": "#FF97FF",
          "size": [
           811
          ],
          "sizemode": "area",
          "sizeref": 2.4125,
          "symbol": "circle"
         },
         "mode": "markers",
         "name": "P.S. 092 Harry T. Stewart Sr.",
         "orientation": "v",
         "showlegend": true,
         "type": "scatter",
         "x": [
          0.93
         ],
         "xaxis": "x",
         "y": [
          0.88
         ],
         "yaxis": "y"
        },
        {
         "hovertemplate": "<b>%{hovertext}</b><br><br>school_name=P.S. 112 Dutch Kills<br>survey_pp_tr=%{x}<br>survey_pp_es=%{y}<br>enrollment=%{marker.size}<extra></extra>",
         "hovertext": [
          "P.S. 112 Dutch Kills"
         ],
         "legendgroup": "P.S. 112 Dutch Kills",
         "marker": {
          "color": "#FECB52",
          "size": [
           366
          ],
          "sizemode": "area",
          "sizeref": 2.4125,
          "symbol": "circle"
         },
         "mode": "markers",
         "name": "P.S. 112 Dutch Kills",
         "orientation": "v",
         "showlegend": true,
         "type": "scatter",
         "x": [
          0.93
         ],
         "xaxis": "x",
         "y": [
          0.87
         ],
         "yaxis": "y"
        },
        {
         "hovertemplate": "<b>%{hovertext}</b><br><br>school_name=P.S. 148 Queens<br>survey_pp_tr=%{x}<br>survey_pp_es=%{y}<br>enrollment=%{marker.size}<extra></extra>",
         "hovertext": [
          "P.S. 148 Queens"
         ],
         "legendgroup": "P.S. 148 Queens",
         "marker": {
          "color": "#636efa",
          "size": [
           700
          ],
          "sizemode": "area",
          "sizeref": 2.4125,
          "symbol": "circle"
         },
         "mode": "markers",
         "name": "P.S. 148 Queens",
         "orientation": "v",
         "showlegend": true,
         "type": "scatter",
         "x": [
          0.93
         ],
         "xaxis": "x",
         "y": [
          0.86
         ],
         "yaxis": "y"
        },
        {
         "hovertemplate": "<b>%{hovertext}</b><br><br>school_name=P.S. 149 Christa McAuliffe<br>survey_pp_tr=%{x}<br>survey_pp_es=%{y}<br>enrollment=%{marker.size}<extra></extra>",
         "hovertext": [
          "P.S. 149 Christa McAuliffe"
         ],
         "legendgroup": "P.S. 149 Christa McAuliffe",
         "marker": {
          "color": "#EF553B",
          "size": [
           940
          ],
          "sizemode": "area",
          "sizeref": 2.4125,
          "symbol": "circle"
         },
         "mode": "markers",
         "name": "P.S. 149 Christa McAuliffe",
         "orientation": "v",
         "showlegend": true,
         "type": "scatter",
         "x": [
          0.91
         ],
         "xaxis": "x",
         "y": [
          0.86
         ],
         "yaxis": "y"
        },
        {
         "hovertemplate": "<b>%{hovertext}</b><br><br>school_name=P.S. 150 Queens<br>survey_pp_tr=%{x}<br>survey_pp_es=%{y}<br>enrollment=%{marker.size}<extra></extra>",
         "hovertext": [
          "P.S. 150 Queens"
         ],
         "legendgroup": "P.S. 150 Queens",
         "marker": {
          "color": "#00cc96",
          "size": [
           965
          ],
          "sizemode": "area",
          "sizeref": 2.4125,
          "symbol": "circle"
         },
         "mode": "markers",
         "name": "P.S. 150 Queens",
         "orientation": "v",
         "showlegend": true,
         "type": "scatter",
         "x": [
          0.8
         ],
         "xaxis": "x",
         "y": [
          0.75
         ],
         "yaxis": "y"
        },
        {
         "hovertemplate": "<b>%{hovertext}</b><br><br>school_name=P.S. 151 Mary D. Carter<br>survey_pp_tr=%{x}<br>survey_pp_es=%{y}<br>enrollment=%{marker.size}<extra></extra>",
         "hovertext": [
          "P.S. 151 Mary D. Carter"
         ],
         "legendgroup": "P.S. 151 Mary D. Carter",
         "marker": {
          "color": "#ab63fa",
          "size": [
           293
          ],
          "sizemode": "area",
          "sizeref": 2.4125,
          "symbol": "circle"
         },
         "mode": "markers",
         "name": "P.S. 151 Mary D. Carter",
         "orientation": "v",
         "showlegend": true,
         "type": "scatter",
         "x": [
          0.99
         ],
         "xaxis": "x",
         "y": [
          0.97
         ],
         "yaxis": "y"
        },
        {
         "hovertemplate": "<b>%{hovertext}</b><br><br>school_name=P.S. 152 Gwendoline N. Alleyne School<br>survey_pp_tr=%{x}<br>survey_pp_es=%{y}<br>enrollment=%{marker.size}<extra></extra>",
         "hovertext": [
          "P.S. 152 Gwendoline N. Alleyne School"
         ],
         "legendgroup": "P.S. 152 Gwendoline N. Alleyne School",
         "marker": {
          "color": "#FFA15A",
          "size": [
           869
          ],
          "sizemode": "area",
          "sizeref": 2.4125,
          "symbol": "circle"
         },
         "mode": "markers",
         "name": "P.S. 152 Gwendoline N. Alleyne School",
         "orientation": "v",
         "showlegend": true,
         "type": "scatter",
         "x": [
          0.9
         ],
         "xaxis": "x",
         "y": [
          0.84
         ],
         "yaxis": "y"
        },
        {
         "hovertemplate": "<b>%{hovertext}</b><br><br>school_name=P.S. 166 Henry Gradstein<br>survey_pp_tr=%{x}<br>survey_pp_es=%{y}<br>enrollment=%{marker.size}<extra></extra>",
         "hovertext": [
          "P.S. 166 Henry Gradstein"
         ],
         "legendgroup": "P.S. 166 Henry Gradstein",
         "marker": {
          "color": "#19d3f3",
          "size": [
           914
          ],
          "sizemode": "area",
          "sizeref": 2.4125,
          "symbol": "circle"
         },
         "mode": "markers",
         "name": "P.S. 166 Henry Gradstein",
         "orientation": "v",
         "showlegend": true,
         "type": "scatter",
         "x": [
          0.93
         ],
         "xaxis": "x",
         "y": [
          0.9
         ],
         "yaxis": "y"
        },
        {
         "hovertemplate": "<b>%{hovertext}</b><br><br>school_name=P.S. 171 Peter G. Van Alst<br>survey_pp_tr=%{x}<br>survey_pp_es=%{y}<br>enrollment=%{marker.size}<extra></extra>",
         "hovertext": [
          "P.S. 171 Peter G. Van Alst"
         ],
         "legendgroup": "P.S. 171 Peter G. Van Alst",
         "marker": {
          "color": "#FF6692",
          "size": [
           382
          ],
          "sizemode": "area",
          "sizeref": 2.4125,
          "symbol": "circle"
         },
         "mode": "markers",
         "name": "P.S. 171 Peter G. Van Alst",
         "orientation": "v",
         "showlegend": true,
         "type": "scatter",
         "x": [
          0.94
         ],
         "xaxis": "x",
         "y": [
          0.87
         ],
         "yaxis": "y"
        },
        {
         "hovertemplate": "<b>%{hovertext}</b><br><br>school_name=P.S. 212<br>survey_pp_tr=%{x}<br>survey_pp_es=%{y}<br>enrollment=%{marker.size}<extra></extra>",
         "hovertext": [
          "P.S. 212"
         ],
         "legendgroup": "P.S. 212",
         "marker": {
          "color": "#B6E880",
          "size": [
           721
          ],
          "sizemode": "area",
          "sizeref": 2.4125,
          "symbol": "circle"
         },
         "mode": "markers",
         "name": "P.S. 212",
         "orientation": "v",
         "showlegend": true,
         "type": "scatter",
         "x": [
          0.92
         ],
         "xaxis": "x",
         "y": [
          0.86
         ],
         "yaxis": "y"
        },
        {
         "hovertemplate": "<b>%{hovertext}</b><br><br>school_name=P.S. 234<br>survey_pp_tr=%{x}<br>survey_pp_es=%{y}<br>enrollment=%{marker.size}<extra></extra>",
         "hovertext": [
          "P.S. 234"
         ],
         "legendgroup": "P.S. 234",
         "marker": {
          "color": "#FF97FF",
          "size": [
           420
          ],
          "sizemode": "area",
          "sizeref": 2.4125,
          "symbol": "circle"
         },
         "mode": "markers",
         "name": "P.S. 234",
         "orientation": "v",
         "showlegend": true,
         "type": "scatter",
         "x": [
          0.86
         ],
         "xaxis": "x",
         "y": [
          0.87
         ],
         "yaxis": "y"
        },
        {
         "hovertemplate": "<b>%{hovertext}</b><br><br>school_name=P.S. 280<br>survey_pp_tr=%{x}<br>survey_pp_es=%{y}<br>enrollment=%{marker.size}<extra></extra>",
         "hovertext": [
          "P.S. 280"
         ],
         "legendgroup": "P.S. 280",
         "marker": {
          "color": "#FECB52",
          "size": [
           575
          ],
          "sizemode": "area",
          "sizeref": 2.4125,
          "symbol": "circle"
         },
         "mode": "markers",
         "name": "P.S. 280",
         "orientation": "v",
         "showlegend": true,
         "type": "scatter",
         "x": [
          0.92
         ],
         "xaxis": "x",
         "y": [
          0.87
         ],
         "yaxis": "y"
        },
        {
         "hovertemplate": "<b>%{hovertext}</b><br><br>school_name=East Elmhurst Community School<br>survey_pp_tr=%{x}<br>survey_pp_es=%{y}<br>enrollment=%{marker.size}<extra></extra>",
         "hovertext": [
          "East Elmhurst Community School"
         ],
         "legendgroup": "East Elmhurst Community School",
         "marker": {
          "color": "#636efa",
          "size": [
           448
          ],
          "sizemode": "area",
          "sizeref": 2.4125,
          "symbol": "circle"
         },
         "mode": "markers",
         "name": "East Elmhurst Community School",
         "orientation": "v",
         "showlegend": true,
         "type": "scatter",
         "x": [
          0.95
         ],
         "xaxis": "x",
         "y": [
          0.97
         ],
         "yaxis": "y"
        },
        {
         "hovertemplate": "<b>%{hovertext}</b><br><br>school_name=The Woodside Community School<br>survey_pp_tr=%{x}<br>survey_pp_es=%{y}<br>enrollment=%{marker.size}<extra></extra>",
         "hovertext": [
          "The Woodside Community School"
         ],
         "legendgroup": "The Woodside Community School",
         "marker": {
          "color": "#EF553B",
          "size": [
           366
          ],
          "sizemode": "area",
          "sizeref": 2.4125,
          "symbol": "circle"
         },
         "mode": "markers",
         "name": "The Woodside Community School",
         "orientation": "v",
         "showlegend": true,
         "type": "scatter",
         "x": [
          0.96
         ],
         "xaxis": "x",
         "y": [
          0.92
         ],
         "yaxis": "y"
        }
       ],
       "layout": {
        "legend": {
         "itemsizing": "constant",
         "title": {
          "text": "school_name"
         },
         "tracegroupgap": 0
        },
        "margin": {
         "t": 60
        },
        "template": {
         "data": {
          "bar": [
           {
            "error_x": {
             "color": "#2a3f5f"
            },
            "error_y": {
             "color": "#2a3f5f"
            },
            "marker": {
             "line": {
              "color": "#E5ECF6",
              "width": 0.5
             },
             "pattern": {
              "fillmode": "overlay",
              "size": 10,
              "solidity": 0.2
             }
            },
            "type": "bar"
           }
          ],
          "barpolar": [
           {
            "marker": {
             "line": {
              "color": "#E5ECF6",
              "width": 0.5
             },
             "pattern": {
              "fillmode": "overlay",
              "size": 10,
              "solidity": 0.2
             }
            },
            "type": "barpolar"
           }
          ],
          "carpet": [
           {
            "aaxis": {
             "endlinecolor": "#2a3f5f",
             "gridcolor": "white",
             "linecolor": "white",
             "minorgridcolor": "white",
             "startlinecolor": "#2a3f5f"
            },
            "baxis": {
             "endlinecolor": "#2a3f5f",
             "gridcolor": "white",
             "linecolor": "white",
             "minorgridcolor": "white",
             "startlinecolor": "#2a3f5f"
            },
            "type": "carpet"
           }
          ],
          "choropleth": [
           {
            "colorbar": {
             "outlinewidth": 0,
             "ticks": ""
            },
            "type": "choropleth"
           }
          ],
          "contour": [
           {
            "colorbar": {
             "outlinewidth": 0,
             "ticks": ""
            },
            "colorscale": [
             [
              0,
              "#0d0887"
             ],
             [
              0.1111111111111111,
              "#46039f"
             ],
             [
              0.2222222222222222,
              "#7201a8"
             ],
             [
              0.3333333333333333,
              "#9c179e"
             ],
             [
              0.4444444444444444,
              "#bd3786"
             ],
             [
              0.5555555555555556,
              "#d8576b"
             ],
             [
              0.6666666666666666,
              "#ed7953"
             ],
             [
              0.7777777777777778,
              "#fb9f3a"
             ],
             [
              0.8888888888888888,
              "#fdca26"
             ],
             [
              1,
              "#f0f921"
             ]
            ],
            "type": "contour"
           }
          ],
          "contourcarpet": [
           {
            "colorbar": {
             "outlinewidth": 0,
             "ticks": ""
            },
            "type": "contourcarpet"
           }
          ],
          "heatmap": [
           {
            "colorbar": {
             "outlinewidth": 0,
             "ticks": ""
            },
            "colorscale": [
             [
              0,
              "#0d0887"
             ],
             [
              0.1111111111111111,
              "#46039f"
             ],
             [
              0.2222222222222222,
              "#7201a8"
             ],
             [
              0.3333333333333333,
              "#9c179e"
             ],
             [
              0.4444444444444444,
              "#bd3786"
             ],
             [
              0.5555555555555556,
              "#d8576b"
             ],
             [
              0.6666666666666666,
              "#ed7953"
             ],
             [
              0.7777777777777778,
              "#fb9f3a"
             ],
             [
              0.8888888888888888,
              "#fdca26"
             ],
             [
              1,
              "#f0f921"
             ]
            ],
            "type": "heatmap"
           }
          ],
          "heatmapgl": [
           {
            "colorbar": {
             "outlinewidth": 0,
             "ticks": ""
            },
            "colorscale": [
             [
              0,
              "#0d0887"
             ],
             [
              0.1111111111111111,
              "#46039f"
             ],
             [
              0.2222222222222222,
              "#7201a8"
             ],
             [
              0.3333333333333333,
              "#9c179e"
             ],
             [
              0.4444444444444444,
              "#bd3786"
             ],
             [
              0.5555555555555556,
              "#d8576b"
             ],
             [
              0.6666666666666666,
              "#ed7953"
             ],
             [
              0.7777777777777778,
              "#fb9f3a"
             ],
             [
              0.8888888888888888,
              "#fdca26"
             ],
             [
              1,
              "#f0f921"
             ]
            ],
            "type": "heatmapgl"
           }
          ],
          "histogram": [
           {
            "marker": {
             "pattern": {
              "fillmode": "overlay",
              "size": 10,
              "solidity": 0.2
             }
            },
            "type": "histogram"
           }
          ],
          "histogram2d": [
           {
            "colorbar": {
             "outlinewidth": 0,
             "ticks": ""
            },
            "colorscale": [
             [
              0,
              "#0d0887"
             ],
             [
              0.1111111111111111,
              "#46039f"
             ],
             [
              0.2222222222222222,
              "#7201a8"
             ],
             [
              0.3333333333333333,
              "#9c179e"
             ],
             [
              0.4444444444444444,
              "#bd3786"
             ],
             [
              0.5555555555555556,
              "#d8576b"
             ],
             [
              0.6666666666666666,
              "#ed7953"
             ],
             [
              0.7777777777777778,
              "#fb9f3a"
             ],
             [
              0.8888888888888888,
              "#fdca26"
             ],
             [
              1,
              "#f0f921"
             ]
            ],
            "type": "histogram2d"
           }
          ],
          "histogram2dcontour": [
           {
            "colorbar": {
             "outlinewidth": 0,
             "ticks": ""
            },
            "colorscale": [
             [
              0,
              "#0d0887"
             ],
             [
              0.1111111111111111,
              "#46039f"
             ],
             [
              0.2222222222222222,
              "#7201a8"
             ],
             [
              0.3333333333333333,
              "#9c179e"
             ],
             [
              0.4444444444444444,
              "#bd3786"
             ],
             [
              0.5555555555555556,
              "#d8576b"
             ],
             [
              0.6666666666666666,
              "#ed7953"
             ],
             [
              0.7777777777777778,
              "#fb9f3a"
             ],
             [
              0.8888888888888888,
              "#fdca26"
             ],
             [
              1,
              "#f0f921"
             ]
            ],
            "type": "histogram2dcontour"
           }
          ],
          "mesh3d": [
           {
            "colorbar": {
             "outlinewidth": 0,
             "ticks": ""
            },
            "type": "mesh3d"
           }
          ],
          "parcoords": [
           {
            "line": {
             "colorbar": {
              "outlinewidth": 0,
              "ticks": ""
             }
            },
            "type": "parcoords"
           }
          ],
          "pie": [
           {
            "automargin": true,
            "type": "pie"
           }
          ],
          "scatter": [
           {
            "marker": {
             "colorbar": {
              "outlinewidth": 0,
              "ticks": ""
             }
            },
            "type": "scatter"
           }
          ],
          "scatter3d": [
           {
            "line": {
             "colorbar": {
              "outlinewidth": 0,
              "ticks": ""
             }
            },
            "marker": {
             "colorbar": {
              "outlinewidth": 0,
              "ticks": ""
             }
            },
            "type": "scatter3d"
           }
          ],
          "scattercarpet": [
           {
            "marker": {
             "colorbar": {
              "outlinewidth": 0,
              "ticks": ""
             }
            },
            "type": "scattercarpet"
           }
          ],
          "scattergeo": [
           {
            "marker": {
             "colorbar": {
              "outlinewidth": 0,
              "ticks": ""
             }
            },
            "type": "scattergeo"
           }
          ],
          "scattergl": [
           {
            "marker": {
             "colorbar": {
              "outlinewidth": 0,
              "ticks": ""
             }
            },
            "type": "scattergl"
           }
          ],
          "scattermapbox": [
           {
            "marker": {
             "colorbar": {
              "outlinewidth": 0,
              "ticks": ""
             }
            },
            "type": "scattermapbox"
           }
          ],
          "scatterpolar": [
           {
            "marker": {
             "colorbar": {
              "outlinewidth": 0,
              "ticks": ""
             }
            },
            "type": "scatterpolar"
           }
          ],
          "scatterpolargl": [
           {
            "marker": {
             "colorbar": {
              "outlinewidth": 0,
              "ticks": ""
             }
            },
            "type": "scatterpolargl"
           }
          ],
          "scatterternary": [
           {
            "marker": {
             "colorbar": {
              "outlinewidth": 0,
              "ticks": ""
             }
            },
            "type": "scatterternary"
           }
          ],
          "surface": [
           {
            "colorbar": {
             "outlinewidth": 0,
             "ticks": ""
            },
            "colorscale": [
             [
              0,
              "#0d0887"
             ],
             [
              0.1111111111111111,
              "#46039f"
             ],
             [
              0.2222222222222222,
              "#7201a8"
             ],
             [
              0.3333333333333333,
              "#9c179e"
             ],
             [
              0.4444444444444444,
              "#bd3786"
             ],
             [
              0.5555555555555556,
              "#d8576b"
             ],
             [
              0.6666666666666666,
              "#ed7953"
             ],
             [
              0.7777777777777778,
              "#fb9f3a"
             ],
             [
              0.8888888888888888,
              "#fdca26"
             ],
             [
              1,
              "#f0f921"
             ]
            ],
            "type": "surface"
           }
          ],
          "table": [
           {
            "cells": {
             "fill": {
              "color": "#EBF0F8"
             },
             "line": {
              "color": "white"
             }
            },
            "header": {
             "fill": {
              "color": "#C8D4E3"
             },
             "line": {
              "color": "white"
             }
            },
            "type": "table"
           }
          ]
         },
         "layout": {
          "annotationdefaults": {
           "arrowcolor": "#2a3f5f",
           "arrowhead": 0,
           "arrowwidth": 1
          },
          "autotypenumbers": "strict",
          "coloraxis": {
           "colorbar": {
            "outlinewidth": 0,
            "ticks": ""
           }
          },
          "colorscale": {
           "diverging": [
            [
             0,
             "#8e0152"
            ],
            [
             0.1,
             "#c51b7d"
            ],
            [
             0.2,
             "#de77ae"
            ],
            [
             0.3,
             "#f1b6da"
            ],
            [
             0.4,
             "#fde0ef"
            ],
            [
             0.5,
             "#f7f7f7"
            ],
            [
             0.6,
             "#e6f5d0"
            ],
            [
             0.7,
             "#b8e186"
            ],
            [
             0.8,
             "#7fbc41"
            ],
            [
             0.9,
             "#4d9221"
            ],
            [
             1,
             "#276419"
            ]
           ],
           "sequential": [
            [
             0,
             "#0d0887"
            ],
            [
             0.1111111111111111,
             "#46039f"
            ],
            [
             0.2222222222222222,
             "#7201a8"
            ],
            [
             0.3333333333333333,
             "#9c179e"
            ],
            [
             0.4444444444444444,
             "#bd3786"
            ],
            [
             0.5555555555555556,
             "#d8576b"
            ],
            [
             0.6666666666666666,
             "#ed7953"
            ],
            [
             0.7777777777777778,
             "#fb9f3a"
            ],
            [
             0.8888888888888888,
             "#fdca26"
            ],
            [
             1,
             "#f0f921"
            ]
           ],
           "sequentialminus": [
            [
             0,
             "#0d0887"
            ],
            [
             0.1111111111111111,
             "#46039f"
            ],
            [
             0.2222222222222222,
             "#7201a8"
            ],
            [
             0.3333333333333333,
             "#9c179e"
            ],
            [
             0.4444444444444444,
             "#bd3786"
            ],
            [
             0.5555555555555556,
             "#d8576b"
            ],
            [
             0.6666666666666666,
             "#ed7953"
            ],
            [
             0.7777777777777778,
             "#fb9f3a"
            ],
            [
             0.8888888888888888,
             "#fdca26"
            ],
            [
             1,
             "#f0f921"
            ]
           ]
          },
          "colorway": [
           "#636efa",
           "#EF553B",
           "#00cc96",
           "#ab63fa",
           "#FFA15A",
           "#19d3f3",
           "#FF6692",
           "#B6E880",
           "#FF97FF",
           "#FECB52"
          ],
          "font": {
           "color": "#2a3f5f"
          },
          "geo": {
           "bgcolor": "white",
           "lakecolor": "white",
           "landcolor": "#E5ECF6",
           "showlakes": true,
           "showland": true,
           "subunitcolor": "white"
          },
          "hoverlabel": {
           "align": "left"
          },
          "hovermode": "closest",
          "mapbox": {
           "style": "light"
          },
          "paper_bgcolor": "white",
          "plot_bgcolor": "#E5ECF6",
          "polar": {
           "angularaxis": {
            "gridcolor": "white",
            "linecolor": "white",
            "ticks": ""
           },
           "bgcolor": "#E5ECF6",
           "radialaxis": {
            "gridcolor": "white",
            "linecolor": "white",
            "ticks": ""
           }
          },
          "scene": {
           "xaxis": {
            "backgroundcolor": "#E5ECF6",
            "gridcolor": "white",
            "gridwidth": 2,
            "linecolor": "white",
            "showbackground": true,
            "ticks": "",
            "zerolinecolor": "white"
           },
           "yaxis": {
            "backgroundcolor": "#E5ECF6",
            "gridcolor": "white",
            "gridwidth": 2,
            "linecolor": "white",
            "showbackground": true,
            "ticks": "",
            "zerolinecolor": "white"
           },
           "zaxis": {
            "backgroundcolor": "#E5ECF6",
            "gridcolor": "white",
            "gridwidth": 2,
            "linecolor": "white",
            "showbackground": true,
            "ticks": "",
            "zerolinecolor": "white"
           }
          },
          "shapedefaults": {
           "line": {
            "color": "#2a3f5f"
           }
          },
          "ternary": {
           "aaxis": {
            "gridcolor": "white",
            "linecolor": "white",
            "ticks": ""
           },
           "baxis": {
            "gridcolor": "white",
            "linecolor": "white",
            "ticks": ""
           },
           "bgcolor": "#E5ECF6",
           "caxis": {
            "gridcolor": "white",
            "linecolor": "white",
            "ticks": ""
           }
          },
          "title": {
           "x": 0.05
          },
          "xaxis": {
           "automargin": true,
           "gridcolor": "white",
           "linecolor": "white",
           "ticks": "",
           "title": {
            "standoff": 15
           },
           "zerolinecolor": "white",
           "zerolinewidth": 2
          },
          "yaxis": {
           "automargin": true,
           "gridcolor": "white",
           "linecolor": "white",
           "ticks": "",
           "title": {
            "standoff": 15
           },
           "zerolinecolor": "white",
           "zerolinewidth": 2
          }
         }
        },
        "xaxis": {
         "anchor": "y",
         "domain": [
          0,
          1
         ],
         "title": {
          "text": "survey_pp_tr"
         }
        },
        "yaxis": {
         "anchor": "x",
         "domain": [
          0,
          1
         ],
         "title": {
          "text": "survey_pp_es"
         }
        }
       }
      },
      "text/html": [
       "<div>                            <div id=\"f97dd489-b1e2-4bdb-a422-44a7d6610653\" class=\"plotly-graph-div\" style=\"height:525px; width:100%;\"></div>            <script type=\"text/javascript\">                require([\"plotly\"], function(Plotly) {                    window.PLOTLYENV=window.PLOTLYENV || {};                                    if (document.getElementById(\"f97dd489-b1e2-4bdb-a422-44a7d6610653\")) {                    Plotly.newPlot(                        \"f97dd489-b1e2-4bdb-a422-44a7d6610653\",                        [{\"hovertemplate\":\"<b>%{hovertext}</b><br><br>school_name=P.S. 002 Alfred Zimberg<br>survey_pp_tr=%{x}<br>survey_pp_es=%{y}<br>enrollment=%{marker.size}<extra></extra>\",\"hovertext\":[\"P.S. 002 Alfred Zimberg\"],\"legendgroup\":\"P.S. 002 Alfred Zimberg\",\"marker\":{\"color\":\"#636efa\",\"size\":[533],\"sizemode\":\"area\",\"sizeref\":2.4125,\"symbol\":\"circle\"},\"mode\":\"markers\",\"name\":\"P.S. 002 Alfred Zimberg\",\"orientation\":\"v\",\"showlegend\":true,\"x\":[0.9],\"xaxis\":\"x\",\"y\":[0.89],\"yaxis\":\"y\",\"type\":\"scatter\"},{\"hovertemplate\":\"<b>%{hovertext}</b><br><br>school_name=P.S. 011 Kathryn Phelan<br>survey_pp_tr=%{x}<br>survey_pp_es=%{y}<br>enrollment=%{marker.size}<extra></extra>\",\"hovertext\":[\"P.S. 011 Kathryn Phelan\"],\"legendgroup\":\"P.S. 011 Kathryn Phelan\",\"marker\":{\"color\":\"#EF553B\",\"size\":[906],\"sizemode\":\"area\",\"sizeref\":2.4125,\"symbol\":\"circle\"},\"mode\":\"markers\",\"name\":\"P.S. 011 Kathryn Phelan\",\"orientation\":\"v\",\"showlegend\":true,\"x\":[0.93],\"xaxis\":\"x\",\"y\":[0.84],\"yaxis\":\"y\",\"type\":\"scatter\"},{\"hovertemplate\":\"<b>%{hovertext}</b><br><br>school_name=P.S. 017 Henry David Thoreau<br>survey_pp_tr=%{x}<br>survey_pp_es=%{y}<br>enrollment=%{marker.size}<extra></extra>\",\"hovertext\":[\"P.S. 017 Henry David Thoreau\"],\"legendgroup\":\"P.S. 017 Henry David Thoreau\",\"marker\":{\"color\":\"#00cc96\",\"size\":[537],\"sizemode\":\"area\",\"sizeref\":2.4125,\"symbol\":\"circle\"},\"mode\":\"markers\",\"name\":\"P.S. 017 Henry David Thoreau\",\"orientation\":\"v\",\"showlegend\":true,\"x\":[0.94],\"xaxis\":\"x\",\"y\":[0.87],\"yaxis\":\"y\",\"type\":\"scatter\"},{\"hovertemplate\":\"<b>%{hovertext}</b><br><br>school_name=P.S. 069 Jackson Heights<br>survey_pp_tr=%{x}<br>survey_pp_es=%{y}<br>enrollment=%{marker.size}<extra></extra>\",\"hovertext\":[\"P.S. 069 Jackson Heights\"],\"legendgroup\":\"P.S. 069 Jackson Heights\",\"marker\":{\"color\":\"#ab63fa\",\"size\":[909],\"sizemode\":\"area\",\"sizeref\":2.4125,\"symbol\":\"circle\"},\"mode\":\"markers\",\"name\":\"P.S. 069 Jackson Heights\",\"orientation\":\"v\",\"showlegend\":true,\"x\":[0.96],\"xaxis\":\"x\",\"y\":[0.91],\"yaxis\":\"y\",\"type\":\"scatter\"},{\"hovertemplate\":\"<b>%{hovertext}</b><br><br>school_name=P.S. 070<br>survey_pp_tr=%{x}<br>survey_pp_es=%{y}<br>enrollment=%{marker.size}<extra></extra>\",\"hovertext\":[\"P.S. 070\"],\"legendgroup\":\"P.S. 070\",\"marker\":{\"color\":\"#FFA15A\",\"size\":[728],\"sizemode\":\"area\",\"sizeref\":2.4125,\"symbol\":\"circle\"},\"mode\":\"markers\",\"name\":\"P.S. 070\",\"orientation\":\"v\",\"showlegend\":true,\"x\":[0.96],\"xaxis\":\"x\",\"y\":[0.93],\"yaxis\":\"y\",\"type\":\"scatter\"},{\"hovertemplate\":\"<b>%{hovertext}</b><br><br>school_name=P.S. 076 William Hallet<br>survey_pp_tr=%{x}<br>survey_pp_es=%{y}<br>enrollment=%{marker.size}<extra></extra>\",\"hovertext\":[\"P.S. 076 William Hallet\"],\"legendgroup\":\"P.S. 076 William Hallet\",\"marker\":{\"color\":\"#19d3f3\",\"size\":[385],\"sizemode\":\"area\",\"sizeref\":2.4125,\"symbol\":\"circle\"},\"mode\":\"markers\",\"name\":\"P.S. 076 William Hallet\",\"orientation\":\"v\",\"showlegend\":true,\"x\":[0.94],\"xaxis\":\"x\",\"y\":[0.87],\"yaxis\":\"y\",\"type\":\"scatter\"},{\"hovertemplate\":\"<b>%{hovertext}</b><br><br>school_name=P.S. 084 Steinway<br>survey_pp_tr=%{x}<br>survey_pp_es=%{y}<br>enrollment=%{marker.size}<extra></extra>\",\"hovertext\":[\"P.S. 084 Steinway\"],\"legendgroup\":\"P.S. 084 Steinway\",\"marker\":{\"color\":\"#FF6692\",\"size\":[228],\"sizemode\":\"area\",\"sizeref\":2.4125,\"symbol\":\"circle\"},\"mode\":\"markers\",\"name\":\"P.S. 084 Steinway\",\"orientation\":\"v\",\"showlegend\":true,\"x\":[0.93],\"xaxis\":\"x\",\"y\":[0.93],\"yaxis\":\"y\",\"type\":\"scatter\"},{\"hovertemplate\":\"<b>%{hovertext}</b><br><br>school_name=P.S. 085 Judge Charles Vallone<br>survey_pp_tr=%{x}<br>survey_pp_es=%{y}<br>enrollment=%{marker.size}<extra></extra>\",\"hovertext\":[\"P.S. 085 Judge Charles Vallone\"],\"legendgroup\":\"P.S. 085 Judge Charles Vallone\",\"marker\":{\"color\":\"#B6E880\",\"size\":[590],\"sizemode\":\"area\",\"sizeref\":2.4125,\"symbol\":\"circle\"},\"mode\":\"markers\",\"name\":\"P.S. 085 Judge Charles Vallone\",\"orientation\":\"v\",\"showlegend\":true,\"x\":[0.8],\"xaxis\":\"x\",\"y\":[0.72],\"yaxis\":\"y\",\"type\":\"scatter\"},{\"hovertemplate\":\"<b>%{hovertext}</b><br><br>school_name=P.S. 092 Harry T. Stewart Sr.<br>survey_pp_tr=%{x}<br>survey_pp_es=%{y}<br>enrollment=%{marker.size}<extra></extra>\",\"hovertext\":[\"P.S. 092 Harry T. Stewart Sr.\"],\"legendgroup\":\"P.S. 092 Harry T. Stewart Sr.\",\"marker\":{\"color\":\"#FF97FF\",\"size\":[811],\"sizemode\":\"area\",\"sizeref\":2.4125,\"symbol\":\"circle\"},\"mode\":\"markers\",\"name\":\"P.S. 092 Harry T. Stewart Sr.\",\"orientation\":\"v\",\"showlegend\":true,\"x\":[0.93],\"xaxis\":\"x\",\"y\":[0.88],\"yaxis\":\"y\",\"type\":\"scatter\"},{\"hovertemplate\":\"<b>%{hovertext}</b><br><br>school_name=P.S. 112 Dutch Kills<br>survey_pp_tr=%{x}<br>survey_pp_es=%{y}<br>enrollment=%{marker.size}<extra></extra>\",\"hovertext\":[\"P.S. 112 Dutch Kills\"],\"legendgroup\":\"P.S. 112 Dutch Kills\",\"marker\":{\"color\":\"#FECB52\",\"size\":[366],\"sizemode\":\"area\",\"sizeref\":2.4125,\"symbol\":\"circle\"},\"mode\":\"markers\",\"name\":\"P.S. 112 Dutch Kills\",\"orientation\":\"v\",\"showlegend\":true,\"x\":[0.93],\"xaxis\":\"x\",\"y\":[0.87],\"yaxis\":\"y\",\"type\":\"scatter\"},{\"hovertemplate\":\"<b>%{hovertext}</b><br><br>school_name=P.S. 148 Queens<br>survey_pp_tr=%{x}<br>survey_pp_es=%{y}<br>enrollment=%{marker.size}<extra></extra>\",\"hovertext\":[\"P.S. 148 Queens\"],\"legendgroup\":\"P.S. 148 Queens\",\"marker\":{\"color\":\"#636efa\",\"size\":[700],\"sizemode\":\"area\",\"sizeref\":2.4125,\"symbol\":\"circle\"},\"mode\":\"markers\",\"name\":\"P.S. 148 Queens\",\"orientation\":\"v\",\"showlegend\":true,\"x\":[0.93],\"xaxis\":\"x\",\"y\":[0.86],\"yaxis\":\"y\",\"type\":\"scatter\"},{\"hovertemplate\":\"<b>%{hovertext}</b><br><br>school_name=P.S. 149 Christa McAuliffe<br>survey_pp_tr=%{x}<br>survey_pp_es=%{y}<br>enrollment=%{marker.size}<extra></extra>\",\"hovertext\":[\"P.S. 149 Christa McAuliffe\"],\"legendgroup\":\"P.S. 149 Christa McAuliffe\",\"marker\":{\"color\":\"#EF553B\",\"size\":[940],\"sizemode\":\"area\",\"sizeref\":2.4125,\"symbol\":\"circle\"},\"mode\":\"markers\",\"name\":\"P.S. 149 Christa McAuliffe\",\"orientation\":\"v\",\"showlegend\":true,\"x\":[0.91],\"xaxis\":\"x\",\"y\":[0.86],\"yaxis\":\"y\",\"type\":\"scatter\"},{\"hovertemplate\":\"<b>%{hovertext}</b><br><br>school_name=P.S. 150 Queens<br>survey_pp_tr=%{x}<br>survey_pp_es=%{y}<br>enrollment=%{marker.size}<extra></extra>\",\"hovertext\":[\"P.S. 150 Queens\"],\"legendgroup\":\"P.S. 150 Queens\",\"marker\":{\"color\":\"#00cc96\",\"size\":[965],\"sizemode\":\"area\",\"sizeref\":2.4125,\"symbol\":\"circle\"},\"mode\":\"markers\",\"name\":\"P.S. 150 Queens\",\"orientation\":\"v\",\"showlegend\":true,\"x\":[0.8],\"xaxis\":\"x\",\"y\":[0.75],\"yaxis\":\"y\",\"type\":\"scatter\"},{\"hovertemplate\":\"<b>%{hovertext}</b><br><br>school_name=P.S. 151 Mary D. Carter<br>survey_pp_tr=%{x}<br>survey_pp_es=%{y}<br>enrollment=%{marker.size}<extra></extra>\",\"hovertext\":[\"P.S. 151 Mary D. Carter\"],\"legendgroup\":\"P.S. 151 Mary D. Carter\",\"marker\":{\"color\":\"#ab63fa\",\"size\":[293],\"sizemode\":\"area\",\"sizeref\":2.4125,\"symbol\":\"circle\"},\"mode\":\"markers\",\"name\":\"P.S. 151 Mary D. Carter\",\"orientation\":\"v\",\"showlegend\":true,\"x\":[0.99],\"xaxis\":\"x\",\"y\":[0.97],\"yaxis\":\"y\",\"type\":\"scatter\"},{\"hovertemplate\":\"<b>%{hovertext}</b><br><br>school_name=P.S. 152 Gwendoline N. Alleyne School<br>survey_pp_tr=%{x}<br>survey_pp_es=%{y}<br>enrollment=%{marker.size}<extra></extra>\",\"hovertext\":[\"P.S. 152 Gwendoline N. Alleyne School\"],\"legendgroup\":\"P.S. 152 Gwendoline N. Alleyne School\",\"marker\":{\"color\":\"#FFA15A\",\"size\":[869],\"sizemode\":\"area\",\"sizeref\":2.4125,\"symbol\":\"circle\"},\"mode\":\"markers\",\"name\":\"P.S. 152 Gwendoline N. Alleyne School\",\"orientation\":\"v\",\"showlegend\":true,\"x\":[0.9],\"xaxis\":\"x\",\"y\":[0.84],\"yaxis\":\"y\",\"type\":\"scatter\"},{\"hovertemplate\":\"<b>%{hovertext}</b><br><br>school_name=P.S. 166 Henry Gradstein<br>survey_pp_tr=%{x}<br>survey_pp_es=%{y}<br>enrollment=%{marker.size}<extra></extra>\",\"hovertext\":[\"P.S. 166 Henry Gradstein\"],\"legendgroup\":\"P.S. 166 Henry Gradstein\",\"marker\":{\"color\":\"#19d3f3\",\"size\":[914],\"sizemode\":\"area\",\"sizeref\":2.4125,\"symbol\":\"circle\"},\"mode\":\"markers\",\"name\":\"P.S. 166 Henry Gradstein\",\"orientation\":\"v\",\"showlegend\":true,\"x\":[0.93],\"xaxis\":\"x\",\"y\":[0.9],\"yaxis\":\"y\",\"type\":\"scatter\"},{\"hovertemplate\":\"<b>%{hovertext}</b><br><br>school_name=P.S. 171 Peter G. Van Alst<br>survey_pp_tr=%{x}<br>survey_pp_es=%{y}<br>enrollment=%{marker.size}<extra></extra>\",\"hovertext\":[\"P.S. 171 Peter G. Van Alst\"],\"legendgroup\":\"P.S. 171 Peter G. Van Alst\",\"marker\":{\"color\":\"#FF6692\",\"size\":[382],\"sizemode\":\"area\",\"sizeref\":2.4125,\"symbol\":\"circle\"},\"mode\":\"markers\",\"name\":\"P.S. 171 Peter G. Van Alst\",\"orientation\":\"v\",\"showlegend\":true,\"x\":[0.94],\"xaxis\":\"x\",\"y\":[0.87],\"yaxis\":\"y\",\"type\":\"scatter\"},{\"hovertemplate\":\"<b>%{hovertext}</b><br><br>school_name=P.S. 212<br>survey_pp_tr=%{x}<br>survey_pp_es=%{y}<br>enrollment=%{marker.size}<extra></extra>\",\"hovertext\":[\"P.S. 212\"],\"legendgroup\":\"P.S. 212\",\"marker\":{\"color\":\"#B6E880\",\"size\":[721],\"sizemode\":\"area\",\"sizeref\":2.4125,\"symbol\":\"circle\"},\"mode\":\"markers\",\"name\":\"P.S. 212\",\"orientation\":\"v\",\"showlegend\":true,\"x\":[0.92],\"xaxis\":\"x\",\"y\":[0.86],\"yaxis\":\"y\",\"type\":\"scatter\"},{\"hovertemplate\":\"<b>%{hovertext}</b><br><br>school_name=P.S. 234<br>survey_pp_tr=%{x}<br>survey_pp_es=%{y}<br>enrollment=%{marker.size}<extra></extra>\",\"hovertext\":[\"P.S. 234\"],\"legendgroup\":\"P.S. 234\",\"marker\":{\"color\":\"#FF97FF\",\"size\":[420],\"sizemode\":\"area\",\"sizeref\":2.4125,\"symbol\":\"circle\"},\"mode\":\"markers\",\"name\":\"P.S. 234\",\"orientation\":\"v\",\"showlegend\":true,\"x\":[0.86],\"xaxis\":\"x\",\"y\":[0.87],\"yaxis\":\"y\",\"type\":\"scatter\"},{\"hovertemplate\":\"<b>%{hovertext}</b><br><br>school_name=P.S. 280<br>survey_pp_tr=%{x}<br>survey_pp_es=%{y}<br>enrollment=%{marker.size}<extra></extra>\",\"hovertext\":[\"P.S. 280\"],\"legendgroup\":\"P.S. 280\",\"marker\":{\"color\":\"#FECB52\",\"size\":[575],\"sizemode\":\"area\",\"sizeref\":2.4125,\"symbol\":\"circle\"},\"mode\":\"markers\",\"name\":\"P.S. 280\",\"orientation\":\"v\",\"showlegend\":true,\"x\":[0.92],\"xaxis\":\"x\",\"y\":[0.87],\"yaxis\":\"y\",\"type\":\"scatter\"},{\"hovertemplate\":\"<b>%{hovertext}</b><br><br>school_name=East Elmhurst Community School<br>survey_pp_tr=%{x}<br>survey_pp_es=%{y}<br>enrollment=%{marker.size}<extra></extra>\",\"hovertext\":[\"East Elmhurst Community School\"],\"legendgroup\":\"East Elmhurst Community School\",\"marker\":{\"color\":\"#636efa\",\"size\":[448],\"sizemode\":\"area\",\"sizeref\":2.4125,\"symbol\":\"circle\"},\"mode\":\"markers\",\"name\":\"East Elmhurst Community School\",\"orientation\":\"v\",\"showlegend\":true,\"x\":[0.95],\"xaxis\":\"x\",\"y\":[0.97],\"yaxis\":\"y\",\"type\":\"scatter\"},{\"hovertemplate\":\"<b>%{hovertext}</b><br><br>school_name=The Woodside Community School<br>survey_pp_tr=%{x}<br>survey_pp_es=%{y}<br>enrollment=%{marker.size}<extra></extra>\",\"hovertext\":[\"The Woodside Community School\"],\"legendgroup\":\"The Woodside Community School\",\"marker\":{\"color\":\"#EF553B\",\"size\":[366],\"sizemode\":\"area\",\"sizeref\":2.4125,\"symbol\":\"circle\"},\"mode\":\"markers\",\"name\":\"The Woodside Community School\",\"orientation\":\"v\",\"showlegend\":true,\"x\":[0.96],\"xaxis\":\"x\",\"y\":[0.92],\"yaxis\":\"y\",\"type\":\"scatter\"}],                        {\"template\":{\"data\":{\"bar\":[{\"error_x\":{\"color\":\"#2a3f5f\"},\"error_y\":{\"color\":\"#2a3f5f\"},\"marker\":{\"line\":{\"color\":\"#E5ECF6\",\"width\":0.5},\"pattern\":{\"fillmode\":\"overlay\",\"size\":10,\"solidity\":0.2}},\"type\":\"bar\"}],\"barpolar\":[{\"marker\":{\"line\":{\"color\":\"#E5ECF6\",\"width\":0.5},\"pattern\":{\"fillmode\":\"overlay\",\"size\":10,\"solidity\":0.2}},\"type\":\"barpolar\"}],\"carpet\":[{\"aaxis\":{\"endlinecolor\":\"#2a3f5f\",\"gridcolor\":\"white\",\"linecolor\":\"white\",\"minorgridcolor\":\"white\",\"startlinecolor\":\"#2a3f5f\"},\"baxis\":{\"endlinecolor\":\"#2a3f5f\",\"gridcolor\":\"white\",\"linecolor\":\"white\",\"minorgridcolor\":\"white\",\"startlinecolor\":\"#2a3f5f\"},\"type\":\"carpet\"}],\"choropleth\":[{\"colorbar\":{\"outlinewidth\":0,\"ticks\":\"\"},\"type\":\"choropleth\"}],\"contour\":[{\"colorbar\":{\"outlinewidth\":0,\"ticks\":\"\"},\"colorscale\":[[0.0,\"#0d0887\"],[0.1111111111111111,\"#46039f\"],[0.2222222222222222,\"#7201a8\"],[0.3333333333333333,\"#9c179e\"],[0.4444444444444444,\"#bd3786\"],[0.5555555555555556,\"#d8576b\"],[0.6666666666666666,\"#ed7953\"],[0.7777777777777778,\"#fb9f3a\"],[0.8888888888888888,\"#fdca26\"],[1.0,\"#f0f921\"]],\"type\":\"contour\"}],\"contourcarpet\":[{\"colorbar\":{\"outlinewidth\":0,\"ticks\":\"\"},\"type\":\"contourcarpet\"}],\"heatmap\":[{\"colorbar\":{\"outlinewidth\":0,\"ticks\":\"\"},\"colorscale\":[[0.0,\"#0d0887\"],[0.1111111111111111,\"#46039f\"],[0.2222222222222222,\"#7201a8\"],[0.3333333333333333,\"#9c179e\"],[0.4444444444444444,\"#bd3786\"],[0.5555555555555556,\"#d8576b\"],[0.6666666666666666,\"#ed7953\"],[0.7777777777777778,\"#fb9f3a\"],[0.8888888888888888,\"#fdca26\"],[1.0,\"#f0f921\"]],\"type\":\"heatmap\"}],\"heatmapgl\":[{\"colorbar\":{\"outlinewidth\":0,\"ticks\":\"\"},\"colorscale\":[[0.0,\"#0d0887\"],[0.1111111111111111,\"#46039f\"],[0.2222222222222222,\"#7201a8\"],[0.3333333333333333,\"#9c179e\"],[0.4444444444444444,\"#bd3786\"],[0.5555555555555556,\"#d8576b\"],[0.6666666666666666,\"#ed7953\"],[0.7777777777777778,\"#fb9f3a\"],[0.8888888888888888,\"#fdca26\"],[1.0,\"#f0f921\"]],\"type\":\"heatmapgl\"}],\"histogram\":[{\"marker\":{\"pattern\":{\"fillmode\":\"overlay\",\"size\":10,\"solidity\":0.2}},\"type\":\"histogram\"}],\"histogram2d\":[{\"colorbar\":{\"outlinewidth\":0,\"ticks\":\"\"},\"colorscale\":[[0.0,\"#0d0887\"],[0.1111111111111111,\"#46039f\"],[0.2222222222222222,\"#7201a8\"],[0.3333333333333333,\"#9c179e\"],[0.4444444444444444,\"#bd3786\"],[0.5555555555555556,\"#d8576b\"],[0.6666666666666666,\"#ed7953\"],[0.7777777777777778,\"#fb9f3a\"],[0.8888888888888888,\"#fdca26\"],[1.0,\"#f0f921\"]],\"type\":\"histogram2d\"}],\"histogram2dcontour\":[{\"colorbar\":{\"outlinewidth\":0,\"ticks\":\"\"},\"colorscale\":[[0.0,\"#0d0887\"],[0.1111111111111111,\"#46039f\"],[0.2222222222222222,\"#7201a8\"],[0.3333333333333333,\"#9c179e\"],[0.4444444444444444,\"#bd3786\"],[0.5555555555555556,\"#d8576b\"],[0.6666666666666666,\"#ed7953\"],[0.7777777777777778,\"#fb9f3a\"],[0.8888888888888888,\"#fdca26\"],[1.0,\"#f0f921\"]],\"type\":\"histogram2dcontour\"}],\"mesh3d\":[{\"colorbar\":{\"outlinewidth\":0,\"ticks\":\"\"},\"type\":\"mesh3d\"}],\"parcoords\":[{\"line\":{\"colorbar\":{\"outlinewidth\":0,\"ticks\":\"\"}},\"type\":\"parcoords\"}],\"pie\":[{\"automargin\":true,\"type\":\"pie\"}],\"scatter\":[{\"marker\":{\"colorbar\":{\"outlinewidth\":0,\"ticks\":\"\"}},\"type\":\"scatter\"}],\"scatter3d\":[{\"line\":{\"colorbar\":{\"outlinewidth\":0,\"ticks\":\"\"}},\"marker\":{\"colorbar\":{\"outlinewidth\":0,\"ticks\":\"\"}},\"type\":\"scatter3d\"}],\"scattercarpet\":[{\"marker\":{\"colorbar\":{\"outlinewidth\":0,\"ticks\":\"\"}},\"type\":\"scattercarpet\"}],\"scattergeo\":[{\"marker\":{\"colorbar\":{\"outlinewidth\":0,\"ticks\":\"\"}},\"type\":\"scattergeo\"}],\"scattergl\":[{\"marker\":{\"colorbar\":{\"outlinewidth\":0,\"ticks\":\"\"}},\"type\":\"scattergl\"}],\"scattermapbox\":[{\"marker\":{\"colorbar\":{\"outlinewidth\":0,\"ticks\":\"\"}},\"type\":\"scattermapbox\"}],\"scatterpolar\":[{\"marker\":{\"colorbar\":{\"outlinewidth\":0,\"ticks\":\"\"}},\"type\":\"scatterpolar\"}],\"scatterpolargl\":[{\"marker\":{\"colorbar\":{\"outlinewidth\":0,\"ticks\":\"\"}},\"type\":\"scatterpolargl\"}],\"scatterternary\":[{\"marker\":{\"colorbar\":{\"outlinewidth\":0,\"ticks\":\"\"}},\"type\":\"scatterternary\"}],\"surface\":[{\"colorbar\":{\"outlinewidth\":0,\"ticks\":\"\"},\"colorscale\":[[0.0,\"#0d0887\"],[0.1111111111111111,\"#46039f\"],[0.2222222222222222,\"#7201a8\"],[0.3333333333333333,\"#9c179e\"],[0.4444444444444444,\"#bd3786\"],[0.5555555555555556,\"#d8576b\"],[0.6666666666666666,\"#ed7953\"],[0.7777777777777778,\"#fb9f3a\"],[0.8888888888888888,\"#fdca26\"],[1.0,\"#f0f921\"]],\"type\":\"surface\"}],\"table\":[{\"cells\":{\"fill\":{\"color\":\"#EBF0F8\"},\"line\":{\"color\":\"white\"}},\"header\":{\"fill\":{\"color\":\"#C8D4E3\"},\"line\":{\"color\":\"white\"}},\"type\":\"table\"}]},\"layout\":{\"annotationdefaults\":{\"arrowcolor\":\"#2a3f5f\",\"arrowhead\":0,\"arrowwidth\":1},\"autotypenumbers\":\"strict\",\"coloraxis\":{\"colorbar\":{\"outlinewidth\":0,\"ticks\":\"\"}},\"colorscale\":{\"diverging\":[[0,\"#8e0152\"],[0.1,\"#c51b7d\"],[0.2,\"#de77ae\"],[0.3,\"#f1b6da\"],[0.4,\"#fde0ef\"],[0.5,\"#f7f7f7\"],[0.6,\"#e6f5d0\"],[0.7,\"#b8e186\"],[0.8,\"#7fbc41\"],[0.9,\"#4d9221\"],[1,\"#276419\"]],\"sequential\":[[0.0,\"#0d0887\"],[0.1111111111111111,\"#46039f\"],[0.2222222222222222,\"#7201a8\"],[0.3333333333333333,\"#9c179e\"],[0.4444444444444444,\"#bd3786\"],[0.5555555555555556,\"#d8576b\"],[0.6666666666666666,\"#ed7953\"],[0.7777777777777778,\"#fb9f3a\"],[0.8888888888888888,\"#fdca26\"],[1.0,\"#f0f921\"]],\"sequentialminus\":[[0.0,\"#0d0887\"],[0.1111111111111111,\"#46039f\"],[0.2222222222222222,\"#7201a8\"],[0.3333333333333333,\"#9c179e\"],[0.4444444444444444,\"#bd3786\"],[0.5555555555555556,\"#d8576b\"],[0.6666666666666666,\"#ed7953\"],[0.7777777777777778,\"#fb9f3a\"],[0.8888888888888888,\"#fdca26\"],[1.0,\"#f0f921\"]]},\"colorway\":[\"#636efa\",\"#EF553B\",\"#00cc96\",\"#ab63fa\",\"#FFA15A\",\"#19d3f3\",\"#FF6692\",\"#B6E880\",\"#FF97FF\",\"#FECB52\"],\"font\":{\"color\":\"#2a3f5f\"},\"geo\":{\"bgcolor\":\"white\",\"lakecolor\":\"white\",\"landcolor\":\"#E5ECF6\",\"showlakes\":true,\"showland\":true,\"subunitcolor\":\"white\"},\"hoverlabel\":{\"align\":\"left\"},\"hovermode\":\"closest\",\"mapbox\":{\"style\":\"light\"},\"paper_bgcolor\":\"white\",\"plot_bgcolor\":\"#E5ECF6\",\"polar\":{\"angularaxis\":{\"gridcolor\":\"white\",\"linecolor\":\"white\",\"ticks\":\"\"},\"bgcolor\":\"#E5ECF6\",\"radialaxis\":{\"gridcolor\":\"white\",\"linecolor\":\"white\",\"ticks\":\"\"}},\"scene\":{\"xaxis\":{\"backgroundcolor\":\"#E5ECF6\",\"gridcolor\":\"white\",\"gridwidth\":2,\"linecolor\":\"white\",\"showbackground\":true,\"ticks\":\"\",\"zerolinecolor\":\"white\"},\"yaxis\":{\"backgroundcolor\":\"#E5ECF6\",\"gridcolor\":\"white\",\"gridwidth\":2,\"linecolor\":\"white\",\"showbackground\":true,\"ticks\":\"\",\"zerolinecolor\":\"white\"},\"zaxis\":{\"backgroundcolor\":\"#E5ECF6\",\"gridcolor\":\"white\",\"gridwidth\":2,\"linecolor\":\"white\",\"showbackground\":true,\"ticks\":\"\",\"zerolinecolor\":\"white\"}},\"shapedefaults\":{\"line\":{\"color\":\"#2a3f5f\"}},\"ternary\":{\"aaxis\":{\"gridcolor\":\"white\",\"linecolor\":\"white\",\"ticks\":\"\"},\"baxis\":{\"gridcolor\":\"white\",\"linecolor\":\"white\",\"ticks\":\"\"},\"bgcolor\":\"#E5ECF6\",\"caxis\":{\"gridcolor\":\"white\",\"linecolor\":\"white\",\"ticks\":\"\"}},\"title\":{\"x\":0.05},\"xaxis\":{\"automargin\":true,\"gridcolor\":\"white\",\"linecolor\":\"white\",\"ticks\":\"\",\"title\":{\"standoff\":15},\"zerolinecolor\":\"white\",\"zerolinewidth\":2},\"yaxis\":{\"automargin\":true,\"gridcolor\":\"white\",\"linecolor\":\"white\",\"ticks\":\"\",\"title\":{\"standoff\":15},\"zerolinecolor\":\"white\",\"zerolinewidth\":2}}},\"xaxis\":{\"anchor\":\"y\",\"domain\":[0.0,1.0],\"title\":{\"text\":\"survey_pp_tr\"}},\"yaxis\":{\"anchor\":\"x\",\"domain\":[0.0,1.0],\"title\":{\"text\":\"survey_pp_es\"}},\"legend\":{\"title\":{\"text\":\"school_name\"},\"tracegroupgap\":0,\"itemsizing\":\"constant\"},\"margin\":{\"t\":60}},                        {\"responsive\": true}                    ).then(function(){\n",
       "                            \n",
       "var gd = document.getElementById('f97dd489-b1e2-4bdb-a422-44a7d6610653');\n",
       "var x = new MutationObserver(function (mutations, observer) {{\n",
       "        var display = window.getComputedStyle(gd).display;\n",
       "        if (!display || display === 'none') {{\n",
       "            console.log([gd, 'removed!']);\n",
       "            Plotly.purge(gd);\n",
       "            observer.disconnect();\n",
       "        }}\n",
       "}});\n",
       "\n",
       "// Listen for the removal of the full notebook cells\n",
       "var notebookContainer = gd.closest('#notebook-container');\n",
       "if (notebookContainer) {{\n",
       "    x.observe(notebookContainer, {childList: true});\n",
       "}}\n",
       "\n",
       "// Listen for the clearing of the current output cell\n",
       "var outputEl = gd.closest('.output');\n",
       "if (outputEl) {{\n",
       "    x.observe(outputEl, {childList: true});\n",
       "}}\n",
       "\n",
       "                        })                };                });            </script>        </div>"
      ]
     },
     "metadata": {},
     "output_type": "display_data"
    }
   ],
   "source": [
    "fig = px.scatter(district30elementary, x=\"survey_pp_tr\", y=\"survey_pp_es\", size='enrollment',\n",
    "             color=\"school_name\", hover_name=\"school_name\")\n",
    "\n",
    "fig.show()\n",
    "# fig.update_traces(marker_size=10)"
   ]
  },
  {
   "cell_type": "code",
   "execution_count": 38,
   "id": "3678d951",
   "metadata": {},
   "outputs": [
    {
     "name": "stdout",
     "output_type": "stream",
     "text": [
      "<class 'pandas.core.frame.DataFrame'>\n",
      "Index: 1311 entries, 01M015 to 84X730\n",
      "Columns: 215 entries, dbn to qr_5_1_well_developed\n",
      "dtypes: float64(129), int64(1), object(2), uint8(83)\n",
      "memory usage: 1.4+ MB\n"
     ]
    }
   ],
   "source": [
    "results_df.info()"
   ]
  },
  {
   "cell_type": "markdown",
   "id": "1b971633",
   "metadata": {},
   "source": [
    "### Model-based Collaborative Filtering"
   ]
  },
  {
   "cell_type": "markdown",
   "id": "f9fec8ae",
   "metadata": {},
   "source": [
    "Enter school of interest "
   ]
  },
  {
   "cell_type": "code",
   "execution_count": 318,
   "id": "c47bd2c0",
   "metadata": {},
   "outputs": [
    {
     "data": {
      "text/html": [
       "<div>\n",
       "<style scoped>\n",
       "    .dataframe tbody tr th:only-of-type {\n",
       "        vertical-align: middle;\n",
       "    }\n",
       "\n",
       "    .dataframe tbody tr th {\n",
       "        vertical-align: top;\n",
       "    }\n",
       "\n",
       "    .dataframe thead th {\n",
       "        text-align: right;\n",
       "    }\n",
       "</style>\n",
       "<table border=\"1\" class=\"dataframe\">\n",
       "  <thead>\n",
       "    <tr style=\"text-align: right;\">\n",
       "      <th></th>\n",
       "      <th>school_name</th>\n",
       "      <th>enrollment</th>\n",
       "      <th>borough</th>\n",
       "      <th>val_prof_pct_watn3_elalevel34</th>\n",
       "    </tr>\n",
       "    <tr>\n",
       "      <th>dbn</th>\n",
       "      <th></th>\n",
       "      <th></th>\n",
       "      <th></th>\n",
       "      <th></th>\n",
       "    </tr>\n",
       "  </thead>\n",
       "  <tbody>\n",
       "    <tr>\n",
       "      <th>02M077</th>\n",
       "      <td>P.S. 77 Lower Lab School</td>\n",
       "      <td>362</td>\n",
       "      <td>M</td>\n",
       "      <td>0.966</td>\n",
       "    </tr>\n",
       "    <tr>\n",
       "      <th>02M183</th>\n",
       "      <td>P.S. 183 Robert L. Stevenson</td>\n",
       "      <td>564</td>\n",
       "      <td>M</td>\n",
       "      <td>0.963</td>\n",
       "    </tr>\n",
       "    <tr>\n",
       "      <th>15K039</th>\n",
       "      <td>P.S. 039 Henry Bristow</td>\n",
       "      <td>417</td>\n",
       "      <td>K</td>\n",
       "      <td>0.957</td>\n",
       "    </tr>\n",
       "    <tr>\n",
       "      <th>02M059</th>\n",
       "      <td>P.S. 059 Beekman Hill International</td>\n",
       "      <td>619</td>\n",
       "      <td>M</td>\n",
       "      <td>0.946</td>\n",
       "    </tr>\n",
       "    <tr>\n",
       "      <th>02M042</th>\n",
       "      <td>P.S. 042 Benjamin Altman</td>\n",
       "      <td>514</td>\n",
       "      <td>M</td>\n",
       "      <td>0.942</td>\n",
       "    </tr>\n",
       "  </tbody>\n",
       "</table>\n",
       "</div>"
      ],
      "text/plain": [
       "                                school_name  enrollment borough  \\\n",
       "dbn                                                               \n",
       "02M077             P.S. 77 Lower Lab School         362       M   \n",
       "02M183         P.S. 183 Robert L. Stevenson         564       M   \n",
       "15K039               P.S. 039 Henry Bristow         417       K   \n",
       "02M059  P.S. 059 Beekman Hill International         619       M   \n",
       "02M042             P.S. 042 Benjamin Altman         514       M   \n",
       "\n",
       "        val_prof_pct_watn3_elalevel34  \n",
       "dbn                                    \n",
       "02M077                          0.966  \n",
       "02M183                          0.963  \n",
       "15K039                          0.957  \n",
       "02M059                          0.946  \n",
       "02M042                          0.942  "
      ]
     },
     "execution_count": 318,
     "metadata": {},
     "output_type": "execute_result"
    }
   ],
   "source": [
    "# For example, top 5 schools in the city by proportion of 5th Grade students at Level 3 or 4 \n",
    "# (Out of Students at Level 3 or 4 in 3rd Grade) in English Language Arts\n",
    "\n",
    "df.sort_values(by=\"val_prof_pct_watn3_elalevel34\", ascending=False).head()[['school_name','enrollment','borough',\n",
    "                                                                                    'val_prof_pct_watn3_elalevel34']]"
   ]
  },
  {
   "cell_type": "code",
   "execution_count": 322,
   "id": "6541bdd8",
   "metadata": {},
   "outputs": [
    {
     "data": {
      "text/html": [
       "<div>\n",
       "<style scoped>\n",
       "    .dataframe tbody tr th:only-of-type {\n",
       "        vertical-align: middle;\n",
       "    }\n",
       "\n",
       "    .dataframe tbody tr th {\n",
       "        vertical-align: top;\n",
       "    }\n",
       "\n",
       "    .dataframe thead th {\n",
       "        text-align: right;\n",
       "    }\n",
       "</style>\n",
       "<table border=\"1\" class=\"dataframe\">\n",
       "  <thead>\n",
       "    <tr style=\"text-align: right;\">\n",
       "      <th></th>\n",
       "      <th>school_name</th>\n",
       "      <th>enrollment</th>\n",
       "      <th>borough</th>\n",
       "      <th>val_prof_pct_watn3_mthlevel34</th>\n",
       "    </tr>\n",
       "    <tr>\n",
       "      <th>dbn</th>\n",
       "      <th></th>\n",
       "      <th></th>\n",
       "      <th></th>\n",
       "      <th></th>\n",
       "    </tr>\n",
       "  </thead>\n",
       "  <tbody>\n",
       "    <tr>\n",
       "      <th>02M059</th>\n",
       "      <td>P.S. 059 Beekman Hill International</td>\n",
       "      <td>619</td>\n",
       "      <td>M</td>\n",
       "      <td>1.00</td>\n",
       "    </tr>\n",
       "    <tr>\n",
       "      <th>31R005</th>\n",
       "      <td>P.S. 005 Huguenot</td>\n",
       "      <td>315</td>\n",
       "      <td>R</td>\n",
       "      <td>1.00</td>\n",
       "    </tr>\n",
       "    <tr>\n",
       "      <th>02M267</th>\n",
       "      <td>East Side Elementary School, PS 267</td>\n",
       "      <td>438</td>\n",
       "      <td>M</td>\n",
       "      <td>1.00</td>\n",
       "    </tr>\n",
       "    <tr>\n",
       "      <th>28Q196</th>\n",
       "      <td>P.S. 196 Grand Central Parkway</td>\n",
       "      <td>1045</td>\n",
       "      <td>Q</td>\n",
       "      <td>1.00</td>\n",
       "    </tr>\n",
       "    <tr>\n",
       "      <th>02M150</th>\n",
       "      <td>P.S. 150</td>\n",
       "      <td>172</td>\n",
       "      <td>M</td>\n",
       "      <td>1.00</td>\n",
       "    </tr>\n",
       "    <tr>\n",
       "      <th>84K781</th>\n",
       "      <td>Success Academy Charter School - Bergen Beach ...</td>\n",
       "      <td>710</td>\n",
       "      <td>K</td>\n",
       "      <td>0.99</td>\n",
       "    </tr>\n",
       "  </tbody>\n",
       "</table>\n",
       "</div>"
      ],
      "text/plain": [
       "                                              school_name  enrollment borough  \\\n",
       "dbn                                                                             \n",
       "02M059                P.S. 059 Beekman Hill International         619       M   \n",
       "31R005                                  P.S. 005 Huguenot         315       R   \n",
       "02M267                East Side Elementary School, PS 267         438       M   \n",
       "28Q196                     P.S. 196 Grand Central Parkway        1045       Q   \n",
       "02M150                                           P.S. 150         172       M   \n",
       "84K781  Success Academy Charter School - Bergen Beach ...         710       K   \n",
       "\n",
       "        val_prof_pct_watn3_mthlevel34  \n",
       "dbn                                    \n",
       "02M059                           1.00  \n",
       "31R005                           1.00  \n",
       "02M267                           1.00  \n",
       "28Q196                           1.00  \n",
       "02M150                           1.00  \n",
       "84K781                           0.99  "
      ]
     },
     "execution_count": 322,
     "metadata": {},
     "output_type": "execute_result"
    }
   ],
   "source": [
    "# For example, top 5 schools in the city by proportion of 5th Grade students at Level 3 or 4 \n",
    "# (Out of Students at Level 3 or 4 in 3rd Grade) in English Language Arts\n",
    "\n",
    "df.sort_values(by=\"val_prof_pct_watn3_mthlevel34\", ascending=False).head(6)[['school_name','enrollment','borough',\n",
    "                                                                                    'val_prof_pct_watn3_mthlevel34']]"
   ]
  },
  {
   "cell_type": "code",
   "execution_count": 320,
   "id": "6a7e6508",
   "metadata": {},
   "outputs": [
    {
     "name": "stdout",
     "output_type": "stream",
     "text": [
      "Please enter school of interest using District-Borough-School Number format \n",
      "02M077\n"
     ]
    }
   ],
   "source": [
    "school_of_interest = input(\"Please enter school of interest using District-Borough-School Number format \\n\")"
   ]
  },
  {
   "cell_type": "markdown",
   "id": "2bd40b48",
   "metadata": {},
   "source": [
    "Enter district(s) or borough(s) to refine recommended schools.\n",
    "\n",
    "See map of school districts: <https://data.cityofnewyork.us/Education/School-Districts/r8nu-ymqj>"
   ]
  },
  {
   "cell_type": "code",
   "execution_count": 243,
   "id": "5141345d",
   "metadata": {},
   "outputs": [
    {
     "name": "stdout",
     "output_type": "stream",
     "text": [
      "m\n"
     ]
    }
   ],
   "source": [
    "### borough of interest\n",
    "borough_of_interest = school_of_interest[2].lower()\n",
    "print(borough_of_interest)"
   ]
  },
  {
   "cell_type": "code",
   "execution_count": 244,
   "id": "0189f438",
   "metadata": {},
   "outputs": [
    {
     "name": "stdout",
     "output_type": "stream",
     "text": [
      "Please enter school districts of interest \n",
      "30\n"
     ]
    }
   ],
   "source": [
    "### enter district of interest\n",
    "district_of_interest = input(\"Please enter school districts of interest \\n\")"
   ]
  },
  {
   "cell_type": "code",
   "execution_count": 245,
   "id": "b31e32cb",
   "metadata": {},
   "outputs": [
    {
     "name": "stdout",
     "output_type": "stream",
     "text": [
      "['30']\n"
     ]
    }
   ],
   "source": [
    "district_of_interest = list(district_of_interest)\n",
    "district_of_interest = \"\".join(district_of_interest[0:2])\n",
    "district_of_interest = [district_of_interest]\n",
    "print(district_of_interest)"
   ]
  },
  {
   "cell_type": "code",
   "execution_count": 246,
   "id": "89f8ed54",
   "metadata": {},
   "outputs": [
    {
     "data": {
      "text/plain": [
       "1"
      ]
     },
     "execution_count": 246,
     "metadata": {},
     "output_type": "execute_result"
    }
   ],
   "source": [
    "### enter district of interest\n",
    "#district_of_interest = [\"30\",\"24\"]\n",
    "len(district_of_interest)"
   ]
  },
  {
   "cell_type": "code",
   "execution_count": 262,
   "id": "91600555",
   "metadata": {},
   "outputs": [
    {
     "data": {
      "text/html": [
       "<div>\n",
       "<style scoped>\n",
       "    .dataframe tbody tr th:only-of-type {\n",
       "        vertical-align: middle;\n",
       "    }\n",
       "\n",
       "    .dataframe tbody tr th {\n",
       "        vertical-align: top;\n",
       "    }\n",
       "\n",
       "    .dataframe thead th {\n",
       "        text-align: right;\n",
       "    }\n",
       "</style>\n",
       "<table border=\"1\" class=\"dataframe\">\n",
       "  <thead>\n",
       "    <tr style=\"text-align: right;\">\n",
       "      <th>dbn</th>\n",
       "      <th>02M077</th>\n",
       "      <th>30Q002</th>\n",
       "      <th>30Q010</th>\n",
       "      <th>30Q011</th>\n",
       "      <th>30Q017</th>\n",
       "      <th>30Q069</th>\n",
       "      <th>30Q070</th>\n",
       "      <th>30Q076</th>\n",
       "      <th>30Q078</th>\n",
       "      <th>30Q084</th>\n",
       "      <th>...</th>\n",
       "      <th>30Q230</th>\n",
       "      <th>30Q234</th>\n",
       "      <th>30Q235</th>\n",
       "      <th>30Q280</th>\n",
       "      <th>30Q286</th>\n",
       "      <th>30Q291</th>\n",
       "      <th>30Q300</th>\n",
       "      <th>30Q329</th>\n",
       "      <th>30Q361</th>\n",
       "      <th>30Q580</th>\n",
       "    </tr>\n",
       "  </thead>\n",
       "  <tbody>\n",
       "    <tr>\n",
       "      <th>enrollment</th>\n",
       "      <td>362.00</td>\n",
       "      <td>533.00</td>\n",
       "      <td>799.00</td>\n",
       "      <td>906.00</td>\n",
       "      <td>537.00</td>\n",
       "      <td>909.00</td>\n",
       "      <td>728.00</td>\n",
       "      <td>385.00</td>\n",
       "      <td>717.00</td>\n",
       "      <td>228.00</td>\n",
       "      <td>...</td>\n",
       "      <td>1192.00</td>\n",
       "      <td>420.00</td>\n",
       "      <td>85.00</td>\n",
       "      <td>575.00</td>\n",
       "      <td>262.00</td>\n",
       "      <td>420.00</td>\n",
       "      <td>544.00</td>\n",
       "      <td>448.00</td>\n",
       "      <td>366.00</td>\n",
       "      <td>121.00</td>\n",
       "    </tr>\n",
       "    <tr>\n",
       "      <th>survey_pp_ri</th>\n",
       "      <td>0.83</td>\n",
       "      <td>0.89</td>\n",
       "      <td>0.87</td>\n",
       "      <td>0.77</td>\n",
       "      <td>0.74</td>\n",
       "      <td>0.83</td>\n",
       "      <td>0.82</td>\n",
       "      <td>0.74</td>\n",
       "      <td>0.76</td>\n",
       "      <td>0.93</td>\n",
       "      <td>...</td>\n",
       "      <td>0.78</td>\n",
       "      <td>0.83</td>\n",
       "      <td>0.89</td>\n",
       "      <td>0.78</td>\n",
       "      <td>0.88</td>\n",
       "      <td>0.87</td>\n",
       "      <td>0.78</td>\n",
       "      <td>0.81</td>\n",
       "      <td>0.89</td>\n",
       "      <td>0.88</td>\n",
       "    </tr>\n",
       "    <tr>\n",
       "      <th>survey_pp_ct</th>\n",
       "      <td>0.74</td>\n",
       "      <td>0.93</td>\n",
       "      <td>0.95</td>\n",
       "      <td>0.87</td>\n",
       "      <td>0.86</td>\n",
       "      <td>0.94</td>\n",
       "      <td>0.93</td>\n",
       "      <td>0.85</td>\n",
       "      <td>0.86</td>\n",
       "      <td>0.95</td>\n",
       "      <td>...</td>\n",
       "      <td>0.89</td>\n",
       "      <td>0.86</td>\n",
       "      <td>0.98</td>\n",
       "      <td>0.84</td>\n",
       "      <td>0.80</td>\n",
       "      <td>0.94</td>\n",
       "      <td>0.79</td>\n",
       "      <td>0.93</td>\n",
       "      <td>0.96</td>\n",
       "      <td>0.82</td>\n",
       "    </tr>\n",
       "    <tr>\n",
       "      <th>survey_pp_se</th>\n",
       "      <td>0.79</td>\n",
       "      <td>0.92</td>\n",
       "      <td>0.96</td>\n",
       "      <td>0.84</td>\n",
       "      <td>0.77</td>\n",
       "      <td>0.89</td>\n",
       "      <td>0.91</td>\n",
       "      <td>0.74</td>\n",
       "      <td>0.65</td>\n",
       "      <td>0.93</td>\n",
       "      <td>...</td>\n",
       "      <td>0.73</td>\n",
       "      <td>0.84</td>\n",
       "      <td>0.92</td>\n",
       "      <td>0.85</td>\n",
       "      <td>0.76</td>\n",
       "      <td>0.80</td>\n",
       "      <td>0.80</td>\n",
       "      <td>0.87</td>\n",
       "      <td>0.95</td>\n",
       "      <td>0.81</td>\n",
       "    </tr>\n",
       "    <tr>\n",
       "      <th>survey_pp_es</th>\n",
       "      <td>0.68</td>\n",
       "      <td>0.89</td>\n",
       "      <td>0.95</td>\n",
       "      <td>0.84</td>\n",
       "      <td>0.87</td>\n",
       "      <td>0.91</td>\n",
       "      <td>0.93</td>\n",
       "      <td>0.87</td>\n",
       "      <td>0.82</td>\n",
       "      <td>0.93</td>\n",
       "      <td>...</td>\n",
       "      <td>0.90</td>\n",
       "      <td>0.87</td>\n",
       "      <td>0.98</td>\n",
       "      <td>0.87</td>\n",
       "      <td>0.65</td>\n",
       "      <td>0.94</td>\n",
       "      <td>0.74</td>\n",
       "      <td>0.97</td>\n",
       "      <td>0.92</td>\n",
       "      <td>0.78</td>\n",
       "    </tr>\n",
       "  </tbody>\n",
       "</table>\n",
       "<p>5 rows × 39 columns</p>\n",
       "</div>"
      ],
      "text/plain": [
       "dbn           02M077  30Q002  30Q010  30Q011  30Q017  30Q069  30Q070  30Q076  \\\n",
       "enrollment    362.00  533.00  799.00  906.00  537.00  909.00  728.00  385.00   \n",
       "survey_pp_ri    0.83    0.89    0.87    0.77    0.74    0.83    0.82    0.74   \n",
       "survey_pp_ct    0.74    0.93    0.95    0.87    0.86    0.94    0.93    0.85   \n",
       "survey_pp_se    0.79    0.92    0.96    0.84    0.77    0.89    0.91    0.74   \n",
       "survey_pp_es    0.68    0.89    0.95    0.84    0.87    0.91    0.93    0.87   \n",
       "\n",
       "dbn           30Q078  30Q084  ...   30Q230  30Q234  30Q235  30Q280  30Q286  \\\n",
       "enrollment    717.00  228.00  ...  1192.00  420.00   85.00  575.00  262.00   \n",
       "survey_pp_ri    0.76    0.93  ...     0.78    0.83    0.89    0.78    0.88   \n",
       "survey_pp_ct    0.86    0.95  ...     0.89    0.86    0.98    0.84    0.80   \n",
       "survey_pp_se    0.65    0.93  ...     0.73    0.84    0.92    0.85    0.76   \n",
       "survey_pp_es    0.82    0.93  ...     0.90    0.87    0.98    0.87    0.65   \n",
       "\n",
       "dbn           30Q291  30Q300  30Q329  30Q361  30Q580  \n",
       "enrollment    420.00  544.00  448.00  366.00  121.00  \n",
       "survey_pp_ri    0.87    0.78    0.81    0.89    0.88  \n",
       "survey_pp_ct    0.94    0.79    0.93    0.96    0.82  \n",
       "survey_pp_se    0.80    0.80    0.87    0.95    0.81  \n",
       "survey_pp_es    0.94    0.74    0.97    0.92    0.78  \n",
       "\n",
       "[5 rows x 39 columns]"
      ]
     },
     "execution_count": 262,
     "metadata": {},
     "output_type": "execute_result"
    }
   ],
   "source": [
    "# modeldf = results_df.iloc[:,2:].copy()\n",
    "if len(district_of_interest) == 1:\n",
    "    modeldf = results_df[(results_df['dbn']==school_of_interest) | (results_df[f'district_{district_of_interest[0]}']==1)].iloc[:,2:].copy()\n",
    "elif len(district_of_interest) == 2:\n",
    "    modeldf = results_df[(results_df['dbn']==school_of_interest) | ((results_df[f'district_{district_of_interest[0]}']==1) | (results_df[f'district_{district_of_interest[1]}']==1))].iloc[:,2:].copy()\n",
    " \n",
    "modeldf.T.head()"
   ]
  },
  {
   "cell_type": "markdown",
   "id": "d0b771e7",
   "metadata": {},
   "source": [
    "Drop all columns with only zeros or only ones in them"
   ]
  },
  {
   "cell_type": "code",
   "execution_count": 263,
   "id": "7f24631f",
   "metadata": {},
   "outputs": [],
   "source": [
    "modeldf = modeldf.loc[:, (modeldf != 0).any(axis=0)]\n",
    "modeldf = modeldf.loc[:, (modeldf != 1).any(axis=0)]"
   ]
  },
  {
   "cell_type": "code",
   "execution_count": 264,
   "id": "61e6751f",
   "metadata": {},
   "outputs": [
    {
     "data": {
      "application/vnd.plotly.v1+json": {
       "config": {
        "plotlyServerURL": "https://plot.ly"
       },
       "data": [
        {
         "alignmentgroup": "True",
         "boxpoints": "outliers",
         "hovertemplate": "variable=%{x}<br>value=%{y}<extra></extra>",
         "legendgroup": "",
         "marker": {
          "color": "#636efa"
         },
         "name": "",
         "notched": false,
         "offsetgroup": "",
         "orientation": "v",
         "showlegend": false,
         "type": "box",
         "x": [
          "n_prof_2plus_watn3_mthlevel1",
          "n_prof_2plus_watn3_mthlevel1",
          "n_prof_2plus_watn3_mthlevel1",
          "n_prof_2plus_watn3_mthlevel1",
          "n_prof_2plus_watn3_mthlevel1",
          "n_prof_2plus_watn3_mthlevel1",
          "n_prof_2plus_watn3_mthlevel1",
          "n_prof_2plus_watn3_mthlevel1",
          "n_prof_2plus_watn3_mthlevel1",
          "n_prof_2plus_watn3_mthlevel1",
          "n_prof_2plus_watn3_mthlevel1",
          "n_prof_2plus_watn3_mthlevel1",
          "n_prof_2plus_watn3_mthlevel1",
          "n_prof_2plus_watn3_mthlevel1",
          "n_prof_2plus_watn3_mthlevel1",
          "n_prof_2plus_watn3_mthlevel1",
          "n_prof_2plus_watn3_mthlevel1",
          "n_prof_2plus_watn3_mthlevel1",
          "n_prof_2plus_watn3_mthlevel1",
          "n_prof_2plus_watn3_mthlevel1",
          "n_prof_2plus_watn3_mthlevel1",
          "n_prof_2plus_watn3_mthlevel1",
          "n_prof_2plus_watn3_mthlevel1",
          "n_prof_2plus_watn3_mthlevel1",
          "n_prof_2plus_watn3_mthlevel1",
          "n_prof_2plus_watn3_mthlevel1",
          "n_prof_2plus_watn3_mthlevel1",
          "n_prof_2plus_watn3_mthlevel1",
          "n_prof_2plus_watn3_mthlevel1",
          "n_prof_2plus_watn3_mthlevel1",
          "n_prof_2plus_watn3_mthlevel1",
          "n_prof_2plus_watn3_mthlevel1",
          "n_prof_2plus_watn3_mthlevel1",
          "n_prof_2plus_watn3_mthlevel1",
          "n_prof_2plus_watn3_mthlevel1",
          "n_prof_2plus_watn3_mthlevel1",
          "n_prof_2plus_watn3_mthlevel1",
          "n_prof_2plus_watn3_mthlevel1",
          "n_prof_2plus_watn3_mthlevel1",
          "val_prof_2plus_watn3_mthlevel1",
          "val_prof_2plus_watn3_mthlevel1",
          "val_prof_2plus_watn3_mthlevel1",
          "val_prof_2plus_watn3_mthlevel1",
          "val_prof_2plus_watn3_mthlevel1",
          "val_prof_2plus_watn3_mthlevel1",
          "val_prof_2plus_watn3_mthlevel1",
          "val_prof_2plus_watn3_mthlevel1",
          "val_prof_2plus_watn3_mthlevel1",
          "val_prof_2plus_watn3_mthlevel1",
          "val_prof_2plus_watn3_mthlevel1",
          "val_prof_2plus_watn3_mthlevel1",
          "val_prof_2plus_watn3_mthlevel1",
          "val_prof_2plus_watn3_mthlevel1",
          "val_prof_2plus_watn3_mthlevel1",
          "val_prof_2plus_watn3_mthlevel1",
          "val_prof_2plus_watn3_mthlevel1",
          "val_prof_2plus_watn3_mthlevel1",
          "val_prof_2plus_watn3_mthlevel1",
          "val_prof_2plus_watn3_mthlevel1",
          "val_prof_2plus_watn3_mthlevel1",
          "val_prof_2plus_watn3_mthlevel1",
          "val_prof_2plus_watn3_mthlevel1",
          "val_prof_2plus_watn3_mthlevel1",
          "val_prof_2plus_watn3_mthlevel1",
          "val_prof_2plus_watn3_mthlevel1",
          "val_prof_2plus_watn3_mthlevel1",
          "val_prof_2plus_watn3_mthlevel1",
          "val_prof_2plus_watn3_mthlevel1",
          "val_prof_2plus_watn3_mthlevel1",
          "val_prof_2plus_watn3_mthlevel1",
          "val_prof_2plus_watn3_mthlevel1",
          "val_prof_2plus_watn3_mthlevel1",
          "val_prof_2plus_watn3_mthlevel1",
          "val_prof_2plus_watn3_mthlevel1",
          "val_prof_2plus_watn3_mthlevel1",
          "val_prof_2plus_watn3_mthlevel1",
          "val_prof_2plus_watn3_mthlevel1",
          "val_prof_2plus_watn3_mthlevel1",
          "n_prof_pct_watn3_elalevel2",
          "n_prof_pct_watn3_elalevel2",
          "n_prof_pct_watn3_elalevel2",
          "n_prof_pct_watn3_elalevel2",
          "n_prof_pct_watn3_elalevel2",
          "n_prof_pct_watn3_elalevel2",
          "n_prof_pct_watn3_elalevel2",
          "n_prof_pct_watn3_elalevel2",
          "n_prof_pct_watn3_elalevel2",
          "n_prof_pct_watn3_elalevel2",
          "n_prof_pct_watn3_elalevel2",
          "n_prof_pct_watn3_elalevel2",
          "n_prof_pct_watn3_elalevel2",
          "n_prof_pct_watn3_elalevel2",
          "n_prof_pct_watn3_elalevel2",
          "n_prof_pct_watn3_elalevel2",
          "n_prof_pct_watn3_elalevel2",
          "n_prof_pct_watn3_elalevel2",
          "n_prof_pct_watn3_elalevel2",
          "n_prof_pct_watn3_elalevel2",
          "n_prof_pct_watn3_elalevel2",
          "n_prof_pct_watn3_elalevel2",
          "n_prof_pct_watn3_elalevel2",
          "n_prof_pct_watn3_elalevel2",
          "n_prof_pct_watn3_elalevel2",
          "n_prof_pct_watn3_elalevel2",
          "n_prof_pct_watn3_elalevel2",
          "n_prof_pct_watn3_elalevel2",
          "n_prof_pct_watn3_elalevel2",
          "n_prof_pct_watn3_elalevel2",
          "n_prof_pct_watn3_elalevel2",
          "n_prof_pct_watn3_elalevel2",
          "n_prof_pct_watn3_elalevel2",
          "n_prof_pct_watn3_elalevel2",
          "n_prof_pct_watn3_elalevel2",
          "n_prof_pct_watn3_elalevel2",
          "n_prof_pct_watn3_elalevel2",
          "n_prof_pct_watn3_elalevel2",
          "n_prof_pct_watn3_elalevel2",
          "val_prof_pct_watn3_elalevel2",
          "val_prof_pct_watn3_elalevel2",
          "val_prof_pct_watn3_elalevel2",
          "val_prof_pct_watn3_elalevel2",
          "val_prof_pct_watn3_elalevel2",
          "val_prof_pct_watn3_elalevel2",
          "val_prof_pct_watn3_elalevel2",
          "val_prof_pct_watn3_elalevel2",
          "val_prof_pct_watn3_elalevel2",
          "val_prof_pct_watn3_elalevel2",
          "val_prof_pct_watn3_elalevel2",
          "val_prof_pct_watn3_elalevel2",
          "val_prof_pct_watn3_elalevel2",
          "val_prof_pct_watn3_elalevel2",
          "val_prof_pct_watn3_elalevel2",
          "val_prof_pct_watn3_elalevel2",
          "val_prof_pct_watn3_elalevel2",
          "val_prof_pct_watn3_elalevel2",
          "val_prof_pct_watn3_elalevel2",
          "val_prof_pct_watn3_elalevel2",
          "val_prof_pct_watn3_elalevel2",
          "val_prof_pct_watn3_elalevel2",
          "val_prof_pct_watn3_elalevel2",
          "val_prof_pct_watn3_elalevel2",
          "val_prof_pct_watn3_elalevel2",
          "val_prof_pct_watn3_elalevel2",
          "val_prof_pct_watn3_elalevel2",
          "val_prof_pct_watn3_elalevel2",
          "val_prof_pct_watn3_elalevel2",
          "val_prof_pct_watn3_elalevel2",
          "val_prof_pct_watn3_elalevel2",
          "val_prof_pct_watn3_elalevel2",
          "val_prof_pct_watn3_elalevel2",
          "val_prof_pct_watn3_elalevel2",
          "val_prof_pct_watn3_elalevel2",
          "val_prof_pct_watn3_elalevel2",
          "val_prof_pct_watn3_elalevel2",
          "val_prof_pct_watn3_elalevel2",
          "val_prof_pct_watn3_elalevel2",
          "n_prof_pct_watn3_elalevel34",
          "n_prof_pct_watn3_elalevel34",
          "n_prof_pct_watn3_elalevel34",
          "n_prof_pct_watn3_elalevel34",
          "n_prof_pct_watn3_elalevel34",
          "n_prof_pct_watn3_elalevel34",
          "n_prof_pct_watn3_elalevel34",
          "n_prof_pct_watn3_elalevel34",
          "n_prof_pct_watn3_elalevel34",
          "n_prof_pct_watn3_elalevel34",
          "n_prof_pct_watn3_elalevel34",
          "n_prof_pct_watn3_elalevel34",
          "n_prof_pct_watn3_elalevel34",
          "n_prof_pct_watn3_elalevel34",
          "n_prof_pct_watn3_elalevel34",
          "n_prof_pct_watn3_elalevel34",
          "n_prof_pct_watn3_elalevel34",
          "n_prof_pct_watn3_elalevel34",
          "n_prof_pct_watn3_elalevel34",
          "n_prof_pct_watn3_elalevel34",
          "n_prof_pct_watn3_elalevel34",
          "n_prof_pct_watn3_elalevel34",
          "n_prof_pct_watn3_elalevel34",
          "n_prof_pct_watn3_elalevel34",
          "n_prof_pct_watn3_elalevel34",
          "n_prof_pct_watn3_elalevel34",
          "n_prof_pct_watn3_elalevel34",
          "n_prof_pct_watn3_elalevel34",
          "n_prof_pct_watn3_elalevel34",
          "n_prof_pct_watn3_elalevel34",
          "n_prof_pct_watn3_elalevel34",
          "n_prof_pct_watn3_elalevel34",
          "n_prof_pct_watn3_elalevel34",
          "n_prof_pct_watn3_elalevel34",
          "n_prof_pct_watn3_elalevel34",
          "n_prof_pct_watn3_elalevel34",
          "n_prof_pct_watn3_elalevel34",
          "n_prof_pct_watn3_elalevel34",
          "n_prof_pct_watn3_elalevel34",
          "val_prof_pct_watn3_elalevel34",
          "val_prof_pct_watn3_elalevel34",
          "val_prof_pct_watn3_elalevel34",
          "val_prof_pct_watn3_elalevel34",
          "val_prof_pct_watn3_elalevel34",
          "val_prof_pct_watn3_elalevel34",
          "val_prof_pct_watn3_elalevel34",
          "val_prof_pct_watn3_elalevel34",
          "val_prof_pct_watn3_elalevel34",
          "val_prof_pct_watn3_elalevel34",
          "val_prof_pct_watn3_elalevel34",
          "val_prof_pct_watn3_elalevel34",
          "val_prof_pct_watn3_elalevel34",
          "val_prof_pct_watn3_elalevel34",
          "val_prof_pct_watn3_elalevel34",
          "val_prof_pct_watn3_elalevel34",
          "val_prof_pct_watn3_elalevel34",
          "val_prof_pct_watn3_elalevel34",
          "val_prof_pct_watn3_elalevel34",
          "val_prof_pct_watn3_elalevel34",
          "val_prof_pct_watn3_elalevel34",
          "val_prof_pct_watn3_elalevel34",
          "val_prof_pct_watn3_elalevel34",
          "val_prof_pct_watn3_elalevel34",
          "val_prof_pct_watn3_elalevel34",
          "val_prof_pct_watn3_elalevel34",
          "val_prof_pct_watn3_elalevel34",
          "val_prof_pct_watn3_elalevel34",
          "val_prof_pct_watn3_elalevel34",
          "val_prof_pct_watn3_elalevel34",
          "val_prof_pct_watn3_elalevel34",
          "val_prof_pct_watn3_elalevel34",
          "val_prof_pct_watn3_elalevel34",
          "val_prof_pct_watn3_elalevel34",
          "val_prof_pct_watn3_elalevel34",
          "val_prof_pct_watn3_elalevel34",
          "val_prof_pct_watn3_elalevel34",
          "val_prof_pct_watn3_elalevel34",
          "val_prof_pct_watn3_elalevel34",
          "n_prof_pct_watn3_mthlevel2",
          "n_prof_pct_watn3_mthlevel2",
          "n_prof_pct_watn3_mthlevel2",
          "n_prof_pct_watn3_mthlevel2",
          "n_prof_pct_watn3_mthlevel2",
          "n_prof_pct_watn3_mthlevel2",
          "n_prof_pct_watn3_mthlevel2",
          "n_prof_pct_watn3_mthlevel2",
          "n_prof_pct_watn3_mthlevel2",
          "n_prof_pct_watn3_mthlevel2",
          "n_prof_pct_watn3_mthlevel2",
          "n_prof_pct_watn3_mthlevel2",
          "n_prof_pct_watn3_mthlevel2",
          "n_prof_pct_watn3_mthlevel2",
          "n_prof_pct_watn3_mthlevel2",
          "n_prof_pct_watn3_mthlevel2",
          "n_prof_pct_watn3_mthlevel2",
          "n_prof_pct_watn3_mthlevel2",
          "n_prof_pct_watn3_mthlevel2",
          "n_prof_pct_watn3_mthlevel2",
          "n_prof_pct_watn3_mthlevel2",
          "n_prof_pct_watn3_mthlevel2",
          "n_prof_pct_watn3_mthlevel2",
          "n_prof_pct_watn3_mthlevel2",
          "n_prof_pct_watn3_mthlevel2",
          "n_prof_pct_watn3_mthlevel2",
          "n_prof_pct_watn3_mthlevel2",
          "n_prof_pct_watn3_mthlevel2",
          "n_prof_pct_watn3_mthlevel2",
          "n_prof_pct_watn3_mthlevel2",
          "n_prof_pct_watn3_mthlevel2",
          "n_prof_pct_watn3_mthlevel2",
          "n_prof_pct_watn3_mthlevel2",
          "n_prof_pct_watn3_mthlevel2",
          "n_prof_pct_watn3_mthlevel2",
          "n_prof_pct_watn3_mthlevel2",
          "n_prof_pct_watn3_mthlevel2",
          "n_prof_pct_watn3_mthlevel2",
          "n_prof_pct_watn3_mthlevel2",
          "val_prof_pct_watn3_mthlevel2",
          "val_prof_pct_watn3_mthlevel2",
          "val_prof_pct_watn3_mthlevel2",
          "val_prof_pct_watn3_mthlevel2",
          "val_prof_pct_watn3_mthlevel2",
          "val_prof_pct_watn3_mthlevel2",
          "val_prof_pct_watn3_mthlevel2",
          "val_prof_pct_watn3_mthlevel2",
          "val_prof_pct_watn3_mthlevel2",
          "val_prof_pct_watn3_mthlevel2",
          "val_prof_pct_watn3_mthlevel2",
          "val_prof_pct_watn3_mthlevel2",
          "val_prof_pct_watn3_mthlevel2",
          "val_prof_pct_watn3_mthlevel2",
          "val_prof_pct_watn3_mthlevel2",
          "val_prof_pct_watn3_mthlevel2",
          "val_prof_pct_watn3_mthlevel2",
          "val_prof_pct_watn3_mthlevel2",
          "val_prof_pct_watn3_mthlevel2",
          "val_prof_pct_watn3_mthlevel2",
          "val_prof_pct_watn3_mthlevel2",
          "val_prof_pct_watn3_mthlevel2",
          "val_prof_pct_watn3_mthlevel2",
          "val_prof_pct_watn3_mthlevel2",
          "val_prof_pct_watn3_mthlevel2",
          "val_prof_pct_watn3_mthlevel2",
          "val_prof_pct_watn3_mthlevel2",
          "val_prof_pct_watn3_mthlevel2",
          "val_prof_pct_watn3_mthlevel2",
          "val_prof_pct_watn3_mthlevel2",
          "val_prof_pct_watn3_mthlevel2",
          "val_prof_pct_watn3_mthlevel2",
          "val_prof_pct_watn3_mthlevel2",
          "val_prof_pct_watn3_mthlevel2",
          "val_prof_pct_watn3_mthlevel2",
          "val_prof_pct_watn3_mthlevel2",
          "val_prof_pct_watn3_mthlevel2",
          "val_prof_pct_watn3_mthlevel2",
          "val_prof_pct_watn3_mthlevel2",
          "n_prof_pct_watn3_mthlevel34",
          "n_prof_pct_watn3_mthlevel34",
          "n_prof_pct_watn3_mthlevel34",
          "n_prof_pct_watn3_mthlevel34",
          "n_prof_pct_watn3_mthlevel34",
          "n_prof_pct_watn3_mthlevel34",
          "n_prof_pct_watn3_mthlevel34",
          "n_prof_pct_watn3_mthlevel34",
          "n_prof_pct_watn3_mthlevel34",
          "n_prof_pct_watn3_mthlevel34",
          "n_prof_pct_watn3_mthlevel34",
          "n_prof_pct_watn3_mthlevel34",
          "n_prof_pct_watn3_mthlevel34",
          "n_prof_pct_watn3_mthlevel34",
          "n_prof_pct_watn3_mthlevel34",
          "n_prof_pct_watn3_mthlevel34",
          "n_prof_pct_watn3_mthlevel34",
          "n_prof_pct_watn3_mthlevel34",
          "n_prof_pct_watn3_mthlevel34",
          "n_prof_pct_watn3_mthlevel34",
          "n_prof_pct_watn3_mthlevel34",
          "n_prof_pct_watn3_mthlevel34",
          "n_prof_pct_watn3_mthlevel34",
          "n_prof_pct_watn3_mthlevel34",
          "n_prof_pct_watn3_mthlevel34",
          "n_prof_pct_watn3_mthlevel34",
          "n_prof_pct_watn3_mthlevel34",
          "n_prof_pct_watn3_mthlevel34",
          "n_prof_pct_watn3_mthlevel34",
          "n_prof_pct_watn3_mthlevel34",
          "n_prof_pct_watn3_mthlevel34",
          "n_prof_pct_watn3_mthlevel34",
          "n_prof_pct_watn3_mthlevel34",
          "n_prof_pct_watn3_mthlevel34",
          "n_prof_pct_watn3_mthlevel34",
          "n_prof_pct_watn3_mthlevel34",
          "n_prof_pct_watn3_mthlevel34",
          "n_prof_pct_watn3_mthlevel34",
          "n_prof_pct_watn3_mthlevel34",
          "val_prof_pct_watn3_mthlevel34",
          "val_prof_pct_watn3_mthlevel34",
          "val_prof_pct_watn3_mthlevel34",
          "val_prof_pct_watn3_mthlevel34",
          "val_prof_pct_watn3_mthlevel34",
          "val_prof_pct_watn3_mthlevel34",
          "val_prof_pct_watn3_mthlevel34",
          "val_prof_pct_watn3_mthlevel34",
          "val_prof_pct_watn3_mthlevel34",
          "val_prof_pct_watn3_mthlevel34",
          "val_prof_pct_watn3_mthlevel34",
          "val_prof_pct_watn3_mthlevel34",
          "val_prof_pct_watn3_mthlevel34",
          "val_prof_pct_watn3_mthlevel34",
          "val_prof_pct_watn3_mthlevel34",
          "val_prof_pct_watn3_mthlevel34",
          "val_prof_pct_watn3_mthlevel34",
          "val_prof_pct_watn3_mthlevel34",
          "val_prof_pct_watn3_mthlevel34",
          "val_prof_pct_watn3_mthlevel34",
          "val_prof_pct_watn3_mthlevel34",
          "val_prof_pct_watn3_mthlevel34",
          "val_prof_pct_watn3_mthlevel34",
          "val_prof_pct_watn3_mthlevel34",
          "val_prof_pct_watn3_mthlevel34",
          "val_prof_pct_watn3_mthlevel34",
          "val_prof_pct_watn3_mthlevel34",
          "val_prof_pct_watn3_mthlevel34",
          "val_prof_pct_watn3_mthlevel34",
          "val_prof_pct_watn3_mthlevel34",
          "val_prof_pct_watn3_mthlevel34",
          "val_prof_pct_watn3_mthlevel34",
          "val_prof_pct_watn3_mthlevel34",
          "val_prof_pct_watn3_mthlevel34",
          "val_prof_pct_watn3_mthlevel34",
          "val_prof_pct_watn3_mthlevel34",
          "val_prof_pct_watn3_mthlevel34",
          "val_prof_pct_watn3_mthlevel34",
          "val_prof_pct_watn3_mthlevel34",
          "school_type_elementary",
          "school_type_elementary",
          "school_type_elementary",
          "school_type_elementary",
          "school_type_elementary",
          "school_type_elementary",
          "school_type_elementary",
          "school_type_elementary",
          "school_type_elementary",
          "school_type_elementary",
          "school_type_elementary",
          "school_type_elementary",
          "school_type_elementary",
          "school_type_elementary",
          "school_type_elementary",
          "school_type_elementary",
          "school_type_elementary",
          "school_type_elementary",
          "school_type_elementary",
          "school_type_elementary",
          "school_type_elementary",
          "school_type_elementary",
          "school_type_elementary",
          "school_type_elementary",
          "school_type_elementary",
          "school_type_elementary",
          "school_type_elementary",
          "school_type_elementary",
          "school_type_elementary",
          "school_type_elementary",
          "school_type_elementary",
          "school_type_elementary",
          "school_type_elementary",
          "school_type_elementary",
          "school_type_elementary",
          "school_type_elementary",
          "school_type_elementary",
          "school_type_elementary",
          "school_type_elementary",
          "school_type_k-8",
          "school_type_k-8",
          "school_type_k-8",
          "school_type_k-8",
          "school_type_k-8",
          "school_type_k-8",
          "school_type_k-8",
          "school_type_k-8",
          "school_type_k-8",
          "school_type_k-8",
          "school_type_k-8",
          "school_type_k-8",
          "school_type_k-8",
          "school_type_k-8",
          "school_type_k-8",
          "school_type_k-8",
          "school_type_k-8",
          "school_type_k-8",
          "school_type_k-8",
          "school_type_k-8",
          "school_type_k-8",
          "school_type_k-8",
          "school_type_k-8",
          "school_type_k-8",
          "school_type_k-8",
          "school_type_k-8",
          "school_type_k-8",
          "school_type_k-8",
          "school_type_k-8",
          "school_type_k-8",
          "school_type_k-8",
          "school_type_k-8",
          "school_type_k-8",
          "school_type_k-8",
          "school_type_k-8",
          "school_type_k-8",
          "school_type_k-8",
          "school_type_k-8",
          "school_type_k-8",
          "school_type_middle",
          "school_type_middle",
          "school_type_middle",
          "school_type_middle",
          "school_type_middle",
          "school_type_middle",
          "school_type_middle",
          "school_type_middle",
          "school_type_middle",
          "school_type_middle",
          "school_type_middle",
          "school_type_middle",
          "school_type_middle",
          "school_type_middle",
          "school_type_middle",
          "school_type_middle",
          "school_type_middle",
          "school_type_middle",
          "school_type_middle",
          "school_type_middle",
          "school_type_middle",
          "school_type_middle",
          "school_type_middle",
          "school_type_middle",
          "school_type_middle",
          "school_type_middle",
          "school_type_middle",
          "school_type_middle",
          "school_type_middle",
          "school_type_middle",
          "school_type_middle",
          "school_type_middle",
          "school_type_middle",
          "school_type_middle",
          "school_type_middle",
          "school_type_middle",
          "school_type_middle",
          "school_type_middle",
          "school_type_middle",
          "district_02",
          "district_02",
          "district_02",
          "district_02",
          "district_02",
          "district_02",
          "district_02",
          "district_02",
          "district_02",
          "district_02",
          "district_02",
          "district_02",
          "district_02",
          "district_02",
          "district_02",
          "district_02",
          "district_02",
          "district_02",
          "district_02",
          "district_02",
          "district_02",
          "district_02",
          "district_02",
          "district_02",
          "district_02",
          "district_02",
          "district_02",
          "district_02",
          "district_02",
          "district_02",
          "district_02",
          "district_02",
          "district_02",
          "district_02",
          "district_02",
          "district_02",
          "district_02",
          "district_02",
          "district_02",
          "district_30",
          "district_30",
          "district_30",
          "district_30",
          "district_30",
          "district_30",
          "district_30",
          "district_30",
          "district_30",
          "district_30",
          "district_30",
          "district_30",
          "district_30",
          "district_30",
          "district_30",
          "district_30",
          "district_30",
          "district_30",
          "district_30",
          "district_30",
          "district_30",
          "district_30",
          "district_30",
          "district_30",
          "district_30",
          "district_30",
          "district_30",
          "district_30",
          "district_30",
          "district_30",
          "district_30",
          "district_30",
          "district_30",
          "district_30",
          "district_30",
          "district_30",
          "district_30",
          "district_30",
          "district_30",
          "borough_m",
          "borough_m",
          "borough_m",
          "borough_m",
          "borough_m",
          "borough_m",
          "borough_m",
          "borough_m",
          "borough_m",
          "borough_m",
          "borough_m",
          "borough_m",
          "borough_m",
          "borough_m",
          "borough_m",
          "borough_m",
          "borough_m",
          "borough_m",
          "borough_m",
          "borough_m",
          "borough_m",
          "borough_m",
          "borough_m",
          "borough_m",
          "borough_m",
          "borough_m",
          "borough_m",
          "borough_m",
          "borough_m",
          "borough_m",
          "borough_m",
          "borough_m",
          "borough_m",
          "borough_m",
          "borough_m",
          "borough_m",
          "borough_m",
          "borough_m",
          "borough_m",
          "borough_q",
          "borough_q",
          "borough_q",
          "borough_q",
          "borough_q",
          "borough_q",
          "borough_q",
          "borough_q",
          "borough_q",
          "borough_q",
          "borough_q",
          "borough_q",
          "borough_q",
          "borough_q",
          "borough_q",
          "borough_q",
          "borough_q",
          "borough_q",
          "borough_q",
          "borough_q",
          "borough_q",
          "borough_q",
          "borough_q",
          "borough_q",
          "borough_q",
          "borough_q",
          "borough_q",
          "borough_q",
          "borough_q",
          "borough_q",
          "borough_q",
          "borough_q",
          "borough_q",
          "borough_q",
          "borough_q",
          "borough_q",
          "borough_q",
          "borough_q",
          "borough_q",
          "qr_1_1_developing",
          "qr_1_1_developing",
          "qr_1_1_developing",
          "qr_1_1_developing",
          "qr_1_1_developing",
          "qr_1_1_developing",
          "qr_1_1_developing",
          "qr_1_1_developing",
          "qr_1_1_developing",
          "qr_1_1_developing",
          "qr_1_1_developing",
          "qr_1_1_developing",
          "qr_1_1_developing",
          "qr_1_1_developing",
          "qr_1_1_developing",
          "qr_1_1_developing",
          "qr_1_1_developing",
          "qr_1_1_developing",
          "qr_1_1_developing",
          "qr_1_1_developing",
          "qr_1_1_developing",
          "qr_1_1_developing",
          "qr_1_1_developing",
          "qr_1_1_developing",
          "qr_1_1_developing",
          "qr_1_1_developing",
          "qr_1_1_developing",
          "qr_1_1_developing",
          "qr_1_1_developing",
          "qr_1_1_developing",
          "qr_1_1_developing",
          "qr_1_1_developing",
          "qr_1_1_developing",
          "qr_1_1_developing",
          "qr_1_1_developing",
          "qr_1_1_developing",
          "qr_1_1_developing",
          "qr_1_1_developing",
          "qr_1_1_developing",
          "qr_1_1_proficient",
          "qr_1_1_proficient",
          "qr_1_1_proficient",
          "qr_1_1_proficient",
          "qr_1_1_proficient",
          "qr_1_1_proficient",
          "qr_1_1_proficient",
          "qr_1_1_proficient",
          "qr_1_1_proficient",
          "qr_1_1_proficient",
          "qr_1_1_proficient",
          "qr_1_1_proficient",
          "qr_1_1_proficient",
          "qr_1_1_proficient",
          "qr_1_1_proficient",
          "qr_1_1_proficient",
          "qr_1_1_proficient",
          "qr_1_1_proficient",
          "qr_1_1_proficient",
          "qr_1_1_proficient",
          "qr_1_1_proficient",
          "qr_1_1_proficient",
          "qr_1_1_proficient",
          "qr_1_1_proficient",
          "qr_1_1_proficient",
          "qr_1_1_proficient",
          "qr_1_1_proficient",
          "qr_1_1_proficient",
          "qr_1_1_proficient",
          "qr_1_1_proficient",
          "qr_1_1_proficient",
          "qr_1_1_proficient",
          "qr_1_1_proficient",
          "qr_1_1_proficient",
          "qr_1_1_proficient",
          "qr_1_1_proficient",
          "qr_1_1_proficient",
          "qr_1_1_proficient",
          "qr_1_1_proficient",
          "qr_1_1_well_developed",
          "qr_1_1_well_developed",
          "qr_1_1_well_developed",
          "qr_1_1_well_developed",
          "qr_1_1_well_developed",
          "qr_1_1_well_developed",
          "qr_1_1_well_developed",
          "qr_1_1_well_developed",
          "qr_1_1_well_developed",
          "qr_1_1_well_developed",
          "qr_1_1_well_developed",
          "qr_1_1_well_developed",
          "qr_1_1_well_developed",
          "qr_1_1_well_developed",
          "qr_1_1_well_developed",
          "qr_1_1_well_developed",
          "qr_1_1_well_developed",
          "qr_1_1_well_developed",
          "qr_1_1_well_developed",
          "qr_1_1_well_developed",
          "qr_1_1_well_developed",
          "qr_1_1_well_developed",
          "qr_1_1_well_developed",
          "qr_1_1_well_developed",
          "qr_1_1_well_developed",
          "qr_1_1_well_developed",
          "qr_1_1_well_developed",
          "qr_1_1_well_developed",
          "qr_1_1_well_developed",
          "qr_1_1_well_developed",
          "qr_1_1_well_developed",
          "qr_1_1_well_developed",
          "qr_1_1_well_developed",
          "qr_1_1_well_developed",
          "qr_1_1_well_developed",
          "qr_1_1_well_developed",
          "qr_1_1_well_developed",
          "qr_1_1_well_developed",
          "qr_1_1_well_developed",
          "qr_1_2_developing",
          "qr_1_2_developing",
          "qr_1_2_developing",
          "qr_1_2_developing",
          "qr_1_2_developing",
          "qr_1_2_developing",
          "qr_1_2_developing",
          "qr_1_2_developing",
          "qr_1_2_developing",
          "qr_1_2_developing",
          "qr_1_2_developing",
          "qr_1_2_developing",
          "qr_1_2_developing",
          "qr_1_2_developing",
          "qr_1_2_developing",
          "qr_1_2_developing",
          "qr_1_2_developing",
          "qr_1_2_developing",
          "qr_1_2_developing",
          "qr_1_2_developing",
          "qr_1_2_developing",
          "qr_1_2_developing",
          "qr_1_2_developing",
          "qr_1_2_developing",
          "qr_1_2_developing",
          "qr_1_2_developing",
          "qr_1_2_developing",
          "qr_1_2_developing",
          "qr_1_2_developing",
          "qr_1_2_developing",
          "qr_1_2_developing",
          "qr_1_2_developing",
          "qr_1_2_developing",
          "qr_1_2_developing",
          "qr_1_2_developing",
          "qr_1_2_developing",
          "qr_1_2_developing",
          "qr_1_2_developing",
          "qr_1_2_developing",
          "qr_1_2_proficient",
          "qr_1_2_proficient",
          "qr_1_2_proficient",
          "qr_1_2_proficient",
          "qr_1_2_proficient",
          "qr_1_2_proficient",
          "qr_1_2_proficient",
          "qr_1_2_proficient",
          "qr_1_2_proficient",
          "qr_1_2_proficient",
          "qr_1_2_proficient",
          "qr_1_2_proficient",
          "qr_1_2_proficient",
          "qr_1_2_proficient",
          "qr_1_2_proficient",
          "qr_1_2_proficient",
          "qr_1_2_proficient",
          "qr_1_2_proficient",
          "qr_1_2_proficient",
          "qr_1_2_proficient",
          "qr_1_2_proficient",
          "qr_1_2_proficient",
          "qr_1_2_proficient",
          "qr_1_2_proficient",
          "qr_1_2_proficient",
          "qr_1_2_proficient",
          "qr_1_2_proficient",
          "qr_1_2_proficient",
          "qr_1_2_proficient",
          "qr_1_2_proficient",
          "qr_1_2_proficient",
          "qr_1_2_proficient",
          "qr_1_2_proficient",
          "qr_1_2_proficient",
          "qr_1_2_proficient",
          "qr_1_2_proficient",
          "qr_1_2_proficient",
          "qr_1_2_proficient",
          "qr_1_2_proficient",
          "qr_1_2_well_developed",
          "qr_1_2_well_developed",
          "qr_1_2_well_developed",
          "qr_1_2_well_developed",
          "qr_1_2_well_developed",
          "qr_1_2_well_developed",
          "qr_1_2_well_developed",
          "qr_1_2_well_developed",
          "qr_1_2_well_developed",
          "qr_1_2_well_developed",
          "qr_1_2_well_developed",
          "qr_1_2_well_developed",
          "qr_1_2_well_developed",
          "qr_1_2_well_developed",
          "qr_1_2_well_developed",
          "qr_1_2_well_developed",
          "qr_1_2_well_developed",
          "qr_1_2_well_developed",
          "qr_1_2_well_developed",
          "qr_1_2_well_developed",
          "qr_1_2_well_developed",
          "qr_1_2_well_developed",
          "qr_1_2_well_developed",
          "qr_1_2_well_developed",
          "qr_1_2_well_developed",
          "qr_1_2_well_developed",
          "qr_1_2_well_developed",
          "qr_1_2_well_developed",
          "qr_1_2_well_developed",
          "qr_1_2_well_developed",
          "qr_1_2_well_developed",
          "qr_1_2_well_developed",
          "qr_1_2_well_developed",
          "qr_1_2_well_developed",
          "qr_1_2_well_developed",
          "qr_1_2_well_developed",
          "qr_1_2_well_developed",
          "qr_1_2_well_developed",
          "qr_1_2_well_developed",
          "qr_2_2_developing",
          "qr_2_2_developing",
          "qr_2_2_developing",
          "qr_2_2_developing",
          "qr_2_2_developing",
          "qr_2_2_developing",
          "qr_2_2_developing",
          "qr_2_2_developing",
          "qr_2_2_developing",
          "qr_2_2_developing",
          "qr_2_2_developing",
          "qr_2_2_developing",
          "qr_2_2_developing",
          "qr_2_2_developing",
          "qr_2_2_developing",
          "qr_2_2_developing",
          "qr_2_2_developing",
          "qr_2_2_developing",
          "qr_2_2_developing",
          "qr_2_2_developing",
          "qr_2_2_developing",
          "qr_2_2_developing",
          "qr_2_2_developing",
          "qr_2_2_developing",
          "qr_2_2_developing",
          "qr_2_2_developing",
          "qr_2_2_developing",
          "qr_2_2_developing",
          "qr_2_2_developing",
          "qr_2_2_developing",
          "qr_2_2_developing",
          "qr_2_2_developing",
          "qr_2_2_developing",
          "qr_2_2_developing",
          "qr_2_2_developing",
          "qr_2_2_developing",
          "qr_2_2_developing",
          "qr_2_2_developing",
          "qr_2_2_developing",
          "qr_2_2_proficient",
          "qr_2_2_proficient",
          "qr_2_2_proficient",
          "qr_2_2_proficient",
          "qr_2_2_proficient",
          "qr_2_2_proficient",
          "qr_2_2_proficient",
          "qr_2_2_proficient",
          "qr_2_2_proficient",
          "qr_2_2_proficient",
          "qr_2_2_proficient",
          "qr_2_2_proficient",
          "qr_2_2_proficient",
          "qr_2_2_proficient",
          "qr_2_2_proficient",
          "qr_2_2_proficient",
          "qr_2_2_proficient",
          "qr_2_2_proficient",
          "qr_2_2_proficient",
          "qr_2_2_proficient",
          "qr_2_2_proficient",
          "qr_2_2_proficient",
          "qr_2_2_proficient",
          "qr_2_2_proficient",
          "qr_2_2_proficient",
          "qr_2_2_proficient",
          "qr_2_2_proficient",
          "qr_2_2_proficient",
          "qr_2_2_proficient",
          "qr_2_2_proficient",
          "qr_2_2_proficient",
          "qr_2_2_proficient",
          "qr_2_2_proficient",
          "qr_2_2_proficient",
          "qr_2_2_proficient",
          "qr_2_2_proficient",
          "qr_2_2_proficient",
          "qr_2_2_proficient",
          "qr_2_2_proficient",
          "qr_2_2_well_developed",
          "qr_2_2_well_developed",
          "qr_2_2_well_developed",
          "qr_2_2_well_developed",
          "qr_2_2_well_developed",
          "qr_2_2_well_developed",
          "qr_2_2_well_developed",
          "qr_2_2_well_developed",
          "qr_2_2_well_developed",
          "qr_2_2_well_developed",
          "qr_2_2_well_developed",
          "qr_2_2_well_developed",
          "qr_2_2_well_developed",
          "qr_2_2_well_developed",
          "qr_2_2_well_developed",
          "qr_2_2_well_developed",
          "qr_2_2_well_developed",
          "qr_2_2_well_developed",
          "qr_2_2_well_developed",
          "qr_2_2_well_developed",
          "qr_2_2_well_developed",
          "qr_2_2_well_developed",
          "qr_2_2_well_developed",
          "qr_2_2_well_developed",
          "qr_2_2_well_developed",
          "qr_2_2_well_developed",
          "qr_2_2_well_developed",
          "qr_2_2_well_developed",
          "qr_2_2_well_developed",
          "qr_2_2_well_developed",
          "qr_2_2_well_developed",
          "qr_2_2_well_developed",
          "qr_2_2_well_developed",
          "qr_2_2_well_developed",
          "qr_2_2_well_developed",
          "qr_2_2_well_developed",
          "qr_2_2_well_developed",
          "qr_2_2_well_developed",
          "qr_2_2_well_developed",
          "qr_3_4_developing",
          "qr_3_4_developing",
          "qr_3_4_developing",
          "qr_3_4_developing",
          "qr_3_4_developing",
          "qr_3_4_developing",
          "qr_3_4_developing",
          "qr_3_4_developing",
          "qr_3_4_developing",
          "qr_3_4_developing",
          "qr_3_4_developing",
          "qr_3_4_developing",
          "qr_3_4_developing",
          "qr_3_4_developing",
          "qr_3_4_developing",
          "qr_3_4_developing",
          "qr_3_4_developing",
          "qr_3_4_developing",
          "qr_3_4_developing",
          "qr_3_4_developing",
          "qr_3_4_developing",
          "qr_3_4_developing",
          "qr_3_4_developing",
          "qr_3_4_developing",
          "qr_3_4_developing",
          "qr_3_4_developing",
          "qr_3_4_developing",
          "qr_3_4_developing",
          "qr_3_4_developing",
          "qr_3_4_developing",
          "qr_3_4_developing",
          "qr_3_4_developing",
          "qr_3_4_developing",
          "qr_3_4_developing",
          "qr_3_4_developing",
          "qr_3_4_developing",
          "qr_3_4_developing",
          "qr_3_4_developing",
          "qr_3_4_developing",
          "qr_3_4_proficient",
          "qr_3_4_proficient",
          "qr_3_4_proficient",
          "qr_3_4_proficient",
          "qr_3_4_proficient",
          "qr_3_4_proficient",
          "qr_3_4_proficient",
          "qr_3_4_proficient",
          "qr_3_4_proficient",
          "qr_3_4_proficient",
          "qr_3_4_proficient",
          "qr_3_4_proficient",
          "qr_3_4_proficient",
          "qr_3_4_proficient",
          "qr_3_4_proficient",
          "qr_3_4_proficient",
          "qr_3_4_proficient",
          "qr_3_4_proficient",
          "qr_3_4_proficient",
          "qr_3_4_proficient",
          "qr_3_4_proficient",
          "qr_3_4_proficient",
          "qr_3_4_proficient",
          "qr_3_4_proficient",
          "qr_3_4_proficient",
          "qr_3_4_proficient",
          "qr_3_4_proficient",
          "qr_3_4_proficient",
          "qr_3_4_proficient",
          "qr_3_4_proficient",
          "qr_3_4_proficient",
          "qr_3_4_proficient",
          "qr_3_4_proficient",
          "qr_3_4_proficient",
          "qr_3_4_proficient",
          "qr_3_4_proficient",
          "qr_3_4_proficient",
          "qr_3_4_proficient",
          "qr_3_4_proficient",
          "qr_3_4_well_developed",
          "qr_3_4_well_developed",
          "qr_3_4_well_developed",
          "qr_3_4_well_developed",
          "qr_3_4_well_developed",
          "qr_3_4_well_developed",
          "qr_3_4_well_developed",
          "qr_3_4_well_developed",
          "qr_3_4_well_developed",
          "qr_3_4_well_developed",
          "qr_3_4_well_developed",
          "qr_3_4_well_developed",
          "qr_3_4_well_developed",
          "qr_3_4_well_developed",
          "qr_3_4_well_developed",
          "qr_3_4_well_developed",
          "qr_3_4_well_developed",
          "qr_3_4_well_developed",
          "qr_3_4_well_developed",
          "qr_3_4_well_developed",
          "qr_3_4_well_developed",
          "qr_3_4_well_developed",
          "qr_3_4_well_developed",
          "qr_3_4_well_developed",
          "qr_3_4_well_developed",
          "qr_3_4_well_developed",
          "qr_3_4_well_developed",
          "qr_3_4_well_developed",
          "qr_3_4_well_developed",
          "qr_3_4_well_developed",
          "qr_3_4_well_developed",
          "qr_3_4_well_developed",
          "qr_3_4_well_developed",
          "qr_3_4_well_developed",
          "qr_3_4_well_developed",
          "qr_3_4_well_developed",
          "qr_3_4_well_developed",
          "qr_3_4_well_developed",
          "qr_3_4_well_developed",
          "qr_4_2_developing",
          "qr_4_2_developing",
          "qr_4_2_developing",
          "qr_4_2_developing",
          "qr_4_2_developing",
          "qr_4_2_developing",
          "qr_4_2_developing",
          "qr_4_2_developing",
          "qr_4_2_developing",
          "qr_4_2_developing",
          "qr_4_2_developing",
          "qr_4_2_developing",
          "qr_4_2_developing",
          "qr_4_2_developing",
          "qr_4_2_developing",
          "qr_4_2_developing",
          "qr_4_2_developing",
          "qr_4_2_developing",
          "qr_4_2_developing",
          "qr_4_2_developing",
          "qr_4_2_developing",
          "qr_4_2_developing",
          "qr_4_2_developing",
          "qr_4_2_developing",
          "qr_4_2_developing",
          "qr_4_2_developing",
          "qr_4_2_developing",
          "qr_4_2_developing",
          "qr_4_2_developing",
          "qr_4_2_developing",
          "qr_4_2_developing",
          "qr_4_2_developing",
          "qr_4_2_developing",
          "qr_4_2_developing",
          "qr_4_2_developing",
          "qr_4_2_developing",
          "qr_4_2_developing",
          "qr_4_2_developing",
          "qr_4_2_developing"
         ],
         "x0": " ",
         "xaxis": "x",
         "y": [
          null,
          6,
          null,
          33,
          19,
          20,
          13,
          9,
          null,
          5,
          8,
          39,
          null,
          6,
          null,
          null,
          null,
          null,
          null,
          17,
          35,
          15,
          16,
          27,
          11,
          20,
          null,
          9,
          null,
          null,
          20,
          null,
          14,
          null,
          null,
          null,
          12,
          null,
          null,
          null,
          null,
          null,
          0.212,
          0.368,
          0.15,
          null,
          null,
          null,
          null,
          null,
          0.154,
          null,
          null,
          null,
          null,
          null,
          null,
          null,
          0.235,
          0.143,
          0.333,
          0.188,
          0.444,
          null,
          0.05,
          null,
          null,
          null,
          null,
          0.85,
          null,
          null,
          null,
          null,
          null,
          null,
          null,
          null,
          null,
          29,
          null,
          45,
          32,
          42,
          35,
          27,
          null,
          9,
          19,
          45,
          null,
          15,
          null,
          null,
          null,
          null,
          null,
          44,
          67,
          24,
          18,
          41,
          32,
          27,
          null,
          25,
          null,
          null,
          30,
          null,
          38,
          null,
          null,
          null,
          12,
          null,
          null,
          null,
          0.345,
          null,
          0.267,
          0.094,
          0.167,
          0.114,
          0.111,
          null,
          null,
          0.158,
          0.111,
          null,
          0.133,
          null,
          null,
          null,
          null,
          null,
          0.182,
          0.045,
          0.208,
          0.056,
          0.317,
          0.094,
          0.074,
          null,
          0.2,
          null,
          null,
          0.4,
          null,
          0.158,
          null,
          null,
          null,
          null,
          null,
          null,
          58,
          64,
          null,
          74,
          29,
          91,
          66,
          22,
          null,
          22,
          49,
          39,
          null,
          33,
          null,
          null,
          null,
          null,
          null,
          43,
          69,
          99,
          24,
          97,
          128,
          30,
          null,
          68,
          null,
          null,
          33,
          null,
          49,
          null,
          null,
          null,
          27,
          null,
          null,
          0.966,
          0.766,
          null,
          0.662,
          0.655,
          0.769,
          0.667,
          0.545,
          null,
          0.818,
          0.735,
          0.744,
          null,
          0.545,
          null,
          null,
          null,
          null,
          null,
          0.605,
          0.536,
          0.798,
          0.583,
          0.722,
          0.727,
          0.6,
          null,
          0.618,
          null,
          null,
          0.909,
          null,
          0.571,
          null,
          null,
          null,
          0.556,
          null,
          null,
          null,
          24,
          null,
          41,
          24,
          40,
          28,
          24,
          null,
          5,
          18,
          39,
          null,
          7,
          null,
          null,
          null,
          null,
          null,
          30,
          58,
          27,
          13,
          37,
          38,
          23,
          null,
          22,
          null,
          null,
          21,
          null,
          35,
          null,
          null,
          null,
          6,
          null,
          null,
          null,
          0.208,
          null,
          0.171,
          0.208,
          0.45,
          0.25,
          0.042,
          null,
          null,
          0.056,
          0.179,
          null,
          null,
          null,
          null,
          null,
          null,
          null,
          0.167,
          0.241,
          0.333,
          null,
          0.351,
          0.342,
          0,
          null,
          0.273,
          null,
          null,
          0.619,
          null,
          0.286,
          null,
          null,
          null,
          null,
          null,
          null,
          58,
          67,
          null,
          75,
          34,
          88,
          74,
          24,
          null,
          23,
          47,
          38,
          null,
          43,
          null,
          null,
          null,
          null,
          null,
          56,
          66,
          93,
          21,
          96,
          116,
          28,
          null,
          66,
          null,
          null,
          29,
          null,
          46,
          null,
          null,
          null,
          31,
          null,
          null,
          0.983,
          0.896,
          null,
          0.72,
          0.735,
          0.898,
          0.676,
          0.667,
          null,
          0.783,
          0.851,
          0.763,
          null,
          0.488,
          null,
          null,
          null,
          null,
          null,
          0.571,
          0.697,
          0.957,
          0.762,
          0.906,
          0.914,
          0.357,
          null,
          0.788,
          null,
          null,
          0.931,
          null,
          0.717,
          null,
          null,
          null,
          0.613,
          null,
          null,
          1,
          1,
          0,
          1,
          1,
          1,
          1,
          1,
          0,
          1,
          1,
          1,
          0,
          1,
          0,
          0,
          0,
          0,
          0,
          1,
          1,
          1,
          1,
          1,
          1,
          1,
          0,
          1,
          0,
          0,
          1,
          0,
          1,
          0,
          0,
          0,
          1,
          1,
          0,
          0,
          0,
          0,
          0,
          0,
          0,
          0,
          0,
          1,
          0,
          0,
          0,
          1,
          0,
          1,
          0,
          1,
          0,
          0,
          0,
          0,
          0,
          0,
          0,
          0,
          0,
          0,
          0,
          0,
          0,
          0,
          0,
          0,
          0,
          0,
          1,
          0,
          0,
          0,
          0,
          0,
          1,
          0,
          0,
          0,
          0,
          0,
          0,
          0,
          0,
          0,
          0,
          0,
          0,
          1,
          0,
          1,
          1,
          0,
          0,
          0,
          0,
          0,
          0,
          0,
          1,
          0,
          1,
          1,
          0,
          1,
          0,
          1,
          1,
          0,
          0,
          0,
          1,
          1,
          0,
          0,
          0,
          0,
          0,
          0,
          0,
          0,
          0,
          0,
          0,
          0,
          0,
          0,
          0,
          0,
          0,
          0,
          0,
          0,
          0,
          0,
          0,
          0,
          0,
          0,
          0,
          0,
          0,
          0,
          0,
          0,
          0,
          0,
          0,
          0,
          0,
          0,
          0,
          1,
          1,
          1,
          1,
          1,
          1,
          1,
          1,
          1,
          1,
          1,
          1,
          1,
          1,
          1,
          1,
          1,
          1,
          1,
          1,
          1,
          1,
          1,
          1,
          1,
          1,
          1,
          1,
          1,
          1,
          1,
          1,
          1,
          1,
          1,
          1,
          1,
          1,
          1,
          0,
          0,
          0,
          0,
          0,
          0,
          0,
          0,
          0,
          0,
          0,
          0,
          0,
          0,
          0,
          0,
          0,
          0,
          0,
          0,
          0,
          0,
          0,
          0,
          0,
          0,
          0,
          0,
          0,
          0,
          0,
          0,
          0,
          0,
          0,
          0,
          0,
          0,
          0,
          1,
          1,
          1,
          1,
          1,
          1,
          1,
          1,
          1,
          1,
          1,
          1,
          1,
          1,
          1,
          1,
          1,
          1,
          1,
          1,
          1,
          1,
          1,
          1,
          1,
          1,
          1,
          1,
          1,
          1,
          1,
          1,
          1,
          1,
          1,
          1,
          1,
          1,
          0,
          0,
          0,
          0,
          0,
          0,
          0,
          1,
          0,
          0,
          0,
          0,
          0,
          0,
          0,
          0,
          0,
          0,
          0,
          0,
          0,
          0,
          0,
          0,
          0,
          0,
          0,
          0,
          0,
          0,
          0,
          0,
          0,
          0,
          0,
          0,
          0,
          0,
          0,
          0,
          0,
          1,
          1,
          1,
          1,
          0,
          0,
          1,
          1,
          1,
          1,
          1,
          1,
          1,
          1,
          1,
          0,
          1,
          1,
          0,
          1,
          1,
          1,
          1,
          1,
          0,
          1,
          0,
          1,
          1,
          0,
          1,
          0,
          0,
          1,
          1,
          1,
          1,
          1,
          1,
          0,
          0,
          0,
          0,
          1,
          0,
          0,
          0,
          0,
          0,
          0,
          0,
          0,
          0,
          0,
          1,
          0,
          0,
          1,
          0,
          0,
          0,
          0,
          0,
          1,
          0,
          1,
          0,
          0,
          1,
          0,
          1,
          1,
          0,
          0,
          0,
          0,
          0,
          0,
          0,
          0,
          0,
          0,
          0,
          1,
          0,
          0,
          0,
          1,
          0,
          0,
          0,
          0,
          0,
          0,
          0,
          0,
          0,
          0,
          0,
          0,
          0,
          0,
          0,
          0,
          0,
          0,
          0,
          0,
          0,
          0,
          0,
          1,
          0,
          0,
          0,
          0,
          1,
          1,
          1,
          1,
          1,
          0,
          0,
          0,
          0,
          1,
          0,
          1,
          1,
          0,
          1,
          1,
          0,
          1,
          1,
          1,
          1,
          1,
          0,
          1,
          1,
          1,
          1,
          0,
          1,
          0,
          1,
          1,
          1,
          0,
          0,
          1,
          1,
          1,
          1,
          0,
          0,
          0,
          0,
          0,
          1,
          0,
          1,
          1,
          0,
          0,
          0,
          0,
          1,
          0,
          0,
          1,
          0,
          0,
          0,
          0,
          0,
          1,
          0,
          0,
          0,
          0,
          1,
          0,
          1,
          0,
          0,
          0,
          1,
          0,
          0,
          0,
          0,
          0,
          0,
          0,
          0,
          1,
          0,
          0,
          1,
          0,
          0,
          0,
          0,
          0,
          0,
          0,
          0,
          0,
          0,
          0,
          1,
          0,
          0,
          0,
          0,
          0,
          0,
          0,
          0,
          0,
          0,
          0,
          0,
          0,
          0,
          0,
          1,
          0,
          0,
          0,
          1,
          0,
          1,
          1,
          0,
          1,
          1,
          0,
          1,
          0,
          1,
          1,
          1,
          1,
          1,
          1,
          1,
          0,
          1,
          0,
          1,
          1,
          1,
          1,
          0,
          0,
          1,
          1,
          1,
          0,
          0,
          1,
          1,
          0,
          0,
          0,
          1,
          1,
          1,
          0,
          1,
          0,
          0,
          0,
          0,
          0,
          0,
          0,
          1,
          0,
          0,
          0,
          0,
          0,
          0,
          0,
          1,
          0,
          0,
          0,
          0,
          0,
          0,
          1,
          1,
          0,
          0,
          0,
          1,
          1,
          0,
          0,
          1,
          1,
          0,
          0,
          0,
          0,
          0,
          0,
          0,
          0,
          0,
          0,
          0,
          0,
          0,
          0,
          0,
          0,
          0,
          0,
          0,
          0,
          0,
          0,
          0,
          0,
          0,
          0,
          0,
          0,
          0,
          0,
          0,
          0,
          0,
          0,
          0,
          0,
          0,
          0,
          0,
          0,
          0,
          0,
          1,
          0,
          0,
          1,
          0,
          1,
          0,
          0,
          0,
          0,
          1,
          0,
          1,
          1,
          1,
          0,
          1,
          1,
          0,
          1,
          1,
          0,
          1,
          0,
          1,
          0,
          0,
          1,
          1,
          0,
          0,
          0,
          0,
          0,
          0,
          0,
          1,
          0,
          0,
          0,
          1,
          1,
          0,
          1,
          0,
          1,
          1,
          1,
          1,
          0,
          1,
          0,
          0,
          0,
          1,
          0,
          0,
          1,
          0,
          0,
          1,
          0,
          1,
          0,
          1,
          1,
          0,
          0,
          1,
          1,
          1,
          1,
          1,
          1,
          1,
          0,
          1,
          1,
          0,
          0,
          0,
          0,
          0,
          0,
          0,
          0,
          0,
          0,
          0,
          0,
          0,
          0,
          1,
          0,
          0,
          0,
          0,
          0,
          0,
          0,
          0,
          0,
          0,
          0,
          0,
          0,
          0,
          0,
          0,
          0,
          0,
          0,
          0,
          0,
          1,
          0,
          0,
          0
         ],
         "y0": " ",
         "yaxis": "y"
        }
       ],
       "layout": {
        "boxmode": "group",
        "height": 600,
        "legend": {
         "tracegroupgap": 0
        },
        "margin": {
         "t": 60
        },
        "template": {
         "data": {
          "bar": [
           {
            "error_x": {
             "color": "#2a3f5f"
            },
            "error_y": {
             "color": "#2a3f5f"
            },
            "marker": {
             "line": {
              "color": "#E5ECF6",
              "width": 0.5
             },
             "pattern": {
              "fillmode": "overlay",
              "size": 10,
              "solidity": 0.2
             }
            },
            "type": "bar"
           }
          ],
          "barpolar": [
           {
            "marker": {
             "line": {
              "color": "#E5ECF6",
              "width": 0.5
             },
             "pattern": {
              "fillmode": "overlay",
              "size": 10,
              "solidity": 0.2
             }
            },
            "type": "barpolar"
           }
          ],
          "carpet": [
           {
            "aaxis": {
             "endlinecolor": "#2a3f5f",
             "gridcolor": "white",
             "linecolor": "white",
             "minorgridcolor": "white",
             "startlinecolor": "#2a3f5f"
            },
            "baxis": {
             "endlinecolor": "#2a3f5f",
             "gridcolor": "white",
             "linecolor": "white",
             "minorgridcolor": "white",
             "startlinecolor": "#2a3f5f"
            },
            "type": "carpet"
           }
          ],
          "choropleth": [
           {
            "colorbar": {
             "outlinewidth": 0,
             "ticks": ""
            },
            "type": "choropleth"
           }
          ],
          "contour": [
           {
            "colorbar": {
             "outlinewidth": 0,
             "ticks": ""
            },
            "colorscale": [
             [
              0,
              "#0d0887"
             ],
             [
              0.1111111111111111,
              "#46039f"
             ],
             [
              0.2222222222222222,
              "#7201a8"
             ],
             [
              0.3333333333333333,
              "#9c179e"
             ],
             [
              0.4444444444444444,
              "#bd3786"
             ],
             [
              0.5555555555555556,
              "#d8576b"
             ],
             [
              0.6666666666666666,
              "#ed7953"
             ],
             [
              0.7777777777777778,
              "#fb9f3a"
             ],
             [
              0.8888888888888888,
              "#fdca26"
             ],
             [
              1,
              "#f0f921"
             ]
            ],
            "type": "contour"
           }
          ],
          "contourcarpet": [
           {
            "colorbar": {
             "outlinewidth": 0,
             "ticks": ""
            },
            "type": "contourcarpet"
           }
          ],
          "heatmap": [
           {
            "colorbar": {
             "outlinewidth": 0,
             "ticks": ""
            },
            "colorscale": [
             [
              0,
              "#0d0887"
             ],
             [
              0.1111111111111111,
              "#46039f"
             ],
             [
              0.2222222222222222,
              "#7201a8"
             ],
             [
              0.3333333333333333,
              "#9c179e"
             ],
             [
              0.4444444444444444,
              "#bd3786"
             ],
             [
              0.5555555555555556,
              "#d8576b"
             ],
             [
              0.6666666666666666,
              "#ed7953"
             ],
             [
              0.7777777777777778,
              "#fb9f3a"
             ],
             [
              0.8888888888888888,
              "#fdca26"
             ],
             [
              1,
              "#f0f921"
             ]
            ],
            "type": "heatmap"
           }
          ],
          "heatmapgl": [
           {
            "colorbar": {
             "outlinewidth": 0,
             "ticks": ""
            },
            "colorscale": [
             [
              0,
              "#0d0887"
             ],
             [
              0.1111111111111111,
              "#46039f"
             ],
             [
              0.2222222222222222,
              "#7201a8"
             ],
             [
              0.3333333333333333,
              "#9c179e"
             ],
             [
              0.4444444444444444,
              "#bd3786"
             ],
             [
              0.5555555555555556,
              "#d8576b"
             ],
             [
              0.6666666666666666,
              "#ed7953"
             ],
             [
              0.7777777777777778,
              "#fb9f3a"
             ],
             [
              0.8888888888888888,
              "#fdca26"
             ],
             [
              1,
              "#f0f921"
             ]
            ],
            "type": "heatmapgl"
           }
          ],
          "histogram": [
           {
            "marker": {
             "pattern": {
              "fillmode": "overlay",
              "size": 10,
              "solidity": 0.2
             }
            },
            "type": "histogram"
           }
          ],
          "histogram2d": [
           {
            "colorbar": {
             "outlinewidth": 0,
             "ticks": ""
            },
            "colorscale": [
             [
              0,
              "#0d0887"
             ],
             [
              0.1111111111111111,
              "#46039f"
             ],
             [
              0.2222222222222222,
              "#7201a8"
             ],
             [
              0.3333333333333333,
              "#9c179e"
             ],
             [
              0.4444444444444444,
              "#bd3786"
             ],
             [
              0.5555555555555556,
              "#d8576b"
             ],
             [
              0.6666666666666666,
              "#ed7953"
             ],
             [
              0.7777777777777778,
              "#fb9f3a"
             ],
             [
              0.8888888888888888,
              "#fdca26"
             ],
             [
              1,
              "#f0f921"
             ]
            ],
            "type": "histogram2d"
           }
          ],
          "histogram2dcontour": [
           {
            "colorbar": {
             "outlinewidth": 0,
             "ticks": ""
            },
            "colorscale": [
             [
              0,
              "#0d0887"
             ],
             [
              0.1111111111111111,
              "#46039f"
             ],
             [
              0.2222222222222222,
              "#7201a8"
             ],
             [
              0.3333333333333333,
              "#9c179e"
             ],
             [
              0.4444444444444444,
              "#bd3786"
             ],
             [
              0.5555555555555556,
              "#d8576b"
             ],
             [
              0.6666666666666666,
              "#ed7953"
             ],
             [
              0.7777777777777778,
              "#fb9f3a"
             ],
             [
              0.8888888888888888,
              "#fdca26"
             ],
             [
              1,
              "#f0f921"
             ]
            ],
            "type": "histogram2dcontour"
           }
          ],
          "mesh3d": [
           {
            "colorbar": {
             "outlinewidth": 0,
             "ticks": ""
            },
            "type": "mesh3d"
           }
          ],
          "parcoords": [
           {
            "line": {
             "colorbar": {
              "outlinewidth": 0,
              "ticks": ""
             }
            },
            "type": "parcoords"
           }
          ],
          "pie": [
           {
            "automargin": true,
            "type": "pie"
           }
          ],
          "scatter": [
           {
            "marker": {
             "colorbar": {
              "outlinewidth": 0,
              "ticks": ""
             }
            },
            "type": "scatter"
           }
          ],
          "scatter3d": [
           {
            "line": {
             "colorbar": {
              "outlinewidth": 0,
              "ticks": ""
             }
            },
            "marker": {
             "colorbar": {
              "outlinewidth": 0,
              "ticks": ""
             }
            },
            "type": "scatter3d"
           }
          ],
          "scattercarpet": [
           {
            "marker": {
             "colorbar": {
              "outlinewidth": 0,
              "ticks": ""
             }
            },
            "type": "scattercarpet"
           }
          ],
          "scattergeo": [
           {
            "marker": {
             "colorbar": {
              "outlinewidth": 0,
              "ticks": ""
             }
            },
            "type": "scattergeo"
           }
          ],
          "scattergl": [
           {
            "marker": {
             "colorbar": {
              "outlinewidth": 0,
              "ticks": ""
             }
            },
            "type": "scattergl"
           }
          ],
          "scattermapbox": [
           {
            "marker": {
             "colorbar": {
              "outlinewidth": 0,
              "ticks": ""
             }
            },
            "type": "scattermapbox"
           }
          ],
          "scatterpolar": [
           {
            "marker": {
             "colorbar": {
              "outlinewidth": 0,
              "ticks": ""
             }
            },
            "type": "scatterpolar"
           }
          ],
          "scatterpolargl": [
           {
            "marker": {
             "colorbar": {
              "outlinewidth": 0,
              "ticks": ""
             }
            },
            "type": "scatterpolargl"
           }
          ],
          "scatterternary": [
           {
            "marker": {
             "colorbar": {
              "outlinewidth": 0,
              "ticks": ""
             }
            },
            "type": "scatterternary"
           }
          ],
          "surface": [
           {
            "colorbar": {
             "outlinewidth": 0,
             "ticks": ""
            },
            "colorscale": [
             [
              0,
              "#0d0887"
             ],
             [
              0.1111111111111111,
              "#46039f"
             ],
             [
              0.2222222222222222,
              "#7201a8"
             ],
             [
              0.3333333333333333,
              "#9c179e"
             ],
             [
              0.4444444444444444,
              "#bd3786"
             ],
             [
              0.5555555555555556,
              "#d8576b"
             ],
             [
              0.6666666666666666,
              "#ed7953"
             ],
             [
              0.7777777777777778,
              "#fb9f3a"
             ],
             [
              0.8888888888888888,
              "#fdca26"
             ],
             [
              1,
              "#f0f921"
             ]
            ],
            "type": "surface"
           }
          ],
          "table": [
           {
            "cells": {
             "fill": {
              "color": "#EBF0F8"
             },
             "line": {
              "color": "white"
             }
            },
            "header": {
             "fill": {
              "color": "#C8D4E3"
             },
             "line": {
              "color": "white"
             }
            },
            "type": "table"
           }
          ]
         },
         "layout": {
          "annotationdefaults": {
           "arrowcolor": "#2a3f5f",
           "arrowhead": 0,
           "arrowwidth": 1
          },
          "autotypenumbers": "strict",
          "coloraxis": {
           "colorbar": {
            "outlinewidth": 0,
            "ticks": ""
           }
          },
          "colorscale": {
           "diverging": [
            [
             0,
             "#8e0152"
            ],
            [
             0.1,
             "#c51b7d"
            ],
            [
             0.2,
             "#de77ae"
            ],
            [
             0.3,
             "#f1b6da"
            ],
            [
             0.4,
             "#fde0ef"
            ],
            [
             0.5,
             "#f7f7f7"
            ],
            [
             0.6,
             "#e6f5d0"
            ],
            [
             0.7,
             "#b8e186"
            ],
            [
             0.8,
             "#7fbc41"
            ],
            [
             0.9,
             "#4d9221"
            ],
            [
             1,
             "#276419"
            ]
           ],
           "sequential": [
            [
             0,
             "#0d0887"
            ],
            [
             0.1111111111111111,
             "#46039f"
            ],
            [
             0.2222222222222222,
             "#7201a8"
            ],
            [
             0.3333333333333333,
             "#9c179e"
            ],
            [
             0.4444444444444444,
             "#bd3786"
            ],
            [
             0.5555555555555556,
             "#d8576b"
            ],
            [
             0.6666666666666666,
             "#ed7953"
            ],
            [
             0.7777777777777778,
             "#fb9f3a"
            ],
            [
             0.8888888888888888,
             "#fdca26"
            ],
            [
             1,
             "#f0f921"
            ]
           ],
           "sequentialminus": [
            [
             0,
             "#0d0887"
            ],
            [
             0.1111111111111111,
             "#46039f"
            ],
            [
             0.2222222222222222,
             "#7201a8"
            ],
            [
             0.3333333333333333,
             "#9c179e"
            ],
            [
             0.4444444444444444,
             "#bd3786"
            ],
            [
             0.5555555555555556,
             "#d8576b"
            ],
            [
             0.6666666666666666,
             "#ed7953"
            ],
            [
             0.7777777777777778,
             "#fb9f3a"
            ],
            [
             0.8888888888888888,
             "#fdca26"
            ],
            [
             1,
             "#f0f921"
            ]
           ]
          },
          "colorway": [
           "#636efa",
           "#EF553B",
           "#00cc96",
           "#ab63fa",
           "#FFA15A",
           "#19d3f3",
           "#FF6692",
           "#B6E880",
           "#FF97FF",
           "#FECB52"
          ],
          "font": {
           "color": "#2a3f5f"
          },
          "geo": {
           "bgcolor": "white",
           "lakecolor": "white",
           "landcolor": "#E5ECF6",
           "showlakes": true,
           "showland": true,
           "subunitcolor": "white"
          },
          "hoverlabel": {
           "align": "left"
          },
          "hovermode": "closest",
          "mapbox": {
           "style": "light"
          },
          "paper_bgcolor": "white",
          "plot_bgcolor": "#E5ECF6",
          "polar": {
           "angularaxis": {
            "gridcolor": "white",
            "linecolor": "white",
            "ticks": ""
           },
           "bgcolor": "#E5ECF6",
           "radialaxis": {
            "gridcolor": "white",
            "linecolor": "white",
            "ticks": ""
           }
          },
          "scene": {
           "xaxis": {
            "backgroundcolor": "#E5ECF6",
            "gridcolor": "white",
            "gridwidth": 2,
            "linecolor": "white",
            "showbackground": true,
            "ticks": "",
            "zerolinecolor": "white"
           },
           "yaxis": {
            "backgroundcolor": "#E5ECF6",
            "gridcolor": "white",
            "gridwidth": 2,
            "linecolor": "white",
            "showbackground": true,
            "ticks": "",
            "zerolinecolor": "white"
           },
           "zaxis": {
            "backgroundcolor": "#E5ECF6",
            "gridcolor": "white",
            "gridwidth": 2,
            "linecolor": "white",
            "showbackground": true,
            "ticks": "",
            "zerolinecolor": "white"
           }
          },
          "shapedefaults": {
           "line": {
            "color": "#2a3f5f"
           }
          },
          "ternary": {
           "aaxis": {
            "gridcolor": "white",
            "linecolor": "white",
            "ticks": ""
           },
           "baxis": {
            "gridcolor": "white",
            "linecolor": "white",
            "ticks": ""
           },
           "bgcolor": "#E5ECF6",
           "caxis": {
            "gridcolor": "white",
            "linecolor": "white",
            "ticks": ""
           }
          },
          "title": {
           "x": 0.05
          },
          "xaxis": {
           "automargin": true,
           "gridcolor": "white",
           "linecolor": "white",
           "ticks": "",
           "title": {
            "standoff": 15
           },
           "zerolinecolor": "white",
           "zerolinewidth": 2
          },
          "yaxis": {
           "automargin": true,
           "gridcolor": "white",
           "linecolor": "white",
           "ticks": "",
           "title": {
            "standoff": 15
           },
           "zerolinecolor": "white",
           "zerolinewidth": 2
          }
         }
        },
        "width": 900,
        "xaxis": {
         "anchor": "y",
         "domain": [
          0,
          1
         ],
         "title": {
          "text": "variable"
         }
        },
        "yaxis": {
         "anchor": "x",
         "domain": [
          0,
          1
         ],
         "title": {
          "text": "value"
         }
        }
       }
      },
      "text/html": [
       "<div>                            <div id=\"6c45394d-51bc-4bdd-845e-45b28a536db8\" class=\"plotly-graph-div\" style=\"height:600px; width:900px;\"></div>            <script type=\"text/javascript\">                require([\"plotly\"], function(Plotly) {                    window.PLOTLYENV=window.PLOTLYENV || {};                                    if (document.getElementById(\"6c45394d-51bc-4bdd-845e-45b28a536db8\")) {                    Plotly.newPlot(                        \"6c45394d-51bc-4bdd-845e-45b28a536db8\",                        [{\"alignmentgroup\":\"True\",\"boxpoints\":\"outliers\",\"hovertemplate\":\"variable=%{x}<br>value=%{y}<extra></extra>\",\"legendgroup\":\"\",\"marker\":{\"color\":\"#636efa\"},\"name\":\"\",\"notched\":false,\"offsetgroup\":\"\",\"orientation\":\"v\",\"showlegend\":false,\"x\":[\"n_prof_2plus_watn3_mthlevel1\",\"n_prof_2plus_watn3_mthlevel1\",\"n_prof_2plus_watn3_mthlevel1\",\"n_prof_2plus_watn3_mthlevel1\",\"n_prof_2plus_watn3_mthlevel1\",\"n_prof_2plus_watn3_mthlevel1\",\"n_prof_2plus_watn3_mthlevel1\",\"n_prof_2plus_watn3_mthlevel1\",\"n_prof_2plus_watn3_mthlevel1\",\"n_prof_2plus_watn3_mthlevel1\",\"n_prof_2plus_watn3_mthlevel1\",\"n_prof_2plus_watn3_mthlevel1\",\"n_prof_2plus_watn3_mthlevel1\",\"n_prof_2plus_watn3_mthlevel1\",\"n_prof_2plus_watn3_mthlevel1\",\"n_prof_2plus_watn3_mthlevel1\",\"n_prof_2plus_watn3_mthlevel1\",\"n_prof_2plus_watn3_mthlevel1\",\"n_prof_2plus_watn3_mthlevel1\",\"n_prof_2plus_watn3_mthlevel1\",\"n_prof_2plus_watn3_mthlevel1\",\"n_prof_2plus_watn3_mthlevel1\",\"n_prof_2plus_watn3_mthlevel1\",\"n_prof_2plus_watn3_mthlevel1\",\"n_prof_2plus_watn3_mthlevel1\",\"n_prof_2plus_watn3_mthlevel1\",\"n_prof_2plus_watn3_mthlevel1\",\"n_prof_2plus_watn3_mthlevel1\",\"n_prof_2plus_watn3_mthlevel1\",\"n_prof_2plus_watn3_mthlevel1\",\"n_prof_2plus_watn3_mthlevel1\",\"n_prof_2plus_watn3_mthlevel1\",\"n_prof_2plus_watn3_mthlevel1\",\"n_prof_2plus_watn3_mthlevel1\",\"n_prof_2plus_watn3_mthlevel1\",\"n_prof_2plus_watn3_mthlevel1\",\"n_prof_2plus_watn3_mthlevel1\",\"n_prof_2plus_watn3_mthlevel1\",\"n_prof_2plus_watn3_mthlevel1\",\"val_prof_2plus_watn3_mthlevel1\",\"val_prof_2plus_watn3_mthlevel1\",\"val_prof_2plus_watn3_mthlevel1\",\"val_prof_2plus_watn3_mthlevel1\",\"val_prof_2plus_watn3_mthlevel1\",\"val_prof_2plus_watn3_mthlevel1\",\"val_prof_2plus_watn3_mthlevel1\",\"val_prof_2plus_watn3_mthlevel1\",\"val_prof_2plus_watn3_mthlevel1\",\"val_prof_2plus_watn3_mthlevel1\",\"val_prof_2plus_watn3_mthlevel1\",\"val_prof_2plus_watn3_mthlevel1\",\"val_prof_2plus_watn3_mthlevel1\",\"val_prof_2plus_watn3_mthlevel1\",\"val_prof_2plus_watn3_mthlevel1\",\"val_prof_2plus_watn3_mthlevel1\",\"val_prof_2plus_watn3_mthlevel1\",\"val_prof_2plus_watn3_mthlevel1\",\"val_prof_2plus_watn3_mthlevel1\",\"val_prof_2plus_watn3_mthlevel1\",\"val_prof_2plus_watn3_mthlevel1\",\"val_prof_2plus_watn3_mthlevel1\",\"val_prof_2plus_watn3_mthlevel1\",\"val_prof_2plus_watn3_mthlevel1\",\"val_prof_2plus_watn3_mthlevel1\",\"val_prof_2plus_watn3_mthlevel1\",\"val_prof_2plus_watn3_mthlevel1\",\"val_prof_2plus_watn3_mthlevel1\",\"val_prof_2plus_watn3_mthlevel1\",\"val_prof_2plus_watn3_mthlevel1\",\"val_prof_2plus_watn3_mthlevel1\",\"val_prof_2plus_watn3_mthlevel1\",\"val_prof_2plus_watn3_mthlevel1\",\"val_prof_2plus_watn3_mthlevel1\",\"val_prof_2plus_watn3_mthlevel1\",\"val_prof_2plus_watn3_mthlevel1\",\"val_prof_2plus_watn3_mthlevel1\",\"val_prof_2plus_watn3_mthlevel1\",\"val_prof_2plus_watn3_mthlevel1\",\"n_prof_pct_watn3_elalevel2\",\"n_prof_pct_watn3_elalevel2\",\"n_prof_pct_watn3_elalevel2\",\"n_prof_pct_watn3_elalevel2\",\"n_prof_pct_watn3_elalevel2\",\"n_prof_pct_watn3_elalevel2\",\"n_prof_pct_watn3_elalevel2\",\"n_prof_pct_watn3_elalevel2\",\"n_prof_pct_watn3_elalevel2\",\"n_prof_pct_watn3_elalevel2\",\"n_prof_pct_watn3_elalevel2\",\"n_prof_pct_watn3_elalevel2\",\"n_prof_pct_watn3_elalevel2\",\"n_prof_pct_watn3_elalevel2\",\"n_prof_pct_watn3_elalevel2\",\"n_prof_pct_watn3_elalevel2\",\"n_prof_pct_watn3_elalevel2\",\"n_prof_pct_watn3_elalevel2\",\"n_prof_pct_watn3_elalevel2\",\"n_prof_pct_watn3_elalevel2\",\"n_prof_pct_watn3_elalevel2\",\"n_prof_pct_watn3_elalevel2\",\"n_prof_pct_watn3_elalevel2\",\"n_prof_pct_watn3_elalevel2\",\"n_prof_pct_watn3_elalevel2\",\"n_prof_pct_watn3_elalevel2\",\"n_prof_pct_watn3_elalevel2\",\"n_prof_pct_watn3_elalevel2\",\"n_prof_pct_watn3_elalevel2\",\"n_prof_pct_watn3_elalevel2\",\"n_prof_pct_watn3_elalevel2\",\"n_prof_pct_watn3_elalevel2\",\"n_prof_pct_watn3_elalevel2\",\"n_prof_pct_watn3_elalevel2\",\"n_prof_pct_watn3_elalevel2\",\"n_prof_pct_watn3_elalevel2\",\"n_prof_pct_watn3_elalevel2\",\"n_prof_pct_watn3_elalevel2\",\"n_prof_pct_watn3_elalevel2\",\"val_prof_pct_watn3_elalevel2\",\"val_prof_pct_watn3_elalevel2\",\"val_prof_pct_watn3_elalevel2\",\"val_prof_pct_watn3_elalevel2\",\"val_prof_pct_watn3_elalevel2\",\"val_prof_pct_watn3_elalevel2\",\"val_prof_pct_watn3_elalevel2\",\"val_prof_pct_watn3_elalevel2\",\"val_prof_pct_watn3_elalevel2\",\"val_prof_pct_watn3_elalevel2\",\"val_prof_pct_watn3_elalevel2\",\"val_prof_pct_watn3_elalevel2\",\"val_prof_pct_watn3_elalevel2\",\"val_prof_pct_watn3_elalevel2\",\"val_prof_pct_watn3_elalevel2\",\"val_prof_pct_watn3_elalevel2\",\"val_prof_pct_watn3_elalevel2\",\"val_prof_pct_watn3_elalevel2\",\"val_prof_pct_watn3_elalevel2\",\"val_prof_pct_watn3_elalevel2\",\"val_prof_pct_watn3_elalevel2\",\"val_prof_pct_watn3_elalevel2\",\"val_prof_pct_watn3_elalevel2\",\"val_prof_pct_watn3_elalevel2\",\"val_prof_pct_watn3_elalevel2\",\"val_prof_pct_watn3_elalevel2\",\"val_prof_pct_watn3_elalevel2\",\"val_prof_pct_watn3_elalevel2\",\"val_prof_pct_watn3_elalevel2\",\"val_prof_pct_watn3_elalevel2\",\"val_prof_pct_watn3_elalevel2\",\"val_prof_pct_watn3_elalevel2\",\"val_prof_pct_watn3_elalevel2\",\"val_prof_pct_watn3_elalevel2\",\"val_prof_pct_watn3_elalevel2\",\"val_prof_pct_watn3_elalevel2\",\"val_prof_pct_watn3_elalevel2\",\"val_prof_pct_watn3_elalevel2\",\"val_prof_pct_watn3_elalevel2\",\"n_prof_pct_watn3_elalevel34\",\"n_prof_pct_watn3_elalevel34\",\"n_prof_pct_watn3_elalevel34\",\"n_prof_pct_watn3_elalevel34\",\"n_prof_pct_watn3_elalevel34\",\"n_prof_pct_watn3_elalevel34\",\"n_prof_pct_watn3_elalevel34\",\"n_prof_pct_watn3_elalevel34\",\"n_prof_pct_watn3_elalevel34\",\"n_prof_pct_watn3_elalevel34\",\"n_prof_pct_watn3_elalevel34\",\"n_prof_pct_watn3_elalevel34\",\"n_prof_pct_watn3_elalevel34\",\"n_prof_pct_watn3_elalevel34\",\"n_prof_pct_watn3_elalevel34\",\"n_prof_pct_watn3_elalevel34\",\"n_prof_pct_watn3_elalevel34\",\"n_prof_pct_watn3_elalevel34\",\"n_prof_pct_watn3_elalevel34\",\"n_prof_pct_watn3_elalevel34\",\"n_prof_pct_watn3_elalevel34\",\"n_prof_pct_watn3_elalevel34\",\"n_prof_pct_watn3_elalevel34\",\"n_prof_pct_watn3_elalevel34\",\"n_prof_pct_watn3_elalevel34\",\"n_prof_pct_watn3_elalevel34\",\"n_prof_pct_watn3_elalevel34\",\"n_prof_pct_watn3_elalevel34\",\"n_prof_pct_watn3_elalevel34\",\"n_prof_pct_watn3_elalevel34\",\"n_prof_pct_watn3_elalevel34\",\"n_prof_pct_watn3_elalevel34\",\"n_prof_pct_watn3_elalevel34\",\"n_prof_pct_watn3_elalevel34\",\"n_prof_pct_watn3_elalevel34\",\"n_prof_pct_watn3_elalevel34\",\"n_prof_pct_watn3_elalevel34\",\"n_prof_pct_watn3_elalevel34\",\"n_prof_pct_watn3_elalevel34\",\"val_prof_pct_watn3_elalevel34\",\"val_prof_pct_watn3_elalevel34\",\"val_prof_pct_watn3_elalevel34\",\"val_prof_pct_watn3_elalevel34\",\"val_prof_pct_watn3_elalevel34\",\"val_prof_pct_watn3_elalevel34\",\"val_prof_pct_watn3_elalevel34\",\"val_prof_pct_watn3_elalevel34\",\"val_prof_pct_watn3_elalevel34\",\"val_prof_pct_watn3_elalevel34\",\"val_prof_pct_watn3_elalevel34\",\"val_prof_pct_watn3_elalevel34\",\"val_prof_pct_watn3_elalevel34\",\"val_prof_pct_watn3_elalevel34\",\"val_prof_pct_watn3_elalevel34\",\"val_prof_pct_watn3_elalevel34\",\"val_prof_pct_watn3_elalevel34\",\"val_prof_pct_watn3_elalevel34\",\"val_prof_pct_watn3_elalevel34\",\"val_prof_pct_watn3_elalevel34\",\"val_prof_pct_watn3_elalevel34\",\"val_prof_pct_watn3_elalevel34\",\"val_prof_pct_watn3_elalevel34\",\"val_prof_pct_watn3_elalevel34\",\"val_prof_pct_watn3_elalevel34\",\"val_prof_pct_watn3_elalevel34\",\"val_prof_pct_watn3_elalevel34\",\"val_prof_pct_watn3_elalevel34\",\"val_prof_pct_watn3_elalevel34\",\"val_prof_pct_watn3_elalevel34\",\"val_prof_pct_watn3_elalevel34\",\"val_prof_pct_watn3_elalevel34\",\"val_prof_pct_watn3_elalevel34\",\"val_prof_pct_watn3_elalevel34\",\"val_prof_pct_watn3_elalevel34\",\"val_prof_pct_watn3_elalevel34\",\"val_prof_pct_watn3_elalevel34\",\"val_prof_pct_watn3_elalevel34\",\"val_prof_pct_watn3_elalevel34\",\"n_prof_pct_watn3_mthlevel2\",\"n_prof_pct_watn3_mthlevel2\",\"n_prof_pct_watn3_mthlevel2\",\"n_prof_pct_watn3_mthlevel2\",\"n_prof_pct_watn3_mthlevel2\",\"n_prof_pct_watn3_mthlevel2\",\"n_prof_pct_watn3_mthlevel2\",\"n_prof_pct_watn3_mthlevel2\",\"n_prof_pct_watn3_mthlevel2\",\"n_prof_pct_watn3_mthlevel2\",\"n_prof_pct_watn3_mthlevel2\",\"n_prof_pct_watn3_mthlevel2\",\"n_prof_pct_watn3_mthlevel2\",\"n_prof_pct_watn3_mthlevel2\",\"n_prof_pct_watn3_mthlevel2\",\"n_prof_pct_watn3_mthlevel2\",\"n_prof_pct_watn3_mthlevel2\",\"n_prof_pct_watn3_mthlevel2\",\"n_prof_pct_watn3_mthlevel2\",\"n_prof_pct_watn3_mthlevel2\",\"n_prof_pct_watn3_mthlevel2\",\"n_prof_pct_watn3_mthlevel2\",\"n_prof_pct_watn3_mthlevel2\",\"n_prof_pct_watn3_mthlevel2\",\"n_prof_pct_watn3_mthlevel2\",\"n_prof_pct_watn3_mthlevel2\",\"n_prof_pct_watn3_mthlevel2\",\"n_prof_pct_watn3_mthlevel2\",\"n_prof_pct_watn3_mthlevel2\",\"n_prof_pct_watn3_mthlevel2\",\"n_prof_pct_watn3_mthlevel2\",\"n_prof_pct_watn3_mthlevel2\",\"n_prof_pct_watn3_mthlevel2\",\"n_prof_pct_watn3_mthlevel2\",\"n_prof_pct_watn3_mthlevel2\",\"n_prof_pct_watn3_mthlevel2\",\"n_prof_pct_watn3_mthlevel2\",\"n_prof_pct_watn3_mthlevel2\",\"n_prof_pct_watn3_mthlevel2\",\"val_prof_pct_watn3_mthlevel2\",\"val_prof_pct_watn3_mthlevel2\",\"val_prof_pct_watn3_mthlevel2\",\"val_prof_pct_watn3_mthlevel2\",\"val_prof_pct_watn3_mthlevel2\",\"val_prof_pct_watn3_mthlevel2\",\"val_prof_pct_watn3_mthlevel2\",\"val_prof_pct_watn3_mthlevel2\",\"val_prof_pct_watn3_mthlevel2\",\"val_prof_pct_watn3_mthlevel2\",\"val_prof_pct_watn3_mthlevel2\",\"val_prof_pct_watn3_mthlevel2\",\"val_prof_pct_watn3_mthlevel2\",\"val_prof_pct_watn3_mthlevel2\",\"val_prof_pct_watn3_mthlevel2\",\"val_prof_pct_watn3_mthlevel2\",\"val_prof_pct_watn3_mthlevel2\",\"val_prof_pct_watn3_mthlevel2\",\"val_prof_pct_watn3_mthlevel2\",\"val_prof_pct_watn3_mthlevel2\",\"val_prof_pct_watn3_mthlevel2\",\"val_prof_pct_watn3_mthlevel2\",\"val_prof_pct_watn3_mthlevel2\",\"val_prof_pct_watn3_mthlevel2\",\"val_prof_pct_watn3_mthlevel2\",\"val_prof_pct_watn3_mthlevel2\",\"val_prof_pct_watn3_mthlevel2\",\"val_prof_pct_watn3_mthlevel2\",\"val_prof_pct_watn3_mthlevel2\",\"val_prof_pct_watn3_mthlevel2\",\"val_prof_pct_watn3_mthlevel2\",\"val_prof_pct_watn3_mthlevel2\",\"val_prof_pct_watn3_mthlevel2\",\"val_prof_pct_watn3_mthlevel2\",\"val_prof_pct_watn3_mthlevel2\",\"val_prof_pct_watn3_mthlevel2\",\"val_prof_pct_watn3_mthlevel2\",\"val_prof_pct_watn3_mthlevel2\",\"val_prof_pct_watn3_mthlevel2\",\"n_prof_pct_watn3_mthlevel34\",\"n_prof_pct_watn3_mthlevel34\",\"n_prof_pct_watn3_mthlevel34\",\"n_prof_pct_watn3_mthlevel34\",\"n_prof_pct_watn3_mthlevel34\",\"n_prof_pct_watn3_mthlevel34\",\"n_prof_pct_watn3_mthlevel34\",\"n_prof_pct_watn3_mthlevel34\",\"n_prof_pct_watn3_mthlevel34\",\"n_prof_pct_watn3_mthlevel34\",\"n_prof_pct_watn3_mthlevel34\",\"n_prof_pct_watn3_mthlevel34\",\"n_prof_pct_watn3_mthlevel34\",\"n_prof_pct_watn3_mthlevel34\",\"n_prof_pct_watn3_mthlevel34\",\"n_prof_pct_watn3_mthlevel34\",\"n_prof_pct_watn3_mthlevel34\",\"n_prof_pct_watn3_mthlevel34\",\"n_prof_pct_watn3_mthlevel34\",\"n_prof_pct_watn3_mthlevel34\",\"n_prof_pct_watn3_mthlevel34\",\"n_prof_pct_watn3_mthlevel34\",\"n_prof_pct_watn3_mthlevel34\",\"n_prof_pct_watn3_mthlevel34\",\"n_prof_pct_watn3_mthlevel34\",\"n_prof_pct_watn3_mthlevel34\",\"n_prof_pct_watn3_mthlevel34\",\"n_prof_pct_watn3_mthlevel34\",\"n_prof_pct_watn3_mthlevel34\",\"n_prof_pct_watn3_mthlevel34\",\"n_prof_pct_watn3_mthlevel34\",\"n_prof_pct_watn3_mthlevel34\",\"n_prof_pct_watn3_mthlevel34\",\"n_prof_pct_watn3_mthlevel34\",\"n_prof_pct_watn3_mthlevel34\",\"n_prof_pct_watn3_mthlevel34\",\"n_prof_pct_watn3_mthlevel34\",\"n_prof_pct_watn3_mthlevel34\",\"n_prof_pct_watn3_mthlevel34\",\"val_prof_pct_watn3_mthlevel34\",\"val_prof_pct_watn3_mthlevel34\",\"val_prof_pct_watn3_mthlevel34\",\"val_prof_pct_watn3_mthlevel34\",\"val_prof_pct_watn3_mthlevel34\",\"val_prof_pct_watn3_mthlevel34\",\"val_prof_pct_watn3_mthlevel34\",\"val_prof_pct_watn3_mthlevel34\",\"val_prof_pct_watn3_mthlevel34\",\"val_prof_pct_watn3_mthlevel34\",\"val_prof_pct_watn3_mthlevel34\",\"val_prof_pct_watn3_mthlevel34\",\"val_prof_pct_watn3_mthlevel34\",\"val_prof_pct_watn3_mthlevel34\",\"val_prof_pct_watn3_mthlevel34\",\"val_prof_pct_watn3_mthlevel34\",\"val_prof_pct_watn3_mthlevel34\",\"val_prof_pct_watn3_mthlevel34\",\"val_prof_pct_watn3_mthlevel34\",\"val_prof_pct_watn3_mthlevel34\",\"val_prof_pct_watn3_mthlevel34\",\"val_prof_pct_watn3_mthlevel34\",\"val_prof_pct_watn3_mthlevel34\",\"val_prof_pct_watn3_mthlevel34\",\"val_prof_pct_watn3_mthlevel34\",\"val_prof_pct_watn3_mthlevel34\",\"val_prof_pct_watn3_mthlevel34\",\"val_prof_pct_watn3_mthlevel34\",\"val_prof_pct_watn3_mthlevel34\",\"val_prof_pct_watn3_mthlevel34\",\"val_prof_pct_watn3_mthlevel34\",\"val_prof_pct_watn3_mthlevel34\",\"val_prof_pct_watn3_mthlevel34\",\"val_prof_pct_watn3_mthlevel34\",\"val_prof_pct_watn3_mthlevel34\",\"val_prof_pct_watn3_mthlevel34\",\"val_prof_pct_watn3_mthlevel34\",\"val_prof_pct_watn3_mthlevel34\",\"val_prof_pct_watn3_mthlevel34\",\"school_type_elementary\",\"school_type_elementary\",\"school_type_elementary\",\"school_type_elementary\",\"school_type_elementary\",\"school_type_elementary\",\"school_type_elementary\",\"school_type_elementary\",\"school_type_elementary\",\"school_type_elementary\",\"school_type_elementary\",\"school_type_elementary\",\"school_type_elementary\",\"school_type_elementary\",\"school_type_elementary\",\"school_type_elementary\",\"school_type_elementary\",\"school_type_elementary\",\"school_type_elementary\",\"school_type_elementary\",\"school_type_elementary\",\"school_type_elementary\",\"school_type_elementary\",\"school_type_elementary\",\"school_type_elementary\",\"school_type_elementary\",\"school_type_elementary\",\"school_type_elementary\",\"school_type_elementary\",\"school_type_elementary\",\"school_type_elementary\",\"school_type_elementary\",\"school_type_elementary\",\"school_type_elementary\",\"school_type_elementary\",\"school_type_elementary\",\"school_type_elementary\",\"school_type_elementary\",\"school_type_elementary\",\"school_type_k-8\",\"school_type_k-8\",\"school_type_k-8\",\"school_type_k-8\",\"school_type_k-8\",\"school_type_k-8\",\"school_type_k-8\",\"school_type_k-8\",\"school_type_k-8\",\"school_type_k-8\",\"school_type_k-8\",\"school_type_k-8\",\"school_type_k-8\",\"school_type_k-8\",\"school_type_k-8\",\"school_type_k-8\",\"school_type_k-8\",\"school_type_k-8\",\"school_type_k-8\",\"school_type_k-8\",\"school_type_k-8\",\"school_type_k-8\",\"school_type_k-8\",\"school_type_k-8\",\"school_type_k-8\",\"school_type_k-8\",\"school_type_k-8\",\"school_type_k-8\",\"school_type_k-8\",\"school_type_k-8\",\"school_type_k-8\",\"school_type_k-8\",\"school_type_k-8\",\"school_type_k-8\",\"school_type_k-8\",\"school_type_k-8\",\"school_type_k-8\",\"school_type_k-8\",\"school_type_k-8\",\"school_type_middle\",\"school_type_middle\",\"school_type_middle\",\"school_type_middle\",\"school_type_middle\",\"school_type_middle\",\"school_type_middle\",\"school_type_middle\",\"school_type_middle\",\"school_type_middle\",\"school_type_middle\",\"school_type_middle\",\"school_type_middle\",\"school_type_middle\",\"school_type_middle\",\"school_type_middle\",\"school_type_middle\",\"school_type_middle\",\"school_type_middle\",\"school_type_middle\",\"school_type_middle\",\"school_type_middle\",\"school_type_middle\",\"school_type_middle\",\"school_type_middle\",\"school_type_middle\",\"school_type_middle\",\"school_type_middle\",\"school_type_middle\",\"school_type_middle\",\"school_type_middle\",\"school_type_middle\",\"school_type_middle\",\"school_type_middle\",\"school_type_middle\",\"school_type_middle\",\"school_type_middle\",\"school_type_middle\",\"school_type_middle\",\"district_02\",\"district_02\",\"district_02\",\"district_02\",\"district_02\",\"district_02\",\"district_02\",\"district_02\",\"district_02\",\"district_02\",\"district_02\",\"district_02\",\"district_02\",\"district_02\",\"district_02\",\"district_02\",\"district_02\",\"district_02\",\"district_02\",\"district_02\",\"district_02\",\"district_02\",\"district_02\",\"district_02\",\"district_02\",\"district_02\",\"district_02\",\"district_02\",\"district_02\",\"district_02\",\"district_02\",\"district_02\",\"district_02\",\"district_02\",\"district_02\",\"district_02\",\"district_02\",\"district_02\",\"district_02\",\"district_30\",\"district_30\",\"district_30\",\"district_30\",\"district_30\",\"district_30\",\"district_30\",\"district_30\",\"district_30\",\"district_30\",\"district_30\",\"district_30\",\"district_30\",\"district_30\",\"district_30\",\"district_30\",\"district_30\",\"district_30\",\"district_30\",\"district_30\",\"district_30\",\"district_30\",\"district_30\",\"district_30\",\"district_30\",\"district_30\",\"district_30\",\"district_30\",\"district_30\",\"district_30\",\"district_30\",\"district_30\",\"district_30\",\"district_30\",\"district_30\",\"district_30\",\"district_30\",\"district_30\",\"district_30\",\"borough_m\",\"borough_m\",\"borough_m\",\"borough_m\",\"borough_m\",\"borough_m\",\"borough_m\",\"borough_m\",\"borough_m\",\"borough_m\",\"borough_m\",\"borough_m\",\"borough_m\",\"borough_m\",\"borough_m\",\"borough_m\",\"borough_m\",\"borough_m\",\"borough_m\",\"borough_m\",\"borough_m\",\"borough_m\",\"borough_m\",\"borough_m\",\"borough_m\",\"borough_m\",\"borough_m\",\"borough_m\",\"borough_m\",\"borough_m\",\"borough_m\",\"borough_m\",\"borough_m\",\"borough_m\",\"borough_m\",\"borough_m\",\"borough_m\",\"borough_m\",\"borough_m\",\"borough_q\",\"borough_q\",\"borough_q\",\"borough_q\",\"borough_q\",\"borough_q\",\"borough_q\",\"borough_q\",\"borough_q\",\"borough_q\",\"borough_q\",\"borough_q\",\"borough_q\",\"borough_q\",\"borough_q\",\"borough_q\",\"borough_q\",\"borough_q\",\"borough_q\",\"borough_q\",\"borough_q\",\"borough_q\",\"borough_q\",\"borough_q\",\"borough_q\",\"borough_q\",\"borough_q\",\"borough_q\",\"borough_q\",\"borough_q\",\"borough_q\",\"borough_q\",\"borough_q\",\"borough_q\",\"borough_q\",\"borough_q\",\"borough_q\",\"borough_q\",\"borough_q\",\"qr_1_1_developing\",\"qr_1_1_developing\",\"qr_1_1_developing\",\"qr_1_1_developing\",\"qr_1_1_developing\",\"qr_1_1_developing\",\"qr_1_1_developing\",\"qr_1_1_developing\",\"qr_1_1_developing\",\"qr_1_1_developing\",\"qr_1_1_developing\",\"qr_1_1_developing\",\"qr_1_1_developing\",\"qr_1_1_developing\",\"qr_1_1_developing\",\"qr_1_1_developing\",\"qr_1_1_developing\",\"qr_1_1_developing\",\"qr_1_1_developing\",\"qr_1_1_developing\",\"qr_1_1_developing\",\"qr_1_1_developing\",\"qr_1_1_developing\",\"qr_1_1_developing\",\"qr_1_1_developing\",\"qr_1_1_developing\",\"qr_1_1_developing\",\"qr_1_1_developing\",\"qr_1_1_developing\",\"qr_1_1_developing\",\"qr_1_1_developing\",\"qr_1_1_developing\",\"qr_1_1_developing\",\"qr_1_1_developing\",\"qr_1_1_developing\",\"qr_1_1_developing\",\"qr_1_1_developing\",\"qr_1_1_developing\",\"qr_1_1_developing\",\"qr_1_1_proficient\",\"qr_1_1_proficient\",\"qr_1_1_proficient\",\"qr_1_1_proficient\",\"qr_1_1_proficient\",\"qr_1_1_proficient\",\"qr_1_1_proficient\",\"qr_1_1_proficient\",\"qr_1_1_proficient\",\"qr_1_1_proficient\",\"qr_1_1_proficient\",\"qr_1_1_proficient\",\"qr_1_1_proficient\",\"qr_1_1_proficient\",\"qr_1_1_proficient\",\"qr_1_1_proficient\",\"qr_1_1_proficient\",\"qr_1_1_proficient\",\"qr_1_1_proficient\",\"qr_1_1_proficient\",\"qr_1_1_proficient\",\"qr_1_1_proficient\",\"qr_1_1_proficient\",\"qr_1_1_proficient\",\"qr_1_1_proficient\",\"qr_1_1_proficient\",\"qr_1_1_proficient\",\"qr_1_1_proficient\",\"qr_1_1_proficient\",\"qr_1_1_proficient\",\"qr_1_1_proficient\",\"qr_1_1_proficient\",\"qr_1_1_proficient\",\"qr_1_1_proficient\",\"qr_1_1_proficient\",\"qr_1_1_proficient\",\"qr_1_1_proficient\",\"qr_1_1_proficient\",\"qr_1_1_proficient\",\"qr_1_1_well_developed\",\"qr_1_1_well_developed\",\"qr_1_1_well_developed\",\"qr_1_1_well_developed\",\"qr_1_1_well_developed\",\"qr_1_1_well_developed\",\"qr_1_1_well_developed\",\"qr_1_1_well_developed\",\"qr_1_1_well_developed\",\"qr_1_1_well_developed\",\"qr_1_1_well_developed\",\"qr_1_1_well_developed\",\"qr_1_1_well_developed\",\"qr_1_1_well_developed\",\"qr_1_1_well_developed\",\"qr_1_1_well_developed\",\"qr_1_1_well_developed\",\"qr_1_1_well_developed\",\"qr_1_1_well_developed\",\"qr_1_1_well_developed\",\"qr_1_1_well_developed\",\"qr_1_1_well_developed\",\"qr_1_1_well_developed\",\"qr_1_1_well_developed\",\"qr_1_1_well_developed\",\"qr_1_1_well_developed\",\"qr_1_1_well_developed\",\"qr_1_1_well_developed\",\"qr_1_1_well_developed\",\"qr_1_1_well_developed\",\"qr_1_1_well_developed\",\"qr_1_1_well_developed\",\"qr_1_1_well_developed\",\"qr_1_1_well_developed\",\"qr_1_1_well_developed\",\"qr_1_1_well_developed\",\"qr_1_1_well_developed\",\"qr_1_1_well_developed\",\"qr_1_1_well_developed\",\"qr_1_2_developing\",\"qr_1_2_developing\",\"qr_1_2_developing\",\"qr_1_2_developing\",\"qr_1_2_developing\",\"qr_1_2_developing\",\"qr_1_2_developing\",\"qr_1_2_developing\",\"qr_1_2_developing\",\"qr_1_2_developing\",\"qr_1_2_developing\",\"qr_1_2_developing\",\"qr_1_2_developing\",\"qr_1_2_developing\",\"qr_1_2_developing\",\"qr_1_2_developing\",\"qr_1_2_developing\",\"qr_1_2_developing\",\"qr_1_2_developing\",\"qr_1_2_developing\",\"qr_1_2_developing\",\"qr_1_2_developing\",\"qr_1_2_developing\",\"qr_1_2_developing\",\"qr_1_2_developing\",\"qr_1_2_developing\",\"qr_1_2_developing\",\"qr_1_2_developing\",\"qr_1_2_developing\",\"qr_1_2_developing\",\"qr_1_2_developing\",\"qr_1_2_developing\",\"qr_1_2_developing\",\"qr_1_2_developing\",\"qr_1_2_developing\",\"qr_1_2_developing\",\"qr_1_2_developing\",\"qr_1_2_developing\",\"qr_1_2_developing\",\"qr_1_2_proficient\",\"qr_1_2_proficient\",\"qr_1_2_proficient\",\"qr_1_2_proficient\",\"qr_1_2_proficient\",\"qr_1_2_proficient\",\"qr_1_2_proficient\",\"qr_1_2_proficient\",\"qr_1_2_proficient\",\"qr_1_2_proficient\",\"qr_1_2_proficient\",\"qr_1_2_proficient\",\"qr_1_2_proficient\",\"qr_1_2_proficient\",\"qr_1_2_proficient\",\"qr_1_2_proficient\",\"qr_1_2_proficient\",\"qr_1_2_proficient\",\"qr_1_2_proficient\",\"qr_1_2_proficient\",\"qr_1_2_proficient\",\"qr_1_2_proficient\",\"qr_1_2_proficient\",\"qr_1_2_proficient\",\"qr_1_2_proficient\",\"qr_1_2_proficient\",\"qr_1_2_proficient\",\"qr_1_2_proficient\",\"qr_1_2_proficient\",\"qr_1_2_proficient\",\"qr_1_2_proficient\",\"qr_1_2_proficient\",\"qr_1_2_proficient\",\"qr_1_2_proficient\",\"qr_1_2_proficient\",\"qr_1_2_proficient\",\"qr_1_2_proficient\",\"qr_1_2_proficient\",\"qr_1_2_proficient\",\"qr_1_2_well_developed\",\"qr_1_2_well_developed\",\"qr_1_2_well_developed\",\"qr_1_2_well_developed\",\"qr_1_2_well_developed\",\"qr_1_2_well_developed\",\"qr_1_2_well_developed\",\"qr_1_2_well_developed\",\"qr_1_2_well_developed\",\"qr_1_2_well_developed\",\"qr_1_2_well_developed\",\"qr_1_2_well_developed\",\"qr_1_2_well_developed\",\"qr_1_2_well_developed\",\"qr_1_2_well_developed\",\"qr_1_2_well_developed\",\"qr_1_2_well_developed\",\"qr_1_2_well_developed\",\"qr_1_2_well_developed\",\"qr_1_2_well_developed\",\"qr_1_2_well_developed\",\"qr_1_2_well_developed\",\"qr_1_2_well_developed\",\"qr_1_2_well_developed\",\"qr_1_2_well_developed\",\"qr_1_2_well_developed\",\"qr_1_2_well_developed\",\"qr_1_2_well_developed\",\"qr_1_2_well_developed\",\"qr_1_2_well_developed\",\"qr_1_2_well_developed\",\"qr_1_2_well_developed\",\"qr_1_2_well_developed\",\"qr_1_2_well_developed\",\"qr_1_2_well_developed\",\"qr_1_2_well_developed\",\"qr_1_2_well_developed\",\"qr_1_2_well_developed\",\"qr_1_2_well_developed\",\"qr_2_2_developing\",\"qr_2_2_developing\",\"qr_2_2_developing\",\"qr_2_2_developing\",\"qr_2_2_developing\",\"qr_2_2_developing\",\"qr_2_2_developing\",\"qr_2_2_developing\",\"qr_2_2_developing\",\"qr_2_2_developing\",\"qr_2_2_developing\",\"qr_2_2_developing\",\"qr_2_2_developing\",\"qr_2_2_developing\",\"qr_2_2_developing\",\"qr_2_2_developing\",\"qr_2_2_developing\",\"qr_2_2_developing\",\"qr_2_2_developing\",\"qr_2_2_developing\",\"qr_2_2_developing\",\"qr_2_2_developing\",\"qr_2_2_developing\",\"qr_2_2_developing\",\"qr_2_2_developing\",\"qr_2_2_developing\",\"qr_2_2_developing\",\"qr_2_2_developing\",\"qr_2_2_developing\",\"qr_2_2_developing\",\"qr_2_2_developing\",\"qr_2_2_developing\",\"qr_2_2_developing\",\"qr_2_2_developing\",\"qr_2_2_developing\",\"qr_2_2_developing\",\"qr_2_2_developing\",\"qr_2_2_developing\",\"qr_2_2_developing\",\"qr_2_2_proficient\",\"qr_2_2_proficient\",\"qr_2_2_proficient\",\"qr_2_2_proficient\",\"qr_2_2_proficient\",\"qr_2_2_proficient\",\"qr_2_2_proficient\",\"qr_2_2_proficient\",\"qr_2_2_proficient\",\"qr_2_2_proficient\",\"qr_2_2_proficient\",\"qr_2_2_proficient\",\"qr_2_2_proficient\",\"qr_2_2_proficient\",\"qr_2_2_proficient\",\"qr_2_2_proficient\",\"qr_2_2_proficient\",\"qr_2_2_proficient\",\"qr_2_2_proficient\",\"qr_2_2_proficient\",\"qr_2_2_proficient\",\"qr_2_2_proficient\",\"qr_2_2_proficient\",\"qr_2_2_proficient\",\"qr_2_2_proficient\",\"qr_2_2_proficient\",\"qr_2_2_proficient\",\"qr_2_2_proficient\",\"qr_2_2_proficient\",\"qr_2_2_proficient\",\"qr_2_2_proficient\",\"qr_2_2_proficient\",\"qr_2_2_proficient\",\"qr_2_2_proficient\",\"qr_2_2_proficient\",\"qr_2_2_proficient\",\"qr_2_2_proficient\",\"qr_2_2_proficient\",\"qr_2_2_proficient\",\"qr_2_2_well_developed\",\"qr_2_2_well_developed\",\"qr_2_2_well_developed\",\"qr_2_2_well_developed\",\"qr_2_2_well_developed\",\"qr_2_2_well_developed\",\"qr_2_2_well_developed\",\"qr_2_2_well_developed\",\"qr_2_2_well_developed\",\"qr_2_2_well_developed\",\"qr_2_2_well_developed\",\"qr_2_2_well_developed\",\"qr_2_2_well_developed\",\"qr_2_2_well_developed\",\"qr_2_2_well_developed\",\"qr_2_2_well_developed\",\"qr_2_2_well_developed\",\"qr_2_2_well_developed\",\"qr_2_2_well_developed\",\"qr_2_2_well_developed\",\"qr_2_2_well_developed\",\"qr_2_2_well_developed\",\"qr_2_2_well_developed\",\"qr_2_2_well_developed\",\"qr_2_2_well_developed\",\"qr_2_2_well_developed\",\"qr_2_2_well_developed\",\"qr_2_2_well_developed\",\"qr_2_2_well_developed\",\"qr_2_2_well_developed\",\"qr_2_2_well_developed\",\"qr_2_2_well_developed\",\"qr_2_2_well_developed\",\"qr_2_2_well_developed\",\"qr_2_2_well_developed\",\"qr_2_2_well_developed\",\"qr_2_2_well_developed\",\"qr_2_2_well_developed\",\"qr_2_2_well_developed\",\"qr_3_4_developing\",\"qr_3_4_developing\",\"qr_3_4_developing\",\"qr_3_4_developing\",\"qr_3_4_developing\",\"qr_3_4_developing\",\"qr_3_4_developing\",\"qr_3_4_developing\",\"qr_3_4_developing\",\"qr_3_4_developing\",\"qr_3_4_developing\",\"qr_3_4_developing\",\"qr_3_4_developing\",\"qr_3_4_developing\",\"qr_3_4_developing\",\"qr_3_4_developing\",\"qr_3_4_developing\",\"qr_3_4_developing\",\"qr_3_4_developing\",\"qr_3_4_developing\",\"qr_3_4_developing\",\"qr_3_4_developing\",\"qr_3_4_developing\",\"qr_3_4_developing\",\"qr_3_4_developing\",\"qr_3_4_developing\",\"qr_3_4_developing\",\"qr_3_4_developing\",\"qr_3_4_developing\",\"qr_3_4_developing\",\"qr_3_4_developing\",\"qr_3_4_developing\",\"qr_3_4_developing\",\"qr_3_4_developing\",\"qr_3_4_developing\",\"qr_3_4_developing\",\"qr_3_4_developing\",\"qr_3_4_developing\",\"qr_3_4_developing\",\"qr_3_4_proficient\",\"qr_3_4_proficient\",\"qr_3_4_proficient\",\"qr_3_4_proficient\",\"qr_3_4_proficient\",\"qr_3_4_proficient\",\"qr_3_4_proficient\",\"qr_3_4_proficient\",\"qr_3_4_proficient\",\"qr_3_4_proficient\",\"qr_3_4_proficient\",\"qr_3_4_proficient\",\"qr_3_4_proficient\",\"qr_3_4_proficient\",\"qr_3_4_proficient\",\"qr_3_4_proficient\",\"qr_3_4_proficient\",\"qr_3_4_proficient\",\"qr_3_4_proficient\",\"qr_3_4_proficient\",\"qr_3_4_proficient\",\"qr_3_4_proficient\",\"qr_3_4_proficient\",\"qr_3_4_proficient\",\"qr_3_4_proficient\",\"qr_3_4_proficient\",\"qr_3_4_proficient\",\"qr_3_4_proficient\",\"qr_3_4_proficient\",\"qr_3_4_proficient\",\"qr_3_4_proficient\",\"qr_3_4_proficient\",\"qr_3_4_proficient\",\"qr_3_4_proficient\",\"qr_3_4_proficient\",\"qr_3_4_proficient\",\"qr_3_4_proficient\",\"qr_3_4_proficient\",\"qr_3_4_proficient\",\"qr_3_4_well_developed\",\"qr_3_4_well_developed\",\"qr_3_4_well_developed\",\"qr_3_4_well_developed\",\"qr_3_4_well_developed\",\"qr_3_4_well_developed\",\"qr_3_4_well_developed\",\"qr_3_4_well_developed\",\"qr_3_4_well_developed\",\"qr_3_4_well_developed\",\"qr_3_4_well_developed\",\"qr_3_4_well_developed\",\"qr_3_4_well_developed\",\"qr_3_4_well_developed\",\"qr_3_4_well_developed\",\"qr_3_4_well_developed\",\"qr_3_4_well_developed\",\"qr_3_4_well_developed\",\"qr_3_4_well_developed\",\"qr_3_4_well_developed\",\"qr_3_4_well_developed\",\"qr_3_4_well_developed\",\"qr_3_4_well_developed\",\"qr_3_4_well_developed\",\"qr_3_4_well_developed\",\"qr_3_4_well_developed\",\"qr_3_4_well_developed\",\"qr_3_4_well_developed\",\"qr_3_4_well_developed\",\"qr_3_4_well_developed\",\"qr_3_4_well_developed\",\"qr_3_4_well_developed\",\"qr_3_4_well_developed\",\"qr_3_4_well_developed\",\"qr_3_4_well_developed\",\"qr_3_4_well_developed\",\"qr_3_4_well_developed\",\"qr_3_4_well_developed\",\"qr_3_4_well_developed\",\"qr_4_2_developing\",\"qr_4_2_developing\",\"qr_4_2_developing\",\"qr_4_2_developing\",\"qr_4_2_developing\",\"qr_4_2_developing\",\"qr_4_2_developing\",\"qr_4_2_developing\",\"qr_4_2_developing\",\"qr_4_2_developing\",\"qr_4_2_developing\",\"qr_4_2_developing\",\"qr_4_2_developing\",\"qr_4_2_developing\",\"qr_4_2_developing\",\"qr_4_2_developing\",\"qr_4_2_developing\",\"qr_4_2_developing\",\"qr_4_2_developing\",\"qr_4_2_developing\",\"qr_4_2_developing\",\"qr_4_2_developing\",\"qr_4_2_developing\",\"qr_4_2_developing\",\"qr_4_2_developing\",\"qr_4_2_developing\",\"qr_4_2_developing\",\"qr_4_2_developing\",\"qr_4_2_developing\",\"qr_4_2_developing\",\"qr_4_2_developing\",\"qr_4_2_developing\",\"qr_4_2_developing\",\"qr_4_2_developing\",\"qr_4_2_developing\",\"qr_4_2_developing\",\"qr_4_2_developing\",\"qr_4_2_developing\",\"qr_4_2_developing\"],\"x0\":\" \",\"xaxis\":\"x\",\"y\":[null,6.0,null,33.0,19.0,20.0,13.0,9.0,null,5.0,8.0,39.0,null,6.0,null,null,null,null,null,17.0,35.0,15.0,16.0,27.0,11.0,20.0,null,9.0,null,null,20.0,null,14.0,null,null,null,12.0,null,null,null,null,null,0.212,0.368,0.15,null,null,null,null,null,0.154,null,null,null,null,null,null,null,0.235,0.143,0.333,0.188,0.444,null,0.05,null,null,null,null,0.85,null,null,null,null,null,null,null,null,null,29.0,null,45.0,32.0,42.0,35.0,27.0,null,9.0,19.0,45.0,null,15.0,null,null,null,null,null,44.0,67.0,24.0,18.0,41.0,32.0,27.0,null,25.0,null,null,30.0,null,38.0,null,null,null,12.0,null,null,null,0.345,null,0.267,0.094,0.167,0.114,0.111,null,null,0.158,0.111,null,0.133,null,null,null,null,null,0.182,0.045,0.208,0.056,0.317,0.094,0.074,null,0.2,null,null,0.4,null,0.158,null,null,null,null,null,null,58.0,64.0,null,74.0,29.0,91.0,66.0,22.0,null,22.0,49.0,39.0,null,33.0,null,null,null,null,null,43.0,69.0,99.0,24.0,97.0,128.0,30.0,null,68.0,null,null,33.0,null,49.0,null,null,null,27.0,null,null,0.966,0.766,null,0.662,0.655,0.769,0.667,0.545,null,0.818,0.735,0.744,null,0.545,null,null,null,null,null,0.605,0.536,0.798,0.583,0.722,0.727,0.6,null,0.618,null,null,0.909,null,0.571,null,null,null,0.556,null,null,null,24.0,null,41.0,24.0,40.0,28.0,24.0,null,5.0,18.0,39.0,null,7.0,null,null,null,null,null,30.0,58.0,27.0,13.0,37.0,38.0,23.0,null,22.0,null,null,21.0,null,35.0,null,null,null,6.0,null,null,null,0.208,null,0.171,0.208,0.45,0.25,0.042,null,null,0.056,0.179,null,null,null,null,null,null,null,0.167,0.241,0.333,null,0.351,0.342,0.0,null,0.273,null,null,0.619,null,0.286,null,null,null,null,null,null,58.0,67.0,null,75.0,34.0,88.0,74.0,24.0,null,23.0,47.0,38.0,null,43.0,null,null,null,null,null,56.0,66.0,93.0,21.0,96.0,116.0,28.0,null,66.0,null,null,29.0,null,46.0,null,null,null,31.0,null,null,0.983,0.896,null,0.72,0.735,0.898,0.676,0.667,null,0.783,0.851,0.763,null,0.488,null,null,null,null,null,0.571,0.697,0.957,0.762,0.906,0.914,0.357,null,0.788,null,null,0.931,null,0.717,null,null,null,0.613,null,null,1.0,1.0,0.0,1.0,1.0,1.0,1.0,1.0,0.0,1.0,1.0,1.0,0.0,1.0,0.0,0.0,0.0,0.0,0.0,1.0,1.0,1.0,1.0,1.0,1.0,1.0,0.0,1.0,0.0,0.0,1.0,0.0,1.0,0.0,0.0,0.0,1.0,1.0,0.0,0.0,0.0,0.0,0.0,0.0,0.0,0.0,0.0,1.0,0.0,0.0,0.0,1.0,0.0,1.0,0.0,1.0,0.0,0.0,0.0,0.0,0.0,0.0,0.0,0.0,0.0,0.0,0.0,0.0,0.0,0.0,0.0,0.0,0.0,0.0,1.0,0.0,0.0,0.0,0.0,0.0,1.0,0.0,0.0,0.0,0.0,0.0,0.0,0.0,0.0,0.0,0.0,0.0,0.0,1.0,0.0,1.0,1.0,0.0,0.0,0.0,0.0,0.0,0.0,0.0,1.0,0.0,1.0,1.0,0.0,1.0,0.0,1.0,1.0,0.0,0.0,0.0,1.0,1.0,0.0,0.0,0.0,0.0,0.0,0.0,0.0,0.0,0.0,0.0,0.0,0.0,0.0,0.0,0.0,0.0,0.0,0.0,0.0,0.0,0.0,0.0,0.0,0.0,0.0,0.0,0.0,0.0,0.0,0.0,0.0,0.0,0.0,0.0,0.0,0.0,0.0,0.0,0.0,1.0,1.0,1.0,1.0,1.0,1.0,1.0,1.0,1.0,1.0,1.0,1.0,1.0,1.0,1.0,1.0,1.0,1.0,1.0,1.0,1.0,1.0,1.0,1.0,1.0,1.0,1.0,1.0,1.0,1.0,1.0,1.0,1.0,1.0,1.0,1.0,1.0,1.0,1.0,0.0,0.0,0.0,0.0,0.0,0.0,0.0,0.0,0.0,0.0,0.0,0.0,0.0,0.0,0.0,0.0,0.0,0.0,0.0,0.0,0.0,0.0,0.0,0.0,0.0,0.0,0.0,0.0,0.0,0.0,0.0,0.0,0.0,0.0,0.0,0.0,0.0,0.0,0.0,1.0,1.0,1.0,1.0,1.0,1.0,1.0,1.0,1.0,1.0,1.0,1.0,1.0,1.0,1.0,1.0,1.0,1.0,1.0,1.0,1.0,1.0,1.0,1.0,1.0,1.0,1.0,1.0,1.0,1.0,1.0,1.0,1.0,1.0,1.0,1.0,1.0,1.0,0.0,0.0,0.0,0.0,0.0,0.0,0.0,1.0,0.0,0.0,0.0,0.0,0.0,0.0,0.0,0.0,0.0,0.0,0.0,0.0,0.0,0.0,0.0,0.0,0.0,0.0,0.0,0.0,0.0,0.0,0.0,0.0,0.0,0.0,0.0,0.0,0.0,0.0,0.0,0.0,0.0,1.0,1.0,1.0,1.0,0.0,0.0,1.0,1.0,1.0,1.0,1.0,1.0,1.0,1.0,1.0,0.0,1.0,1.0,0.0,1.0,1.0,1.0,1.0,1.0,0.0,1.0,0.0,1.0,1.0,0.0,1.0,0.0,0.0,1.0,1.0,1.0,1.0,1.0,1.0,0.0,0.0,0.0,0.0,1.0,0.0,0.0,0.0,0.0,0.0,0.0,0.0,0.0,0.0,0.0,1.0,0.0,0.0,1.0,0.0,0.0,0.0,0.0,0.0,1.0,0.0,1.0,0.0,0.0,1.0,0.0,1.0,1.0,0.0,0.0,0.0,0.0,0.0,0.0,0.0,0.0,0.0,0.0,0.0,1.0,0.0,0.0,0.0,1.0,0.0,0.0,0.0,0.0,0.0,0.0,0.0,0.0,0.0,0.0,0.0,0.0,0.0,0.0,0.0,0.0,0.0,0.0,0.0,0.0,0.0,0.0,0.0,1.0,0.0,0.0,0.0,0.0,1.0,1.0,1.0,1.0,1.0,0.0,0.0,0.0,0.0,1.0,0.0,1.0,1.0,0.0,1.0,1.0,0.0,1.0,1.0,1.0,1.0,1.0,0.0,1.0,1.0,1.0,1.0,0.0,1.0,0.0,1.0,1.0,1.0,0.0,0.0,1.0,1.0,1.0,1.0,0.0,0.0,0.0,0.0,0.0,1.0,0.0,1.0,1.0,0.0,0.0,0.0,0.0,1.0,0.0,0.0,1.0,0.0,0.0,0.0,0.0,0.0,1.0,0.0,0.0,0.0,0.0,1.0,0.0,1.0,0.0,0.0,0.0,1.0,0.0,0.0,0.0,0.0,0.0,0.0,0.0,0.0,1.0,0.0,0.0,1.0,0.0,0.0,0.0,0.0,0.0,0.0,0.0,0.0,0.0,0.0,0.0,1.0,0.0,0.0,0.0,0.0,0.0,0.0,0.0,0.0,0.0,0.0,0.0,0.0,0.0,0.0,0.0,1.0,0.0,0.0,0.0,1.0,0.0,1.0,1.0,0.0,1.0,1.0,0.0,1.0,0.0,1.0,1.0,1.0,1.0,1.0,1.0,1.0,0.0,1.0,0.0,1.0,1.0,1.0,1.0,0.0,0.0,1.0,1.0,1.0,0.0,0.0,1.0,1.0,0.0,0.0,0.0,1.0,1.0,1.0,0.0,1.0,0.0,0.0,0.0,0.0,0.0,0.0,0.0,1.0,0.0,0.0,0.0,0.0,0.0,0.0,0.0,1.0,0.0,0.0,0.0,0.0,0.0,0.0,1.0,1.0,0.0,0.0,0.0,1.0,1.0,0.0,0.0,1.0,1.0,0.0,0.0,0.0,0.0,0.0,0.0,0.0,0.0,0.0,0.0,0.0,0.0,0.0,0.0,0.0,0.0,0.0,0.0,0.0,0.0,0.0,0.0,0.0,0.0,0.0,0.0,0.0,0.0,0.0,0.0,0.0,0.0,0.0,0.0,0.0,0.0,0.0,0.0,0.0,0.0,0.0,0.0,1.0,0.0,0.0,1.0,0.0,1.0,0.0,0.0,0.0,0.0,1.0,0.0,1.0,1.0,1.0,0.0,1.0,1.0,0.0,1.0,1.0,0.0,1.0,0.0,1.0,0.0,0.0,1.0,1.0,0.0,0.0,0.0,0.0,0.0,0.0,0.0,1.0,0.0,0.0,0.0,1.0,1.0,0.0,1.0,0.0,1.0,1.0,1.0,1.0,0.0,1.0,0.0,0.0,0.0,1.0,0.0,0.0,1.0,0.0,0.0,1.0,0.0,1.0,0.0,1.0,1.0,0.0,0.0,1.0,1.0,1.0,1.0,1.0,1.0,1.0,0.0,1.0,1.0,0.0,0.0,0.0,0.0,0.0,0.0,0.0,0.0,0.0,0.0,0.0,0.0,0.0,0.0,1.0,0.0,0.0,0.0,0.0,0.0,0.0,0.0,0.0,0.0,0.0,0.0,0.0,0.0,0.0,0.0,0.0,0.0,0.0,0.0,0.0,0.0,1.0,0.0,0.0,0.0],\"y0\":\" \",\"yaxis\":\"y\",\"type\":\"box\"}],                        {\"template\":{\"data\":{\"bar\":[{\"error_x\":{\"color\":\"#2a3f5f\"},\"error_y\":{\"color\":\"#2a3f5f\"},\"marker\":{\"line\":{\"color\":\"#E5ECF6\",\"width\":0.5},\"pattern\":{\"fillmode\":\"overlay\",\"size\":10,\"solidity\":0.2}},\"type\":\"bar\"}],\"barpolar\":[{\"marker\":{\"line\":{\"color\":\"#E5ECF6\",\"width\":0.5},\"pattern\":{\"fillmode\":\"overlay\",\"size\":10,\"solidity\":0.2}},\"type\":\"barpolar\"}],\"carpet\":[{\"aaxis\":{\"endlinecolor\":\"#2a3f5f\",\"gridcolor\":\"white\",\"linecolor\":\"white\",\"minorgridcolor\":\"white\",\"startlinecolor\":\"#2a3f5f\"},\"baxis\":{\"endlinecolor\":\"#2a3f5f\",\"gridcolor\":\"white\",\"linecolor\":\"white\",\"minorgridcolor\":\"white\",\"startlinecolor\":\"#2a3f5f\"},\"type\":\"carpet\"}],\"choropleth\":[{\"colorbar\":{\"outlinewidth\":0,\"ticks\":\"\"},\"type\":\"choropleth\"}],\"contour\":[{\"colorbar\":{\"outlinewidth\":0,\"ticks\":\"\"},\"colorscale\":[[0.0,\"#0d0887\"],[0.1111111111111111,\"#46039f\"],[0.2222222222222222,\"#7201a8\"],[0.3333333333333333,\"#9c179e\"],[0.4444444444444444,\"#bd3786\"],[0.5555555555555556,\"#d8576b\"],[0.6666666666666666,\"#ed7953\"],[0.7777777777777778,\"#fb9f3a\"],[0.8888888888888888,\"#fdca26\"],[1.0,\"#f0f921\"]],\"type\":\"contour\"}],\"contourcarpet\":[{\"colorbar\":{\"outlinewidth\":0,\"ticks\":\"\"},\"type\":\"contourcarpet\"}],\"heatmap\":[{\"colorbar\":{\"outlinewidth\":0,\"ticks\":\"\"},\"colorscale\":[[0.0,\"#0d0887\"],[0.1111111111111111,\"#46039f\"],[0.2222222222222222,\"#7201a8\"],[0.3333333333333333,\"#9c179e\"],[0.4444444444444444,\"#bd3786\"],[0.5555555555555556,\"#d8576b\"],[0.6666666666666666,\"#ed7953\"],[0.7777777777777778,\"#fb9f3a\"],[0.8888888888888888,\"#fdca26\"],[1.0,\"#f0f921\"]],\"type\":\"heatmap\"}],\"heatmapgl\":[{\"colorbar\":{\"outlinewidth\":0,\"ticks\":\"\"},\"colorscale\":[[0.0,\"#0d0887\"],[0.1111111111111111,\"#46039f\"],[0.2222222222222222,\"#7201a8\"],[0.3333333333333333,\"#9c179e\"],[0.4444444444444444,\"#bd3786\"],[0.5555555555555556,\"#d8576b\"],[0.6666666666666666,\"#ed7953\"],[0.7777777777777778,\"#fb9f3a\"],[0.8888888888888888,\"#fdca26\"],[1.0,\"#f0f921\"]],\"type\":\"heatmapgl\"}],\"histogram\":[{\"marker\":{\"pattern\":{\"fillmode\":\"overlay\",\"size\":10,\"solidity\":0.2}},\"type\":\"histogram\"}],\"histogram2d\":[{\"colorbar\":{\"outlinewidth\":0,\"ticks\":\"\"},\"colorscale\":[[0.0,\"#0d0887\"],[0.1111111111111111,\"#46039f\"],[0.2222222222222222,\"#7201a8\"],[0.3333333333333333,\"#9c179e\"],[0.4444444444444444,\"#bd3786\"],[0.5555555555555556,\"#d8576b\"],[0.6666666666666666,\"#ed7953\"],[0.7777777777777778,\"#fb9f3a\"],[0.8888888888888888,\"#fdca26\"],[1.0,\"#f0f921\"]],\"type\":\"histogram2d\"}],\"histogram2dcontour\":[{\"colorbar\":{\"outlinewidth\":0,\"ticks\":\"\"},\"colorscale\":[[0.0,\"#0d0887\"],[0.1111111111111111,\"#46039f\"],[0.2222222222222222,\"#7201a8\"],[0.3333333333333333,\"#9c179e\"],[0.4444444444444444,\"#bd3786\"],[0.5555555555555556,\"#d8576b\"],[0.6666666666666666,\"#ed7953\"],[0.7777777777777778,\"#fb9f3a\"],[0.8888888888888888,\"#fdca26\"],[1.0,\"#f0f921\"]],\"type\":\"histogram2dcontour\"}],\"mesh3d\":[{\"colorbar\":{\"outlinewidth\":0,\"ticks\":\"\"},\"type\":\"mesh3d\"}],\"parcoords\":[{\"line\":{\"colorbar\":{\"outlinewidth\":0,\"ticks\":\"\"}},\"type\":\"parcoords\"}],\"pie\":[{\"automargin\":true,\"type\":\"pie\"}],\"scatter\":[{\"marker\":{\"colorbar\":{\"outlinewidth\":0,\"ticks\":\"\"}},\"type\":\"scatter\"}],\"scatter3d\":[{\"line\":{\"colorbar\":{\"outlinewidth\":0,\"ticks\":\"\"}},\"marker\":{\"colorbar\":{\"outlinewidth\":0,\"ticks\":\"\"}},\"type\":\"scatter3d\"}],\"scattercarpet\":[{\"marker\":{\"colorbar\":{\"outlinewidth\":0,\"ticks\":\"\"}},\"type\":\"scattercarpet\"}],\"scattergeo\":[{\"marker\":{\"colorbar\":{\"outlinewidth\":0,\"ticks\":\"\"}},\"type\":\"scattergeo\"}],\"scattergl\":[{\"marker\":{\"colorbar\":{\"outlinewidth\":0,\"ticks\":\"\"}},\"type\":\"scattergl\"}],\"scattermapbox\":[{\"marker\":{\"colorbar\":{\"outlinewidth\":0,\"ticks\":\"\"}},\"type\":\"scattermapbox\"}],\"scatterpolar\":[{\"marker\":{\"colorbar\":{\"outlinewidth\":0,\"ticks\":\"\"}},\"type\":\"scatterpolar\"}],\"scatterpolargl\":[{\"marker\":{\"colorbar\":{\"outlinewidth\":0,\"ticks\":\"\"}},\"type\":\"scatterpolargl\"}],\"scatterternary\":[{\"marker\":{\"colorbar\":{\"outlinewidth\":0,\"ticks\":\"\"}},\"type\":\"scatterternary\"}],\"surface\":[{\"colorbar\":{\"outlinewidth\":0,\"ticks\":\"\"},\"colorscale\":[[0.0,\"#0d0887\"],[0.1111111111111111,\"#46039f\"],[0.2222222222222222,\"#7201a8\"],[0.3333333333333333,\"#9c179e\"],[0.4444444444444444,\"#bd3786\"],[0.5555555555555556,\"#d8576b\"],[0.6666666666666666,\"#ed7953\"],[0.7777777777777778,\"#fb9f3a\"],[0.8888888888888888,\"#fdca26\"],[1.0,\"#f0f921\"]],\"type\":\"surface\"}],\"table\":[{\"cells\":{\"fill\":{\"color\":\"#EBF0F8\"},\"line\":{\"color\":\"white\"}},\"header\":{\"fill\":{\"color\":\"#C8D4E3\"},\"line\":{\"color\":\"white\"}},\"type\":\"table\"}]},\"layout\":{\"annotationdefaults\":{\"arrowcolor\":\"#2a3f5f\",\"arrowhead\":0,\"arrowwidth\":1},\"autotypenumbers\":\"strict\",\"coloraxis\":{\"colorbar\":{\"outlinewidth\":0,\"ticks\":\"\"}},\"colorscale\":{\"diverging\":[[0,\"#8e0152\"],[0.1,\"#c51b7d\"],[0.2,\"#de77ae\"],[0.3,\"#f1b6da\"],[0.4,\"#fde0ef\"],[0.5,\"#f7f7f7\"],[0.6,\"#e6f5d0\"],[0.7,\"#b8e186\"],[0.8,\"#7fbc41\"],[0.9,\"#4d9221\"],[1,\"#276419\"]],\"sequential\":[[0.0,\"#0d0887\"],[0.1111111111111111,\"#46039f\"],[0.2222222222222222,\"#7201a8\"],[0.3333333333333333,\"#9c179e\"],[0.4444444444444444,\"#bd3786\"],[0.5555555555555556,\"#d8576b\"],[0.6666666666666666,\"#ed7953\"],[0.7777777777777778,\"#fb9f3a\"],[0.8888888888888888,\"#fdca26\"],[1.0,\"#f0f921\"]],\"sequentialminus\":[[0.0,\"#0d0887\"],[0.1111111111111111,\"#46039f\"],[0.2222222222222222,\"#7201a8\"],[0.3333333333333333,\"#9c179e\"],[0.4444444444444444,\"#bd3786\"],[0.5555555555555556,\"#d8576b\"],[0.6666666666666666,\"#ed7953\"],[0.7777777777777778,\"#fb9f3a\"],[0.8888888888888888,\"#fdca26\"],[1.0,\"#f0f921\"]]},\"colorway\":[\"#636efa\",\"#EF553B\",\"#00cc96\",\"#ab63fa\",\"#FFA15A\",\"#19d3f3\",\"#FF6692\",\"#B6E880\",\"#FF97FF\",\"#FECB52\"],\"font\":{\"color\":\"#2a3f5f\"},\"geo\":{\"bgcolor\":\"white\",\"lakecolor\":\"white\",\"landcolor\":\"#E5ECF6\",\"showlakes\":true,\"showland\":true,\"subunitcolor\":\"white\"},\"hoverlabel\":{\"align\":\"left\"},\"hovermode\":\"closest\",\"mapbox\":{\"style\":\"light\"},\"paper_bgcolor\":\"white\",\"plot_bgcolor\":\"#E5ECF6\",\"polar\":{\"angularaxis\":{\"gridcolor\":\"white\",\"linecolor\":\"white\",\"ticks\":\"\"},\"bgcolor\":\"#E5ECF6\",\"radialaxis\":{\"gridcolor\":\"white\",\"linecolor\":\"white\",\"ticks\":\"\"}},\"scene\":{\"xaxis\":{\"backgroundcolor\":\"#E5ECF6\",\"gridcolor\":\"white\",\"gridwidth\":2,\"linecolor\":\"white\",\"showbackground\":true,\"ticks\":\"\",\"zerolinecolor\":\"white\"},\"yaxis\":{\"backgroundcolor\":\"#E5ECF6\",\"gridcolor\":\"white\",\"gridwidth\":2,\"linecolor\":\"white\",\"showbackground\":true,\"ticks\":\"\",\"zerolinecolor\":\"white\"},\"zaxis\":{\"backgroundcolor\":\"#E5ECF6\",\"gridcolor\":\"white\",\"gridwidth\":2,\"linecolor\":\"white\",\"showbackground\":true,\"ticks\":\"\",\"zerolinecolor\":\"white\"}},\"shapedefaults\":{\"line\":{\"color\":\"#2a3f5f\"}},\"ternary\":{\"aaxis\":{\"gridcolor\":\"white\",\"linecolor\":\"white\",\"ticks\":\"\"},\"baxis\":{\"gridcolor\":\"white\",\"linecolor\":\"white\",\"ticks\":\"\"},\"bgcolor\":\"#E5ECF6\",\"caxis\":{\"gridcolor\":\"white\",\"linecolor\":\"white\",\"ticks\":\"\"}},\"title\":{\"x\":0.05},\"xaxis\":{\"automargin\":true,\"gridcolor\":\"white\",\"linecolor\":\"white\",\"ticks\":\"\",\"title\":{\"standoff\":15},\"zerolinecolor\":\"white\",\"zerolinewidth\":2},\"yaxis\":{\"automargin\":true,\"gridcolor\":\"white\",\"linecolor\":\"white\",\"ticks\":\"\",\"title\":{\"standoff\":15},\"zerolinecolor\":\"white\",\"zerolinewidth\":2}}},\"xaxis\":{\"anchor\":\"y\",\"domain\":[0.0,1.0],\"title\":{\"text\":\"variable\"}},\"yaxis\":{\"anchor\":\"x\",\"domain\":[0.0,1.0],\"title\":{\"text\":\"value\"}},\"legend\":{\"tracegroupgap\":0},\"margin\":{\"t\":60},\"boxmode\":\"group\",\"height\":600,\"width\":900},                        {\"responsive\": true}                    ).then(function(){\n",
       "                            \n",
       "var gd = document.getElementById('6c45394d-51bc-4bdd-845e-45b28a536db8');\n",
       "var x = new MutationObserver(function (mutations, observer) {{\n",
       "        var display = window.getComputedStyle(gd).display;\n",
       "        if (!display || display === 'none') {{\n",
       "            console.log([gd, 'removed!']);\n",
       "            Plotly.purge(gd);\n",
       "            observer.disconnect();\n",
       "        }}\n",
       "}});\n",
       "\n",
       "// Listen for the removal of the full notebook cells\n",
       "var notebookContainer = gd.closest('#notebook-container');\n",
       "if (notebookContainer) {{\n",
       "    x.observe(notebookContainer, {childList: true});\n",
       "}}\n",
       "\n",
       "// Listen for the clearing of the current output cell\n",
       "var outputEl = gd.closest('.output');\n",
       "if (outputEl) {{\n",
       "    x.observe(outputEl, {childList: true});\n",
       "}}\n",
       "\n",
       "                        })                };                });            </script>        </div>"
      ]
     },
     "metadata": {},
     "output_type": "display_data"
    }
   ],
   "source": [
    "# check the distribution of each variable\n",
    "fig = px.box(pd.melt(modeldf.iloc[:,120:150]), x=\"variable\", y=\"value\", points=\"outliers\")\n",
    "fig.update_layout(height=600, width=900)"
   ]
  },
  {
   "cell_type": "code",
   "execution_count": 265,
   "id": "7fb66682",
   "metadata": {},
   "outputs": [],
   "source": [
    "# must fill null values - WITH WHAT?\n",
    "imputer = SimpleImputer(missing_values=np.nan, strategy='median')\n",
    "modeldf_Imp = pd.DataFrame(imputer.fit_transform(modeldf.T))\n",
    "\n",
    "### apply standardized scalar\n",
    "scaler = StandardScaler()\n",
    "modeldf_Imp = pd.DataFrame(scaler.fit_transform(modeldf_Imp))\n",
    "# modeldf_Imp.info()"
   ]
  },
  {
   "cell_type": "code",
   "execution_count": 266,
   "id": "8ed51e66",
   "metadata": {},
   "outputs": [
    {
     "data": {
      "text/plain": [
       "(171, 39)"
      ]
     },
     "execution_count": 266,
     "metadata": {},
     "output_type": "execute_result"
    }
   ],
   "source": [
    "modeldf_Imp.shape"
   ]
  },
  {
   "cell_type": "code",
   "execution_count": 267,
   "id": "71c84646",
   "metadata": {},
   "outputs": [
    {
     "data": {
      "text/html": [
       "<div>\n",
       "<style scoped>\n",
       "    .dataframe tbody tr th:only-of-type {\n",
       "        vertical-align: middle;\n",
       "    }\n",
       "\n",
       "    .dataframe tbody tr th {\n",
       "        vertical-align: top;\n",
       "    }\n",
       "\n",
       "    .dataframe thead th {\n",
       "        text-align: right;\n",
       "    }\n",
       "</style>\n",
       "<table border=\"1\" class=\"dataframe\">\n",
       "  <thead>\n",
       "    <tr style=\"text-align: right;\">\n",
       "      <th></th>\n",
       "      <th>0</th>\n",
       "      <th>1</th>\n",
       "      <th>2</th>\n",
       "      <th>3</th>\n",
       "      <th>4</th>\n",
       "      <th>5</th>\n",
       "      <th>6</th>\n",
       "      <th>7</th>\n",
       "      <th>8</th>\n",
       "      <th>9</th>\n",
       "      <th>...</th>\n",
       "      <th>29</th>\n",
       "      <th>30</th>\n",
       "      <th>31</th>\n",
       "      <th>32</th>\n",
       "      <th>33</th>\n",
       "      <th>34</th>\n",
       "      <th>35</th>\n",
       "      <th>36</th>\n",
       "      <th>37</th>\n",
       "      <th>38</th>\n",
       "    </tr>\n",
       "  </thead>\n",
       "  <tbody>\n",
       "    <tr>\n",
       "      <th>0</th>\n",
       "      <td>5.834759</td>\n",
       "      <td>5.703238</td>\n",
       "      <td>4.077746</td>\n",
       "      <td>5.680004</td>\n",
       "      <td>5.672892</td>\n",
       "      <td>5.664785</td>\n",
       "      <td>5.687280</td>\n",
       "      <td>5.573974</td>\n",
       "      <td>5.659672</td>\n",
       "      <td>5.505915</td>\n",
       "      <td>...</td>\n",
       "      <td>4.002099</td>\n",
       "      <td>5.719263</td>\n",
       "      <td>3.599535</td>\n",
       "      <td>5.426131</td>\n",
       "      <td>3.962828</td>\n",
       "      <td>3.990159</td>\n",
       "      <td>5.532143</td>\n",
       "      <td>5.537825</td>\n",
       "      <td>5.713289</td>\n",
       "      <td>3.639306</td>\n",
       "    </tr>\n",
       "    <tr>\n",
       "      <th>1</th>\n",
       "      <td>-0.222424</td>\n",
       "      <td>-0.233336</td>\n",
       "      <td>-0.352781</td>\n",
       "      <td>-0.232650</td>\n",
       "      <td>-0.231130</td>\n",
       "      <td>-0.230262</td>\n",
       "      <td>-0.230484</td>\n",
       "      <td>-0.232256</td>\n",
       "      <td>-0.272508</td>\n",
       "      <td>-0.220905</td>\n",
       "      <td>...</td>\n",
       "      <td>-0.368411</td>\n",
       "      <td>-0.232347</td>\n",
       "      <td>-0.317055</td>\n",
       "      <td>-0.220608</td>\n",
       "      <td>-0.355800</td>\n",
       "      <td>-0.379587</td>\n",
       "      <td>-0.294080</td>\n",
       "      <td>-0.215483</td>\n",
       "      <td>-0.208055</td>\n",
       "      <td>-0.388573</td>\n",
       "    </tr>\n",
       "    <tr>\n",
       "      <th>2</th>\n",
       "      <td>-0.223933</td>\n",
       "      <td>-0.232890</td>\n",
       "      <td>-0.352337</td>\n",
       "      <td>-0.231997</td>\n",
       "      <td>-0.229809</td>\n",
       "      <td>-0.229548</td>\n",
       "      <td>-0.229589</td>\n",
       "      <td>-0.230594</td>\n",
       "      <td>-0.271680</td>\n",
       "      <td>-0.220401</td>\n",
       "      <td>...</td>\n",
       "      <td>-0.368008</td>\n",
       "      <td>-0.231921</td>\n",
       "      <td>-0.312865</td>\n",
       "      <td>-0.220018</td>\n",
       "      <td>-0.357123</td>\n",
       "      <td>-0.378857</td>\n",
       "      <td>-0.293973</td>\n",
       "      <td>-0.213939</td>\n",
       "      <td>-0.206920</td>\n",
       "      <td>-0.390585</td>\n",
       "    </tr>\n",
       "    <tr>\n",
       "      <th>3</th>\n",
       "      <td>-0.223095</td>\n",
       "      <td>-0.233001</td>\n",
       "      <td>-0.352281</td>\n",
       "      <td>-0.232193</td>\n",
       "      <td>-0.230800</td>\n",
       "      <td>-0.229872</td>\n",
       "      <td>-0.229752</td>\n",
       "      <td>-0.232256</td>\n",
       "      <td>-0.273419</td>\n",
       "      <td>-0.220905</td>\n",
       "      <td>...</td>\n",
       "      <td>-0.368595</td>\n",
       "      <td>-0.232205</td>\n",
       "      <td>-0.315658</td>\n",
       "      <td>-0.219919</td>\n",
       "      <td>-0.357785</td>\n",
       "      <td>-0.380317</td>\n",
       "      <td>-0.293865</td>\n",
       "      <td>-0.214711</td>\n",
       "      <td>-0.207082</td>\n",
       "      <td>-0.390921</td>\n",
       "    </tr>\n",
       "    <tr>\n",
       "      <th>4</th>\n",
       "      <td>-0.224939</td>\n",
       "      <td>-0.233336</td>\n",
       "      <td>-0.352337</td>\n",
       "      <td>-0.232193</td>\n",
       "      <td>-0.229699</td>\n",
       "      <td>-0.229742</td>\n",
       "      <td>-0.229589</td>\n",
       "      <td>-0.230292</td>\n",
       "      <td>-0.272011</td>\n",
       "      <td>-0.220905</td>\n",
       "      <td>...</td>\n",
       "      <td>-0.367971</td>\n",
       "      <td>-0.231779</td>\n",
       "      <td>-0.312865</td>\n",
       "      <td>-0.219723</td>\n",
       "      <td>-0.359604</td>\n",
       "      <td>-0.378857</td>\n",
       "      <td>-0.294509</td>\n",
       "      <td>-0.213424</td>\n",
       "      <td>-0.207569</td>\n",
       "      <td>-0.391927</td>\n",
       "    </tr>\n",
       "  </tbody>\n",
       "</table>\n",
       "<p>5 rows × 39 columns</p>\n",
       "</div>"
      ],
      "text/plain": [
       "         0         1         2         3         4         5         6   \\\n",
       "0  5.834759  5.703238  4.077746  5.680004  5.672892  5.664785  5.687280   \n",
       "1 -0.222424 -0.233336 -0.352781 -0.232650 -0.231130 -0.230262 -0.230484   \n",
       "2 -0.223933 -0.232890 -0.352337 -0.231997 -0.229809 -0.229548 -0.229589   \n",
       "3 -0.223095 -0.233001 -0.352281 -0.232193 -0.230800 -0.229872 -0.229752   \n",
       "4 -0.224939 -0.233336 -0.352337 -0.232193 -0.229699 -0.229742 -0.229589   \n",
       "\n",
       "         7         8         9   ...        29        30        31        32  \\\n",
       "0  5.573974  5.659672  5.505915  ...  4.002099  5.719263  3.599535  5.426131   \n",
       "1 -0.232256 -0.272508 -0.220905  ... -0.368411 -0.232347 -0.317055 -0.220608   \n",
       "2 -0.230594 -0.271680 -0.220401  ... -0.368008 -0.231921 -0.312865 -0.220018   \n",
       "3 -0.232256 -0.273419 -0.220905  ... -0.368595 -0.232205 -0.315658 -0.219919   \n",
       "4 -0.230292 -0.272011 -0.220905  ... -0.367971 -0.231779 -0.312865 -0.219723   \n",
       "\n",
       "         33        34        35        36        37        38  \n",
       "0  3.962828  3.990159  5.532143  5.537825  5.713289  3.639306  \n",
       "1 -0.355800 -0.379587 -0.294080 -0.215483 -0.208055 -0.388573  \n",
       "2 -0.357123 -0.378857 -0.293973 -0.213939 -0.206920 -0.390585  \n",
       "3 -0.357785 -0.380317 -0.293865 -0.214711 -0.207082 -0.390921  \n",
       "4 -0.359604 -0.378857 -0.294509 -0.213424 -0.207569 -0.391927  \n",
       "\n",
       "[5 rows x 39 columns]"
      ]
     },
     "execution_count": 267,
     "metadata": {},
     "output_type": "execute_result"
    }
   ],
   "source": [
    "modeldf_Imp.head()"
   ]
  },
  {
   "cell_type": "markdown",
   "id": "68aed787",
   "metadata": {},
   "source": [
    "### Perform an Singular Value Decomposition"
   ]
  },
  {
   "cell_type": "markdown",
   "id": "19883bc1",
   "metadata": {},
   "source": [
    "$$ X = USV^{T} $$"
   ]
  },
  {
   "cell_type": "markdown",
   "id": "3da16fea",
   "metadata": {},
   "source": [
    "where, $X$ is the original matrix of interest\n",
    "\n",
    "$U$ is the left orthogonal matrix that holds important non-redundant about the schools\n",
    "\n",
    "$S$ is the diagonal matrix that contains all information about the decomposition process \n",
    "\n",
    "$V$ is the right orthogonal matrix that holds important, non-redundant information about school attributes"
   ]
  },
  {
   "cell_type": "markdown",
   "id": "85a79911",
   "metadata": {},
   "source": [
    "#### Transpose the matrix"
   ]
  },
  {
   "cell_type": "code",
   "execution_count": 268,
   "id": "c8732687",
   "metadata": {},
   "outputs": [
    {
     "data": {
      "text/plain": [
       "(39, 171)"
      ]
     },
     "execution_count": 268,
     "metadata": {},
     "output_type": "execute_result"
    }
   ],
   "source": [
    "X = modeldf_Imp.T\n",
    "X.shape"
   ]
  },
  {
   "cell_type": "code",
   "execution_count": 269,
   "id": "bdbd06a3",
   "metadata": {},
   "outputs": [
    {
     "data": {
      "text/html": [
       "<div>\n",
       "<style scoped>\n",
       "    .dataframe tbody tr th:only-of-type {\n",
       "        vertical-align: middle;\n",
       "    }\n",
       "\n",
       "    .dataframe tbody tr th {\n",
       "        vertical-align: top;\n",
       "    }\n",
       "\n",
       "    .dataframe thead th {\n",
       "        text-align: right;\n",
       "    }\n",
       "</style>\n",
       "<table border=\"1\" class=\"dataframe\">\n",
       "  <thead>\n",
       "    <tr style=\"text-align: right;\">\n",
       "      <th></th>\n",
       "      <th>0</th>\n",
       "      <th>1</th>\n",
       "      <th>2</th>\n",
       "      <th>3</th>\n",
       "      <th>4</th>\n",
       "      <th>5</th>\n",
       "      <th>6</th>\n",
       "      <th>7</th>\n",
       "      <th>8</th>\n",
       "      <th>9</th>\n",
       "      <th>...</th>\n",
       "      <th>161</th>\n",
       "      <th>162</th>\n",
       "      <th>163</th>\n",
       "      <th>164</th>\n",
       "      <th>165</th>\n",
       "      <th>166</th>\n",
       "      <th>167</th>\n",
       "      <th>168</th>\n",
       "      <th>169</th>\n",
       "      <th>170</th>\n",
       "    </tr>\n",
       "  </thead>\n",
       "  <tbody>\n",
       "    <tr>\n",
       "      <th>0</th>\n",
       "      <td>5.834759</td>\n",
       "      <td>-0.222424</td>\n",
       "      <td>-0.223933</td>\n",
       "      <td>-0.223095</td>\n",
       "      <td>-0.224939</td>\n",
       "      <td>-0.220914</td>\n",
       "      <td>-0.225107</td>\n",
       "      <td>-0.229526</td>\n",
       "      <td>-0.229526</td>\n",
       "      <td>-0.228327</td>\n",
       "      <td>...</td>\n",
       "      <td>-0.236344</td>\n",
       "      <td>-0.219573</td>\n",
       "      <td>-0.236344</td>\n",
       "      <td>-0.236344</td>\n",
       "      <td>-0.236344</td>\n",
       "      <td>-0.219573</td>\n",
       "      <td>-0.236344</td>\n",
       "      <td>-0.236344</td>\n",
       "      <td>-0.236344</td>\n",
       "      <td>-0.219573</td>\n",
       "    </tr>\n",
       "    <tr>\n",
       "      <th>1</th>\n",
       "      <td>5.703238</td>\n",
       "      <td>-0.233336</td>\n",
       "      <td>-0.232890</td>\n",
       "      <td>-0.233001</td>\n",
       "      <td>-0.233336</td>\n",
       "      <td>-0.232778</td>\n",
       "      <td>-0.233224</td>\n",
       "      <td>-0.236739</td>\n",
       "      <td>-0.236739</td>\n",
       "      <td>-0.238111</td>\n",
       "      <td>...</td>\n",
       "      <td>-0.243265</td>\n",
       "      <td>-0.243265</td>\n",
       "      <td>-0.243265</td>\n",
       "      <td>-0.232109</td>\n",
       "      <td>-0.243265</td>\n",
       "      <td>-0.243265</td>\n",
       "      <td>-0.243265</td>\n",
       "      <td>-0.232109</td>\n",
       "      <td>-0.243265</td>\n",
       "      <td>-0.243265</td>\n",
       "    </tr>\n",
       "    <tr>\n",
       "      <th>2</th>\n",
       "      <td>4.077746</td>\n",
       "      <td>-0.352781</td>\n",
       "      <td>-0.352337</td>\n",
       "      <td>-0.352281</td>\n",
       "      <td>-0.352337</td>\n",
       "      <td>-0.352670</td>\n",
       "      <td>-0.352226</td>\n",
       "      <td>-0.343511</td>\n",
       "      <td>-0.342289</td>\n",
       "      <td>-0.355090</td>\n",
       "      <td>...</td>\n",
       "      <td>-0.352059</td>\n",
       "      <td>-0.357611</td>\n",
       "      <td>-0.357611</td>\n",
       "      <td>-0.357611</td>\n",
       "      <td>-0.352059</td>\n",
       "      <td>-0.357611</td>\n",
       "      <td>-0.357611</td>\n",
       "      <td>-0.357611</td>\n",
       "      <td>-0.352059</td>\n",
       "      <td>-0.357611</td>\n",
       "    </tr>\n",
       "    <tr>\n",
       "      <th>3</th>\n",
       "      <td>5.680004</td>\n",
       "      <td>-0.232650</td>\n",
       "      <td>-0.231997</td>\n",
       "      <td>-0.232193</td>\n",
       "      <td>-0.232193</td>\n",
       "      <td>-0.231409</td>\n",
       "      <td>-0.231605</td>\n",
       "      <td>-0.234048</td>\n",
       "      <td>-0.234048</td>\n",
       "      <td>-0.234525</td>\n",
       "      <td>...</td>\n",
       "      <td>-0.231148</td>\n",
       "      <td>-0.237680</td>\n",
       "      <td>-0.237680</td>\n",
       "      <td>-0.237680</td>\n",
       "      <td>-0.231148</td>\n",
       "      <td>-0.237680</td>\n",
       "      <td>-0.237680</td>\n",
       "      <td>-0.237680</td>\n",
       "      <td>-0.237680</td>\n",
       "      <td>-0.231148</td>\n",
       "    </tr>\n",
       "    <tr>\n",
       "      <th>4</th>\n",
       "      <td>5.672892</td>\n",
       "      <td>-0.231130</td>\n",
       "      <td>-0.229809</td>\n",
       "      <td>-0.230800</td>\n",
       "      <td>-0.229699</td>\n",
       "      <td>-0.228488</td>\n",
       "      <td>-0.228928</td>\n",
       "      <td>-0.234136</td>\n",
       "      <td>-0.234136</td>\n",
       "      <td>-0.233806</td>\n",
       "      <td>...</td>\n",
       "      <td>-0.228268</td>\n",
       "      <td>-0.239277</td>\n",
       "      <td>-0.228268</td>\n",
       "      <td>-0.239277</td>\n",
       "      <td>-0.239277</td>\n",
       "      <td>-0.239277</td>\n",
       "      <td>-0.239277</td>\n",
       "      <td>-0.239277</td>\n",
       "      <td>-0.228268</td>\n",
       "      <td>-0.239277</td>\n",
       "    </tr>\n",
       "  </tbody>\n",
       "</table>\n",
       "<p>5 rows × 171 columns</p>\n",
       "</div>"
      ],
      "text/plain": [
       "        0         1         2         3         4         5         6    \\\n",
       "0  5.834759 -0.222424 -0.223933 -0.223095 -0.224939 -0.220914 -0.225107   \n",
       "1  5.703238 -0.233336 -0.232890 -0.233001 -0.233336 -0.232778 -0.233224   \n",
       "2  4.077746 -0.352781 -0.352337 -0.352281 -0.352337 -0.352670 -0.352226   \n",
       "3  5.680004 -0.232650 -0.231997 -0.232193 -0.232193 -0.231409 -0.231605   \n",
       "4  5.672892 -0.231130 -0.229809 -0.230800 -0.229699 -0.228488 -0.228928   \n",
       "\n",
       "        7         8         9    ...       161       162       163       164  \\\n",
       "0 -0.229526 -0.229526 -0.228327  ... -0.236344 -0.219573 -0.236344 -0.236344   \n",
       "1 -0.236739 -0.236739 -0.238111  ... -0.243265 -0.243265 -0.243265 -0.232109   \n",
       "2 -0.343511 -0.342289 -0.355090  ... -0.352059 -0.357611 -0.357611 -0.357611   \n",
       "3 -0.234048 -0.234048 -0.234525  ... -0.231148 -0.237680 -0.237680 -0.237680   \n",
       "4 -0.234136 -0.234136 -0.233806  ... -0.228268 -0.239277 -0.228268 -0.239277   \n",
       "\n",
       "        165       166       167       168       169       170  \n",
       "0 -0.236344 -0.219573 -0.236344 -0.236344 -0.236344 -0.219573  \n",
       "1 -0.243265 -0.243265 -0.243265 -0.232109 -0.243265 -0.243265  \n",
       "2 -0.352059 -0.357611 -0.357611 -0.357611 -0.352059 -0.357611  \n",
       "3 -0.231148 -0.237680 -0.237680 -0.237680 -0.237680 -0.231148  \n",
       "4 -0.239277 -0.239277 -0.239277 -0.239277 -0.228268 -0.239277  \n",
       "\n",
       "[5 rows x 171 columns]"
      ]
     },
     "execution_count": 269,
     "metadata": {},
     "output_type": "execute_result"
    }
   ],
   "source": [
    "X.head()"
   ]
  },
  {
   "cell_type": "markdown",
   "id": "b822f6b8",
   "metadata": {},
   "source": [
    "#### Decompose the matrix"
   ]
  },
  {
   "cell_type": "code",
   "execution_count": 270,
   "id": "06c1a2c4",
   "metadata": {},
   "outputs": [
    {
     "data": {
      "text/plain": [
       "(39, 20)"
      ]
     },
     "execution_count": 270,
     "metadata": {},
     "output_type": "execute_result"
    }
   ],
   "source": [
    "# set number of latent features \n",
    "d =20\n",
    "SVD = TruncatedSVD(n_components=d, random_state=17)\n",
    "resultant_matrix = SVD.fit_transform(X)\n",
    "resultant_matrix.shape"
   ]
  },
  {
   "cell_type": "markdown",
   "id": "c854f790",
   "metadata": {},
   "source": [
    "#### Generate a correlation matrix"
   ]
  },
  {
   "cell_type": "code",
   "execution_count": 271,
   "id": "092537c9",
   "metadata": {},
   "outputs": [
    {
     "data": {
      "text/plain": [
       "(39, 39)"
      ]
     },
     "execution_count": 271,
     "metadata": {},
     "output_type": "execute_result"
    }
   ],
   "source": [
    "corr_mat = np.corrcoef(resultant_matrix)\n",
    "corr_mat.shape"
   ]
  },
  {
   "cell_type": "code",
   "execution_count": 272,
   "id": "55164690",
   "metadata": {},
   "outputs": [
    {
     "data": {
      "text/plain": [
       "array([[1.        , 0.98075753, 0.64892558, ..., 0.90175998, 0.94785627,\n",
       "        0.57928703],\n",
       "       [0.98075753, 1.        , 0.67851648, ..., 0.95934639, 0.97265461,\n",
       "        0.57471509],\n",
       "       [0.64892558, 0.67851648, 1.        , ..., 0.68792616, 0.69105171,\n",
       "        0.92419277],\n",
       "       ...,\n",
       "       [0.90175998, 0.95934639, 0.68792616, ..., 1.        , 0.97649298,\n",
       "        0.54800346],\n",
       "       [0.94785627, 0.97265461, 0.69105171, ..., 0.97649298, 1.        ,\n",
       "        0.58333895],\n",
       "       [0.57928703, 0.57471509, 0.92419277, ..., 0.54800346, 0.58333895,\n",
       "        1.        ]])"
      ]
     },
     "execution_count": 272,
     "metadata": {},
     "output_type": "execute_result"
    }
   ],
   "source": [
    "corr_mat"
   ]
  },
  {
   "cell_type": "code",
   "execution_count": 273,
   "id": "c05e0117",
   "metadata": {},
   "outputs": [],
   "source": [
    "school_names = modeldf.T.columns\n",
    "school_list = list(school_names)"
   ]
  },
  {
   "cell_type": "code",
   "execution_count": 274,
   "id": "dfdfdaea",
   "metadata": {},
   "outputs": [
    {
     "data": {
      "text/plain": [
       "0"
      ]
     },
     "execution_count": 274,
     "metadata": {},
     "output_type": "execute_result"
    }
   ],
   "source": [
    "schoolofinterest = school_list.index(school_of_interest)\n",
    "schoolofinterest"
   ]
  },
  {
   "cell_type": "code",
   "execution_count": 275,
   "id": "82f463ab",
   "metadata": {},
   "outputs": [
    {
     "data": {
      "text/plain": [
       "(39,)"
      ]
     },
     "execution_count": 275,
     "metadata": {},
     "output_type": "execute_result"
    }
   ],
   "source": [
    "corr_schoolofinterest = corr_mat[school_list.index(school_of_interest)]\n",
    "corr_schoolofinterest.shape"
   ]
  },
  {
   "cell_type": "code",
   "execution_count": 348,
   "id": "a11085a9",
   "metadata": {},
   "outputs": [],
   "source": [
    "corr_schoolofinterestlist = corr_schoolofinterest.tolist()\n",
    "correlations_dict = {school_list[i]: corr_schoolofinterestlist[i] for i in range(len(school_list))}\n",
    "\n",
    "# sort correlation dictionary by value\n",
    "correlations_dict = {k: v for k, v in sorted(correlations_dict.items(), key=lambda item: item[1])}\n",
    "correlation_df = pd.DataFrame(list(correlations_dict.items()),columns=['school','correlation'])"
   ]
  },
  {
   "cell_type": "code",
   "execution_count": 350,
   "id": "6e1df263",
   "metadata": {},
   "outputs": [
    {
     "data": {
      "application/vnd.plotly.v1+json": {
       "config": {
        "plotlyServerURL": "https://plot.ly"
       },
       "data": [
        {
         "alignmentgroup": "True",
         "hovertemplate": "correlation=%{x}<br>school=%{y}<extra></extra>",
         "legendgroup": "",
         "marker": {
          "color": "#636efa",
          "pattern": {
           "shape": ""
          }
         },
         "name": "",
         "offsetgroup": "",
         "orientation": "h",
         "showlegend": false,
         "textposition": "auto",
         "type": "bar",
         "x": [
          0.5792870263067078,
          0.6116560782231423,
          0.6275928860583309,
          0.6321927452491333,
          0.6331286336677898,
          0.6347352830392123,
          0.6476086210669134,
          0.6489255781886297,
          0.6559021807512624,
          0.6604558350797876,
          0.683086346346957,
          0.8500805582879578,
          0.8782721730071807,
          0.8834961625269515,
          0.8968040992979118,
          0.9017599780231316,
          0.904389138602617,
          0.9122519483171786,
          0.9341699785498923,
          0.9353767220871881,
          0.9374936053642453,
          0.9441755272577849,
          0.9478562708462037,
          0.9495195800981739,
          0.9564453900786711,
          0.9584306958578871,
          0.960282940255063,
          0.9616581696455305,
          0.9621846223597978,
          0.962311569019611,
          0.9689850627900067,
          0.9722141275307464,
          0.9746804260505815,
          0.9749280049339447,
          0.9759796849905679,
          0.977256289512704,
          0.9807575305703723,
          0.9876867045019889,
          1
         ],
         "xaxis": "x",
         "y": [
          "30Q580",
          "30Q145",
          "30Q286",
          "30Q230",
          "30Q291",
          "30Q204",
          "30Q126",
          "30Q010",
          "30Q141",
          "30Q235",
          "30Q227",
          "30Q127",
          "30Q092",
          "30Q111",
          "30Q280",
          "30Q329",
          "30Q149",
          "30Q148",
          "30Q076",
          "30Q151",
          "30Q300",
          "30Q171",
          "30Q361",
          "30Q212",
          "30Q017",
          "30Q122",
          "30Q078",
          "30Q152",
          "30Q011",
          "30Q112",
          "30Q069",
          "30Q084",
          "30Q150",
          "30Q070",
          "30Q234",
          "30Q166",
          "30Q002",
          "30Q085",
          "02M077"
         ],
         "yaxis": "y"
        }
       ],
       "layout": {
        "barmode": "relative",
        "height": 600,
        "legend": {
         "tracegroupgap": 0
        },
        "template": {
         "data": {
          "bar": [
           {
            "error_x": {
             "color": "#2a3f5f"
            },
            "error_y": {
             "color": "#2a3f5f"
            },
            "marker": {
             "line": {
              "color": "#E5ECF6",
              "width": 0.5
             },
             "pattern": {
              "fillmode": "overlay",
              "size": 10,
              "solidity": 0.2
             }
            },
            "type": "bar"
           }
          ],
          "barpolar": [
           {
            "marker": {
             "line": {
              "color": "#E5ECF6",
              "width": 0.5
             },
             "pattern": {
              "fillmode": "overlay",
              "size": 10,
              "solidity": 0.2
             }
            },
            "type": "barpolar"
           }
          ],
          "carpet": [
           {
            "aaxis": {
             "endlinecolor": "#2a3f5f",
             "gridcolor": "white",
             "linecolor": "white",
             "minorgridcolor": "white",
             "startlinecolor": "#2a3f5f"
            },
            "baxis": {
             "endlinecolor": "#2a3f5f",
             "gridcolor": "white",
             "linecolor": "white",
             "minorgridcolor": "white",
             "startlinecolor": "#2a3f5f"
            },
            "type": "carpet"
           }
          ],
          "choropleth": [
           {
            "colorbar": {
             "outlinewidth": 0,
             "ticks": ""
            },
            "type": "choropleth"
           }
          ],
          "contour": [
           {
            "colorbar": {
             "outlinewidth": 0,
             "ticks": ""
            },
            "colorscale": [
             [
              0,
              "#0d0887"
             ],
             [
              0.1111111111111111,
              "#46039f"
             ],
             [
              0.2222222222222222,
              "#7201a8"
             ],
             [
              0.3333333333333333,
              "#9c179e"
             ],
             [
              0.4444444444444444,
              "#bd3786"
             ],
             [
              0.5555555555555556,
              "#d8576b"
             ],
             [
              0.6666666666666666,
              "#ed7953"
             ],
             [
              0.7777777777777778,
              "#fb9f3a"
             ],
             [
              0.8888888888888888,
              "#fdca26"
             ],
             [
              1,
              "#f0f921"
             ]
            ],
            "type": "contour"
           }
          ],
          "contourcarpet": [
           {
            "colorbar": {
             "outlinewidth": 0,
             "ticks": ""
            },
            "type": "contourcarpet"
           }
          ],
          "heatmap": [
           {
            "colorbar": {
             "outlinewidth": 0,
             "ticks": ""
            },
            "colorscale": [
             [
              0,
              "#0d0887"
             ],
             [
              0.1111111111111111,
              "#46039f"
             ],
             [
              0.2222222222222222,
              "#7201a8"
             ],
             [
              0.3333333333333333,
              "#9c179e"
             ],
             [
              0.4444444444444444,
              "#bd3786"
             ],
             [
              0.5555555555555556,
              "#d8576b"
             ],
             [
              0.6666666666666666,
              "#ed7953"
             ],
             [
              0.7777777777777778,
              "#fb9f3a"
             ],
             [
              0.8888888888888888,
              "#fdca26"
             ],
             [
              1,
              "#f0f921"
             ]
            ],
            "type": "heatmap"
           }
          ],
          "heatmapgl": [
           {
            "colorbar": {
             "outlinewidth": 0,
             "ticks": ""
            },
            "colorscale": [
             [
              0,
              "#0d0887"
             ],
             [
              0.1111111111111111,
              "#46039f"
             ],
             [
              0.2222222222222222,
              "#7201a8"
             ],
             [
              0.3333333333333333,
              "#9c179e"
             ],
             [
              0.4444444444444444,
              "#bd3786"
             ],
             [
              0.5555555555555556,
              "#d8576b"
             ],
             [
              0.6666666666666666,
              "#ed7953"
             ],
             [
              0.7777777777777778,
              "#fb9f3a"
             ],
             [
              0.8888888888888888,
              "#fdca26"
             ],
             [
              1,
              "#f0f921"
             ]
            ],
            "type": "heatmapgl"
           }
          ],
          "histogram": [
           {
            "marker": {
             "pattern": {
              "fillmode": "overlay",
              "size": 10,
              "solidity": 0.2
             }
            },
            "type": "histogram"
           }
          ],
          "histogram2d": [
           {
            "colorbar": {
             "outlinewidth": 0,
             "ticks": ""
            },
            "colorscale": [
             [
              0,
              "#0d0887"
             ],
             [
              0.1111111111111111,
              "#46039f"
             ],
             [
              0.2222222222222222,
              "#7201a8"
             ],
             [
              0.3333333333333333,
              "#9c179e"
             ],
             [
              0.4444444444444444,
              "#bd3786"
             ],
             [
              0.5555555555555556,
              "#d8576b"
             ],
             [
              0.6666666666666666,
              "#ed7953"
             ],
             [
              0.7777777777777778,
              "#fb9f3a"
             ],
             [
              0.8888888888888888,
              "#fdca26"
             ],
             [
              1,
              "#f0f921"
             ]
            ],
            "type": "histogram2d"
           }
          ],
          "histogram2dcontour": [
           {
            "colorbar": {
             "outlinewidth": 0,
             "ticks": ""
            },
            "colorscale": [
             [
              0,
              "#0d0887"
             ],
             [
              0.1111111111111111,
              "#46039f"
             ],
             [
              0.2222222222222222,
              "#7201a8"
             ],
             [
              0.3333333333333333,
              "#9c179e"
             ],
             [
              0.4444444444444444,
              "#bd3786"
             ],
             [
              0.5555555555555556,
              "#d8576b"
             ],
             [
              0.6666666666666666,
              "#ed7953"
             ],
             [
              0.7777777777777778,
              "#fb9f3a"
             ],
             [
              0.8888888888888888,
              "#fdca26"
             ],
             [
              1,
              "#f0f921"
             ]
            ],
            "type": "histogram2dcontour"
           }
          ],
          "mesh3d": [
           {
            "colorbar": {
             "outlinewidth": 0,
             "ticks": ""
            },
            "type": "mesh3d"
           }
          ],
          "parcoords": [
           {
            "line": {
             "colorbar": {
              "outlinewidth": 0,
              "ticks": ""
             }
            },
            "type": "parcoords"
           }
          ],
          "pie": [
           {
            "automargin": true,
            "type": "pie"
           }
          ],
          "scatter": [
           {
            "marker": {
             "colorbar": {
              "outlinewidth": 0,
              "ticks": ""
             }
            },
            "type": "scatter"
           }
          ],
          "scatter3d": [
           {
            "line": {
             "colorbar": {
              "outlinewidth": 0,
              "ticks": ""
             }
            },
            "marker": {
             "colorbar": {
              "outlinewidth": 0,
              "ticks": ""
             }
            },
            "type": "scatter3d"
           }
          ],
          "scattercarpet": [
           {
            "marker": {
             "colorbar": {
              "outlinewidth": 0,
              "ticks": ""
             }
            },
            "type": "scattercarpet"
           }
          ],
          "scattergeo": [
           {
            "marker": {
             "colorbar": {
              "outlinewidth": 0,
              "ticks": ""
             }
            },
            "type": "scattergeo"
           }
          ],
          "scattergl": [
           {
            "marker": {
             "colorbar": {
              "outlinewidth": 0,
              "ticks": ""
             }
            },
            "type": "scattergl"
           }
          ],
          "scattermapbox": [
           {
            "marker": {
             "colorbar": {
              "outlinewidth": 0,
              "ticks": ""
             }
            },
            "type": "scattermapbox"
           }
          ],
          "scatterpolar": [
           {
            "marker": {
             "colorbar": {
              "outlinewidth": 0,
              "ticks": ""
             }
            },
            "type": "scatterpolar"
           }
          ],
          "scatterpolargl": [
           {
            "marker": {
             "colorbar": {
              "outlinewidth": 0,
              "ticks": ""
             }
            },
            "type": "scatterpolargl"
           }
          ],
          "scatterternary": [
           {
            "marker": {
             "colorbar": {
              "outlinewidth": 0,
              "ticks": ""
             }
            },
            "type": "scatterternary"
           }
          ],
          "surface": [
           {
            "colorbar": {
             "outlinewidth": 0,
             "ticks": ""
            },
            "colorscale": [
             [
              0,
              "#0d0887"
             ],
             [
              0.1111111111111111,
              "#46039f"
             ],
             [
              0.2222222222222222,
              "#7201a8"
             ],
             [
              0.3333333333333333,
              "#9c179e"
             ],
             [
              0.4444444444444444,
              "#bd3786"
             ],
             [
              0.5555555555555556,
              "#d8576b"
             ],
             [
              0.6666666666666666,
              "#ed7953"
             ],
             [
              0.7777777777777778,
              "#fb9f3a"
             ],
             [
              0.8888888888888888,
              "#fdca26"
             ],
             [
              1,
              "#f0f921"
             ]
            ],
            "type": "surface"
           }
          ],
          "table": [
           {
            "cells": {
             "fill": {
              "color": "#EBF0F8"
             },
             "line": {
              "color": "white"
             }
            },
            "header": {
             "fill": {
              "color": "#C8D4E3"
             },
             "line": {
              "color": "white"
             }
            },
            "type": "table"
           }
          ]
         },
         "layout": {
          "annotationdefaults": {
           "arrowcolor": "#2a3f5f",
           "arrowhead": 0,
           "arrowwidth": 1
          },
          "autotypenumbers": "strict",
          "coloraxis": {
           "colorbar": {
            "outlinewidth": 0,
            "ticks": ""
           }
          },
          "colorscale": {
           "diverging": [
            [
             0,
             "#8e0152"
            ],
            [
             0.1,
             "#c51b7d"
            ],
            [
             0.2,
             "#de77ae"
            ],
            [
             0.3,
             "#f1b6da"
            ],
            [
             0.4,
             "#fde0ef"
            ],
            [
             0.5,
             "#f7f7f7"
            ],
            [
             0.6,
             "#e6f5d0"
            ],
            [
             0.7,
             "#b8e186"
            ],
            [
             0.8,
             "#7fbc41"
            ],
            [
             0.9,
             "#4d9221"
            ],
            [
             1,
             "#276419"
            ]
           ],
           "sequential": [
            [
             0,
             "#0d0887"
            ],
            [
             0.1111111111111111,
             "#46039f"
            ],
            [
             0.2222222222222222,
             "#7201a8"
            ],
            [
             0.3333333333333333,
             "#9c179e"
            ],
            [
             0.4444444444444444,
             "#bd3786"
            ],
            [
             0.5555555555555556,
             "#d8576b"
            ],
            [
             0.6666666666666666,
             "#ed7953"
            ],
            [
             0.7777777777777778,
             "#fb9f3a"
            ],
            [
             0.8888888888888888,
             "#fdca26"
            ],
            [
             1,
             "#f0f921"
            ]
           ],
           "sequentialminus": [
            [
             0,
             "#0d0887"
            ],
            [
             0.1111111111111111,
             "#46039f"
            ],
            [
             0.2222222222222222,
             "#7201a8"
            ],
            [
             0.3333333333333333,
             "#9c179e"
            ],
            [
             0.4444444444444444,
             "#bd3786"
            ],
            [
             0.5555555555555556,
             "#d8576b"
            ],
            [
             0.6666666666666666,
             "#ed7953"
            ],
            [
             0.7777777777777778,
             "#fb9f3a"
            ],
            [
             0.8888888888888888,
             "#fdca26"
            ],
            [
             1,
             "#f0f921"
            ]
           ]
          },
          "colorway": [
           "#636efa",
           "#EF553B",
           "#00cc96",
           "#ab63fa",
           "#FFA15A",
           "#19d3f3",
           "#FF6692",
           "#B6E880",
           "#FF97FF",
           "#FECB52"
          ],
          "font": {
           "color": "#2a3f5f"
          },
          "geo": {
           "bgcolor": "white",
           "lakecolor": "white",
           "landcolor": "#E5ECF6",
           "showlakes": true,
           "showland": true,
           "subunitcolor": "white"
          },
          "hoverlabel": {
           "align": "left"
          },
          "hovermode": "closest",
          "mapbox": {
           "style": "light"
          },
          "paper_bgcolor": "white",
          "plot_bgcolor": "#E5ECF6",
          "polar": {
           "angularaxis": {
            "gridcolor": "white",
            "linecolor": "white",
            "ticks": ""
           },
           "bgcolor": "#E5ECF6",
           "radialaxis": {
            "gridcolor": "white",
            "linecolor": "white",
            "ticks": ""
           }
          },
          "scene": {
           "xaxis": {
            "backgroundcolor": "#E5ECF6",
            "gridcolor": "white",
            "gridwidth": 2,
            "linecolor": "white",
            "showbackground": true,
            "ticks": "",
            "zerolinecolor": "white"
           },
           "yaxis": {
            "backgroundcolor": "#E5ECF6",
            "gridcolor": "white",
            "gridwidth": 2,
            "linecolor": "white",
            "showbackground": true,
            "ticks": "",
            "zerolinecolor": "white"
           },
           "zaxis": {
            "backgroundcolor": "#E5ECF6",
            "gridcolor": "white",
            "gridwidth": 2,
            "linecolor": "white",
            "showbackground": true,
            "ticks": "",
            "zerolinecolor": "white"
           }
          },
          "shapedefaults": {
           "line": {
            "color": "#2a3f5f"
           }
          },
          "ternary": {
           "aaxis": {
            "gridcolor": "white",
            "linecolor": "white",
            "ticks": ""
           },
           "baxis": {
            "gridcolor": "white",
            "linecolor": "white",
            "ticks": ""
           },
           "bgcolor": "#E5ECF6",
           "caxis": {
            "gridcolor": "white",
            "linecolor": "white",
            "ticks": ""
           }
          },
          "title": {
           "x": 0.05
          },
          "xaxis": {
           "automargin": true,
           "gridcolor": "white",
           "linecolor": "white",
           "ticks": "",
           "title": {
            "standoff": 15
           },
           "zerolinecolor": "white",
           "zerolinewidth": 2
          },
          "yaxis": {
           "automargin": true,
           "gridcolor": "white",
           "linecolor": "white",
           "ticks": "",
           "title": {
            "standoff": 15
           },
           "zerolinecolor": "white",
           "zerolinewidth": 2
          }
         }
        },
        "title": {
         "text": "Correlations to school of interest"
        },
        "width": 900,
        "xaxis": {
         "anchor": "y",
         "domain": [
          0,
          1
         ],
         "title": {
          "text": "correlation"
         }
        },
        "yaxis": {
         "anchor": "x",
         "domain": [
          0,
          1
         ],
         "title": {
          "text": "school"
         }
        }
       }
      },
      "text/html": [
       "<div>                            <div id=\"c3f62894-e061-4fb1-b0eb-8a70b604bbe4\" class=\"plotly-graph-div\" style=\"height:600px; width:900px;\"></div>            <script type=\"text/javascript\">                require([\"plotly\"], function(Plotly) {                    window.PLOTLYENV=window.PLOTLYENV || {};                                    if (document.getElementById(\"c3f62894-e061-4fb1-b0eb-8a70b604bbe4\")) {                    Plotly.newPlot(                        \"c3f62894-e061-4fb1-b0eb-8a70b604bbe4\",                        [{\"alignmentgroup\":\"True\",\"hovertemplate\":\"correlation=%{x}<br>school=%{y}<extra></extra>\",\"legendgroup\":\"\",\"marker\":{\"color\":\"#636efa\",\"pattern\":{\"shape\":\"\"}},\"name\":\"\",\"offsetgroup\":\"\",\"orientation\":\"h\",\"showlegend\":false,\"textposition\":\"auto\",\"x\":[0.5792870263067078,0.6116560782231423,0.6275928860583309,0.6321927452491333,0.6331286336677898,0.6347352830392123,0.6476086210669134,0.6489255781886297,0.6559021807512624,0.6604558350797876,0.683086346346957,0.8500805582879578,0.8782721730071807,0.8834961625269515,0.8968040992979118,0.9017599780231316,0.904389138602617,0.9122519483171786,0.9341699785498923,0.9353767220871881,0.9374936053642453,0.9441755272577849,0.9478562708462037,0.9495195800981739,0.9564453900786711,0.9584306958578871,0.960282940255063,0.9616581696455305,0.9621846223597978,0.962311569019611,0.9689850627900067,0.9722141275307464,0.9746804260505815,0.9749280049339447,0.9759796849905679,0.977256289512704,0.9807575305703723,0.9876867045019889,1.0],\"xaxis\":\"x\",\"y\":[\"30Q580\",\"30Q145\",\"30Q286\",\"30Q230\",\"30Q291\",\"30Q204\",\"30Q126\",\"30Q010\",\"30Q141\",\"30Q235\",\"30Q227\",\"30Q127\",\"30Q092\",\"30Q111\",\"30Q280\",\"30Q329\",\"30Q149\",\"30Q148\",\"30Q076\",\"30Q151\",\"30Q300\",\"30Q171\",\"30Q361\",\"30Q212\",\"30Q017\",\"30Q122\",\"30Q078\",\"30Q152\",\"30Q011\",\"30Q112\",\"30Q069\",\"30Q084\",\"30Q150\",\"30Q070\",\"30Q234\",\"30Q166\",\"30Q002\",\"30Q085\",\"02M077\"],\"yaxis\":\"y\",\"type\":\"bar\"}],                        {\"template\":{\"data\":{\"bar\":[{\"error_x\":{\"color\":\"#2a3f5f\"},\"error_y\":{\"color\":\"#2a3f5f\"},\"marker\":{\"line\":{\"color\":\"#E5ECF6\",\"width\":0.5},\"pattern\":{\"fillmode\":\"overlay\",\"size\":10,\"solidity\":0.2}},\"type\":\"bar\"}],\"barpolar\":[{\"marker\":{\"line\":{\"color\":\"#E5ECF6\",\"width\":0.5},\"pattern\":{\"fillmode\":\"overlay\",\"size\":10,\"solidity\":0.2}},\"type\":\"barpolar\"}],\"carpet\":[{\"aaxis\":{\"endlinecolor\":\"#2a3f5f\",\"gridcolor\":\"white\",\"linecolor\":\"white\",\"minorgridcolor\":\"white\",\"startlinecolor\":\"#2a3f5f\"},\"baxis\":{\"endlinecolor\":\"#2a3f5f\",\"gridcolor\":\"white\",\"linecolor\":\"white\",\"minorgridcolor\":\"white\",\"startlinecolor\":\"#2a3f5f\"},\"type\":\"carpet\"}],\"choropleth\":[{\"colorbar\":{\"outlinewidth\":0,\"ticks\":\"\"},\"type\":\"choropleth\"}],\"contour\":[{\"colorbar\":{\"outlinewidth\":0,\"ticks\":\"\"},\"colorscale\":[[0.0,\"#0d0887\"],[0.1111111111111111,\"#46039f\"],[0.2222222222222222,\"#7201a8\"],[0.3333333333333333,\"#9c179e\"],[0.4444444444444444,\"#bd3786\"],[0.5555555555555556,\"#d8576b\"],[0.6666666666666666,\"#ed7953\"],[0.7777777777777778,\"#fb9f3a\"],[0.8888888888888888,\"#fdca26\"],[1.0,\"#f0f921\"]],\"type\":\"contour\"}],\"contourcarpet\":[{\"colorbar\":{\"outlinewidth\":0,\"ticks\":\"\"},\"type\":\"contourcarpet\"}],\"heatmap\":[{\"colorbar\":{\"outlinewidth\":0,\"ticks\":\"\"},\"colorscale\":[[0.0,\"#0d0887\"],[0.1111111111111111,\"#46039f\"],[0.2222222222222222,\"#7201a8\"],[0.3333333333333333,\"#9c179e\"],[0.4444444444444444,\"#bd3786\"],[0.5555555555555556,\"#d8576b\"],[0.6666666666666666,\"#ed7953\"],[0.7777777777777778,\"#fb9f3a\"],[0.8888888888888888,\"#fdca26\"],[1.0,\"#f0f921\"]],\"type\":\"heatmap\"}],\"heatmapgl\":[{\"colorbar\":{\"outlinewidth\":0,\"ticks\":\"\"},\"colorscale\":[[0.0,\"#0d0887\"],[0.1111111111111111,\"#46039f\"],[0.2222222222222222,\"#7201a8\"],[0.3333333333333333,\"#9c179e\"],[0.4444444444444444,\"#bd3786\"],[0.5555555555555556,\"#d8576b\"],[0.6666666666666666,\"#ed7953\"],[0.7777777777777778,\"#fb9f3a\"],[0.8888888888888888,\"#fdca26\"],[1.0,\"#f0f921\"]],\"type\":\"heatmapgl\"}],\"histogram\":[{\"marker\":{\"pattern\":{\"fillmode\":\"overlay\",\"size\":10,\"solidity\":0.2}},\"type\":\"histogram\"}],\"histogram2d\":[{\"colorbar\":{\"outlinewidth\":0,\"ticks\":\"\"},\"colorscale\":[[0.0,\"#0d0887\"],[0.1111111111111111,\"#46039f\"],[0.2222222222222222,\"#7201a8\"],[0.3333333333333333,\"#9c179e\"],[0.4444444444444444,\"#bd3786\"],[0.5555555555555556,\"#d8576b\"],[0.6666666666666666,\"#ed7953\"],[0.7777777777777778,\"#fb9f3a\"],[0.8888888888888888,\"#fdca26\"],[1.0,\"#f0f921\"]],\"type\":\"histogram2d\"}],\"histogram2dcontour\":[{\"colorbar\":{\"outlinewidth\":0,\"ticks\":\"\"},\"colorscale\":[[0.0,\"#0d0887\"],[0.1111111111111111,\"#46039f\"],[0.2222222222222222,\"#7201a8\"],[0.3333333333333333,\"#9c179e\"],[0.4444444444444444,\"#bd3786\"],[0.5555555555555556,\"#d8576b\"],[0.6666666666666666,\"#ed7953\"],[0.7777777777777778,\"#fb9f3a\"],[0.8888888888888888,\"#fdca26\"],[1.0,\"#f0f921\"]],\"type\":\"histogram2dcontour\"}],\"mesh3d\":[{\"colorbar\":{\"outlinewidth\":0,\"ticks\":\"\"},\"type\":\"mesh3d\"}],\"parcoords\":[{\"line\":{\"colorbar\":{\"outlinewidth\":0,\"ticks\":\"\"}},\"type\":\"parcoords\"}],\"pie\":[{\"automargin\":true,\"type\":\"pie\"}],\"scatter\":[{\"marker\":{\"colorbar\":{\"outlinewidth\":0,\"ticks\":\"\"}},\"type\":\"scatter\"}],\"scatter3d\":[{\"line\":{\"colorbar\":{\"outlinewidth\":0,\"ticks\":\"\"}},\"marker\":{\"colorbar\":{\"outlinewidth\":0,\"ticks\":\"\"}},\"type\":\"scatter3d\"}],\"scattercarpet\":[{\"marker\":{\"colorbar\":{\"outlinewidth\":0,\"ticks\":\"\"}},\"type\":\"scattercarpet\"}],\"scattergeo\":[{\"marker\":{\"colorbar\":{\"outlinewidth\":0,\"ticks\":\"\"}},\"type\":\"scattergeo\"}],\"scattergl\":[{\"marker\":{\"colorbar\":{\"outlinewidth\":0,\"ticks\":\"\"}},\"type\":\"scattergl\"}],\"scattermapbox\":[{\"marker\":{\"colorbar\":{\"outlinewidth\":0,\"ticks\":\"\"}},\"type\":\"scattermapbox\"}],\"scatterpolar\":[{\"marker\":{\"colorbar\":{\"outlinewidth\":0,\"ticks\":\"\"}},\"type\":\"scatterpolar\"}],\"scatterpolargl\":[{\"marker\":{\"colorbar\":{\"outlinewidth\":0,\"ticks\":\"\"}},\"type\":\"scatterpolargl\"}],\"scatterternary\":[{\"marker\":{\"colorbar\":{\"outlinewidth\":0,\"ticks\":\"\"}},\"type\":\"scatterternary\"}],\"surface\":[{\"colorbar\":{\"outlinewidth\":0,\"ticks\":\"\"},\"colorscale\":[[0.0,\"#0d0887\"],[0.1111111111111111,\"#46039f\"],[0.2222222222222222,\"#7201a8\"],[0.3333333333333333,\"#9c179e\"],[0.4444444444444444,\"#bd3786\"],[0.5555555555555556,\"#d8576b\"],[0.6666666666666666,\"#ed7953\"],[0.7777777777777778,\"#fb9f3a\"],[0.8888888888888888,\"#fdca26\"],[1.0,\"#f0f921\"]],\"type\":\"surface\"}],\"table\":[{\"cells\":{\"fill\":{\"color\":\"#EBF0F8\"},\"line\":{\"color\":\"white\"}},\"header\":{\"fill\":{\"color\":\"#C8D4E3\"},\"line\":{\"color\":\"white\"}},\"type\":\"table\"}]},\"layout\":{\"annotationdefaults\":{\"arrowcolor\":\"#2a3f5f\",\"arrowhead\":0,\"arrowwidth\":1},\"autotypenumbers\":\"strict\",\"coloraxis\":{\"colorbar\":{\"outlinewidth\":0,\"ticks\":\"\"}},\"colorscale\":{\"diverging\":[[0,\"#8e0152\"],[0.1,\"#c51b7d\"],[0.2,\"#de77ae\"],[0.3,\"#f1b6da\"],[0.4,\"#fde0ef\"],[0.5,\"#f7f7f7\"],[0.6,\"#e6f5d0\"],[0.7,\"#b8e186\"],[0.8,\"#7fbc41\"],[0.9,\"#4d9221\"],[1,\"#276419\"]],\"sequential\":[[0.0,\"#0d0887\"],[0.1111111111111111,\"#46039f\"],[0.2222222222222222,\"#7201a8\"],[0.3333333333333333,\"#9c179e\"],[0.4444444444444444,\"#bd3786\"],[0.5555555555555556,\"#d8576b\"],[0.6666666666666666,\"#ed7953\"],[0.7777777777777778,\"#fb9f3a\"],[0.8888888888888888,\"#fdca26\"],[1.0,\"#f0f921\"]],\"sequentialminus\":[[0.0,\"#0d0887\"],[0.1111111111111111,\"#46039f\"],[0.2222222222222222,\"#7201a8\"],[0.3333333333333333,\"#9c179e\"],[0.4444444444444444,\"#bd3786\"],[0.5555555555555556,\"#d8576b\"],[0.6666666666666666,\"#ed7953\"],[0.7777777777777778,\"#fb9f3a\"],[0.8888888888888888,\"#fdca26\"],[1.0,\"#f0f921\"]]},\"colorway\":[\"#636efa\",\"#EF553B\",\"#00cc96\",\"#ab63fa\",\"#FFA15A\",\"#19d3f3\",\"#FF6692\",\"#B6E880\",\"#FF97FF\",\"#FECB52\"],\"font\":{\"color\":\"#2a3f5f\"},\"geo\":{\"bgcolor\":\"white\",\"lakecolor\":\"white\",\"landcolor\":\"#E5ECF6\",\"showlakes\":true,\"showland\":true,\"subunitcolor\":\"white\"},\"hoverlabel\":{\"align\":\"left\"},\"hovermode\":\"closest\",\"mapbox\":{\"style\":\"light\"},\"paper_bgcolor\":\"white\",\"plot_bgcolor\":\"#E5ECF6\",\"polar\":{\"angularaxis\":{\"gridcolor\":\"white\",\"linecolor\":\"white\",\"ticks\":\"\"},\"bgcolor\":\"#E5ECF6\",\"radialaxis\":{\"gridcolor\":\"white\",\"linecolor\":\"white\",\"ticks\":\"\"}},\"scene\":{\"xaxis\":{\"backgroundcolor\":\"#E5ECF6\",\"gridcolor\":\"white\",\"gridwidth\":2,\"linecolor\":\"white\",\"showbackground\":true,\"ticks\":\"\",\"zerolinecolor\":\"white\"},\"yaxis\":{\"backgroundcolor\":\"#E5ECF6\",\"gridcolor\":\"white\",\"gridwidth\":2,\"linecolor\":\"white\",\"showbackground\":true,\"ticks\":\"\",\"zerolinecolor\":\"white\"},\"zaxis\":{\"backgroundcolor\":\"#E5ECF6\",\"gridcolor\":\"white\",\"gridwidth\":2,\"linecolor\":\"white\",\"showbackground\":true,\"ticks\":\"\",\"zerolinecolor\":\"white\"}},\"shapedefaults\":{\"line\":{\"color\":\"#2a3f5f\"}},\"ternary\":{\"aaxis\":{\"gridcolor\":\"white\",\"linecolor\":\"white\",\"ticks\":\"\"},\"baxis\":{\"gridcolor\":\"white\",\"linecolor\":\"white\",\"ticks\":\"\"},\"bgcolor\":\"#E5ECF6\",\"caxis\":{\"gridcolor\":\"white\",\"linecolor\":\"white\",\"ticks\":\"\"}},\"title\":{\"x\":0.05},\"xaxis\":{\"automargin\":true,\"gridcolor\":\"white\",\"linecolor\":\"white\",\"ticks\":\"\",\"title\":{\"standoff\":15},\"zerolinecolor\":\"white\",\"zerolinewidth\":2},\"yaxis\":{\"automargin\":true,\"gridcolor\":\"white\",\"linecolor\":\"white\",\"ticks\":\"\",\"title\":{\"standoff\":15},\"zerolinecolor\":\"white\",\"zerolinewidth\":2}}},\"xaxis\":{\"anchor\":\"y\",\"domain\":[0.0,1.0],\"title\":{\"text\":\"correlation\"}},\"yaxis\":{\"anchor\":\"x\",\"domain\":[0.0,1.0],\"title\":{\"text\":\"school\"}},\"legend\":{\"tracegroupgap\":0},\"title\":{\"text\":\"Correlations to school of interest\"},\"barmode\":\"relative\",\"height\":600,\"width\":900},                        {\"responsive\": true}                    ).then(function(){\n",
       "                            \n",
       "var gd = document.getElementById('c3f62894-e061-4fb1-b0eb-8a70b604bbe4');\n",
       "var x = new MutationObserver(function (mutations, observer) {{\n",
       "        var display = window.getComputedStyle(gd).display;\n",
       "        if (!display || display === 'none') {{\n",
       "            console.log([gd, 'removed!']);\n",
       "            Plotly.purge(gd);\n",
       "            observer.disconnect();\n",
       "        }}\n",
       "}});\n",
       "\n",
       "// Listen for the removal of the full notebook cells\n",
       "var notebookContainer = gd.closest('#notebook-container');\n",
       "if (notebookContainer) {{\n",
       "    x.observe(notebookContainer, {childList: true});\n",
       "}}\n",
       "\n",
       "// Listen for the clearing of the current output cell\n",
       "var outputEl = gd.closest('.output');\n",
       "if (outputEl) {{\n",
       "    x.observe(outputEl, {childList: true});\n",
       "}}\n",
       "\n",
       "                        })                };                });            </script>        </div>"
      ]
     },
     "metadata": {},
     "output_type": "display_data"
    }
   ],
   "source": [
    "#### check out the highly correlated school\n",
    "fig = px.bar(correlation_df, x=\"correlation\", y=\"school\", orientation='h', title='Correlations to school of interest')\n",
    "fig.update_layout(height=600, width=900)\n",
    "fig.show()"
   ]
  },
  {
   "cell_type": "markdown",
   "id": "44610d04",
   "metadata": {},
   "source": [
    "### Recommend highly correlated schools"
   ]
  },
  {
   "cell_type": "markdown",
   "id": "71bea008",
   "metadata": {},
   "source": [
    "What correlation level to your `school of interest` be acceptable?"
   ]
  },
  {
   "cell_type": "code",
   "execution_count": 351,
   "id": "22cc877c",
   "metadata": {},
   "outputs": [
    {
     "name": "stdout",
     "output_type": "stream",
     "text": [
      "Please enter the level of correlation to your school of interest that is acceptable \n",
      "98\n"
     ]
    }
   ],
   "source": [
    "correlation_level = input(\"Please enter the level of correlation to your school of interest that is acceptable \\n\")"
   ]
  },
  {
   "cell_type": "code",
   "execution_count": 355,
   "id": "597ec2b6",
   "metadata": {},
   "outputs": [
    {
     "data": {
      "text/plain": [
       "2"
      ]
     },
     "execution_count": 355,
     "metadata": {},
     "output_type": "execute_result"
    }
   ],
   "source": [
    "# list(school_names[(corr_ps69q<1.0) & (corr_ps69q > 0.99)])\n",
    "len(list(school_names[(corr_schoolofinterest<1.0) & (corr_schoolofinterest > np.float(correlation_level)*.01)]))"
   ]
  },
  {
   "cell_type": "markdown",
   "id": "1d360590",
   "metadata": {},
   "source": [
    "In which boroughs are these highly correlated schools?"
   ]
  },
  {
   "cell_type": "code",
   "execution_count": 356,
   "id": "dd1cf451",
   "metadata": {},
   "outputs": [
    {
     "name": "stdout",
     "output_type": "stream",
     "text": [
      "Q    2\n",
      "Name: borough, dtype: int64\n"
     ]
    },
    {
     "data": {
      "image/png": "[encoded data removed]",
      "text/plain": [
       "<Figure size 216x360 with 1 Axes>"
      ]
     },
     "metadata": {},
     "output_type": "display_data"
    }
   ],
   "source": [
    "# catvardistribution(data=df.loc[list(school_names[(corr_schoolofinterest<1.0) & (corr_schoolofinterest > np.float(correlation_level)*.01)])],\n",
    "#                    var='borough',x=3,y=5,rot=0)"
   ]
  },
  {
   "cell_type": "markdown",
   "id": "24316d72",
   "metadata": {},
   "source": [
    "In which districts are these highly correlated schools?"
   ]
  },
  {
   "cell_type": "code",
   "execution_count": 357,
   "id": "672218fc",
   "metadata": {},
   "outputs": [
    {
     "name": "stdout",
     "output_type": "stream",
     "text": [
      "30    2\n",
      "Name: district, dtype: int64\n"
     ]
    },
    {
     "data": {
      "image/png": "[encoded data removed]",
      "text/plain": [
       "<Figure size 360x360 with 1 Axes>"
      ]
     },
     "metadata": {},
     "output_type": "display_data"
    }
   ],
   "source": [
    "# catvardistribution(data=df.loc[list(school_names[(corr_schoolofinterest<1.0) & (corr_schoolofinterest > np.float(correlation_level)*.01)])],\n",
    "#                    var='district',x=5,y=5,rot=0)"
   ]
  },
  {
   "cell_type": "markdown",
   "id": "cd1990a4",
   "metadata": {},
   "source": [
    "What are the school types of the highly correlated schools?"
   ]
  },
  {
   "cell_type": "code",
   "execution_count": 359,
   "id": "9852e20d",
   "metadata": {},
   "outputs": [],
   "source": [
    "# catvardistribution(data=df.loc[list(school_names[(corr_schoolofinterest<1.0) & (corr_schoolofinterest > np.float(correlation_level)*.01)])],\n",
    "#                    var='school_type',x=4,y=4,rot=0)"
   ]
  },
  {
   "cell_type": "code",
   "execution_count": 281,
   "id": "6797513d",
   "metadata": {},
   "outputs": [],
   "source": [
    "# correlationMatrix(dataframe=results_df.loc[list(school_names[(corr_ps212q<1.0) & (corr_ps212q > 0.99)])])"
   ]
  },
  {
   "cell_type": "code",
   "execution_count": 360,
   "id": "73991420",
   "metadata": {},
   "outputs": [
    {
     "data": {
      "text/html": [
       "<div>\n",
       "<style scoped>\n",
       "    .dataframe tbody tr th:only-of-type {\n",
       "        vertical-align: middle;\n",
       "    }\n",
       "\n",
       "    .dataframe tbody tr th {\n",
       "        vertical-align: top;\n",
       "    }\n",
       "\n",
       "    .dataframe thead th {\n",
       "        text-align: right;\n",
       "    }\n",
       "</style>\n",
       "<table border=\"1\" class=\"dataframe\">\n",
       "  <thead>\n",
       "    <tr style=\"text-align: right;\">\n",
       "      <th></th>\n",
       "      <th>school_name</th>\n",
       "      <th>borough</th>\n",
       "      <th>district</th>\n",
       "      <th>principal</th>\n",
       "      <th>enrollment</th>\n",
       "      <th>principal_experience</th>\n",
       "      <th>teach_3_more_exp</th>\n",
       "      <th>val_prof_pct_watn3_mthlevel34</th>\n",
       "      <th>val_prof_pct_watn3_elalevel34</th>\n",
       "    </tr>\n",
       "    <tr>\n",
       "      <th>dbn</th>\n",
       "      <th></th>\n",
       "      <th></th>\n",
       "      <th></th>\n",
       "      <th></th>\n",
       "      <th></th>\n",
       "      <th></th>\n",
       "      <th></th>\n",
       "      <th></th>\n",
       "      <th></th>\n",
       "    </tr>\n",
       "  </thead>\n",
       "  <tbody>\n",
       "    <tr>\n",
       "      <th>02M077</th>\n",
       "      <td>P.S. 77 Lower Lab School</td>\n",
       "      <td>M</td>\n",
       "      <td>02</td>\n",
       "      <td>Sandra Miller</td>\n",
       "      <td>362</td>\n",
       "      <td>5.0</td>\n",
       "      <td>0.647</td>\n",
       "      <td>0.983</td>\n",
       "      <td>0.966</td>\n",
       "    </tr>\n",
       "    <tr>\n",
       "      <th>30Q002</th>\n",
       "      <td>P.S. 002 Alfred Zimberg</td>\n",
       "      <td>Q</td>\n",
       "      <td>30</td>\n",
       "      <td>Amy Goldman</td>\n",
       "      <td>533</td>\n",
       "      <td>5.0</td>\n",
       "      <td>0.973</td>\n",
       "      <td>0.896</td>\n",
       "      <td>0.766</td>\n",
       "    </tr>\n",
       "    <tr>\n",
       "      <th>30Q085</th>\n",
       "      <td>P.S. 085 Judge Charles Vallone</td>\n",
       "      <td>Q</td>\n",
       "      <td>30</td>\n",
       "      <td>ANN GORDON CHANG</td>\n",
       "      <td>590</td>\n",
       "      <td>17.1</td>\n",
       "      <td>0.675</td>\n",
       "      <td>0.851</td>\n",
       "      <td>0.735</td>\n",
       "    </tr>\n",
       "  </tbody>\n",
       "</table>\n",
       "</div>"
      ],
      "text/plain": [
       "                           school_name borough district         principal  \\\n",
       "dbn                                                                         \n",
       "02M077        P.S. 77 Lower Lab School       M       02     Sandra Miller   \n",
       "30Q002         P.S. 002 Alfred Zimberg       Q       30       Amy Goldman   \n",
       "30Q085  P.S. 085 Judge Charles Vallone       Q       30  ANN GORDON CHANG   \n",
       "\n",
       "        enrollment  principal_experience  teach_3_more_exp  \\\n",
       "dbn                                                          \n",
       "02M077         362                   5.0             0.647   \n",
       "30Q002         533                   5.0             0.973   \n",
       "30Q085         590                  17.1             0.675   \n",
       "\n",
       "        val_prof_pct_watn3_mthlevel34  val_prof_pct_watn3_elalevel34  \n",
       "dbn                                                                   \n",
       "02M077                          0.983                          0.966  \n",
       "30Q002                          0.896                          0.766  \n",
       "30Q085                          0.851                          0.735  "
      ]
     },
     "execution_count": 360,
     "metadata": {},
     "output_type": "execute_result"
    }
   ],
   "source": [
    "df.loc[list(school_names[(corr_schoolofinterest<=1.0) & (corr_schoolofinterest > np.float(correlation_level)*.01)])][['school_name','borough','district','principal',\n",
    "                                                                                           'enrollment','principal_experience','teach_3_more_exp',\n",
    "                                                                                            'val_prof_pct_watn3_mthlevel34', 'val_prof_pct_watn3_elalevel34']]"
   ]
  },
  {
   "cell_type": "markdown",
   "id": "afa0e9af",
   "metadata": {},
   "source": [
    "Check how many feature values are null in the highly correlated set?"
   ]
  },
  {
   "cell_type": "code",
   "execution_count": 361,
   "id": "72f3755a",
   "metadata": {},
   "outputs": [
    {
     "data": {
      "text/plain": [
       "<AxesSubplot:ylabel='dbn'>"
      ]
     },
     "execution_count": 361,
     "metadata": {},
     "output_type": "execute_result"
    },
    {
     "data": {
      "image/png": "[encoded data removed]",
      "text/plain": [
       "<Figure size 842.4x595.44 with 2 Axes>"
      ]
     },
     "metadata": {},
     "output_type": "display_data"
    }
   ],
   "source": [
    "import seaborn as sns\n",
    "sns.heatmap(results_df.loc[list(school_names[(corr_schoolofinterest<=1.0) & (corr_schoolofinterest > np.float(correlation_level)*.01)])].isnull())"
   ]
  },
  {
   "cell_type": "code",
   "execution_count": 362,
   "id": "acd1c251",
   "metadata": {},
   "outputs": [
    {
     "data": {
      "text/plain": [
       "<seaborn.axisgrid.PairGrid at 0x7f9c8cd35580>"
      ]
     },
     "execution_count": 362,
     "metadata": {},
     "output_type": "execute_result"
    },
    {
     "data": {
      "image/png": "[encoded data removed]",
      "text/plain": [
       "<Figure size 360x360 with 6 Axes>"
      ]
     },
     "metadata": {},
     "output_type": "display_data"
    }
   ],
   "source": [
    "sns.pairplot(results_df.loc[list(school_names[(corr_schoolofinterest<=1.0) & (corr_schoolofinterest > np.float(correlation_level)*.01)])][experience], )"
   ]
  },
  {
   "cell_type": "code",
   "execution_count": 369,
   "id": "a68a8ffd",
   "metadata": {},
   "outputs": [
    {
     "name": "stdout",
     "output_type": "stream",
     "text": [
      "<class 'pandas.core.frame.DataFrame'>\n",
      "Index: 3 entries, 02M077 to 30Q085\n",
      "Columns: 215 entries, dbn to qr_5_1_well_developed\n",
      "dtypes: float64(129), int64(1), object(2), uint8(83)\n",
      "memory usage: 3.4+ KB\n"
     ]
    }
   ],
   "source": [
    "results_df.loc[list(school_names[(corr_schoolofinterest<=1.0) & (corr_schoolofinterest > np.float(correlation_level)*.01)])].iloc[:20].info()"
   ]
  },
  {
   "cell_type": "code",
   "execution_count": 286,
   "id": "d5d226fb",
   "metadata": {},
   "outputs": [],
   "source": [
    "# from pandas_profiling import ProfileReport\n",
    "# profile = ProfileReport(df.loc[list(school_names[(corr_schoolofinterest<=1.0) & (corr_schoolofinterest > 0.999)])], \n",
    "#                         title=\"School Survey Data\", explorative=True)"
   ]
  },
  {
   "cell_type": "code",
   "execution_count": 373,
   "id": "1dc0a7fc",
   "metadata": {},
   "outputs": [
    {
     "data": {
      "application/vnd.plotly.v1+json": {
       "config": {
        "plotlyServerURL": "https://plot.ly"
       },
       "data": [
        {
         "hovertemplate": "<b>%{hovertext}</b><br><br>school_name=P.S. 77 Lower Lab School<br>val_prof_pct_watn3_mthlevel34=%{x}<br>val_prof_pct_watn3_elalevel34=%{y}<br>enrollment=%{marker.size}<extra></extra>",
         "hovertext": [
          "P.S. 77 Lower Lab School"
         ],
         "legendgroup": "P.S. 77 Lower Lab School",
         "marker": {
          "color": "#636efa",
          "size": [
           362
          ],
          "sizemode": "area",
          "sizeref": 1.475,
          "symbol": "circle"
         },
         "mode": "markers",
         "name": "P.S. 77 Lower Lab School",
         "orientation": "v",
         "showlegend": true,
         "type": "scatter",
         "x": [
          0.983
         ],
         "xaxis": "x",
         "y": [
          0.966
         ],
         "yaxis": "y"
        },
        {
         "hovertemplate": "<b>%{hovertext}</b><br><br>school_name=P.S. 002 Alfred Zimberg<br>val_prof_pct_watn3_mthlevel34=%{x}<br>val_prof_pct_watn3_elalevel34=%{y}<br>enrollment=%{marker.size}<extra></extra>",
         "hovertext": [
          "P.S. 002 Alfred Zimberg"
         ],
         "legendgroup": "P.S. 002 Alfred Zimberg",
         "marker": {
          "color": "#EF553B",
          "size": [
           533
          ],
          "sizemode": "area",
          "sizeref": 1.475,
          "symbol": "circle"
         },
         "mode": "markers",
         "name": "P.S. 002 Alfred Zimberg",
         "orientation": "v",
         "showlegend": true,
         "type": "scatter",
         "x": [
          0.896
         ],
         "xaxis": "x",
         "y": [
          0.766
         ],
         "yaxis": "y"
        },
        {
         "hovertemplate": "<b>%{hovertext}</b><br><br>school_name=P.S. 085 Judge Charles Vallone<br>val_prof_pct_watn3_mthlevel34=%{x}<br>val_prof_pct_watn3_elalevel34=%{y}<br>enrollment=%{marker.size}<extra></extra>",
         "hovertext": [
          "P.S. 085 Judge Charles Vallone"
         ],
         "legendgroup": "P.S. 085 Judge Charles Vallone",
         "marker": {
          "color": "#00cc96",
          "size": [
           590
          ],
          "sizemode": "area",
          "sizeref": 1.475,
          "symbol": "circle"
         },
         "mode": "markers",
         "name": "P.S. 085 Judge Charles Vallone",
         "orientation": "v",
         "showlegend": true,
         "type": "scatter",
         "x": [
          0.851
         ],
         "xaxis": "x",
         "y": [
          0.735
         ],
         "yaxis": "y"
        }
       ],
       "layout": {
        "legend": {
         "itemsizing": "constant",
         "title": {
          "text": "school_name"
         },
         "tracegroupgap": 0
        },
        "margin": {
         "t": 60
        },
        "template": {
         "data": {
          "bar": [
           {
            "error_x": {
             "color": "#2a3f5f"
            },
            "error_y": {
             "color": "#2a3f5f"
            },
            "marker": {
             "line": {
              "color": "#E5ECF6",
              "width": 0.5
             },
             "pattern": {
              "fillmode": "overlay",
              "size": 10,
              "solidity": 0.2
             }
            },
            "type": "bar"
           }
          ],
          "barpolar": [
           {
            "marker": {
             "line": {
              "color": "#E5ECF6",
              "width": 0.5
             },
             "pattern": {
              "fillmode": "overlay",
              "size": 10,
              "solidity": 0.2
             }
            },
            "type": "barpolar"
           }
          ],
          "carpet": [
           {
            "aaxis": {
             "endlinecolor": "#2a3f5f",
             "gridcolor": "white",
             "linecolor": "white",
             "minorgridcolor": "white",
             "startlinecolor": "#2a3f5f"
            },
            "baxis": {
             "endlinecolor": "#2a3f5f",
             "gridcolor": "white",
             "linecolor": "white",
             "minorgridcolor": "white",
             "startlinecolor": "#2a3f5f"
            },
            "type": "carpet"
           }
          ],
          "choropleth": [
           {
            "colorbar": {
             "outlinewidth": 0,
             "ticks": ""
            },
            "type": "choropleth"
           }
          ],
          "contour": [
           {
            "colorbar": {
             "outlinewidth": 0,
             "ticks": ""
            },
            "colorscale": [
             [
              0,
              "#0d0887"
             ],
             [
              0.1111111111111111,
              "#46039f"
             ],
             [
              0.2222222222222222,
              "#7201a8"
             ],
             [
              0.3333333333333333,
              "#9c179e"
             ],
             [
              0.4444444444444444,
              "#bd3786"
             ],
             [
              0.5555555555555556,
              "#d8576b"
             ],
             [
              0.6666666666666666,
              "#ed7953"
             ],
             [
              0.7777777777777778,
              "#fb9f3a"
             ],
             [
              0.8888888888888888,
              "#fdca26"
             ],
             [
              1,
              "#f0f921"
             ]
            ],
            "type": "contour"
           }
          ],
          "contourcarpet": [
           {
            "colorbar": {
             "outlinewidth": 0,
             "ticks": ""
            },
            "type": "contourcarpet"
           }
          ],
          "heatmap": [
           {
            "colorbar": {
             "outlinewidth": 0,
             "ticks": ""
            },
            "colorscale": [
             [
              0,
              "#0d0887"
             ],
             [
              0.1111111111111111,
              "#46039f"
             ],
             [
              0.2222222222222222,
              "#7201a8"
             ],
             [
              0.3333333333333333,
              "#9c179e"
             ],
             [
              0.4444444444444444,
              "#bd3786"
             ],
             [
              0.5555555555555556,
              "#d8576b"
             ],
             [
              0.6666666666666666,
              "#ed7953"
             ],
             [
              0.7777777777777778,
              "#fb9f3a"
             ],
             [
              0.8888888888888888,
              "#fdca26"
             ],
             [
              1,
              "#f0f921"
             ]
            ],
            "type": "heatmap"
           }
          ],
          "heatmapgl": [
           {
            "colorbar": {
             "outlinewidth": 0,
             "ticks": ""
            },
            "colorscale": [
             [
              0,
              "#0d0887"
             ],
             [
              0.1111111111111111,
              "#46039f"
             ],
             [
              0.2222222222222222,
              "#7201a8"
             ],
             [
              0.3333333333333333,
              "#9c179e"
             ],
             [
              0.4444444444444444,
              "#bd3786"
             ],
             [
              0.5555555555555556,
              "#d8576b"
             ],
             [
              0.6666666666666666,
              "#ed7953"
             ],
             [
              0.7777777777777778,
              "#fb9f3a"
             ],
             [
              0.8888888888888888,
              "#fdca26"
             ],
             [
              1,
              "#f0f921"
             ]
            ],
            "type": "heatmapgl"
           }
          ],
          "histogram": [
           {
            "marker": {
             "pattern": {
              "fillmode": "overlay",
              "size": 10,
              "solidity": 0.2
             }
            },
            "type": "histogram"
           }
          ],
          "histogram2d": [
           {
            "colorbar": {
             "outlinewidth": 0,
             "ticks": ""
            },
            "colorscale": [
             [
              0,
              "#0d0887"
             ],
             [
              0.1111111111111111,
              "#46039f"
             ],
             [
              0.2222222222222222,
              "#7201a8"
             ],
             [
              0.3333333333333333,
              "#9c179e"
             ],
             [
              0.4444444444444444,
              "#bd3786"
             ],
             [
              0.5555555555555556,
              "#d8576b"
             ],
             [
              0.6666666666666666,
              "#ed7953"
             ],
             [
              0.7777777777777778,
              "#fb9f3a"
             ],
             [
              0.8888888888888888,
              "#fdca26"
             ],
             [
              1,
              "#f0f921"
             ]
            ],
            "type": "histogram2d"
           }
          ],
          "histogram2dcontour": [
           {
            "colorbar": {
             "outlinewidth": 0,
             "ticks": ""
            },
            "colorscale": [
             [
              0,
              "#0d0887"
             ],
             [
              0.1111111111111111,
              "#46039f"
             ],
             [
              0.2222222222222222,
              "#7201a8"
             ],
             [
              0.3333333333333333,
              "#9c179e"
             ],
             [
              0.4444444444444444,
              "#bd3786"
             ],
             [
              0.5555555555555556,
              "#d8576b"
             ],
             [
              0.6666666666666666,
              "#ed7953"
             ],
             [
              0.7777777777777778,
              "#fb9f3a"
             ],
             [
              0.8888888888888888,
              "#fdca26"
             ],
             [
              1,
              "#f0f921"
             ]
            ],
            "type": "histogram2dcontour"
           }
          ],
          "mesh3d": [
           {
            "colorbar": {
             "outlinewidth": 0,
             "ticks": ""
            },
            "type": "mesh3d"
           }
          ],
          "parcoords": [
           {
            "line": {
             "colorbar": {
              "outlinewidth": 0,
              "ticks": ""
             }
            },
            "type": "parcoords"
           }
          ],
          "pie": [
           {
            "automargin": true,
            "type": "pie"
           }
          ],
          "scatter": [
           {
            "marker": {
             "colorbar": {
              "outlinewidth": 0,
              "ticks": ""
             }
            },
            "type": "scatter"
           }
          ],
          "scatter3d": [
           {
            "line": {
             "colorbar": {
              "outlinewidth": 0,
              "ticks": ""
             }
            },
            "marker": {
             "colorbar": {
              "outlinewidth": 0,
              "ticks": ""
             }
            },
            "type": "scatter3d"
           }
          ],
          "scattercarpet": [
           {
            "marker": {
             "colorbar": {
              "outlinewidth": 0,
              "ticks": ""
             }
            },
            "type": "scattercarpet"
           }
          ],
          "scattergeo": [
           {
            "marker": {
             "colorbar": {
              "outlinewidth": 0,
              "ticks": ""
             }
            },
            "type": "scattergeo"
           }
          ],
          "scattergl": [
           {
            "marker": {
             "colorbar": {
              "outlinewidth": 0,
              "ticks": ""
             }
            },
            "type": "scattergl"
           }
          ],
          "scattermapbox": [
           {
            "marker": {
             "colorbar": {
              "outlinewidth": 0,
              "ticks": ""
             }
            },
            "type": "scattermapbox"
           }
          ],
          "scatterpolar": [
           {
            "marker": {
             "colorbar": {
              "outlinewidth": 0,
              "ticks": ""
             }
            },
            "type": "scatterpolar"
           }
          ],
          "scatterpolargl": [
           {
            "marker": {
             "colorbar": {
              "outlinewidth": 0,
              "ticks": ""
             }
            },
            "type": "scatterpolargl"
           }
          ],
          "scatterternary": [
           {
            "marker": {
             "colorbar": {
              "outlinewidth": 0,
              "ticks": ""
             }
            },
            "type": "scatterternary"
           }
          ],
          "surface": [
           {
            "colorbar": {
             "outlinewidth": 0,
             "ticks": ""
            },
            "colorscale": [
             [
              0,
              "#0d0887"
             ],
             [
              0.1111111111111111,
              "#46039f"
             ],
             [
              0.2222222222222222,
              "#7201a8"
             ],
             [
              0.3333333333333333,
              "#9c179e"
             ],
             [
              0.4444444444444444,
              "#bd3786"
             ],
             [
              0.5555555555555556,
              "#d8576b"
             ],
             [
              0.6666666666666666,
              "#ed7953"
             ],
             [
              0.7777777777777778,
              "#fb9f3a"
             ],
             [
              0.8888888888888888,
              "#fdca26"
             ],
             [
              1,
              "#f0f921"
             ]
            ],
            "type": "surface"
           }
          ],
          "table": [
           {
            "cells": {
             "fill": {
              "color": "#EBF0F8"
             },
             "line": {
              "color": "white"
             }
            },
            "header": {
             "fill": {
              "color": "#C8D4E3"
             },
             "line": {
              "color": "white"
             }
            },
            "type": "table"
           }
          ]
         },
         "layout": {
          "annotationdefaults": {
           "arrowcolor": "#2a3f5f",
           "arrowhead": 0,
           "arrowwidth": 1
          },
          "autotypenumbers": "strict",
          "coloraxis": {
           "colorbar": {
            "outlinewidth": 0,
            "ticks": ""
           }
          },
          "colorscale": {
           "diverging": [
            [
             0,
             "#8e0152"
            ],
            [
             0.1,
             "#c51b7d"
            ],
            [
             0.2,
             "#de77ae"
            ],
            [
             0.3,
             "#f1b6da"
            ],
            [
             0.4,
             "#fde0ef"
            ],
            [
             0.5,
             "#f7f7f7"
            ],
            [
             0.6,
             "#e6f5d0"
            ],
            [
             0.7,
             "#b8e186"
            ],
            [
             0.8,
             "#7fbc41"
            ],
            [
             0.9,
             "#4d9221"
            ],
            [
             1,
             "#276419"
            ]
           ],
           "sequential": [
            [
             0,
             "#0d0887"
            ],
            [
             0.1111111111111111,
             "#46039f"
            ],
            [
             0.2222222222222222,
             "#7201a8"
            ],
            [
             0.3333333333333333,
             "#9c179e"
            ],
            [
             0.4444444444444444,
             "#bd3786"
            ],
            [
             0.5555555555555556,
             "#d8576b"
            ],
            [
             0.6666666666666666,
             "#ed7953"
            ],
            [
             0.7777777777777778,
             "#fb9f3a"
            ],
            [
             0.8888888888888888,
             "#fdca26"
            ],
            [
             1,
             "#f0f921"
            ]
           ],
           "sequentialminus": [
            [
             0,
             "#0d0887"
            ],
            [
             0.1111111111111111,
             "#46039f"
            ],
            [
             0.2222222222222222,
             "#7201a8"
            ],
            [
             0.3333333333333333,
             "#9c179e"
            ],
            [
             0.4444444444444444,
             "#bd3786"
            ],
            [
             0.5555555555555556,
             "#d8576b"
            ],
            [
             0.6666666666666666,
             "#ed7953"
            ],
            [
             0.7777777777777778,
             "#fb9f3a"
            ],
            [
             0.8888888888888888,
             "#fdca26"
            ],
            [
             1,
             "#f0f921"
            ]
           ]
          },
          "colorway": [
           "#636efa",
           "#EF553B",
           "#00cc96",
           "#ab63fa",
           "#FFA15A",
           "#19d3f3",
           "#FF6692",
           "#B6E880",
           "#FF97FF",
           "#FECB52"
          ],
          "font": {
           "color": "#2a3f5f"
          },
          "geo": {
           "bgcolor": "white",
           "lakecolor": "white",
           "landcolor": "#E5ECF6",
           "showlakes": true,
           "showland": true,
           "subunitcolor": "white"
          },
          "hoverlabel": {
           "align": "left"
          },
          "hovermode": "closest",
          "mapbox": {
           "style": "light"
          },
          "paper_bgcolor": "white",
          "plot_bgcolor": "#E5ECF6",
          "polar": {
           "angularaxis": {
            "gridcolor": "white",
            "linecolor": "white",
            "ticks": ""
           },
           "bgcolor": "#E5ECF6",
           "radialaxis": {
            "gridcolor": "white",
            "linecolor": "white",
            "ticks": ""
           }
          },
          "scene": {
           "xaxis": {
            "backgroundcolor": "#E5ECF6",
            "gridcolor": "white",
            "gridwidth": 2,
            "linecolor": "white",
            "showbackground": true,
            "ticks": "",
            "zerolinecolor": "white"
           },
           "yaxis": {
            "backgroundcolor": "#E5ECF6",
            "gridcolor": "white",
            "gridwidth": 2,
            "linecolor": "white",
            "showbackground": true,
            "ticks": "",
            "zerolinecolor": "white"
           },
           "zaxis": {
            "backgroundcolor": "#E5ECF6",
            "gridcolor": "white",
            "gridwidth": 2,
            "linecolor": "white",
            "showbackground": true,
            "ticks": "",
            "zerolinecolor": "white"
           }
          },
          "shapedefaults": {
           "line": {
            "color": "#2a3f5f"
           }
          },
          "ternary": {
           "aaxis": {
            "gridcolor": "white",
            "linecolor": "white",
            "ticks": ""
           },
           "baxis": {
            "gridcolor": "white",
            "linecolor": "white",
            "ticks": ""
           },
           "bgcolor": "#E5ECF6",
           "caxis": {
            "gridcolor": "white",
            "linecolor": "white",
            "ticks": ""
           }
          },
          "title": {
           "x": 0.05
          },
          "xaxis": {
           "automargin": true,
           "gridcolor": "white",
           "linecolor": "white",
           "ticks": "",
           "title": {
            "standoff": 15
           },
           "zerolinecolor": "white",
           "zerolinewidth": 2
          },
          "yaxis": {
           "automargin": true,
           "gridcolor": "white",
           "linecolor": "white",
           "ticks": "",
           "title": {
            "standoff": 15
           },
           "zerolinecolor": "white",
           "zerolinewidth": 2
          }
         }
        },
        "xaxis": {
         "anchor": "y",
         "domain": [
          0,
          1
         ],
         "title": {
          "text": "val_prof_pct_watn3_mthlevel34"
         }
        },
        "yaxis": {
         "anchor": "x",
         "domain": [
          0,
          1
         ],
         "title": {
          "text": "val_prof_pct_watn3_elalevel34"
         }
        }
       }
      },
      "text/html": [
       "<div>                            <div id=\"c5131014-b258-44f1-aa06-92331131671a\" class=\"plotly-graph-div\" style=\"height:525px; width:100%;\"></div>            <script type=\"text/javascript\">                require([\"plotly\"], function(Plotly) {                    window.PLOTLYENV=window.PLOTLYENV || {};                                    if (document.getElementById(\"c5131014-b258-44f1-aa06-92331131671a\")) {                    Plotly.newPlot(                        \"c5131014-b258-44f1-aa06-92331131671a\",                        [{\"hovertemplate\":\"<b>%{hovertext}</b><br><br>school_name=P.S. 77 Lower Lab School<br>val_prof_pct_watn3_mthlevel34=%{x}<br>val_prof_pct_watn3_elalevel34=%{y}<br>enrollment=%{marker.size}<extra></extra>\",\"hovertext\":[\"P.S. 77 Lower Lab School\"],\"legendgroup\":\"P.S. 77 Lower Lab School\",\"marker\":{\"color\":\"#636efa\",\"size\":[362],\"sizemode\":\"area\",\"sizeref\":1.475,\"symbol\":\"circle\"},\"mode\":\"markers\",\"name\":\"P.S. 77 Lower Lab School\",\"orientation\":\"v\",\"showlegend\":true,\"x\":[0.983],\"xaxis\":\"x\",\"y\":[0.966],\"yaxis\":\"y\",\"type\":\"scatter\"},{\"hovertemplate\":\"<b>%{hovertext}</b><br><br>school_name=P.S. 002 Alfred Zimberg<br>val_prof_pct_watn3_mthlevel34=%{x}<br>val_prof_pct_watn3_elalevel34=%{y}<br>enrollment=%{marker.size}<extra></extra>\",\"hovertext\":[\"P.S. 002 Alfred Zimberg\"],\"legendgroup\":\"P.S. 002 Alfred Zimberg\",\"marker\":{\"color\":\"#EF553B\",\"size\":[533],\"sizemode\":\"area\",\"sizeref\":1.475,\"symbol\":\"circle\"},\"mode\":\"markers\",\"name\":\"P.S. 002 Alfred Zimberg\",\"orientation\":\"v\",\"showlegend\":true,\"x\":[0.896],\"xaxis\":\"x\",\"y\":[0.766],\"yaxis\":\"y\",\"type\":\"scatter\"},{\"hovertemplate\":\"<b>%{hovertext}</b><br><br>school_name=P.S. 085 Judge Charles Vallone<br>val_prof_pct_watn3_mthlevel34=%{x}<br>val_prof_pct_watn3_elalevel34=%{y}<br>enrollment=%{marker.size}<extra></extra>\",\"hovertext\":[\"P.S. 085 Judge Charles Vallone\"],\"legendgroup\":\"P.S. 085 Judge Charles Vallone\",\"marker\":{\"color\":\"#00cc96\",\"size\":[590],\"sizemode\":\"area\",\"sizeref\":1.475,\"symbol\":\"circle\"},\"mode\":\"markers\",\"name\":\"P.S. 085 Judge Charles Vallone\",\"orientation\":\"v\",\"showlegend\":true,\"x\":[0.851],\"xaxis\":\"x\",\"y\":[0.735],\"yaxis\":\"y\",\"type\":\"scatter\"}],                        {\"template\":{\"data\":{\"bar\":[{\"error_x\":{\"color\":\"#2a3f5f\"},\"error_y\":{\"color\":\"#2a3f5f\"},\"marker\":{\"line\":{\"color\":\"#E5ECF6\",\"width\":0.5},\"pattern\":{\"fillmode\":\"overlay\",\"size\":10,\"solidity\":0.2}},\"type\":\"bar\"}],\"barpolar\":[{\"marker\":{\"line\":{\"color\":\"#E5ECF6\",\"width\":0.5},\"pattern\":{\"fillmode\":\"overlay\",\"size\":10,\"solidity\":0.2}},\"type\":\"barpolar\"}],\"carpet\":[{\"aaxis\":{\"endlinecolor\":\"#2a3f5f\",\"gridcolor\":\"white\",\"linecolor\":\"white\",\"minorgridcolor\":\"white\",\"startlinecolor\":\"#2a3f5f\"},\"baxis\":{\"endlinecolor\":\"#2a3f5f\",\"gridcolor\":\"white\",\"linecolor\":\"white\",\"minorgridcolor\":\"white\",\"startlinecolor\":\"#2a3f5f\"},\"type\":\"carpet\"}],\"choropleth\":[{\"colorbar\":{\"outlinewidth\":0,\"ticks\":\"\"},\"type\":\"choropleth\"}],\"contour\":[{\"colorbar\":{\"outlinewidth\":0,\"ticks\":\"\"},\"colorscale\":[[0.0,\"#0d0887\"],[0.1111111111111111,\"#46039f\"],[0.2222222222222222,\"#7201a8\"],[0.3333333333333333,\"#9c179e\"],[0.4444444444444444,\"#bd3786\"],[0.5555555555555556,\"#d8576b\"],[0.6666666666666666,\"#ed7953\"],[0.7777777777777778,\"#fb9f3a\"],[0.8888888888888888,\"#fdca26\"],[1.0,\"#f0f921\"]],\"type\":\"contour\"}],\"contourcarpet\":[{\"colorbar\":{\"outlinewidth\":0,\"ticks\":\"\"},\"type\":\"contourcarpet\"}],\"heatmap\":[{\"colorbar\":{\"outlinewidth\":0,\"ticks\":\"\"},\"colorscale\":[[0.0,\"#0d0887\"],[0.1111111111111111,\"#46039f\"],[0.2222222222222222,\"#7201a8\"],[0.3333333333333333,\"#9c179e\"],[0.4444444444444444,\"#bd3786\"],[0.5555555555555556,\"#d8576b\"],[0.6666666666666666,\"#ed7953\"],[0.7777777777777778,\"#fb9f3a\"],[0.8888888888888888,\"#fdca26\"],[1.0,\"#f0f921\"]],\"type\":\"heatmap\"}],\"heatmapgl\":[{\"colorbar\":{\"outlinewidth\":0,\"ticks\":\"\"},\"colorscale\":[[0.0,\"#0d0887\"],[0.1111111111111111,\"#46039f\"],[0.2222222222222222,\"#7201a8\"],[0.3333333333333333,\"#9c179e\"],[0.4444444444444444,\"#bd3786\"],[0.5555555555555556,\"#d8576b\"],[0.6666666666666666,\"#ed7953\"],[0.7777777777777778,\"#fb9f3a\"],[0.8888888888888888,\"#fdca26\"],[1.0,\"#f0f921\"]],\"type\":\"heatmapgl\"}],\"histogram\":[{\"marker\":{\"pattern\":{\"fillmode\":\"overlay\",\"size\":10,\"solidity\":0.2}},\"type\":\"histogram\"}],\"histogram2d\":[{\"colorbar\":{\"outlinewidth\":0,\"ticks\":\"\"},\"colorscale\":[[0.0,\"#0d0887\"],[0.1111111111111111,\"#46039f\"],[0.2222222222222222,\"#7201a8\"],[0.3333333333333333,\"#9c179e\"],[0.4444444444444444,\"#bd3786\"],[0.5555555555555556,\"#d8576b\"],[0.6666666666666666,\"#ed7953\"],[0.7777777777777778,\"#fb9f3a\"],[0.8888888888888888,\"#fdca26\"],[1.0,\"#f0f921\"]],\"type\":\"histogram2d\"}],\"histogram2dcontour\":[{\"colorbar\":{\"outlinewidth\":0,\"ticks\":\"\"},\"colorscale\":[[0.0,\"#0d0887\"],[0.1111111111111111,\"#46039f\"],[0.2222222222222222,\"#7201a8\"],[0.3333333333333333,\"#9c179e\"],[0.4444444444444444,\"#bd3786\"],[0.5555555555555556,\"#d8576b\"],[0.6666666666666666,\"#ed7953\"],[0.7777777777777778,\"#fb9f3a\"],[0.8888888888888888,\"#fdca26\"],[1.0,\"#f0f921\"]],\"type\":\"histogram2dcontour\"}],\"mesh3d\":[{\"colorbar\":{\"outlinewidth\":0,\"ticks\":\"\"},\"type\":\"mesh3d\"}],\"parcoords\":[{\"line\":{\"colorbar\":{\"outlinewidth\":0,\"ticks\":\"\"}},\"type\":\"parcoords\"}],\"pie\":[{\"automargin\":true,\"type\":\"pie\"}],\"scatter\":[{\"marker\":{\"colorbar\":{\"outlinewidth\":0,\"ticks\":\"\"}},\"type\":\"scatter\"}],\"scatter3d\":[{\"line\":{\"colorbar\":{\"outlinewidth\":0,\"ticks\":\"\"}},\"marker\":{\"colorbar\":{\"outlinewidth\":0,\"ticks\":\"\"}},\"type\":\"scatter3d\"}],\"scattercarpet\":[{\"marker\":{\"colorbar\":{\"outlinewidth\":0,\"ticks\":\"\"}},\"type\":\"scattercarpet\"}],\"scattergeo\":[{\"marker\":{\"colorbar\":{\"outlinewidth\":0,\"ticks\":\"\"}},\"type\":\"scattergeo\"}],\"scattergl\":[{\"marker\":{\"colorbar\":{\"outlinewidth\":0,\"ticks\":\"\"}},\"type\":\"scattergl\"}],\"scattermapbox\":[{\"marker\":{\"colorbar\":{\"outlinewidth\":0,\"ticks\":\"\"}},\"type\":\"scattermapbox\"}],\"scatterpolar\":[{\"marker\":{\"colorbar\":{\"outlinewidth\":0,\"ticks\":\"\"}},\"type\":\"scatterpolar\"}],\"scatterpolargl\":[{\"marker\":{\"colorbar\":{\"outlinewidth\":0,\"ticks\":\"\"}},\"type\":\"scatterpolargl\"}],\"scatterternary\":[{\"marker\":{\"colorbar\":{\"outlinewidth\":0,\"ticks\":\"\"}},\"type\":\"scatterternary\"}],\"surface\":[{\"colorbar\":{\"outlinewidth\":0,\"ticks\":\"\"},\"colorscale\":[[0.0,\"#0d0887\"],[0.1111111111111111,\"#46039f\"],[0.2222222222222222,\"#7201a8\"],[0.3333333333333333,\"#9c179e\"],[0.4444444444444444,\"#bd3786\"],[0.5555555555555556,\"#d8576b\"],[0.6666666666666666,\"#ed7953\"],[0.7777777777777778,\"#fb9f3a\"],[0.8888888888888888,\"#fdca26\"],[1.0,\"#f0f921\"]],\"type\":\"surface\"}],\"table\":[{\"cells\":{\"fill\":{\"color\":\"#EBF0F8\"},\"line\":{\"color\":\"white\"}},\"header\":{\"fill\":{\"color\":\"#C8D4E3\"},\"line\":{\"color\":\"white\"}},\"type\":\"table\"}]},\"layout\":{\"annotationdefaults\":{\"arrowcolor\":\"#2a3f5f\",\"arrowhead\":0,\"arrowwidth\":1},\"autotypenumbers\":\"strict\",\"coloraxis\":{\"colorbar\":{\"outlinewidth\":0,\"ticks\":\"\"}},\"colorscale\":{\"diverging\":[[0,\"#8e0152\"],[0.1,\"#c51b7d\"],[0.2,\"#de77ae\"],[0.3,\"#f1b6da\"],[0.4,\"#fde0ef\"],[0.5,\"#f7f7f7\"],[0.6,\"#e6f5d0\"],[0.7,\"#b8e186\"],[0.8,\"#7fbc41\"],[0.9,\"#4d9221\"],[1,\"#276419\"]],\"sequential\":[[0.0,\"#0d0887\"],[0.1111111111111111,\"#46039f\"],[0.2222222222222222,\"#7201a8\"],[0.3333333333333333,\"#9c179e\"],[0.4444444444444444,\"#bd3786\"],[0.5555555555555556,\"#d8576b\"],[0.6666666666666666,\"#ed7953\"],[0.7777777777777778,\"#fb9f3a\"],[0.8888888888888888,\"#fdca26\"],[1.0,\"#f0f921\"]],\"sequentialminus\":[[0.0,\"#0d0887\"],[0.1111111111111111,\"#46039f\"],[0.2222222222222222,\"#7201a8\"],[0.3333333333333333,\"#9c179e\"],[0.4444444444444444,\"#bd3786\"],[0.5555555555555556,\"#d8576b\"],[0.6666666666666666,\"#ed7953\"],[0.7777777777777778,\"#fb9f3a\"],[0.8888888888888888,\"#fdca26\"],[1.0,\"#f0f921\"]]},\"colorway\":[\"#636efa\",\"#EF553B\",\"#00cc96\",\"#ab63fa\",\"#FFA15A\",\"#19d3f3\",\"#FF6692\",\"#B6E880\",\"#FF97FF\",\"#FECB52\"],\"font\":{\"color\":\"#2a3f5f\"},\"geo\":{\"bgcolor\":\"white\",\"lakecolor\":\"white\",\"landcolor\":\"#E5ECF6\",\"showlakes\":true,\"showland\":true,\"subunitcolor\":\"white\"},\"hoverlabel\":{\"align\":\"left\"},\"hovermode\":\"closest\",\"mapbox\":{\"style\":\"light\"},\"paper_bgcolor\":\"white\",\"plot_bgcolor\":\"#E5ECF6\",\"polar\":{\"angularaxis\":{\"gridcolor\":\"white\",\"linecolor\":\"white\",\"ticks\":\"\"},\"bgcolor\":\"#E5ECF6\",\"radialaxis\":{\"gridcolor\":\"white\",\"linecolor\":\"white\",\"ticks\":\"\"}},\"scene\":{\"xaxis\":{\"backgroundcolor\":\"#E5ECF6\",\"gridcolor\":\"white\",\"gridwidth\":2,\"linecolor\":\"white\",\"showbackground\":true,\"ticks\":\"\",\"zerolinecolor\":\"white\"},\"yaxis\":{\"backgroundcolor\":\"#E5ECF6\",\"gridcolor\":\"white\",\"gridwidth\":2,\"linecolor\":\"white\",\"showbackground\":true,\"ticks\":\"\",\"zerolinecolor\":\"white\"},\"zaxis\":{\"backgroundcolor\":\"#E5ECF6\",\"gridcolor\":\"white\",\"gridwidth\":2,\"linecolor\":\"white\",\"showbackground\":true,\"ticks\":\"\",\"zerolinecolor\":\"white\"}},\"shapedefaults\":{\"line\":{\"color\":\"#2a3f5f\"}},\"ternary\":{\"aaxis\":{\"gridcolor\":\"white\",\"linecolor\":\"white\",\"ticks\":\"\"},\"baxis\":{\"gridcolor\":\"white\",\"linecolor\":\"white\",\"ticks\":\"\"},\"bgcolor\":\"#E5ECF6\",\"caxis\":{\"gridcolor\":\"white\",\"linecolor\":\"white\",\"ticks\":\"\"}},\"title\":{\"x\":0.05},\"xaxis\":{\"automargin\":true,\"gridcolor\":\"white\",\"linecolor\":\"white\",\"ticks\":\"\",\"title\":{\"standoff\":15},\"zerolinecolor\":\"white\",\"zerolinewidth\":2},\"yaxis\":{\"automargin\":true,\"gridcolor\":\"white\",\"linecolor\":\"white\",\"ticks\":\"\",\"title\":{\"standoff\":15},\"zerolinecolor\":\"white\",\"zerolinewidth\":2}}},\"xaxis\":{\"anchor\":\"y\",\"domain\":[0.0,1.0],\"title\":{\"text\":\"val_prof_pct_watn3_mthlevel34\"}},\"yaxis\":{\"anchor\":\"x\",\"domain\":[0.0,1.0],\"title\":{\"text\":\"val_prof_pct_watn3_elalevel34\"}},\"legend\":{\"title\":{\"text\":\"school_name\"},\"tracegroupgap\":0,\"itemsizing\":\"constant\"},\"margin\":{\"t\":60}},                        {\"responsive\": true}                    ).then(function(){\n",
       "                            \n",
       "var gd = document.getElementById('c5131014-b258-44f1-aa06-92331131671a');\n",
       "var x = new MutationObserver(function (mutations, observer) {{\n",
       "        var display = window.getComputedStyle(gd).display;\n",
       "        if (!display || display === 'none') {{\n",
       "            console.log([gd, 'removed!']);\n",
       "            Plotly.purge(gd);\n",
       "            observer.disconnect();\n",
       "        }}\n",
       "}});\n",
       "\n",
       "// Listen for the removal of the full notebook cells\n",
       "var notebookContainer = gd.closest('#notebook-container');\n",
       "if (notebookContainer) {{\n",
       "    x.observe(notebookContainer, {childList: true});\n",
       "}}\n",
       "\n",
       "// Listen for the clearing of the current output cell\n",
       "var outputEl = gd.closest('.output');\n",
       "if (outputEl) {{\n",
       "    x.observe(outputEl, {childList: true});\n",
       "}}\n",
       "\n",
       "                        })                };                });            </script>        </div>"
      ]
     },
     "metadata": {},
     "output_type": "display_data"
    }
   ],
   "source": [
    "fig = px.scatter(results_df.loc[list(school_names[(corr_schoolofinterest<=1.0) & (corr_schoolofinterest > np.float(correlation_level)*.01)])], \n",
    "                 x=\"val_prof_pct_watn3_mthlevel34\", y=\"val_prof_pct_watn3_elalevel34\", size='enrollment',\n",
    "                 color=\"school_name\", hover_name=\"school_name\")\n",
    "\n",
    "fig.show()"
   ]
  },
  {
   "cell_type": "markdown",
   "id": "336d9a14",
   "metadata": {},
   "source": [
    "### Recommend schools in similar cluster using unsupervised learning"
   ]
  },
  {
   "cell_type": "markdown",
   "id": "51cdbe13",
   "metadata": {},
   "source": [
    "### Principal Components Analysis (PCA)\n",
    "\n",
    "PCA is a linear dimension reduction technique that seeks to maximize variance and preserves large pairwise distances. In other words, things that are different end up far apart. PCA was developed in 1933."
   ]
  },
  {
   "cell_type": "code",
   "execution_count": 295,
   "id": "21fa6284",
   "metadata": {},
   "outputs": [],
   "source": [
    "# libraries\n",
    "from sklearn import mixture\n",
    "from sklearn.decomposition import PCA\n",
    "from sklearn.cluster import KMeans\n",
    "from sklearn.metrics import silhouette_samples, silhouette_score"
   ]
  },
  {
   "cell_type": "code",
   "execution_count": 296,
   "id": "6c3a63f9",
   "metadata": {},
   "outputs": [
    {
     "data": {
      "text/plain": [
       "<seaborn.axisgrid.FacetGrid at 0x7f9c870f3760>"
      ]
     },
     "execution_count": 296,
     "metadata": {},
     "output_type": "execute_result"
    },
    {
     "data": {
      "image/png": "[encoded data removed]",
      "text/plain": [
       "<Figure size 1008x504 with 1 Axes>"
      ]
     },
     "metadata": {},
     "output_type": "display_data"
    }
   ],
   "source": [
    "modeldf_Imp = pd.DataFrame(imputer.fit_transform(modeldf))\n",
    "\n",
    "scaler = StandardScaler()\n",
    "scaled_data = pd.DataFrame(scaler.fit_transform(modeldf_Imp))\n",
    "\n",
    "modeldf_Imp['dbn'] = modeldf.index # preserve index in model dataframe\n",
    "\n",
    "pca = PCA(n_components=2)\n",
    "pca.fit(scaled_data)\n",
    "x_pca = pca.transform(scaled_data)\n",
    "pca_df = pd.concat([pd.DataFrame(data = x_pca, columns = ['PCA0', 'PCA1']), modeldf_Imp], axis = 1)\n",
    "sns.lmplot(x=\"PCA0\", y=\"PCA1\", data=pca_df, fit_reg=False, height=7, aspect=2)"
   ]
  },
  {
   "cell_type": "code",
   "execution_count": 297,
   "id": "6d5aa33c",
   "metadata": {},
   "outputs": [
    {
     "data": {
      "application/vnd.plotly.v1+json": {
       "config": {
        "plotlyServerURL": "https://plot.ly"
       },
       "data": [
        {
         "hovertemplate": "<b>%{hovertext}</b><br><br>dbn=02M077<br>PCA0=%{x}<br>PCA1=%{y}<extra></extra>",
         "hovertext": [
          "02M077"
         ],
         "legendgroup": "02M077",
         "marker": {
          "color": "#636efa",
          "size": 10,
          "symbol": "circle"
         },
         "mode": "markers",
         "name": "02M077",
         "orientation": "v",
         "showlegend": true,
         "type": "scatter",
         "x": [
          -2.822655371665895
         ],
         "xaxis": "x",
         "y": [
          12.21488197159616
         ],
         "yaxis": "y"
        },
        {
         "hovertemplate": "<b>%{hovertext}</b><br><br>dbn=30Q002<br>PCA0=%{x}<br>PCA1=%{y}<extra></extra>",
         "hovertext": [
          "30Q002"
         ],
         "legendgroup": "30Q002",
         "marker": {
          "color": "#EF553B",
          "size": 10,
          "symbol": "circle"
         },
         "mode": "markers",
         "name": "30Q002",
         "orientation": "v",
         "showlegend": true,
         "type": "scatter",
         "x": [
          0.18608642468087924
         ],
         "xaxis": "x",
         "y": [
          2.465534075774547
         ],
         "yaxis": "y"
        },
        {
         "hovertemplate": "<b>%{hovertext}</b><br><br>dbn=30Q010<br>PCA0=%{x}<br>PCA1=%{y}<extra></extra>",
         "hovertext": [
          "30Q010"
         ],
         "legendgroup": "30Q010",
         "marker": {
          "color": "#00cc96",
          "size": 10,
          "symbol": "circle"
         },
         "mode": "markers",
         "name": "30Q010",
         "orientation": "v",
         "showlegend": true,
         "type": "scatter",
         "x": [
          3.4785909695148565
         ],
         "xaxis": "x",
         "y": [
          -3.7007128720665254
         ],
         "yaxis": "y"
        },
        {
         "hovertemplate": "<b>%{hovertext}</b><br><br>dbn=30Q011<br>PCA0=%{x}<br>PCA1=%{y}<extra></extra>",
         "hovertext": [
          "30Q011"
         ],
         "legendgroup": "30Q011",
         "marker": {
          "color": "#ab63fa",
          "size": 10,
          "symbol": "circle"
         },
         "mode": "markers",
         "name": "30Q011",
         "orientation": "v",
         "showlegend": true,
         "type": "scatter",
         "x": [
          0.34322557345217936
         ],
         "xaxis": "x",
         "y": [
          0.6825365433735394
         ],
         "yaxis": "y"
        },
        {
         "hovertemplate": "<b>%{hovertext}</b><br><br>dbn=30Q017<br>PCA0=%{x}<br>PCA1=%{y}<extra></extra>",
         "hovertext": [
          "30Q017"
         ],
         "legendgroup": "30Q017",
         "marker": {
          "color": "#FFA15A",
          "size": 10,
          "symbol": "circle"
         },
         "mode": "markers",
         "name": "30Q017",
         "orientation": "v",
         "showlegend": true,
         "type": "scatter",
         "x": [
          -3.1433815819921787
         ],
         "xaxis": "x",
         "y": [
          -4.395588510161461
         ],
         "yaxis": "y"
        },
        {
         "hovertemplate": "<b>%{hovertext}</b><br><br>dbn=30Q069<br>PCA0=%{x}<br>PCA1=%{y}<extra></extra>",
         "hovertext": [
          "30Q069"
         ],
         "legendgroup": "30Q069",
         "marker": {
          "color": "#19d3f3",
          "size": 10,
          "symbol": "circle"
         },
         "mode": "markers",
         "name": "30Q069",
         "orientation": "v",
         "showlegend": true,
         "type": "scatter",
         "x": [
          0.2541267844493341
         ],
         "xaxis": "x",
         "y": [
          1.671711740336579
         ],
         "yaxis": "y"
        },
        {
         "hovertemplate": "<b>%{hovertext}</b><br><br>dbn=30Q070<br>PCA0=%{x}<br>PCA1=%{y}<extra></extra>",
         "hovertext": [
          "30Q070"
         ],
         "legendgroup": "30Q070",
         "marker": {
          "color": "#FF6692",
          "size": 10,
          "symbol": "circle"
         },
         "mode": "markers",
         "name": "30Q070",
         "orientation": "v",
         "showlegend": true,
         "type": "scatter",
         "x": [
          -1.245460448141833
         ],
         "xaxis": "x",
         "y": [
          0.15022646694402267
         ],
         "yaxis": "y"
        },
        {
         "hovertemplate": "<b>%{hovertext}</b><br><br>dbn=30Q076<br>PCA0=%{x}<br>PCA1=%{y}<extra></extra>",
         "hovertext": [
          "30Q076"
         ],
         "legendgroup": "30Q076",
         "marker": {
          "color": "#B6E880",
          "size": 10,
          "symbol": "circle"
         },
         "mode": "markers",
         "name": "30Q076",
         "orientation": "v",
         "showlegend": true,
         "type": "scatter",
         "x": [
          -4.364004977705609
         ],
         "xaxis": "x",
         "y": [
          -7.446002863427575
         ],
         "yaxis": "y"
        },
        {
         "hovertemplate": "<b>%{hovertext}</b><br><br>dbn=30Q078<br>PCA0=%{x}<br>PCA1=%{y}<extra></extra>",
         "hovertext": [
          "30Q078"
         ],
         "legendgroup": "30Q078",
         "marker": {
          "color": "#FF97FF",
          "size": 10,
          "symbol": "circle"
         },
         "mode": "markers",
         "name": "30Q078",
         "orientation": "v",
         "showlegend": true,
         "type": "scatter",
         "x": [
          -4.1820618967615575
         ],
         "xaxis": "x",
         "y": [
          3.8142592771199855
         ],
         "yaxis": "y"
        },
        {
         "hovertemplate": "<b>%{hovertext}</b><br><br>dbn=30Q084<br>PCA0=%{x}<br>PCA1=%{y}<extra></extra>",
         "hovertext": [
          "30Q084"
         ],
         "legendgroup": "30Q084",
         "marker": {
          "color": "#FECB52",
          "size": 10,
          "symbol": "circle"
         },
         "mode": "markers",
         "name": "30Q084",
         "orientation": "v",
         "showlegend": true,
         "type": "scatter",
         "x": [
          -2.7029173051597
         ],
         "xaxis": "x",
         "y": [
          1.5357219611228417
         ],
         "yaxis": "y"
        },
        {
         "hovertemplate": "<b>%{hovertext}</b><br><br>dbn=30Q085<br>PCA0=%{x}<br>PCA1=%{y}<extra></extra>",
         "hovertext": [
          "30Q085"
         ],
         "legendgroup": "30Q085",
         "marker": {
          "color": "#636efa",
          "size": 10,
          "symbol": "circle"
         },
         "mode": "markers",
         "name": "30Q085",
         "orientation": "v",
         "showlegend": true,
         "type": "scatter",
         "x": [
          -1.768813170186274
         ],
         "xaxis": "x",
         "y": [
          3.4207469996078492
         ],
         "yaxis": "y"
        },
        {
         "hovertemplate": "<b>%{hovertext}</b><br><br>dbn=30Q092<br>PCA0=%{x}<br>PCA1=%{y}<extra></extra>",
         "hovertext": [
          "30Q092"
         ],
         "legendgroup": "30Q092",
         "marker": {
          "color": "#EF553B",
          "size": 10,
          "symbol": "circle"
         },
         "mode": "markers",
         "name": "30Q092",
         "orientation": "v",
         "showlegend": true,
         "type": "scatter",
         "x": [
          0.15958975346407978
         ],
         "xaxis": "x",
         "y": [
          -1.7798331632267266
         ],
         "yaxis": "y"
        },
        {
         "hovertemplate": "<b>%{hovertext}</b><br><br>dbn=30Q111<br>PCA0=%{x}<br>PCA1=%{y}<extra></extra>",
         "hovertext": [
          "30Q111"
         ],
         "legendgroup": "30Q111",
         "marker": {
          "color": "#00cc96",
          "size": 10,
          "symbol": "circle"
         },
         "mode": "markers",
         "name": "30Q111",
         "orientation": "v",
         "showlegend": true,
         "type": "scatter",
         "x": [
          -6.941074663385678
         ],
         "xaxis": "x",
         "y": [
          -7.77236393786565
         ],
         "yaxis": "y"
        },
        {
         "hovertemplate": "<b>%{hovertext}</b><br><br>dbn=30Q112<br>PCA0=%{x}<br>PCA1=%{y}<extra></extra>",
         "hovertext": [
          "30Q112"
         ],
         "legendgroup": "30Q112",
         "marker": {
          "color": "#ab63fa",
          "size": 10,
          "symbol": "circle"
         },
         "mode": "markers",
         "name": "30Q112",
         "orientation": "v",
         "showlegend": true,
         "type": "scatter",
         "x": [
          -3.615291955448155
         ],
         "xaxis": "x",
         "y": [
          -5.841693773746236
         ],
         "yaxis": "y"
        },
        {
         "hovertemplate": "<b>%{hovertext}</b><br><br>dbn=30Q122<br>PCA0=%{x}<br>PCA1=%{y}<extra></extra>",
         "hovertext": [
          "30Q122"
         ],
         "legendgroup": "30Q122",
         "marker": {
          "color": "#FFA15A",
          "size": 10,
          "symbol": "circle"
         },
         "mode": "markers",
         "name": "30Q122",
         "orientation": "v",
         "showlegend": true,
         "type": "scatter",
         "x": [
          1.0721451221513836
         ],
         "xaxis": "x",
         "y": [
          5.929836836454861
         ],
         "yaxis": "y"
        },
        {
         "hovertemplate": "<b>%{hovertext}</b><br><br>dbn=30Q126<br>PCA0=%{x}<br>PCA1=%{y}<extra></extra>",
         "hovertext": [
          "30Q126"
         ],
         "legendgroup": "30Q126",
         "marker": {
          "color": "#19d3f3",
          "size": 10,
          "symbol": "circle"
         },
         "mode": "markers",
         "name": "30Q126",
         "orientation": "v",
         "showlegend": true,
         "type": "scatter",
         "x": [
          0.4486334465420476
         ],
         "xaxis": "x",
         "y": [
          -3.3814484930147413
         ],
         "yaxis": "y"
        },
        {
         "hovertemplate": "<b>%{hovertext}</b><br><br>dbn=30Q127<br>PCA0=%{x}<br>PCA1=%{y}<extra></extra>",
         "hovertext": [
          "30Q127"
         ],
         "legendgroup": "30Q127",
         "marker": {
          "color": "#FF6692",
          "size": 10,
          "symbol": "circle"
         },
         "mode": "markers",
         "name": "30Q127",
         "orientation": "v",
         "showlegend": true,
         "type": "scatter",
         "x": [
          0.8443838147259004
         ],
         "xaxis": "x",
         "y": [
          -5.746982274873271
         ],
         "yaxis": "y"
        },
        {
         "hovertemplate": "<b>%{hovertext}</b><br><br>dbn=30Q141<br>PCA0=%{x}<br>PCA1=%{y}<extra></extra>",
         "hovertext": [
          "30Q141"
         ],
         "legendgroup": "30Q141",
         "marker": {
          "color": "#B6E880",
          "size": 10,
          "symbol": "circle"
         },
         "mode": "markers",
         "name": "30Q141",
         "orientation": "v",
         "showlegend": true,
         "type": "scatter",
         "x": [
          9.610220410659299
         ],
         "xaxis": "x",
         "y": [
          0.9823284926847953
         ],
         "yaxis": "y"
        },
        {
         "hovertemplate": "<b>%{hovertext}</b><br><br>dbn=30Q145<br>PCA0=%{x}<br>PCA1=%{y}<extra></extra>",
         "hovertext": [
          "30Q145"
         ],
         "legendgroup": "30Q145",
         "marker": {
          "color": "#FF97FF",
          "size": 10,
          "symbol": "circle"
         },
         "mode": "markers",
         "name": "30Q145",
         "orientation": "v",
         "showlegend": true,
         "type": "scatter",
         "x": [
          18.71520040761264
         ],
         "xaxis": "x",
         "y": [
          -3.5707385077656943
         ],
         "yaxis": "y"
        },
        {
         "hovertemplate": "<b>%{hovertext}</b><br><br>dbn=30Q148<br>PCA0=%{x}<br>PCA1=%{y}<extra></extra>",
         "hovertext": [
          "30Q148"
         ],
         "legendgroup": "30Q148",
         "marker": {
          "color": "#FECB52",
          "size": 10,
          "symbol": "circle"
         },
         "mode": "markers",
         "name": "30Q148",
         "orientation": "v",
         "showlegend": true,
         "type": "scatter",
         "x": [
          -0.7633404647259167
         ],
         "xaxis": "x",
         "y": [
          -3.3346771276323066
         ],
         "yaxis": "y"
        },
        {
         "hovertemplate": "<b>%{hovertext}</b><br><br>dbn=30Q149<br>PCA0=%{x}<br>PCA1=%{y}<extra></extra>",
         "hovertext": [
          "30Q149"
         ],
         "legendgroup": "30Q149",
         "marker": {
          "color": "#636efa",
          "size": 10,
          "symbol": "circle"
         },
         "mode": "markers",
         "name": "30Q149",
         "orientation": "v",
         "showlegend": true,
         "type": "scatter",
         "x": [
          0.5614315961565359
         ],
         "xaxis": "x",
         "y": [
          -1.7201207435535397
         ],
         "yaxis": "y"
        },
        {
         "hovertemplate": "<b>%{hovertext}</b><br><br>dbn=30Q150<br>PCA0=%{x}<br>PCA1=%{y}<extra></extra>",
         "hovertext": [
          "30Q150"
         ],
         "legendgroup": "30Q150",
         "marker": {
          "color": "#EF553B",
          "size": 10,
          "symbol": "circle"
         },
         "mode": "markers",
         "name": "30Q150",
         "orientation": "v",
         "showlegend": true,
         "type": "scatter",
         "x": [
          -0.08132452254776949
         ],
         "xaxis": "x",
         "y": [
          2.9642655395024864
         ],
         "yaxis": "y"
        },
        {
         "hovertemplate": "<b>%{hovertext}</b><br><br>dbn=30Q151<br>PCA0=%{x}<br>PCA1=%{y}<extra></extra>",
         "hovertext": [
          "30Q151"
         ],
         "legendgroup": "30Q151",
         "marker": {
          "color": "#00cc96",
          "size": 10,
          "symbol": "circle"
         },
         "mode": "markers",
         "name": "30Q151",
         "orientation": "v",
         "showlegend": true,
         "type": "scatter",
         "x": [
          -3.0925858731340923
         ],
         "xaxis": "x",
         "y": [
          -3.3148683127893372
         ],
         "yaxis": "y"
        },
        {
         "hovertemplate": "<b>%{hovertext}</b><br><br>dbn=30Q152<br>PCA0=%{x}<br>PCA1=%{y}<extra></extra>",
         "hovertext": [
          "30Q152"
         ],
         "legendgroup": "30Q152",
         "marker": {
          "color": "#ab63fa",
          "size": 10,
          "symbol": "circle"
         },
         "mode": "markers",
         "name": "30Q152",
         "orientation": "v",
         "showlegend": true,
         "type": "scatter",
         "x": [
          0.8499015484443798
         ],
         "xaxis": "x",
         "y": [
          2.4472898990484127
         ],
         "yaxis": "y"
        },
        {
         "hovertemplate": "<b>%{hovertext}</b><br><br>dbn=30Q166<br>PCA0=%{x}<br>PCA1=%{y}<extra></extra>",
         "hovertext": [
          "30Q166"
         ],
         "legendgroup": "30Q166",
         "marker": {
          "color": "#FFA15A",
          "size": 10,
          "symbol": "circle"
         },
         "mode": "markers",
         "name": "30Q166",
         "orientation": "v",
         "showlegend": true,
         "type": "scatter",
         "x": [
          0.26103972826628047
         ],
         "xaxis": "x",
         "y": [
          3.7982642196973337
         ],
         "yaxis": "y"
        },
        {
         "hovertemplate": "<b>%{hovertext}</b><br><br>dbn=30Q171<br>PCA0=%{x}<br>PCA1=%{y}<extra></extra>",
         "hovertext": [
          "30Q171"
         ],
         "legendgroup": "30Q171",
         "marker": {
          "color": "#19d3f3",
          "size": 10,
          "symbol": "circle"
         },
         "mode": "markers",
         "name": "30Q171",
         "orientation": "v",
         "showlegend": true,
         "type": "scatter",
         "x": [
          -3.46463629546318
         ],
         "xaxis": "x",
         "y": [
          -6.53601695165963
         ],
         "yaxis": "y"
        },
        {
         "hovertemplate": "<b>%{hovertext}</b><br><br>dbn=30Q204<br>PCA0=%{x}<br>PCA1=%{y}<extra></extra>",
         "hovertext": [
          "30Q204"
         ],
         "legendgroup": "30Q204",
         "marker": {
          "color": "#FF6692",
          "size": 10,
          "symbol": "circle"
         },
         "mode": "markers",
         "name": "30Q204",
         "orientation": "v",
         "showlegend": true,
         "type": "scatter",
         "x": [
          -1.507560895011643
         ],
         "xaxis": "x",
         "y": [
          -6.908614170804136
         ],
         "yaxis": "y"
        },
        {
         "hovertemplate": "<b>%{hovertext}</b><br><br>dbn=30Q212<br>PCA0=%{x}<br>PCA1=%{y}<extra></extra>",
         "hovertext": [
          "30Q212"
         ],
         "legendgroup": "30Q212",
         "marker": {
          "color": "#B6E880",
          "size": 10,
          "symbol": "circle"
         },
         "mode": "markers",
         "name": "30Q212",
         "orientation": "v",
         "showlegend": true,
         "type": "scatter",
         "x": [
          -0.3131196716692949
         ],
         "xaxis": "x",
         "y": [
          -0.0037703311872324483
         ],
         "yaxis": "y"
        },
        {
         "hovertemplate": "<b>%{hovertext}</b><br><br>dbn=30Q227<br>PCA0=%{x}<br>PCA1=%{y}<extra></extra>",
         "hovertext": [
          "30Q227"
         ],
         "legendgroup": "30Q227",
         "marker": {
          "color": "#FF97FF",
          "size": 10,
          "symbol": "circle"
         },
         "mode": "markers",
         "name": "30Q227",
         "orientation": "v",
         "showlegend": true,
         "type": "scatter",
         "x": [
          17.343833211941323
         ],
         "xaxis": "x",
         "y": [
          2.8193306055842733
         ],
         "yaxis": "y"
        },
        {
         "hovertemplate": "<b>%{hovertext}</b><br><br>dbn=30Q230<br>PCA0=%{x}<br>PCA1=%{y}<extra></extra>",
         "hovertext": [
          "30Q230"
         ],
         "legendgroup": "30Q230",
         "marker": {
          "color": "#FECB52",
          "size": 10,
          "symbol": "circle"
         },
         "mode": "markers",
         "name": "30Q230",
         "orientation": "v",
         "showlegend": true,
         "type": "scatter",
         "x": [
          11.437986549303874
         ],
         "xaxis": "x",
         "y": [
          -0.2972149772667376
         ],
         "yaxis": "y"
        },
        {
         "hovertemplate": "<b>%{hovertext}</b><br><br>dbn=30Q234<br>PCA0=%{x}<br>PCA1=%{y}<extra></extra>",
         "hovertext": [
          "30Q234"
         ],
         "legendgroup": "30Q234",
         "marker": {
          "color": "#636efa",
          "size": 10,
          "symbol": "circle"
         },
         "mode": "markers",
         "name": "30Q234",
         "orientation": "v",
         "showlegend": true,
         "type": "scatter",
         "x": [
          -1.6528148132939833
         ],
         "xaxis": "x",
         "y": [
          3.2805482157246586
         ],
         "yaxis": "y"
        },
        {
         "hovertemplate": "<b>%{hovertext}</b><br><br>dbn=30Q235<br>PCA0=%{x}<br>PCA1=%{y}<extra></extra>",
         "hovertext": [
          "30Q235"
         ],
         "legendgroup": "30Q235",
         "marker": {
          "color": "#EF553B",
          "size": 10,
          "symbol": "circle"
         },
         "mode": "markers",
         "name": "30Q235",
         "orientation": "v",
         "showlegend": true,
         "type": "scatter",
         "x": [
          -4.578956427881674
         ],
         "xaxis": "x",
         "y": [
          -0.8144056189235104
         ],
         "yaxis": "y"
        },
        {
         "hovertemplate": "<b>%{hovertext}</b><br><br>dbn=30Q280<br>PCA0=%{x}<br>PCA1=%{y}<extra></extra>",
         "hovertext": [
          "30Q280"
         ],
         "legendgroup": "30Q280",
         "marker": {
          "color": "#00cc96",
          "size": 10,
          "symbol": "circle"
         },
         "mode": "markers",
         "name": "30Q280",
         "orientation": "v",
         "showlegend": true,
         "type": "scatter",
         "x": [
          -0.8091035862438186
         ],
         "xaxis": "x",
         "y": [
          -1.7891367848258548
         ],
         "yaxis": "y"
        },
        {
         "hovertemplate": "<b>%{hovertext}</b><br><br>dbn=30Q286<br>PCA0=%{x}<br>PCA1=%{y}<extra></extra>",
         "hovertext": [
          "30Q286"
         ],
         "legendgroup": "30Q286",
         "marker": {
          "color": "#ab63fa",
          "size": 10,
          "symbol": "circle"
         },
         "mode": "markers",
         "name": "30Q286",
         "orientation": "v",
         "showlegend": true,
         "type": "scatter",
         "x": [
          -3.855714479879243
         ],
         "xaxis": "x",
         "y": [
          4.958704584491956
         ],
         "yaxis": "y"
        },
        {
         "hovertemplate": "<b>%{hovertext}</b><br><br>dbn=30Q291<br>PCA0=%{x}<br>PCA1=%{y}<extra></extra>",
         "hovertext": [
          "30Q291"
         ],
         "legendgroup": "30Q291",
         "marker": {
          "color": "#FFA15A",
          "size": 10,
          "symbol": "circle"
         },
         "mode": "markers",
         "name": "30Q291",
         "orientation": "v",
         "showlegend": true,
         "type": "scatter",
         "x": [
          -0.7164118757295282
         ],
         "xaxis": "x",
         "y": [
          3.6736480799136975
         ],
         "yaxis": "y"
        },
        {
         "hovertemplate": "<b>%{hovertext}</b><br><br>dbn=30Q300<br>PCA0=%{x}<br>PCA1=%{y}<extra></extra>",
         "hovertext": [
          "30Q300"
         ],
         "legendgroup": "30Q300",
         "marker": {
          "color": "#19d3f3",
          "size": 10,
          "symbol": "circle"
         },
         "mode": "markers",
         "name": "30Q300",
         "orientation": "v",
         "showlegend": true,
         "type": "scatter",
         "x": [
          -5.603224151802156
         ],
         "xaxis": "x",
         "y": [
          5.822175365833822
         ],
         "yaxis": "y"
        },
        {
         "hovertemplate": "<b>%{hovertext}</b><br><br>dbn=30Q329<br>PCA0=%{x}<br>PCA1=%{y}<extra></extra>",
         "hovertext": [
          "30Q329"
         ],
         "legendgroup": "30Q329",
         "marker": {
          "color": "#FF6692",
          "size": 10,
          "symbol": "circle"
         },
         "mode": "markers",
         "name": "30Q329",
         "orientation": "v",
         "showlegend": true,
         "type": "scatter",
         "x": [
          -1.514925042347759
         ],
         "xaxis": "x",
         "y": [
          -1.7695324869939342
         ],
         "yaxis": "y"
        },
        {
         "hovertemplate": "<b>%{hovertext}</b><br><br>dbn=30Q361<br>PCA0=%{x}<br>PCA1=%{y}<extra></extra>",
         "hovertext": [
          "30Q361"
         ],
         "legendgroup": "30Q361",
         "marker": {
          "color": "#B6E880",
          "size": 10,
          "symbol": "circle"
         },
         "mode": "markers",
         "name": "30Q361",
         "orientation": "v",
         "showlegend": true,
         "type": "scatter",
         "x": [
          -2.0966810303380763
         ],
         "xaxis": "x",
         "y": [
          1.1516688506125503
         ],
         "yaxis": "y"
        },
        {
         "hovertemplate": "<b>%{hovertext}</b><br><br>dbn=30Q580<br>PCA0=%{x}<br>PCA1=%{y}<extra></extra>",
         "hovertext": [
          "30Q580"
         ],
         "legendgroup": "30Q580",
         "marker": {
          "color": "#FF97FF",
          "size": 10,
          "symbol": "circle"
         },
         "mode": "markers",
         "name": "30Q580",
         "orientation": "v",
         "showlegend": true,
         "type": "scatter",
         "x": [
          -4.7303348408499755
         ],
         "xaxis": "x",
         "y": [
          6.340042176359678
         ],
         "yaxis": "y"
        }
       ],
       "layout": {
        "legend": {
         "title": {
          "text": "dbn"
         },
         "tracegroupgap": 0
        },
        "margin": {
         "t": 60
        },
        "template": {
         "data": {
          "bar": [
           {
            "error_x": {
             "color": "#2a3f5f"
            },
            "error_y": {
             "color": "#2a3f5f"
            },
            "marker": {
             "line": {
              "color": "#E5ECF6",
              "width": 0.5
             },
             "pattern": {
              "fillmode": "overlay",
              "size": 10,
              "solidity": 0.2
             }
            },
            "type": "bar"
           }
          ],
          "barpolar": [
           {
            "marker": {
             "line": {
              "color": "#E5ECF6",
              "width": 0.5
             },
             "pattern": {
              "fillmode": "overlay",
              "size": 10,
              "solidity": 0.2
             }
            },
            "type": "barpolar"
           }
          ],
          "carpet": [
           {
            "aaxis": {
             "endlinecolor": "#2a3f5f",
             "gridcolor": "white",
             "linecolor": "white",
             "minorgridcolor": "white",
             "startlinecolor": "#2a3f5f"
            },
            "baxis": {
             "endlinecolor": "#2a3f5f",
             "gridcolor": "white",
             "linecolor": "white",
             "minorgridcolor": "white",
             "startlinecolor": "#2a3f5f"
            },
            "type": "carpet"
           }
          ],
          "choropleth": [
           {
            "colorbar": {
             "outlinewidth": 0,
             "ticks": ""
            },
            "type": "choropleth"
           }
          ],
          "contour": [
           {
            "colorbar": {
             "outlinewidth": 0,
             "ticks": ""
            },
            "colorscale": [
             [
              0,
              "#0d0887"
             ],
             [
              0.1111111111111111,
              "#46039f"
             ],
             [
              0.2222222222222222,
              "#7201a8"
             ],
             [
              0.3333333333333333,
              "#9c179e"
             ],
             [
              0.4444444444444444,
              "#bd3786"
             ],
             [
              0.5555555555555556,
              "#d8576b"
             ],
             [
              0.6666666666666666,
              "#ed7953"
             ],
             [
              0.7777777777777778,
              "#fb9f3a"
             ],
             [
              0.8888888888888888,
              "#fdca26"
             ],
             [
              1,
              "#f0f921"
             ]
            ],
            "type": "contour"
           }
          ],
          "contourcarpet": [
           {
            "colorbar": {
             "outlinewidth": 0,
             "ticks": ""
            },
            "type": "contourcarpet"
           }
          ],
          "heatmap": [
           {
            "colorbar": {
             "outlinewidth": 0,
             "ticks": ""
            },
            "colorscale": [
             [
              0,
              "#0d0887"
             ],
             [
              0.1111111111111111,
              "#46039f"
             ],
             [
              0.2222222222222222,
              "#7201a8"
             ],
             [
              0.3333333333333333,
              "#9c179e"
             ],
             [
              0.4444444444444444,
              "#bd3786"
             ],
             [
              0.5555555555555556,
              "#d8576b"
             ],
             [
              0.6666666666666666,
              "#ed7953"
             ],
             [
              0.7777777777777778,
              "#fb9f3a"
             ],
             [
              0.8888888888888888,
              "#fdca26"
             ],
             [
              1,
              "#f0f921"
             ]
            ],
            "type": "heatmap"
           }
          ],
          "heatmapgl": [
           {
            "colorbar": {
             "outlinewidth": 0,
             "ticks": ""
            },
            "colorscale": [
             [
              0,
              "#0d0887"
             ],
             [
              0.1111111111111111,
              "#46039f"
             ],
             [
              0.2222222222222222,
              "#7201a8"
             ],
             [
              0.3333333333333333,
              "#9c179e"
             ],
             [
              0.4444444444444444,
              "#bd3786"
             ],
             [
              0.5555555555555556,
              "#d8576b"
             ],
             [
              0.6666666666666666,
              "#ed7953"
             ],
             [
              0.7777777777777778,
              "#fb9f3a"
             ],
             [
              0.8888888888888888,
              "#fdca26"
             ],
             [
              1,
              "#f0f921"
             ]
            ],
            "type": "heatmapgl"
           }
          ],
          "histogram": [
           {
            "marker": {
             "pattern": {
              "fillmode": "overlay",
              "size": 10,
              "solidity": 0.2
             }
            },
            "type": "histogram"
           }
          ],
          "histogram2d": [
           {
            "colorbar": {
             "outlinewidth": 0,
             "ticks": ""
            },
            "colorscale": [
             [
              0,
              "#0d0887"
             ],
             [
              0.1111111111111111,
              "#46039f"
             ],
             [
              0.2222222222222222,
              "#7201a8"
             ],
             [
              0.3333333333333333,
              "#9c179e"
             ],
             [
              0.4444444444444444,
              "#bd3786"
             ],
             [
              0.5555555555555556,
              "#d8576b"
             ],
             [
              0.6666666666666666,
              "#ed7953"
             ],
             [
              0.7777777777777778,
              "#fb9f3a"
             ],
             [
              0.8888888888888888,
              "#fdca26"
             ],
             [
              1,
              "#f0f921"
             ]
            ],
            "type": "histogram2d"
           }
          ],
          "histogram2dcontour": [
           {
            "colorbar": {
             "outlinewidth": 0,
             "ticks": ""
            },
            "colorscale": [
             [
              0,
              "#0d0887"
             ],
             [
              0.1111111111111111,
              "#46039f"
             ],
             [
              0.2222222222222222,
              "#7201a8"
             ],
             [
              0.3333333333333333,
              "#9c179e"
             ],
             [
              0.4444444444444444,
              "#bd3786"
             ],
             [
              0.5555555555555556,
              "#d8576b"
             ],
             [
              0.6666666666666666,
              "#ed7953"
             ],
             [
              0.7777777777777778,
              "#fb9f3a"
             ],
             [
              0.8888888888888888,
              "#fdca26"
             ],
             [
              1,
              "#f0f921"
             ]
            ],
            "type": "histogram2dcontour"
           }
          ],
          "mesh3d": [
           {
            "colorbar": {
             "outlinewidth": 0,
             "ticks": ""
            },
            "type": "mesh3d"
           }
          ],
          "parcoords": [
           {
            "line": {
             "colorbar": {
              "outlinewidth": 0,
              "ticks": ""
             }
            },
            "type": "parcoords"
           }
          ],
          "pie": [
           {
            "automargin": true,
            "type": "pie"
           }
          ],
          "scatter": [
           {
            "marker": {
             "colorbar": {
              "outlinewidth": 0,
              "ticks": ""
             }
            },
            "type": "scatter"
           }
          ],
          "scatter3d": [
           {
            "line": {
             "colorbar": {
              "outlinewidth": 0,
              "ticks": ""
             }
            },
            "marker": {
             "colorbar": {
              "outlinewidth": 0,
              "ticks": ""
             }
            },
            "type": "scatter3d"
           }
          ],
          "scattercarpet": [
           {
            "marker": {
             "colorbar": {
              "outlinewidth": 0,
              "ticks": ""
             }
            },
            "type": "scattercarpet"
           }
          ],
          "scattergeo": [
           {
            "marker": {
             "colorbar": {
              "outlinewidth": 0,
              "ticks": ""
             }
            },
            "type": "scattergeo"
           }
          ],
          "scattergl": [
           {
            "marker": {
             "colorbar": {
              "outlinewidth": 0,
              "ticks": ""
             }
            },
            "type": "scattergl"
           }
          ],
          "scattermapbox": [
           {
            "marker": {
             "colorbar": {
              "outlinewidth": 0,
              "ticks": ""
             }
            },
            "type": "scattermapbox"
           }
          ],
          "scatterpolar": [
           {
            "marker": {
             "colorbar": {
              "outlinewidth": 0,
              "ticks": ""
             }
            },
            "type": "scatterpolar"
           }
          ],
          "scatterpolargl": [
           {
            "marker": {
             "colorbar": {
              "outlinewidth": 0,
              "ticks": ""
             }
            },
            "type": "scatterpolargl"
           }
          ],
          "scatterternary": [
           {
            "marker": {
             "colorbar": {
              "outlinewidth": 0,
              "ticks": ""
             }
            },
            "type": "scatterternary"
           }
          ],
          "surface": [
           {
            "colorbar": {
             "outlinewidth": 0,
             "ticks": ""
            },
            "colorscale": [
             [
              0,
              "#0d0887"
             ],
             [
              0.1111111111111111,
              "#46039f"
             ],
             [
              0.2222222222222222,
              "#7201a8"
             ],
             [
              0.3333333333333333,
              "#9c179e"
             ],
             [
              0.4444444444444444,
              "#bd3786"
             ],
             [
              0.5555555555555556,
              "#d8576b"
             ],
             [
              0.6666666666666666,
              "#ed7953"
             ],
             [
              0.7777777777777778,
              "#fb9f3a"
             ],
             [
              0.8888888888888888,
              "#fdca26"
             ],
             [
              1,
              "#f0f921"
             ]
            ],
            "type": "surface"
           }
          ],
          "table": [
           {
            "cells": {
             "fill": {
              "color": "#EBF0F8"
             },
             "line": {
              "color": "white"
             }
            },
            "header": {
             "fill": {
              "color": "#C8D4E3"
             },
             "line": {
              "color": "white"
             }
            },
            "type": "table"
           }
          ]
         },
         "layout": {
          "annotationdefaults": {
           "arrowcolor": "#2a3f5f",
           "arrowhead": 0,
           "arrowwidth": 1
          },
          "autotypenumbers": "strict",
          "coloraxis": {
           "colorbar": {
            "outlinewidth": 0,
            "ticks": ""
           }
          },
          "colorscale": {
           "diverging": [
            [
             0,
             "#8e0152"
            ],
            [
             0.1,
             "#c51b7d"
            ],
            [
             0.2,
             "#de77ae"
            ],
            [
             0.3,
             "#f1b6da"
            ],
            [
             0.4,
             "#fde0ef"
            ],
            [
             0.5,
             "#f7f7f7"
            ],
            [
             0.6,
             "#e6f5d0"
            ],
            [
             0.7,
             "#b8e186"
            ],
            [
             0.8,
             "#7fbc41"
            ],
            [
             0.9,
             "#4d9221"
            ],
            [
             1,
             "#276419"
            ]
           ],
           "sequential": [
            [
             0,
             "#0d0887"
            ],
            [
             0.1111111111111111,
             "#46039f"
            ],
            [
             0.2222222222222222,
             "#7201a8"
            ],
            [
             0.3333333333333333,
             "#9c179e"
            ],
            [
             0.4444444444444444,
             "#bd3786"
            ],
            [
             0.5555555555555556,
             "#d8576b"
            ],
            [
             0.6666666666666666,
             "#ed7953"
            ],
            [
             0.7777777777777778,
             "#fb9f3a"
            ],
            [
             0.8888888888888888,
             "#fdca26"
            ],
            [
             1,
             "#f0f921"
            ]
           ],
           "sequentialminus": [
            [
             0,
             "#0d0887"
            ],
            [
             0.1111111111111111,
             "#46039f"
            ],
            [
             0.2222222222222222,
             "#7201a8"
            ],
            [
             0.3333333333333333,
             "#9c179e"
            ],
            [
             0.4444444444444444,
             "#bd3786"
            ],
            [
             0.5555555555555556,
             "#d8576b"
            ],
            [
             0.6666666666666666,
             "#ed7953"
            ],
            [
             0.7777777777777778,
             "#fb9f3a"
            ],
            [
             0.8888888888888888,
             "#fdca26"
            ],
            [
             1,
             "#f0f921"
            ]
           ]
          },
          "colorway": [
           "#636efa",
           "#EF553B",
           "#00cc96",
           "#ab63fa",
           "#FFA15A",
           "#19d3f3",
           "#FF6692",
           "#B6E880",
           "#FF97FF",
           "#FECB52"
          ],
          "font": {
           "color": "#2a3f5f"
          },
          "geo": {
           "bgcolor": "white",
           "lakecolor": "white",
           "landcolor": "#E5ECF6",
           "showlakes": true,
           "showland": true,
           "subunitcolor": "white"
          },
          "hoverlabel": {
           "align": "left"
          },
          "hovermode": "closest",
          "mapbox": {
           "style": "light"
          },
          "paper_bgcolor": "white",
          "plot_bgcolor": "#E5ECF6",
          "polar": {
           "angularaxis": {
            "gridcolor": "white",
            "linecolor": "white",
            "ticks": ""
           },
           "bgcolor": "#E5ECF6",
           "radialaxis": {
            "gridcolor": "white",
            "linecolor": "white",
            "ticks": ""
           }
          },
          "scene": {
           "xaxis": {
            "backgroundcolor": "#E5ECF6",
            "gridcolor": "white",
            "gridwidth": 2,
            "linecolor": "white",
            "showbackground": true,
            "ticks": "",
            "zerolinecolor": "white"
           },
           "yaxis": {
            "backgroundcolor": "#E5ECF6",
            "gridcolor": "white",
            "gridwidth": 2,
            "linecolor": "white",
            "showbackground": true,
            "ticks": "",
            "zerolinecolor": "white"
           },
           "zaxis": {
            "backgroundcolor": "#E5ECF6",
            "gridcolor": "white",
            "gridwidth": 2,
            "linecolor": "white",
            "showbackground": true,
            "ticks": "",
            "zerolinecolor": "white"
           }
          },
          "shapedefaults": {
           "line": {
            "color": "#2a3f5f"
           }
          },
          "ternary": {
           "aaxis": {
            "gridcolor": "white",
            "linecolor": "white",
            "ticks": ""
           },
           "baxis": {
            "gridcolor": "white",
            "linecolor": "white",
            "ticks": ""
           },
           "bgcolor": "#E5ECF6",
           "caxis": {
            "gridcolor": "white",
            "linecolor": "white",
            "ticks": ""
           }
          },
          "title": {
           "x": 0.05
          },
          "xaxis": {
           "automargin": true,
           "gridcolor": "white",
           "linecolor": "white",
           "ticks": "",
           "title": {
            "standoff": 15
           },
           "zerolinecolor": "white",
           "zerolinewidth": 2
          },
          "yaxis": {
           "automargin": true,
           "gridcolor": "white",
           "linecolor": "white",
           "ticks": "",
           "title": {
            "standoff": 15
           },
           "zerolinecolor": "white",
           "zerolinewidth": 2
          }
         }
        },
        "xaxis": {
         "anchor": "y",
         "domain": [
          0,
          1
         ],
         "title": {
          "text": "PCA0"
         }
        },
        "yaxis": {
         "anchor": "x",
         "domain": [
          0,
          1
         ],
         "title": {
          "text": "PCA1"
         }
        }
       }
      },
      "text/html": [
       "<div>                            <div id=\"189caa87-c934-42f9-9cbd-32913dc8b4a5\" class=\"plotly-graph-div\" style=\"height:525px; width:100%;\"></div>            <script type=\"text/javascript\">                require([\"plotly\"], function(Plotly) {                    window.PLOTLYENV=window.PLOTLYENV || {};                                    if (document.getElementById(\"189caa87-c934-42f9-9cbd-32913dc8b4a5\")) {                    Plotly.newPlot(                        \"189caa87-c934-42f9-9cbd-32913dc8b4a5\",                        [{\"hovertemplate\":\"<b>%{hovertext}</b><br><br>dbn=02M077<br>PCA0=%{x}<br>PCA1=%{y}<extra></extra>\",\"hovertext\":[\"02M077\"],\"legendgroup\":\"02M077\",\"marker\":{\"color\":\"#636efa\",\"symbol\":\"circle\",\"size\":10},\"mode\":\"markers\",\"name\":\"02M077\",\"orientation\":\"v\",\"showlegend\":true,\"x\":[-2.822655371665895],\"xaxis\":\"x\",\"y\":[12.21488197159616],\"yaxis\":\"y\",\"type\":\"scatter\"},{\"hovertemplate\":\"<b>%{hovertext}</b><br><br>dbn=30Q002<br>PCA0=%{x}<br>PCA1=%{y}<extra></extra>\",\"hovertext\":[\"30Q002\"],\"legendgroup\":\"30Q002\",\"marker\":{\"color\":\"#EF553B\",\"symbol\":\"circle\",\"size\":10},\"mode\":\"markers\",\"name\":\"30Q002\",\"orientation\":\"v\",\"showlegend\":true,\"x\":[0.18608642468087924],\"xaxis\":\"x\",\"y\":[2.465534075774547],\"yaxis\":\"y\",\"type\":\"scatter\"},{\"hovertemplate\":\"<b>%{hovertext}</b><br><br>dbn=30Q010<br>PCA0=%{x}<br>PCA1=%{y}<extra></extra>\",\"hovertext\":[\"30Q010\"],\"legendgroup\":\"30Q010\",\"marker\":{\"color\":\"#00cc96\",\"symbol\":\"circle\",\"size\":10},\"mode\":\"markers\",\"name\":\"30Q010\",\"orientation\":\"v\",\"showlegend\":true,\"x\":[3.4785909695148565],\"xaxis\":\"x\",\"y\":[-3.7007128720665254],\"yaxis\":\"y\",\"type\":\"scatter\"},{\"hovertemplate\":\"<b>%{hovertext}</b><br><br>dbn=30Q011<br>PCA0=%{x}<br>PCA1=%{y}<extra></extra>\",\"hovertext\":[\"30Q011\"],\"legendgroup\":\"30Q011\",\"marker\":{\"color\":\"#ab63fa\",\"symbol\":\"circle\",\"size\":10},\"mode\":\"markers\",\"name\":\"30Q011\",\"orientation\":\"v\",\"showlegend\":true,\"x\":[0.34322557345217936],\"xaxis\":\"x\",\"y\":[0.6825365433735394],\"yaxis\":\"y\",\"type\":\"scatter\"},{\"hovertemplate\":\"<b>%{hovertext}</b><br><br>dbn=30Q017<br>PCA0=%{x}<br>PCA1=%{y}<extra></extra>\",\"hovertext\":[\"30Q017\"],\"legendgroup\":\"30Q017\",\"marker\":{\"color\":\"#FFA15A\",\"symbol\":\"circle\",\"size\":10},\"mode\":\"markers\",\"name\":\"30Q017\",\"orientation\":\"v\",\"showlegend\":true,\"x\":[-3.1433815819921787],\"xaxis\":\"x\",\"y\":[-4.395588510161461],\"yaxis\":\"y\",\"type\":\"scatter\"},{\"hovertemplate\":\"<b>%{hovertext}</b><br><br>dbn=30Q069<br>PCA0=%{x}<br>PCA1=%{y}<extra></extra>\",\"hovertext\":[\"30Q069\"],\"legendgroup\":\"30Q069\",\"marker\":{\"color\":\"#19d3f3\",\"symbol\":\"circle\",\"size\":10},\"mode\":\"markers\",\"name\":\"30Q069\",\"orientation\":\"v\",\"showlegend\":true,\"x\":[0.2541267844493341],\"xaxis\":\"x\",\"y\":[1.671711740336579],\"yaxis\":\"y\",\"type\":\"scatter\"},{\"hovertemplate\":\"<b>%{hovertext}</b><br><br>dbn=30Q070<br>PCA0=%{x}<br>PCA1=%{y}<extra></extra>\",\"hovertext\":[\"30Q070\"],\"legendgroup\":\"30Q070\",\"marker\":{\"color\":\"#FF6692\",\"symbol\":\"circle\",\"size\":10},\"mode\":\"markers\",\"name\":\"30Q070\",\"orientation\":\"v\",\"showlegend\":true,\"x\":[-1.245460448141833],\"xaxis\":\"x\",\"y\":[0.15022646694402267],\"yaxis\":\"y\",\"type\":\"scatter\"},{\"hovertemplate\":\"<b>%{hovertext}</b><br><br>dbn=30Q076<br>PCA0=%{x}<br>PCA1=%{y}<extra></extra>\",\"hovertext\":[\"30Q076\"],\"legendgroup\":\"30Q076\",\"marker\":{\"color\":\"#B6E880\",\"symbol\":\"circle\",\"size\":10},\"mode\":\"markers\",\"name\":\"30Q076\",\"orientation\":\"v\",\"showlegend\":true,\"x\":[-4.364004977705609],\"xaxis\":\"x\",\"y\":[-7.446002863427575],\"yaxis\":\"y\",\"type\":\"scatter\"},{\"hovertemplate\":\"<b>%{hovertext}</b><br><br>dbn=30Q078<br>PCA0=%{x}<br>PCA1=%{y}<extra></extra>\",\"hovertext\":[\"30Q078\"],\"legendgroup\":\"30Q078\",\"marker\":{\"color\":\"#FF97FF\",\"symbol\":\"circle\",\"size\":10},\"mode\":\"markers\",\"name\":\"30Q078\",\"orientation\":\"v\",\"showlegend\":true,\"x\":[-4.1820618967615575],\"xaxis\":\"x\",\"y\":[3.8142592771199855],\"yaxis\":\"y\",\"type\":\"scatter\"},{\"hovertemplate\":\"<b>%{hovertext}</b><br><br>dbn=30Q084<br>PCA0=%{x}<br>PCA1=%{y}<extra></extra>\",\"hovertext\":[\"30Q084\"],\"legendgroup\":\"30Q084\",\"marker\":{\"color\":\"#FECB52\",\"symbol\":\"circle\",\"size\":10},\"mode\":\"markers\",\"name\":\"30Q084\",\"orientation\":\"v\",\"showlegend\":true,\"x\":[-2.7029173051597],\"xaxis\":\"x\",\"y\":[1.5357219611228417],\"yaxis\":\"y\",\"type\":\"scatter\"},{\"hovertemplate\":\"<b>%{hovertext}</b><br><br>dbn=30Q085<br>PCA0=%{x}<br>PCA1=%{y}<extra></extra>\",\"hovertext\":[\"30Q085\"],\"legendgroup\":\"30Q085\",\"marker\":{\"color\":\"#636efa\",\"symbol\":\"circle\",\"size\":10},\"mode\":\"markers\",\"name\":\"30Q085\",\"orientation\":\"v\",\"showlegend\":true,\"x\":[-1.768813170186274],\"xaxis\":\"x\",\"y\":[3.4207469996078492],\"yaxis\":\"y\",\"type\":\"scatter\"},{\"hovertemplate\":\"<b>%{hovertext}</b><br><br>dbn=30Q092<br>PCA0=%{x}<br>PCA1=%{y}<extra></extra>\",\"hovertext\":[\"30Q092\"],\"legendgroup\":\"30Q092\",\"marker\":{\"color\":\"#EF553B\",\"symbol\":\"circle\",\"size\":10},\"mode\":\"markers\",\"name\":\"30Q092\",\"orientation\":\"v\",\"showlegend\":true,\"x\":[0.15958975346407978],\"xaxis\":\"x\",\"y\":[-1.7798331632267266],\"yaxis\":\"y\",\"type\":\"scatter\"},{\"hovertemplate\":\"<b>%{hovertext}</b><br><br>dbn=30Q111<br>PCA0=%{x}<br>PCA1=%{y}<extra></extra>\",\"hovertext\":[\"30Q111\"],\"legendgroup\":\"30Q111\",\"marker\":{\"color\":\"#00cc96\",\"symbol\":\"circle\",\"size\":10},\"mode\":\"markers\",\"name\":\"30Q111\",\"orientation\":\"v\",\"showlegend\":true,\"x\":[-6.941074663385678],\"xaxis\":\"x\",\"y\":[-7.77236393786565],\"yaxis\":\"y\",\"type\":\"scatter\"},{\"hovertemplate\":\"<b>%{hovertext}</b><br><br>dbn=30Q112<br>PCA0=%{x}<br>PCA1=%{y}<extra></extra>\",\"hovertext\":[\"30Q112\"],\"legendgroup\":\"30Q112\",\"marker\":{\"color\":\"#ab63fa\",\"symbol\":\"circle\",\"size\":10},\"mode\":\"markers\",\"name\":\"30Q112\",\"orientation\":\"v\",\"showlegend\":true,\"x\":[-3.615291955448155],\"xaxis\":\"x\",\"y\":[-5.841693773746236],\"yaxis\":\"y\",\"type\":\"scatter\"},{\"hovertemplate\":\"<b>%{hovertext}</b><br><br>dbn=30Q122<br>PCA0=%{x}<br>PCA1=%{y}<extra></extra>\",\"hovertext\":[\"30Q122\"],\"legendgroup\":\"30Q122\",\"marker\":{\"color\":\"#FFA15A\",\"symbol\":\"circle\",\"size\":10},\"mode\":\"markers\",\"name\":\"30Q122\",\"orientation\":\"v\",\"showlegend\":true,\"x\":[1.0721451221513836],\"xaxis\":\"x\",\"y\":[5.929836836454861],\"yaxis\":\"y\",\"type\":\"scatter\"},{\"hovertemplate\":\"<b>%{hovertext}</b><br><br>dbn=30Q126<br>PCA0=%{x}<br>PCA1=%{y}<extra></extra>\",\"hovertext\":[\"30Q126\"],\"legendgroup\":\"30Q126\",\"marker\":{\"color\":\"#19d3f3\",\"symbol\":\"circle\",\"size\":10},\"mode\":\"markers\",\"name\":\"30Q126\",\"orientation\":\"v\",\"showlegend\":true,\"x\":[0.4486334465420476],\"xaxis\":\"x\",\"y\":[-3.3814484930147413],\"yaxis\":\"y\",\"type\":\"scatter\"},{\"hovertemplate\":\"<b>%{hovertext}</b><br><br>dbn=30Q127<br>PCA0=%{x}<br>PCA1=%{y}<extra></extra>\",\"hovertext\":[\"30Q127\"],\"legendgroup\":\"30Q127\",\"marker\":{\"color\":\"#FF6692\",\"symbol\":\"circle\",\"size\":10},\"mode\":\"markers\",\"name\":\"30Q127\",\"orientation\":\"v\",\"showlegend\":true,\"x\":[0.8443838147259004],\"xaxis\":\"x\",\"y\":[-5.746982274873271],\"yaxis\":\"y\",\"type\":\"scatter\"},{\"hovertemplate\":\"<b>%{hovertext}</b><br><br>dbn=30Q141<br>PCA0=%{x}<br>PCA1=%{y}<extra></extra>\",\"hovertext\":[\"30Q141\"],\"legendgroup\":\"30Q141\",\"marker\":{\"color\":\"#B6E880\",\"symbol\":\"circle\",\"size\":10},\"mode\":\"markers\",\"name\":\"30Q141\",\"orientation\":\"v\",\"showlegend\":true,\"x\":[9.610220410659299],\"xaxis\":\"x\",\"y\":[0.9823284926847953],\"yaxis\":\"y\",\"type\":\"scatter\"},{\"hovertemplate\":\"<b>%{hovertext}</b><br><br>dbn=30Q145<br>PCA0=%{x}<br>PCA1=%{y}<extra></extra>\",\"hovertext\":[\"30Q145\"],\"legendgroup\":\"30Q145\",\"marker\":{\"color\":\"#FF97FF\",\"symbol\":\"circle\",\"size\":10},\"mode\":\"markers\",\"name\":\"30Q145\",\"orientation\":\"v\",\"showlegend\":true,\"x\":[18.71520040761264],\"xaxis\":\"x\",\"y\":[-3.5707385077656943],\"yaxis\":\"y\",\"type\":\"scatter\"},{\"hovertemplate\":\"<b>%{hovertext}</b><br><br>dbn=30Q148<br>PCA0=%{x}<br>PCA1=%{y}<extra></extra>\",\"hovertext\":[\"30Q148\"],\"legendgroup\":\"30Q148\",\"marker\":{\"color\":\"#FECB52\",\"symbol\":\"circle\",\"size\":10},\"mode\":\"markers\",\"name\":\"30Q148\",\"orientation\":\"v\",\"showlegend\":true,\"x\":[-0.7633404647259167],\"xaxis\":\"x\",\"y\":[-3.3346771276323066],\"yaxis\":\"y\",\"type\":\"scatter\"},{\"hovertemplate\":\"<b>%{hovertext}</b><br><br>dbn=30Q149<br>PCA0=%{x}<br>PCA1=%{y}<extra></extra>\",\"hovertext\":[\"30Q149\"],\"legendgroup\":\"30Q149\",\"marker\":{\"color\":\"#636efa\",\"symbol\":\"circle\",\"size\":10},\"mode\":\"markers\",\"name\":\"30Q149\",\"orientation\":\"v\",\"showlegend\":true,\"x\":[0.5614315961565359],\"xaxis\":\"x\",\"y\":[-1.7201207435535397],\"yaxis\":\"y\",\"type\":\"scatter\"},{\"hovertemplate\":\"<b>%{hovertext}</b><br><br>dbn=30Q150<br>PCA0=%{x}<br>PCA1=%{y}<extra></extra>\",\"hovertext\":[\"30Q150\"],\"legendgroup\":\"30Q150\",\"marker\":{\"color\":\"#EF553B\",\"symbol\":\"circle\",\"size\":10},\"mode\":\"markers\",\"name\":\"30Q150\",\"orientation\":\"v\",\"showlegend\":true,\"x\":[-0.08132452254776949],\"xaxis\":\"x\",\"y\":[2.9642655395024864],\"yaxis\":\"y\",\"type\":\"scatter\"},{\"hovertemplate\":\"<b>%{hovertext}</b><br><br>dbn=30Q151<br>PCA0=%{x}<br>PCA1=%{y}<extra></extra>\",\"hovertext\":[\"30Q151\"],\"legendgroup\":\"30Q151\",\"marker\":{\"color\":\"#00cc96\",\"symbol\":\"circle\",\"size\":10},\"mode\":\"markers\",\"name\":\"30Q151\",\"orientation\":\"v\",\"showlegend\":true,\"x\":[-3.0925858731340923],\"xaxis\":\"x\",\"y\":[-3.3148683127893372],\"yaxis\":\"y\",\"type\":\"scatter\"},{\"hovertemplate\":\"<b>%{hovertext}</b><br><br>dbn=30Q152<br>PCA0=%{x}<br>PCA1=%{y}<extra></extra>\",\"hovertext\":[\"30Q152\"],\"legendgroup\":\"30Q152\",\"marker\":{\"color\":\"#ab63fa\",\"symbol\":\"circle\",\"size\":10},\"mode\":\"markers\",\"name\":\"30Q152\",\"orientation\":\"v\",\"showlegend\":true,\"x\":[0.8499015484443798],\"xaxis\":\"x\",\"y\":[2.4472898990484127],\"yaxis\":\"y\",\"type\":\"scatter\"},{\"hovertemplate\":\"<b>%{hovertext}</b><br><br>dbn=30Q166<br>PCA0=%{x}<br>PCA1=%{y}<extra></extra>\",\"hovertext\":[\"30Q166\"],\"legendgroup\":\"30Q166\",\"marker\":{\"color\":\"#FFA15A\",\"symbol\":\"circle\",\"size\":10},\"mode\":\"markers\",\"name\":\"30Q166\",\"orientation\":\"v\",\"showlegend\":true,\"x\":[0.26103972826628047],\"xaxis\":\"x\",\"y\":[3.7982642196973337],\"yaxis\":\"y\",\"type\":\"scatter\"},{\"hovertemplate\":\"<b>%{hovertext}</b><br><br>dbn=30Q171<br>PCA0=%{x}<br>PCA1=%{y}<extra></extra>\",\"hovertext\":[\"30Q171\"],\"legendgroup\":\"30Q171\",\"marker\":{\"color\":\"#19d3f3\",\"symbol\":\"circle\",\"size\":10},\"mode\":\"markers\",\"name\":\"30Q171\",\"orientation\":\"v\",\"showlegend\":true,\"x\":[-3.46463629546318],\"xaxis\":\"x\",\"y\":[-6.53601695165963],\"yaxis\":\"y\",\"type\":\"scatter\"},{\"hovertemplate\":\"<b>%{hovertext}</b><br><br>dbn=30Q204<br>PCA0=%{x}<br>PCA1=%{y}<extra></extra>\",\"hovertext\":[\"30Q204\"],\"legendgroup\":\"30Q204\",\"marker\":{\"color\":\"#FF6692\",\"symbol\":\"circle\",\"size\":10},\"mode\":\"markers\",\"name\":\"30Q204\",\"orientation\":\"v\",\"showlegend\":true,\"x\":[-1.507560895011643],\"xaxis\":\"x\",\"y\":[-6.908614170804136],\"yaxis\":\"y\",\"type\":\"scatter\"},{\"hovertemplate\":\"<b>%{hovertext}</b><br><br>dbn=30Q212<br>PCA0=%{x}<br>PCA1=%{y}<extra></extra>\",\"hovertext\":[\"30Q212\"],\"legendgroup\":\"30Q212\",\"marker\":{\"color\":\"#B6E880\",\"symbol\":\"circle\",\"size\":10},\"mode\":\"markers\",\"name\":\"30Q212\",\"orientation\":\"v\",\"showlegend\":true,\"x\":[-0.3131196716692949],\"xaxis\":\"x\",\"y\":[-0.0037703311872324483],\"yaxis\":\"y\",\"type\":\"scatter\"},{\"hovertemplate\":\"<b>%{hovertext}</b><br><br>dbn=30Q227<br>PCA0=%{x}<br>PCA1=%{y}<extra></extra>\",\"hovertext\":[\"30Q227\"],\"legendgroup\":\"30Q227\",\"marker\":{\"color\":\"#FF97FF\",\"symbol\":\"circle\",\"size\":10},\"mode\":\"markers\",\"name\":\"30Q227\",\"orientation\":\"v\",\"showlegend\":true,\"x\":[17.343833211941323],\"xaxis\":\"x\",\"y\":[2.8193306055842733],\"yaxis\":\"y\",\"type\":\"scatter\"},{\"hovertemplate\":\"<b>%{hovertext}</b><br><br>dbn=30Q230<br>PCA0=%{x}<br>PCA1=%{y}<extra></extra>\",\"hovertext\":[\"30Q230\"],\"legendgroup\":\"30Q230\",\"marker\":{\"color\":\"#FECB52\",\"symbol\":\"circle\",\"size\":10},\"mode\":\"markers\",\"name\":\"30Q230\",\"orientation\":\"v\",\"showlegend\":true,\"x\":[11.437986549303874],\"xaxis\":\"x\",\"y\":[-0.2972149772667376],\"yaxis\":\"y\",\"type\":\"scatter\"},{\"hovertemplate\":\"<b>%{hovertext}</b><br><br>dbn=30Q234<br>PCA0=%{x}<br>PCA1=%{y}<extra></extra>\",\"hovertext\":[\"30Q234\"],\"legendgroup\":\"30Q234\",\"marker\":{\"color\":\"#636efa\",\"symbol\":\"circle\",\"size\":10},\"mode\":\"markers\",\"name\":\"30Q234\",\"orientation\":\"v\",\"showlegend\":true,\"x\":[-1.6528148132939833],\"xaxis\":\"x\",\"y\":[3.2805482157246586],\"yaxis\":\"y\",\"type\":\"scatter\"},{\"hovertemplate\":\"<b>%{hovertext}</b><br><br>dbn=30Q235<br>PCA0=%{x}<br>PCA1=%{y}<extra></extra>\",\"hovertext\":[\"30Q235\"],\"legendgroup\":\"30Q235\",\"marker\":{\"color\":\"#EF553B\",\"symbol\":\"circle\",\"size\":10},\"mode\":\"markers\",\"name\":\"30Q235\",\"orientation\":\"v\",\"showlegend\":true,\"x\":[-4.578956427881674],\"xaxis\":\"x\",\"y\":[-0.8144056189235104],\"yaxis\":\"y\",\"type\":\"scatter\"},{\"hovertemplate\":\"<b>%{hovertext}</b><br><br>dbn=30Q280<br>PCA0=%{x}<br>PCA1=%{y}<extra></extra>\",\"hovertext\":[\"30Q280\"],\"legendgroup\":\"30Q280\",\"marker\":{\"color\":\"#00cc96\",\"symbol\":\"circle\",\"size\":10},\"mode\":\"markers\",\"name\":\"30Q280\",\"orientation\":\"v\",\"showlegend\":true,\"x\":[-0.8091035862438186],\"xaxis\":\"x\",\"y\":[-1.7891367848258548],\"yaxis\":\"y\",\"type\":\"scatter\"},{\"hovertemplate\":\"<b>%{hovertext}</b><br><br>dbn=30Q286<br>PCA0=%{x}<br>PCA1=%{y}<extra></extra>\",\"hovertext\":[\"30Q286\"],\"legendgroup\":\"30Q286\",\"marker\":{\"color\":\"#ab63fa\",\"symbol\":\"circle\",\"size\":10},\"mode\":\"markers\",\"name\":\"30Q286\",\"orientation\":\"v\",\"showlegend\":true,\"x\":[-3.855714479879243],\"xaxis\":\"x\",\"y\":[4.958704584491956],\"yaxis\":\"y\",\"type\":\"scatter\"},{\"hovertemplate\":\"<b>%{hovertext}</b><br><br>dbn=30Q291<br>PCA0=%{x}<br>PCA1=%{y}<extra></extra>\",\"hovertext\":[\"30Q291\"],\"legendgroup\":\"30Q291\",\"marker\":{\"color\":\"#FFA15A\",\"symbol\":\"circle\",\"size\":10},\"mode\":\"markers\",\"name\":\"30Q291\",\"orientation\":\"v\",\"showlegend\":true,\"x\":[-0.7164118757295282],\"xaxis\":\"x\",\"y\":[3.6736480799136975],\"yaxis\":\"y\",\"type\":\"scatter\"},{\"hovertemplate\":\"<b>%{hovertext}</b><br><br>dbn=30Q300<br>PCA0=%{x}<br>PCA1=%{y}<extra></extra>\",\"hovertext\":[\"30Q300\"],\"legendgroup\":\"30Q300\",\"marker\":{\"color\":\"#19d3f3\",\"symbol\":\"circle\",\"size\":10},\"mode\":\"markers\",\"name\":\"30Q300\",\"orientation\":\"v\",\"showlegend\":true,\"x\":[-5.603224151802156],\"xaxis\":\"x\",\"y\":[5.822175365833822],\"yaxis\":\"y\",\"type\":\"scatter\"},{\"hovertemplate\":\"<b>%{hovertext}</b><br><br>dbn=30Q329<br>PCA0=%{x}<br>PCA1=%{y}<extra></extra>\",\"hovertext\":[\"30Q329\"],\"legendgroup\":\"30Q329\",\"marker\":{\"color\":\"#FF6692\",\"symbol\":\"circle\",\"size\":10},\"mode\":\"markers\",\"name\":\"30Q329\",\"orientation\":\"v\",\"showlegend\":true,\"x\":[-1.514925042347759],\"xaxis\":\"x\",\"y\":[-1.7695324869939342],\"yaxis\":\"y\",\"type\":\"scatter\"},{\"hovertemplate\":\"<b>%{hovertext}</b><br><br>dbn=30Q361<br>PCA0=%{x}<br>PCA1=%{y}<extra></extra>\",\"hovertext\":[\"30Q361\"],\"legendgroup\":\"30Q361\",\"marker\":{\"color\":\"#B6E880\",\"symbol\":\"circle\",\"size\":10},\"mode\":\"markers\",\"name\":\"30Q361\",\"orientation\":\"v\",\"showlegend\":true,\"x\":[-2.0966810303380763],\"xaxis\":\"x\",\"y\":[1.1516688506125503],\"yaxis\":\"y\",\"type\":\"scatter\"},{\"hovertemplate\":\"<b>%{hovertext}</b><br><br>dbn=30Q580<br>PCA0=%{x}<br>PCA1=%{y}<extra></extra>\",\"hovertext\":[\"30Q580\"],\"legendgroup\":\"30Q580\",\"marker\":{\"color\":\"#FF97FF\",\"symbol\":\"circle\",\"size\":10},\"mode\":\"markers\",\"name\":\"30Q580\",\"orientation\":\"v\",\"showlegend\":true,\"x\":[-4.7303348408499755],\"xaxis\":\"x\",\"y\":[6.340042176359678],\"yaxis\":\"y\",\"type\":\"scatter\"}],                        {\"template\":{\"data\":{\"bar\":[{\"error_x\":{\"color\":\"#2a3f5f\"},\"error_y\":{\"color\":\"#2a3f5f\"},\"marker\":{\"line\":{\"color\":\"#E5ECF6\",\"width\":0.5},\"pattern\":{\"fillmode\":\"overlay\",\"size\":10,\"solidity\":0.2}},\"type\":\"bar\"}],\"barpolar\":[{\"marker\":{\"line\":{\"color\":\"#E5ECF6\",\"width\":0.5},\"pattern\":{\"fillmode\":\"overlay\",\"size\":10,\"solidity\":0.2}},\"type\":\"barpolar\"}],\"carpet\":[{\"aaxis\":{\"endlinecolor\":\"#2a3f5f\",\"gridcolor\":\"white\",\"linecolor\":\"white\",\"minorgridcolor\":\"white\",\"startlinecolor\":\"#2a3f5f\"},\"baxis\":{\"endlinecolor\":\"#2a3f5f\",\"gridcolor\":\"white\",\"linecolor\":\"white\",\"minorgridcolor\":\"white\",\"startlinecolor\":\"#2a3f5f\"},\"type\":\"carpet\"}],\"choropleth\":[{\"colorbar\":{\"outlinewidth\":0,\"ticks\":\"\"},\"type\":\"choropleth\"}],\"contour\":[{\"colorbar\":{\"outlinewidth\":0,\"ticks\":\"\"},\"colorscale\":[[0.0,\"#0d0887\"],[0.1111111111111111,\"#46039f\"],[0.2222222222222222,\"#7201a8\"],[0.3333333333333333,\"#9c179e\"],[0.4444444444444444,\"#bd3786\"],[0.5555555555555556,\"#d8576b\"],[0.6666666666666666,\"#ed7953\"],[0.7777777777777778,\"#fb9f3a\"],[0.8888888888888888,\"#fdca26\"],[1.0,\"#f0f921\"]],\"type\":\"contour\"}],\"contourcarpet\":[{\"colorbar\":{\"outlinewidth\":0,\"ticks\":\"\"},\"type\":\"contourcarpet\"}],\"heatmap\":[{\"colorbar\":{\"outlinewidth\":0,\"ticks\":\"\"},\"colorscale\":[[0.0,\"#0d0887\"],[0.1111111111111111,\"#46039f\"],[0.2222222222222222,\"#7201a8\"],[0.3333333333333333,\"#9c179e\"],[0.4444444444444444,\"#bd3786\"],[0.5555555555555556,\"#d8576b\"],[0.6666666666666666,\"#ed7953\"],[0.7777777777777778,\"#fb9f3a\"],[0.8888888888888888,\"#fdca26\"],[1.0,\"#f0f921\"]],\"type\":\"heatmap\"}],\"heatmapgl\":[{\"colorbar\":{\"outlinewidth\":0,\"ticks\":\"\"},\"colorscale\":[[0.0,\"#0d0887\"],[0.1111111111111111,\"#46039f\"],[0.2222222222222222,\"#7201a8\"],[0.3333333333333333,\"#9c179e\"],[0.4444444444444444,\"#bd3786\"],[0.5555555555555556,\"#d8576b\"],[0.6666666666666666,\"#ed7953\"],[0.7777777777777778,\"#fb9f3a\"],[0.8888888888888888,\"#fdca26\"],[1.0,\"#f0f921\"]],\"type\":\"heatmapgl\"}],\"histogram\":[{\"marker\":{\"pattern\":{\"fillmode\":\"overlay\",\"size\":10,\"solidity\":0.2}},\"type\":\"histogram\"}],\"histogram2d\":[{\"colorbar\":{\"outlinewidth\":0,\"ticks\":\"\"},\"colorscale\":[[0.0,\"#0d0887\"],[0.1111111111111111,\"#46039f\"],[0.2222222222222222,\"#7201a8\"],[0.3333333333333333,\"#9c179e\"],[0.4444444444444444,\"#bd3786\"],[0.5555555555555556,\"#d8576b\"],[0.6666666666666666,\"#ed7953\"],[0.7777777777777778,\"#fb9f3a\"],[0.8888888888888888,\"#fdca26\"],[1.0,\"#f0f921\"]],\"type\":\"histogram2d\"}],\"histogram2dcontour\":[{\"colorbar\":{\"outlinewidth\":0,\"ticks\":\"\"},\"colorscale\":[[0.0,\"#0d0887\"],[0.1111111111111111,\"#46039f\"],[0.2222222222222222,\"#7201a8\"],[0.3333333333333333,\"#9c179e\"],[0.4444444444444444,\"#bd3786\"],[0.5555555555555556,\"#d8576b\"],[0.6666666666666666,\"#ed7953\"],[0.7777777777777778,\"#fb9f3a\"],[0.8888888888888888,\"#fdca26\"],[1.0,\"#f0f921\"]],\"type\":\"histogram2dcontour\"}],\"mesh3d\":[{\"colorbar\":{\"outlinewidth\":0,\"ticks\":\"\"},\"type\":\"mesh3d\"}],\"parcoords\":[{\"line\":{\"colorbar\":{\"outlinewidth\":0,\"ticks\":\"\"}},\"type\":\"parcoords\"}],\"pie\":[{\"automargin\":true,\"type\":\"pie\"}],\"scatter\":[{\"marker\":{\"colorbar\":{\"outlinewidth\":0,\"ticks\":\"\"}},\"type\":\"scatter\"}],\"scatter3d\":[{\"line\":{\"colorbar\":{\"outlinewidth\":0,\"ticks\":\"\"}},\"marker\":{\"colorbar\":{\"outlinewidth\":0,\"ticks\":\"\"}},\"type\":\"scatter3d\"}],\"scattercarpet\":[{\"marker\":{\"colorbar\":{\"outlinewidth\":0,\"ticks\":\"\"}},\"type\":\"scattercarpet\"}],\"scattergeo\":[{\"marker\":{\"colorbar\":{\"outlinewidth\":0,\"ticks\":\"\"}},\"type\":\"scattergeo\"}],\"scattergl\":[{\"marker\":{\"colorbar\":{\"outlinewidth\":0,\"ticks\":\"\"}},\"type\":\"scattergl\"}],\"scattermapbox\":[{\"marker\":{\"colorbar\":{\"outlinewidth\":0,\"ticks\":\"\"}},\"type\":\"scattermapbox\"}],\"scatterpolar\":[{\"marker\":{\"colorbar\":{\"outlinewidth\":0,\"ticks\":\"\"}},\"type\":\"scatterpolar\"}],\"scatterpolargl\":[{\"marker\":{\"colorbar\":{\"outlinewidth\":0,\"ticks\":\"\"}},\"type\":\"scatterpolargl\"}],\"scatterternary\":[{\"marker\":{\"colorbar\":{\"outlinewidth\":0,\"ticks\":\"\"}},\"type\":\"scatterternary\"}],\"surface\":[{\"colorbar\":{\"outlinewidth\":0,\"ticks\":\"\"},\"colorscale\":[[0.0,\"#0d0887\"],[0.1111111111111111,\"#46039f\"],[0.2222222222222222,\"#7201a8\"],[0.3333333333333333,\"#9c179e\"],[0.4444444444444444,\"#bd3786\"],[0.5555555555555556,\"#d8576b\"],[0.6666666666666666,\"#ed7953\"],[0.7777777777777778,\"#fb9f3a\"],[0.8888888888888888,\"#fdca26\"],[1.0,\"#f0f921\"]],\"type\":\"surface\"}],\"table\":[{\"cells\":{\"fill\":{\"color\":\"#EBF0F8\"},\"line\":{\"color\":\"white\"}},\"header\":{\"fill\":{\"color\":\"#C8D4E3\"},\"line\":{\"color\":\"white\"}},\"type\":\"table\"}]},\"layout\":{\"annotationdefaults\":{\"arrowcolor\":\"#2a3f5f\",\"arrowhead\":0,\"arrowwidth\":1},\"autotypenumbers\":\"strict\",\"coloraxis\":{\"colorbar\":{\"outlinewidth\":0,\"ticks\":\"\"}},\"colorscale\":{\"diverging\":[[0,\"#8e0152\"],[0.1,\"#c51b7d\"],[0.2,\"#de77ae\"],[0.3,\"#f1b6da\"],[0.4,\"#fde0ef\"],[0.5,\"#f7f7f7\"],[0.6,\"#e6f5d0\"],[0.7,\"#b8e186\"],[0.8,\"#7fbc41\"],[0.9,\"#4d9221\"],[1,\"#276419\"]],\"sequential\":[[0.0,\"#0d0887\"],[0.1111111111111111,\"#46039f\"],[0.2222222222222222,\"#7201a8\"],[0.3333333333333333,\"#9c179e\"],[0.4444444444444444,\"#bd3786\"],[0.5555555555555556,\"#d8576b\"],[0.6666666666666666,\"#ed7953\"],[0.7777777777777778,\"#fb9f3a\"],[0.8888888888888888,\"#fdca26\"],[1.0,\"#f0f921\"]],\"sequentialminus\":[[0.0,\"#0d0887\"],[0.1111111111111111,\"#46039f\"],[0.2222222222222222,\"#7201a8\"],[0.3333333333333333,\"#9c179e\"],[0.4444444444444444,\"#bd3786\"],[0.5555555555555556,\"#d8576b\"],[0.6666666666666666,\"#ed7953\"],[0.7777777777777778,\"#fb9f3a\"],[0.8888888888888888,\"#fdca26\"],[1.0,\"#f0f921\"]]},\"colorway\":[\"#636efa\",\"#EF553B\",\"#00cc96\",\"#ab63fa\",\"#FFA15A\",\"#19d3f3\",\"#FF6692\",\"#B6E880\",\"#FF97FF\",\"#FECB52\"],\"font\":{\"color\":\"#2a3f5f\"},\"geo\":{\"bgcolor\":\"white\",\"lakecolor\":\"white\",\"landcolor\":\"#E5ECF6\",\"showlakes\":true,\"showland\":true,\"subunitcolor\":\"white\"},\"hoverlabel\":{\"align\":\"left\"},\"hovermode\":\"closest\",\"mapbox\":{\"style\":\"light\"},\"paper_bgcolor\":\"white\",\"plot_bgcolor\":\"#E5ECF6\",\"polar\":{\"angularaxis\":{\"gridcolor\":\"white\",\"linecolor\":\"white\",\"ticks\":\"\"},\"bgcolor\":\"#E5ECF6\",\"radialaxis\":{\"gridcolor\":\"white\",\"linecolor\":\"white\",\"ticks\":\"\"}},\"scene\":{\"xaxis\":{\"backgroundcolor\":\"#E5ECF6\",\"gridcolor\":\"white\",\"gridwidth\":2,\"linecolor\":\"white\",\"showbackground\":true,\"ticks\":\"\",\"zerolinecolor\":\"white\"},\"yaxis\":{\"backgroundcolor\":\"#E5ECF6\",\"gridcolor\":\"white\",\"gridwidth\":2,\"linecolor\":\"white\",\"showbackground\":true,\"ticks\":\"\",\"zerolinecolor\":\"white\"},\"zaxis\":{\"backgroundcolor\":\"#E5ECF6\",\"gridcolor\":\"white\",\"gridwidth\":2,\"linecolor\":\"white\",\"showbackground\":true,\"ticks\":\"\",\"zerolinecolor\":\"white\"}},\"shapedefaults\":{\"line\":{\"color\":\"#2a3f5f\"}},\"ternary\":{\"aaxis\":{\"gridcolor\":\"white\",\"linecolor\":\"white\",\"ticks\":\"\"},\"baxis\":{\"gridcolor\":\"white\",\"linecolor\":\"white\",\"ticks\":\"\"},\"bgcolor\":\"#E5ECF6\",\"caxis\":{\"gridcolor\":\"white\",\"linecolor\":\"white\",\"ticks\":\"\"}},\"title\":{\"x\":0.05},\"xaxis\":{\"automargin\":true,\"gridcolor\":\"white\",\"linecolor\":\"white\",\"ticks\":\"\",\"title\":{\"standoff\":15},\"zerolinecolor\":\"white\",\"zerolinewidth\":2},\"yaxis\":{\"automargin\":true,\"gridcolor\":\"white\",\"linecolor\":\"white\",\"ticks\":\"\",\"title\":{\"standoff\":15},\"zerolinecolor\":\"white\",\"zerolinewidth\":2}}},\"xaxis\":{\"anchor\":\"y\",\"domain\":[0.0,1.0],\"title\":{\"text\":\"PCA0\"}},\"yaxis\":{\"anchor\":\"x\",\"domain\":[0.0,1.0],\"title\":{\"text\":\"PCA1\"}},\"legend\":{\"title\":{\"text\":\"dbn\"},\"tracegroupgap\":0},\"margin\":{\"t\":60}},                        {\"responsive\": true}                    ).then(function(){\n",
       "                            \n",
       "var gd = document.getElementById('189caa87-c934-42f9-9cbd-32913dc8b4a5');\n",
       "var x = new MutationObserver(function (mutations, observer) {{\n",
       "        var display = window.getComputedStyle(gd).display;\n",
       "        if (!display || display === 'none') {{\n",
       "            console.log([gd, 'removed!']);\n",
       "            Plotly.purge(gd);\n",
       "            observer.disconnect();\n",
       "        }}\n",
       "}});\n",
       "\n",
       "// Listen for the removal of the full notebook cells\n",
       "var notebookContainer = gd.closest('#notebook-container');\n",
       "if (notebookContainer) {{\n",
       "    x.observe(notebookContainer, {childList: true});\n",
       "}}\n",
       "\n",
       "// Listen for the clearing of the current output cell\n",
       "var outputEl = gd.closest('.output');\n",
       "if (outputEl) {{\n",
       "    x.observe(outputEl, {childList: true});\n",
       "}}\n",
       "\n",
       "                        })                };                });            </script>        </div>"
      ]
     },
     "metadata": {},
     "output_type": "display_data"
    }
   ],
   "source": [
    "# PCA plot with plotly \n",
    "fig = px.scatter(pca_df, x=\"PCA0\", y=\"PCA1\", \n",
    "                 color=\"dbn\", hover_name=\"dbn\")\n",
    "\n",
    "fig.update_traces(marker_size=10)\n",
    "\n",
    "fig.show()"
   ]
  },
  {
   "cell_type": "code",
   "execution_count": 298,
   "id": "b2286673",
   "metadata": {},
   "outputs": [
    {
     "data": {
      "text/html": [
       "<div>\n",
       "<style scoped>\n",
       "    .dataframe tbody tr th:only-of-type {\n",
       "        vertical-align: middle;\n",
       "    }\n",
       "\n",
       "    .dataframe tbody tr th {\n",
       "        vertical-align: top;\n",
       "    }\n",
       "\n",
       "    .dataframe thead th {\n",
       "        text-align: right;\n",
       "    }\n",
       "</style>\n",
       "<table border=\"1\" class=\"dataframe\">\n",
       "  <thead>\n",
       "    <tr style=\"text-align: right;\">\n",
       "      <th></th>\n",
       "      <th>PCA0</th>\n",
       "      <th>PCA1</th>\n",
       "      <th>0</th>\n",
       "      <th>1</th>\n",
       "      <th>2</th>\n",
       "      <th>3</th>\n",
       "      <th>4</th>\n",
       "      <th>5</th>\n",
       "      <th>6</th>\n",
       "      <th>7</th>\n",
       "      <th>...</th>\n",
       "      <th>160</th>\n",
       "      <th>161</th>\n",
       "      <th>162</th>\n",
       "      <th>163</th>\n",
       "      <th>164</th>\n",
       "      <th>165</th>\n",
       "      <th>166</th>\n",
       "      <th>167</th>\n",
       "      <th>168</th>\n",
       "      <th>dbn</th>\n",
       "    </tr>\n",
       "  </thead>\n",
       "  <tbody>\n",
       "    <tr>\n",
       "      <th>0</th>\n",
       "      <td>-2.822655</td>\n",
       "      <td>12.214882</td>\n",
       "      <td>362.0</td>\n",
       "      <td>0.83</td>\n",
       "      <td>0.74</td>\n",
       "      <td>0.79</td>\n",
       "      <td>0.68</td>\n",
       "      <td>0.92</td>\n",
       "      <td>0.67</td>\n",
       "      <td>2.88</td>\n",
       "      <td>...</td>\n",
       "      <td>1.0</td>\n",
       "      <td>0.0</td>\n",
       "      <td>0.0</td>\n",
       "      <td>0.0</td>\n",
       "      <td>1.0</td>\n",
       "      <td>0.0</td>\n",
       "      <td>0.0</td>\n",
       "      <td>0.0</td>\n",
       "      <td>1.0</td>\n",
       "      <td>02M077</td>\n",
       "    </tr>\n",
       "    <tr>\n",
       "      <th>1</th>\n",
       "      <td>0.186086</td>\n",
       "      <td>2.465534</td>\n",
       "      <td>533.0</td>\n",
       "      <td>0.89</td>\n",
       "      <td>0.93</td>\n",
       "      <td>0.92</td>\n",
       "      <td>0.89</td>\n",
       "      <td>0.94</td>\n",
       "      <td>0.90</td>\n",
       "      <td>2.88</td>\n",
       "      <td>...</td>\n",
       "      <td>0.0</td>\n",
       "      <td>0.0</td>\n",
       "      <td>1.0</td>\n",
       "      <td>0.0</td>\n",
       "      <td>0.0</td>\n",
       "      <td>0.0</td>\n",
       "      <td>1.0</td>\n",
       "      <td>0.0</td>\n",
       "      <td>0.0</td>\n",
       "      <td>30Q002</td>\n",
       "    </tr>\n",
       "    <tr>\n",
       "      <th>2</th>\n",
       "      <td>3.478591</td>\n",
       "      <td>-3.700713</td>\n",
       "      <td>799.0</td>\n",
       "      <td>0.87</td>\n",
       "      <td>0.95</td>\n",
       "      <td>0.96</td>\n",
       "      <td>0.95</td>\n",
       "      <td>0.89</td>\n",
       "      <td>0.97</td>\n",
       "      <td>2.54</td>\n",
       "      <td>...</td>\n",
       "      <td>0.0</td>\n",
       "      <td>0.0</td>\n",
       "      <td>0.0</td>\n",
       "      <td>1.0</td>\n",
       "      <td>0.0</td>\n",
       "      <td>0.0</td>\n",
       "      <td>0.0</td>\n",
       "      <td>1.0</td>\n",
       "      <td>0.0</td>\n",
       "      <td>30Q010</td>\n",
       "    </tr>\n",
       "    <tr>\n",
       "      <th>3</th>\n",
       "      <td>0.343226</td>\n",
       "      <td>0.682537</td>\n",
       "      <td>906.0</td>\n",
       "      <td>0.77</td>\n",
       "      <td>0.87</td>\n",
       "      <td>0.84</td>\n",
       "      <td>0.84</td>\n",
       "      <td>0.96</td>\n",
       "      <td>0.93</td>\n",
       "      <td>2.88</td>\n",
       "      <td>...</td>\n",
       "      <td>0.0</td>\n",
       "      <td>0.0</td>\n",
       "      <td>0.0</td>\n",
       "      <td>1.0</td>\n",
       "      <td>0.0</td>\n",
       "      <td>0.0</td>\n",
       "      <td>0.0</td>\n",
       "      <td>0.0</td>\n",
       "      <td>1.0</td>\n",
       "      <td>30Q011</td>\n",
       "    </tr>\n",
       "    <tr>\n",
       "      <th>4</th>\n",
       "      <td>-3.143382</td>\n",
       "      <td>-4.395589</td>\n",
       "      <td>537.0</td>\n",
       "      <td>0.74</td>\n",
       "      <td>0.86</td>\n",
       "      <td>0.77</td>\n",
       "      <td>0.87</td>\n",
       "      <td>0.98</td>\n",
       "      <td>0.94</td>\n",
       "      <td>2.88</td>\n",
       "      <td>...</td>\n",
       "      <td>0.0</td>\n",
       "      <td>1.0</td>\n",
       "      <td>0.0</td>\n",
       "      <td>0.0</td>\n",
       "      <td>0.0</td>\n",
       "      <td>0.0</td>\n",
       "      <td>0.0</td>\n",
       "      <td>1.0</td>\n",
       "      <td>0.0</td>\n",
       "      <td>30Q017</td>\n",
       "    </tr>\n",
       "  </tbody>\n",
       "</table>\n",
       "<p>5 rows × 172 columns</p>\n",
       "</div>"
      ],
      "text/plain": [
       "       PCA0       PCA1      0     1     2     3     4     5     6     7  ...  \\\n",
       "0 -2.822655  12.214882  362.0  0.83  0.74  0.79  0.68  0.92  0.67  2.88  ...   \n",
       "1  0.186086   2.465534  533.0  0.89  0.93  0.92  0.89  0.94  0.90  2.88  ...   \n",
       "2  3.478591  -3.700713  799.0  0.87  0.95  0.96  0.95  0.89  0.97  2.54  ...   \n",
       "3  0.343226   0.682537  906.0  0.77  0.87  0.84  0.84  0.96  0.93  2.88  ...   \n",
       "4 -3.143382  -4.395589  537.0  0.74  0.86  0.77  0.87  0.98  0.94  2.88  ...   \n",
       "\n",
       "   160  161  162  163  164  165  166  167  168     dbn  \n",
       "0  1.0  0.0  0.0  0.0  1.0  0.0  0.0  0.0  1.0  02M077  \n",
       "1  0.0  0.0  1.0  0.0  0.0  0.0  1.0  0.0  0.0  30Q002  \n",
       "2  0.0  0.0  0.0  1.0  0.0  0.0  0.0  1.0  0.0  30Q010  \n",
       "3  0.0  0.0  0.0  1.0  0.0  0.0  0.0  0.0  1.0  30Q011  \n",
       "4  0.0  1.0  0.0  0.0  0.0  0.0  0.0  1.0  0.0  30Q017  \n",
       "\n",
       "[5 rows x 172 columns]"
      ]
     },
     "execution_count": 298,
     "metadata": {},
     "output_type": "execute_result"
    }
   ],
   "source": [
    "pca_df.head()"
   ]
  },
  {
   "cell_type": "code",
   "execution_count": 299,
   "id": "f40f6e93",
   "metadata": {},
   "outputs": [
    {
     "data": {
      "text/html": [
       "<div>\n",
       "<style scoped>\n",
       "    .dataframe tbody tr th:only-of-type {\n",
       "        vertical-align: middle;\n",
       "    }\n",
       "\n",
       "    .dataframe tbody tr th {\n",
       "        vertical-align: top;\n",
       "    }\n",
       "\n",
       "    .dataframe thead th {\n",
       "        text-align: right;\n",
       "    }\n",
       "</style>\n",
       "<table border=\"1\" class=\"dataframe\">\n",
       "  <thead>\n",
       "    <tr style=\"text-align: right;\">\n",
       "      <th></th>\n",
       "      <th>PCA0</th>\n",
       "      <th>PCA1</th>\n",
       "      <th>0</th>\n",
       "      <th>1</th>\n",
       "      <th>2</th>\n",
       "      <th>3</th>\n",
       "      <th>4</th>\n",
       "      <th>5</th>\n",
       "      <th>6</th>\n",
       "      <th>7</th>\n",
       "      <th>...</th>\n",
       "      <th>160</th>\n",
       "      <th>161</th>\n",
       "      <th>162</th>\n",
       "      <th>163</th>\n",
       "      <th>164</th>\n",
       "      <th>165</th>\n",
       "      <th>166</th>\n",
       "      <th>167</th>\n",
       "      <th>168</th>\n",
       "      <th>dbn</th>\n",
       "    </tr>\n",
       "  </thead>\n",
       "  <tbody>\n",
       "    <tr>\n",
       "      <th>0</th>\n",
       "      <td>-2.822655</td>\n",
       "      <td>12.214882</td>\n",
       "      <td>362.0</td>\n",
       "      <td>0.83</td>\n",
       "      <td>0.74</td>\n",
       "      <td>0.79</td>\n",
       "      <td>0.68</td>\n",
       "      <td>0.92</td>\n",
       "      <td>0.67</td>\n",
       "      <td>2.88</td>\n",
       "      <td>...</td>\n",
       "      <td>1.0</td>\n",
       "      <td>0.0</td>\n",
       "      <td>0.0</td>\n",
       "      <td>0.0</td>\n",
       "      <td>1.0</td>\n",
       "      <td>0.0</td>\n",
       "      <td>0.0</td>\n",
       "      <td>0.0</td>\n",
       "      <td>1.0</td>\n",
       "      <td>02M077</td>\n",
       "    </tr>\n",
       "  </tbody>\n",
       "</table>\n",
       "<p>1 rows × 172 columns</p>\n",
       "</div>"
      ],
      "text/plain": [
       "       PCA0       PCA1      0     1     2     3     4     5     6     7  ...  \\\n",
       "0 -2.822655  12.214882  362.0  0.83  0.74  0.79  0.68  0.92  0.67  2.88  ...   \n",
       "\n",
       "   160  161  162  163  164  165  166  167  168     dbn  \n",
       "0  1.0  0.0  0.0  0.0  1.0  0.0  0.0  0.0  1.0  02M077  \n",
       "\n",
       "[1 rows x 172 columns]"
      ]
     },
     "execution_count": 299,
     "metadata": {},
     "output_type": "execute_result"
    }
   ],
   "source": [
    "pca_df[pca_df['dbn']==school_of_interest ]"
   ]
  },
  {
   "cell_type": "markdown",
   "id": "2c633c6c",
   "metadata": {},
   "source": [
    "#### t-Distributed Stochastic Neighbor Embedding (t-SNE)\n",
    "\n",
    "t-Distributed Stochastic Neighbor Embedding (t-SNE) is an unsupervised, non-linear technique primarily used for data exploration and visualizing high-dimensional data, developed in 2008 by Laurens van der Maatens and Geoffrey Hinton.\n",
    "\n",
    "t-SNE differs from PCA by preserving only small pairwise distances or local similarities whereas PCA is concerned with preserving large pairwise distances to maximize variance. "
   ]
  },
  {
   "cell_type": "code",
   "execution_count": 300,
   "id": "16080a80",
   "metadata": {},
   "outputs": [],
   "source": [
    "from scipy.spatial.distance import pdist\n",
    "#from sklearn.manifold.t_sne import _joint_probabilities\n",
    "from scipy import linalg\n",
    "from sklearn.metrics import pairwise_distances\n",
    "from scipy.spatial.distance import squareform\n",
    "from sklearn.manifold import TSNE\n",
    "from matplotlib import pyplot as plt\n",
    "import seaborn as sns\n",
    "sns.set(rc={'figure.figsize':(11.7,8.27)})\n",
    "palette = sns.color_palette(\"mako\")"
   ]
  },
  {
   "cell_type": "code",
   "execution_count": 301,
   "id": "e8699916",
   "metadata": {},
   "outputs": [],
   "source": [
    "# sci-kit learn implementation of t-SNE\n",
    "tsne = TSNE(n_components = 2, \n",
    "           perplexity = 50,\n",
    "           #early_exaggeration = 5,\n",
    "           #learning_rate = 'auto',\n",
    "           #n_iter = 500,\n",
    "           #n_iter_without_progress = 250,\n",
    "           metric = 'euclidean',\n",
    "           method = 'exact',\n",
    "           random_state = seed)\n",
    "X_embedded = pd.DataFrame(tsne.fit_transform(modeldf_Imp.iloc[:,:-1]))\n",
    "X_embedded['dbn'] = modeldf.index # preserve index in model dataframe"
   ]
  },
  {
   "cell_type": "code",
   "execution_count": 302,
   "id": "5b5a13fb",
   "metadata": {},
   "outputs": [
    {
     "data": {
      "text/html": [
       "<div>\n",
       "<style scoped>\n",
       "    .dataframe tbody tr th:only-of-type {\n",
       "        vertical-align: middle;\n",
       "    }\n",
       "\n",
       "    .dataframe tbody tr th {\n",
       "        vertical-align: top;\n",
       "    }\n",
       "\n",
       "    .dataframe thead th {\n",
       "        text-align: right;\n",
       "    }\n",
       "</style>\n",
       "<table border=\"1\" class=\"dataframe\">\n",
       "  <thead>\n",
       "    <tr style=\"text-align: right;\">\n",
       "      <th></th>\n",
       "      <th>0</th>\n",
       "      <th>1</th>\n",
       "      <th>dbn</th>\n",
       "    </tr>\n",
       "  </thead>\n",
       "  <tbody>\n",
       "    <tr>\n",
       "      <th>0</th>\n",
       "      <td>31.764725</td>\n",
       "      <td>45.926044</td>\n",
       "      <td>02M077</td>\n",
       "    </tr>\n",
       "    <tr>\n",
       "      <th>1</th>\n",
       "      <td>24.583681</td>\n",
       "      <td>3.840926</td>\n",
       "      <td>30Q002</td>\n",
       "    </tr>\n",
       "    <tr>\n",
       "      <th>2</th>\n",
       "      <td>-85.689445</td>\n",
       "      <td>7.075702</td>\n",
       "      <td>30Q010</td>\n",
       "    </tr>\n",
       "    <tr>\n",
       "      <th>3</th>\n",
       "      <td>29.917683</td>\n",
       "      <td>128.347931</td>\n",
       "      <td>30Q011</td>\n",
       "    </tr>\n",
       "    <tr>\n",
       "      <th>4</th>\n",
       "      <td>72.687721</td>\n",
       "      <td>107.379913</td>\n",
       "      <td>30Q017</td>\n",
       "    </tr>\n",
       "  </tbody>\n",
       "</table>\n",
       "</div>"
      ],
      "text/plain": [
       "           0           1     dbn\n",
       "0  31.764725   45.926044  02M077\n",
       "1  24.583681    3.840926  30Q002\n",
       "2 -85.689445    7.075702  30Q010\n",
       "3  29.917683  128.347931  30Q011\n",
       "4  72.687721  107.379913  30Q017"
      ]
     },
     "execution_count": 302,
     "metadata": {},
     "output_type": "execute_result"
    }
   ],
   "source": [
    "X_embedded.head()"
   ]
  },
  {
   "cell_type": "code",
   "execution_count": 303,
   "id": "3ef76fe4",
   "metadata": {},
   "outputs": [
    {
     "data": {
      "text/html": [
       "<div>\n",
       "<style scoped>\n",
       "    .dataframe tbody tr th:only-of-type {\n",
       "        vertical-align: middle;\n",
       "    }\n",
       "\n",
       "    .dataframe tbody tr th {\n",
       "        vertical-align: top;\n",
       "    }\n",
       "\n",
       "    .dataframe thead th {\n",
       "        text-align: right;\n",
       "    }\n",
       "</style>\n",
       "<table border=\"1\" class=\"dataframe\">\n",
       "  <thead>\n",
       "    <tr style=\"text-align: right;\">\n",
       "      <th></th>\n",
       "      <th>0</th>\n",
       "      <th>1</th>\n",
       "      <th>dbn</th>\n",
       "    </tr>\n",
       "  </thead>\n",
       "  <tbody>\n",
       "    <tr>\n",
       "      <th>0</th>\n",
       "      <td>31.764725</td>\n",
       "      <td>45.926044</td>\n",
       "      <td>02M077</td>\n",
       "    </tr>\n",
       "  </tbody>\n",
       "</table>\n",
       "</div>"
      ],
      "text/plain": [
       "           0          1     dbn\n",
       "0  31.764725  45.926044  02M077"
      ]
     },
     "execution_count": 303,
     "metadata": {},
     "output_type": "execute_result"
    }
   ],
   "source": [
    "X_embedded[X_embedded['dbn']==school_of_interest]"
   ]
  },
  {
   "cell_type": "code",
   "execution_count": 304,
   "id": "6f82c55e",
   "metadata": {},
   "outputs": [
    {
     "data": {
      "application/vnd.plotly.v1+json": {
       "config": {
        "plotlyServerURL": "https://plot.ly"
       },
       "data": [
        {
         "hovertemplate": "<b>%{hovertext}</b><br><br>dbn=02M077<br>0=%{x}<br>1=%{y}<extra></extra>",
         "hovertext": [
          "02M077"
         ],
         "legendgroup": "02M077",
         "marker": {
          "color": "#636efa",
          "size": 10,
          "symbol": "circle"
         },
         "mode": "markers",
         "name": "02M077",
         "orientation": "v",
         "showlegend": true,
         "type": "scatter",
         "x": [
          31.764724731445312
         ],
         "xaxis": "x",
         "y": [
          45.92604446411133
         ],
         "yaxis": "y"
        },
        {
         "hovertemplate": "<b>%{hovertext}</b><br><br>dbn=30Q002<br>0=%{x}<br>1=%{y}<extra></extra>",
         "hovertext": [
          "30Q002"
         ],
         "legendgroup": "30Q002",
         "marker": {
          "color": "#EF553B",
          "size": 10,
          "symbol": "circle"
         },
         "mode": "markers",
         "name": "30Q002",
         "orientation": "v",
         "showlegend": true,
         "type": "scatter",
         "x": [
          24.583681106567383
         ],
         "xaxis": "x",
         "y": [
          3.840925693511963
         ],
         "yaxis": "y"
        },
        {
         "hovertemplate": "<b>%{hovertext}</b><br><br>dbn=30Q010<br>0=%{x}<br>1=%{y}<extra></extra>",
         "hovertext": [
          "30Q010"
         ],
         "legendgroup": "30Q010",
         "marker": {
          "color": "#00cc96",
          "size": 10,
          "symbol": "circle"
         },
         "mode": "markers",
         "name": "30Q010",
         "orientation": "v",
         "showlegend": true,
         "type": "scatter",
         "x": [
          -85.68944549560547
         ],
         "xaxis": "x",
         "y": [
          7.07570219039917
         ],
         "yaxis": "y"
        },
        {
         "hovertemplate": "<b>%{hovertext}</b><br><br>dbn=30Q011<br>0=%{x}<br>1=%{y}<extra></extra>",
         "hovertext": [
          "30Q011"
         ],
         "legendgroup": "30Q011",
         "marker": {
          "color": "#ab63fa",
          "size": 10,
          "symbol": "circle"
         },
         "mode": "markers",
         "name": "30Q011",
         "orientation": "v",
         "showlegend": true,
         "type": "scatter",
         "x": [
          29.917682647705078
         ],
         "xaxis": "x",
         "y": [
          128.34793090820312
         ],
         "yaxis": "y"
        },
        {
         "hovertemplate": "<b>%{hovertext}</b><br><br>dbn=30Q017<br>0=%{x}<br>1=%{y}<extra></extra>",
         "hovertext": [
          "30Q017"
         ],
         "legendgroup": "30Q017",
         "marker": {
          "color": "#FFA15A",
          "size": 10,
          "symbol": "circle"
         },
         "mode": "markers",
         "name": "30Q017",
         "orientation": "v",
         "showlegend": true,
         "type": "scatter",
         "x": [
          72.6877212524414
         ],
         "xaxis": "x",
         "y": [
          107.37991333007812
         ],
         "yaxis": "y"
        },
        {
         "hovertemplate": "<b>%{hovertext}</b><br><br>dbn=30Q069<br>0=%{x}<br>1=%{y}<extra></extra>",
         "hovertext": [
          "30Q069"
         ],
         "legendgroup": "30Q069",
         "marker": {
          "color": "#19d3f3",
          "size": 10,
          "symbol": "circle"
         },
         "mode": "markers",
         "name": "30Q069",
         "orientation": "v",
         "showlegend": true,
         "type": "scatter",
         "x": [
          -5.055123805999756
         ],
         "xaxis": "x",
         "y": [
          64.20055389404297
         ],
         "yaxis": "y"
        },
        {
         "hovertemplate": "<b>%{hovertext}</b><br><br>dbn=30Q070<br>0=%{x}<br>1=%{y}<extra></extra>",
         "hovertext": [
          "30Q070"
         ],
         "legendgroup": "30Q070",
         "marker": {
          "color": "#FF6692",
          "size": 10,
          "symbol": "circle"
         },
         "mode": "markers",
         "name": "30Q070",
         "orientation": "v",
         "showlegend": true,
         "type": "scatter",
         "x": [
          -72.47279357910156
         ],
         "xaxis": "x",
         "y": [
          44.31538009643555
         ],
         "yaxis": "y"
        },
        {
         "hovertemplate": "<b>%{hovertext}</b><br><br>dbn=30Q076<br>0=%{x}<br>1=%{y}<extra></extra>",
         "hovertext": [
          "30Q076"
         ],
         "legendgroup": "30Q076",
         "marker": {
          "color": "#B6E880",
          "size": 10,
          "symbol": "circle"
         },
         "mode": "markers",
         "name": "30Q076",
         "orientation": "v",
         "showlegend": true,
         "type": "scatter",
         "x": [
          11.249822616577148
         ],
         "xaxis": "x",
         "y": [
          -32.18153762817383
         ],
         "yaxis": "y"
        },
        {
         "hovertemplate": "<b>%{hovertext}</b><br><br>dbn=30Q078<br>0=%{x}<br>1=%{y}<extra></extra>",
         "hovertext": [
          "30Q078"
         ],
         "legendgroup": "30Q078",
         "marker": {
          "color": "#FF97FF",
          "size": 10,
          "symbol": "circle"
         },
         "mode": "markers",
         "name": "30Q078",
         "orientation": "v",
         "showlegend": true,
         "type": "scatter",
         "x": [
          -12.392471313476562
         ],
         "xaxis": "x",
         "y": [
          -2.3154962062835693
         ],
         "yaxis": "y"
        },
        {
         "hovertemplate": "<b>%{hovertext}</b><br><br>dbn=30Q084<br>0=%{x}<br>1=%{y}<extra></extra>",
         "hovertext": [
          "30Q084"
         ],
         "legendgroup": "30Q084",
         "marker": {
          "color": "#FECB52",
          "size": 10,
          "symbol": "circle"
         },
         "mode": "markers",
         "name": "30Q084",
         "orientation": "v",
         "showlegend": true,
         "type": "scatter",
         "x": [
          48.959197998046875
         ],
         "xaxis": "x",
         "y": [
          -22.97885513305664
         ],
         "yaxis": "y"
        },
        {
         "hovertemplate": "<b>%{hovertext}</b><br><br>dbn=30Q085<br>0=%{x}<br>1=%{y}<extra></extra>",
         "hovertext": [
          "30Q085"
         ],
         "legendgroup": "30Q085",
         "marker": {
          "color": "#636efa",
          "size": 10,
          "symbol": "circle"
         },
         "mode": "markers",
         "name": "30Q085",
         "orientation": "v",
         "showlegend": true,
         "type": "scatter",
         "x": [
          -47.867061614990234
         ],
         "xaxis": "x",
         "y": [
          3.231947422027588
         ],
         "yaxis": "y"
        },
        {
         "hovertemplate": "<b>%{hovertext}</b><br><br>dbn=30Q092<br>0=%{x}<br>1=%{y}<extra></extra>",
         "hovertext": [
          "30Q092"
         ],
         "legendgroup": "30Q092",
         "marker": {
          "color": "#EF553B",
          "size": 10,
          "symbol": "circle"
         },
         "mode": "markers",
         "name": "30Q092",
         "orientation": "v",
         "showlegend": true,
         "type": "scatter",
         "x": [
          -98.19641876220703
         ],
         "xaxis": "x",
         "y": [
          -59.03219985961914
         ],
         "yaxis": "y"
        },
        {
         "hovertemplate": "<b>%{hovertext}</b><br><br>dbn=30Q111<br>0=%{x}<br>1=%{y}<extra></extra>",
         "hovertext": [
          "30Q111"
         ],
         "legendgroup": "30Q111",
         "marker": {
          "color": "#00cc96",
          "size": 10,
          "symbol": "circle"
         },
         "mode": "markers",
         "name": "30Q111",
         "orientation": "v",
         "showlegend": true,
         "type": "scatter",
         "x": [
          -61.20528793334961
         ],
         "xaxis": "x",
         "y": [
          113.95457458496094
         ],
         "yaxis": "y"
        },
        {
         "hovertemplate": "<b>%{hovertext}</b><br><br>dbn=30Q112<br>0=%{x}<br>1=%{y}<extra></extra>",
         "hovertext": [
          "30Q112"
         ],
         "legendgroup": "30Q112",
         "marker": {
          "color": "#ab63fa",
          "size": 10,
          "symbol": "circle"
         },
         "mode": "markers",
         "name": "30Q112",
         "orientation": "v",
         "showlegend": true,
         "type": "scatter",
         "x": [
          -68.17472076416016
         ],
         "xaxis": "x",
         "y": [
          -30.207443237304688
         ],
         "yaxis": "y"
        },
        {
         "hovertemplate": "<b>%{hovertext}</b><br><br>dbn=30Q122<br>0=%{x}<br>1=%{y}<extra></extra>",
         "hovertext": [
          "30Q122"
         ],
         "legendgroup": "30Q122",
         "marker": {
          "color": "#FFA15A",
          "size": 10,
          "symbol": "circle"
         },
         "mode": "markers",
         "name": "30Q122",
         "orientation": "v",
         "showlegend": true,
         "type": "scatter",
         "x": [
          0.030818115919828415
         ],
         "xaxis": "x",
         "y": [
          29.55611801147461
         ],
         "yaxis": "y"
        },
        {
         "hovertemplate": "<b>%{hovertext}</b><br><br>dbn=30Q126<br>0=%{x}<br>1=%{y}<extra></extra>",
         "hovertext": [
          "30Q126"
         ],
         "legendgroup": "30Q126",
         "marker": {
          "color": "#19d3f3",
          "size": 10,
          "symbol": "circle"
         },
         "mode": "markers",
         "name": "30Q126",
         "orientation": "v",
         "showlegend": true,
         "type": "scatter",
         "x": [
          -35.0208625793457
         ],
         "xaxis": "x",
         "y": [
          37.10091781616211
         ],
         "yaxis": "y"
        },
        {
         "hovertemplate": "<b>%{hovertext}</b><br><br>dbn=30Q127<br>0=%{x}<br>1=%{y}<extra></extra>",
         "hovertext": [
          "30Q127"
         ],
         "legendgroup": "30Q127",
         "marker": {
          "color": "#FF6692",
          "size": 10,
          "symbol": "circle"
         },
         "mode": "markers",
         "name": "30Q127",
         "orientation": "v",
         "showlegend": true,
         "type": "scatter",
         "x": [
          65.2388916015625
         ],
         "xaxis": "x",
         "y": [
          64.11973571777344
         ],
         "yaxis": "y"
        },
        {
         "hovertemplate": "<b>%{hovertext}</b><br><br>dbn=30Q141<br>0=%{x}<br>1=%{y}<extra></extra>",
         "hovertext": [
          "30Q141"
         ],
         "legendgroup": "30Q141",
         "marker": {
          "color": "#B6E880",
          "size": 10,
          "symbol": "circle"
         },
         "mode": "markers",
         "name": "30Q141",
         "orientation": "v",
         "showlegend": true,
         "type": "scatter",
         "x": [
          25.2659912109375
         ],
         "xaxis": "x",
         "y": [
          -105.74429321289062
         ],
         "yaxis": "y"
        },
        {
         "hovertemplate": "<b>%{hovertext}</b><br><br>dbn=30Q145<br>0=%{x}<br>1=%{y}<extra></extra>",
         "hovertext": [
          "30Q145"
         ],
         "legendgroup": "30Q145",
         "marker": {
          "color": "#FF97FF",
          "size": 10,
          "symbol": "circle"
         },
         "mode": "markers",
         "name": "30Q145",
         "orientation": "v",
         "showlegend": true,
         "type": "scatter",
         "x": [
          -118.75799560546875
         ],
         "xaxis": "x",
         "y": [
          37.62842559814453
         ],
         "yaxis": "y"
        },
        {
         "hovertemplate": "<b>%{hovertext}</b><br><br>dbn=30Q148<br>0=%{x}<br>1=%{y}<extra></extra>",
         "hovertext": [
          "30Q148"
         ],
         "legendgroup": "30Q148",
         "marker": {
          "color": "#FECB52",
          "size": 10,
          "symbol": "circle"
         },
         "mode": "markers",
         "name": "30Q148",
         "orientation": "v",
         "showlegend": true,
         "type": "scatter",
         "x": [
          111.15415954589844
         ],
         "xaxis": "x",
         "y": [
          73.88282012939453
         ],
         "yaxis": "y"
        },
        {
         "hovertemplate": "<b>%{hovertext}</b><br><br>dbn=30Q149<br>0=%{x}<br>1=%{y}<extra></extra>",
         "hovertext": [
          "30Q149"
         ],
         "legendgroup": "30Q149",
         "marker": {
          "color": "#636efa",
          "size": 10,
          "symbol": "circle"
         },
         "mode": "markers",
         "name": "30Q149",
         "orientation": "v",
         "showlegend": true,
         "type": "scatter",
         "x": [
          -70.42595672607422
         ],
         "xaxis": "x",
         "y": [
          -99.53623962402344
         ],
         "yaxis": "y"
        },
        {
         "hovertemplate": "<b>%{hovertext}</b><br><br>dbn=30Q150<br>0=%{x}<br>1=%{y}<extra></extra>",
         "hovertext": [
          "30Q150"
         ],
         "legendgroup": "30Q150",
         "marker": {
          "color": "#EF553B",
          "size": 10,
          "symbol": "circle"
         },
         "mode": "markers",
         "name": "30Q150",
         "orientation": "v",
         "showlegend": true,
         "type": "scatter",
         "x": [
          86.45878601074219
         ],
         "xaxis": "x",
         "y": [
          -8.667049407958984
         ],
         "yaxis": "y"
        },
        {
         "hovertemplate": "<b>%{hovertext}</b><br><br>dbn=30Q151<br>0=%{x}<br>1=%{y}<extra></extra>",
         "hovertext": [
          "30Q151"
         ],
         "legendgroup": "30Q151",
         "marker": {
          "color": "#00cc96",
          "size": 10,
          "symbol": "circle"
         },
         "mode": "markers",
         "name": "30Q151",
         "orientation": "v",
         "showlegend": true,
         "type": "scatter",
         "x": [
          36.18016815185547
         ],
         "xaxis": "x",
         "y": [
          -62.86622619628906
         ],
         "yaxis": "y"
        },
        {
         "hovertemplate": "<b>%{hovertext}</b><br><br>dbn=30Q152<br>0=%{x}<br>1=%{y}<extra></extra>",
         "hovertext": [
          "30Q152"
         ],
         "legendgroup": "30Q152",
         "marker": {
          "color": "#ab63fa",
          "size": 10,
          "symbol": "circle"
         },
         "mode": "markers",
         "name": "30Q152",
         "orientation": "v",
         "showlegend": true,
         "type": "scatter",
         "x": [
          76.41704559326172
         ],
         "xaxis": "x",
         "y": [
          -51.36848068237305
         ],
         "yaxis": "y"
        },
        {
         "hovertemplate": "<b>%{hovertext}</b><br><br>dbn=30Q166<br>0=%{x}<br>1=%{y}<extra></extra>",
         "hovertext": [
          "30Q166"
         ],
         "legendgroup": "30Q166",
         "marker": {
          "color": "#FFA15A",
          "size": 10,
          "symbol": "circle"
         },
         "mode": "markers",
         "name": "30Q166",
         "orientation": "v",
         "showlegend": true,
         "type": "scatter",
         "x": [
          -21.08528709411621
         ],
         "xaxis": "x",
         "y": [
          -108.41954040527344
         ],
         "yaxis": "y"
        },
        {
         "hovertemplate": "<b>%{hovertext}</b><br><br>dbn=30Q171<br>0=%{x}<br>1=%{y}<extra></extra>",
         "hovertext": [
          "30Q171"
         ],
         "legendgroup": "30Q171",
         "marker": {
          "color": "#19d3f3",
          "size": 10,
          "symbol": "circle"
         },
         "mode": "markers",
         "name": "30Q171",
         "orientation": "v",
         "showlegend": true,
         "type": "scatter",
         "x": [
          -120.48741912841797
         ],
         "xaxis": "x",
         "y": [
          -16.499616622924805
         ],
         "yaxis": "y"
        },
        {
         "hovertemplate": "<b>%{hovertext}</b><br><br>dbn=30Q204<br>0=%{x}<br>1=%{y}<extra></extra>",
         "hovertext": [
          "30Q204"
         ],
         "legendgroup": "30Q204",
         "marker": {
          "color": "#FF6692",
          "size": 10,
          "symbol": "circle"
         },
         "mode": "markers",
         "name": "30Q204",
         "orientation": "v",
         "showlegend": true,
         "type": "scatter",
         "x": [
          92.8902816772461
         ],
         "xaxis": "x",
         "y": [
          34.23960494995117
         ],
         "yaxis": "y"
        },
        {
         "hovertemplate": "<b>%{hovertext}</b><br><br>dbn=30Q212<br>0=%{x}<br>1=%{y}<extra></extra>",
         "hovertext": [
          "30Q212"
         ],
         "legendgroup": "30Q212",
         "marker": {
          "color": "#B6E880",
          "size": 10,
          "symbol": "circle"
         },
         "mode": "markers",
         "name": "30Q212",
         "orientation": "v",
         "showlegend": true,
         "type": "scatter",
         "x": [
          -45.90839767456055
         ],
         "xaxis": "x",
         "y": [
          -66.22764587402344
         ],
         "yaxis": "y"
        },
        {
         "hovertemplate": "<b>%{hovertext}</b><br><br>dbn=30Q227<br>0=%{x}<br>1=%{y}<extra></extra>",
         "hovertext": [
          "30Q227"
         ],
         "legendgroup": "30Q227",
         "marker": {
          "color": "#FF97FF",
          "size": 10,
          "symbol": "circle"
         },
         "mode": "markers",
         "name": "30Q227",
         "orientation": "v",
         "showlegend": true,
         "type": "scatter",
         "x": [
          128.93768310546875
         ],
         "xaxis": "x",
         "y": [
          11.126214981079102
         ],
         "yaxis": "y"
        },
        {
         "hovertemplate": "<b>%{hovertext}</b><br><br>dbn=30Q230<br>0=%{x}<br>1=%{y}<extra></extra>",
         "hovertext": [
          "30Q230"
         ],
         "legendgroup": "30Q230",
         "marker": {
          "color": "#FECB52",
          "size": 10,
          "symbol": "circle"
         },
         "mode": "markers",
         "name": "30Q230",
         "orientation": "v",
         "showlegend": true,
         "type": "scatter",
         "x": [
          72.6226806640625
         ],
         "xaxis": "x",
         "y": [
          -94.16471862792969
         ],
         "yaxis": "y"
        },
        {
         "hovertemplate": "<b>%{hovertext}</b><br><br>dbn=30Q234<br>0=%{x}<br>1=%{y}<extra></extra>",
         "hovertext": [
          "30Q234"
         ],
         "legendgroup": "30Q234",
         "marker": {
          "color": "#636efa",
          "size": 10,
          "symbol": "circle"
         },
         "mode": "markers",
         "name": "30Q234",
         "orientation": "v",
         "showlegend": true,
         "type": "scatter",
         "x": [
          29.758914947509766
         ],
         "xaxis": "x",
         "y": [
          85.4352035522461
         ],
         "yaxis": "y"
        },
        {
         "hovertemplate": "<b>%{hovertext}</b><br><br>dbn=30Q235<br>0=%{x}<br>1=%{y}<extra></extra>",
         "hovertext": [
          "30Q235"
         ],
         "legendgroup": "30Q235",
         "marker": {
          "color": "#EF553B",
          "size": 10,
          "symbol": "circle"
         },
         "mode": "markers",
         "name": "30Q235",
         "orientation": "v",
         "showlegend": true,
         "type": "scatter",
         "x": [
          118.44050598144531
         ],
         "xaxis": "x",
         "y": [
          -41.625465393066406
         ],
         "yaxis": "y"
        },
        {
         "hovertemplate": "<b>%{hovertext}</b><br><br>dbn=30Q280<br>0=%{x}<br>1=%{y}<extra></extra>",
         "hovertext": [
          "30Q280"
         ],
         "legendgroup": "30Q280",
         "marker": {
          "color": "#00cc96",
          "size": 10,
          "symbol": "circle"
         },
         "mode": "markers",
         "name": "30Q280",
         "orientation": "v",
         "showlegend": true,
         "type": "scatter",
         "x": [
          -4.06807279586792
         ],
         "xaxis": "x",
         "y": [
          -68.2652359008789
         ],
         "yaxis": "y"
        },
        {
         "hovertemplate": "<b>%{hovertext}</b><br><br>dbn=30Q286<br>0=%{x}<br>1=%{y}<extra></extra>",
         "hovertext": [
          "30Q286"
         ],
         "legendgroup": "30Q286",
         "marker": {
          "color": "#ab63fa",
          "size": 10,
          "symbol": "circle"
         },
         "mode": "markers",
         "name": "30Q286",
         "orientation": "v",
         "showlegend": true,
         "type": "scatter",
         "x": [
          57.408573150634766
         ],
         "xaxis": "x",
         "y": [
          18.821908950805664
         ],
         "yaxis": "y"
        },
        {
         "hovertemplate": "<b>%{hovertext}</b><br><br>dbn=30Q291<br>0=%{x}<br>1=%{y}<extra></extra>",
         "hovertext": [
          "30Q291"
         ],
         "legendgroup": "30Q291",
         "marker": {
          "color": "#FFA15A",
          "size": 10,
          "symbol": "circle"
         },
         "mode": "markers",
         "name": "30Q291",
         "orientation": "v",
         "showlegend": true,
         "type": "scatter",
         "x": [
          -27.828710556030273
         ],
         "xaxis": "x",
         "y": [
          -33.77735137939453
         ],
         "yaxis": "y"
        },
        {
         "hovertemplate": "<b>%{hovertext}</b><br><br>dbn=30Q300<br>0=%{x}<br>1=%{y}<extra></extra>",
         "hovertext": [
          "30Q300"
         ],
         "legendgroup": "30Q300",
         "marker": {
          "color": "#19d3f3",
          "size": 10,
          "symbol": "circle"
         },
         "mode": "markers",
         "name": "30Q300",
         "orientation": "v",
         "showlegend": true,
         "type": "scatter",
         "x": [
          -19.298402786254883
         ],
         "xaxis": "x",
         "y": [
          140.61387634277344
         ],
         "yaxis": "y"
        },
        {
         "hovertemplate": "<b>%{hovertext}</b><br><br>dbn=30Q329<br>0=%{x}<br>1=%{y}<extra></extra>",
         "hovertext": [
          "30Q329"
         ],
         "legendgroup": "30Q329",
         "marker": {
          "color": "#FF6692",
          "size": 10,
          "symbol": "circle"
         },
         "mode": "markers",
         "name": "30Q329",
         "orientation": "v",
         "showlegend": true,
         "type": "scatter",
         "x": [
          -10.963788986206055
         ],
         "xaxis": "x",
         "y": [
          100.3761215209961
         ],
         "yaxis": "y"
        },
        {
         "hovertemplate": "<b>%{hovertext}</b><br><br>dbn=30Q361<br>0=%{x}<br>1=%{y}<extra></extra>",
         "hovertext": [
          "30Q361"
         ],
         "legendgroup": "30Q361",
         "marker": {
          "color": "#B6E880",
          "size": 10,
          "symbol": "circle"
         },
         "mode": "markers",
         "name": "30Q361",
         "orientation": "v",
         "showlegend": true,
         "type": "scatter",
         "x": [
          -95.08902740478516
         ],
         "xaxis": "x",
         "y": [
          81.32396697998047
         ],
         "yaxis": "y"
        },
        {
         "hovertemplate": "<b>%{hovertext}</b><br><br>dbn=30Q580<br>0=%{x}<br>1=%{y}<extra></extra>",
         "hovertext": [
          "30Q580"
         ],
         "legendgroup": "30Q580",
         "marker": {
          "color": "#FF97FF",
          "size": 10,
          "symbol": "circle"
         },
         "mode": "markers",
         "name": "30Q580",
         "orientation": "v",
         "showlegend": true,
         "type": "scatter",
         "x": [
          -45.22240447998047
         ],
         "xaxis": "x",
         "y": [
          74.9135513305664
         ],
         "yaxis": "y"
        }
       ],
       "layout": {
        "legend": {
         "title": {
          "text": "dbn"
         },
         "tracegroupgap": 0
        },
        "margin": {
         "t": 60
        },
        "template": {
         "data": {
          "bar": [
           {
            "error_x": {
             "color": "#2a3f5f"
            },
            "error_y": {
             "color": "#2a3f5f"
            },
            "marker": {
             "line": {
              "color": "#E5ECF6",
              "width": 0.5
             },
             "pattern": {
              "fillmode": "overlay",
              "size": 10,
              "solidity": 0.2
             }
            },
            "type": "bar"
           }
          ],
          "barpolar": [
           {
            "marker": {
             "line": {
              "color": "#E5ECF6",
              "width": 0.5
             },
             "pattern": {
              "fillmode": "overlay",
              "size": 10,
              "solidity": 0.2
             }
            },
            "type": "barpolar"
           }
          ],
          "carpet": [
           {
            "aaxis": {
             "endlinecolor": "#2a3f5f",
             "gridcolor": "white",
             "linecolor": "white",
             "minorgridcolor": "white",
             "startlinecolor": "#2a3f5f"
            },
            "baxis": {
             "endlinecolor": "#2a3f5f",
             "gridcolor": "white",
             "linecolor": "white",
             "minorgridcolor": "white",
             "startlinecolor": "#2a3f5f"
            },
            "type": "carpet"
           }
          ],
          "choropleth": [
           {
            "colorbar": {
             "outlinewidth": 0,
             "ticks": ""
            },
            "type": "choropleth"
           }
          ],
          "contour": [
           {
            "colorbar": {
             "outlinewidth": 0,
             "ticks": ""
            },
            "colorscale": [
             [
              0,
              "#0d0887"
             ],
             [
              0.1111111111111111,
              "#46039f"
             ],
             [
              0.2222222222222222,
              "#7201a8"
             ],
             [
              0.3333333333333333,
              "#9c179e"
             ],
             [
              0.4444444444444444,
              "#bd3786"
             ],
             [
              0.5555555555555556,
              "#d8576b"
             ],
             [
              0.6666666666666666,
              "#ed7953"
             ],
             [
              0.7777777777777778,
              "#fb9f3a"
             ],
             [
              0.8888888888888888,
              "#fdca26"
             ],
             [
              1,
              "#f0f921"
             ]
            ],
            "type": "contour"
           }
          ],
          "contourcarpet": [
           {
            "colorbar": {
             "outlinewidth": 0,
             "ticks": ""
            },
            "type": "contourcarpet"
           }
          ],
          "heatmap": [
           {
            "colorbar": {
             "outlinewidth": 0,
             "ticks": ""
            },
            "colorscale": [
             [
              0,
              "#0d0887"
             ],
             [
              0.1111111111111111,
              "#46039f"
             ],
             [
              0.2222222222222222,
              "#7201a8"
             ],
             [
              0.3333333333333333,
              "#9c179e"
             ],
             [
              0.4444444444444444,
              "#bd3786"
             ],
             [
              0.5555555555555556,
              "#d8576b"
             ],
             [
              0.6666666666666666,
              "#ed7953"
             ],
             [
              0.7777777777777778,
              "#fb9f3a"
             ],
             [
              0.8888888888888888,
              "#fdca26"
             ],
             [
              1,
              "#f0f921"
             ]
            ],
            "type": "heatmap"
           }
          ],
          "heatmapgl": [
           {
            "colorbar": {
             "outlinewidth": 0,
             "ticks": ""
            },
            "colorscale": [
             [
              0,
              "#0d0887"
             ],
             [
              0.1111111111111111,
              "#46039f"
             ],
             [
              0.2222222222222222,
              "#7201a8"
             ],
             [
              0.3333333333333333,
              "#9c179e"
             ],
             [
              0.4444444444444444,
              "#bd3786"
             ],
             [
              0.5555555555555556,
              "#d8576b"
             ],
             [
              0.6666666666666666,
              "#ed7953"
             ],
             [
              0.7777777777777778,
              "#fb9f3a"
             ],
             [
              0.8888888888888888,
              "#fdca26"
             ],
             [
              1,
              "#f0f921"
             ]
            ],
            "type": "heatmapgl"
           }
          ],
          "histogram": [
           {
            "marker": {
             "pattern": {
              "fillmode": "overlay",
              "size": 10,
              "solidity": 0.2
             }
            },
            "type": "histogram"
           }
          ],
          "histogram2d": [
           {
            "colorbar": {
             "outlinewidth": 0,
             "ticks": ""
            },
            "colorscale": [
             [
              0,
              "#0d0887"
             ],
             [
              0.1111111111111111,
              "#46039f"
             ],
             [
              0.2222222222222222,
              "#7201a8"
             ],
             [
              0.3333333333333333,
              "#9c179e"
             ],
             [
              0.4444444444444444,
              "#bd3786"
             ],
             [
              0.5555555555555556,
              "#d8576b"
             ],
             [
              0.6666666666666666,
              "#ed7953"
             ],
             [
              0.7777777777777778,
              "#fb9f3a"
             ],
             [
              0.8888888888888888,
              "#fdca26"
             ],
             [
              1,
              "#f0f921"
             ]
            ],
            "type": "histogram2d"
           }
          ],
          "histogram2dcontour": [
           {
            "colorbar": {
             "outlinewidth": 0,
             "ticks": ""
            },
            "colorscale": [
             [
              0,
              "#0d0887"
             ],
             [
              0.1111111111111111,
              "#46039f"
             ],
             [
              0.2222222222222222,
              "#7201a8"
             ],
             [
              0.3333333333333333,
              "#9c179e"
             ],
             [
              0.4444444444444444,
              "#bd3786"
             ],
             [
              0.5555555555555556,
              "#d8576b"
             ],
             [
              0.6666666666666666,
              "#ed7953"
             ],
             [
              0.7777777777777778,
              "#fb9f3a"
             ],
             [
              0.8888888888888888,
              "#fdca26"
             ],
             [
              1,
              "#f0f921"
             ]
            ],
            "type": "histogram2dcontour"
           }
          ],
          "mesh3d": [
           {
            "colorbar": {
             "outlinewidth": 0,
             "ticks": ""
            },
            "type": "mesh3d"
           }
          ],
          "parcoords": [
           {
            "line": {
             "colorbar": {
              "outlinewidth": 0,
              "ticks": ""
             }
            },
            "type": "parcoords"
           }
          ],
          "pie": [
           {
            "automargin": true,
            "type": "pie"
           }
          ],
          "scatter": [
           {
            "marker": {
             "colorbar": {
              "outlinewidth": 0,
              "ticks": ""
             }
            },
            "type": "scatter"
           }
          ],
          "scatter3d": [
           {
            "line": {
             "colorbar": {
              "outlinewidth": 0,
              "ticks": ""
             }
            },
            "marker": {
             "colorbar": {
              "outlinewidth": 0,
              "ticks": ""
             }
            },
            "type": "scatter3d"
           }
          ],
          "scattercarpet": [
           {
            "marker": {
             "colorbar": {
              "outlinewidth": 0,
              "ticks": ""
             }
            },
            "type": "scattercarpet"
           }
          ],
          "scattergeo": [
           {
            "marker": {
             "colorbar": {
              "outlinewidth": 0,
              "ticks": ""
             }
            },
            "type": "scattergeo"
           }
          ],
          "scattergl": [
           {
            "marker": {
             "colorbar": {
              "outlinewidth": 0,
              "ticks": ""
             }
            },
            "type": "scattergl"
           }
          ],
          "scattermapbox": [
           {
            "marker": {
             "colorbar": {
              "outlinewidth": 0,
              "ticks": ""
             }
            },
            "type": "scattermapbox"
           }
          ],
          "scatterpolar": [
           {
            "marker": {
             "colorbar": {
              "outlinewidth": 0,
              "ticks": ""
             }
            },
            "type": "scatterpolar"
           }
          ],
          "scatterpolargl": [
           {
            "marker": {
             "colorbar": {
              "outlinewidth": 0,
              "ticks": ""
             }
            },
            "type": "scatterpolargl"
           }
          ],
          "scatterternary": [
           {
            "marker": {
             "colorbar": {
              "outlinewidth": 0,
              "ticks": ""
             }
            },
            "type": "scatterternary"
           }
          ],
          "surface": [
           {
            "colorbar": {
             "outlinewidth": 0,
             "ticks": ""
            },
            "colorscale": [
             [
              0,
              "#0d0887"
             ],
             [
              0.1111111111111111,
              "#46039f"
             ],
             [
              0.2222222222222222,
              "#7201a8"
             ],
             [
              0.3333333333333333,
              "#9c179e"
             ],
             [
              0.4444444444444444,
              "#bd3786"
             ],
             [
              0.5555555555555556,
              "#d8576b"
             ],
             [
              0.6666666666666666,
              "#ed7953"
             ],
             [
              0.7777777777777778,
              "#fb9f3a"
             ],
             [
              0.8888888888888888,
              "#fdca26"
             ],
             [
              1,
              "#f0f921"
             ]
            ],
            "type": "surface"
           }
          ],
          "table": [
           {
            "cells": {
             "fill": {
              "color": "#EBF0F8"
             },
             "line": {
              "color": "white"
             }
            },
            "header": {
             "fill": {
              "color": "#C8D4E3"
             },
             "line": {
              "color": "white"
             }
            },
            "type": "table"
           }
          ]
         },
         "layout": {
          "annotationdefaults": {
           "arrowcolor": "#2a3f5f",
           "arrowhead": 0,
           "arrowwidth": 1
          },
          "autotypenumbers": "strict",
          "coloraxis": {
           "colorbar": {
            "outlinewidth": 0,
            "ticks": ""
           }
          },
          "colorscale": {
           "diverging": [
            [
             0,
             "#8e0152"
            ],
            [
             0.1,
             "#c51b7d"
            ],
            [
             0.2,
             "#de77ae"
            ],
            [
             0.3,
             "#f1b6da"
            ],
            [
             0.4,
             "#fde0ef"
            ],
            [
             0.5,
             "#f7f7f7"
            ],
            [
             0.6,
             "#e6f5d0"
            ],
            [
             0.7,
             "#b8e186"
            ],
            [
             0.8,
             "#7fbc41"
            ],
            [
             0.9,
             "#4d9221"
            ],
            [
             1,
             "#276419"
            ]
           ],
           "sequential": [
            [
             0,
             "#0d0887"
            ],
            [
             0.1111111111111111,
             "#46039f"
            ],
            [
             0.2222222222222222,
             "#7201a8"
            ],
            [
             0.3333333333333333,
             "#9c179e"
            ],
            [
             0.4444444444444444,
             "#bd3786"
            ],
            [
             0.5555555555555556,
             "#d8576b"
            ],
            [
             0.6666666666666666,
             "#ed7953"
            ],
            [
             0.7777777777777778,
             "#fb9f3a"
            ],
            [
             0.8888888888888888,
             "#fdca26"
            ],
            [
             1,
             "#f0f921"
            ]
           ],
           "sequentialminus": [
            [
             0,
             "#0d0887"
            ],
            [
             0.1111111111111111,
             "#46039f"
            ],
            [
             0.2222222222222222,
             "#7201a8"
            ],
            [
             0.3333333333333333,
             "#9c179e"
            ],
            [
             0.4444444444444444,
             "#bd3786"
            ],
            [
             0.5555555555555556,
             "#d8576b"
            ],
            [
             0.6666666666666666,
             "#ed7953"
            ],
            [
             0.7777777777777778,
             "#fb9f3a"
            ],
            [
             0.8888888888888888,
             "#fdca26"
            ],
            [
             1,
             "#f0f921"
            ]
           ]
          },
          "colorway": [
           "#636efa",
           "#EF553B",
           "#00cc96",
           "#ab63fa",
           "#FFA15A",
           "#19d3f3",
           "#FF6692",
           "#B6E880",
           "#FF97FF",
           "#FECB52"
          ],
          "font": {
           "color": "#2a3f5f"
          },
          "geo": {
           "bgcolor": "white",
           "lakecolor": "white",
           "landcolor": "#E5ECF6",
           "showlakes": true,
           "showland": true,
           "subunitcolor": "white"
          },
          "hoverlabel": {
           "align": "left"
          },
          "hovermode": "closest",
          "mapbox": {
           "style": "light"
          },
          "paper_bgcolor": "white",
          "plot_bgcolor": "#E5ECF6",
          "polar": {
           "angularaxis": {
            "gridcolor": "white",
            "linecolor": "white",
            "ticks": ""
           },
           "bgcolor": "#E5ECF6",
           "radialaxis": {
            "gridcolor": "white",
            "linecolor": "white",
            "ticks": ""
           }
          },
          "scene": {
           "xaxis": {
            "backgroundcolor": "#E5ECF6",
            "gridcolor": "white",
            "gridwidth": 2,
            "linecolor": "white",
            "showbackground": true,
            "ticks": "",
            "zerolinecolor": "white"
           },
           "yaxis": {
            "backgroundcolor": "#E5ECF6",
            "gridcolor": "white",
            "gridwidth": 2,
            "linecolor": "white",
            "showbackground": true,
            "ticks": "",
            "zerolinecolor": "white"
           },
           "zaxis": {
            "backgroundcolor": "#E5ECF6",
            "gridcolor": "white",
            "gridwidth": 2,
            "linecolor": "white",
            "showbackground": true,
            "ticks": "",
            "zerolinecolor": "white"
           }
          },
          "shapedefaults": {
           "line": {
            "color": "#2a3f5f"
           }
          },
          "ternary": {
           "aaxis": {
            "gridcolor": "white",
            "linecolor": "white",
            "ticks": ""
           },
           "baxis": {
            "gridcolor": "white",
            "linecolor": "white",
            "ticks": ""
           },
           "bgcolor": "#E5ECF6",
           "caxis": {
            "gridcolor": "white",
            "linecolor": "white",
            "ticks": ""
           }
          },
          "title": {
           "x": 0.05
          },
          "xaxis": {
           "automargin": true,
           "gridcolor": "white",
           "linecolor": "white",
           "ticks": "",
           "title": {
            "standoff": 15
           },
           "zerolinecolor": "white",
           "zerolinewidth": 2
          },
          "yaxis": {
           "automargin": true,
           "gridcolor": "white",
           "linecolor": "white",
           "ticks": "",
           "title": {
            "standoff": 15
           },
           "zerolinecolor": "white",
           "zerolinewidth": 2
          }
         }
        },
        "xaxis": {
         "anchor": "y",
         "domain": [
          0,
          1
         ],
         "title": {
          "text": "0"
         }
        },
        "yaxis": {
         "anchor": "x",
         "domain": [
          0,
          1
         ],
         "title": {
          "text": "1"
         }
        }
       }
      },
      "text/html": [
       "<div>                            <div id=\"e6922eed-aab9-482d-8f69-4cf95d8795c8\" class=\"plotly-graph-div\" style=\"height:525px; width:100%;\"></div>            <script type=\"text/javascript\">                require([\"plotly\"], function(Plotly) {                    window.PLOTLYENV=window.PLOTLYENV || {};                                    if (document.getElementById(\"e6922eed-aab9-482d-8f69-4cf95d8795c8\")) {                    Plotly.newPlot(                        \"e6922eed-aab9-482d-8f69-4cf95d8795c8\",                        [{\"hovertemplate\":\"<b>%{hovertext}</b><br><br>dbn=02M077<br>0=%{x}<br>1=%{y}<extra></extra>\",\"hovertext\":[\"02M077\"],\"legendgroup\":\"02M077\",\"marker\":{\"color\":\"#636efa\",\"symbol\":\"circle\",\"size\":10},\"mode\":\"markers\",\"name\":\"02M077\",\"orientation\":\"v\",\"showlegend\":true,\"x\":[31.764724731445312],\"xaxis\":\"x\",\"y\":[45.92604446411133],\"yaxis\":\"y\",\"type\":\"scatter\"},{\"hovertemplate\":\"<b>%{hovertext}</b><br><br>dbn=30Q002<br>0=%{x}<br>1=%{y}<extra></extra>\",\"hovertext\":[\"30Q002\"],\"legendgroup\":\"30Q002\",\"marker\":{\"color\":\"#EF553B\",\"symbol\":\"circle\",\"size\":10},\"mode\":\"markers\",\"name\":\"30Q002\",\"orientation\":\"v\",\"showlegend\":true,\"x\":[24.583681106567383],\"xaxis\":\"x\",\"y\":[3.840925693511963],\"yaxis\":\"y\",\"type\":\"scatter\"},{\"hovertemplate\":\"<b>%{hovertext}</b><br><br>dbn=30Q010<br>0=%{x}<br>1=%{y}<extra></extra>\",\"hovertext\":[\"30Q010\"],\"legendgroup\":\"30Q010\",\"marker\":{\"color\":\"#00cc96\",\"symbol\":\"circle\",\"size\":10},\"mode\":\"markers\",\"name\":\"30Q010\",\"orientation\":\"v\",\"showlegend\":true,\"x\":[-85.68944549560547],\"xaxis\":\"x\",\"y\":[7.07570219039917],\"yaxis\":\"y\",\"type\":\"scatter\"},{\"hovertemplate\":\"<b>%{hovertext}</b><br><br>dbn=30Q011<br>0=%{x}<br>1=%{y}<extra></extra>\",\"hovertext\":[\"30Q011\"],\"legendgroup\":\"30Q011\",\"marker\":{\"color\":\"#ab63fa\",\"symbol\":\"circle\",\"size\":10},\"mode\":\"markers\",\"name\":\"30Q011\",\"orientation\":\"v\",\"showlegend\":true,\"x\":[29.917682647705078],\"xaxis\":\"x\",\"y\":[128.34793090820312],\"yaxis\":\"y\",\"type\":\"scatter\"},{\"hovertemplate\":\"<b>%{hovertext}</b><br><br>dbn=30Q017<br>0=%{x}<br>1=%{y}<extra></extra>\",\"hovertext\":[\"30Q017\"],\"legendgroup\":\"30Q017\",\"marker\":{\"color\":\"#FFA15A\",\"symbol\":\"circle\",\"size\":10},\"mode\":\"markers\",\"name\":\"30Q017\",\"orientation\":\"v\",\"showlegend\":true,\"x\":[72.6877212524414],\"xaxis\":\"x\",\"y\":[107.37991333007812],\"yaxis\":\"y\",\"type\":\"scatter\"},{\"hovertemplate\":\"<b>%{hovertext}</b><br><br>dbn=30Q069<br>0=%{x}<br>1=%{y}<extra></extra>\",\"hovertext\":[\"30Q069\"],\"legendgroup\":\"30Q069\",\"marker\":{\"color\":\"#19d3f3\",\"symbol\":\"circle\",\"size\":10},\"mode\":\"markers\",\"name\":\"30Q069\",\"orientation\":\"v\",\"showlegend\":true,\"x\":[-5.055123805999756],\"xaxis\":\"x\",\"y\":[64.20055389404297],\"yaxis\":\"y\",\"type\":\"scatter\"},{\"hovertemplate\":\"<b>%{hovertext}</b><br><br>dbn=30Q070<br>0=%{x}<br>1=%{y}<extra></extra>\",\"hovertext\":[\"30Q070\"],\"legendgroup\":\"30Q070\",\"marker\":{\"color\":\"#FF6692\",\"symbol\":\"circle\",\"size\":10},\"mode\":\"markers\",\"name\":\"30Q070\",\"orientation\":\"v\",\"showlegend\":true,\"x\":[-72.47279357910156],\"xaxis\":\"x\",\"y\":[44.31538009643555],\"yaxis\":\"y\",\"type\":\"scatter\"},{\"hovertemplate\":\"<b>%{hovertext}</b><br><br>dbn=30Q076<br>0=%{x}<br>1=%{y}<extra></extra>\",\"hovertext\":[\"30Q076\"],\"legendgroup\":\"30Q076\",\"marker\":{\"color\":\"#B6E880\",\"symbol\":\"circle\",\"size\":10},\"mode\":\"markers\",\"name\":\"30Q076\",\"orientation\":\"v\",\"showlegend\":true,\"x\":[11.249822616577148],\"xaxis\":\"x\",\"y\":[-32.18153762817383],\"yaxis\":\"y\",\"type\":\"scatter\"},{\"hovertemplate\":\"<b>%{hovertext}</b><br><br>dbn=30Q078<br>0=%{x}<br>1=%{y}<extra></extra>\",\"hovertext\":[\"30Q078\"],\"legendgroup\":\"30Q078\",\"marker\":{\"color\":\"#FF97FF\",\"symbol\":\"circle\",\"size\":10},\"mode\":\"markers\",\"name\":\"30Q078\",\"orientation\":\"v\",\"showlegend\":true,\"x\":[-12.392471313476562],\"xaxis\":\"x\",\"y\":[-2.3154962062835693],\"yaxis\":\"y\",\"type\":\"scatter\"},{\"hovertemplate\":\"<b>%{hovertext}</b><br><br>dbn=30Q084<br>0=%{x}<br>1=%{y}<extra></extra>\",\"hovertext\":[\"30Q084\"],\"legendgroup\":\"30Q084\",\"marker\":{\"color\":\"#FECB52\",\"symbol\":\"circle\",\"size\":10},\"mode\":\"markers\",\"name\":\"30Q084\",\"orientation\":\"v\",\"showlegend\":true,\"x\":[48.959197998046875],\"xaxis\":\"x\",\"y\":[-22.97885513305664],\"yaxis\":\"y\",\"type\":\"scatter\"},{\"hovertemplate\":\"<b>%{hovertext}</b><br><br>dbn=30Q085<br>0=%{x}<br>1=%{y}<extra></extra>\",\"hovertext\":[\"30Q085\"],\"legendgroup\":\"30Q085\",\"marker\":{\"color\":\"#636efa\",\"symbol\":\"circle\",\"size\":10},\"mode\":\"markers\",\"name\":\"30Q085\",\"orientation\":\"v\",\"showlegend\":true,\"x\":[-47.867061614990234],\"xaxis\":\"x\",\"y\":[3.231947422027588],\"yaxis\":\"y\",\"type\":\"scatter\"},{\"hovertemplate\":\"<b>%{hovertext}</b><br><br>dbn=30Q092<br>0=%{x}<br>1=%{y}<extra></extra>\",\"hovertext\":[\"30Q092\"],\"legendgroup\":\"30Q092\",\"marker\":{\"color\":\"#EF553B\",\"symbol\":\"circle\",\"size\":10},\"mode\":\"markers\",\"name\":\"30Q092\",\"orientation\":\"v\",\"showlegend\":true,\"x\":[-98.19641876220703],\"xaxis\":\"x\",\"y\":[-59.03219985961914],\"yaxis\":\"y\",\"type\":\"scatter\"},{\"hovertemplate\":\"<b>%{hovertext}</b><br><br>dbn=30Q111<br>0=%{x}<br>1=%{y}<extra></extra>\",\"hovertext\":[\"30Q111\"],\"legendgroup\":\"30Q111\",\"marker\":{\"color\":\"#00cc96\",\"symbol\":\"circle\",\"size\":10},\"mode\":\"markers\",\"name\":\"30Q111\",\"orientation\":\"v\",\"showlegend\":true,\"x\":[-61.20528793334961],\"xaxis\":\"x\",\"y\":[113.95457458496094],\"yaxis\":\"y\",\"type\":\"scatter\"},{\"hovertemplate\":\"<b>%{hovertext}</b><br><br>dbn=30Q112<br>0=%{x}<br>1=%{y}<extra></extra>\",\"hovertext\":[\"30Q112\"],\"legendgroup\":\"30Q112\",\"marker\":{\"color\":\"#ab63fa\",\"symbol\":\"circle\",\"size\":10},\"mode\":\"markers\",\"name\":\"30Q112\",\"orientation\":\"v\",\"showlegend\":true,\"x\":[-68.17472076416016],\"xaxis\":\"x\",\"y\":[-30.207443237304688],\"yaxis\":\"y\",\"type\":\"scatter\"},{\"hovertemplate\":\"<b>%{hovertext}</b><br><br>dbn=30Q122<br>0=%{x}<br>1=%{y}<extra></extra>\",\"hovertext\":[\"30Q122\"],\"legendgroup\":\"30Q122\",\"marker\":{\"color\":\"#FFA15A\",\"symbol\":\"circle\",\"size\":10},\"mode\":\"markers\",\"name\":\"30Q122\",\"orientation\":\"v\",\"showlegend\":true,\"x\":[0.030818115919828415],\"xaxis\":\"x\",\"y\":[29.55611801147461],\"yaxis\":\"y\",\"type\":\"scatter\"},{\"hovertemplate\":\"<b>%{hovertext}</b><br><br>dbn=30Q126<br>0=%{x}<br>1=%{y}<extra></extra>\",\"hovertext\":[\"30Q126\"],\"legendgroup\":\"30Q126\",\"marker\":{\"color\":\"#19d3f3\",\"symbol\":\"circle\",\"size\":10},\"mode\":\"markers\",\"name\":\"30Q126\",\"orientation\":\"v\",\"showlegend\":true,\"x\":[-35.0208625793457],\"xaxis\":\"x\",\"y\":[37.10091781616211],\"yaxis\":\"y\",\"type\":\"scatter\"},{\"hovertemplate\":\"<b>%{hovertext}</b><br><br>dbn=30Q127<br>0=%{x}<br>1=%{y}<extra></extra>\",\"hovertext\":[\"30Q127\"],\"legendgroup\":\"30Q127\",\"marker\":{\"color\":\"#FF6692\",\"symbol\":\"circle\",\"size\":10},\"mode\":\"markers\",\"name\":\"30Q127\",\"orientation\":\"v\",\"showlegend\":true,\"x\":[65.2388916015625],\"xaxis\":\"x\",\"y\":[64.11973571777344],\"yaxis\":\"y\",\"type\":\"scatter\"},{\"hovertemplate\":\"<b>%{hovertext}</b><br><br>dbn=30Q141<br>0=%{x}<br>1=%{y}<extra></extra>\",\"hovertext\":[\"30Q141\"],\"legendgroup\":\"30Q141\",\"marker\":{\"color\":\"#B6E880\",\"symbol\":\"circle\",\"size\":10},\"mode\":\"markers\",\"name\":\"30Q141\",\"orientation\":\"v\",\"showlegend\":true,\"x\":[25.2659912109375],\"xaxis\":\"x\",\"y\":[-105.74429321289062],\"yaxis\":\"y\",\"type\":\"scatter\"},{\"hovertemplate\":\"<b>%{hovertext}</b><br><br>dbn=30Q145<br>0=%{x}<br>1=%{y}<extra></extra>\",\"hovertext\":[\"30Q145\"],\"legendgroup\":\"30Q145\",\"marker\":{\"color\":\"#FF97FF\",\"symbol\":\"circle\",\"size\":10},\"mode\":\"markers\",\"name\":\"30Q145\",\"orientation\":\"v\",\"showlegend\":true,\"x\":[-118.75799560546875],\"xaxis\":\"x\",\"y\":[37.62842559814453],\"yaxis\":\"y\",\"type\":\"scatter\"},{\"hovertemplate\":\"<b>%{hovertext}</b><br><br>dbn=30Q148<br>0=%{x}<br>1=%{y}<extra></extra>\",\"hovertext\":[\"30Q148\"],\"legendgroup\":\"30Q148\",\"marker\":{\"color\":\"#FECB52\",\"symbol\":\"circle\",\"size\":10},\"mode\":\"markers\",\"name\":\"30Q148\",\"orientation\":\"v\",\"showlegend\":true,\"x\":[111.15415954589844],\"xaxis\":\"x\",\"y\":[73.88282012939453],\"yaxis\":\"y\",\"type\":\"scatter\"},{\"hovertemplate\":\"<b>%{hovertext}</b><br><br>dbn=30Q149<br>0=%{x}<br>1=%{y}<extra></extra>\",\"hovertext\":[\"30Q149\"],\"legendgroup\":\"30Q149\",\"marker\":{\"color\":\"#636efa\",\"symbol\":\"circle\",\"size\":10},\"mode\":\"markers\",\"name\":\"30Q149\",\"orientation\":\"v\",\"showlegend\":true,\"x\":[-70.42595672607422],\"xaxis\":\"x\",\"y\":[-99.53623962402344],\"yaxis\":\"y\",\"type\":\"scatter\"},{\"hovertemplate\":\"<b>%{hovertext}</b><br><br>dbn=30Q150<br>0=%{x}<br>1=%{y}<extra></extra>\",\"hovertext\":[\"30Q150\"],\"legendgroup\":\"30Q150\",\"marker\":{\"color\":\"#EF553B\",\"symbol\":\"circle\",\"size\":10},\"mode\":\"markers\",\"name\":\"30Q150\",\"orientation\":\"v\",\"showlegend\":true,\"x\":[86.45878601074219],\"xaxis\":\"x\",\"y\":[-8.667049407958984],\"yaxis\":\"y\",\"type\":\"scatter\"},{\"hovertemplate\":\"<b>%{hovertext}</b><br><br>dbn=30Q151<br>0=%{x}<br>1=%{y}<extra></extra>\",\"hovertext\":[\"30Q151\"],\"legendgroup\":\"30Q151\",\"marker\":{\"color\":\"#00cc96\",\"symbol\":\"circle\",\"size\":10},\"mode\":\"markers\",\"name\":\"30Q151\",\"orientation\":\"v\",\"showlegend\":true,\"x\":[36.18016815185547],\"xaxis\":\"x\",\"y\":[-62.86622619628906],\"yaxis\":\"y\",\"type\":\"scatter\"},{\"hovertemplate\":\"<b>%{hovertext}</b><br><br>dbn=30Q152<br>0=%{x}<br>1=%{y}<extra></extra>\",\"hovertext\":[\"30Q152\"],\"legendgroup\":\"30Q152\",\"marker\":{\"color\":\"#ab63fa\",\"symbol\":\"circle\",\"size\":10},\"mode\":\"markers\",\"name\":\"30Q152\",\"orientation\":\"v\",\"showlegend\":true,\"x\":[76.41704559326172],\"xaxis\":\"x\",\"y\":[-51.36848068237305],\"yaxis\":\"y\",\"type\":\"scatter\"},{\"hovertemplate\":\"<b>%{hovertext}</b><br><br>dbn=30Q166<br>0=%{x}<br>1=%{y}<extra></extra>\",\"hovertext\":[\"30Q166\"],\"legendgroup\":\"30Q166\",\"marker\":{\"color\":\"#FFA15A\",\"symbol\":\"circle\",\"size\":10},\"mode\":\"markers\",\"name\":\"30Q166\",\"orientation\":\"v\",\"showlegend\":true,\"x\":[-21.08528709411621],\"xaxis\":\"x\",\"y\":[-108.41954040527344],\"yaxis\":\"y\",\"type\":\"scatter\"},{\"hovertemplate\":\"<b>%{hovertext}</b><br><br>dbn=30Q171<br>0=%{x}<br>1=%{y}<extra></extra>\",\"hovertext\":[\"30Q171\"],\"legendgroup\":\"30Q171\",\"marker\":{\"color\":\"#19d3f3\",\"symbol\":\"circle\",\"size\":10},\"mode\":\"markers\",\"name\":\"30Q171\",\"orientation\":\"v\",\"showlegend\":true,\"x\":[-120.48741912841797],\"xaxis\":\"x\",\"y\":[-16.499616622924805],\"yaxis\":\"y\",\"type\":\"scatter\"},{\"hovertemplate\":\"<b>%{hovertext}</b><br><br>dbn=30Q204<br>0=%{x}<br>1=%{y}<extra></extra>\",\"hovertext\":[\"30Q204\"],\"legendgroup\":\"30Q204\",\"marker\":{\"color\":\"#FF6692\",\"symbol\":\"circle\",\"size\":10},\"mode\":\"markers\",\"name\":\"30Q204\",\"orientation\":\"v\",\"showlegend\":true,\"x\":[92.8902816772461],\"xaxis\":\"x\",\"y\":[34.23960494995117],\"yaxis\":\"y\",\"type\":\"scatter\"},{\"hovertemplate\":\"<b>%{hovertext}</b><br><br>dbn=30Q212<br>0=%{x}<br>1=%{y}<extra></extra>\",\"hovertext\":[\"30Q212\"],\"legendgroup\":\"30Q212\",\"marker\":{\"color\":\"#B6E880\",\"symbol\":\"circle\",\"size\":10},\"mode\":\"markers\",\"name\":\"30Q212\",\"orientation\":\"v\",\"showlegend\":true,\"x\":[-45.90839767456055],\"xaxis\":\"x\",\"y\":[-66.22764587402344],\"yaxis\":\"y\",\"type\":\"scatter\"},{\"hovertemplate\":\"<b>%{hovertext}</b><br><br>dbn=30Q227<br>0=%{x}<br>1=%{y}<extra></extra>\",\"hovertext\":[\"30Q227\"],\"legendgroup\":\"30Q227\",\"marker\":{\"color\":\"#FF97FF\",\"symbol\":\"circle\",\"size\":10},\"mode\":\"markers\",\"name\":\"30Q227\",\"orientation\":\"v\",\"showlegend\":true,\"x\":[128.93768310546875],\"xaxis\":\"x\",\"y\":[11.126214981079102],\"yaxis\":\"y\",\"type\":\"scatter\"},{\"hovertemplate\":\"<b>%{hovertext}</b><br><br>dbn=30Q230<br>0=%{x}<br>1=%{y}<extra></extra>\",\"hovertext\":[\"30Q230\"],\"legendgroup\":\"30Q230\",\"marker\":{\"color\":\"#FECB52\",\"symbol\":\"circle\",\"size\":10},\"mode\":\"markers\",\"name\":\"30Q230\",\"orientation\":\"v\",\"showlegend\":true,\"x\":[72.6226806640625],\"xaxis\":\"x\",\"y\":[-94.16471862792969],\"yaxis\":\"y\",\"type\":\"scatter\"},{\"hovertemplate\":\"<b>%{hovertext}</b><br><br>dbn=30Q234<br>0=%{x}<br>1=%{y}<extra></extra>\",\"hovertext\":[\"30Q234\"],\"legendgroup\":\"30Q234\",\"marker\":{\"color\":\"#636efa\",\"symbol\":\"circle\",\"size\":10},\"mode\":\"markers\",\"name\":\"30Q234\",\"orientation\":\"v\",\"showlegend\":true,\"x\":[29.758914947509766],\"xaxis\":\"x\",\"y\":[85.4352035522461],\"yaxis\":\"y\",\"type\":\"scatter\"},{\"hovertemplate\":\"<b>%{hovertext}</b><br><br>dbn=30Q235<br>0=%{x}<br>1=%{y}<extra></extra>\",\"hovertext\":[\"30Q235\"],\"legendgroup\":\"30Q235\",\"marker\":{\"color\":\"#EF553B\",\"symbol\":\"circle\",\"size\":10},\"mode\":\"markers\",\"name\":\"30Q235\",\"orientation\":\"v\",\"showlegend\":true,\"x\":[118.44050598144531],\"xaxis\":\"x\",\"y\":[-41.625465393066406],\"yaxis\":\"y\",\"type\":\"scatter\"},{\"hovertemplate\":\"<b>%{hovertext}</b><br><br>dbn=30Q280<br>0=%{x}<br>1=%{y}<extra></extra>\",\"hovertext\":[\"30Q280\"],\"legendgroup\":\"30Q280\",\"marker\":{\"color\":\"#00cc96\",\"symbol\":\"circle\",\"size\":10},\"mode\":\"markers\",\"name\":\"30Q280\",\"orientation\":\"v\",\"showlegend\":true,\"x\":[-4.06807279586792],\"xaxis\":\"x\",\"y\":[-68.2652359008789],\"yaxis\":\"y\",\"type\":\"scatter\"},{\"hovertemplate\":\"<b>%{hovertext}</b><br><br>dbn=30Q286<br>0=%{x}<br>1=%{y}<extra></extra>\",\"hovertext\":[\"30Q286\"],\"legendgroup\":\"30Q286\",\"marker\":{\"color\":\"#ab63fa\",\"symbol\":\"circle\",\"size\":10},\"mode\":\"markers\",\"name\":\"30Q286\",\"orientation\":\"v\",\"showlegend\":true,\"x\":[57.408573150634766],\"xaxis\":\"x\",\"y\":[18.821908950805664],\"yaxis\":\"y\",\"type\":\"scatter\"},{\"hovertemplate\":\"<b>%{hovertext}</b><br><br>dbn=30Q291<br>0=%{x}<br>1=%{y}<extra></extra>\",\"hovertext\":[\"30Q291\"],\"legendgroup\":\"30Q291\",\"marker\":{\"color\":\"#FFA15A\",\"symbol\":\"circle\",\"size\":10},\"mode\":\"markers\",\"name\":\"30Q291\",\"orientation\":\"v\",\"showlegend\":true,\"x\":[-27.828710556030273],\"xaxis\":\"x\",\"y\":[-33.77735137939453],\"yaxis\":\"y\",\"type\":\"scatter\"},{\"hovertemplate\":\"<b>%{hovertext}</b><br><br>dbn=30Q300<br>0=%{x}<br>1=%{y}<extra></extra>\",\"hovertext\":[\"30Q300\"],\"legendgroup\":\"30Q300\",\"marker\":{\"color\":\"#19d3f3\",\"symbol\":\"circle\",\"size\":10},\"mode\":\"markers\",\"name\":\"30Q300\",\"orientation\":\"v\",\"showlegend\":true,\"x\":[-19.298402786254883],\"xaxis\":\"x\",\"y\":[140.61387634277344],\"yaxis\":\"y\",\"type\":\"scatter\"},{\"hovertemplate\":\"<b>%{hovertext}</b><br><br>dbn=30Q329<br>0=%{x}<br>1=%{y}<extra></extra>\",\"hovertext\":[\"30Q329\"],\"legendgroup\":\"30Q329\",\"marker\":{\"color\":\"#FF6692\",\"symbol\":\"circle\",\"size\":10},\"mode\":\"markers\",\"name\":\"30Q329\",\"orientation\":\"v\",\"showlegend\":true,\"x\":[-10.963788986206055],\"xaxis\":\"x\",\"y\":[100.3761215209961],\"yaxis\":\"y\",\"type\":\"scatter\"},{\"hovertemplate\":\"<b>%{hovertext}</b><br><br>dbn=30Q361<br>0=%{x}<br>1=%{y}<extra></extra>\",\"hovertext\":[\"30Q361\"],\"legendgroup\":\"30Q361\",\"marker\":{\"color\":\"#B6E880\",\"symbol\":\"circle\",\"size\":10},\"mode\":\"markers\",\"name\":\"30Q361\",\"orientation\":\"v\",\"showlegend\":true,\"x\":[-95.08902740478516],\"xaxis\":\"x\",\"y\":[81.32396697998047],\"yaxis\":\"y\",\"type\":\"scatter\"},{\"hovertemplate\":\"<b>%{hovertext}</b><br><br>dbn=30Q580<br>0=%{x}<br>1=%{y}<extra></extra>\",\"hovertext\":[\"30Q580\"],\"legendgroup\":\"30Q580\",\"marker\":{\"color\":\"#FF97FF\",\"symbol\":\"circle\",\"size\":10},\"mode\":\"markers\",\"name\":\"30Q580\",\"orientation\":\"v\",\"showlegend\":true,\"x\":[-45.22240447998047],\"xaxis\":\"x\",\"y\":[74.9135513305664],\"yaxis\":\"y\",\"type\":\"scatter\"}],                        {\"template\":{\"data\":{\"bar\":[{\"error_x\":{\"color\":\"#2a3f5f\"},\"error_y\":{\"color\":\"#2a3f5f\"},\"marker\":{\"line\":{\"color\":\"#E5ECF6\",\"width\":0.5},\"pattern\":{\"fillmode\":\"overlay\",\"size\":10,\"solidity\":0.2}},\"type\":\"bar\"}],\"barpolar\":[{\"marker\":{\"line\":{\"color\":\"#E5ECF6\",\"width\":0.5},\"pattern\":{\"fillmode\":\"overlay\",\"size\":10,\"solidity\":0.2}},\"type\":\"barpolar\"}],\"carpet\":[{\"aaxis\":{\"endlinecolor\":\"#2a3f5f\",\"gridcolor\":\"white\",\"linecolor\":\"white\",\"minorgridcolor\":\"white\",\"startlinecolor\":\"#2a3f5f\"},\"baxis\":{\"endlinecolor\":\"#2a3f5f\",\"gridcolor\":\"white\",\"linecolor\":\"white\",\"minorgridcolor\":\"white\",\"startlinecolor\":\"#2a3f5f\"},\"type\":\"carpet\"}],\"choropleth\":[{\"colorbar\":{\"outlinewidth\":0,\"ticks\":\"\"},\"type\":\"choropleth\"}],\"contour\":[{\"colorbar\":{\"outlinewidth\":0,\"ticks\":\"\"},\"colorscale\":[[0.0,\"#0d0887\"],[0.1111111111111111,\"#46039f\"],[0.2222222222222222,\"#7201a8\"],[0.3333333333333333,\"#9c179e\"],[0.4444444444444444,\"#bd3786\"],[0.5555555555555556,\"#d8576b\"],[0.6666666666666666,\"#ed7953\"],[0.7777777777777778,\"#fb9f3a\"],[0.8888888888888888,\"#fdca26\"],[1.0,\"#f0f921\"]],\"type\":\"contour\"}],\"contourcarpet\":[{\"colorbar\":{\"outlinewidth\":0,\"ticks\":\"\"},\"type\":\"contourcarpet\"}],\"heatmap\":[{\"colorbar\":{\"outlinewidth\":0,\"ticks\":\"\"},\"colorscale\":[[0.0,\"#0d0887\"],[0.1111111111111111,\"#46039f\"],[0.2222222222222222,\"#7201a8\"],[0.3333333333333333,\"#9c179e\"],[0.4444444444444444,\"#bd3786\"],[0.5555555555555556,\"#d8576b\"],[0.6666666666666666,\"#ed7953\"],[0.7777777777777778,\"#fb9f3a\"],[0.8888888888888888,\"#fdca26\"],[1.0,\"#f0f921\"]],\"type\":\"heatmap\"}],\"heatmapgl\":[{\"colorbar\":{\"outlinewidth\":0,\"ticks\":\"\"},\"colorscale\":[[0.0,\"#0d0887\"],[0.1111111111111111,\"#46039f\"],[0.2222222222222222,\"#7201a8\"],[0.3333333333333333,\"#9c179e\"],[0.4444444444444444,\"#bd3786\"],[0.5555555555555556,\"#d8576b\"],[0.6666666666666666,\"#ed7953\"],[0.7777777777777778,\"#fb9f3a\"],[0.8888888888888888,\"#fdca26\"],[1.0,\"#f0f921\"]],\"type\":\"heatmapgl\"}],\"histogram\":[{\"marker\":{\"pattern\":{\"fillmode\":\"overlay\",\"size\":10,\"solidity\":0.2}},\"type\":\"histogram\"}],\"histogram2d\":[{\"colorbar\":{\"outlinewidth\":0,\"ticks\":\"\"},\"colorscale\":[[0.0,\"#0d0887\"],[0.1111111111111111,\"#46039f\"],[0.2222222222222222,\"#7201a8\"],[0.3333333333333333,\"#9c179e\"],[0.4444444444444444,\"#bd3786\"],[0.5555555555555556,\"#d8576b\"],[0.6666666666666666,\"#ed7953\"],[0.7777777777777778,\"#fb9f3a\"],[0.8888888888888888,\"#fdca26\"],[1.0,\"#f0f921\"]],\"type\":\"histogram2d\"}],\"histogram2dcontour\":[{\"colorbar\":{\"outlinewidth\":0,\"ticks\":\"\"},\"colorscale\":[[0.0,\"#0d0887\"],[0.1111111111111111,\"#46039f\"],[0.2222222222222222,\"#7201a8\"],[0.3333333333333333,\"#9c179e\"],[0.4444444444444444,\"#bd3786\"],[0.5555555555555556,\"#d8576b\"],[0.6666666666666666,\"#ed7953\"],[0.7777777777777778,\"#fb9f3a\"],[0.8888888888888888,\"#fdca26\"],[1.0,\"#f0f921\"]],\"type\":\"histogram2dcontour\"}],\"mesh3d\":[{\"colorbar\":{\"outlinewidth\":0,\"ticks\":\"\"},\"type\":\"mesh3d\"}],\"parcoords\":[{\"line\":{\"colorbar\":{\"outlinewidth\":0,\"ticks\":\"\"}},\"type\":\"parcoords\"}],\"pie\":[{\"automargin\":true,\"type\":\"pie\"}],\"scatter\":[{\"marker\":{\"colorbar\":{\"outlinewidth\":0,\"ticks\":\"\"}},\"type\":\"scatter\"}],\"scatter3d\":[{\"line\":{\"colorbar\":{\"outlinewidth\":0,\"ticks\":\"\"}},\"marker\":{\"colorbar\":{\"outlinewidth\":0,\"ticks\":\"\"}},\"type\":\"scatter3d\"}],\"scattercarpet\":[{\"marker\":{\"colorbar\":{\"outlinewidth\":0,\"ticks\":\"\"}},\"type\":\"scattercarpet\"}],\"scattergeo\":[{\"marker\":{\"colorbar\":{\"outlinewidth\":0,\"ticks\":\"\"}},\"type\":\"scattergeo\"}],\"scattergl\":[{\"marker\":{\"colorbar\":{\"outlinewidth\":0,\"ticks\":\"\"}},\"type\":\"scattergl\"}],\"scattermapbox\":[{\"marker\":{\"colorbar\":{\"outlinewidth\":0,\"ticks\":\"\"}},\"type\":\"scattermapbox\"}],\"scatterpolar\":[{\"marker\":{\"colorbar\":{\"outlinewidth\":0,\"ticks\":\"\"}},\"type\":\"scatterpolar\"}],\"scatterpolargl\":[{\"marker\":{\"colorbar\":{\"outlinewidth\":0,\"ticks\":\"\"}},\"type\":\"scatterpolargl\"}],\"scatterternary\":[{\"marker\":{\"colorbar\":{\"outlinewidth\":0,\"ticks\":\"\"}},\"type\":\"scatterternary\"}],\"surface\":[{\"colorbar\":{\"outlinewidth\":0,\"ticks\":\"\"},\"colorscale\":[[0.0,\"#0d0887\"],[0.1111111111111111,\"#46039f\"],[0.2222222222222222,\"#7201a8\"],[0.3333333333333333,\"#9c179e\"],[0.4444444444444444,\"#bd3786\"],[0.5555555555555556,\"#d8576b\"],[0.6666666666666666,\"#ed7953\"],[0.7777777777777778,\"#fb9f3a\"],[0.8888888888888888,\"#fdca26\"],[1.0,\"#f0f921\"]],\"type\":\"surface\"}],\"table\":[{\"cells\":{\"fill\":{\"color\":\"#EBF0F8\"},\"line\":{\"color\":\"white\"}},\"header\":{\"fill\":{\"color\":\"#C8D4E3\"},\"line\":{\"color\":\"white\"}},\"type\":\"table\"}]},\"layout\":{\"annotationdefaults\":{\"arrowcolor\":\"#2a3f5f\",\"arrowhead\":0,\"arrowwidth\":1},\"autotypenumbers\":\"strict\",\"coloraxis\":{\"colorbar\":{\"outlinewidth\":0,\"ticks\":\"\"}},\"colorscale\":{\"diverging\":[[0,\"#8e0152\"],[0.1,\"#c51b7d\"],[0.2,\"#de77ae\"],[0.3,\"#f1b6da\"],[0.4,\"#fde0ef\"],[0.5,\"#f7f7f7\"],[0.6,\"#e6f5d0\"],[0.7,\"#b8e186\"],[0.8,\"#7fbc41\"],[0.9,\"#4d9221\"],[1,\"#276419\"]],\"sequential\":[[0.0,\"#0d0887\"],[0.1111111111111111,\"#46039f\"],[0.2222222222222222,\"#7201a8\"],[0.3333333333333333,\"#9c179e\"],[0.4444444444444444,\"#bd3786\"],[0.5555555555555556,\"#d8576b\"],[0.6666666666666666,\"#ed7953\"],[0.7777777777777778,\"#fb9f3a\"],[0.8888888888888888,\"#fdca26\"],[1.0,\"#f0f921\"]],\"sequentialminus\":[[0.0,\"#0d0887\"],[0.1111111111111111,\"#46039f\"],[0.2222222222222222,\"#7201a8\"],[0.3333333333333333,\"#9c179e\"],[0.4444444444444444,\"#bd3786\"],[0.5555555555555556,\"#d8576b\"],[0.6666666666666666,\"#ed7953\"],[0.7777777777777778,\"#fb9f3a\"],[0.8888888888888888,\"#fdca26\"],[1.0,\"#f0f921\"]]},\"colorway\":[\"#636efa\",\"#EF553B\",\"#00cc96\",\"#ab63fa\",\"#FFA15A\",\"#19d3f3\",\"#FF6692\",\"#B6E880\",\"#FF97FF\",\"#FECB52\"],\"font\":{\"color\":\"#2a3f5f\"},\"geo\":{\"bgcolor\":\"white\",\"lakecolor\":\"white\",\"landcolor\":\"#E5ECF6\",\"showlakes\":true,\"showland\":true,\"subunitcolor\":\"white\"},\"hoverlabel\":{\"align\":\"left\"},\"hovermode\":\"closest\",\"mapbox\":{\"style\":\"light\"},\"paper_bgcolor\":\"white\",\"plot_bgcolor\":\"#E5ECF6\",\"polar\":{\"angularaxis\":{\"gridcolor\":\"white\",\"linecolor\":\"white\",\"ticks\":\"\"},\"bgcolor\":\"#E5ECF6\",\"radialaxis\":{\"gridcolor\":\"white\",\"linecolor\":\"white\",\"ticks\":\"\"}},\"scene\":{\"xaxis\":{\"backgroundcolor\":\"#E5ECF6\",\"gridcolor\":\"white\",\"gridwidth\":2,\"linecolor\":\"white\",\"showbackground\":true,\"ticks\":\"\",\"zerolinecolor\":\"white\"},\"yaxis\":{\"backgroundcolor\":\"#E5ECF6\",\"gridcolor\":\"white\",\"gridwidth\":2,\"linecolor\":\"white\",\"showbackground\":true,\"ticks\":\"\",\"zerolinecolor\":\"white\"},\"zaxis\":{\"backgroundcolor\":\"#E5ECF6\",\"gridcolor\":\"white\",\"gridwidth\":2,\"linecolor\":\"white\",\"showbackground\":true,\"ticks\":\"\",\"zerolinecolor\":\"white\"}},\"shapedefaults\":{\"line\":{\"color\":\"#2a3f5f\"}},\"ternary\":{\"aaxis\":{\"gridcolor\":\"white\",\"linecolor\":\"white\",\"ticks\":\"\"},\"baxis\":{\"gridcolor\":\"white\",\"linecolor\":\"white\",\"ticks\":\"\"},\"bgcolor\":\"#E5ECF6\",\"caxis\":{\"gridcolor\":\"white\",\"linecolor\":\"white\",\"ticks\":\"\"}},\"title\":{\"x\":0.05},\"xaxis\":{\"automargin\":true,\"gridcolor\":\"white\",\"linecolor\":\"white\",\"ticks\":\"\",\"title\":{\"standoff\":15},\"zerolinecolor\":\"white\",\"zerolinewidth\":2},\"yaxis\":{\"automargin\":true,\"gridcolor\":\"white\",\"linecolor\":\"white\",\"ticks\":\"\",\"title\":{\"standoff\":15},\"zerolinecolor\":\"white\",\"zerolinewidth\":2}}},\"xaxis\":{\"anchor\":\"y\",\"domain\":[0.0,1.0],\"title\":{\"text\":\"0\"}},\"yaxis\":{\"anchor\":\"x\",\"domain\":[0.0,1.0],\"title\":{\"text\":\"1\"}},\"legend\":{\"title\":{\"text\":\"dbn\"},\"tracegroupgap\":0},\"margin\":{\"t\":60}},                        {\"responsive\": true}                    ).then(function(){\n",
       "                            \n",
       "var gd = document.getElementById('e6922eed-aab9-482d-8f69-4cf95d8795c8');\n",
       "var x = new MutationObserver(function (mutations, observer) {{\n",
       "        var display = window.getComputedStyle(gd).display;\n",
       "        if (!display || display === 'none') {{\n",
       "            console.log([gd, 'removed!']);\n",
       "            Plotly.purge(gd);\n",
       "            observer.disconnect();\n",
       "        }}\n",
       "}});\n",
       "\n",
       "// Listen for the removal of the full notebook cells\n",
       "var notebookContainer = gd.closest('#notebook-container');\n",
       "if (notebookContainer) {{\n",
       "    x.observe(notebookContainer, {childList: true});\n",
       "}}\n",
       "\n",
       "// Listen for the clearing of the current output cell\n",
       "var outputEl = gd.closest('.output');\n",
       "if (outputEl) {{\n",
       "    x.observe(outputEl, {childList: true});\n",
       "}}\n",
       "\n",
       "                        })                };                });            </script>        </div>"
      ]
     },
     "metadata": {},
     "output_type": "display_data"
    }
   ],
   "source": [
    "# t-SNE plot with plotly \n",
    "fig = px.scatter(X_embedded, x=0, y=1, \n",
    "                 color=\"dbn\", hover_name=\"dbn\")\n",
    "\n",
    "fig.update_traces(marker_size=10)\n",
    "\n",
    "fig.show()"
   ]
  },
  {
   "cell_type": "code",
   "execution_count": null,
   "id": "6a6addf1",
   "metadata": {},
   "outputs": [],
   "source": []
  }
 ],
 "metadata": {
  "kernelspec": {
   "display_name": "Python 3",
   "language": "python",
   "name": "python3"
  },
  "language_info": {
   "codemirror_mode": {
    "name": "ipython",
    "version": 3
   },
   "file_extension": ".py",
   "mimetype": "text/x-python",
   "name": "python",
   "nbconvert_exporter": "python",
   "pygments_lexer": "ipython3",
   "version": "3.8.8"
  }
 },
 "nbformat": 4,
 "nbformat_minor": 5
}
